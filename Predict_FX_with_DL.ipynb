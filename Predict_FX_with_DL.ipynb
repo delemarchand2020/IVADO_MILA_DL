{
  "nbformat": 4,
  "nbformat_minor": 0,
  "metadata": {
    "colab": {
      "name": "Predict_FX_with_DL",
      "provenance": [],
      "collapsed_sections": [],
      "toc_visible": true,
      "authorship_tag": "ABX9TyMqk0g9kWjG2FRFOkhs5o0X",
      "include_colab_link": true
    },
    "kernelspec": {
      "name": "python3",
      "display_name": "Python 3"
    },
    "language_info": {
      "name": "python"
    },
    "accelerator": "GPU"
  },
  "cells": [
    {
      "cell_type": "markdown",
      "metadata": {
        "id": "view-in-github",
        "colab_type": "text"
      },
      "source": [
        "<a href=\"https://colab.research.google.com/github/delemarchand2020/IVADO_MILA_DL/blob/main/Predict_FX_with_DL.ipynb\" target=\"_parent\"><img src=\"https://colab.research.google.com/assets/colab-badge.svg\" alt=\"Open In Colab\"/></a>"
      ]
    },
    {
      "cell_type": "markdown",
      "metadata": {
        "id": "E6uQMizy7KeX"
      },
      "source": [
        "#Projet d'utilisation des modèles RNN pour la prédiction des taux de change et comparaison avec le modèle de marche aléatoire"
      ]
    },
    {
      "cell_type": "markdown",
      "metadata": {
        "id": "IK2VGJ_F867r"
      },
      "source": [
        "Pour les besoins de ce projet, on récupère les historiques journaliers des taux de change des 10 principales devises depuis 1980, on bâtit des séquences de 7 jours consécutifs dont la cible à prédire est le 8 ieme jour. On utilise une technique de \"bootstrap\" pour faire des prédictions, par la suite, sur plusieurs jours : à partir d'une séquence initiale de 7 jours, on prévoit le 8 iéme jour avec RNN puis on soumet au RNN une nouvelle séquence de 7 jours incluant la dernière prévision effectuée et de proche en proche on effectue des prévisions sur 2, 3, ... n jours.\n",
        "\n",
        "Le RNN est alimenté en apprentissage avec de telles séquences sur N devises et du point de vue du RNN, on suppose que ces devises suivent le même processus. Dès lors, on pourra effectuer des prévisions sur n'importe quelle série chronologique suivant ce même processus.\n",
        "\n",
        "Pour comparer nos prévisions et évaluer la performance de prévision du RNN, on considére les 2 modèles de références suivants: \n",
        "\n",
        "\n",
        ">(1) \"random walk\" : la prévision du 8 ième jour est le taux de change observé le 7 ième jour (c'est le modèle de marche aléatoire). Ce modèle dit que la meilleure prévision du taux de change dans le futur (1, 2, ... ou 7 jours) est le taux de change qui prévaut aujourd'hui. En d'autres termes, le meilleur estimateur du taux futur est le taux comptant prévalant.\n",
        "\n",
        ">(2) moyenne mobile : la prévision du 8 ième jour est la moyenne des taux des 7 derniers jours. \n",
        "\n",
        "Ces 2 modèles ne requierent aucune autre information contextuelle.\n",
        "\n",
        "Le Mean-Squared-Error, écart entre la valeur réellement observée et la prévision des différents modèles (\"random walk\", moyenne mobile, RNN), donnera une bonne indication de la performance relative des modèles étudiés.\n",
        "\n",
        "Dans la littérature en finance internationale, il est connu que le modèle de marche aléatoire (modèle 1) est très difficile à battre. \n",
        "\n",
        "Est-ce que le RNN aura de la difficulté à le battre également ? C'est la question à laquelle ce projet tente de répondre.\n",
        "\n",
        "**Notes :**\n",
        "\n",
        ">(a) quelques portions de code ont été copié des tutoriaux du MILA (cours IVADO/MILA DeepLearning 2021).\n",
        "Voir les sources [ici](https://github.com/mila-iqia/ivado-mila-dl-school-2021/tree/main/tutorials).\n",
        "\n",
        ">(b) références des articles IA/DL: \n",
        "- https://www.researchgate.net/publication/315415407_Deep_networks_for_predicting_direction_of_change_in_foreign_exchange_rates\n",
        "- https://towardsdatascience.com/stock-prediction-using-recurrent-neural-networks-c03637437578\n",
        "- https://pub.towardsai.net/bitcoin-price-prediction-with-rnn-and-lstm-in-python-f912d57c483e\n",
        "\n",
        ">(c) références des articles de finance:\n",
        "- [Meese & Rogoff (1983)](http://lien.uqam.ca/YjOACsY)\n",
        "- [Rossi (2013)](http://lien.uqam.ca/fXxa052)\n",
        "- [Engel, Mark & West (2012)](http://www.nber.org/papers/w18382.pdf)"
      ]
    },
    {
      "cell_type": "markdown",
      "metadata": {
        "id": "A-ivciiY37cu"
      },
      "source": [
        "# Initialisation"
      ]
    },
    {
      "cell_type": "code",
      "metadata": {
        "colab": {
          "base_uri": "https://localhost:8080/"
        },
        "id": "v-d4sPbB4Cb3",
        "outputId": "962c183f-effe-4d4b-b3bc-d166b2088334"
      },
      "source": [
        "!pip3 install torch"
      ],
      "execution_count": 90,
      "outputs": [
        {
          "output_type": "stream",
          "text": [
            "Requirement already satisfied: torch in /usr/local/lib/python3.7/dist-packages (1.8.1+cu101)\n",
            "Requirement already satisfied: typing-extensions in /usr/local/lib/python3.7/dist-packages (from torch) (3.7.4.3)\n",
            "Requirement already satisfied: numpy in /usr/local/lib/python3.7/dist-packages (from torch) (1.19.5)\n"
          ],
          "name": "stdout"
        }
      ]
    },
    {
      "cell_type": "code",
      "metadata": {
        "colab": {
          "base_uri": "https://localhost:8080/"
        },
        "id": "hTciBxXi4EOC",
        "outputId": "6e09a1ac-e6f2-446e-f7a8-48688e410b63"
      },
      "source": [
        "import torch\n",
        "\n",
        "use_gpu = torch.cuda.is_available()\n",
        "device = torch.device(\"cuda:0\" if use_gpu else \"cpu\")\n",
        "\n",
        "print(\"Torch version: \", torch.__version__)\n",
        "print(\"GPU Available: {}\".format(use_gpu))"
      ],
      "execution_count": 91,
      "outputs": [
        {
          "output_type": "stream",
          "text": [
            "Torch version:  1.8.1+cu101\n",
            "GPU Available: True\n"
          ],
          "name": "stdout"
        }
      ]
    },
    {
      "cell_type": "code",
      "metadata": {
        "id": "W7504uqQLQD1"
      },
      "source": [
        "import torch.nn as nn\n",
        "import torch.nn.functional as F\n",
        "import torch.nn.init as init\n",
        "import torch.optim as optim\n",
        "\n",
        "from torch.utils.data import DataLoader, TensorDataset"
      ],
      "execution_count": 92,
      "outputs": []
    },
    {
      "cell_type": "code",
      "metadata": {
        "id": "dZhV8De44QEy"
      },
      "source": [
        "import pandas as pd\n",
        "import datetime\n",
        "import matplotlib.pyplot as plt\n",
        "import numpy as np"
      ],
      "execution_count": 93,
      "outputs": []
    },
    {
      "cell_type": "code",
      "metadata": {
        "id": "GId9noi2Mjny"
      },
      "source": [
        "import copy\n",
        "import gc\n",
        "import math\n",
        "import time\n",
        "import os"
      ],
      "execution_count": 94,
      "outputs": []
    },
    {
      "cell_type": "markdown",
      "metadata": {
        "id": "7dUKoG5keiFF"
      },
      "source": [
        "# Import et préparation des données"
      ]
    },
    {
      "cell_type": "markdown",
      "metadata": {
        "id": "cHMdg2K7jKLH"
      },
      "source": [
        "## Chargement du fichier et nettoyage des données\n"
      ]
    },
    {
      "cell_type": "code",
      "metadata": {
        "colab": {
          "base_uri": "https://localhost:8080/",
          "height": 314
        },
        "id": "djD_XUWmffYr",
        "outputId": "e3c6fe61-809c-4802-a93a-c21907e327fd"
      },
      "source": [
        "url_data_source = 'https://github.com/delemarchand2020/IVADO_MILA_DL/raw/main/FX_HFData.xlsx'\n",
        "df = pd.read_excel(url_data_source, sheet_name='Daily All',\n",
        "                   dtype={' ': datetime.date, 'USDCAD Curncy': float, \n",
        "                          'EURUSD Curncy': float, 'GBPUSD Curncy': float,\n",
        "                          'USDJPY Curncy':float, 'USDCHF Curncy':float,\n",
        "                          'AUDUSD Curncy':float,'USDSEK Curncy':float,\n",
        "                          'USDNOK Curncy':float,'NZDUSD Curncy':float, \n",
        "                          'USDSGD Curncy':float })\n",
        "df = df.drop(columns=['USDSGD Curncy'])\n",
        "df = df.dropna()\n",
        "df.columns = ['date', 'USDCAD','EURUSD', 'GBPUSD','USDJPY','USDCHF','AUDUSD','USDSEK',\n",
        "              'USDNOK','NZDUSD']\n",
        "df.describe()"
      ],
      "execution_count": 95,
      "outputs": [
        {
          "output_type": "execute_result",
          "data": {
            "text/html": [
              "<div>\n",
              "<style scoped>\n",
              "    .dataframe tbody tr th:only-of-type {\n",
              "        vertical-align: middle;\n",
              "    }\n",
              "\n",
              "    .dataframe tbody tr th {\n",
              "        vertical-align: top;\n",
              "    }\n",
              "\n",
              "    .dataframe thead th {\n",
              "        text-align: right;\n",
              "    }\n",
              "</style>\n",
              "<table border=\"1\" class=\"dataframe\">\n",
              "  <thead>\n",
              "    <tr style=\"text-align: right;\">\n",
              "      <th></th>\n",
              "      <th>USDCAD</th>\n",
              "      <th>EURUSD</th>\n",
              "      <th>GBPUSD</th>\n",
              "      <th>USDJPY</th>\n",
              "      <th>USDCHF</th>\n",
              "      <th>AUDUSD</th>\n",
              "      <th>USDSEK</th>\n",
              "      <th>USDNOK</th>\n",
              "      <th>NZDUSD</th>\n",
              "    </tr>\n",
              "  </thead>\n",
              "  <tbody>\n",
              "    <tr>\n",
              "      <th>count</th>\n",
              "      <td>10596.000000</td>\n",
              "      <td>10596.000000</td>\n",
              "      <td>10596.000000</td>\n",
              "      <td>10596.000000</td>\n",
              "      <td>10596.000000</td>\n",
              "      <td>10596.000000</td>\n",
              "      <td>10596.000000</td>\n",
              "      <td>10596.000000</td>\n",
              "      <td>10596.000000</td>\n",
              "    </tr>\n",
              "    <tr>\n",
              "      <th>mean</th>\n",
              "      <td>1.264218</td>\n",
              "      <td>1.172420</td>\n",
              "      <td>1.611962</td>\n",
              "      <td>131.016776</td>\n",
              "      <td>1.374366</td>\n",
              "      <td>0.786031</td>\n",
              "      <td>7.446277</td>\n",
              "      <td>7.043842</td>\n",
              "      <td>0.652753</td>\n",
              "    </tr>\n",
              "    <tr>\n",
              "      <th>std</th>\n",
              "      <td>0.150479</td>\n",
              "      <td>0.175264</td>\n",
              "      <td>0.228563</td>\n",
              "      <td>45.598143</td>\n",
              "      <td>0.396077</td>\n",
              "      <td>0.146864</td>\n",
              "      <td>1.305758</td>\n",
              "      <td>1.130249</td>\n",
              "      <td>0.119710</td>\n",
              "    </tr>\n",
              "    <tr>\n",
              "      <th>min</th>\n",
              "      <td>0.920350</td>\n",
              "      <td>0.644370</td>\n",
              "      <td>1.052000</td>\n",
              "      <td>75.824000</td>\n",
              "      <td>0.720880</td>\n",
              "      <td>0.478950</td>\n",
              "      <td>4.106000</td>\n",
              "      <td>4.793000</td>\n",
              "      <td>0.391450</td>\n",
              "    </tr>\n",
              "    <tr>\n",
              "      <th>25%</th>\n",
              "      <td>1.163500</td>\n",
              "      <td>1.082043</td>\n",
              "      <td>1.474000</td>\n",
              "      <td>105.825750</td>\n",
              "      <td>1.005525</td>\n",
              "      <td>0.698897</td>\n",
              "      <td>6.515923</td>\n",
              "      <td>6.184220</td>\n",
              "      <td>0.567100</td>\n",
              "    </tr>\n",
              "    <tr>\n",
              "      <th>50%</th>\n",
              "      <td>1.270555</td>\n",
              "      <td>1.182050</td>\n",
              "      <td>1.589665</td>\n",
              "      <td>115.897500</td>\n",
              "      <td>1.313500</td>\n",
              "      <td>0.759700</td>\n",
              "      <td>7.419900</td>\n",
              "      <td>6.868375</td>\n",
              "      <td>0.656500</td>\n",
              "    </tr>\n",
              "    <tr>\n",
              "      <th>75%</th>\n",
              "      <td>1.365112</td>\n",
              "      <td>1.297970</td>\n",
              "      <td>1.722000</td>\n",
              "      <td>133.630000</td>\n",
              "      <td>1.570475</td>\n",
              "      <td>0.868263</td>\n",
              "      <td>8.324337</td>\n",
              "      <td>7.833502</td>\n",
              "      <td>0.720965</td>\n",
              "    </tr>\n",
              "    <tr>\n",
              "      <th>max</th>\n",
              "      <td>1.613500</td>\n",
              "      <td>1.599130</td>\n",
              "      <td>2.446000</td>\n",
              "      <td>277.650000</td>\n",
              "      <td>2.924500</td>\n",
              "      <td>1.189000</td>\n",
              "      <td>11.026000</td>\n",
              "      <td>11.705130</td>\n",
              "      <td>0.992700</td>\n",
              "    </tr>\n",
              "  </tbody>\n",
              "</table>\n",
              "</div>"
            ],
            "text/plain": [
              "             USDCAD        EURUSD  ...        USDNOK        NZDUSD\n",
              "count  10596.000000  10596.000000  ...  10596.000000  10596.000000\n",
              "mean       1.264218      1.172420  ...      7.043842      0.652753\n",
              "std        0.150479      0.175264  ...      1.130249      0.119710\n",
              "min        0.920350      0.644370  ...      4.793000      0.391450\n",
              "25%        1.163500      1.082043  ...      6.184220      0.567100\n",
              "50%        1.270555      1.182050  ...      6.868375      0.656500\n",
              "75%        1.365112      1.297970  ...      7.833502      0.720965\n",
              "max        1.613500      1.599130  ...     11.705130      0.992700\n",
              "\n",
              "[8 rows x 9 columns]"
            ]
          },
          "metadata": {
            "tags": []
          },
          "execution_count": 95
        }
      ]
    },
    {
      "cell_type": "code",
      "metadata": {
        "colab": {
          "base_uri": "https://localhost:8080/",
          "height": 297
        },
        "id": "CD_forPKi9Wf",
        "outputId": "d32fe5df-c77e-468a-aeca-48c0d6da0707"
      },
      "source": [
        "plt.figure()\n",
        "plt.plot(df['date'],df['USDCAD'], label='USDCAD')\n",
        "plt.plot(df['date'],df['EURUSD'], label='EURUSD')\n",
        "plt.plot(df['date'],df['GBPUSD'], label='GBPUSD')\n",
        "plt.plot(df['date'],df['USDJPY']/100, label='USDJPY')\n",
        "plt.plot(df['date'],df['USDCHF'], label='USDCHF')\n",
        "plt.xlabel('date')\n",
        "plt.ylabel('Fx Price')\n",
        "plt.legend()"
      ],
      "execution_count": 96,
      "outputs": [
        {
          "output_type": "execute_result",
          "data": {
            "text/plain": [
              "<matplotlib.legend.Legend at 0x7fc1e1b52250>"
            ]
          },
          "metadata": {
            "tags": []
          },
          "execution_count": 96
        },
        {
          "output_type": "display_data",
          "data": {
            "image/png": "[encoded data removed]",
            "text/plain": [
              "<Figure size 432x288 with 1 Axes>"
            ]
          },
          "metadata": {
            "tags": [],
            "needs_background": "light"
          }
        }
      ]
    },
    {
      "cell_type": "markdown",
      "metadata": {
        "id": "ID44zEMkp3kQ"
      },
      "source": [
        "## Création des datasets (train, validate et test)"
      ]
    },
    {
      "cell_type": "markdown",
      "metadata": {
        "id": "uspAyu8n-mt9"
      },
      "source": [
        "On divise le dataset en 3 parties:\n",
        "\n",
        "<ol>\n",
        "<li> <b> Train</b> (60% du dataset): utilisé pour entraîner le modèle. </li>   \n",
        "<li> <b> Validation</b> (20% du dataset): utilisé pour évaluer les \"hyper-parameters\", c'est à dire les paramètres intrinsèques au bon apprentissage. </li>   \n",
        "<li> <b> Test</b> (20% du dataset): utilisé pour évaluer la généralisation de la performance sur des données hors apprentissage. </li>\n",
        "</ol>"
      ]
    },
    {
      "cell_type": "markdown",
      "metadata": {
        "id": "0It9USfV9hu2"
      },
      "source": [
        "On créé les séquences d'entrées et de sorties telles que les 7 premiers prix journaliers sont les séquences d'entrée et le huitieme est la cible à prédire !\n",
        "\n",
        "Puis, on \"standardise\" les jeux de données pour faciliter l'apprentissage RNN."
      ]
    },
    {
      "cell_type": "code",
      "metadata": {
        "id": "2BV7WRWH0BqC"
      },
      "source": [
        "def split_x_y_in_torch(dfs,seq_len):\n",
        "    X = []\n",
        "    Y = []\n",
        "    for row in dfs:\n",
        "      X.append([row[0:seq_len-1]])\n",
        "      Y.append([row[seq_len-1]])\n",
        "    X = np.array(X)\n",
        "    Y = np.array(Y)\n",
        "    return torch.from_numpy(X.transpose(0,2,1)).float(), torch.from_numpy(Y).float()"
      ],
      "execution_count": 97,
      "outputs": []
    },
    {
      "cell_type": "code",
      "metadata": {
        "id": "4wqX8nx9CWy3"
      },
      "source": [
        "def standardize(X, mean=None, std=None):\n",
        "    \"\"\"The function standardizes the X tensor. \n",
        "    Args:\n",
        "      X: torch.Tensor.\n",
        "    \n",
        "    Returns:\n",
        "      Xs: torch.Tensor standardize.\n",
        "      mean: float, the mean of X.\n",
        "      stdev: float, the stdev of X.\n",
        "    \"\"\"\n",
        "    \n",
        "    X=X.float()\n",
        "\n",
        "    if mean == None:\n",
        "      mean = torch.mean(X)\n",
        "    if std == None:\n",
        "      std = torch.std(X)\n",
        "      \n",
        "    Xs = (X-mean) / std\n",
        "\n",
        "    return Xs, mean, std"
      ],
      "execution_count": 98,
      "outputs": []
    },
    {
      "cell_type": "code",
      "metadata": {
        "id": "89G0kQl5p7v6"
      },
      "source": [
        "def create_datasets(seq_len=8, name_serie='USDCAD'):\n",
        "    s = pd.Series(df[name_serie].values) # USDCAD ou EURUSD ou GBPUSD\n",
        "\n",
        "    arr = [s.shift(x).values[::-1][:seq_len] for x in range(len(s))[::-1]]\n",
        "    dfs = []\n",
        "    for row in arr:\n",
        "      dfs.append(row[::-1])\n",
        "    dfs = dfs[seq_len-1:]\n",
        "\n",
        "    train, validate, test = np.split(dfs, [int(.6*len(dfs)), int(.8*len(dfs))])\n",
        "\n",
        "    X_train, y_train = split_x_y_in_torch(train,seq_len)\n",
        "    X_validate, y_validate = split_x_y_in_torch(validate,seq_len)\n",
        "    X_test, y_test = split_x_y_in_torch(test,seq_len)\n",
        "\n",
        "    mean = np.mean(dfs)\n",
        "    std = np.std(dfs)\n",
        "\n",
        "    Xs_train, Xs_train_mean, Xs_train_std = standardize(X_train, mean, std)\n",
        "    ys_train, ys_train_mean, ys_train_std = standardize(y_train, mean, std)\n",
        "\n",
        "    Xs_validate, Xs_validate_mean, Xs_validate_std = standardize(X_validate, mean, std)\n",
        "    ys_validate, ys_validate_mean, ys_validate_std = standardize(y_validate, mean, std)\n",
        "\n",
        "    Xs_test, Xs_test_mean, Xs_test_std = standardize(X_test, mean, std)\n",
        "    ys_test, ys_test_mean, ys_test_std = standardize(y_test, mean, std)\n",
        "\n",
        "    return [Xs_train,ys_train], [Xs_validate,ys_validate], [Xs_test,ys_test], [mean, std]"
      ],
      "execution_count": 99,
      "outputs": []
    },
    {
      "cell_type": "markdown",
      "metadata": {
        "id": "vgLXIAUbJ9Wi"
      },
      "source": [
        "# Implémentation des modèles RNN, LSTM"
      ]
    },
    {
      "cell_type": "markdown",
      "metadata": {
        "id": "0MpnbtHjLaKg"
      },
      "source": [
        "## Modèle RNN\n",
        "Implementation d'un modèle RNN en utilisant [torch.nn.RNN()](https://pytorch.org/docs/stable/generated/torch.nn.RNN.html#torch.nn.RNN) class. Les paramètres en entrée sont:\n",
        "- **input_dim**: la dimension des données en entrée (dans notre cas, ce sera un scalaire donc input_dim = 1)\n",
        "- **output_dim**: la dimension des données en sortie (nous voulons une prédiction qui est aussi un scalaire, donc output_dim = 1)\n",
        "- **hidden_size**: la taille des couches internes du RNN. C'est un paramètre à \"fine tuner\".\n",
        "- **n_layers**: le nombre de couche du RNN. C'est également un paramètre à \"fine tuner\"."
      ]
    },
    {
      "cell_type": "markdown",
      "metadata": {
        "id": "pzUer4Hj1aBW"
      },
      "source": [
        "### Définition du modèle RNN"
      ]
    },
    {
      "cell_type": "markdown",
      "metadata": {
        "id": "Sq49zOQb4XzW"
      },
      "source": [
        ">**Note:** extrait des tutoriaux du MILA"
      ]
    },
    {
      "cell_type": "code",
      "metadata": {
        "id": "JTmLCdH5KFEx"
      },
      "source": [
        "class RNNLinear(nn.Module):\n",
        "\n",
        "    def __init__(self, input_dim, output_dim, hidden_size, n_layers, debug_flag=False):\n",
        "        super(RNNLinear, self).__init__()\n",
        "        self.rnn_layer = torch.nn.RNN(input_size=input_dim,hidden_size=hidden_size,num_layers=n_layers)\n",
        "        self.linear_layer = torch.nn.Linear(in_features=hidden_size,out_features=output_dim)\n",
        "        self.print_debug_flag = debug_flag\n",
        "\n",
        "    def print_debug(self,text,var):\n",
        "      if self.print_debug_flag == True:\n",
        "        print(text,var)\n",
        "\n",
        "    def forward(self, x):\n",
        "        # x has size of (n_samples=batch_size, seq_len, input_dim)\n",
        "        # The RNN's input must be of size (seq_len, batch_size, input_dim)\n",
        "        self.print_debug('x:',x)\n",
        "\n",
        "        x = torch.transpose(x, 0, 1)\n",
        "\n",
        "        self.print_debug('x\\':',x)\n",
        "\n",
        "        output, hidden = self.rnn_layer(x) #hidden c'est le dernier h (vecteur)\n",
        "                                            # si on veut initialiser un autre rnn avec les parametres déjà appris\n",
        "\n",
        "        self.print_debug('hidden:',hidden)\n",
        "        self.print_debug('output:',output)\n",
        "        self.print_debug('output[-1]:',output[-1])\n",
        "        self.print_debug('linear_layer(output):',self.linear_layer(output))\n",
        "        self.print_debug('linear_layer(output[-1]):',self.linear_layer(output[-1]))\n",
        "\n",
        "        output = output[-1]\n",
        "        pred = self.linear_layer(output)\n",
        "        \n",
        "        self.print_debug('pred:',pred)\n",
        "\n",
        "        return pred"
      ],
      "execution_count": 100,
      "outputs": []
    },
    {
      "cell_type": "markdown",
      "metadata": {
        "id": "SoDgyyJZ1uzW"
      },
      "source": [
        "### Instanciation du modèle"
      ]
    },
    {
      "cell_type": "markdown",
      "metadata": {
        "id": "XBLrVYJH131o"
      },
      "source": [
        ">**Note:** extrait des tutoriaux du MILA\n",
        "\n",
        "> **ATTENTION** : si l'on souhaite faire du pre-tranining avec plusieurs devises, pensez à mettre *rnn_weights =  previous_rnn_weights*, sinon le RNN partira avec des poids initiaux aléatoires."
      ]
    },
    {
      "cell_type": "code",
      "metadata": {
        "id": "u4CIvM0DLkAg"
      },
      "source": [
        "def get_rnn_instance(input_dim = 1,output_dim = 1,n_layers = 2,hidden_size = 20):\n",
        "    # Declaration of the RNN model\n",
        "    model_rnn = RNNLinear(input_dim, output_dim, hidden_size, n_layers)\n",
        "\n",
        "    # Transfer the model to the proper device\n",
        "    model_rnn = model_rnn.to(device)\n",
        "\n",
        "    # save its initial weights (we do this so that, if we run the model\n",
        "    # multiple time, we always start from these randomly initialized weights)\n",
        "    init_rnn_weights = copy.deepcopy(model_rnn.state_dict())\n",
        "\n",
        "    return model_rnn, init_rnn_weights"
      ],
      "execution_count": 101,
      "outputs": []
    },
    {
      "cell_type": "markdown",
      "metadata": {
        "id": "99keiKo3gzSI"
      },
      "source": [
        "## Modèle LSTM\n",
        "Implementation d'un modèle LSTM en utilisant [torch.nn.LSTM()](https://pytorch.org/docs/stable/generated/torch.nn.LSTM.html#torch.nn.LSTM) class. Les paramètres en entrée sont:\n",
        "- **input_dim**: la dimension des données en entrée (dans notre cas, ce sera un scalaire donc input_dim = 1)\n",
        "- **output_dim**: la dimension des données en sortie (nous voulons une prédiction qui est aussi un scalaire, donc output_dim = 1)\n",
        "- **hidden_size**: la taille des couches internes du RNN. C'est un paramètre à \"fine tuner\".\n",
        "- **n_layers**: le nombre de couche du RNN. C'est également un paramètre à \"fine tuner\"."
      ]
    },
    {
      "cell_type": "markdown",
      "metadata": {
        "id": "2sflMs3AhJ7t"
      },
      "source": [
        "### Définition du modèle LSTM"
      ]
    },
    {
      "cell_type": "markdown",
      "metadata": {
        "id": "5ti7EDDdhUJf"
      },
      "source": [
        ">**Note:** extrait des tutoriaux du MILA"
      ]
    },
    {
      "cell_type": "code",
      "metadata": {
        "id": "oydBL5dChVws"
      },
      "source": [
        "class LSTMLinear(nn.Module):\n",
        "    \n",
        "    def __init__(self, input_dim, output_dim, hidden_size, n_layers):\n",
        "        super(LSTMLinear, self).__init__()\n",
        "        self.lstm_layer = torch.nn.LSTM(input_size=input_dim,hidden_size=hidden_size,num_layers=n_layers)\n",
        "        self.linear_layer = torch.nn.Linear(in_features=hidden_size,out_features=output_dim)\n",
        "\n",
        "    def forward(self, x):\n",
        "        # x has size of (n_samples=batch_size, seq_len, input_dim)\n",
        "        # The LSTM's input must be of size (seq_len, batch_size, input_dim)\n",
        "        x = torch.transpose(x, 0, 1)\n",
        "        output, (hidden, cn) = self.lstm_layer(x) # hidden et cn pour usage ultérieur (derniere cellule: h et c)\n",
        "        \n",
        "        output = output[-1]\n",
        "\n",
        "        pred = self.linear_layer(output)\n",
        "\n",
        "        return pred"
      ],
      "execution_count": 102,
      "outputs": []
    },
    {
      "cell_type": "markdown",
      "metadata": {
        "id": "1dR1pZDmhm7x"
      },
      "source": [
        "### Instanciation du modèle"
      ]
    },
    {
      "cell_type": "markdown",
      "metadata": {
        "id": "C_kqXyQ3iNiA"
      },
      "source": [
        ">**Note:** extrait des tutoriaux du MILA\n",
        "\n",
        "> **ATTENTION** : si l'on souhaite faire du pre-tranining avec plusieurs devises, pensez à mettre *rnn_weights =  previous_rnn_weights*, sinon le RNN partira avec des poids initiaux aléatoires."
      ]
    },
    {
      "cell_type": "code",
      "metadata": {
        "id": "X_AdYKhHhl8_"
      },
      "source": [
        "def get_lstm_instance(input_dim = 1,output_dim = 1,n_layers = 2,hidden_size = 20):\n",
        "    # Declaration of the RNN model\n",
        "    model_lstm = LSTMLinear(input_dim, output_dim, hidden_size, n_layers)\n",
        "\n",
        "    # Transfer the model to the proper device\n",
        "    model_lstm = model_lstm.to(device)\n",
        "\n",
        "    # save its initial weights (we do this so that, if we run the model\n",
        "    # multiple time, we always start from these randomly initialized weights)\n",
        "    init_rnn_weights = copy.deepcopy(model_lstm.state_dict())\n",
        "\n",
        "    return model_lstm, init_rnn_weights"
      ],
      "execution_count": 103,
      "outputs": []
    },
    {
      "cell_type": "markdown",
      "metadata": {
        "id": "Fo4_yaVW8X8h"
      },
      "source": [
        "## Création des \"data loader\"\n",
        "Cela utilise les objets DataLoader PyTorch pour manipuler plus facilement et efficacement nos données.\n",
        ">**Note:** extrait des tutoriaux du MILA"
      ]
    },
    {
      "cell_type": "code",
      "metadata": {
        "id": "jte-goD48cwB"
      },
      "source": [
        "def create_dataloader(Xs_train, ys_train,Xs_validate, ys_validate,Xs_test, ys_test,batch_size = 4):\n",
        "    \n",
        "    # dataloader for the training dataset\n",
        "    train_loader = DataLoader(TensorDataset(Xs_train, ys_train), batch_size, shuffle=True)\n",
        "\n",
        "    # prepare the dataloader for the validation dataset\n",
        "    valid_loader = DataLoader(TensorDataset(Xs_validate, ys_validate), batch_size)\n",
        "\n",
        "    # prepare the dataloader for the test dataset\n",
        "    test_loader = DataLoader(TensorDataset(Xs_test, ys_test), batch_size)\n",
        "\n",
        "    return train_loader, valid_loader, test_loader"
      ],
      "execution_count": 104,
      "outputs": []
    },
    {
      "cell_type": "markdown",
      "metadata": {
        "id": "jNnYRg8f9ey5"
      },
      "source": [
        "## Boucle d'apprentissage"
      ]
    },
    {
      "cell_type": "markdown",
      "metadata": {
        "id": "oe9go3AG36Zz"
      },
      "source": [
        "\n",
        "\n",
        ">**Note:** extrait des tutoriaux du MILA\n",
        "\n"
      ]
    },
    {
      "cell_type": "code",
      "metadata": {
        "id": "Gn9Vyi839tJb"
      },
      "source": [
        "# Define function to encapsulate main training loop\n",
        "def train_model(model, init_weights, optimizer, loss_fun, n_epoch = 25, debug_flag=False):\n",
        "\n",
        "    since = time.time()\n",
        "\n",
        "    train_loss_history = []\n",
        "    valid_loss_history = []\n",
        "\n",
        "    model.load_state_dict(init_weights)\n",
        "\n",
        "    print(\"Start training\")\n",
        "\n",
        "    for epoch in range(n_epoch):\n",
        "        \n",
        "        train_loss = 0\n",
        "        train_n_iter = 0\n",
        "        \n",
        "        # Set model to train mode\n",
        "        model.train()\n",
        "        torch.set_grad_enabled(True)\n",
        "        \n",
        "        # Iterate over train data\n",
        "        for x, y in train_loader:  \n",
        "\n",
        "            \n",
        "            # Put tensors on device (GPU when available)\n",
        "            x = x.to(device)\n",
        "            y = y.to(device)\n",
        "\n",
        "            # Zero the gradient buffer\n",
        "            optimizer.zero_grad()\n",
        "            \n",
        "            # Perform the Forward operation\n",
        "            outputs = model(x)\n",
        "            \n",
        "            # Calculate the loss using the loss function\n",
        "            loss = loss_fun(outputs, y)\n",
        "            \n",
        "            # Perform the Backward operation\n",
        "            loss.backward()\n",
        "            \n",
        "            # Perform the Optimization step\n",
        "            optimizer.step()\n",
        "            \n",
        "            # Statistics\n",
        "            train_loss += loss.item()\n",
        "            train_n_iter += 1\n",
        "        \n",
        "        valid_loss = 0\n",
        "        valid_n_iter = 0\n",
        "        \n",
        "        # Set model to evaluate mode\n",
        "        model.eval()\n",
        "        with torch.no_grad():\n",
        "        \n",
        "            # Iterate over valid data\n",
        "            for x, y in valid_loader:  \n",
        "            \n",
        "                # Put tensors on device (GPU when available)\n",
        "                x = x.to(device)\n",
        "                y = y.to(device)\n",
        "            \n",
        "                # Perform the Forward operation\n",
        "                outputs = model(x)\n",
        "                \n",
        "                # Calculate the loss using the loss fun function\n",
        "                loss = loss_fun(outputs,y)\n",
        "            \n",
        "                # Statistics\n",
        "                valid_loss += loss.item()\n",
        "                valid_n_iter += 1\n",
        "        \n",
        "        train_loss_history.append(train_loss / train_n_iter)\n",
        "        valid_loss_history.append(valid_loss / valid_n_iter)\n",
        "\n",
        "        if debug_flag == True:\n",
        "            print(\"Epoch {:2d} | Training loss = {:.5f} | Validation loss = {:.5f} \"\n",
        "                  .format(epoch+1, (train_loss / train_n_iter), (valid_loss / valid_n_iter)))\n",
        "\n",
        "    time_elapsed = time.time() - since\n",
        "\n",
        "    print('Training complete in {:.0f}m {:.0f}s'.format(\n",
        "        time_elapsed // 60, time_elapsed % 60))\n",
        "    \n",
        "    return train_loss_history, valid_loss_history"
      ],
      "execution_count": 105,
      "outputs": []
    },
    {
      "cell_type": "markdown",
      "metadata": {
        "id": "wM0LU2Fn3In-"
      },
      "source": [
        "C'est dans la portion suivante qu'on lance un apprentissage initial sur une première devise suivi des autres en cascadant un pre-training consécutif (on conserve les poids précédement calculés).\n",
        "\n",
        "*Voir le commentaire # pre-training dans le code d'instanciation du modèle RNN.*"
      ]
    },
    {
      "cell_type": "code",
      "metadata": {
        "id": "ulmMyFOapQNq"
      },
      "source": [
        "learning_rate = 0.01\n",
        "# Define the Optimizer\n",
        "def get_optimizer(model, learning_rate=learning_rate):\n",
        "      optimizer = torch.optim.SGD(model.parameters(), lr=learning_rate)\n",
        "      return optimizer"
      ],
      "execution_count": 106,
      "outputs": []
    },
    {
      "cell_type": "markdown",
      "metadata": {
        "id": "gVoeSJWilEMp"
      },
      "source": [
        "### Lancement de l'apprentissage"
      ]
    },
    {
      "cell_type": "markdown",
      "metadata": {
        "id": "xKx-Zajaika-"
      },
      "source": [
        "> Pour des raisons de facilité, on garde les variables model_rnn, rnn_weights que ce soit un modèle RNN pur ou LSTM (qui est un type de RNN en fait)"
      ]
    },
    {
      "cell_type": "code",
      "metadata": {
        "colab": {
          "base_uri": "https://localhost:8080/",
          "height": 1000
        },
        "id": "enM9X82p9-a1",
        "outputId": "037c6e5d-b49a-4140-9760-ca57d3cfdfde"
      },
      "source": [
        "n_epoch = 15\n",
        "batch_size = 16\n",
        "seq_len = 30\n",
        "\n",
        "# pre-training (initialement pas de pre-training)\n",
        "model_rnn, rnn_weights  = get_lstm_instance() #get_rnn_instance()\n",
        "\n",
        "# Define the loss function\n",
        "loss_fun = torch.nn.MSELoss()\n",
        "\n",
        "# Perform training of the RNN model\n",
        "optimizer_rnn = get_optimizer(model_rnn)\n",
        "\n",
        "# choix parmi : ['USDCAD','EURUSD', 'GBPUSD','USDJPY','USDCHF','AUDUSD','USDSEK','USDNOK','NZDUSD','USDCAD']\n",
        "for name_serie in ['USDCAD','EURUSD', 'GBPUSD','USDJPY','USDCHF','AUDUSD','USDSEK','USDNOK','NZDUSD','USDCAD']:\n",
        "    data_train, data_val, data_test, stat = create_datasets(seq_len=seq_len, name_serie=name_serie)\n",
        "\n",
        "    Xs_train,ys_train = data_train[0], data_train[1]\n",
        "    Xs_validate,ys_validate = data_val[0], data_val[1]\n",
        "    Xs_test,ys_test = data_test[0], data_test[1]\n",
        "    mean, std = stat[0], stat[1]\n",
        "\n",
        "    train_loader, valid_loader, test_loader = create_dataloader(Xs_train, ys_train,\n",
        "                                                                Xs_validate, ys_validate,Xs_test, \n",
        "                                                                ys_test,batch_size = batch_size)\n",
        "\n",
        "    loss_history = train_model(model_rnn, rnn_weights, optimizer_rnn, loss_fun,n_epoch=n_epoch)\n",
        "\n",
        "    # Save loss history for later\n",
        "    rnn_train_loss_history, rnn_valid_loss_history = loss_history\n",
        "\n",
        "    # Save weights for later pre-training\n",
        "    rnn_weights = copy.deepcopy(model_rnn.state_dict())\n",
        "\n",
        "    # Plot training and validation curve\n",
        "\n",
        "    xaxis = range(1, n_epoch + 1)\n",
        "    plt.plot(xaxis, rnn_train_loss_history, label=f'train-rnn {name_serie}')\n",
        "    plt.plot(xaxis, rnn_valid_loss_history, label=f'valid-rnn {name_serie}')\n",
        "\n",
        "    plt.xlabel('# epochs')\n",
        "    plt.ylabel('Loss')\n",
        "    plt.legend()\n",
        "\n",
        "    plt.show()"
      ],
      "execution_count": 107,
      "outputs": [
        {
          "output_type": "stream",
          "text": [
            "Start training\n",
            "Training complete in 0m 23s\n"
          ],
          "name": "stdout"
        },
        {
          "output_type": "display_data",
          "data": {
            "image/png": "[encoded data removed]",
            "text/plain": [
              "<Figure size 432x288 with 1 Axes>"
            ]
          },
          "metadata": {
            "tags": [],
            "needs_background": "light"
          }
        },
        {
          "output_type": "stream",
          "text": [
            "Start training\n",
            "Training complete in 0m 23s\n"
          ],
          "name": "stdout"
        },
        {
          "output_type": "display_data",
          "data": {
            "image/png": "[encoded data removed]",
            "text/plain": [
              "<Figure size 432x288 with 1 Axes>"
            ]
          },
          "metadata": {
            "tags": [],
            "needs_background": "light"
          }
        },
        {
          "output_type": "stream",
          "text": [
            "Start training\n",
            "Training complete in 0m 23s\n"
          ],
          "name": "stdout"
        },
        {
          "output_type": "display_data",
          "data": {
            "image/png": "[encoded data removed]",
            "text/plain": [
              "<Figure size 432x288 with 1 Axes>"
            ]
          },
          "metadata": {
            "tags": [],
            "needs_background": "light"
          }
        },
        {
          "output_type": "stream",
          "text": [
            "Start training\n",
            "Training complete in 0m 23s\n"
          ],
          "name": "stdout"
        },
        {
          "output_type": "display_data",
          "data": {
            "image/png": "[encoded data removed]",
            "text/plain": [
              "<Figure size 432x288 with 1 Axes>"
            ]
          },
          "metadata": {
            "tags": [],
            "needs_background": "light"
          }
        },
        {
          "output_type": "stream",
          "text": [
            "Start training\n",
            "Training complete in 0m 23s\n"
          ],
          "name": "stdout"
        },
        {
          "output_type": "display_data",
          "data": {
            "image/png": "[encoded data removed]",
            "text/plain": [
              "<Figure size 432x288 with 1 Axes>"
            ]
          },
          "metadata": {
            "tags": [],
            "needs_background": "light"
          }
        },
        {
          "output_type": "stream",
          "text": [
            "Start training\n",
            "Training complete in 0m 23s\n"
          ],
          "name": "stdout"
        },
        {
          "output_type": "display_data",
          "data": {
            "image/png": "[encoded data removed]",
            "text/plain": [
              "<Figure size 432x288 with 1 Axes>"
            ]
          },
          "metadata": {
            "tags": [],
            "needs_background": "light"
          }
        },
        {
          "output_type": "stream",
          "text": [
            "Start training\n",
            "Training complete in 0m 23s\n"
          ],
          "name": "stdout"
        },
        {
          "output_type": "display_data",
          "data": {
            "image/png": "[encoded data removed]",
            "text/plain": [
              "<Figure size 432x288 with 1 Axes>"
            ]
          },
          "metadata": {
            "tags": [],
            "needs_background": "light"
          }
        },
        {
          "output_type": "stream",
          "text": [
            "Start training\n",
            "Training complete in 0m 22s\n"
          ],
          "name": "stdout"
        },
        {
          "output_type": "display_data",
          "data": {
            "image/png": "[encoded data removed]",
            "text/plain": [
              "<Figure size 432x288 with 1 Axes>"
            ]
          },
          "metadata": {
            "tags": [],
            "needs_background": "light"
          }
        },
        {
          "output_type": "stream",
          "text": [
            "Start training\n",
            "Training complete in 0m 23s\n"
          ],
          "name": "stdout"
        },
        {
          "output_type": "display_data",
          "data": {
            "image/png": "[encoded data removed]",
            "text/plain": [
              "<Figure size 432x288 with 1 Axes>"
            ]
          },
          "metadata": {
            "tags": [],
            "needs_background": "light"
          }
        },
        {
          "output_type": "stream",
          "text": [
            "Start training\n",
            "Training complete in 0m 23s\n"
          ],
          "name": "stdout"
        },
        {
          "output_type": "display_data",
          "data": {
            "image/png": "[encoded data removed]",
            "text/plain": [
              "<Figure size 432x288 with 1 Axes>"
            ]
          },
          "metadata": {
            "tags": [],
            "needs_background": "light"
          }
        }
      ]
    },
    {
      "cell_type": "markdown",
      "metadata": {
        "id": "NrSGJTTqK_R5"
      },
      "source": [
        "# Validation pré-production du modèle (sur USDCAD)"
      ]
    },
    {
      "cell_type": "code",
      "metadata": {
        "id": "9tP6q6oclvKe"
      },
      "source": [
        "# On recharge les données USDCAD car on veut tester les prédictions sur USDCAD\n",
        "\n",
        "name_serie='USDCAD'\n",
        "\n",
        "data_train, data_val, data_test, stat = create_datasets(seq_len=seq_len, name_serie=name_serie)\n",
        "\n",
        "Xs_train,ys_train = data_train[0], data_train[1]\n",
        "Xs_validate,ys_validate = data_val[0], data_val[1]\n",
        "Xs_test,ys_test = data_test[0], data_test[1]\n",
        "mean, std = stat[0], stat[1]"
      ],
      "execution_count": 108,
      "outputs": []
    },
    {
      "cell_type": "code",
      "metadata": {
        "id": "_KbWu67f56YP"
      },
      "source": [
        "def print_mean_abs_error(X, Y, idx=None):\n",
        "    xs = X.numpy()\n",
        "    ys = Y.numpy()\n",
        "\n",
        "    if idx == None:\n",
        "      diff = abs(xs-ys)\n",
        "      print(f\"Absolute mean error between target[:] et prediction[:] = {np.mean(diff)}\")\n",
        "    else:\n",
        "      diff = abs(xs[idx]-ys[idx])\n",
        "      print(f\"Absolute mean error between target[{idx}] et prediction[{idx}] = {np.mean(diff)}\")"
      ],
      "execution_count": 109,
      "outputs": []
    },
    {
      "cell_type": "markdown",
      "metadata": {
        "id": "LcBkM5mi4dTW"
      },
      "source": [
        "## Validation avec le dataset de tests au complet"
      ]
    },
    {
      "cell_type": "code",
      "metadata": {
        "colab": {
          "base_uri": "https://localhost:8080/",
          "height": 300
        },
        "id": "VYDVf7pzCRpq",
        "outputId": "747441d6-d329-42e7-a2ad-31d77e0931b9"
      },
      "source": [
        "# Put sequence data on device (GPU when available)\n",
        "Xs_test = Xs_test.to(device)\n",
        "\n",
        "# Put target data on device (GPU when available)\n",
        "ys_test = ys_test.to(device)\n",
        "\n",
        "# Predict the value of the sequence data using the RNN-based model\n",
        "ypred_rnn = model_rnn(Xs_test)\n",
        "\n",
        "# Compute the loss of the RNN-based model using the loss function\n",
        "loss_test_rnn = loss_fun(ypred_rnn, ys_test)\n",
        "\n",
        "print(f\"The RNN's test mean squared error is {float(loss_test_rnn):2.3f}\")\n",
        "\n",
        "plt.scatter(ys_test.cpu().detach().numpy(),ypred_rnn.cpu().detach().numpy())"
      ],
      "execution_count": 110,
      "outputs": [
        {
          "output_type": "stream",
          "text": [
            "The RNN's test mean squared error is 0.003\n"
          ],
          "name": "stdout"
        },
        {
          "output_type": "execute_result",
          "data": {
            "text/plain": [
              "<matplotlib.collections.PathCollection at 0x7fc1ebd52850>"
            ]
          },
          "metadata": {
            "tags": []
          },
          "execution_count": 110
        },
        {
          "output_type": "display_data",
          "data": {
            "image/png": "[encoded data removed]",
            "text/plain": [
              "<Figure size 432x288 with 1 Axes>"
            ]
          },
          "metadata": {
            "tags": [],
            "needs_background": "light"
          }
        }
      ]
    },
    {
      "cell_type": "markdown",
      "metadata": {
        "id": "hSmY5aSq6V4E"
      },
      "source": [
        "## Validation avec des séquences unitaires"
      ]
    },
    {
      "cell_type": "markdown",
      "metadata": {
        "id": "StqpsY0I484T"
      },
      "source": [
        "Dans la section suivante on affiche une prédiction de prix.\n",
        "\n",
        "On affiche la prévision pour l'un des éléments du jeu de test (en fixant idx). "
      ]
    },
    {
      "cell_type": "code",
      "metadata": {
        "colab": {
          "base_uri": "https://localhost:8080/"
        },
        "id": "0waCkp6m6gJJ",
        "outputId": "3e503695-6c7e-43f5-b16f-b5ee72fa4d3f"
      },
      "source": [
        "idx = 0\n",
        "\n",
        "# Put sequence data on device (GPU when available)\n",
        "Xs_unit = Xs_test[idx:idx+1,:,:].to(device)\n",
        "\n",
        "# Put target data on device (GPU when available)\n",
        "ys_unit = ys_test[idx].to(device)\n",
        "\n",
        "# Predict the value of the sequence data using the RNN-based model\n",
        "ypred_rnn = model_rnn(Xs_unit)\n",
        "\n",
        "Xs_unit = Xs_unit.cpu()\n",
        "ypred_rnn = ypred_rnn.cpu()\n",
        "ys_unit = ys_unit.cpu()\n",
        "\n",
        "# Unstandardize  xtest ytest\n",
        "xunit_unstd = Xs_unit*std + mean\n",
        "\n",
        "ys_unit_unstd = ys_unit*std + mean\n",
        "\n",
        "# Unstandardize  the predictions of the RNN-based model on xtest\n",
        "ypred_unstd = ypred_rnn*std + mean\n",
        "\n",
        "print(f\"xunit[{idx}] = {xunit_unstd.detach()[0,:,0]}\")\n",
        "print(f\"ys_unit[{idx}] = {ys_unit_unstd.detach()}\\n ypred[{idx}] = {ypred_unstd.detach()}\")\n",
        "\n",
        "print_mean_abs_error(ys_unit_unstd.detach(), ypred_unstd.detach())"
      ],
      "execution_count": 111,
      "outputs": [
        {
          "output_type": "stream",
          "text": [
            "xunit[0] = tensor([1.0261, 1.0229, 1.0307, 1.0268, 1.0273, 1.0269, 1.0320, 1.0295, 1.0287,\n",
            "        1.0259, 1.0257, 1.0276, 1.0222, 1.0194, 1.0222, 1.0267, 1.0260, 1.0251,\n",
            "        1.0232, 1.0213, 1.0160, 1.0160, 1.0162, 1.0174, 1.0168, 1.0148, 1.0146,\n",
            "        1.0127, 1.0176])\n",
            "ys_unit[0] = tensor([1.0165])\n",
            " ypred[0] = tensor([[1.0163]])\n",
            "Absolute mean error between target[:] et prediction[:] = 0.0002636909484863281\n"
          ],
          "name": "stdout"
        }
      ]
    },
    {
      "cell_type": "markdown",
      "metadata": {
        "id": "o6Flv2rQijD5"
      },
      "source": [
        "## Prédiction sur n jours suivants"
      ]
    },
    {
      "cell_type": "code",
      "metadata": {
        "id": "CH0gWjdeXsHv"
      },
      "source": [
        "def shif_right_and_complete(input_seq, item_to_add, debug=False):\n",
        "  if debug == True:\n",
        "    print(input_seq[0,:,0])\n",
        "    print(item_to_add[0])\n",
        "    print(\"--------------------\")\n",
        "  output = input_seq[:,1:7,:]\n",
        "  output = torch.cat((output, item_to_add.unsqueeze(2)),dim=1)\n",
        "  if debug == True:\n",
        "    print(output[0,:,0])\n",
        "  return output\n",
        "\n",
        "# à mettre dans les tests unitaires\n",
        "#Xs_unit_1 = shif_right_and_complete(Xs_unit.detach(), ypred_rnn.detach(), debug=True)\n",
        "#idx = 102\n",
        "#Xs_test[idx:idx+1,:,0]\n",
        "#Xs_test[idx:idx+2,:,0]\n",
        "#Xs_test[idx:idx+3,:,0]"
      ],
      "execution_count": 112,
      "outputs": []
    },
    {
      "cell_type": "code",
      "metadata": {
        "id": "-AKq_ajKistM"
      },
      "source": [
        "def prediction_n_jours(inputs, targets, mean, std, n=7, idx=1500, display=False, \n",
        "                       bootstrap=True, seq_len=7):\n",
        "  Xs_unit = inputs[idx:idx+1,:,:]\n",
        "  ys_targets = np.array([])\n",
        "  ys_predicts = np.array([])\n",
        "  ys_model1 = np.ones(n)*targets.numpy()[idx-1]\n",
        "  ys_model2 = np.ones(n)*torch.mean(inputs[idx-1:idx,:,:]).numpy()\n",
        "\n",
        "  for i in range(idx,idx+n):\n",
        "    Xs_unit = Xs_unit.to(device)\n",
        "    ypred_rnn = model_rnn(Xs_unit)\n",
        "    ys_targets = np.append(ys_targets,targets.numpy()[i])\n",
        "    ys_predicts = np.append(ys_predicts, ypred_rnn.cpu().detach().numpy()[0])\n",
        "    if bootstrap == True:\n",
        "      Xs_unit = shif_right_and_complete(Xs_unit.detach(), ypred_rnn.detach())\n",
        "\n",
        "  y_targets = ys_targets*std + mean\n",
        "  y_predicts = ys_predicts*std + mean\n",
        "  y_model1 =  ys_model1*std + mean\n",
        "  y_model2 =  ys_model2*std + mean\n",
        "\n",
        "  y_previous = targets.numpy()[idx-seq_len:idx,0]*std + mean\n",
        "\n",
        "  rnn_mse = np.mean(np.power((y_predicts - y_targets),2))\n",
        "  model1_mse = np.mean(np.power((y_model1 - y_targets),2))\n",
        "  model2_mse = np.mean(np.power((y_model2 - y_targets),2))\n",
        "\n",
        "  # prediction sur le sens de la tendance (haussière ou baissière)\n",
        "  # dans les cas des 2 modèles standards, ce n'est pas possible\n",
        "  target_direction = np.sign(y_targets[-1] - y_previous[-1])\n",
        "  predict_direction = np.sign(y_predicts[-1] - y_previous[-1])\n",
        "\n",
        "  if display == True:\n",
        "    #print(y_targets)\n",
        "    #print(y_predicts)\n",
        "\n",
        "    xaxis = range(1, seq_len+1)\n",
        "    plt.plot(xaxis, y_previous, label=f'past {seq_len} days')\n",
        "\n",
        "    start = seq_len+1\n",
        "    xaxis_pred = range(start, start+n)\n",
        "    plt.plot(xaxis_pred, y_targets, label='targets (real)')\n",
        "    plt.plot(xaxis_pred, y_predicts, label=f'RNN (mse={rnn_mse})')\n",
        "    plt.plot(xaxis_pred, y_model1, label=f'Std model1 (mse={model1_mse})')\n",
        "    plt.plot(xaxis_pred, y_model2, label=f'Std model2 (mse={model2_mse})')\n",
        "\n",
        "    plt.xlabel('# jours')\n",
        "    plt.ylabel('Fx Price')\n",
        "    plt.title(f'Predictions idx={idx}')\n",
        "    plt.legend()\n",
        "\n",
        "    plt.show()\n",
        "  \n",
        "  return rnn_mse, model1_mse, model2_mse, (predict_direction == target_direction)"
      ],
      "execution_count": 113,
      "outputs": []
    },
    {
      "cell_type": "markdown",
      "metadata": {
        "id": "jixVe15X6iIL"
      },
      "source": [
        "### Quelques courbes et résultats pour les prédictions sur n jours"
      ]
    },
    {
      "cell_type": "code",
      "metadata": {
        "colab": {
          "base_uri": "https://localhost:8080/",
          "height": 313
        },
        "id": "Es3Jb3H7vcW_",
        "outputId": "5ca03365-8896-42f5-8c7e-a8732079efc7"
      },
      "source": [
        "# attention idx doit être > seq_len\n",
        "prediction_n_jours(Xs_test.cpu(), ys_test.cpu(), mean, std, n=30, idx=seq_len+1, display=True,\n",
        "                   bootstrap=False, seq_len=seq_len)"
      ],
      "execution_count": 117,
      "outputs": [
        {
          "output_type": "display_data",
          "data": {
            "image/png": "[encoded data removed]",
            "text/plain": [
              "<Figure size 432x288 with 1 Axes>"
            ]
          },
          "metadata": {
            "tags": [],
            "needs_background": "light"
          }
        },
        {
          "output_type": "execute_result",
          "data": {
            "text/plain": [
              "(0.000211051653899771, 0.00020034327228165603, 0.000411100602815914, False)"
            ]
          },
          "metadata": {
            "tags": []
          },
          "execution_count": 117
        }
      ]
    },
    {
      "cell_type": "markdown",
      "metadata": {
        "id": "gSyaGej969MS"
      },
      "source": [
        "### Évaluation de la performance du modèle RNN par rapport à la marche aléatoire"
      ]
    },
    {
      "cell_type": "code",
      "metadata": {
        "colab": {
          "base_uri": "https://localhost:8080/"
        },
        "id": "yczA5BcT5_6b",
        "outputId": "b48b9b0d-7884-4ff3-ff2e-c38f9f991951"
      },
      "source": [
        "rnn_mse_all = np.array([])\n",
        "rnn_direction_all = np.array([])\n",
        "model1_mse_all = np.array([])\n",
        "model2_mse_all = np.array([])\n",
        "\n",
        "X = Xs_test.cpu()\n",
        "Y = ys_test.cpu()\n",
        "n = 30\n",
        "display = False\n",
        "bootstrap = False\n",
        "\n",
        "for idx in range(seq_len+1,X.shape[0]-n):\n",
        "  r_mse, m1_mse, m2_mse, dir = prediction_n_jours(X, Y, mean, std, n=n, idx=idx, display=display, \n",
        "                                                  bootstrap=bootstrap, seq_len=seq_len)\n",
        "  rnn_mse_all = np.append(rnn_mse_all,r_mse)\n",
        "  rnn_direction_all = np.append(rnn_direction_all, dir)\n",
        "  model1_mse_all = np.append(model1_mse_all,m1_mse)\n",
        "  model2_mse_all = np.append(model2_mse_all,m2_mse)\n",
        "\n",
        "rnn_mse_all = rnn_mse_all[~np.isnan(rnn_mse_all)]\n",
        "model1_mse_all = model1_mse_all[~np.isnan(model1_mse_all)]\n",
        "model2_mse_all = model2_mse_all[~np.isnan(model2_mse_all)]\n",
        "\n",
        "print(f'   mean rnn MSE = {np.mean(rnn_mse_all)}')\n",
        "print(f'mean model1 MSE = {np.mean(model1_mse_all)}')\n",
        "print(f'mean model2 MSE = {np.mean(model2_mse_all)}')\n",
        "print(f'rnn direction predict accuracy = {np.sum(rnn_direction_all)/np.size(rnn_direction_all)}')"
      ],
      "execution_count": 119,
      "outputs": [
        {
          "output_type": "stream",
          "text": [
            "   mean rnn MSE = 0.00057259212635841\n",
            "mean model1 MSE = 0.0005515868868828627\n",
            "mean model2 MSE = 0.0009556856392336087\n",
            "rnn direction predict accuracy = 0.5187530443253775\n"
          ],
          "name": "stdout"
        }
      ]
    },
    {
      "cell_type": "markdown",
      "metadata": {
        "id": "TiS5Gi_s0K9_"
      },
      "source": [
        "# Conclusion"
      ]
    },
    {
      "cell_type": "markdown",
      "metadata": {
        "id": "ObL8GiCA0QEe"
      },
      "source": [
        "J'ai réalisé plusieurs tests des modèles RNN et LSTM pour la prédiction des prix des devises. Pour les prévisions sur 1 jour seulement comme pour celles sur 7 jours, le RNN, tout comme le LSTM, ne bat pas le modèle de marche aléatoire. \n",
        "\n",
        "Concernant l'apprentissage, j'ai entraîné le RNN et le LSTM avec 1 devise, puis 2, 3 et jusqu'à 9 devises (en sauvegardant les poids internes). Ils ont appris successivement sur toutes les devises. Malgré l'apport de plusieurs devises, le RNN et le LSTM ne battent pas la marche aléatoire mais on constate qu'ils s'en rapprochent de plus en plus en terme d'erreur.\n",
        "\n",
        "Pourrait-on dire alors que plus on lui apprend avec de nouvelles devises ... plus il \"comprend\" que la marche aléatoire est la meilleure prévision? Ce point reste à clarifier.\n",
        "\n",
        "J'ai aussi vérifié combien de fois il prédisait la bonne tendance (hausse ou baisse) ... et on est à 50% en moyenne, ce qui semble confirmer que la marche aléatoire est asymptotiquement la conclusion de son apprentissage.\n",
        "\n",
        "Les modèles **Long-Short Term Memory** et **Transformer** sont utiles lorsque l'on traite de longues séquences (20 termes et plus) et mettent en œuvre le concept **\"d'attention\"** c'est à dire sur quels éléments de la séquence il faut porter attention pour prédire la suite (cas de la traduction automatique de texte). Pour des séquences de 7 termes, le RNN est suffisant. Ces modèles sont donc à considérer pour des séquences de 20, 30 ou 60 termes.\n",
        "\n",
        "J'ai mené des tests avec le LSTM sur des séquences de 30 et 60 jours, il ne bat toujours pas la marche aléatoire."
      ]
    }
  ]
}