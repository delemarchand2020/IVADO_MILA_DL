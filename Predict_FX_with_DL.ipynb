{
  "nbformat": 4,
  "nbformat_minor": 0,
  "metadata": {
    "colab": {
      "name": "Predict_FX_with_DL",
      "provenance": [],
      "collapsed_sections": [],
      "toc_visible": true,
      "authorship_tag": "ABX9TyP7m8FUUJaajcjzUKtH792l",
      "include_colab_link": true
    },
    "kernelspec": {
      "name": "python3",
      "display_name": "Python 3"
    },
    "language_info": {
      "name": "python"
    },
    "accelerator": "GPU"
  },
  "cells": [
    {
      "cell_type": "markdown",
      "metadata": {
        "id": "view-in-github",
        "colab_type": "text"
      },
      "source": [
        "<a href=\"https://colab.research.google.com/github/delemarchand2020/IVADO_MILA_DL/blob/main/Predict_FX_with_DL.ipynb\" target=\"_parent\"><img src=\"https://colab.research.google.com/assets/colab-badge.svg\" alt=\"Open In Colab\"/></a>"
      ]
    },
    {
      "cell_type": "markdown",
      "metadata": {
        "id": "E6uQMizy7KeX"
      },
      "source": [
        "#Projet d'utilisation des modèles RNN pour la prédiction des taux de change et comparaison avec le modèle de marche aléatoire"
      ]
    },
    {
      "cell_type": "markdown",
      "metadata": {
        "id": "IK2VGJ_F867r"
      },
      "source": [
        "Pour les besoins du projet, on récupère les historiques journaliers des taux de change des 10 principales devises depuis 1980, on bâtit des séquences de 7 jours consécutifs dont la cible à prédire est le 8 ieme jour. On pourra utiliser une technique de \"bootstrap\" pour faire des prédictions, par la suite, sur plusieurs jours : à partir d'une séquence initiale de 7 jours, on prévoit le 8 ieme jour avec RNN puis on soumet une nouvelle séquence de 7 jours incluant la dernière prévision et de proche en proche on effectue des prévisions sur 2, 3, ... n jours.\n",
        "\n",
        "Le RNN est alimenté en apprentissage avec de telles séquences sur N devises et du point de vue du RNN, on suppose que ces devises suivent le même processus. Dès lors, on pourra effectuer des prévisions sur n'importe quelle série chronologique suivant ce même processus.\n",
        "\n",
        "Pour comparer nos prévisions et évaluer la performance du RNN, on considére les 2 modèles de références suivants: \n",
        "\n",
        "(1) La prévision du 8e jours est le taux de change observé de 7e jour (modèle de marche aléatoire). Ce modèle dit que la meilleure prévision du taux de change dans le futur (1, 2, 7 jours) est le taux de change qui prévaut aujourd'hui. En d'autres termes, le meilleur estimateur du taux futur est le taux comptant prévalant.\n",
        "\n",
        "(2) la prévision du 8e jour est la moyenne des taux des 7 derniers jours. \n",
        "\n",
        "Ces 2 modèles ne requiert aucune autre information contextuelle.\n",
        "\n",
        "Le Mean-Squared-Error, écart entre la valeur réellement observée et la prévision des différents modèles (random walk, RNN), donnera une bonne indication de la performance relative des modèles.\n",
        "\n",
        "Dans la littérature en finance internationale, il est connu que le modèle de marche aléatoire (Modèle 1) est très difficile à battre. \n",
        "\n",
        "Est-ce que le RNN aura de la difficulté à le battre également ? C'est la question à laquelle ce petit projet tente de répondre.\n",
        "\n",
        "Note : quelques portions de code ont été copié des tutoriaux du MILA.\n",
        "Voir les sources [ici](https://github.com/mila-iqia/ivado-mila-dl-school-2021/tree/main/tutorials)."
      ]
    },
    {
      "cell_type": "markdown",
      "metadata": {
        "id": "A-ivciiY37cu"
      },
      "source": [
        "# Initialisation"
      ]
    },
    {
      "cell_type": "code",
      "metadata": {
        "colab": {
          "base_uri": "https://localhost:8080/"
        },
        "id": "v-d4sPbB4Cb3",
        "outputId": "1124022a-68e8-4d00-e292-081111d77eaf"
      },
      "source": [
        "!pip3 install torch"
      ],
      "execution_count": 1,
      "outputs": [
        {
          "output_type": "stream",
          "text": [
            "Requirement already satisfied: torch in /usr/local/lib/python3.7/dist-packages (1.8.1+cu101)\n",
            "Requirement already satisfied: typing-extensions in /usr/local/lib/python3.7/dist-packages (from torch) (3.7.4.3)\n",
            "Requirement already satisfied: numpy in /usr/local/lib/python3.7/dist-packages (from torch) (1.19.5)\n"
          ],
          "name": "stdout"
        }
      ]
    },
    {
      "cell_type": "code",
      "metadata": {
        "colab": {
          "base_uri": "https://localhost:8080/"
        },
        "id": "hTciBxXi4EOC",
        "outputId": "674c8544-80cc-4a02-cae9-4debb71d3c53"
      },
      "source": [
        "import torch\n",
        "\n",
        "use_gpu = torch.cuda.is_available()\n",
        "device = torch.device(\"cuda:0\" if use_gpu else \"cpu\")\n",
        "\n",
        "print(\"Torch version: \", torch.__version__)\n",
        "print(\"GPU Available: {}\".format(use_gpu))"
      ],
      "execution_count": 2,
      "outputs": [
        {
          "output_type": "stream",
          "text": [
            "Torch version:  1.8.1+cu101\n",
            "GPU Available: True\n"
          ],
          "name": "stdout"
        }
      ]
    },
    {
      "cell_type": "code",
      "metadata": {
        "id": "W7504uqQLQD1"
      },
      "source": [
        "import torch.nn as nn\n",
        "import torch.nn.functional as F\n",
        "import torch.nn.init as init\n",
        "import torch.optim as optim\n",
        "\n",
        "from torch.utils.data import DataLoader, TensorDataset"
      ],
      "execution_count": 3,
      "outputs": []
    },
    {
      "cell_type": "code",
      "metadata": {
        "id": "dZhV8De44QEy"
      },
      "source": [
        "import pandas as pd\n",
        "import datetime\n",
        "import matplotlib.pyplot as plt\n",
        "import numpy as np"
      ],
      "execution_count": 4,
      "outputs": []
    },
    {
      "cell_type": "code",
      "metadata": {
        "id": "GId9noi2Mjny"
      },
      "source": [
        "import copy\n",
        "import gc\n",
        "import math\n",
        "import time\n",
        "import os"
      ],
      "execution_count": 5,
      "outputs": []
    },
    {
      "cell_type": "markdown",
      "metadata": {
        "id": "7dUKoG5keiFF"
      },
      "source": [
        "# Import et préparation des données"
      ]
    },
    {
      "cell_type": "markdown",
      "metadata": {
        "id": "-L-TR-h3i_cb"
      },
      "source": [
        "##Import des données depuis le Drive"
      ]
    },
    {
      "cell_type": "code",
      "metadata": {
        "id": "-60doJo5ePZD"
      },
      "source": [
        "from pydrive.auth import GoogleAuth\n",
        "from pydrive.drive import GoogleDrive\n",
        "from google.colab import auth\n",
        "from oauth2client.client import GoogleCredentials\n",
        "\n",
        "auth.authenticate_user()\n",
        "gauth = GoogleAuth()\n",
        "gauth.credentials = GoogleCredentials.get_application_default()\n",
        "drive = GoogleDrive(gauth)"
      ],
      "execution_count": 6,
      "outputs": []
    },
    {
      "cell_type": "code",
      "metadata": {
        "id": "3YE2FyKFe4g_"
      },
      "source": [
        "# https://drive.google.com/file/d/1g6GbXJB-NxBt3F-1ftMz2SwzFQ_GU5oZ/view?usp=sharing\n",
        "# FX_HFData.xlsx\n",
        "downloaded = drive.CreateFile({'id':\"1g6GbXJB-NxBt3F-1ftMz2SwzFQ_GU5oZ\"})   # replace the id with id of file you want to access\n",
        "downloaded.GetContentFile('FX_HFData.xlsx')"
      ],
      "execution_count": 7,
      "outputs": []
    },
    {
      "cell_type": "markdown",
      "metadata": {
        "id": "cHMdg2K7jKLH"
      },
      "source": [
        "## Chargement du fichier et nettoyage des données\n"
      ]
    },
    {
      "cell_type": "code",
      "metadata": {
        "colab": {
          "base_uri": "https://localhost:8080/",
          "height": 294
        },
        "id": "djD_XUWmffYr",
        "outputId": "54f10ee1-1e73-4b45-a728-90c1f4b44cfc"
      },
      "source": [
        "df = pd.read_excel('FX_HFData.xlsx',sheet_name='Daily All',dtype={' ': datetime.date, 'USDCAD Curncy': float, 'EURUSD Curncy': float, 'GBPUSD Curncy': float})\n",
        "df = df.drop(columns=['USDJPY Curncy','USDCHF Curncy',\n",
        "                      'AUDUSD Curncy','USDSEK Curncy','USDNOK Curncy','NZDUSD Curncy','USDSGD Curncy'])\n",
        "df = df.dropna()\n",
        "df.columns = ['date', 'USDCAD','EURUSD', 'GBPUSD']\n",
        "df.describe()"
      ],
      "execution_count": 8,
      "outputs": [
        {
          "output_type": "execute_result",
          "data": {
            "text/html": [
              "<div>\n",
              "<style scoped>\n",
              "    .dataframe tbody tr th:only-of-type {\n",
              "        vertical-align: middle;\n",
              "    }\n",
              "\n",
              "    .dataframe tbody tr th {\n",
              "        vertical-align: top;\n",
              "    }\n",
              "\n",
              "    .dataframe thead th {\n",
              "        text-align: right;\n",
              "    }\n",
              "</style>\n",
              "<table border=\"1\" class=\"dataframe\">\n",
              "  <thead>\n",
              "    <tr style=\"text-align: right;\">\n",
              "      <th></th>\n",
              "      <th>USDCAD</th>\n",
              "      <th>EURUSD</th>\n",
              "      <th>GBPUSD</th>\n",
              "    </tr>\n",
              "  </thead>\n",
              "  <tbody>\n",
              "    <tr>\n",
              "      <th>count</th>\n",
              "      <td>10640.000000</td>\n",
              "      <td>10640.000000</td>\n",
              "      <td>10640.000000</td>\n",
              "    </tr>\n",
              "    <tr>\n",
              "      <th>mean</th>\n",
              "      <td>1.264089</td>\n",
              "      <td>1.171747</td>\n",
              "      <td>1.612382</td>\n",
              "    </tr>\n",
              "    <tr>\n",
              "      <th>std</th>\n",
              "      <td>0.150234</td>\n",
              "      <td>0.175962</td>\n",
              "      <td>0.229712</td>\n",
              "    </tr>\n",
              "    <tr>\n",
              "      <th>min</th>\n",
              "      <td>0.920350</td>\n",
              "      <td>0.644370</td>\n",
              "      <td>1.052000</td>\n",
              "    </tr>\n",
              "    <tr>\n",
              "      <th>25%</th>\n",
              "      <td>1.163687</td>\n",
              "      <td>1.080858</td>\n",
              "      <td>1.474000</td>\n",
              "    </tr>\n",
              "    <tr>\n",
              "      <th>50%</th>\n",
              "      <td>1.270245</td>\n",
              "      <td>1.181470</td>\n",
              "      <td>1.589745</td>\n",
              "    </tr>\n",
              "    <tr>\n",
              "      <th>75%</th>\n",
              "      <td>1.364800</td>\n",
              "      <td>1.297900</td>\n",
              "      <td>1.722500</td>\n",
              "    </tr>\n",
              "    <tr>\n",
              "      <th>max</th>\n",
              "      <td>1.613500</td>\n",
              "      <td>1.599130</td>\n",
              "      <td>2.446000</td>\n",
              "    </tr>\n",
              "  </tbody>\n",
              "</table>\n",
              "</div>"
            ],
            "text/plain": [
              "             USDCAD        EURUSD        GBPUSD\n",
              "count  10640.000000  10640.000000  10640.000000\n",
              "mean       1.264089      1.171747      1.612382\n",
              "std        0.150234      0.175962      0.229712\n",
              "min        0.920350      0.644370      1.052000\n",
              "25%        1.163687      1.080858      1.474000\n",
              "50%        1.270245      1.181470      1.589745\n",
              "75%        1.364800      1.297900      1.722500\n",
              "max        1.613500      1.599130      2.446000"
            ]
          },
          "metadata": {
            "tags": []
          },
          "execution_count": 8
        }
      ]
    },
    {
      "cell_type": "code",
      "metadata": {
        "colab": {
          "base_uri": "https://localhost:8080/",
          "height": 297
        },
        "id": "CD_forPKi9Wf",
        "outputId": "69ad9170-a65f-450f-c8e4-323d704a171d"
      },
      "source": [
        "plt.figure()\n",
        "plt.plot(df['date'],df['USDCAD'], label='USDCAD')\n",
        "plt.plot(df['date'],df['EURUSD'], label='EURUSD')\n",
        "plt.plot(df['date'],df['GBPUSD'], label='GBPUSD')\n",
        "plt.xlabel('date')\n",
        "plt.ylabel('Fx Price')\n",
        "plt.legend()"
      ],
      "execution_count": 9,
      "outputs": [
        {
          "output_type": "execute_result",
          "data": {
            "text/plain": [
              "<matplotlib.legend.Legend at 0x7f82b06bfe90>"
            ]
          },
          "metadata": {
            "tags": []
          },
          "execution_count": 9
        },
        {
          "output_type": "display_data",
          "data": {
            "image/png": "[encoded data removed]",
            "text/plain": [
              "<Figure size 432x288 with 1 Axes>"
            ]
          },
          "metadata": {
            "tags": [],
            "needs_background": "light"
          }
        }
      ]
    },
    {
      "cell_type": "markdown",
      "metadata": {
        "id": "ID44zEMkp3kQ"
      },
      "source": [
        "## Création des datasets (train, validate et test)"
      ]
    },
    {
      "cell_type": "code",
      "metadata": {
        "id": "89G0kQl5p7v6"
      },
      "source": [
        "seq_len = 8 # 7 premiers sont les séquences d'entrée et le huitieme est la cible à prédire\n",
        "s = pd.Series(df['GBPUSD'].values) # USDCAD ou EURUSD ou GBPUSD\n",
        "\n",
        "arr = [s.shift(x).values[::-1][:seq_len] for x in range(len(s))[::-1]]\n",
        "dfs = []\n",
        "for row in arr:\n",
        "  dfs.append(row[::-1])\n",
        "dfs = dfs[seq_len-1:]"
      ],
      "execution_count": 10,
      "outputs": []
    },
    {
      "cell_type": "code",
      "metadata": {
        "colab": {
          "base_uri": "https://localhost:8080/"
        },
        "id": "QBvcm7xO49JO",
        "outputId": "66600ff4-db57-490a-c63e-5aec9b1384f2"
      },
      "source": [
        "print(dfs[0])\n",
        "print(dfs[1])\n",
        "print(len(dfs))"
      ],
      "execution_count": 11,
      "outputs": [
        {
          "output_type": "stream",
          "text": [
            "[2.2427 2.24   2.237  2.2615 2.262  2.266  2.258  2.257 ]\n",
            "[2.24   2.237  2.2615 2.262  2.266  2.258  2.257  2.2755]\n",
            "10633\n"
          ],
          "name": "stdout"
        }
      ]
    },
    {
      "cell_type": "markdown",
      "metadata": {
        "id": "uspAyu8n-mt9"
      },
      "source": [
        "On divise le dataset en 3 parties:\n",
        "\n",
        "<ol>\n",
        "<li> <b> Train</b> (60% du dataset): utilisé pour entraîner le modèle. </li>   \n",
        "<li> <b> Validation</b> (20% du dataset): utilisé pour évaluer les \"hyper-parameters\", c'est à dire les paramètres intrinsèques au bon apprentissage. </li>   \n",
        "<li> <b> Test</b> (20% du dataset): utilisé pour évaluer la généralisation de la performance sur des données hors apprentissage. </li>\n",
        "</ol>"
      ]
    },
    {
      "cell_type": "code",
      "metadata": {
        "id": "34IdIF4T-Ns7"
      },
      "source": [
        "train, validate, test = np.split(dfs, [int(.6*len(dfs)), int(.8*len(dfs))])"
      ],
      "execution_count": 12,
      "outputs": []
    },
    {
      "cell_type": "markdown",
      "metadata": {
        "id": "0It9USfV9hu2"
      },
      "source": [
        "Dans les 2 sections suivantes, on créé les séquences d'entrées et de sorties telles que les 7 premiers prix journaliers sont les séquences d'entrée et le huitieme est la cible à prédire !\n",
        "\n",
        "Dans les 2 suivantes, on \"standardise\" les jeux de données pour faciliter l'apprentissage RNN."
      ]
    },
    {
      "cell_type": "code",
      "metadata": {
        "id": "2BV7WRWH0BqC"
      },
      "source": [
        "def split_x_y_in_torch(dfs):\n",
        "  X = []\n",
        "  Y = []\n",
        "  for row in dfs:\n",
        "    X.append([row[0:seq_len-1]])\n",
        "    Y.append([row[seq_len-1]])\n",
        "  X = np.array(X)\n",
        "  Y = np.array(Y)\n",
        "  return torch.from_numpy(X.transpose(0,2,1)).float(), torch.from_numpy(Y).float()"
      ],
      "execution_count": 13,
      "outputs": []
    },
    {
      "cell_type": "code",
      "metadata": {
        "colab": {
          "base_uri": "https://localhost:8080/"
        },
        "id": "9gP9A2BM6AOk",
        "outputId": "e52f43ac-ac22-413a-da05-9be7f157d452"
      },
      "source": [
        "X_train, y_train = split_x_y_in_torch(train)\n",
        "X_validate, y_validate = split_x_y_in_torch(validate)\n",
        "X_test, y_test = split_x_y_in_torch(test)\n",
        "\n",
        "print(X_train[0])\n",
        "print(y_train[0])\n",
        "print(X_validate[0])\n",
        "print(y_validate[0])\n",
        "print(X_test[0])\n",
        "print(y_test[0])"
      ],
      "execution_count": 14,
      "outputs": [
        {
          "output_type": "stream",
          "text": [
            "tensor([[2.2427],\n",
            "        [2.2400],\n",
            "        [2.2370],\n",
            "        [2.2615],\n",
            "        [2.2620],\n",
            "        [2.2660],\n",
            "        [2.2580]])\n",
            "tensor([2.2570])\n",
            "tensor([[1.8825],\n",
            "        [1.8705],\n",
            "        [1.8595],\n",
            "        [1.8665],\n",
            "        [1.8711],\n",
            "        [1.8720],\n",
            "        [1.8771]])\n",
            "tensor([1.8807])\n",
            "tensor([[1.4915],\n",
            "        [1.4903],\n",
            "        [1.4923],\n",
            "        [1.5082],\n",
            "        [1.5114],\n",
            "        [1.5107],\n",
            "        [1.5099]])\n",
            "tensor([1.5101])\n"
          ],
          "name": "stdout"
        }
      ]
    },
    {
      "cell_type": "code",
      "metadata": {
        "id": "4wqX8nx9CWy3"
      },
      "source": [
        "def standardize(X, mean=None, std=None):\n",
        "    \"\"\"The function standardizes the X tensor. \n",
        "    Args:\n",
        "      X: torch.Tensor.\n",
        "    \n",
        "    Returns:\n",
        "      Xs: torch.Tensor standardize.\n",
        "      mean: float, the mean of X.\n",
        "      stdev: float, the stdev of X.\n",
        "    \"\"\"\n",
        "    \n",
        "    X=X.float()\n",
        "\n",
        "    if mean == None:\n",
        "      mean = torch.mean(X)\n",
        "    if std == None:\n",
        "      std = torch.std(X)\n",
        "      \n",
        "    Xs = (X-mean) / std\n",
        "\n",
        "    return Xs, mean, std"
      ],
      "execution_count": 15,
      "outputs": []
    },
    {
      "cell_type": "code",
      "metadata": {
        "colab": {
          "base_uri": "https://localhost:8080/"
        },
        "id": "R_D6HpnECvIr",
        "outputId": "6ff610b8-e8ea-454d-8310-78cab47212c0"
      },
      "source": [
        "mean = np.mean(dfs)\n",
        "std = np.std(dfs)\n",
        "\n",
        "Xs_train, Xs_train_mean, Xs_train_std = standardize(X_train, mean, std)\n",
        "ys_train, ys_train_mean, ys_train_std = standardize(y_train, mean, std)\n",
        "\n",
        "Xs_validate, Xs_validate_mean, Xs_validate_std = standardize(X_validate, mean, std)\n",
        "ys_validate, ys_validate_mean, ys_validate_std = standardize(y_validate, mean, std)\n",
        "\n",
        "Xs_test, Xs_test_mean, Xs_test_std = standardize(X_test, mean, std)\n",
        "ys_test, ys_test_mean, ys_test_std = standardize(y_test, mean, std)\n",
        "\n",
        "print(Xs_train[0])\n",
        "print(Xs_train_mean)\n",
        "print(Xs_train_std)\n",
        "print(ys_train[0])\n",
        "\n",
        "print(Xs_validate[1])\n",
        "print(Xs_validate_mean)\n",
        "print(Xs_validate_std)\n",
        "print(ys_validate[1])\n",
        "\n",
        "print(Xs_test[200])\n",
        "print(Xs_test_mean)\n",
        "print(Xs_test_std)\n",
        "print(ys_test[200])"
      ],
      "execution_count": 16,
      "outputs": [
        {
          "output_type": "stream",
          "text": [
            "tensor([[2.7476],\n",
            "        [2.7359],\n",
            "        [2.7228],\n",
            "        [2.8296],\n",
            "        [2.8317],\n",
            "        [2.8492],\n",
            "        [2.8143]])\n",
            "1.6122411804053418\n",
            "0.229455866803406\n",
            "tensor([2.8099])\n",
            "tensor([[1.1253],\n",
            "        [1.0778],\n",
            "        [1.1081],\n",
            "        [1.1281],\n",
            "        [1.1318],\n",
            "        [1.1541],\n",
            "        [1.1702]])\n",
            "1.6122411804053418\n",
            "0.229455866803406\n",
            "tensor([1.0981])\n",
            "tensor([[0.0763],\n",
            "        [0.0617],\n",
            "        [0.1168],\n",
            "        [0.1081],\n",
            "        [0.0929],\n",
            "        [0.1018],\n",
            "        [0.1068]])\n",
            "1.6122411804053418\n",
            "0.229455866803406\n",
            "tensor([0.0995])\n"
          ],
          "name": "stdout"
        }
      ]
    },
    {
      "cell_type": "markdown",
      "metadata": {
        "id": "vgLXIAUbJ9Wi"
      },
      "source": [
        "# Implémentation du modèle RNN"
      ]
    },
    {
      "cell_type": "markdown",
      "metadata": {
        "id": "0MpnbtHjLaKg"
      },
      "source": [
        "## Modèle RNN\n",
        "Implement an RNN network using the [torch.nn.RNN()](https://pytorch.org/docs/stable/generated/torch.nn.RNN.html#torch.nn.RNN) class. The input arguments are the following:\n",
        "- **input_dim**: the dimension of the input data\n",
        "- **output_dim**: the dimension of the output data\n",
        "- **hidden_size**: the size of the hidden state of the RNN\n",
        "- **n_layers**: the number of layers of the RNN."
      ]
    },
    {
      "cell_type": "markdown",
      "metadata": {
        "id": "pzUer4Hj1aBW"
      },
      "source": [
        "### Définition du modèle RNN"
      ]
    },
    {
      "cell_type": "code",
      "metadata": {
        "id": "JTmLCdH5KFEx"
      },
      "source": [
        "class RNNLinear(nn.Module):\n",
        "\n",
        "    def __init__(self, input_dim, output_dim, hidden_size, n_layers):\n",
        "        super(RNNLinear, self).__init__()\n",
        "        self.rnn_layer = torch.nn.RNN(input_size=input_dim,hidden_size=hidden_size,num_layers=n_layers)\n",
        "        self.linear_layer = torch.nn.Linear(in_features=hidden_size,out_features=output_dim)\n",
        "        self.print_debug_flag = False\n",
        "\n",
        "    def print_debug(self,text,var):\n",
        "      if self.print_debug_flag == True:\n",
        "        print(text,var)\n",
        "\n",
        "    def forward(self, x):\n",
        "        # x has size of (n_samples=batch_size, seq_len, input_dim)\n",
        "        # The RNN's input must be of size (seq_len, batch_size, input_dim)\n",
        "        self.print_debug('x:',x)\n",
        "\n",
        "        x = torch.transpose(x, 0, 1)\n",
        "\n",
        "        self.print_debug('x\\':',x)\n",
        "\n",
        "        output, hidden = self.rnn_layer(x) #hidden c'est le dernier h (vecteur)\n",
        "                                            # si on veut initialiser un autre rnn avec les parametres déjà appris\n",
        "\n",
        "        self.print_debug('hidden:',hidden)\n",
        "        self.print_debug('output:',output)\n",
        "        self.print_debug('output[-1]:',output[-1])\n",
        "        self.print_debug('linear_layer(output):',self.linear_layer(output))\n",
        "        self.print_debug('linear_layer(output[-1]):',self.linear_layer(output[-1]))\n",
        "\n",
        "        output = output[-1]\n",
        "        pred = self.linear_layer(output)\n",
        "        \n",
        "        self.print_debug('pred:',pred)\n",
        "\n",
        "        return pred"
      ],
      "execution_count": 17,
      "outputs": []
    },
    {
      "cell_type": "markdown",
      "metadata": {
        "id": "SoDgyyJZ1uzW"
      },
      "source": [
        "### Instanciation du modèle"
      ]
    },
    {
      "cell_type": "markdown",
      "metadata": {
        "id": "XBLrVYJH131o"
      },
      "source": [
        "Si l'on souhaite faire du pre-tranining avec plusieurs devises, ne lancer cette portion de code que la première fois, sinon le RNN partira avec des poids initiaux aléatoires."
      ]
    },
    {
      "cell_type": "code",
      "metadata": {
        "id": "u4CIvM0DLkAg"
      },
      "source": [
        "input_dim = 1\n",
        "output_dim = 1\n",
        "n_layers = 2\n",
        "hidden_size = 20\n",
        "\n",
        "# Declaration of the RNN model\n",
        "model_rnn = RNNLinear(input_dim, output_dim, hidden_size, n_layers)\n",
        "\n",
        "# Transfer the model to the proper device\n",
        "model_rnn = model_rnn.to(device)\n",
        "\n",
        "# save its initial weights (we do this so that, if we run the model\n",
        "# multiple time, we always start from these randomly initialized weights)\n",
        "init_rnn_weights = copy.deepcopy(model_rnn.state_dict())"
      ],
      "execution_count": 18,
      "outputs": []
    },
    {
      "cell_type": "markdown",
      "metadata": {
        "id": "iN_OrYJd2Ze3"
      },
      "source": [
        "### Test du modèle avant apprentissage (inital ou suite au pre-training)"
      ]
    },
    {
      "cell_type": "code",
      "metadata": {
        "colab": {
          "base_uri": "https://localhost:8080/"
        },
        "id": "b-_2xT79_ziq",
        "outputId": "d699dc1b-6da7-4f67-ad97-fd597cdac2cf"
      },
      "source": [
        "# Transfer the data to the proper device\n",
        "Xs_train = Xs_train.to(device)\n",
        "\n",
        "# Use the RNN to predict the output of each input sequence prior to training\n",
        "# Ensure that the inputs and output are correct\n",
        "y_pred = model_rnn(Xs_train)\n",
        "print(\"Size of input data: {}\".format(Xs_train.shape)) # (n_samples, seq_len, input_dim)\n",
        "print(\"Size of predictions: {}\".format(y_pred.shape)) # (n_samples, input_dim)\n",
        "        \n",
        "# x has size of (n_samples=batch_size, seq_len, input_dim)\n",
        "# The RNN's input must be of size (seq_len, batch_size, input_dim)\n",
        "print(Xs_train.shape)\n",
        "Xs_train_t = torch.transpose(Xs_train, 0, 1)\n",
        "print(Xs_train_t.shape)\n",
        "print(ys_train[1])\n",
        "print(y_pred[1])"
      ],
      "execution_count": 19,
      "outputs": [
        {
          "output_type": "stream",
          "text": [
            "Size of input data: torch.Size([6379, 7, 1])\n",
            "Size of predictions: torch.Size([6379, 1])\n",
            "torch.Size([6379, 7, 1])\n",
            "torch.Size([7, 6379, 1])\n",
            "tensor([2.8906])\n",
            "tensor([-0.0210], device='cuda:0', grad_fn=<SelectBackward>)\n"
          ],
          "name": "stdout"
        }
      ]
    },
    {
      "cell_type": "markdown",
      "metadata": {
        "id": "Fo4_yaVW8X8h"
      },
      "source": [
        "## Création des \"data loader\"\n",
        "Cela utilise les objets DataLoader PyTorch pour manipuler plus facilement et efficacement nos données."
      ]
    },
    {
      "cell_type": "code",
      "metadata": {
        "id": "jte-goD48cwB"
      },
      "source": [
        "batch_size = 4\n",
        "\n",
        "# dataloader for the training dataset\n",
        "train_loader = DataLoader(TensorDataset(Xs_train, ys_train), batch_size, shuffle=True)\n",
        "\n",
        "# prepare the dataloader for the validation dataset\n",
        "valid_loader = DataLoader(TensorDataset(Xs_validate, ys_validate), batch_size)\n",
        "\n",
        "# prepare the dataloader for the test dataset\n",
        "test_loader = DataLoader(TensorDataset(Xs_test, ys_test), batch_size)"
      ],
      "execution_count": 20,
      "outputs": []
    },
    {
      "cell_type": "markdown",
      "metadata": {
        "id": "jNnYRg8f9ey5"
      },
      "source": [
        "## Boucle d'apprentissage (extrait des tutoriaux du MILA)"
      ]
    },
    {
      "cell_type": "code",
      "metadata": {
        "id": "0Dz7tgiR9rij"
      },
      "source": [
        "learning_rate = 0.01\n",
        "\n",
        "# Define the loss function\n",
        "loss_fun = torch.nn.MSELoss()\n",
        "\n",
        "# Define the Optimizer\n",
        "def get_optimizer(model):\n",
        "  optimizer = torch.optim.SGD(model.parameters(), lr=learning_rate)\n",
        "  return optimizer"
      ],
      "execution_count": 21,
      "outputs": []
    },
    {
      "cell_type": "code",
      "metadata": {
        "id": "Gn9Vyi839tJb"
      },
      "source": [
        "# Define function to encapsulate main training loop\n",
        "def train_model(model, init_weights, optimizer):\n",
        "\n",
        "    since = time.time()\n",
        "\n",
        "    train_loss_history = []\n",
        "    valid_loss_history = []\n",
        "\n",
        "    n_epoch = 25\n",
        "\n",
        "    model.load_state_dict(init_weights)\n",
        "\n",
        "    print(\"Start training\")\n",
        "\n",
        "    for epoch in range(n_epoch):\n",
        "        \n",
        "        train_loss = 0\n",
        "        train_n_iter = 0\n",
        "        \n",
        "        # Set model to train mode\n",
        "        model.train()\n",
        "        torch.set_grad_enabled(True)\n",
        "        \n",
        "        # Iterate over train data\n",
        "        for x, y in train_loader:  \n",
        "\n",
        "            \n",
        "            # Put tensors on device (GPU when available)\n",
        "            x = x.to(device)\n",
        "            y = y.to(device)\n",
        "\n",
        "            # Zero the gradient buffer\n",
        "            optimizer.zero_grad()\n",
        "            \n",
        "            # Perform the Forward operation\n",
        "            outputs = model(x)\n",
        "            \n",
        "            # Calculate the loss using the loss function\n",
        "            loss = loss_fun(outputs, y)\n",
        "            \n",
        "            # Perform the Backward operation\n",
        "            loss.backward()\n",
        "            \n",
        "            # Perform the Optimization step\n",
        "            optimizer.step()\n",
        "            \n",
        "            # Statistics\n",
        "            train_loss += loss.item()\n",
        "            train_n_iter += 1\n",
        "        \n",
        "        valid_loss = 0\n",
        "        valid_n_iter = 0\n",
        "        \n",
        "        # Set model to evaluate mode\n",
        "        model.eval()\n",
        "        with torch.no_grad():\n",
        "        \n",
        "            # Iterate over valid data\n",
        "            for x, y in valid_loader:  \n",
        "            \n",
        "                # Put tensors on device (GPU when available)\n",
        "                x = x.to(device)\n",
        "                y = y.to(device)\n",
        "            \n",
        "                # Perform the Forward operation\n",
        "                outputs = model(x)\n",
        "                \n",
        "                # Calculate the loss using the loss fun function\n",
        "                loss = loss_fun(outputs,y)\n",
        "            \n",
        "                # Statistics\n",
        "                valid_loss += loss.item()\n",
        "                valid_n_iter += 1\n",
        "        \n",
        "        train_loss_history.append(train_loss / train_n_iter)\n",
        "        valid_loss_history.append(valid_loss / valid_n_iter)\n",
        "\n",
        "\n",
        "        print(\"Epoch {:2d} | Training loss = {:.5f} | Validation loss = {:.5f} \"\n",
        "              .format(epoch+1, (train_loss / train_n_iter), (valid_loss / valid_n_iter)))\n",
        "\n",
        "    time_elapsed = time.time() - since\n",
        "\n",
        "    print('\\n\\nTraining complete in {:.0f}m {:.0f}s'.format(\n",
        "        time_elapsed // 60, time_elapsed % 60))\n",
        "    \n",
        "    return train_loss_history, valid_loss_history"
      ],
      "execution_count": 22,
      "outputs": []
    },
    {
      "cell_type": "markdown",
      "metadata": {
        "id": "wM0LU2Fn3In-"
      },
      "source": [
        "C'est dans la portion suivante que l'on gére le pre-training ou que l'on relance un apprentissage initial.\n",
        "\n",
        "Voir le commentaire # pre-training."
      ]
    },
    {
      "cell_type": "code",
      "metadata": {
        "colab": {
          "base_uri": "https://localhost:8080/"
        },
        "id": "enM9X82p9-a1",
        "outputId": "26024b28-da32-415a-9572-ec2adac7b33c"
      },
      "source": [
        "# Perform training of the RNN model\n",
        "optimizer_rnn = get_optimizer(model_rnn)\n",
        "\n",
        "# pre-training : on repart de previous_rnn_weights sinon init_rnn_weights\n",
        "rnn_weights =  init_rnn_weights #previous_rnn_weights\n",
        "loss_history = train_model(model_rnn, rnn_weights, optimizer_rnn)\n",
        "\n",
        "# Save loss history for later\n",
        "rnn_train_loss_history, rnn_valid_loss_history = loss_history\n",
        "\n",
        "# Save weights for later pre-training\n",
        "previous_rnn_weights = copy.deepcopy(model_rnn.state_dict())"
      ],
      "execution_count": 25,
      "outputs": [
        {
          "output_type": "stream",
          "text": [
            "Start training\n",
            "Epoch  1 | Training loss = 0.02757 | Validation loss = 0.00284 \n",
            "Epoch  2 | Training loss = 0.00369 | Validation loss = 0.00395 \n",
            "Epoch  3 | Training loss = 0.00328 | Validation loss = 0.00406 \n",
            "Epoch  4 | Training loss = 0.00313 | Validation loss = 0.00257 \n",
            "Epoch  5 | Training loss = 0.00298 | Validation loss = 0.00311 \n",
            "Epoch  6 | Training loss = 0.00286 | Validation loss = 0.00239 \n",
            "Epoch  7 | Training loss = 0.00284 | Validation loss = 0.00222 \n",
            "Epoch  8 | Training loss = 0.00276 | Validation loss = 0.00264 \n",
            "Epoch  9 | Training loss = 0.00270 | Validation loss = 0.00374 \n",
            "Epoch 10 | Training loss = 0.00274 | Validation loss = 0.00270 \n",
            "Epoch 11 | Training loss = 0.00264 | Validation loss = 0.00242 \n",
            "Epoch 12 | Training loss = 0.00260 | Validation loss = 0.00240 \n",
            "Epoch 13 | Training loss = 0.00259 | Validation loss = 0.00301 \n",
            "Epoch 14 | Training loss = 0.00259 | Validation loss = 0.00212 \n",
            "Epoch 15 | Training loss = 0.00253 | Validation loss = 0.00225 \n",
            "Epoch 16 | Training loss = 0.00256 | Validation loss = 0.00204 \n",
            "Epoch 17 | Training loss = 0.00251 | Validation loss = 0.00212 \n",
            "Epoch 18 | Training loss = 0.00249 | Validation loss = 0.00234 \n",
            "Epoch 19 | Training loss = 0.00251 | Validation loss = 0.00220 \n",
            "Epoch 20 | Training loss = 0.00245 | Validation loss = 0.00216 \n",
            "Epoch 21 | Training loss = 0.00247 | Validation loss = 0.00239 \n",
            "Epoch 22 | Training loss = 0.00245 | Validation loss = 0.00354 \n",
            "Epoch 23 | Training loss = 0.00244 | Validation loss = 0.00219 \n",
            "Epoch 24 | Training loss = 0.00245 | Validation loss = 0.00272 \n",
            "Epoch 25 | Training loss = 0.00247 | Validation loss = 0.00261 \n",
            "\n",
            "\n",
            "Training complete in 1m 54s\n"
          ],
          "name": "stdout"
        }
      ]
    },
    {
      "cell_type": "code",
      "metadata": {
        "colab": {
          "base_uri": "https://localhost:8080/",
          "height": 279
        },
        "id": "VJQwqzYd-EIj",
        "outputId": "051b0a8a-0652-404f-bd33-4c3d693d9b82"
      },
      "source": [
        "# Plot training and validation curve\n",
        "n_epoch = 25\n",
        "xaxis = range(1, n_epoch + 1)\n",
        "plt.plot(xaxis, rnn_train_loss_history, label='train-rnn')\n",
        "plt.plot(xaxis, rnn_valid_loss_history, label='valid-rnn')\n",
        "\n",
        "plt.xlabel('# epochs')\n",
        "plt.ylabel('Loss')\n",
        "plt.legend()\n",
        "\n",
        "plt.show()"
      ],
      "execution_count": 26,
      "outputs": [
        {
          "output_type": "display_data",
          "data": {
            "image/png": "[encoded data removed]",
            "text/plain": [
              "<Figure size 432x288 with 1 Axes>"
            ]
          },
          "metadata": {
            "tags": [],
            "needs_background": "light"
          }
        }
      ]
    },
    {
      "cell_type": "markdown",
      "metadata": {
        "id": "NrSGJTTqK_R5"
      },
      "source": [
        "# Validation pré-production du modèle"
      ]
    },
    {
      "cell_type": "code",
      "metadata": {
        "id": "_KbWu67f56YP"
      },
      "source": [
        "def print_mean_abs_error(X, Y, idx=None):\n",
        "    xs = X.numpy()\n",
        "    ys = Y.numpy()\n",
        "\n",
        "    if idx == None:\n",
        "      diff = abs(xs-ys)\n",
        "      print(f\"Absolute mean error between target[:] et prediction[:] = {np.mean(diff)}\")\n",
        "    else:\n",
        "      diff = abs(xs[idx]-ys[idx])\n",
        "      print(f\"Absolute mean error between target[{idx}] et prediction[{idx}] = {np.mean(diff)}\")"
      ],
      "execution_count": 27,
      "outputs": []
    },
    {
      "cell_type": "markdown",
      "metadata": {
        "id": "LcBkM5mi4dTW"
      },
      "source": [
        "## Validation avec le dataset de tests au complet"
      ]
    },
    {
      "cell_type": "code",
      "metadata": {
        "colab": {
          "base_uri": "https://localhost:8080/",
          "height": 300
        },
        "id": "VYDVf7pzCRpq",
        "outputId": "d185a73c-4c89-4efe-d9e8-c38cec06f7a6"
      },
      "source": [
        "# Put sequence data on device (GPU when available)\n",
        "Xs_test = Xs_test.to(device)\n",
        "\n",
        "# Put target data on device (GPU when available)\n",
        "ys_test = ys_test.to(device)\n",
        "\n",
        "# Predict the value of the sequence data using the RNN-based model\n",
        "ypred_rnn = model_rnn(Xs_test)\n",
        "\n",
        "# Compute the loss of the RNN-based model using the loss function\n",
        "loss_test_rnn = loss_fun(ypred_rnn, ys_test)\n",
        "\n",
        "print(f\"The RNN's test mean squared error is {float(loss_test_rnn):2.3f}\")\n",
        "\n",
        "plt.scatter(ys_test.cpu().detach().numpy(),ypred_rnn.cpu().detach().numpy())"
      ],
      "execution_count": 28,
      "outputs": [
        {
          "output_type": "stream",
          "text": [
            "The RNN's test mean squared error is 0.003\n"
          ],
          "name": "stdout"
        },
        {
          "output_type": "execute_result",
          "data": {
            "text/plain": [
              "<matplotlib.collections.PathCollection at 0x7f829cb7ba50>"
            ]
          },
          "metadata": {
            "tags": []
          },
          "execution_count": 28
        },
        {
          "output_type": "display_data",
          "data": {
            "image/png": "[encoded data removed]",
            "text/plain": [
              "<Figure size 432x288 with 1 Axes>"
            ]
          },
          "metadata": {
            "tags": [],
            "needs_background": "light"
          }
        }
      ]
    },
    {
      "cell_type": "markdown",
      "metadata": {
        "id": "IWvI_v5_DQdy"
      },
      "source": [
        "Dans la section suivante on affiche une prédiction de prix.\n",
        "\n",
        "On affiche aléatoirement la prévision pour l'un des éléments du jeu de test."
      ]
    },
    {
      "cell_type": "code",
      "metadata": {
        "colab": {
          "base_uri": "https://localhost:8080/"
        },
        "id": "xmQoENQqC1mt",
        "outputId": "96e0b193-b6d3-42bd-d92b-790cc92afc45"
      },
      "source": [
        "Xs_test = Xs_test.cpu()\n",
        "ypred_rnn = ypred_rnn.cpu()\n",
        "ys_test = ys_test.cpu()\n",
        "\n",
        "# Unstandardize  xtest ytest\n",
        "xtest_unstd = Xs_test*std + mean\n",
        "\n",
        "ys_test_unstd = ys_test*std + mean\n",
        "\n",
        "# Unstandardize  the predictions of the RNN-based model on xtest\n",
        "ypred_unstd = ypred_rnn*std + mean\n",
        "\n",
        "# sample a random number from the examples above:\n",
        "idx = np.random.randint(len(ys_test))\n",
        "\n",
        "print(\"\")\n",
        "print(\"Example RNN:\")\n",
        "print(\"\")\n",
        "print(f\"xtest[{idx}] = {xtest_unstd.detach()[idx]}\")\n",
        "print(f\"ys_test[{idx}] = {ys_test_unstd.detach()[idx]}\\n ypred[{idx}] = {ypred_unstd.detach()[idx]}\")\n",
        "\n",
        "print_mean_abs_error(ys_test_unstd.detach(), ypred_unstd.detach(), idx)\n",
        "print_mean_abs_error(ys_test_unstd.detach(), ypred_unstd.detach())"
      ],
      "execution_count": 29,
      "outputs": [
        {
          "output_type": "stream",
          "text": [
            "\n",
            "Example RNN:\n",
            "\n",
            "xtest[1514] = tensor([[1.2699],\n",
            "        [1.2754],\n",
            "        [1.2740],\n",
            "        [1.2607],\n",
            "        [1.2629],\n",
            "        [1.2723],\n",
            "        [1.2777]])\n",
            "ys_test[1514] = tensor([1.2717])\n",
            " ypred[1514] = tensor([1.2668])\n",
            "Absolute mean error between target[1514] et prediction[1514] = 0.004934430122375488\n",
            "Absolute mean error between target[:] et prediction[:] = 0.009518584236502647\n"
          ],
          "name": "stdout"
        }
      ]
    },
    {
      "cell_type": "markdown",
      "metadata": {
        "id": "hSmY5aSq6V4E"
      },
      "source": [
        "## Validation avec des séquences unitaires"
      ]
    },
    {
      "cell_type": "markdown",
      "metadata": {
        "id": "StqpsY0I484T"
      },
      "source": [
        "Dans la section suivante on affiche une prédiction de prix.\n",
        "\n",
        "On affiche la prévision pour l'un des éléments du jeu de test (en fixant idx). \n",
        "\n",
        "**Identique à la section précédente (à fusionner plus tard).**"
      ]
    },
    {
      "cell_type": "code",
      "metadata": {
        "colab": {
          "base_uri": "https://localhost:8080/"
        },
        "id": "0waCkp6m6gJJ",
        "outputId": "f5193863-c133-4c95-965a-4a9916d800a2"
      },
      "source": [
        "idx = 0\n",
        "\n",
        "# Put sequence data on device (GPU when available)\n",
        "Xs_unit = Xs_test[idx:idx+1,:,:].to(device)\n",
        "\n",
        "# Put target data on device (GPU when available)\n",
        "ys_unit = ys_test[idx].to(device)\n",
        "\n",
        "# Predict the value of the sequence data using the RNN-based model\n",
        "ypred_rnn = model_rnn(Xs_unit)\n",
        "\n",
        "Xs_unit = Xs_unit.cpu()\n",
        "ypred_rnn = ypred_rnn.cpu()\n",
        "ys_unit = ys_unit.cpu()\n",
        "\n",
        "# Unstandardize  xtest ytest\n",
        "xunit_unstd = Xs_unit*std + mean\n",
        "\n",
        "ys_unit_unstd = ys_unit*std + mean\n",
        "\n",
        "# Unstandardize  the predictions of the RNN-based model on xtest\n",
        "ypred_unstd = ypred_rnn*std + mean\n",
        "\n",
        "print(f\"xunit[{idx}] = {xunit_unstd.detach()[0,:,0]}\")\n",
        "print(f\"ys_unit[{idx}] = {ys_unit_unstd.detach()}\\n ypred[{idx}] = {ypred_unstd.detach()}\")\n",
        "\n",
        "print_mean_abs_error(ys_unit_unstd.detach(), ypred_unstd.detach())"
      ],
      "execution_count": 30,
      "outputs": [
        {
          "output_type": "stream",
          "text": [
            "xunit[0] = tensor([1.4915, 1.4903, 1.4923, 1.5082, 1.5114, 1.5107, 1.5099])\n",
            "ys_unit[0] = tensor([1.5101])\n",
            " ypred[0] = tensor([[1.5035]])\n",
            "Absolute mean error between target[:] et prediction[:] = 0.006548643112182617\n"
          ],
          "name": "stdout"
        }
      ]
    },
    {
      "cell_type": "markdown",
      "metadata": {
        "id": "o6Flv2rQijD5"
      },
      "source": [
        "## Prédiction sur n jours suivants"
      ]
    },
    {
      "cell_type": "code",
      "metadata": {
        "colab": {
          "base_uri": "https://localhost:8080/"
        },
        "id": "CH0gWjdeXsHv",
        "outputId": "38948f55-3585-4719-ac8e-7258e43da8ce"
      },
      "source": [
        "def shif_right_and_complete(input_seq, item_to_add, debug=False):\n",
        "  if debug == True:\n",
        "    print(input_seq[0,:,0])\n",
        "    print(item_to_add[0])\n",
        "    print(\"--------------------\")\n",
        "  output = input_seq[:,1:7,:]\n",
        "  output = torch.cat((output, item_to_add.unsqueeze(2)),dim=1)\n",
        "  if debug == True:\n",
        "    print(output[0,:,0])\n",
        "  return output\n",
        "\n",
        "Xs_unit_1 = shif_right_and_complete(Xs_unit.detach(), ypred_rnn.detach(), debug=True)\n",
        "idx = 102\n",
        "Xs_test[idx:idx+1,:,0]\n",
        "Xs_test[idx:idx+2,:,0]\n",
        "Xs_test[idx:idx+3,:,0]"
      ],
      "execution_count": 31,
      "outputs": [
        {
          "output_type": "stream",
          "text": [
            "tensor([-0.5262, -0.5314, -0.5227, -0.4532, -0.4395, -0.4427, -0.4458])\n",
            "tensor([-0.4739])\n",
            "--------------------\n",
            "tensor([-0.5314, -0.5227, -0.4532, -0.4395, -0.4427, -0.4458, -0.4739])\n"
          ],
          "name": "stdout"
        },
        {
          "output_type": "execute_result",
          "data": {
            "text/plain": [
              "tensor([[-0.3987, -0.4367, -0.3609, -0.3342, -0.3373, -0.2762, -0.2543],\n",
              "        [-0.4367, -0.3609, -0.3342, -0.3373, -0.2762, -0.2543, -0.2719],\n",
              "        [-0.3609, -0.3342, -0.3373, -0.2762, -0.2543, -0.2719, -0.2882]])"
            ]
          },
          "metadata": {
            "tags": []
          },
          "execution_count": 31
        }
      ]
    },
    {
      "cell_type": "code",
      "metadata": {
        "id": "-AKq_ajKistM"
      },
      "source": [
        "def prediction_n_jours(inputs, targets, mean, std, n=7, idx=1500, display=False, bootstrap=True):\n",
        "  Xs_unit = inputs[idx:idx+1,:,:]\n",
        "  ys_targets = np.array([])\n",
        "  ys_predicts = np.array([])\n",
        "  ys_model1 = np.ones(n)*targets.numpy()[idx-1]\n",
        "  ys_model2 = np.ones(n)*torch.mean(Xs_test[idx-1:idx,:,:]).numpy()\n",
        "\n",
        "  for i in range(idx,idx+n):\n",
        "    Xs_unit = Xs_unit.to(device)\n",
        "    ypred_rnn = model_rnn(Xs_unit)\n",
        "    ys_targets = np.append(ys_targets,targets.numpy()[i])\n",
        "    ys_predicts = np.append(ys_predicts, ypred_rnn.cpu().detach().numpy()[0])\n",
        "    if bootstrap == True:\n",
        "      Xs_unit = shif_right_and_complete(Xs_unit.detach(), ypred_rnn.detach())\n",
        "\n",
        "  y_targets = ys_targets*std + mean\n",
        "  y_predicts = ys_predicts*std + mean\n",
        "  y_model1 =  ys_model1*std + mean\n",
        "  y_model2 =  ys_model2*std + mean\n",
        "\n",
        "  y_previous = targets.numpy()[idx-7:idx,0]*std + mean\n",
        "\n",
        "  rnn_mse = np.mean(np.power((y_predicts - y_targets),2))\n",
        "  model1_mse = np.mean(np.power((y_model1 - y_targets),2))\n",
        "  model2_mse = np.mean(np.power((y_model2 - y_targets),2))\n",
        "\n",
        "  # prediction sur le sens de la tendance (haussière ou baissière)\n",
        "  # dans les cas des 2 modèles standards, ce n'est pas possible\n",
        "  target_direction = np.sign(y_targets[-1] - y_previous[-1])\n",
        "  predict_direction = np.sign(y_predicts[-1] - y_previous[-1])\n",
        "\n",
        "  if display == True:\n",
        "    print(y_targets)\n",
        "    print(y_predicts)\n",
        "\n",
        "    xaxis = range(1, 8)\n",
        "    plt.plot(xaxis, y_previous, label='past 7 days')\n",
        "\n",
        "    start = 8\n",
        "    xaxis_pred = range(start, start+n)\n",
        "    plt.plot(xaxis_pred, y_targets, label='targets (real)')\n",
        "    plt.plot(xaxis_pred, y_predicts, label=f'RNN (mse={rnn_mse})')\n",
        "    plt.plot(xaxis_pred, y_model1, label=f'Std model1 (mse={model1_mse})')\n",
        "    plt.plot(xaxis_pred, y_model2, label=f'Std model2 (mse={model2_mse})')\n",
        "\n",
        "    plt.xlabel('# jours')\n",
        "    plt.ylabel('Fx Price')\n",
        "    plt.title(f'Predictions idx={idx}')\n",
        "    plt.legend()\n",
        "\n",
        "    plt.show()\n",
        "  \n",
        "  return rnn_mse, model1_mse, model2_mse, (predict_direction == target_direction)"
      ],
      "execution_count": 32,
      "outputs": []
    },
    {
      "cell_type": "markdown",
      "metadata": {
        "id": "jixVe15X6iIL"
      },
      "source": [
        "### Quelques courbes et résultats pour les prédictions sur n jours"
      ]
    },
    {
      "cell_type": "code",
      "metadata": {
        "colab": {
          "base_uri": "https://localhost:8080/",
          "height": 729
        },
        "id": "Es3Jb3H7vcW_",
        "outputId": "a3b0c4ca-5181-4c5b-9702-593ee75d8a77"
      },
      "source": [
        "prediction_n_jours(Xs_test, ys_test, mean, std, n=7, idx=8, display=True, bootstrap=True)\n",
        "prediction_n_jours(Xs_test, ys_test, mean, std, n=7, idx=1500, display=True, bootstrap=True)"
      ],
      "execution_count": 33,
      "outputs": [
        {
          "output_type": "stream",
          "text": [
            "[1.52290002 1.51035002 1.51300005 1.52353004 1.53365008 1.52556005\n",
            " 1.53231004]\n",
            "[1.51337155 1.50669826 1.49936062 1.49197312 1.4841457  1.47601035\n",
            " 1.46775443]\n"
          ],
          "name": "stdout"
        },
        {
          "output_type": "display_data",
          "data": {
            "image/png": "[encoded data removed]",
            "text/plain": [
              "<Figure size 432x288 with 1 Axes>"
            ]
          },
          "metadata": {
            "tags": [],
            "needs_background": "light"
          }
        },
        {
          "output_type": "stream",
          "text": [
            "[1.26101008 1.26562004 1.26454    1.27061001 1.26753001 1.26328008\n",
            " 1.26439005]\n",
            "[1.25398106 1.24505104 1.23622969 1.22782903 1.21935179 1.21084826\n",
            " 1.20261744]\n"
          ],
          "name": "stdout"
        },
        {
          "output_type": "display_data",
          "data": {
            "image/png": "[encoded data removed]",
            "text/plain": [
              "<Figure size 432x288 with 1 Axes>"
            ]
          },
          "metadata": {
            "tags": [],
            "needs_background": "light"
          }
        },
        {
          "output_type": "execute_result",
          "data": {
            "text/plain": [
              "(0.0017128953495947911, 1.0218685480568959e-05, 2.858284814289101e-05, False)"
            ]
          },
          "metadata": {
            "tags": []
          },
          "execution_count": 33
        }
      ]
    },
    {
      "cell_type": "code",
      "metadata": {
        "colab": {
          "base_uri": "https://localhost:8080/",
          "height": 382
        },
        "id": "NtQOeGo0p3oa",
        "outputId": "7fac5048-1bfd-4e67-cfac-149857c5db3e"
      },
      "source": [
        "prediction_n_jours(Xs_test, ys_test, mean, std, n=10, idx=1000, display=True, bootstrap=True)"
      ],
      "execution_count": 34,
      "outputs": [
        {
          "output_type": "stream",
          "text": [
            "[1.22609    1.23415998 1.2374901  1.25352005 1.25205008 1.26336006\n",
            " 1.2596901  1.25550001 1.24856    1.25794999]\n",
            "[1.22740547 1.21885905 1.2101647  1.20259553 1.19548092 1.18766344\n",
            " 1.18025029 1.17319615 1.16650609 1.16014678]\n"
          ],
          "name": "stdout"
        },
        {
          "output_type": "display_data",
          "data": {
            "image/png": "[encoded data removed]",
            "text/plain": [
              "<Figure size 432x288 with 1 Axes>"
            ]
          },
          "metadata": {
            "tags": [],
            "needs_background": "light"
          }
        },
        {
          "output_type": "execute_result",
          "data": {
            "text/plain": [
              "(0.0041888799457169435, 0.0001898704257754361, 0.0011115630299932061, False)"
            ]
          },
          "metadata": {
            "tags": []
          },
          "execution_count": 34
        }
      ]
    },
    {
      "cell_type": "markdown",
      "metadata": {
        "id": "gSyaGej969MS"
      },
      "source": [
        "### Évaluation de la performance du modèle RNN par rapport à la marche aléatoire"
      ]
    },
    {
      "cell_type": "code",
      "metadata": {
        "colab": {
          "base_uri": "https://localhost:8080/"
        },
        "id": "yczA5BcT5_6b",
        "outputId": "d18948f6-e875-4c94-ce86-e44e85f55a79"
      },
      "source": [
        "rnn_mse_all = np.array([])\n",
        "rnn_direction_all = np.array([])\n",
        "model1_mse_all = np.array([])\n",
        "model2_mse_all = np.array([])\n",
        "\n",
        "X = Xs_test\n",
        "Y = ys_test\n",
        "n = 7\n",
        "display = False\n",
        "bootstrap = True\n",
        "\n",
        "for idx in range(7,X.shape[0]-n):\n",
        "  r_mse, m1_mse, m2_mse, dir = prediction_n_jours(X, Y, mean, std, n=n, idx=idx, display=display, bootstrap=bootstrap)\n",
        "  rnn_mse_all = np.append(rnn_mse_all,r_mse)\n",
        "  rnn_direction_all = np.append(rnn_direction_all, dir)\n",
        "  model1_mse_all = np.append(model1_mse_all,m1_mse)\n",
        "  model2_mse_all = np.append(model2_mse_all,m2_mse)\n",
        "\n",
        "rnn_mse_all = rnn_mse_all[~np.isnan(rnn_mse_all)]\n",
        "model1_mse_all = model1_mse_all[~np.isnan(model1_mse_all)]\n",
        "model2_mse_all = model2_mse_all[~np.isnan(model2_mse_all)]\n",
        "\n",
        "print(f'mean rnn MSE = {np.mean(rnn_mse_all)}')\n",
        "print(f'mean model1 MSE = {np.mean(model1_mse_all)}')\n",
        "print(f'mean model2 MSE = {np.mean(model2_mse_all)}')\n",
        "print(f'rnn direction predict accuracy = {np.sum(rnn_direction_all)/np.size(rnn_direction_all)}')"
      ],
      "execution_count": 35,
      "outputs": [
        {
          "output_type": "stream",
          "text": [
            "mean rnn MSE = 0.0016193330008830319\n",
            "mean model1 MSE = 0.0002617436646844512\n",
            "mean model2 MSE = 0.000425961412586608\n",
            "rnn direction predict accuracy = 0.4940842404164695\n"
          ],
          "name": "stdout"
        }
      ]
    },
    {
      "cell_type": "markdown",
      "metadata": {
        "id": "TiS5Gi_s0K9_"
      },
      "source": [
        "# Conclusion"
      ]
    },
    {
      "cell_type": "markdown",
      "metadata": {
        "id": "ObL8GiCA0QEe"
      },
      "source": [
        "J'ai affiné plusieurs choses dans les tests du modèle RNN pour la prédiction des prix des devises. Pour les prévisions sur 1 jour seulement comme pour celles sur 7 jours, le RNN ne bat pas le modèle de marche aléatoire. \n",
        "\n",
        "Concernant son apprentissage, j'ai entraîné le RNN avec 1 devise, puis 2 et enfin 3 devises (en sauvegardant les poids internes). Il a appris successivement sur 1, 2 puis 3 devises. Là encore le RNN ne bat pas la marche aléatoire mais on constate qu'il s'en rapproche de plus en plus.\n",
        "\n",
        "On pourrait dire que plus on lui apprends avec de nouvelles devises ... plus il \"comprend\" que la marche aléatoire est la meilleure prévision.\n",
        "\n",
        "J'ai aussi vérifié combien de fois il prédisait la bonne tendance (hausse ou baisse) ... et on est à 50% ce qui confirme que la marche aléatoire semble asymptotiquement la cible de son apprentissage.\n",
        "\n",
        "Les modèles Long-Short Term Memory et Transformer sont utiles lorsque l'on traite de longues séquences (20 termes et + : pour le moment avec 7 termes le RNN est suffisant) et mettent en œuvre le concept \"d'attention\" c'est à dire sur quels éléments de la séquence il faut porter attention pour prédire la suite (cas de la traduction automatique de texte). Ces modèles seront donc à considérer dans un projet ultérieur."
      ]
    },
    {
      "cell_type": "markdown",
      "metadata": {
        "id": "IB25EGF9Ywdq"
      },
      "source": [
        "# Zone de tests (hors projet)"
      ]
    },
    {
      "cell_type": "markdown",
      "metadata": {
        "id": "K4sJSRAd6Fld"
      },
      "source": [
        "Ici, ce sont des portions de code qui m'ont permis de comprendre certaines subtilités Python et PyTorch !"
      ]
    },
    {
      "cell_type": "code",
      "metadata": {
        "id": "pseS7j9wWR2T"
      },
      "source": [
        "X = []\n",
        "Y = []\n",
        "\n",
        "for row in dfs:\n",
        "  X.append([row[0:seq_len-1]])\n",
        "  Y.append([row[seq_len-1]])\n",
        "X = np.array(X)\n",
        "Y = np.array(Y)\n",
        "print(X[0])\n",
        "torch_X = torch.from_numpy(X.transpose(0,2,1)).float()\n",
        "print(torch_X.shape)\n",
        "print(torch_X[0,:,0])"
      ],
      "execution_count": null,
      "outputs": []
    },
    {
      "cell_type": "code",
      "metadata": {
        "id": "QjucUlewe6Ql"
      },
      "source": [
        "print(Xs_unit.numpy()[0,:,0])\n",
        "print(ys_unit.numpy())\n",
        "print(ypred_rnn.detach()[0].numpy())\n",
        "print(\"--------------------\")\n",
        "Xs_unit_1 = Xs_unit[:,1:7,:]\n",
        "Xs_unit_1 = torch.cat((Xs_unit_1, ypred_rnn.detach().unsqueeze(2)),dim=1)\n",
        "print(Xs_unit_1.numpy()[0,:,0])"
      ],
      "execution_count": null,
      "outputs": []
    }
  ]
}