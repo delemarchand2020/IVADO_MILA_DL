{
  "nbformat": 4,
  "nbformat_minor": 0,
  "metadata": {
    "colab": {
      "name": "Predict_FX_with_DL",
      "provenance": [],
      "collapsed_sections": [],
      "toc_visible": true,
      "authorship_tag": "ABX9TyPK/c7RJFcZSVFFoQg7t/0u",
      "include_colab_link": true
    },
    "kernelspec": {
      "name": "python3",
      "display_name": "Python 3"
    },
    "language_info": {
      "name": "python"
    },
    "accelerator": "GPU"
  },
  "cells": [
    {
      "cell_type": "markdown",
      "metadata": {
        "id": "view-in-github",
        "colab_type": "text"
      },
      "source": [
        "<a href=\"https://colab.research.google.com/github/delemarchand2020/IVADO_MILA_DL/blob/main/Predict_FX_with_DL.ipynb\" target=\"_parent\"><img src=\"https://colab.research.google.com/assets/colab-badge.svg\" alt=\"Open In Colab\"/></a>"
      ]
    },
    {
      "cell_type": "markdown",
      "metadata": {
        "id": "A-ivciiY37cu"
      },
      "source": [
        "# Initialisation"
      ]
    },
    {
      "cell_type": "code",
      "metadata": {
        "colab": {
          "base_uri": "https://localhost:8080/"
        },
        "id": "v-d4sPbB4Cb3",
        "outputId": "ac9c4d2a-6d80-434f-ed12-d70e0e63cee2"
      },
      "source": [
        "!pip3 install torch"
      ],
      "execution_count": 1,
      "outputs": [
        {
          "output_type": "stream",
          "text": [
            "Requirement already satisfied: torch in /usr/local/lib/python3.7/dist-packages (1.8.1+cu101)\n",
            "Requirement already satisfied: numpy in /usr/local/lib/python3.7/dist-packages (from torch) (1.19.5)\n",
            "Requirement already satisfied: typing-extensions in /usr/local/lib/python3.7/dist-packages (from torch) (3.7.4.3)\n"
          ],
          "name": "stdout"
        }
      ]
    },
    {
      "cell_type": "code",
      "metadata": {
        "colab": {
          "base_uri": "https://localhost:8080/"
        },
        "id": "hTciBxXi4EOC",
        "outputId": "758d4126-a0c8-4870-b454-de76d1e0753c"
      },
      "source": [
        "import torch\n",
        "\n",
        "use_gpu = torch.cuda.is_available()\n",
        "device = torch.device(\"cuda:0\" if use_gpu else \"cpu\")\n",
        "\n",
        "print(\"Torch version: \", torch.__version__)\n",
        "print(\"GPU Available: {}\".format(use_gpu))"
      ],
      "execution_count": 2,
      "outputs": [
        {
          "output_type": "stream",
          "text": [
            "Torch version:  1.8.1+cu101\n",
            "GPU Available: True\n"
          ],
          "name": "stdout"
        }
      ]
    },
    {
      "cell_type": "code",
      "metadata": {
        "id": "W7504uqQLQD1"
      },
      "source": [
        "import torch.nn as nn\n",
        "import torch.nn.functional as F\n",
        "import torch.nn.init as init\n",
        "import torch.optim as optim\n",
        "\n",
        "from torch.utils.data import DataLoader, TensorDataset"
      ],
      "execution_count": 3,
      "outputs": []
    },
    {
      "cell_type": "code",
      "metadata": {
        "id": "dZhV8De44QEy"
      },
      "source": [
        "import pandas as pd\n",
        "import datetime\n",
        "import matplotlib.pyplot as plt\n",
        "import numpy as np"
      ],
      "execution_count": 4,
      "outputs": []
    },
    {
      "cell_type": "code",
      "metadata": {
        "id": "GId9noi2Mjny"
      },
      "source": [
        "import copy\n",
        "import gc\n",
        "import math\n",
        "import time\n",
        "import os"
      ],
      "execution_count": 5,
      "outputs": []
    },
    {
      "cell_type": "markdown",
      "metadata": {
        "id": "7dUKoG5keiFF"
      },
      "source": [
        "# Import et préparation des données"
      ]
    },
    {
      "cell_type": "markdown",
      "metadata": {
        "id": "-L-TR-h3i_cb"
      },
      "source": [
        "##Import des données depuis le Drive"
      ]
    },
    {
      "cell_type": "code",
      "metadata": {
        "id": "-60doJo5ePZD"
      },
      "source": [
        "from pydrive.auth import GoogleAuth\n",
        "from pydrive.drive import GoogleDrive\n",
        "from google.colab import auth\n",
        "from oauth2client.client import GoogleCredentials\n",
        "\n",
        "auth.authenticate_user()\n",
        "gauth = GoogleAuth()\n",
        "gauth.credentials = GoogleCredentials.get_application_default()\n",
        "drive = GoogleDrive(gauth)"
      ],
      "execution_count": 6,
      "outputs": []
    },
    {
      "cell_type": "code",
      "metadata": {
        "id": "3YE2FyKFe4g_"
      },
      "source": [
        "# https://drive.google.com/file/d/1g6GbXJB-NxBt3F-1ftMz2SwzFQ_GU5oZ/view?usp=sharing\n",
        "# FX_HFData.xlsx\n",
        "downloaded = drive.CreateFile({'id':\"1g6GbXJB-NxBt3F-1ftMz2SwzFQ_GU5oZ\"})   # replace the id with id of file you want to access\n",
        "downloaded.GetContentFile('FX_HFData.xlsx')"
      ],
      "execution_count": 7,
      "outputs": []
    },
    {
      "cell_type": "markdown",
      "metadata": {
        "id": "cHMdg2K7jKLH"
      },
      "source": [
        "## Chargement du fichier et nettoyage des données\n"
      ]
    },
    {
      "cell_type": "code",
      "metadata": {
        "colab": {
          "base_uri": "https://localhost:8080/",
          "height": 294
        },
        "id": "djD_XUWmffYr",
        "outputId": "706933b1-c825-4628-ba31-bee241bbab93"
      },
      "source": [
        "df = pd.read_excel('FX_HFData.xlsx',sheet_name='Daily All',dtype={' ': datetime.date, 'USDCAD Curncy': float})\n",
        "df = df.drop(columns=['EURUSD Curncy','GBPUSD Curncy','USDJPY Curncy','USDCHF Curncy',\n",
        "                      'AUDUSD Curncy','USDSEK Curncy','USDNOK Curncy','NZDUSD Curncy','USDSGD Curncy'])\n",
        "df = df.dropna()\n",
        "df.columns = ['date', 'X']\n",
        "df.describe()"
      ],
      "execution_count": 8,
      "outputs": [
        {
          "output_type": "execute_result",
          "data": {
            "text/html": [
              "<div>\n",
              "<style scoped>\n",
              "    .dataframe tbody tr th:only-of-type {\n",
              "        vertical-align: middle;\n",
              "    }\n",
              "\n",
              "    .dataframe tbody tr th {\n",
              "        vertical-align: top;\n",
              "    }\n",
              "\n",
              "    .dataframe thead th {\n",
              "        text-align: right;\n",
              "    }\n",
              "</style>\n",
              "<table border=\"1\" class=\"dataframe\">\n",
              "  <thead>\n",
              "    <tr style=\"text-align: right;\">\n",
              "      <th></th>\n",
              "      <th>X</th>\n",
              "    </tr>\n",
              "  </thead>\n",
              "  <tbody>\n",
              "    <tr>\n",
              "      <th>count</th>\n",
              "      <td>10792.000000</td>\n",
              "    </tr>\n",
              "    <tr>\n",
              "      <th>mean</th>\n",
              "      <td>1.264400</td>\n",
              "    </tr>\n",
              "    <tr>\n",
              "      <th>std</th>\n",
              "      <td>0.149636</td>\n",
              "    </tr>\n",
              "    <tr>\n",
              "      <th>min</th>\n",
              "      <td>0.920350</td>\n",
              "    </tr>\n",
              "    <tr>\n",
              "      <th>25%</th>\n",
              "      <td>1.164600</td>\n",
              "    </tr>\n",
              "    <tr>\n",
              "      <th>50%</th>\n",
              "      <td>1.270250</td>\n",
              "    </tr>\n",
              "    <tr>\n",
              "      <th>75%</th>\n",
              "      <td>1.365000</td>\n",
              "    </tr>\n",
              "    <tr>\n",
              "      <th>max</th>\n",
              "      <td>1.613500</td>\n",
              "    </tr>\n",
              "  </tbody>\n",
              "</table>\n",
              "</div>"
            ],
            "text/plain": [
              "                  X\n",
              "count  10792.000000\n",
              "mean       1.264400\n",
              "std        0.149636\n",
              "min        0.920350\n",
              "25%        1.164600\n",
              "50%        1.270250\n",
              "75%        1.365000\n",
              "max        1.613500"
            ]
          },
          "metadata": {
            "tags": []
          },
          "execution_count": 8
        }
      ]
    },
    {
      "cell_type": "code",
      "metadata": {
        "colab": {
          "base_uri": "https://localhost:8080/",
          "height": 283
        },
        "id": "CD_forPKi9Wf",
        "outputId": "7f7dfd80-0d18-4c82-b8c0-60f5db4f9e31"
      },
      "source": [
        "plt.figure()\n",
        "plt.plot(df['date'],df['X'])"
      ],
      "execution_count": 9,
      "outputs": [
        {
          "output_type": "execute_result",
          "data": {
            "text/plain": [
              "[<matplotlib.lines.Line2D at 0x7f666c5bf590>]"
            ]
          },
          "metadata": {
            "tags": []
          },
          "execution_count": 9
        },
        {
          "output_type": "display_data",
          "data": {
            "image/png": "[encoded data removed]",
            "text/plain": [
              "<Figure size 432x288 with 1 Axes>"
            ]
          },
          "metadata": {
            "tags": [],
            "needs_background": "light"
          }
        }
      ]
    },
    {
      "cell_type": "markdown",
      "metadata": {
        "id": "ID44zEMkp3kQ"
      },
      "source": [
        "## Création des datasets (train, validate et test)"
      ]
    },
    {
      "cell_type": "code",
      "metadata": {
        "id": "89G0kQl5p7v6"
      },
      "source": [
        "seq_len = 8 # 7 premiers sont les séquences d'entrée et le huitieme est la cible à prédire\n",
        "s = pd.Series(df['X'].values)\n",
        "arr = [s.shift(x).values[::-1][:seq_len] for x in range(len(s))[::-1]]\n",
        "dfs = []\n",
        "for row in arr:\n",
        "  dfs.append(row[::-1])\n",
        "dfs = dfs[seq_len-1:]"
      ],
      "execution_count": 10,
      "outputs": []
    },
    {
      "cell_type": "code",
      "metadata": {
        "colab": {
          "base_uri": "https://localhost:8080/"
        },
        "id": "QBvcm7xO49JO",
        "outputId": "9912a718-ea33-4c73-c8e0-a1f6a2bc9ded"
      },
      "source": [
        "print(dfs[0])\n",
        "print(dfs[1])\n",
        "print(len(dfs))"
      ],
      "execution_count": 11,
      "outputs": [
        {
          "output_type": "stream",
          "text": [
            "[1.1658 1.1703 1.1687 1.1694 1.1698 1.1686 1.165  1.165 ]\n",
            "[1.1703 1.1687 1.1694 1.1698 1.1686 1.165  1.165  1.1663]\n",
            "10785\n"
          ],
          "name": "stdout"
        }
      ]
    },
    {
      "cell_type": "markdown",
      "metadata": {
        "id": "uspAyu8n-mt9"
      },
      "source": [
        "At this point, we need to divide the dataset into three subsets:\n",
        "\n",
        "<ol>\n",
        "<li> <b> Train</b> (60% of the dataset): used to train the classification model. </li>   \n",
        "<li> <b> Validation</b> (20% of the dataset): used to evaluate hyper-parameters on held-out data. </li>   \n",
        "<li> <b> Test</b> (20% of the dataset): used to evaluate the generalization performance of the chosen model on held-out data. </li>\n",
        "</ol>"
      ]
    },
    {
      "cell_type": "code",
      "metadata": {
        "id": "34IdIF4T-Ns7"
      },
      "source": [
        "train, validate, test = np.split(dfs, [int(.6*len(dfs)), int(.8*len(dfs))])"
      ],
      "execution_count": 12,
      "outputs": []
    },
    {
      "cell_type": "code",
      "metadata": {
        "id": "2BV7WRWH0BqC"
      },
      "source": [
        "def split_x_y_in_torch(dfs):\n",
        "  X = []\n",
        "  Y = []\n",
        "  for row in dfs:\n",
        "    X.append([row[0:seq_len-1]])\n",
        "    Y.append([row[seq_len-1]])\n",
        "  X = np.array(X)\n",
        "  Y = np.array(Y)\n",
        "  return torch.from_numpy(X.transpose(0,2,1)).float(), torch.from_numpy(Y).float()"
      ],
      "execution_count": 13,
      "outputs": []
    },
    {
      "cell_type": "code",
      "metadata": {
        "colab": {
          "base_uri": "https://localhost:8080/"
        },
        "id": "9gP9A2BM6AOk",
        "outputId": "0300a35d-1615-411b-cbe4-281907d0bdce"
      },
      "source": [
        "X_train, y_train = split_x_y_in_torch(train)\n",
        "X_validate, y_validate = split_x_y_in_torch(validate)\n",
        "X_test, y_test = split_x_y_in_torch(test)\n",
        "\n",
        "print(X_train[0])\n",
        "print(y_train[0])\n",
        "print(X_validate[0])\n",
        "print(y_validate[0])\n",
        "print(X_test[0])\n",
        "print(y_test[0])"
      ],
      "execution_count": 14,
      "outputs": [
        {
          "output_type": "stream",
          "text": [
            "tensor([[1.1658],\n",
            "        [1.1703],\n",
            "        [1.1687],\n",
            "        [1.1694],\n",
            "        [1.1698],\n",
            "        [1.1686],\n",
            "        [1.1650]])\n",
            "tensor([1.1650])\n",
            "tensor([[1.2435],\n",
            "        [1.2337],\n",
            "        [1.2211],\n",
            "        [1.2249],\n",
            "        [1.2256],\n",
            "        [1.2232],\n",
            "        [1.2177]])\n",
            "tensor([1.2223])\n",
            "tensor([[1.0063],\n",
            "        [1.0008],\n",
            "        [1.0014],\n",
            "        [0.9972],\n",
            "        [0.9965],\n",
            "        [0.9988],\n",
            "        [0.9955]])\n",
            "tensor([0.9956])\n"
          ],
          "name": "stdout"
        }
      ]
    },
    {
      "cell_type": "code",
      "metadata": {
        "id": "4wqX8nx9CWy3"
      },
      "source": [
        "def standardize(X, mean=None, std=None):\n",
        "    \"\"\"The function standardizes the X tensor. \n",
        "    Args:\n",
        "      X: torch.Tensor.\n",
        "    \n",
        "    Returns:\n",
        "      Xs: torch.Tensor standardize.\n",
        "      mean: float, the mean of X.\n",
        "      stdev: float, the stdev of X.\n",
        "    \"\"\"\n",
        "    \n",
        "    X=X.float()\n",
        "\n",
        "    if mean == None:\n",
        "      mean = torch.mean(X)\n",
        "    if std == None:\n",
        "      std = torch.std(X)\n",
        "      \n",
        "    Xs = (X-mean) / std\n",
        "\n",
        "    return Xs, mean, std"
      ],
      "execution_count": 15,
      "outputs": []
    },
    {
      "cell_type": "code",
      "metadata": {
        "colab": {
          "base_uri": "https://localhost:8080/"
        },
        "id": "R_D6HpnECvIr",
        "outputId": "6d30bc4c-68b9-407b-c617-48d7d929c584"
      },
      "source": [
        "mean = np.mean(dfs)\n",
        "std = np.std(dfs)\n",
        "\n",
        "Xs_train, Xs_train_mean, Xs_train_std = standardize(X_train, mean, std)\n",
        "ys_train, ys_train_mean, ys_train_std = standardize(y_train, mean, std)\n",
        "\n",
        "Xs_validate, Xs_validate_mean, Xs_validate_std = standardize(X_validate, mean, std)\n",
        "ys_validate, ys_validate_mean, ys_validate_std = standardize(y_validate, mean, std)\n",
        "\n",
        "Xs_test, Xs_test_mean, Xs_test_std = standardize(X_test, mean, std)\n",
        "ys_test, ys_test_mean, ys_test_std = standardize(y_test, mean, std)\n",
        "\n",
        "print(Xs_train[0])\n",
        "print(Xs_train_mean)\n",
        "print(Xs_train_std)\n",
        "print(ys_train[0])\n",
        "\n",
        "print(Xs_validate[1])\n",
        "print(Xs_validate_mean)\n",
        "print(Xs_validate_std)\n",
        "print(ys_validate[1])\n",
        "\n",
        "print(Xs_test[200])\n",
        "print(Xs_test_mean)\n",
        "print(Xs_test_std)\n",
        "print(ys_test[200])"
      ],
      "execution_count": 16,
      "outputs": [
        {
          "output_type": "stream",
          "text": [
            "tensor([[-0.6591],\n",
            "        [-0.6291],\n",
            "        [-0.6397],\n",
            "        [-0.6351],\n",
            "        [-0.6324],\n",
            "        [-0.6404],\n",
            "        [-0.6645]])\n",
            "1.2644476579740378\n",
            "0.14966483681598952\n",
            "tensor([-0.6645])\n",
            "tensor([[-0.2051],\n",
            "        [-0.2896],\n",
            "        [-0.2639],\n",
            "        [-0.2592],\n",
            "        [-0.2759],\n",
            "        [-0.3127],\n",
            "        [-0.2816]])\n",
            "1.2644476579740378\n",
            "0.14966483681598952\n",
            "tensor([-0.2572])\n",
            "tensor([[-1.4830],\n",
            "        [-1.4622],\n",
            "        [-1.4876],\n",
            "        [-1.4582],\n",
            "        [-1.4472],\n",
            "        [-1.4492],\n",
            "        [-1.4361]])\n",
            "1.2644476579740378\n",
            "0.14966483681598952\n",
            "tensor([-1.4616])\n"
          ],
          "name": "stdout"
        }
      ]
    },
    {
      "cell_type": "markdown",
      "metadata": {
        "id": "vgLXIAUbJ9Wi"
      },
      "source": [
        "# Implémentation du modèle RNN"
      ]
    },
    {
      "cell_type": "markdown",
      "metadata": {
        "id": "0MpnbtHjLaKg"
      },
      "source": [
        "## Modèle RNN\n",
        "Implement an RNN network using the [torch.nn.RNN()](https://pytorch.org/docs/stable/generated/torch.nn.RNN.html#torch.nn.RNN) class. The input arguments are the following:\n",
        "- **input_dim**: the dimension of the input data\n",
        "- **output_dim**: the dimension of the output data\n",
        "- **hidden_size**: the size of the hidden state of the RNN\n",
        "- **n_layers**: the number of layers of the RNN."
      ]
    },
    {
      "cell_type": "code",
      "metadata": {
        "id": "JTmLCdH5KFEx"
      },
      "source": [
        "class RNNLinear(nn.Module):\n",
        "\n",
        "    def __init__(self, input_dim, output_dim, hidden_size, n_layers):\n",
        "        super(RNNLinear, self).__init__()\n",
        "        self.rnn_layer = torch.nn.RNN(input_size=input_dim,hidden_size=hidden_size,num_layers=n_layers)\n",
        "        self.linear_layer = torch.nn.Linear(in_features=hidden_size,out_features=output_dim)\n",
        "        self.print_debug_flag = False\n",
        "\n",
        "    def print_debug(self,text,var):\n",
        "      if self.print_debug_flag == True:\n",
        "        print(text,var)\n",
        "\n",
        "    def forward(self, x):\n",
        "        # x has size of (n_samples=batch_size, seq_len, input_dim)\n",
        "        # The RNN's input must be of size (seq_len, batch_size, input_dim)\n",
        "        self.print_debug('x:',x)\n",
        "\n",
        "        x = torch.transpose(x, 0, 1)\n",
        "\n",
        "        self.print_debug('x\\':',x)\n",
        "\n",
        "        output, hidden = self.rnn_layer(x) #hidden c'est le dernier h (vecteur)\n",
        "                                            # si on veut initialiser un autre rnn avec les parametres déjà appris\n",
        "\n",
        "        self.print_debug('hidden:',hidden)\n",
        "        self.print_debug('output:',output)\n",
        "        self.print_debug('output[-1]:',output[-1])\n",
        "        self.print_debug('linear_layer(output):',self.linear_layer(output))\n",
        "        self.print_debug('linear_layer(output[-1]):',self.linear_layer(output[-1]))\n",
        "\n",
        "        output = output[-1]\n",
        "        pred = self.linear_layer(output)\n",
        "        \n",
        "        self.print_debug('pred:',pred)\n",
        "\n",
        "        return pred"
      ],
      "execution_count": 17,
      "outputs": []
    },
    {
      "cell_type": "code",
      "metadata": {
        "id": "u4CIvM0DLkAg"
      },
      "source": [
        "input_dim = 1\n",
        "output_dim = 1\n",
        "n_layers = 2\n",
        "hidden_size = 20\n",
        "\n",
        "# Declaration of the RNN model\n",
        "model_rnn = RNNLinear(input_dim, output_dim, hidden_size, n_layers)\n",
        "\n",
        "# Transfer the model to the proper device\n",
        "model_rnn = model_rnn.to(device)\n",
        "\n",
        "# save its initial weights (we do this so that, if we run the model\n",
        "# multiple time, we always start from these randomly initialized weights)\n",
        "init_rnn_weights = copy.deepcopy(model_rnn.state_dict())"
      ],
      "execution_count": 18,
      "outputs": []
    },
    {
      "cell_type": "code",
      "metadata": {
        "colab": {
          "base_uri": "https://localhost:8080/"
        },
        "id": "b-_2xT79_ziq",
        "outputId": "1a4309e5-2b24-4411-b935-de5c5f13dd72"
      },
      "source": [
        "# Transfer the data to the proper device\n",
        "Xs_train = Xs_train.to(device)\n",
        "\n",
        "# Use the RNN to predict the output of each input sequence prior to training\n",
        "# Ensure that the inputs and output are correct\n",
        "y_pred = model_rnn(Xs_train)\n",
        "print(\"Size of input data: {}\".format(Xs_train.shape)) # (n_samples, seq_len, input_dim)\n",
        "print(\"Size of predictions: {}\".format(y_pred.shape)) # (n_samples, input_dim)\n",
        "        \n",
        "# x has size of (n_samples=batch_size, seq_len, input_dim)\n",
        "# The RNN's input must be of size (seq_len, batch_size, input_dim)\n",
        "print(Xs_train.shape)\n",
        "Xs_train_t = torch.transpose(Xs_train, 0, 1)\n",
        "print(Xs_train_t.shape)\n",
        "print(ys_train[1])\n",
        "print(y_pred[1])"
      ],
      "execution_count": 19,
      "outputs": [
        {
          "output_type": "stream",
          "text": [
            "Size of input data: torch.Size([6471, 7, 1])\n",
            "Size of predictions: torch.Size([6471, 1])\n",
            "torch.Size([6471, 7, 1])\n",
            "torch.Size([7, 6471, 1])\n",
            "tensor([-0.6558])\n",
            "tensor([-0.1723], device='cuda:0', grad_fn=<SelectBackward>)\n"
          ],
          "name": "stdout"
        }
      ]
    },
    {
      "cell_type": "markdown",
      "metadata": {
        "id": "Fo4_yaVW8X8h"
      },
      "source": [
        "## Dataset\n",
        "We will use PyTorch's DataLoader objects to efficiently manipulate our data."
      ]
    },
    {
      "cell_type": "code",
      "metadata": {
        "id": "jte-goD48cwB"
      },
      "source": [
        "batch_size = 4\n",
        "\n",
        "# dataloader for the training dataset\n",
        "train_loader = DataLoader(TensorDataset(Xs_train, ys_train), batch_size, shuffle=True)\n",
        "\n",
        "# prepare the dataloader for the validation dataset\n",
        "valid_loader = DataLoader(TensorDataset(Xs_validate, ys_validate), batch_size)\n",
        "\n",
        "# prepare the dataloader for the test dataset\n",
        "test_loader = DataLoader(TensorDataset(Xs_test, ys_test), batch_size)"
      ],
      "execution_count": 20,
      "outputs": []
    },
    {
      "cell_type": "markdown",
      "metadata": {
        "id": "jNnYRg8f9ey5"
      },
      "source": [
        "## Training loop"
      ]
    },
    {
      "cell_type": "code",
      "metadata": {
        "id": "0Dz7tgiR9rij"
      },
      "source": [
        "learning_rate = 0.01\n",
        "\n",
        "# Define the loss function\n",
        "loss_fun = torch.nn.MSELoss()\n",
        "\n",
        "# Define the Optimizer\n",
        "def get_optimizer(model):\n",
        "  optimizer = torch.optim.SGD(model.parameters(), lr=learning_rate)\n",
        "  return optimizer"
      ],
      "execution_count": 21,
      "outputs": []
    },
    {
      "cell_type": "code",
      "metadata": {
        "id": "Gn9Vyi839tJb"
      },
      "source": [
        "# Define function to encapsulate main training loop\n",
        "def train_model(model, init_weights, optimizer):\n",
        "\n",
        "    since = time.time()\n",
        "\n",
        "    train_loss_history = []\n",
        "    valid_loss_history = []\n",
        "\n",
        "    n_epoch = 25\n",
        "\n",
        "    model.load_state_dict(init_weights)\n",
        "\n",
        "    print(\"Start training\")\n",
        "\n",
        "    for epoch in range(n_epoch):\n",
        "        \n",
        "        train_loss = 0\n",
        "        train_n_iter = 0\n",
        "        \n",
        "        # Set model to train mode\n",
        "        model.train()\n",
        "        torch.set_grad_enabled(True)\n",
        "        \n",
        "        # Iterate over train data\n",
        "        for x, y in train_loader:  \n",
        "\n",
        "            \n",
        "            # Put tensors on device (GPU when available)\n",
        "            x = x.to(device)\n",
        "            y = y.to(device)\n",
        "\n",
        "            # Zero the gradient buffer\n",
        "            optimizer.zero_grad()\n",
        "            \n",
        "            # Perform the Forward operation\n",
        "            outputs = model(x)\n",
        "            \n",
        "            # Calculate the loss using the loss function\n",
        "            loss = loss_fun(outputs, y)\n",
        "            \n",
        "            # Perform the Backward operation\n",
        "            loss.backward()\n",
        "            \n",
        "            # Perform the Optimization step\n",
        "            optimizer.step()\n",
        "            \n",
        "            # Statistics\n",
        "            train_loss += loss.item()\n",
        "            train_n_iter += 1\n",
        "        \n",
        "        valid_loss = 0\n",
        "        valid_n_iter = 0\n",
        "        \n",
        "        # Set model to evaluate mode\n",
        "        model.eval()\n",
        "        with torch.no_grad():\n",
        "        \n",
        "            # Iterate over valid data\n",
        "            for x, y in valid_loader:  \n",
        "            \n",
        "                # Put tensors on device (GPU when available)\n",
        "                x = x.to(device)\n",
        "                y = y.to(device)\n",
        "            \n",
        "                # Perform the Forward operation\n",
        "                outputs = model(x)\n",
        "                \n",
        "                # Calculate the loss using the loss fun function\n",
        "                loss = loss_fun(outputs,y)\n",
        "            \n",
        "                # Statistics\n",
        "                valid_loss += loss.item()\n",
        "                valid_n_iter += 1\n",
        "        \n",
        "        train_loss_history.append(train_loss / train_n_iter)\n",
        "        valid_loss_history.append(valid_loss / valid_n_iter)\n",
        "\n",
        "\n",
        "        print(\"Epoch {:2d} | Training loss = {:.5f} | Validation loss = {:.5f} \"\n",
        "              .format(epoch+1, (train_loss / train_n_iter), (valid_loss / valid_n_iter)))\n",
        "\n",
        "    time_elapsed = time.time() - since\n",
        "\n",
        "    print('\\n\\nTraining complete in {:.0f}m {:.0f}s'.format(\n",
        "        time_elapsed // 60, time_elapsed % 60))\n",
        "    \n",
        "    return train_loss_history, valid_loss_history"
      ],
      "execution_count": 22,
      "outputs": []
    },
    {
      "cell_type": "code",
      "metadata": {
        "colab": {
          "base_uri": "https://localhost:8080/"
        },
        "id": "enM9X82p9-a1",
        "outputId": "c09b3481-5c56-4d22-f27b-2b8ad9c7b35a"
      },
      "source": [
        "# Perform training of the RNN model\n",
        "optimizer_rnn = get_optimizer(model_rnn)\n",
        "loss_history = train_model(model_rnn, init_rnn_weights, optimizer_rnn)\n",
        "\n",
        "# Save loss history for later\n",
        "rnn_train_loss_history, rnn_valid_loss_history = loss_history"
      ],
      "execution_count": 23,
      "outputs": [
        {
          "output_type": "stream",
          "text": [
            "Start training\n",
            "Epoch  1 | Training loss = 0.01604 | Validation loss = 0.08201 \n",
            "Epoch  2 | Training loss = 0.00170 | Validation loss = 0.04930 \n",
            "Epoch  3 | Training loss = 0.00135 | Validation loss = 0.04032 \n",
            "Epoch  4 | Training loss = 0.00115 | Validation loss = 0.02931 \n",
            "Epoch  5 | Training loss = 0.00109 | Validation loss = 0.02440 \n",
            "Epoch  6 | Training loss = 0.00105 | Validation loss = 0.02229 \n",
            "Epoch  7 | Training loss = 0.00103 | Validation loss = 0.01689 \n",
            "Epoch  8 | Training loss = 0.00101 | Validation loss = 0.01968 \n",
            "Epoch  9 | Training loss = 0.00100 | Validation loss = 0.01720 \n",
            "Epoch 10 | Training loss = 0.00100 | Validation loss = 0.01329 \n",
            "Epoch 11 | Training loss = 0.00098 | Validation loss = 0.01614 \n",
            "Epoch 12 | Training loss = 0.00098 | Validation loss = 0.01501 \n",
            "Epoch 13 | Training loss = 0.00098 | Validation loss = 0.01713 \n",
            "Epoch 14 | Training loss = 0.00097 | Validation loss = 0.01577 \n",
            "Epoch 15 | Training loss = 0.00096 | Validation loss = 0.01539 \n",
            "Epoch 16 | Training loss = 0.00095 | Validation loss = 0.01492 \n",
            "Epoch 17 | Training loss = 0.00094 | Validation loss = 0.01599 \n",
            "Epoch 18 | Training loss = 0.00095 | Validation loss = 0.01677 \n",
            "Epoch 19 | Training loss = 0.00094 | Validation loss = 0.01440 \n",
            "Epoch 20 | Training loss = 0.00094 | Validation loss = 0.01397 \n",
            "Epoch 21 | Training loss = 0.00093 | Validation loss = 0.01603 \n",
            "Epoch 22 | Training loss = 0.00092 | Validation loss = 0.01372 \n",
            "Epoch 23 | Training loss = 0.00092 | Validation loss = 0.01533 \n",
            "Epoch 24 | Training loss = 0.00092 | Validation loss = 0.01462 \n",
            "Epoch 25 | Training loss = 0.00091 | Validation loss = 0.01330 \n",
            "\n",
            "\n",
            "Training complete in 1m 31s\n"
          ],
          "name": "stdout"
        }
      ]
    },
    {
      "cell_type": "code",
      "metadata": {
        "colab": {
          "base_uri": "https://localhost:8080/",
          "height": 279
        },
        "id": "VJQwqzYd-EIj",
        "outputId": "0d277b1d-381c-480f-f9db-ff58032e903d"
      },
      "source": [
        "# Plot training and validation curve\n",
        "n_epoch = 25\n",
        "xaxis = range(1, n_epoch + 1)\n",
        "plt.plot(xaxis, rnn_train_loss_history, label='train-rnn')\n",
        "plt.plot(xaxis, rnn_valid_loss_history, label='valid-rnn')\n",
        "\n",
        "plt.xlabel('# epochs')\n",
        "plt.ylabel('Loss')\n",
        "plt.legend()\n",
        "\n",
        "plt.show()"
      ],
      "execution_count": 24,
      "outputs": [
        {
          "output_type": "display_data",
          "data": {
            "image/png": "[encoded data removed]",
            "text/plain": [
              "<Figure size 432x288 with 1 Axes>"
            ]
          },
          "metadata": {
            "tags": [],
            "needs_background": "light"
          }
        }
      ]
    },
    {
      "cell_type": "markdown",
      "metadata": {
        "id": "NrSGJTTqK_R5"
      },
      "source": [
        "# Validation pré-production du modèle"
      ]
    },
    {
      "cell_type": "code",
      "metadata": {
        "id": "_KbWu67f56YP"
      },
      "source": [
        "def print_mean_abs_error(X, Y, idx=None):\n",
        "    xs = X.numpy()\n",
        "    ys = Y.numpy()\n",
        "\n",
        "    if idx == None:\n",
        "      diff = abs(xs-ys)\n",
        "      print(f\"Absolute mean error between target[:] et prediction[:] = {np.mean(diff)}\")\n",
        "    else:\n",
        "      diff = abs(xs[idx]-ys[idx])\n",
        "      print(f\"Absolute mean error between target[{idx}] et prediction[{idx}] = {np.mean(diff)}\")"
      ],
      "execution_count": 25,
      "outputs": []
    },
    {
      "cell_type": "markdown",
      "metadata": {
        "id": "LcBkM5mi4dTW"
      },
      "source": [
        "## Validation avec le dataset de tests"
      ]
    },
    {
      "cell_type": "code",
      "metadata": {
        "colab": {
          "base_uri": "https://localhost:8080/",
          "height": 300
        },
        "id": "VYDVf7pzCRpq",
        "outputId": "f7b72e50-1caa-43a1-e42a-9800f197c36f"
      },
      "source": [
        "# Put sequence data on device (GPU when available)\n",
        "Xs_test = Xs_test.to(device)\n",
        "\n",
        "# Put target data on device (GPU when available)\n",
        "ys_test = ys_test.to(device)\n",
        "\n",
        "# Predict the value of the sequence data using the RNN-based model\n",
        "ypred_rnn = model_rnn(Xs_test)\n",
        "\n",
        "# Compute the loss of the RNN-based model using the loss function\n",
        "loss_test_rnn = loss_fun(ypred_rnn, ys_test)\n",
        "\n",
        "print(f\"The RNN's test mean squared error is {float(loss_test_rnn):2.3f}\")\n",
        "\n",
        "plt.scatter(ys_test.cpu().detach().numpy(),ypred_rnn.cpu().detach().numpy())"
      ],
      "execution_count": 26,
      "outputs": [
        {
          "output_type": "stream",
          "text": [
            "The RNN's test mean squared error is 0.003\n"
          ],
          "name": "stdout"
        },
        {
          "output_type": "execute_result",
          "data": {
            "text/plain": [
              "<matplotlib.collections.PathCollection at 0x7f666dd66e10>"
            ]
          },
          "metadata": {
            "tags": []
          },
          "execution_count": 26
        },
        {
          "output_type": "display_data",
          "data": {
            "image/png": "[encoded data removed]",
            "text/plain": [
              "<Figure size 432x288 with 1 Axes>"
            ]
          },
          "metadata": {
            "tags": [],
            "needs_background": "light"
          }
        }
      ]
    },
    {
      "cell_type": "markdown",
      "metadata": {
        "id": "IWvI_v5_DQdy"
      },
      "source": [
        "In the following cell, we use the model to predict Fx price"
      ]
    },
    {
      "cell_type": "code",
      "metadata": {
        "colab": {
          "base_uri": "https://localhost:8080/"
        },
        "id": "xmQoENQqC1mt",
        "outputId": "beb61fb1-6ca0-430a-84a6-9a3075757017"
      },
      "source": [
        "Xs_test = Xs_test.cpu()\n",
        "ypred_rnn = ypred_rnn.cpu()\n",
        "ys_test = ys_test.cpu()\n",
        "\n",
        "# Unstandardize  xtest ytest\n",
        "xtest_unstd = Xs_test*std + mean\n",
        "\n",
        "ys_test_unstd = ys_test*std + mean\n",
        "\n",
        "# Unstandardize  the predictions of the RNN-based model on xtest\n",
        "ypred_unstd = ypred_rnn*std + mean\n",
        "\n",
        "# sample a random number from the examples above:\n",
        "idx = np.random.randint(len(ys_test))\n",
        "\n",
        "print(\"\")\n",
        "print(\"Example RNN:\")\n",
        "print(\"\")\n",
        "print(f\"xtest[{idx}] = {xtest_unstd.detach()[idx]}\")\n",
        "print(f\"ys_test[{idx}] = {ys_test_unstd.detach()[idx]}\\n ypred[{idx}] = {ypred_unstd.detach()[idx]}\")\n",
        "\n",
        "print_mean_abs_error(ys_test_unstd.detach(), ypred_unstd.detach(), idx)\n",
        "print_mean_abs_error(ys_test_unstd.detach(), ypred_unstd.detach())"
      ],
      "execution_count": 27,
      "outputs": [
        {
          "output_type": "stream",
          "text": [
            "\n",
            "Example RNN:\n",
            "\n",
            "xtest[2080] = tensor([[1.2757],\n",
            "        [1.2735],\n",
            "        [1.2636],\n",
            "        [1.2637],\n",
            "        [1.2733],\n",
            "        [1.2740],\n",
            "        [1.2694]])\n",
            "ys_test[2080] = tensor([1.2799])\n",
            " ypred[2080] = tensor([1.2701])\n",
            "Absolute mean error between target[2080] et prediction[2080] = 0.009786367416381836\n",
            "Absolute mean error between target[:] et prediction[:] = 0.005741299595683813\n"
          ],
          "name": "stdout"
        }
      ]
    },
    {
      "cell_type": "markdown",
      "metadata": {
        "id": "hSmY5aSq6V4E"
      },
      "source": [
        "## Validation avec des séquences unitaires"
      ]
    },
    {
      "cell_type": "code",
      "metadata": {
        "colab": {
          "base_uri": "https://localhost:8080/"
        },
        "id": "0waCkp6m6gJJ",
        "outputId": "5274dc53-60ad-4ae3-b4bb-08446ecd2316"
      },
      "source": [
        "idx = 102\n",
        "\n",
        "# Put sequence data on device (GPU when available)\n",
        "Xs_unit = Xs_test[idx:idx+1,:,:].to(device)\n",
        "\n",
        "# Put target data on device (GPU when available)\n",
        "ys_unit = ys_test[idx].to(device)\n",
        "\n",
        "# Predict the value of the sequence data using the RNN-based model\n",
        "ypred_rnn = model_rnn(Xs_unit)\n",
        "\n",
        "Xs_unit = Xs_unit.cpu()\n",
        "ypred_rnn = ypred_rnn.cpu()\n",
        "ys_unit = ys_unit.cpu()\n",
        "\n",
        "# Unstandardize  xtest ytest\n",
        "xunit_unstd = Xs_unit*std + mean\n",
        "\n",
        "ys_unit_unstd = ys_unit*std + mean\n",
        "\n",
        "# Unstandardize  the predictions of the RNN-based model on xtest\n",
        "ypred_unstd = ypred_rnn*std + mean\n",
        "\n",
        "print(f\"xunit[{idx}] = {xunit_unstd.detach()[0,:,0]}\")\n",
        "print(f\"ys_unit[{idx}] = {ys_unit_unstd.detach()}\\n ypred[{idx}] = {ypred_unstd.detach()}\")\n",
        "\n",
        "print_mean_abs_error(ys_unit_unstd.detach(), ypred_unstd.detach())"
      ],
      "execution_count": 86,
      "outputs": [
        {
          "output_type": "stream",
          "text": [
            "xunit[102] = tensor([1.0273, 1.0387, 1.0457, 1.0501, 1.0515, 1.0470, 1.0477])\n",
            "ys_unit[102] = tensor([1.0519])\n",
            " ypred[102] = tensor([[1.0581]])\n",
            "Absolute mean error between target[:] et prediction[:] = 0.006117343902587891\n"
          ],
          "name": "stdout"
        }
      ]
    },
    {
      "cell_type": "markdown",
      "metadata": {
        "id": "o6Flv2rQijD5"
      },
      "source": [
        "## Prédiction sur 7 jours"
      ]
    },
    {
      "cell_type": "code",
      "metadata": {
        "colab": {
          "base_uri": "https://localhost:8080/"
        },
        "id": "CH0gWjdeXsHv",
        "outputId": "d9edacb4-d4b7-4e94-92ce-ac370d18a7f9"
      },
      "source": [
        "def shif_right_and_complete(input_seq, item_to_add, debug=False):\n",
        "  if debug == True:\n",
        "    print(input_seq[0,:,0])\n",
        "    print(item_to_add[0])\n",
        "    print(\"--------------------\")\n",
        "  output = input_seq[:,1:7,:]\n",
        "  output = torch.cat((output, item_to_add.unsqueeze(2)),dim=1)\n",
        "  if debug == True:\n",
        "    print(output[0,:,0])\n",
        "  return output\n",
        "\n",
        "Xs_unit_1 = shif_right_and_complete(Xs_unit.detach(), ypred_rnn.detach(), debug=True)\n",
        "idx = 102\n",
        "Xs_test[idx:idx+1,:,0]\n",
        "Xs_test[idx:idx+2,:,0]\n",
        "Xs_test[idx:idx+3,:,0]"
      ],
      "execution_count": 78,
      "outputs": [
        {
          "output_type": "stream",
          "text": [
            "tensor([-1.3760, -1.3319, -1.2892, -1.2506, -1.2168, -1.1868, -1.1599],\n",
            "       device='cuda:0')\n",
            "tensor([-1.1599], device='cuda:0')\n",
            "--------------------\n",
            "tensor([-1.3319, -1.2892, -1.2506, -1.2168, -1.1868, -1.1599, -1.1599],\n",
            "       device='cuda:0')\n"
          ],
          "name": "stdout"
        },
        {
          "output_type": "execute_result",
          "data": {
            "text/plain": [
              "tensor([[-1.5847, -1.5087, -1.4616, -1.4323, -1.4232, -1.4528, -1.4482],\n",
              "        [-1.5087, -1.4616, -1.4323, -1.4232, -1.4528, -1.4482, -1.4198],\n",
              "        [-1.4616, -1.4323, -1.4232, -1.4528, -1.4482, -1.4198, -1.4352]])"
            ]
          },
          "metadata": {
            "tags": []
          },
          "execution_count": 78
        }
      ]
    },
    {
      "cell_type": "code",
      "metadata": {
        "id": "-AKq_ajKistM"
      },
      "source": [
        "def prediction_7jours(idx=1500):\n",
        "  Xs_unit = Xs_test[idx:idx+1,:,:]\n",
        "  ys_targets = np.array([])\n",
        "  ys_predicts = np.array([])\n",
        "\n",
        "  for i in range(idx,idx+7):\n",
        "    Xs_unit = Xs_unit.to(device)\n",
        "    ypred_rnn = model_rnn(Xs_unit)\n",
        "    ys_targets = np.append(ys_targets,ys_test.numpy()[i])\n",
        "    ys_predicts = np.append(ys_predicts, ypred_rnn.cpu().detach().numpy()[0])\n",
        "    Xs_unit = shif_right_and_complete(Xs_unit.detach(), ypred_rnn.detach())\n",
        "\n",
        "  print(ys_targets*std + mean)\n",
        "  print(ys_predicts*std + mean)\n",
        "\n",
        "  xaxis = range(1, 8)\n",
        "  plt.plot(xaxis, ys_targets*std + mean, label='targets')\n",
        "  plt.plot(xaxis, ys_predicts*std + mean, label='predictions')\n",
        "\n",
        "  plt.xlabel('# jours')\n",
        "  plt.ylabel('Fx Price')\n",
        "  plt.title(f'Predictions idx={idx}')\n",
        "  plt.legend()\n",
        "\n",
        "  plt.show()"
      ],
      "execution_count": 100,
      "outputs": []
    },
    {
      "cell_type": "code",
      "metadata": {
        "colab": {
          "base_uri": "https://localhost:8080/",
          "height": 712
        },
        "id": "Es3Jb3H7vcW_",
        "outputId": "cee7419d-0d3f-4940-d9e2-488f30c3db9a"
      },
      "source": [
        "prediction_7jours(0)\n",
        "prediction_7jours(1500)"
      ],
      "execution_count": 107,
      "outputs": [
        {
          "output_type": "stream",
          "text": [
            "[0.99564995 0.99784996 1.00200996 1.00479993 1.00224993 1.00183997\n",
            " 1.00094995]\n",
            "[1.01898785 1.03211972 1.04373935 1.05356867 1.06179118 1.06882195\n",
            " 1.07493297]\n"
          ],
          "name": "stdout"
        },
        {
          "output_type": "display_data",
          "data": {
            "image/png": "[encoded data removed]",
            "text/plain": [
              "<Figure size 432x288 with 1 Axes>"
            ]
          },
          "metadata": {
            "tags": [],
            "needs_background": "light"
          }
        },
        {
          "output_type": "stream",
          "text": [
            "[1.31121001 1.31551    1.32123002 1.32474002 1.32383999 1.32422993\n",
            " 1.31779   ]\n",
            "[1.31162918 1.31132355 1.31084368 1.31026475 1.30965368 1.30901596\n",
            " 1.30835514]\n"
          ],
          "name": "stdout"
        },
        {
          "output_type": "display_data",
          "data": {
            "image/png": "[encoded data removed]",
            "text/plain": [
              "<Figure size 432x288 with 1 Axes>"
            ]
          },
          "metadata": {
            "tags": [],
            "needs_background": "light"
          }
        }
      ]
    },
    {
      "cell_type": "markdown",
      "metadata": {
        "id": "IB25EGF9Ywdq"
      },
      "source": [
        "# Zone de tests (hors projet)"
      ]
    },
    {
      "cell_type": "code",
      "metadata": {
        "colab": {
          "base_uri": "https://localhost:8080/"
        },
        "id": "pseS7j9wWR2T",
        "outputId": "038a043a-1d6b-484a-d325-042f76eab886"
      },
      "source": [
        "X = []\n",
        "Y = []\n",
        "\n",
        "for row in dfs:\n",
        "  X.append([row[0:seq_len-1]])\n",
        "  Y.append([row[seq_len-1]])\n",
        "X = np.array(X)\n",
        "Y = np.array(Y)\n",
        "print(X[0])\n",
        "torch_X = torch.from_numpy(X.transpose(0,2,1)).float()\n",
        "print(torch_X.shape)\n",
        "print(torch_X[0,:,0])"
      ],
      "execution_count": 29,
      "outputs": [
        {
          "output_type": "stream",
          "text": [
            "[[1.1658 1.1703 1.1687 1.1694 1.1698 1.1686 1.165 ]]\n",
            "torch.Size([10785, 7, 1])\n",
            "tensor([1.1658, 1.1703, 1.1687, 1.1694, 1.1698, 1.1686, 1.1650])\n"
          ],
          "name": "stdout"
        }
      ]
    },
    {
      "cell_type": "code",
      "metadata": {
        "colab": {
          "base_uri": "https://localhost:8080/"
        },
        "id": "QjucUlewe6Ql",
        "outputId": "e7c8b97f-85df-4f5b-c3f9-9ab52118a13c"
      },
      "source": [
        "print(Xs_unit.numpy()[0,:,0])\n",
        "print(ys_unit.numpy())\n",
        "print(ypred_rnn.detach()[0].numpy())\n",
        "print(\"--------------------\")\n",
        "Xs_unit_1 = Xs_unit[:,1:7,:]\n",
        "Xs_unit_1 = torch.cat((Xs_unit_1, ypred_rnn.detach().unsqueeze(2)),dim=1)\n",
        "print(Xs_unit_1.numpy()[0,:,0])"
      ],
      "execution_count": 54,
      "outputs": [
        {
          "output_type": "stream",
          "text": [
            "[-1.6252832 -1.584659  -1.5086888 -1.4615841 -1.4323187 -1.4231645\n",
            " -1.4528313]\n",
            "[-1.4482203]\n",
            "[-1.3759968]\n",
            "--------------------\n",
            "[-1.584659  -1.5086888 -1.4615841 -1.4323187 -1.4231645 -1.4528313\n",
            " -1.3759968]\n"
          ],
          "name": "stdout"
        }
      ]
    }
  ]
}