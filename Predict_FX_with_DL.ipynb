{
  "nbformat": 4,
  "nbformat_minor": 0,
  "metadata": {
    "colab": {
      "name": "Predict_FX_with_DL",
      "provenance": [],
      "collapsed_sections": [],
      "toc_visible": true,
      "authorship_tag": "ABX9TyO6o044FkPm0S/+yTtpUEls",
      "include_colab_link": true
    },
    "kernelspec": {
      "name": "python3",
      "display_name": "Python 3"
    },
    "language_info": {
      "name": "python"
    },
    "accelerator": "GPU"
  },
  "cells": [
    {
      "cell_type": "markdown",
      "metadata": {
        "id": "view-in-github",
        "colab_type": "text"
      },
      "source": [
        "<a href=\"https://colab.research.google.com/github/delemarchand2020/IVADO_MILA_DL/blob/main/Predict_FX_with_DL.ipynb\" target=\"_parent\"><img src=\"https://colab.research.google.com/assets/colab-badge.svg\" alt=\"Open In Colab\"/></a>"
      ]
    },
    {
      "cell_type": "markdown",
      "metadata": {
        "id": "E6uQMizy7KeX"
      },
      "source": [
        "#Projet d'utilisation des modèles RNN, TSTM et Transformer pour la prédiction des taux de change et comparaison avec le modèle de marche aléatoire"
      ]
    },
    {
      "cell_type": "markdown",
      "metadata": {
        "id": "IK2VGJ_F867r"
      },
      "source": [
        "Pour les besoins de ce projet, on récupère les historiques journaliers des taux de change des 10 principales devises depuis 1980, on bâtit des séquences de n jours consécutifs dont la cible à prédire est le n+1 ieme jour. On utilise une technique de \"bootstrap\" pour faire des prédictions, par la suite, sur plusieurs jours : à partir d'une séquence initiale de n jours, on prévoit le n+1 iéme jour avec RNN puis on soumet au RNN une nouvelle séquence de n jours incluant la dernière prévision effectuée (et en ôtant le premier terme de la séquence précédente) et de proche en proche on effectue des prévisions sur 2, 3, ... x jours.\n",
        "\n",
        "Le RNN (au sens large, c'est à dire un RNN pur ou un LSTM ou encore un Transformer) est alimenté en apprentissage avec de telles séquences sur N devises et du point de vue du RNN, on suppose que ces devises suivent le même processus. Dès lors, on pourra effectuer des prévisions sur n'importe quelle série chronologique suivant ce même processus.\n",
        "\n",
        "Pour comparer nos prévisions et évaluer la performance de prévision du RNN, on considére les 2 modèles de références suivants: \n",
        "\n",
        "\n",
        ">(1) \"random walk\" : la prévision du n+1 ième jour est le taux de change observé le n ième jour (c'est le modèle de marche aléatoire). Ce modèle dit que la meilleure prévision du taux de change dans le futur (1, 2, ... ou x jours) est le taux de change qui prévaut aujourd'hui. En d'autres termes, le meilleur estimateur du taux futur est le taux comptant prévalant.\n",
        "\n",
        ">(2) moyenne mobile : la prévision du n+1 ième jour est la moyenne des taux des n derniers jours. \n",
        "\n",
        "Ces 2 modèles ne requierent aucune autre information contextuelle.\n",
        "\n",
        "Le Mean-Squared-Error, écart entre la valeur réellement observée et la prévision des différents modèles (\"random walk\", moyenne mobile, RNN), donnera une bonne indication de la performance relative des modèles étudiés.\n",
        "\n",
        "Dans la littérature en finance internationale, il est connu que le modèle de marche aléatoire (modèle 1) est très difficile à battre. \n",
        "\n",
        "Est-ce que le RNN aura de la difficulté à le battre également ? C'est la question à laquelle ce projet tente de répondre.\n",
        "\n",
        "**Notes :**\n",
        "\n",
        ">(a) quelques portions de code ont été copié des tutoriaux du MILA (cours IVADO/MILA DeepLearning 2021).\n",
        "Voir les sources [ici](https://github.com/mila-iqia/ivado-mila-dl-school-2021/tree/main/tutorials).\n",
        "\n",
        ">(b) références des articles IA/DL: \n",
        "- https://www.researchgate.net/publication/315415407_Deep_networks_for_predicting_direction_of_change_in_foreign_exchange_rates\n",
        "- https://towardsdatascience.com/stock-prediction-using-recurrent-neural-networks-c03637437578\n",
        "- https://pub.towardsai.net/bitcoin-price-prediction-with-rnn-and-lstm-in-python-f912d57c483e\n",
        "\n",
        ">(c) références des articles de finance:\n",
        "- [Meese & Rogoff (1983)](http://lien.uqam.ca/YjOACsY)\n",
        "- [Rossi (2013)](http://lien.uqam.ca/fXxa052)\n",
        "- [Engel, Mark & West (2012)](http://www.nber.org/papers/w18382.pdf)"
      ]
    },
    {
      "cell_type": "markdown",
      "metadata": {
        "id": "A-ivciiY37cu"
      },
      "source": [
        "# Initialisation"
      ]
    },
    {
      "cell_type": "code",
      "metadata": {
        "colab": {
          "base_uri": "https://localhost:8080/"
        },
        "id": "v-d4sPbB4Cb3",
        "outputId": "8ad55a02-dd9a-4cb7-fb60-1df25425e939"
      },
      "source": [
        "!pip3 install torch"
      ],
      "execution_count": 195,
      "outputs": [
        {
          "output_type": "stream",
          "text": [
            "Requirement already satisfied: torch in /usr/local/lib/python3.7/dist-packages (1.8.1+cu101)\n",
            "Requirement already satisfied: numpy in /usr/local/lib/python3.7/dist-packages (from torch) (1.19.5)\n",
            "Requirement already satisfied: typing-extensions in /usr/local/lib/python3.7/dist-packages (from torch) (3.7.4.3)\n"
          ],
          "name": "stdout"
        }
      ]
    },
    {
      "cell_type": "code",
      "metadata": {
        "colab": {
          "base_uri": "https://localhost:8080/"
        },
        "id": "hTciBxXi4EOC",
        "outputId": "d82eb969-3a23-4eca-dd03-1a814baee504"
      },
      "source": [
        "import torch\n",
        "\n",
        "use_gpu = torch.cuda.is_available()\n",
        "device = torch.device(\"cuda:0\" if use_gpu else \"cpu\")\n",
        "\n",
        "print(\"Torch version: \", torch.__version__)\n",
        "print(\"GPU Available: {}\".format(use_gpu))"
      ],
      "execution_count": 196,
      "outputs": [
        {
          "output_type": "stream",
          "text": [
            "Torch version:  1.8.1+cu101\n",
            "GPU Available: True\n"
          ],
          "name": "stdout"
        }
      ]
    },
    {
      "cell_type": "code",
      "metadata": {
        "id": "W7504uqQLQD1"
      },
      "source": [
        "import torch.nn as nn\n",
        "import torch.nn.functional as F\n",
        "import torch.nn.init as init\n",
        "import torch.optim as optim\n",
        "\n",
        "from torch.utils.data import DataLoader, TensorDataset"
      ],
      "execution_count": 197,
      "outputs": []
    },
    {
      "cell_type": "code",
      "metadata": {
        "id": "dZhV8De44QEy"
      },
      "source": [
        "import pandas as pd\n",
        "import datetime\n",
        "import matplotlib.pyplot as plt\n",
        "import numpy as np"
      ],
      "execution_count": 198,
      "outputs": []
    },
    {
      "cell_type": "code",
      "metadata": {
        "id": "GId9noi2Mjny"
      },
      "source": [
        "import copy\n",
        "import gc\n",
        "import math\n",
        "import time\n",
        "import os\n",
        "\n",
        "import unittest"
      ],
      "execution_count": 199,
      "outputs": []
    },
    {
      "cell_type": "markdown",
      "metadata": {
        "id": "7dUKoG5keiFF"
      },
      "source": [
        "# Import et préparation des données"
      ]
    },
    {
      "cell_type": "markdown",
      "metadata": {
        "id": "cHMdg2K7jKLH"
      },
      "source": [
        "## Chargement du fichier et nettoyage des données\n"
      ]
    },
    {
      "cell_type": "code",
      "metadata": {
        "colab": {
          "base_uri": "https://localhost:8080/",
          "height": 314
        },
        "id": "djD_XUWmffYr",
        "outputId": "6b63b883-4e9b-4fd2-c5cd-1547964da452"
      },
      "source": [
        "url_data_source = 'https://github.com/delemarchand2020/IVADO_MILA_DL/raw/main/FX_HFData.xlsx'\n",
        "df = pd.read_excel(url_data_source, sheet_name='Daily All',\n",
        "                   dtype={' ': datetime.date, 'USDCAD Curncy': float, \n",
        "                          'EURUSD Curncy': float, 'GBPUSD Curncy': float,\n",
        "                          'USDJPY Curncy':float, 'USDCHF Curncy':float,\n",
        "                          'AUDUSD Curncy':float,'USDSEK Curncy':float,\n",
        "                          'USDNOK Curncy':float,'NZDUSD Curncy':float, \n",
        "                          'USDSGD Curncy':float })\n",
        "df = df.drop(columns=['USDSGD Curncy'])\n",
        "df = df.dropna()\n",
        "df.columns = ['date', 'USDCAD','EURUSD', 'GBPUSD','USDJPY','USDCHF','AUDUSD','USDSEK',\n",
        "              'USDNOK','NZDUSD']\n",
        "df.describe()"
      ],
      "execution_count": 200,
      "outputs": [
        {
          "output_type": "execute_result",
          "data": {
            "text/html": [
              "<div>\n",
              "<style scoped>\n",
              "    .dataframe tbody tr th:only-of-type {\n",
              "        vertical-align: middle;\n",
              "    }\n",
              "\n",
              "    .dataframe tbody tr th {\n",
              "        vertical-align: top;\n",
              "    }\n",
              "\n",
              "    .dataframe thead th {\n",
              "        text-align: right;\n",
              "    }\n",
              "</style>\n",
              "<table border=\"1\" class=\"dataframe\">\n",
              "  <thead>\n",
              "    <tr style=\"text-align: right;\">\n",
              "      <th></th>\n",
              "      <th>USDCAD</th>\n",
              "      <th>EURUSD</th>\n",
              "      <th>GBPUSD</th>\n",
              "      <th>USDJPY</th>\n",
              "      <th>USDCHF</th>\n",
              "      <th>AUDUSD</th>\n",
              "      <th>USDSEK</th>\n",
              "      <th>USDNOK</th>\n",
              "      <th>NZDUSD</th>\n",
              "    </tr>\n",
              "  </thead>\n",
              "  <tbody>\n",
              "    <tr>\n",
              "      <th>count</th>\n",
              "      <td>10596.000000</td>\n",
              "      <td>10596.000000</td>\n",
              "      <td>10596.000000</td>\n",
              "      <td>10596.000000</td>\n",
              "      <td>10596.000000</td>\n",
              "      <td>10596.000000</td>\n",
              "      <td>10596.000000</td>\n",
              "      <td>10596.000000</td>\n",
              "      <td>10596.000000</td>\n",
              "    </tr>\n",
              "    <tr>\n",
              "      <th>mean</th>\n",
              "      <td>1.264218</td>\n",
              "      <td>1.172420</td>\n",
              "      <td>1.611962</td>\n",
              "      <td>131.016776</td>\n",
              "      <td>1.374366</td>\n",
              "      <td>0.786031</td>\n",
              "      <td>7.446277</td>\n",
              "      <td>7.043842</td>\n",
              "      <td>0.652753</td>\n",
              "    </tr>\n",
              "    <tr>\n",
              "      <th>std</th>\n",
              "      <td>0.150479</td>\n",
              "      <td>0.175264</td>\n",
              "      <td>0.228563</td>\n",
              "      <td>45.598143</td>\n",
              "      <td>0.396077</td>\n",
              "      <td>0.146864</td>\n",
              "      <td>1.305758</td>\n",
              "      <td>1.130249</td>\n",
              "      <td>0.119710</td>\n",
              "    </tr>\n",
              "    <tr>\n",
              "      <th>min</th>\n",
              "      <td>0.920350</td>\n",
              "      <td>0.644370</td>\n",
              "      <td>1.052000</td>\n",
              "      <td>75.824000</td>\n",
              "      <td>0.720880</td>\n",
              "      <td>0.478950</td>\n",
              "      <td>4.106000</td>\n",
              "      <td>4.793000</td>\n",
              "      <td>0.391450</td>\n",
              "    </tr>\n",
              "    <tr>\n",
              "      <th>25%</th>\n",
              "      <td>1.163500</td>\n",
              "      <td>1.082043</td>\n",
              "      <td>1.474000</td>\n",
              "      <td>105.825750</td>\n",
              "      <td>1.005525</td>\n",
              "      <td>0.698897</td>\n",
              "      <td>6.515923</td>\n",
              "      <td>6.184220</td>\n",
              "      <td>0.567100</td>\n",
              "    </tr>\n",
              "    <tr>\n",
              "      <th>50%</th>\n",
              "      <td>1.270555</td>\n",
              "      <td>1.182050</td>\n",
              "      <td>1.589665</td>\n",
              "      <td>115.897500</td>\n",
              "      <td>1.313500</td>\n",
              "      <td>0.759700</td>\n",
              "      <td>7.419900</td>\n",
              "      <td>6.868375</td>\n",
              "      <td>0.656500</td>\n",
              "    </tr>\n",
              "    <tr>\n",
              "      <th>75%</th>\n",
              "      <td>1.365112</td>\n",
              "      <td>1.297970</td>\n",
              "      <td>1.722000</td>\n",
              "      <td>133.630000</td>\n",
              "      <td>1.570475</td>\n",
              "      <td>0.868263</td>\n",
              "      <td>8.324337</td>\n",
              "      <td>7.833502</td>\n",
              "      <td>0.720965</td>\n",
              "    </tr>\n",
              "    <tr>\n",
              "      <th>max</th>\n",
              "      <td>1.613500</td>\n",
              "      <td>1.599130</td>\n",
              "      <td>2.446000</td>\n",
              "      <td>277.650000</td>\n",
              "      <td>2.924500</td>\n",
              "      <td>1.189000</td>\n",
              "      <td>11.026000</td>\n",
              "      <td>11.705130</td>\n",
              "      <td>0.992700</td>\n",
              "    </tr>\n",
              "  </tbody>\n",
              "</table>\n",
              "</div>"
            ],
            "text/plain": [
              "             USDCAD        EURUSD  ...        USDNOK        NZDUSD\n",
              "count  10596.000000  10596.000000  ...  10596.000000  10596.000000\n",
              "mean       1.264218      1.172420  ...      7.043842      0.652753\n",
              "std        0.150479      0.175264  ...      1.130249      0.119710\n",
              "min        0.920350      0.644370  ...      4.793000      0.391450\n",
              "25%        1.163500      1.082043  ...      6.184220      0.567100\n",
              "50%        1.270555      1.182050  ...      6.868375      0.656500\n",
              "75%        1.365112      1.297970  ...      7.833502      0.720965\n",
              "max        1.613500      1.599130  ...     11.705130      0.992700\n",
              "\n",
              "[8 rows x 9 columns]"
            ]
          },
          "metadata": {
            "tags": []
          },
          "execution_count": 200
        }
      ]
    },
    {
      "cell_type": "code",
      "metadata": {
        "colab": {
          "base_uri": "https://localhost:8080/",
          "height": 297
        },
        "id": "CD_forPKi9Wf",
        "outputId": "172ed78f-d752-41a7-f555-3623af9e1176"
      },
      "source": [
        "plt.figure()\n",
        "plt.plot(df['date'],df['USDCAD'], label='USDCAD')\n",
        "plt.plot(df['date'],df['EURUSD'], label='EURUSD')\n",
        "plt.plot(df['date'],df['GBPUSD'], label='GBPUSD')\n",
        "plt.plot(df['date'],df['USDJPY']/100, label='USDJPY')\n",
        "plt.plot(df['date'],df['USDCHF'], label='USDCHF')\n",
        "plt.xlabel('date')\n",
        "plt.ylabel('Fx Price')\n",
        "plt.legend()"
      ],
      "execution_count": 201,
      "outputs": [
        {
          "output_type": "execute_result",
          "data": {
            "text/plain": [
              "<matplotlib.legend.Legend at 0x7f1c6e029a50>"
            ]
          },
          "metadata": {
            "tags": []
          },
          "execution_count": 201
        },
        {
          "output_type": "display_data",
          "data": {
            "image/png": "[encoded data removed]",
            "text/plain": [
              "<Figure size 432x288 with 1 Axes>"
            ]
          },
          "metadata": {
            "tags": [],
            "needs_background": "light"
          }
        }
      ]
    },
    {
      "cell_type": "markdown",
      "metadata": {
        "id": "ID44zEMkp3kQ"
      },
      "source": [
        "## Création des datasets (train, validate et test)"
      ]
    },
    {
      "cell_type": "markdown",
      "metadata": {
        "id": "uspAyu8n-mt9"
      },
      "source": [
        "On divise le dataset en 3 parties:\n",
        "\n",
        "<ol>\n",
        "<li> <b> Train</b> (60% du dataset): utilisé pour entraîner le modèle. </li>   \n",
        "<li> <b> Validation</b> (20% du dataset): utilisé pour évaluer les \"hyper-parameters\", c'est à dire les paramètres intrinsèques au bon apprentissage. </li>   \n",
        "<li> <b> Test</b> (20% du dataset): utilisé pour évaluer la généralisation de la performance sur des données hors apprentissage. </li>\n",
        "</ol>"
      ]
    },
    {
      "cell_type": "markdown",
      "metadata": {
        "id": "0It9USfV9hu2"
      },
      "source": [
        "On créé les jeux de données d'entrées et de sorties telles que les *pos_x* premiers prix journaliers de la séquence sont les données d'entrée (X) et le *pos_y* ieme de la séquence est la cible (Y) à prédire !\n",
        "\n",
        "Puis, on \"standardise\" les jeux de données pour faciliter l'apprentissage RNN."
      ]
    },
    {
      "cell_type": "markdown",
      "metadata": {
        "id": "9yYO-vsjhQCP"
      },
      "source": [
        "### Fonction split_x_y_in_torch"
      ]
    },
    {
      "cell_type": "code",
      "metadata": {
        "id": "2BV7WRWH0BqC"
      },
      "source": [
        "def split_x_y_in_torch(dfs,seq_len, pos_x=7, pos_y=8):\n",
        "    X = []\n",
        "    Y = []\n",
        "    for row in dfs:\n",
        "      X.append([row[0:pos_x]])\n",
        "      Y.append([row[pos_y-1]])\n",
        "    X = np.array(X)\n",
        "    Y = np.array(Y)\n",
        "    return torch.from_numpy(X.transpose(0,2,1)).float(), torch.from_numpy(Y).float()"
      ],
      "execution_count": 202,
      "outputs": []
    },
    {
      "cell_type": "markdown",
      "metadata": {
        "id": "I7BfaYmLhGvT"
      },
      "source": [
        "#### Tests unitaires"
      ]
    },
    {
      "cell_type": "code",
      "metadata": {
        "id": "oTnLwo_5g-gJ"
      },
      "source": [
        "class SplitTestCase(unittest.TestCase):\n",
        "\n",
        "    def setUp(self):\n",
        "        \"\"\"Call before every test case.\"\"\"\n",
        "        s1 = pd.Series([1.1, 2.2, 3.3, 4.4, 5.5, 6.6, 7.7])\n",
        "        s2 = pd.Series([8.1, 9.2, 10.3, 11.4, 12.5, 13.6, 14.7])\n",
        "        self.seq_len = 7\n",
        "        self.dfs = []\n",
        "        self.dfs.append(s1)\n",
        "        self.dfs.append(s2)\n",
        "        self.split_x_y_in_torch = split_x_y_in_torch\n",
        "\n",
        "    def tearDown(self):\n",
        "        \"\"\"Call after every test case.\"\"\"\n",
        "\n",
        "    def testTailleDfs(self):\n",
        "        \"\"\"note that all test method names must begin with 'test.'\"\"\"\n",
        "        assert  len(self.dfs) == 2, \"La taille du dataframe n'est pas la bonne !\"\n",
        "\n",
        "    def testSplit3_7(self):\n",
        "        result1, result2 = self.split_x_y_in_torch(self.dfs,self.seq_len, pos_x=3, pos_y=7)\n",
        "        expected1 = torch.from_numpy(np.array([[[1.1], [2.2], [3.3]], [[8.1], [9.2], [10.3]]])).float()\n",
        "        expected2 = torch.from_numpy(np.array([[7.7], [14.7]])).float()\n",
        "        assert result1.shape == torch.Size([2, 3, 1]), \"taille tensor incorrecte\"\n",
        "        assert torch.equal(result1, expected1) == True, \"split de base echoue\"\n",
        "        assert torch.equal(result2, expected2) == True, \"split de base echoue\"\n",
        "\n",
        "    def testSplit3_4(self):\n",
        "        result1, result2 = self.split_x_y_in_torch(self.dfs,self.seq_len, pos_x=3, pos_y=4)\n",
        "        expected1 = torch.from_numpy(np.array([[[1.1], [2.2], [3.3]], [[8.1], [9.2], [10.3]]])).float()\n",
        "        expected2 = torch.from_numpy(np.array([[4.4], [11.4]])).float()\n",
        "        assert torch.equal(result1, expected1) == True, \"split de base echoue\"\n",
        "        assert torch.equal(result2, expected2) == True, \"split de base echoue\""
      ],
      "execution_count": 203,
      "outputs": []
    },
    {
      "cell_type": "markdown",
      "metadata": {
        "id": "oSlISicIu_sO"
      },
      "source": [
        "### Fonction standardize"
      ]
    },
    {
      "cell_type": "code",
      "metadata": {
        "id": "4wqX8nx9CWy3"
      },
      "source": [
        "def standardize(X, mean=None, std=None):\n",
        "    \"\"\"The function standardizes the X tensor. \n",
        "    Args:\n",
        "      X: torch.Tensor.\n",
        "    \n",
        "    Returns:\n",
        "      Xs: torch.Tensor standardize.\n",
        "      mean: float, the mean of X.\n",
        "      stdev: float, the stdev of X.\n",
        "    \"\"\"\n",
        "    \n",
        "    X=X.float()\n",
        "\n",
        "    if mean == None:\n",
        "      mean = torch.mean(X)\n",
        "    if std == None:\n",
        "      std = torch.std(X)\n",
        "      \n",
        "    Xs = (X-mean) / std\n",
        "\n",
        "    return Xs, mean, std"
      ],
      "execution_count": 204,
      "outputs": []
    },
    {
      "cell_type": "markdown",
      "metadata": {
        "id": "NJKxdA1_vIu2"
      },
      "source": [
        "#### Tests unitaires "
      ]
    },
    {
      "cell_type": "code",
      "metadata": {
        "id": "OJHXC7crvMmj"
      },
      "source": [
        "class StandardizeTestCase(unittest.TestCase):\n",
        "\n",
        "    def setUp(self):\n",
        "        \"\"\"Call before every test case.\"\"\"\n",
        "        s1 = pd.Series([1.0, 2.0, 3.0, 4.4, 5.5, 6.6, 7.0])\n",
        "        s2 = pd.Series([8.0, 9.0, 10.0, 11.4, 12.5, 13.6, 14.0])\n",
        "        dfs = []\n",
        "        dfs.append(s1)\n",
        "        dfs.append(s2)\n",
        "        \n",
        "        self.x, self.y = split_x_y_in_torch(dfs,seq_len=7, pos_x=3, pos_y=7)\n",
        "        self.standardize = standardize\n",
        "\n",
        "    def tearDown(self):\n",
        "        \"\"\"Call after every test case.\"\"\"\n",
        "\n",
        "    def testCalculStat(self):\n",
        "        \"\"\"note that all test method names must begin with 'test.'\"\"\"\n",
        "        xs, m, s = self.standardize(self.x)\n",
        "        assert  m == 5.5\n",
        "        assert  np.round(s,3) == 3.937\n",
        "\n",
        "    def testIdentite(self):\n",
        "        xs, m, s = self.standardize(self.x, 0, 1)\n",
        "        expected_xs = torch.from_numpy(np.array([[[1.0], [2.0], [3.0]], [[8.0], [9.0], [10.0]]])).float()\n",
        "        assert  m == 0\n",
        "        assert  s == 1\n",
        "        assert torch.equal(xs, expected_xs) == True\n",
        "\n",
        "    def testStandardisationX(self):\n",
        "        xs, m, s = self.standardize(self.x, 1, 2)\n",
        "        expected_xs = torch.from_numpy(np.array([[[0.0], [0.5], [1.0]], [[3.5], [4.0], [4.5]]])).float()\n",
        "        assert torch.equal(xs, expected_xs) == True\n",
        "\n",
        "    def testStandardisationY(self):\n",
        "        ys, m, s = self.standardize(self.y, 1, 1)\n",
        "        expected_ys = torch.from_numpy(np.array(np.array([[6.0], [13.0]]))).float()\n",
        "        assert torch.equal(ys, expected_ys) == True"
      ],
      "execution_count": 205,
      "outputs": []
    },
    {
      "cell_type": "markdown",
      "metadata": {
        "id": "qltTviH-25C7"
      },
      "source": [
        "### Fonction create_datasets"
      ]
    },
    {
      "cell_type": "code",
      "metadata": {
        "id": "89G0kQl5p7v6"
      },
      "source": [
        "def create_datasets(seq_len=8, name_serie='USDCAD', pos_x=7, pos_y=8):\n",
        "    s = pd.Series(df[name_serie].values) # USDCAD ou EURUSD ou GBPUSD\n",
        "\n",
        "    arr = [s.shift(x).values[::-1][:seq_len] for x in range(len(s))[::-1]]\n",
        "    dfs = []\n",
        "    for row in arr:\n",
        "      dfs.append(row[::-1])\n",
        "    dfs = dfs[seq_len-1:]\n",
        "\n",
        "    train, validate, test = np.split(dfs, [int(.6*len(dfs)), int(.8*len(dfs))])\n",
        "\n",
        "    X_train, y_train = split_x_y_in_torch(train, seq_len, pos_x, pos_y)\n",
        "    X_validate, y_validate = split_x_y_in_torch(validate, seq_len, pos_x, pos_y)\n",
        "    X_test, y_test = split_x_y_in_torch(test, seq_len, pos_x, pos_y)\n",
        "\n",
        "    mean = np.mean(dfs)\n",
        "    std = np.std(dfs)\n",
        "\n",
        "    Xs_train, Xs_train_mean, Xs_train_std = standardize(X_train, mean, std)\n",
        "    ys_train, ys_train_mean, ys_train_std = standardize(y_train, mean, std)\n",
        "\n",
        "    Xs_validate, Xs_validate_mean, Xs_validate_std = standardize(X_validate, mean, std)\n",
        "    ys_validate, ys_validate_mean, ys_validate_std = standardize(y_validate, mean, std)\n",
        "\n",
        "    Xs_test, Xs_test_mean, Xs_test_std = standardize(X_test, mean, std)\n",
        "    ys_test, ys_test_mean, ys_test_std = standardize(y_test, mean, std)\n",
        "\n",
        "    return [Xs_train,ys_train], [Xs_validate,ys_validate], [Xs_test,ys_test], [mean, std]"
      ],
      "execution_count": 206,
      "outputs": []
    },
    {
      "cell_type": "markdown",
      "metadata": {
        "id": "iNQe9fFU2__3"
      },
      "source": [
        "#### Tests unitaires"
      ]
    },
    {
      "cell_type": "code",
      "metadata": {
        "id": "fZEqlMMX3DmY"
      },
      "source": [
        "class CreateDatasetsTestCase(unittest.TestCase):\n",
        "\n",
        "    def setUp(self):\n",
        "        self.data_train, self.data_val, self.data_test, self.stat = create_datasets(seq_len=15, \n",
        "                                                            name_serie='USDCAD',\n",
        "                                                            pos_x=8,\n",
        "                                                            pos_y=13)\n",
        "\n",
        "    def testCalculStat(self):\n",
        "        m, s = self.stat[0], self.stat[1]\n",
        "        assert  np.round(s,2) == 0.15\n",
        "        assert  np.round(m,2) == 1.26\n",
        "    \n",
        "    def testRepartitionDatasets(self):\n",
        "        x_train = self.data_train[0]\n",
        "        y_test = self.data_test[1]\n",
        "        len_x_train_expected = 6349 #arrondi sup de (10596 - 15)*0.6 = 6349\n",
        "        len_y_test_expected = 2117\n",
        "        assert len(x_train) == len_x_train_expected\n",
        "        assert len(y_test) ==  len_y_test_expected\n",
        "\n",
        "    def testTailleXY(self):\n",
        "        x_val = self.data_val[0]\n",
        "        y_val = self.data_val[1]\n",
        "        assert x_val.shape[1] == 8\n",
        "        assert y_val.shape[1] == 1\n",
        "\n",
        "    def testPositionY(self):\n",
        "        x_val = self.data_val[0]\n",
        "        y_val = self.data_val[1]\n",
        "        n = np.random.randint(low=6, high=100)\n",
        "        assert x_val[n][-1] == y_val[n-5]"
      ],
      "execution_count": 207,
      "outputs": []
    },
    {
      "cell_type": "markdown",
      "metadata": {
        "id": "vgLXIAUbJ9Wi"
      },
      "source": [
        "# Implémentation des modèles RNN, LSTM, Transformer"
      ]
    },
    {
      "cell_type": "markdown",
      "metadata": {
        "id": "0MpnbtHjLaKg"
      },
      "source": [
        "## Modèle RNN\n",
        "Implementation d'un modèle RNN en utilisant [torch.nn.RNN()](https://pytorch.org/docs/stable/generated/torch.nn.RNN.html#torch.nn.RNN) class. Les paramètres en entrée sont:\n",
        "- **input_dim**: la dimension des données en entrée (dans notre cas, ce sera un scalaire donc input_dim = 1)\n",
        "- **output_dim**: la dimension des données en sortie (nous voulons une prédiction qui est aussi un scalaire, donc output_dim = 1)\n",
        "- **hidden_size**: la taille des couches internes du RNN. C'est un paramètre à \"fine tuner\".\n",
        "- **n_layers**: le nombre de couche du RNN. C'est également un paramètre à \"fine tuner\"."
      ]
    },
    {
      "cell_type": "markdown",
      "metadata": {
        "id": "pzUer4Hj1aBW"
      },
      "source": [
        "### Définition du modèle RNN"
      ]
    },
    {
      "cell_type": "markdown",
      "metadata": {
        "id": "Sq49zOQb4XzW"
      },
      "source": [
        ">**Note:** extrait des tutoriaux du MILA"
      ]
    },
    {
      "cell_type": "code",
      "metadata": {
        "id": "JTmLCdH5KFEx"
      },
      "source": [
        "class RNNLinear(nn.Module):\n",
        "\n",
        "    def __init__(self, input_dim, output_dim, hidden_size, n_layers, debug_flag=False):\n",
        "        super(RNNLinear, self).__init__()\n",
        "        self.rnn_layer = torch.nn.RNN(input_size=input_dim,hidden_size=hidden_size,num_layers=n_layers)\n",
        "        self.linear_layer = torch.nn.Linear(in_features=hidden_size,out_features=output_dim)\n",
        "        self.print_debug_flag = debug_flag\n",
        "\n",
        "    def print_debug(self,text,var):\n",
        "      if self.print_debug_flag == True:\n",
        "        print(text,var)\n",
        "\n",
        "    def forward(self, x):\n",
        "        # x has size of (n_samples=batch_size, seq_len, input_dim)\n",
        "        # The RNN's input must be of size (seq_len, batch_size, input_dim)\n",
        "        self.print_debug('x:',x)\n",
        "\n",
        "        x = torch.transpose(x, 0, 1)\n",
        "\n",
        "        self.print_debug('x\\':',x)\n",
        "\n",
        "        output, hidden = self.rnn_layer(x) #hidden c'est le dernier h (vecteur)\n",
        "                                            # si on veut initialiser un autre rnn avec les parametres déjà appris\n",
        "\n",
        "        self.print_debug('hidden:',hidden)\n",
        "        self.print_debug('output:',output)\n",
        "        self.print_debug('output[-1]:',output[-1])\n",
        "        self.print_debug('linear_layer(output):',self.linear_layer(output))\n",
        "        self.print_debug('linear_layer(output[-1]):',self.linear_layer(output[-1]))\n",
        "\n",
        "        output = output[-1]\n",
        "        pred = self.linear_layer(output)\n",
        "        \n",
        "        self.print_debug('pred:',pred)\n",
        "\n",
        "        return pred"
      ],
      "execution_count": 208,
      "outputs": []
    },
    {
      "cell_type": "markdown",
      "metadata": {
        "id": "SoDgyyJZ1uzW"
      },
      "source": [
        "### Instanciation du modèle"
      ]
    },
    {
      "cell_type": "markdown",
      "metadata": {
        "id": "XBLrVYJH131o"
      },
      "source": [
        ">**Note:** extrait des tutoriaux du MILA\n",
        "\n",
        "> **ATTENTION** : si l'on souhaite faire du pre-tranining avec plusieurs devises, pensez à mettre *rnn_weights =  previous_rnn_weights*, sinon le RNN partira avec des poids initiaux aléatoires."
      ]
    },
    {
      "cell_type": "code",
      "metadata": {
        "id": "u4CIvM0DLkAg"
      },
      "source": [
        "def get_rnn_instance(input_dim = 1,output_dim = 1,n_layers = 2,hidden_size = 20):\n",
        "    # Declaration of the RNN model\n",
        "    model_rnn = RNNLinear(input_dim, output_dim, hidden_size, n_layers)\n",
        "\n",
        "    # Transfer the model to the proper device\n",
        "    model_rnn = model_rnn.to(device)\n",
        "\n",
        "    # save its initial weights (we do this so that, if we run the model\n",
        "    # multiple time, we always start from these randomly initialized weights)\n",
        "    init_rnn_weights = copy.deepcopy(model_rnn.state_dict())\n",
        "\n",
        "    return model_rnn, init_rnn_weights"
      ],
      "execution_count": 209,
      "outputs": []
    },
    {
      "cell_type": "markdown",
      "metadata": {
        "id": "99keiKo3gzSI"
      },
      "source": [
        "## Modèle LSTM\n",
        "Implementation d'un modèle LSTM en utilisant [torch.nn.LSTM()](https://pytorch.org/docs/stable/generated/torch.nn.LSTM.html#torch.nn.LSTM) class. Les paramètres en entrée sont:\n",
        "- **input_dim**: la dimension des données en entrée (dans notre cas, ce sera un scalaire donc input_dim = 1)\n",
        "- **output_dim**: la dimension des données en sortie (nous voulons une prédiction qui est aussi un scalaire, donc output_dim = 1)\n",
        "- **hidden_size**: la taille des couches internes du RNN. C'est un paramètre à \"fine tuner\".\n",
        "- **n_layers**: le nombre de couche du RNN. C'est également un paramètre à \"fine tuner\"."
      ]
    },
    {
      "cell_type": "markdown",
      "metadata": {
        "id": "2sflMs3AhJ7t"
      },
      "source": [
        "### Définition du modèle LSTM"
      ]
    },
    {
      "cell_type": "markdown",
      "metadata": {
        "id": "5ti7EDDdhUJf"
      },
      "source": [
        ">**Note:** extrait des tutoriaux du MILA"
      ]
    },
    {
      "cell_type": "code",
      "metadata": {
        "id": "oydBL5dChVws"
      },
      "source": [
        "class LSTMLinear(nn.Module):\n",
        "    \n",
        "    def __init__(self, input_dim, output_dim, hidden_size, n_layers):\n",
        "        super(LSTMLinear, self).__init__()\n",
        "        self.lstm_layer = torch.nn.LSTM(input_size=input_dim,hidden_size=hidden_size,num_layers=n_layers)\n",
        "        self.linear_layer = torch.nn.Linear(in_features=hidden_size,out_features=output_dim)\n",
        "\n",
        "    def forward(self, x):\n",
        "        # x has size of (n_samples=batch_size, seq_len, input_dim)\n",
        "        # The LSTM's input must be of size (seq_len, batch_size, input_dim)\n",
        "        x = torch.transpose(x, 0, 1)\n",
        "        output, (hidden, cn) = self.lstm_layer(x) # hidden et cn pour usage ultérieur (derniere cellule: h et c)\n",
        "        \n",
        "        output = output[-1]\n",
        "\n",
        "        pred = self.linear_layer(output)\n",
        "\n",
        "        return pred"
      ],
      "execution_count": 210,
      "outputs": []
    },
    {
      "cell_type": "markdown",
      "metadata": {
        "id": "1dR1pZDmhm7x"
      },
      "source": [
        "### Instanciation du modèle"
      ]
    },
    {
      "cell_type": "markdown",
      "metadata": {
        "id": "C_kqXyQ3iNiA"
      },
      "source": [
        ">**Note:** extrait des tutoriaux du MILA\n",
        "\n",
        "> **ATTENTION** : si l'on souhaite faire du pre-tranining avec plusieurs devises, pensez à mettre *rnn_weights =  previous_rnn_weights*, sinon le RNN partira avec des poids initiaux aléatoires."
      ]
    },
    {
      "cell_type": "code",
      "metadata": {
        "id": "X_AdYKhHhl8_"
      },
      "source": [
        "def get_lstm_instance(input_dim = 1,output_dim = 1,n_layers = 2,hidden_size = 20):\n",
        "    # Declaration of the RNN model\n",
        "    model_lstm = LSTMLinear(input_dim, output_dim, hidden_size, n_layers)\n",
        "\n",
        "    # Transfer the model to the proper device\n",
        "    model_lstm = model_lstm.to(device)\n",
        "\n",
        "    # save its initial weights (we do this so that, if we run the model\n",
        "    # multiple time, we always start from these randomly initialized weights)\n",
        "    init_rnn_weights = copy.deepcopy(model_lstm.state_dict())\n",
        "\n",
        "    return model_lstm, init_rnn_weights"
      ],
      "execution_count": 211,
      "outputs": []
    },
    {
      "cell_type": "markdown",
      "metadata": {
        "id": "9WB3XCxWFWmV"
      },
      "source": [
        "## Modèle Transformer\n",
        "Implementation d'un modèle Transformer en utilisant les classes [torch.nn.TransformerEncoderLayer()](https://pytorch.org/docs/stable/generated/torch.nn.TransformerEncoderLayer.html) et [torch.nn.TransformerEncoder()](https://pytorch.org/docs/stable/generated/torch.nn.TransformerEncoder.html) classes. Les paramètres en entrée sont:\n",
        "- **input_dim**: la dimension des données en entrée (dans notre cas, ce sera un scalaire donc input_dim = 1)\n",
        "- **output_dim**: la dimension des données en sortie (nous voulons une prédiction qui est aussi un scalaire, donc output_dim = 1)\n",
        "- **hidden_size**: la taille des couches internes du RNN. C'est un paramètre à \"fine tuner\".\n",
        "- **n_heads**: le nombre de \"têtes d'attention\" dans chaque couche \"Transformer encoder\". C'est également un paramètre à \"fine tuner\".\n",
        "- **n_layers**: le nombre de couche du RNN. C'est également un paramètre à \"fine tuner\"."
      ]
    },
    {
      "cell_type": "markdown",
      "metadata": {
        "id": "Nbd2fxxFFbpD"
      },
      "source": [
        "### Définition du modèle Transformer"
      ]
    },
    {
      "cell_type": "markdown",
      "metadata": {
        "id": "d2RpjvFwKp6N"
      },
      "source": [
        ">**Note:** extrait des tutoriaux du MILA"
      ]
    },
    {
      "cell_type": "code",
      "metadata": {
        "id": "L6rbdTANJPtV"
      },
      "source": [
        "######################################################################\n",
        "# ``PositionalEncoding`` module injects some information about the\n",
        "# relative or absolute position of the tokens in the sequence. The\n",
        "# positional encodings have the same dimension as the embeddings so that\n",
        "# the two can be summed. Here, we use ``sine`` and ``cosine`` functions of\n",
        "# different frequencies.\n",
        "#\n",
        "# Source : https://pytorch.org/tutorials/beginner/transformer_tutorial.html\n",
        "#\n",
        "class PositionalEncoding(nn.Module):\n",
        "\n",
        "    def __init__(self, d_model, dropout=0.0, max_len=5000):\n",
        "        super(PositionalEncoding, self).__init__()\n",
        "        self.dropout = nn.Dropout(p=dropout)\n",
        "        pe = torch.zeros(max_len, d_model)\n",
        "        position = torch.arange(0, max_len, dtype=torch.float).unsqueeze(1)\n",
        "        div_term = torch.exp(torch.arange(0, d_model, 2).float() * (-math.log(10000.0) / d_model))\n",
        "        pe[:, 0::2] = torch.sin(position * div_term)\n",
        "        pe[:, 1::2] = torch.cos(position * div_term)\n",
        "        pe = pe.unsqueeze(0)\n",
        "        self.register_buffer('pe', pe)\n",
        "\n",
        "    def forward(self, x):\n",
        "        x = x + self.pe[:, :x.size(1), :]\n",
        "        return self.dropout(x)"
      ],
      "execution_count": 212,
      "outputs": []
    },
    {
      "cell_type": "code",
      "metadata": {
        "id": "IVNaXmNPJK63"
      },
      "source": [
        "class TransformerLinear(nn.Module):\n",
        "    \n",
        "    def __init__(self, input_dim, output_dim, hidden_size, n_heads, n_layers):\n",
        "        super(TransformerLinear, self).__init__()\n",
        "\n",
        "        self.linear_inp_to_hid = nn.Linear(input_dim, hidden_size)\n",
        "        #self.pos_encoder = PositionalEncoding(input_dim)\n",
        "        self.pos_encoder = PositionalEncoding(hidden_size)\n",
        "\n",
        "        # ma partie\n",
        "        trans_encoder_layer = torch.nn.TransformerEncoderLayer(d_model=hidden_size, nhead=n_heads)\n",
        "        self.trans_layer = torch.nn.TransformerEncoder(encoder_layer=trans_encoder_layer, num_layers=n_layers)\n",
        "\n",
        "        self.linear_layer = torch.nn.Linear(in_features=hidden_size,out_features=output_dim)\n",
        "\n",
        "    def forward(self, x):\n",
        "        # Project input and inject positional encodings\n",
        "        x = self.linear_inp_to_hid(x)\n",
        "        x = self.pos_encoder(x)\n",
        "\n",
        "        # Invoke transformer and produce prediction\n",
        "        # x has size of (n_samples=batch_size, seq_len, input_dim)\n",
        "        # Note: the input to the Transformer must be of size (seq_len, batch_size, hidden_size)\n",
        "        x = torch.transpose(x, 0, 1)\n",
        "        output = self.trans_layer(x)\n",
        "\n",
        "        output = output[0]\n",
        "        pred = self.linear_layer(output)\n",
        "        \n",
        "        return pred"
      ],
      "execution_count": 213,
      "outputs": []
    },
    {
      "cell_type": "markdown",
      "metadata": {
        "id": "G4Sjw0r0FjmN"
      },
      "source": [
        "### Instanciation du modèle"
      ]
    },
    {
      "cell_type": "markdown",
      "metadata": {
        "id": "S5T64GsTKjuM"
      },
      "source": [
        ">**Note:** extrait des tutoriaux du MILA\n",
        "\n",
        "> **ATTENTION** : si l'on souhaite faire du pre-tranining avec plusieurs devises, pensez à mettre *rnn_weights =  previous_rnn_weights*, sinon le RNN partira avec des poids initiaux aléatoires."
      ]
    },
    {
      "cell_type": "code",
      "metadata": {
        "id": "a92lWv-rKeJ2"
      },
      "source": [
        "def get_transformer_instance(input_dim = 1,output_dim = 1,n_layers = 2,hidden_size = 20, n_heads=1):\n",
        "    # Declaration of the Transformer model\n",
        "    model_transformer = TransformerLinear(input_dim, output_dim, hidden_size, n_heads, n_layers)\n",
        "\n",
        "    # Transfer the model to the proper device\n",
        "    model_transformer = model_transformer.to(device)\n",
        "\n",
        "    # save its initial weights (we do this so that, if we run the model\n",
        "    # multiple time, we always start from these randomly initialized weights)\n",
        "    init_transformer_weights = copy.deepcopy(model_transformer.state_dict())\n",
        "\n",
        "    return model_transformer, init_transformer_weights"
      ],
      "execution_count": 214,
      "outputs": []
    },
    {
      "cell_type": "markdown",
      "metadata": {
        "id": "Fo4_yaVW8X8h"
      },
      "source": [
        "## Création des \"data loader\"\n",
        "Cela utilise les objets DataLoader PyTorch pour manipuler plus facilement et efficacement nos données.\n",
        ">**Note:** extrait des tutoriaux du MILA"
      ]
    },
    {
      "cell_type": "code",
      "metadata": {
        "id": "jte-goD48cwB"
      },
      "source": [
        "def create_dataloader(Xs_train, ys_train,Xs_validate, ys_validate,Xs_test, ys_test,batch_size = 4):\n",
        "    \n",
        "    # dataloader for the training dataset\n",
        "    train_loader = DataLoader(TensorDataset(Xs_train, ys_train), batch_size, shuffle=True)\n",
        "\n",
        "    # prepare the dataloader for the validation dataset\n",
        "    valid_loader = DataLoader(TensorDataset(Xs_validate, ys_validate), batch_size)\n",
        "\n",
        "    # prepare the dataloader for the test dataset\n",
        "    test_loader = DataLoader(TensorDataset(Xs_test, ys_test), batch_size)\n",
        "\n",
        "    return train_loader, valid_loader, test_loader"
      ],
      "execution_count": 215,
      "outputs": []
    },
    {
      "cell_type": "markdown",
      "metadata": {
        "id": "jNnYRg8f9ey5"
      },
      "source": [
        "## Boucle d'apprentissage"
      ]
    },
    {
      "cell_type": "markdown",
      "metadata": {
        "id": "oe9go3AG36Zz"
      },
      "source": [
        "\n",
        "\n",
        ">**Note:** extrait des tutoriaux du MILA\n",
        "\n"
      ]
    },
    {
      "cell_type": "markdown",
      "metadata": {
        "id": "hp5BO9xOAhP7"
      },
      "source": [
        "### Définition de la boucle d'apprentissage"
      ]
    },
    {
      "cell_type": "code",
      "metadata": {
        "id": "Gn9Vyi839tJb"
      },
      "source": [
        "# Define function to encapsulate main training loop\n",
        "def train_model(model, init_weights, optimizer, loss_fun, n_epoch = 25, debug_flag=False):\n",
        "\n",
        "    since = time.time()\n",
        "\n",
        "    train_loss_history = []\n",
        "    valid_loss_history = []\n",
        "\n",
        "    model.load_state_dict(init_weights)\n",
        "\n",
        "    print(\"Start training\")\n",
        "\n",
        "    for epoch in range(n_epoch):\n",
        "        \n",
        "        train_loss = 0\n",
        "        train_n_iter = 0\n",
        "        \n",
        "        # Set model to train mode\n",
        "        model.train()\n",
        "        torch.set_grad_enabled(True)\n",
        "        \n",
        "        # Iterate over train data\n",
        "        for x, y in train_loader:  \n",
        "\n",
        "            \n",
        "            # Put tensors on device (GPU when available)\n",
        "            x = x.to(device)\n",
        "            y = y.to(device)\n",
        "\n",
        "            # Zero the gradient buffer\n",
        "            optimizer.zero_grad()\n",
        "            \n",
        "            # Perform the Forward operation\n",
        "            outputs = model(x)\n",
        "            \n",
        "            # Calculate the loss using the loss function\n",
        "            loss = loss_fun(outputs, y)\n",
        "            \n",
        "            # Perform the Backward operation\n",
        "            loss.backward()\n",
        "            \n",
        "            # Perform the Optimization step\n",
        "            optimizer.step()\n",
        "            \n",
        "            # Statistics\n",
        "            train_loss += loss.item()\n",
        "            train_n_iter += 1\n",
        "        \n",
        "        valid_loss = 0\n",
        "        valid_n_iter = 0\n",
        "        \n",
        "        # Set model to evaluate mode\n",
        "        model.eval()\n",
        "        with torch.no_grad():\n",
        "        \n",
        "            # Iterate over valid data\n",
        "            for x, y in valid_loader:  \n",
        "            \n",
        "                # Put tensors on device (GPU when available)\n",
        "                x = x.to(device)\n",
        "                y = y.to(device)\n",
        "            \n",
        "                # Perform the Forward operation\n",
        "                outputs = model(x)\n",
        "                \n",
        "                # Calculate the loss using the loss fun function\n",
        "                loss = loss_fun(outputs,y)\n",
        "            \n",
        "                # Statistics\n",
        "                valid_loss += loss.item()\n",
        "                valid_n_iter += 1\n",
        "        \n",
        "        train_loss_history.append(train_loss / train_n_iter)\n",
        "        valid_loss_history.append(valid_loss / valid_n_iter)\n",
        "\n",
        "        if debug_flag == True:\n",
        "            print(\"Epoch {:2d} | Training loss = {:.5f} | Validation loss = {:.5f} \"\n",
        "                  .format(epoch+1, (train_loss / train_n_iter), (valid_loss / valid_n_iter)))\n",
        "\n",
        "    time_elapsed = time.time() - since\n",
        "\n",
        "    print('Training complete in {:.0f}m {:.0f}s'.format(\n",
        "        time_elapsed // 60, time_elapsed % 60))\n",
        "    \n",
        "    return train_loss_history, valid_loss_history"
      ],
      "execution_count": 216,
      "outputs": []
    },
    {
      "cell_type": "markdown",
      "metadata": {
        "id": "4YR58YRLA3Bw"
      },
      "source": [
        "### Lancement des tests unitaires des fonctions de création des datasets"
      ]
    },
    {
      "cell_type": "code",
      "metadata": {
        "colab": {
          "base_uri": "https://localhost:8080/"
        },
        "id": "zt58JkjBA-u6",
        "outputId": "236b3231-24b8-4ce0-be6b-d45be32e0f66"
      },
      "source": [
        "if __name__ == '__main__':\n",
        "    unittest.main(argv=['first-arg-is-ignored'], exit=False)"
      ],
      "execution_count": 217,
      "outputs": [
        {
          "output_type": "stream",
          "text": [
            "...........\n",
            "----------------------------------------------------------------------\n",
            "Ran 11 tests in 5.561s\n",
            "\n",
            "OK\n"
          ],
          "name": "stderr"
        }
      ]
    },
    {
      "cell_type": "markdown",
      "metadata": {
        "id": "gVoeSJWilEMp"
      },
      "source": [
        "### Lancement de l'apprentissage"
      ]
    },
    {
      "cell_type": "markdown",
      "metadata": {
        "id": "wM0LU2Fn3In-"
      },
      "source": [
        "C'est dans la portion suivante qu'on lance un apprentissage initial sur une première devise suivi des autres en cascadant un pre-training consécutif (on conserve les poids précédement calculés).\n",
        "\n",
        "*Voir le commentaire # pre-training dans le code d'instanciation du modèle RNN.*"
      ]
    },
    {
      "cell_type": "code",
      "metadata": {
        "id": "ulmMyFOapQNq"
      },
      "source": [
        "learning_rate = 0.01\n",
        "# Define the Optimizer\n",
        "def get_optimizer(model, learning_rate=learning_rate):\n",
        "      optimizer = torch.optim.SGD(model.parameters(), lr=learning_rate)\n",
        "      return optimizer"
      ],
      "execution_count": 273,
      "outputs": []
    },
    {
      "cell_type": "markdown",
      "metadata": {
        "id": "xKx-Zajaika-"
      },
      "source": [
        "> Pour des raisons de facilité, on garde les variables model_rnn, rnn_weights que ce soit un modèle RNN pur ou LSTM (qui est un type de RNN en fait) ou encore Transformer"
      ]
    },
    {
      "cell_type": "code",
      "metadata": {
        "colab": {
          "base_uri": "https://localhost:8080/",
          "height": 314
        },
        "id": "enM9X82p9-a1",
        "outputId": "b4431824-de4e-4fc2-e2ef-041b499dbb7e"
      },
      "source": [
        "n_epoch = 120\n",
        "batch_size = 8\n",
        "seq_len = 15\n",
        "pos_x = 10\n",
        "pos_y = 15\n",
        "taille_bloc_pred = pos_y - pos_x\n",
        "\n",
        "# pre-training (initialement pas de pre-training)\n",
        "model_rnn, rnn_weights  = get_lstm_instance(input_dim = 1,output_dim = 1,n_layers = 2,hidden_size = 20)\n",
        "                          #get_transformer_instance(input_dim = 1,\n",
        "                                                   #output_dim = 1,n_layers = 2,\n",
        "                                                   #hidden_size = 20,\n",
        "                                                   #n_heads=1)\n",
        "                          #get_lstm_instance(input_dim = 1,output_dim = 1,n_layers = 3,hidden_size = 60) \n",
        "                          #get_rnn_instance()\n",
        "\n",
        "# Define the loss function\n",
        "loss_fun = torch.nn.MSELoss()\n",
        "\n",
        "# Perform training of the RNN model\n",
        "optimizer_rnn = get_optimizer(model_rnn)\n",
        "\n",
        "# choix parmi : ['USDCAD','EURUSD', 'GBPUSD','USDJPY','USDCHF','AUDUSD','USDSEK','USDNOK','NZDUSD','USDCAD']\n",
        "for name_serie in ['USDCAD','EURUSD', 'GBPUSD','USDCHF','AUDUSD','USDSEK','USDNOK','NZDUSD','USDCAD']:\n",
        "    data_train, data_val, data_test, stat = create_datasets(seq_len=seq_len, \n",
        "                                                            name_serie=name_serie,\n",
        "                                                            pos_x=pos_x,\n",
        "                                                            pos_y=pos_y)\n",
        "\n",
        "    Xs_train,ys_train = data_train[0], data_train[1]\n",
        "    Xs_validate,ys_validate = data_val[0], data_val[1]\n",
        "    Xs_test,ys_test = data_test[0], data_test[1]\n",
        "    mean, std = stat[0], stat[1]\n",
        "\n",
        "    train_loader, valid_loader, test_loader = create_dataloader(Xs_train, ys_train,\n",
        "                                                                Xs_validate, ys_validate,Xs_test, \n",
        "                                                                ys_test,batch_size = batch_size)\n",
        "\n",
        "    loss_history = train_model(model_rnn, rnn_weights, optimizer_rnn, loss_fun,\n",
        "                               n_epoch=n_epoch,debug_flag=False)\n",
        "\n",
        "    # Save loss history for later\n",
        "    rnn_train_loss_history, rnn_valid_loss_history = loss_history\n",
        "\n",
        "    # Save weights for later pre-training\n",
        "    rnn_weights = copy.deepcopy(model_rnn.state_dict())\n",
        "\n",
        "    # Plot training and validation curve\n",
        "\n",
        "    xaxis = range(1, n_epoch + 1)\n",
        "    plt.plot(xaxis, rnn_train_loss_history, label=f'train-rnn {name_serie}')\n",
        "    plt.plot(xaxis, rnn_valid_loss_history, label=f'valid-rnn {name_serie}')\n",
        "\n",
        "    plt.xlabel('# epochs')\n",
        "    plt.ylabel('Loss')\n",
        "    plt.legend()\n",
        "\n",
        "    plt.show()"
      ],
      "execution_count": 281,
      "outputs": [
        {
          "output_type": "stream",
          "text": [
            "Start training\n",
            "Training complete in 2m 24s\n"
          ],
          "name": "stdout"
        },
        {
          "output_type": "display_data",
          "data": {
            "image/png": "[encoded data removed]",
            "text/plain": [
              "<Figure size 432x288 with 1 Axes>"
            ]
          },
          "metadata": {
            "tags": [],
            "needs_background": "light"
          }
        }
      ]
    },
    {
      "cell_type": "markdown",
      "metadata": {
        "id": "NrSGJTTqK_R5"
      },
      "source": [
        "# Validation pré-production du modèle (sur USDCAD)"
      ]
    },
    {
      "cell_type": "code",
      "metadata": {
        "id": "9tP6q6oclvKe"
      },
      "source": [
        "# On recharge les données USDCAD car on veut tester les prédictions sur USDCAD\n",
        "\n",
        "name_serie= 'USDCAD' #'USDCAD' #NZDUSD\n",
        "\n",
        "data_train, data_val, data_test, stat = create_datasets(seq_len=seq_len, \n",
        "                                                        name_serie=name_serie,\n",
        "                                                        pos_x=pos_x,\n",
        "                                                        pos_y=pos_y)\n",
        "\n",
        "Xs_train,ys_train = data_train[0], data_train[1]\n",
        "Xs_validate,ys_validate = data_val[0], data_val[1]\n",
        "Xs_test,ys_test = data_test[0], data_test[1]\n",
        "mean, std = stat[0], stat[1]"
      ],
      "execution_count": 258,
      "outputs": []
    },
    {
      "cell_type": "code",
      "metadata": {
        "id": "_KbWu67f56YP"
      },
      "source": [
        "def print_mean_abs_error(X, Y, idx=None):\n",
        "    xs = X.numpy()\n",
        "    ys = Y.numpy()\n",
        "\n",
        "    if idx == None:\n",
        "      diff = abs(xs-ys)\n",
        "      print(f\"Absolute mean error between target[:] et prediction[:] = {np.mean(diff)}\")\n",
        "    else:\n",
        "      diff = abs(xs[idx]-ys[idx])\n",
        "      print(f\"Absolute mean error between target[{idx}] et prediction[{idx}] = {np.mean(diff)}\")"
      ],
      "execution_count": 230,
      "outputs": []
    },
    {
      "cell_type": "markdown",
      "metadata": {
        "id": "LcBkM5mi4dTW"
      },
      "source": [
        "## Validation avec le dataset de tests au complet"
      ]
    },
    {
      "cell_type": "code",
      "metadata": {
        "colab": {
          "base_uri": "https://localhost:8080/",
          "height": 300
        },
        "id": "VYDVf7pzCRpq",
        "outputId": "8d609abf-a92d-4f0d-80dd-9b5161858ee6"
      },
      "source": [
        "# Put sequence data on device (GPU when available)\n",
        "Xs_test = Xs_test.to(device)\n",
        "\n",
        "# Put target data on device (GPU when available)\n",
        "ys_test = ys_test.to(device)\n",
        "\n",
        "# Predict the value of the sequence data using the RNN-based model\n",
        "ypred_rnn = model_rnn(Xs_test)\n",
        "\n",
        "# Compute the loss of the RNN-based model using the loss function\n",
        "loss_test_rnn = loss_fun(ypred_rnn, ys_test)\n",
        "\n",
        "print(f\"The RNN's test mean squared error is {float(loss_test_rnn):2.3f}\")\n",
        "\n",
        "plt.scatter(ys_test.cpu().detach().numpy(),ypred_rnn.cpu().detach().numpy())"
      ],
      "execution_count": 282,
      "outputs": [
        {
          "output_type": "stream",
          "text": [
            "The RNN's test mean squared error is 0.013\n"
          ],
          "name": "stdout"
        },
        {
          "output_type": "execute_result",
          "data": {
            "text/plain": [
              "<matplotlib.collections.PathCollection at 0x7f1c6ea3dfd0>"
            ]
          },
          "metadata": {
            "tags": []
          },
          "execution_count": 282
        },
        {
          "output_type": "display_data",
          "data": {
            "image/png": "[encoded data removed]",
            "text/plain": [
              "<Figure size 432x288 with 1 Axes>"
            ]
          },
          "metadata": {
            "tags": [],
            "needs_background": "light"
          }
        }
      ]
    },
    {
      "cell_type": "markdown",
      "metadata": {
        "id": "hSmY5aSq6V4E"
      },
      "source": [
        "## Validation avec des séquences unitaires"
      ]
    },
    {
      "cell_type": "markdown",
      "metadata": {
        "id": "StqpsY0I484T"
      },
      "source": [
        "Dans la section suivante on affiche une prédiction de prix.\n",
        "\n",
        "On affiche la prévision pour l'un des éléments du jeu de test (en fixant idx). "
      ]
    },
    {
      "cell_type": "code",
      "metadata": {
        "colab": {
          "base_uri": "https://localhost:8080/"
        },
        "id": "0waCkp6m6gJJ",
        "outputId": "240457c7-b003-48a0-b62e-f11264f5bef1"
      },
      "source": [
        "idx = 0\n",
        "\n",
        "# Put sequence data on device (GPU when available)\n",
        "Xs_unit = Xs_test[idx:idx+1,:,:].to(device)\n",
        "\n",
        "# Put target data on device (GPU when available)\n",
        "ys_unit = ys_test[idx].to(device)\n",
        "\n",
        "# Predict the value of the sequence data using the RNN-based model\n",
        "ypred_rnn = model_rnn(Xs_unit)\n",
        "\n",
        "Xs_unit = Xs_unit.cpu()\n",
        "ypred_rnn = ypred_rnn.cpu()\n",
        "ys_unit = ys_unit.cpu()\n",
        "\n",
        "# Unstandardize  xtest ytest\n",
        "xunit_unstd = Xs_unit*std + mean\n",
        "\n",
        "ys_unit_unstd = ys_unit*std + mean\n",
        "\n",
        "# Unstandardize  the predictions of the RNN-based model on xtest\n",
        "ypred_unstd = ypred_rnn*std + mean\n",
        "\n",
        "print(f\"xunit[{idx}] = {xunit_unstd.detach()[0,:,0]}\")\n",
        "print(f\"ys_unit[{idx}] = {ys_unit_unstd.detach()}\\n ypred[{idx}] = {ypred_unstd.detach()}\")\n",
        "\n",
        "print_mean_abs_error(ys_unit_unstd.detach(), ypred_unstd.detach())"
      ],
      "execution_count": 255,
      "outputs": [
        {
          "output_type": "stream",
          "text": [
            "xunit[0] = tensor([94.4600, 94.1700, 94.4450, 94.4550, 94.1480, 94.2160, 93.2300])\n",
            "ys_unit[0] = tensor([93.4400])\n",
            " ypred[0] = tensor([[97.0444]])\n",
            "Absolute mean error between target[:] et prediction[:] = 3.6044158935546875\n"
          ],
          "name": "stdout"
        }
      ]
    },
    {
      "cell_type": "markdown",
      "metadata": {
        "id": "o6Flv2rQijD5"
      },
      "source": [
        "## Prédiction sur n blocs suivants"
      ]
    },
    {
      "cell_type": "markdown",
      "metadata": {
        "id": "z285cJvQBZNM"
      },
      "source": [
        "> La fonction suivante permet de réaliser le bootstrapping évoqué en introduction. Aujourd'hui (le 30 mai 2021), je ne pense pas que ce soit une bonne idée. Je laisse la fonction pour mémoire mais elle n'est plus utilisée (**bootstrap == False** dans les appels)"
      ]
    },
    {
      "cell_type": "code",
      "metadata": {
        "id": "CH0gWjdeXsHv"
      },
      "source": [
        "def shif_right_and_complete(input_seq, item_to_add, debug=False,pos_x=7):\n",
        "  if debug == True:\n",
        "    print(input_seq[0,:,0])\n",
        "    print(item_to_add[0])\n",
        "    print(\"--------------------\")\n",
        "  output = input_seq[:,1:pos_x,:]\n",
        "  output = torch.cat((output, item_to_add.unsqueeze(2)),dim=1)\n",
        "  if debug == True:\n",
        "    print(output[0,:,0])\n",
        "  return output"
      ],
      "execution_count": 233,
      "outputs": []
    },
    {
      "cell_type": "code",
      "metadata": {
        "id": "-AKq_ajKistM"
      },
      "source": [
        "def prediction_n_blocs(inputs, targets, mean, std, n=7, idx=1500, display=False, \n",
        "                       bootstrap=True, seq_len=7,taille_bloc_pred=1):\n",
        "  Xs_unit = inputs[idx:idx+1,:,:]\n",
        "  ys_targets = np.array([])\n",
        "  ys_predicts = np.array([])\n",
        "  ys_model1 = np.ones(n)*targets.numpy()[idx-1]\n",
        "  ys_model2 = np.ones(n)*torch.mean(inputs[idx-1:idx,:,:]).numpy()\n",
        "\n",
        "  for i in range(idx,idx+n):\n",
        "    Xs_unit = Xs_unit.to(device)\n",
        "    ypred_rnn = model_rnn(Xs_unit)\n",
        "    ys_targets = np.append(ys_targets,targets.numpy()[i])\n",
        "    ys_predicts = np.append(ys_predicts, ypred_rnn.cpu().detach().numpy()[0])\n",
        "    if bootstrap == True:\n",
        "      Xs_unit = shif_right_and_complete(Xs_unit.detach(), ypred_rnn.detach())\n",
        "\n",
        "  y_targets = ys_targets*std + mean\n",
        "  y_predicts = ys_predicts*std + mean\n",
        "  y_model1 =  ys_model1*std + mean\n",
        "  y_model2 =  ys_model2*std + mean\n",
        "\n",
        "  y_previous = targets.numpy()[idx-seq_len:idx,0]*std + mean\n",
        "\n",
        "  rnn_mse = np.mean(np.power((y_predicts - y_targets),2))\n",
        "  model1_mse = np.mean(np.power((y_model1 - y_targets),2))\n",
        "  model2_mse = np.mean(np.power((y_model2 - y_targets),2))\n",
        "\n",
        "  # prediction sur le sens de la tendance (haussière ou baissière)\n",
        "  # dans les cas des 2 modèles standards, ce n'est pas possible\n",
        "  target_direction = np.sign(y_targets[-1] - y_previous[-1])\n",
        "  predict_direction = np.sign(y_predicts[-1] - y_previous[-1])\n",
        "\n",
        "  if display == True:\n",
        "    xaxis = range(1, seq_len+1)\n",
        "    plt.plot(xaxis, y_previous, label=f'past {seq_len} days')\n",
        "\n",
        "    start = seq_len+taille_bloc_pred\n",
        "    xaxis_pred = range(start, start+(n)*taille_bloc_pred,taille_bloc_pred)\n",
        "    plt.plot(xaxis_pred, y_targets, label='targets (real)')\n",
        "    plt.plot(xaxis_pred, y_predicts, label=f'RNN (mse={rnn_mse})')\n",
        "    plt.plot(xaxis_pred, y_model1, label=f'Std model1 (mse={model1_mse})')\n",
        "    plt.plot(xaxis_pred, y_model2, label=f'Std model2 (mse={model2_mse})')\n",
        "\n",
        "    plt.xlabel('# jours')\n",
        "    plt.ylabel('Fx Price')\n",
        "    plt.title(f'Predictions idx={idx}')\n",
        "    plt.legend()\n",
        "\n",
        "    plt.show()\n",
        "  \n",
        "  return rnn_mse, model1_mse, model2_mse, (predict_direction == target_direction)"
      ],
      "execution_count": 234,
      "outputs": []
    },
    {
      "cell_type": "markdown",
      "metadata": {
        "id": "jixVe15X6iIL"
      },
      "source": [
        "### Quelques courbes et résultats pour les prédictions sur n jours"
      ]
    },
    {
      "cell_type": "code",
      "metadata": {
        "colab": {
          "base_uri": "https://localhost:8080/",
          "height": 313
        },
        "id": "Es3Jb3H7vcW_",
        "outputId": "f0a983a6-0242-4ca3-e11f-d82d4e9cbd62"
      },
      "source": [
        "# attention idx doit être > seq_len\n",
        "_,_,_,trend = prediction_n_blocs(Xs_test.cpu(), ys_test.cpu(), mean, std, n=5, idx=600, display=True,\n",
        "                   bootstrap=False, seq_len=pos_x, taille_bloc_pred=taille_bloc_pred)\n",
        "print(f\"prediction tendance correcte? {trend}\")"
      ],
      "execution_count": 283,
      "outputs": [
        {
          "output_type": "display_data",
          "data": {
            "image/png": "[encoded data removed]",
            "text/plain": [
              "<Figure size 432x288 with 1 Axes>"
            ]
          },
          "metadata": {
            "tags": [],
            "needs_background": "light"
          }
        },
        {
          "output_type": "stream",
          "text": [
            "prediction tendance correcte? True\n"
          ],
          "name": "stdout"
        }
      ]
    },
    {
      "cell_type": "markdown",
      "metadata": {
        "id": "gSyaGej969MS"
      },
      "source": [
        "### Évaluation de la performance du modèle RNN par rapport à la marche aléatoire"
      ]
    },
    {
      "cell_type": "code",
      "metadata": {
        "colab": {
          "base_uri": "https://localhost:8080/"
        },
        "id": "yczA5BcT5_6b",
        "outputId": "17d9f24a-8f59-466e-84fa-bcd8b63484de"
      },
      "source": [
        "rnn_mse_all = np.array([])\n",
        "rnn_direction_all = np.array([])\n",
        "model1_mse_all = np.array([])\n",
        "model2_mse_all = np.array([])\n",
        "\n",
        "X = Xs_test.cpu()\n",
        "Y = ys_test.cpu()\n",
        "n = 1\n",
        "display = False\n",
        "bootstrap = False\n",
        "\n",
        "for idx in range(seq_len+1,X.shape[0]-n):\n",
        "  r_mse, m1_mse, m2_mse, dir = prediction_n_blocs(X, Y, mean, std, n=n, idx=idx, display=display, \n",
        "                                                  bootstrap=bootstrap, seq_len=seq_len,\n",
        "                                                  taille_bloc_pred=taille_bloc_pred)\n",
        "  rnn_mse_all = np.append(rnn_mse_all,r_mse)\n",
        "  rnn_direction_all = np.append(rnn_direction_all, dir)\n",
        "  model1_mse_all = np.append(model1_mse_all,m1_mse)\n",
        "  model2_mse_all = np.append(model2_mse_all,m2_mse)\n",
        "\n",
        "rnn_mse_all = rnn_mse_all[~np.isnan(rnn_mse_all)]\n",
        "model1_mse_all = model1_mse_all[~np.isnan(model1_mse_all)]\n",
        "model2_mse_all = model2_mse_all[~np.isnan(model2_mse_all)]\n",
        "\n",
        "print(f'   mean rnn MSE = {np.mean(rnn_mse_all)}')\n",
        "print(f'mean model1 MSE = {np.mean(model1_mse_all)}')\n",
        "print(f'mean model2 MSE = {np.mean(model2_mse_all)}')\n",
        "print(f'rnn direction predict accuracy = {np.sum(rnn_direction_all)/np.size(rnn_direction_all)}')"
      ],
      "execution_count": 284,
      "outputs": [
        {
          "output_type": "stream",
          "text": [
            "   mean rnn MSE = 0.00028820553211383236\n",
            "mean model1 MSE = 3.560927990086117e-05\n",
            "mean model2 MSE = 0.0003140668299411457\n",
            "rnn direction predict accuracy = 0.5061904761904762\n"
          ],
          "name": "stdout"
        }
      ]
    },
    {
      "cell_type": "markdown",
      "metadata": {
        "id": "TiS5Gi_s0K9_"
      },
      "source": [
        "# Conclusion"
      ]
    },
    {
      "cell_type": "markdown",
      "metadata": {
        "id": "ObL8GiCA0QEe"
      },
      "source": [
        "J'ai réalisé plusieurs tests des modèles RNN, LSTM et Transformer pour la prédiction des prix des devises. Pour les prévisions sur 1 jour seulement comme pour celles sur 7 jours, le RNN, tout comme le LSTM, ne bat pas le modèle de marche aléatoire. \n",
        "\n",
        "Concernant l'apprentissage, j'ai entraîné le RNN, le LSTM et le Transformer avec 1 devise, puis 2, 3 et jusqu'à 9 devises (en sauvegardant les poids internes). Ils ont appris successivement sur toutes les devises. Malgré l'apport de plusieurs devises, le RNN, le LSTM et le Transformer ne battent pas la marche aléatoire mais on constate qu'ils s'en rapprochent de plus en plus en terme d'erreur.\n",
        "\n",
        "Pourrait-on dire alors que plus on lui apprend avec de nouvelles devises ... plus il \"comprend\" que la marche aléatoire est la meilleure prévision? Ce point reste à clarifier.\n",
        "\n",
        "J'ai aussi vérifié combien de fois il prédisait la bonne tendance (hausse ou baisse) ... et on est à 50% en moyenne, ce qui semble confirmer que la marche aléatoire est asymptotiquement la conclusion de son apprentissage.\n",
        "\n",
        "Les modèles LSTM (**Long-Short Term Memory**) et **Transformer** sont utiles lorsque l'on traite de longues séquences (20 termes et plus) et mettent en œuvre le concept **\"d'attention\"** c'est à dire sur quels éléments de la séquence il faut porter attention pour prédire la suite (cas de la traduction automatique de texte). Pour des séquences de 7 termes, le RNN est suffisant. Ces modèles sont donc à considérer pour des séquences de 20, 30 ou 60 termes.\n",
        "\n",
        "J'ai mené des tests avec le LSTM et le Transformer sur des séquences de 30 et 60 jours, ils ne battent toujours pas la marche aléatoire."
      ]
    }
  ]
}