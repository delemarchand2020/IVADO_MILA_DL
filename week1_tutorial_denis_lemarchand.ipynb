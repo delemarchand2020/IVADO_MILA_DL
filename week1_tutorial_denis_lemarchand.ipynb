{
  "nbformat": 4,
  "nbformat_minor": 0,
  "metadata": {
    "accelerator": "GPU",
    "colab": {
      "name": "week1_tutorial_denis_lemarchand.ipynb",
      "provenance": [],
      "collapsed_sections": [],
      "toc_visible": true,
      "include_colab_link": true
    },
    "kernelspec": {
      "display_name": "Python 3",
      "name": "python3"
    },
    "widgets": {
      "application/vnd.jupyter.widget-state+json": {
        "bb88dd9dd3e243129ec713351b1dce11": {
          "model_module": "@jupyter-widgets/controls",
          "model_name": "HBoxModel",
          "state": {
            "_view_name": "HBoxView",
            "_dom_classes": [],
            "_model_name": "HBoxModel",
            "_view_module": "@jupyter-widgets/controls",
            "_model_module_version": "1.5.0",
            "_view_count": null,
            "_view_module_version": "1.5.0",
            "box_style": "",
            "layout": "IPY_MODEL_36eb4ad4902846519ca6e958c6d71aea",
            "_model_module": "@jupyter-widgets/controls",
            "children": [
              "IPY_MODEL_e492ff0f3c794ca48ff8df3d765eb42f",
              "IPY_MODEL_5f82bda64d084ab4a3ec7e7544a7ffec"
            ]
          }
        },
        "36eb4ad4902846519ca6e958c6d71aea": {
          "model_module": "@jupyter-widgets/base",
          "model_name": "LayoutModel",
          "state": {
            "_view_name": "LayoutView",
            "grid_template_rows": null,
            "right": null,
            "justify_content": null,
            "_view_module": "@jupyter-widgets/base",
            "overflow": null,
            "_model_module_version": "1.2.0",
            "_view_count": null,
            "flex_flow": null,
            "width": null,
            "min_width": null,
            "border": null,
            "align_items": null,
            "bottom": null,
            "_model_module": "@jupyter-widgets/base",
            "top": null,
            "grid_column": null,
            "overflow_y": null,
            "overflow_x": null,
            "grid_auto_flow": null,
            "grid_area": null,
            "grid_template_columns": null,
            "flex": null,
            "_model_name": "LayoutModel",
            "justify_items": null,
            "grid_row": null,
            "max_height": null,
            "align_content": null,
            "visibility": null,
            "align_self": null,
            "height": null,
            "min_height": null,
            "padding": null,
            "grid_auto_rows": null,
            "grid_gap": null,
            "max_width": null,
            "order": null,
            "_view_module_version": "1.2.0",
            "grid_template_areas": null,
            "object_position": null,
            "object_fit": null,
            "grid_auto_columns": null,
            "margin": null,
            "display": null,
            "left": null
          }
        },
        "e492ff0f3c794ca48ff8df3d765eb42f": {
          "model_module": "@jupyter-widgets/controls",
          "model_name": "FloatProgressModel",
          "state": {
            "_view_name": "ProgressView",
            "style": "IPY_MODEL_7f70a2d6a7184c7786c924d5f5a38fef",
            "_dom_classes": [],
            "description": "",
            "_model_name": "FloatProgressModel",
            "bar_style": "success",
            "max": 170498071,
            "_view_module": "@jupyter-widgets/controls",
            "_model_module_version": "1.5.0",
            "value": 170498071,
            "_view_count": null,
            "_view_module_version": "1.5.0",
            "orientation": "horizontal",
            "min": 0,
            "description_tooltip": null,
            "_model_module": "@jupyter-widgets/controls",
            "layout": "IPY_MODEL_7f7bb586b62f4cbdbbd2bd6da21b3345"
          }
        },
        "5f82bda64d084ab4a3ec7e7544a7ffec": {
          "model_module": "@jupyter-widgets/controls",
          "model_name": "HTMLModel",
          "state": {
            "_view_name": "HTMLView",
            "style": "IPY_MODEL_07906bfb3ac943fe93e9bf0d8186582c",
            "_dom_classes": [],
            "description": "",
            "_model_name": "HTMLModel",
            "placeholder": "​",
            "_view_module": "@jupyter-widgets/controls",
            "_model_module_version": "1.5.0",
            "value": " 170499072/? [00:17&lt;00:00, 10014869.27it/s]",
            "_view_count": null,
            "_view_module_version": "1.5.0",
            "description_tooltip": null,
            "_model_module": "@jupyter-widgets/controls",
            "layout": "IPY_MODEL_5d6e84d7f0f243728cd02b42d65c86ca"
          }
        },
        "7f70a2d6a7184c7786c924d5f5a38fef": {
          "model_module": "@jupyter-widgets/controls",
          "model_name": "ProgressStyleModel",
          "state": {
            "_view_name": "StyleView",
            "_model_name": "ProgressStyleModel",
            "description_width": "initial",
            "_view_module": "@jupyter-widgets/base",
            "_model_module_version": "1.5.0",
            "_view_count": null,
            "_view_module_version": "1.2.0",
            "bar_color": null,
            "_model_module": "@jupyter-widgets/controls"
          }
        },
        "7f7bb586b62f4cbdbbd2bd6da21b3345": {
          "model_module": "@jupyter-widgets/base",
          "model_name": "LayoutModel",
          "state": {
            "_view_name": "LayoutView",
            "grid_template_rows": null,
            "right": null,
            "justify_content": null,
            "_view_module": "@jupyter-widgets/base",
            "overflow": null,
            "_model_module_version": "1.2.0",
            "_view_count": null,
            "flex_flow": null,
            "width": null,
            "min_width": null,
            "border": null,
            "align_items": null,
            "bottom": null,
            "_model_module": "@jupyter-widgets/base",
            "top": null,
            "grid_column": null,
            "overflow_y": null,
            "overflow_x": null,
            "grid_auto_flow": null,
            "grid_area": null,
            "grid_template_columns": null,
            "flex": null,
            "_model_name": "LayoutModel",
            "justify_items": null,
            "grid_row": null,
            "max_height": null,
            "align_content": null,
            "visibility": null,
            "align_self": null,
            "height": null,
            "min_height": null,
            "padding": null,
            "grid_auto_rows": null,
            "grid_gap": null,
            "max_width": null,
            "order": null,
            "_view_module_version": "1.2.0",
            "grid_template_areas": null,
            "object_position": null,
            "object_fit": null,
            "grid_auto_columns": null,
            "margin": null,
            "display": null,
            "left": null
          }
        },
        "07906bfb3ac943fe93e9bf0d8186582c": {
          "model_module": "@jupyter-widgets/controls",
          "model_name": "DescriptionStyleModel",
          "state": {
            "_view_name": "StyleView",
            "_model_name": "DescriptionStyleModel",
            "description_width": "",
            "_view_module": "@jupyter-widgets/base",
            "_model_module_version": "1.5.0",
            "_view_count": null,
            "_view_module_version": "1.2.0",
            "_model_module": "@jupyter-widgets/controls"
          }
        },
        "5d6e84d7f0f243728cd02b42d65c86ca": {
          "model_module": "@jupyter-widgets/base",
          "model_name": "LayoutModel",
          "state": {
            "_view_name": "LayoutView",
            "grid_template_rows": null,
            "right": null,
            "justify_content": null,
            "_view_module": "@jupyter-widgets/base",
            "overflow": null,
            "_model_module_version": "1.2.0",
            "_view_count": null,
            "flex_flow": null,
            "width": null,
            "min_width": null,
            "border": null,
            "align_items": null,
            "bottom": null,
            "_model_module": "@jupyter-widgets/base",
            "top": null,
            "grid_column": null,
            "overflow_y": null,
            "overflow_x": null,
            "grid_auto_flow": null,
            "grid_area": null,
            "grid_template_columns": null,
            "flex": null,
            "_model_name": "LayoutModel",
            "justify_items": null,
            "grid_row": null,
            "max_height": null,
            "align_content": null,
            "visibility": null,
            "align_self": null,
            "height": null,
            "min_height": null,
            "padding": null,
            "grid_auto_rows": null,
            "grid_gap": null,
            "max_width": null,
            "order": null,
            "_view_module_version": "1.2.0",
            "grid_template_areas": null,
            "object_position": null,
            "object_fit": null,
            "grid_auto_columns": null,
            "margin": null,
            "display": null,
            "left": null
          }
        }
      }
    }
  },
  "cells": [
    {
      "cell_type": "markdown",
      "metadata": {
        "id": "view-in-github",
        "colab_type": "text"
      },
      "source": [
        "<a href=\"https://colab.research.google.com/github/delemarchand2020/IVADO_MILA_DL/blob/main/week1_tutorial_denis_lemarchand.ipynb\" target=\"_parent\"><img src=\"https://colab.research.google.com/assets/colab-badge.svg\" alt=\"Open In Colab\"/></a>"
      ]
    },
    {
      "cell_type": "markdown",
      "metadata": {
        "id": "wCQs5y60YyRv"
      },
      "source": [
        "# IVADO-Mila Deep Learning School\n",
        "# Spring 2021\n",
        "# Tutorial: Introduction to data processing for machine learning experiments\n",
        "\n",
        "## Authors: \n",
        "\n",
        "Arsène Fansi Tchango <arsene.fansi.tchango@mila.quebec>\n",
        "\n",
        "Francis Grégoire\n",
        "\n",
        "Gaétan Marceau Caron <gaetan.marceau.caron@mila.quebec>"
      ]
    },
    {
      "cell_type": "markdown",
      "metadata": {
        "id": "_fsFqgdJZ2Mh"
      },
      "source": [
        "# Preface"
      ]
    },
    {
      "cell_type": "markdown",
      "metadata": {
        "id": "fGZRSQojc5zc"
      },
      "source": [
        "This tutorial emphasizes the importance of understanding the dataset associated with a machine learning (ML) project. This understanding will help you consider valuable operations to do before training your ML models. It serves as a gentle introduction to data exploration and covers introductory concepts that every machine learning practitioner should know.\n",
        "\n",
        "**Note: the purpose of this tutorial is to be introductory. Thus, we propose simple solutions to our exercises. In practice, you should use more advanced techniques to train your models.**"
      ]
    },
    {
      "cell_type": "markdown",
      "metadata": {
        "id": "L8LaHzDHEcWX"
      },
      "source": [
        "# Initialization"
      ]
    },
    {
      "cell_type": "markdown",
      "metadata": {
        "id": "YeIkku61EgF4"
      },
      "source": [
        "Before we begin, we must install all the required libraries for this part of the tutorial. To do so, we will use the `pip` utility. Execute the cell below by selecting it and pressing `shift`+`Enter`. (This operation may take a few minutes.)\n",
        "\n",
        "We need to be using the latest version of `pillow` for this tutorial. If you are prompted with:\n",
        "\n",
        "> WARNING: The following packages were previously imported in this runtime:\n",
        "  [PIL]\n",
        "You must restart the runtime in order to use newly installed versions.\n",
        "\n",
        "Then click on restart runtime and rerun the cells afterwards."
      ]
    },
    {
      "cell_type": "code",
      "metadata": {
        "colab": {
          "base_uri": "https://localhost:8080/"
        },
        "id": "fNlYWG6z9GKT",
        "scrolled": true,
        "outputId": "919ad727-258f-4c9f-8ee0-3cbb0fc29144"
      },
      "source": [
        "!pip3 install torch torchvision matplotlib\n",
        "!pip3 install --upgrade pillow==8.1.0\n"
      ],
      "execution_count": 2,
      "outputs": [
        {
          "output_type": "stream",
          "text": [
            "Requirement already satisfied: torch in /usr/local/lib/python3.7/dist-packages (1.8.1+cu101)\n",
            "Requirement already satisfied: torchvision in /usr/local/lib/python3.7/dist-packages (0.9.1+cu101)\n",
            "Requirement already satisfied: matplotlib in /usr/local/lib/python3.7/dist-packages (3.2.2)\n",
            "Requirement already satisfied: numpy in /usr/local/lib/python3.7/dist-packages (from torch) (1.19.5)\n",
            "Requirement already satisfied: typing-extensions in /usr/local/lib/python3.7/dist-packages (from torch) (3.7.4.3)\n",
            "Requirement already satisfied: pillow>=4.1.1 in /usr/local/lib/python3.7/dist-packages (from torchvision) (8.1.0)\n",
            "Requirement already satisfied: kiwisolver>=1.0.1 in /usr/local/lib/python3.7/dist-packages (from matplotlib) (1.3.1)\n",
            "Requirement already satisfied: python-dateutil>=2.1 in /usr/local/lib/python3.7/dist-packages (from matplotlib) (2.8.1)\n",
            "Requirement already satisfied: pyparsing!=2.0.4,!=2.1.2,!=2.1.6,>=2.0.1 in /usr/local/lib/python3.7/dist-packages (from matplotlib) (2.4.7)\n",
            "Requirement already satisfied: cycler>=0.10 in /usr/local/lib/python3.7/dist-packages (from matplotlib) (0.10.0)\n",
            "Requirement already satisfied: six>=1.5 in /usr/local/lib/python3.7/dist-packages (from python-dateutil>=2.1->matplotlib) (1.15.0)\n",
            "Requirement already up-to-date: pillow==8.1.0 in /usr/local/lib/python3.7/dist-packages (8.1.0)\n"
          ],
          "name": "stdout"
        }
      ]
    },
    {
      "cell_type": "markdown",
      "metadata": {
        "id": "VKufekB4FnqN"
      },
      "source": [
        "To ensure that all required libraries are available, let's try to load all libraries and modules we will need during this tutorial by executing this cell: "
      ]
    },
    {
      "cell_type": "code",
      "metadata": {
        "id": "PJzEY8Q2XQbL"
      },
      "source": [
        "import importlib\n",
        "required_libraries = ['torch', 'torchvision', 'PIL', 'matplotlib', 'numpy']\n",
        "for lib in required_libraries:\n",
        "    if importlib.util.find_spec(lib) is None:\n",
        "        print(\"%s unavailable\" % lib)"
      ],
      "execution_count": 3,
      "outputs": []
    },
    {
      "cell_type": "code",
      "metadata": {
        "colab": {
          "base_uri": "https://localhost:8080/"
        },
        "id": "FYn7wiPyF0RT",
        "outputId": "0a2068c4-984c-4c13-c8d4-a8aa3dc59fef"
      },
      "source": [
        "import torch\n",
        "import torchvision\n",
        "import torchvision.transforms as transforms\n",
        "import numpy as np\n",
        "\n",
        "use_gpu = torch.cuda.is_available()\n",
        "device = torch.device(\"cuda:0\" if use_gpu else \"cpu\")\n",
        "\n",
        "print(\"Torch version: \", torch.__version__)\n",
        "print(\"GPU Available: {}\".format(use_gpu))"
      ],
      "execution_count": 4,
      "outputs": [
        {
          "output_type": "stream",
          "text": [
            "Torch version:  1.8.1+cu101\n",
            "GPU Available: True\n"
          ],
          "name": "stdout"
        }
      ]
    },
    {
      "cell_type": "markdown",
      "metadata": {
        "id": "nEVrgwm8brhM"
      },
      "source": [
        "Fix the seed for the different libraries"
      ]
    },
    {
      "cell_type": "code",
      "metadata": {
        "id": "HaG5blBebsaQ"
      },
      "source": [
        "seed = 1234\n",
        "np.random.seed(seed) # Set the random seed of numpy for the data split.\n",
        "torch.manual_seed(seed)\n",
        "torch.cuda.manual_seed(seed)"
      ],
      "execution_count": 5,
      "outputs": []
    },
    {
      "cell_type": "markdown",
      "metadata": {
        "id": "tn7fGc3PgWUy"
      },
      "source": [
        "# Introduction"
      ]
    },
    {
      "cell_type": "markdown",
      "metadata": {
        "id": "U8dhsflQg4MB"
      },
      "source": [
        "In this tutorial, we will use the [CIFAR-10](https://www.cs.toronto.edu/~kriz/cifar.html) dataset. It is a collection of 32 x 32 color images in 10 different classes. The 10 different (indexed-)classes are the following:\n",
        "0. airplane;\n",
        "1. automobile;\n",
        "2. bird;\n",
        "3. cat;\n",
        "4. deer;\n",
        "5. dog;\n",
        "6. frog;\n",
        "7. horse;\n",
        "8. ship;\n",
        "9. truck.\n",
        "\n",
        "The task of interest in this tutorial is an image classification task. We are interested in finding the class associated with a given image. We will use [PyTorch](https://pytorch.org/) as the ML framework.\n",
        "\n",
        "At this stage, we provide as-is all functions and related PyTorch methods. This tutorial is not about learning PyTorch but instead focuses on understanding data and basic ML concepts. In the following tutorials, you will learn how to develop, train, and evaluate models on different data types."
      ]
    },
    {
      "cell_type": "markdown",
      "metadata": {
        "id": "yUgpszup1kCy"
      },
      "source": [
        "# Data preparation"
      ]
    },
    {
      "cell_type": "markdown",
      "metadata": {
        "id": "qj3bQ5iM51BY"
      },
      "source": [
        "## Data retrieval"
      ]
    },
    {
      "cell_type": "markdown",
      "metadata": {
        "id": "Fjpnx7t81vKD"
      },
      "source": [
        "In this section, we provide a function for downloading the CIFAR-10 dataset. It takes as input two arguments:\n",
        "- **path**: the directory where the downloaded dataset will be saved.\n",
        "- **train_flag**: boolean flag indicating whether to download data from the training set (`train_flag=True`) or the test set (`train_flag=False`).\n",
        "\n",
        "It returns two elements, namely:\n",
        "- **imgs**: NumPy array representing the downloaded images of size N x 32 x 32 x 3 where N is the number of images.\n",
        "- **labels**: list of N (indexed-)classes, each associated with a single image."
      ]
    },
    {
      "cell_type": "code",
      "metadata": {
        "id": "KctjRqgm2Fze"
      },
      "source": [
        "def download_CIFAR10(path, train_flag):\n",
        "  \"\"\"\n",
        "  Args:\n",
        "     path: the directory where the dowloaded dataset will be saved.\n",
        "     train_flag: if `True`, download data from training set, otherwise\n",
        "        download from test set.\n",
        "        \n",
        "  Return:\n",
        "     A tuple of two elements (imgs, labels) where\n",
        "        imgs: a numpy array of shape N x 32 x 32 x 3 where N is the number of images.\n",
        "        labels: list of N (indexed-)classes, each  associated with a single image.\n",
        "  \n",
        "  \"\"\"\n",
        "  dataset = torchvision.datasets.CIFAR10(\n",
        "      root=path, train=train_flag, download=True\n",
        "  )\n",
        "  imgs, labels = dataset.data, dataset.targets\n",
        "  return imgs, labels\n"
      ],
      "execution_count": 6,
      "outputs": []
    },
    {
      "cell_type": "markdown",
      "metadata": {
        "id": "lRY0tkh79h48"
      },
      "source": [
        "### Exercise 1\n",
        "\n",
        "Download the CIFAR-10 dataset and retrieve the training set."
      ]
    },
    {
      "cell_type": "code",
      "metadata": {
        "colab": {
          "base_uri": "https://localhost:8080/",
          "height": 101,
          "referenced_widgets": [
            "bb88dd9dd3e243129ec713351b1dce11",
            "36eb4ad4902846519ca6e958c6d71aea",
            "e492ff0f3c794ca48ff8df3d765eb42f",
            "5f82bda64d084ab4a3ec7e7544a7ffec",
            "7f70a2d6a7184c7786c924d5f5a38fef",
            "7f7bb586b62f4cbdbbd2bd6da21b3345",
            "07906bfb3ac943fe93e9bf0d8186582c",
            "5d6e84d7f0f243728cd02b42d65c86ca"
          ]
        },
        "id": "30NO1znU3eDK",
        "outputId": "d76f92f3-b4eb-4dd2-db91-65ab01e071e0"
      },
      "source": [
        "imgs, labels = download_CIFAR10(\".\", True) # To complete.\n"
      ],
      "execution_count": 7,
      "outputs": [
        {
          "output_type": "stream",
          "text": [
            "Downloading https://www.cs.toronto.edu/~kriz/cifar-10-python.tar.gz to ./cifar-10-python.tar.gz\n"
          ],
          "name": "stdout"
        },
        {
          "output_type": "display_data",
          "data": {
            "application/vnd.jupyter.widget-view+json": {
              "model_id": "bb88dd9dd3e243129ec713351b1dce11",
              "version_minor": 0,
              "version_major": 2
            },
            "text/plain": [
              "HBox(children=(FloatProgress(value=0.0, max=170498071.0), HTML(value='')))"
            ]
          },
          "metadata": {
            "tags": []
          }
        },
        {
          "output_type": "stream",
          "text": [
            "\n",
            "Extracting ./cifar-10-python.tar.gz to .\n"
          ],
          "name": "stdout"
        }
      ]
    },
    {
      "cell_type": "markdown",
      "metadata": {
        "id": "E9RrkHB3-anO"
      },
      "source": [
        "Retrieve the CIFAR-10 test set."
      ]
    },
    {
      "cell_type": "code",
      "metadata": {
        "colab": {
          "base_uri": "https://localhost:8080/"
        },
        "id": "rPQBZhzl3qZp",
        "outputId": "7607a52b-bfd9-4b4e-f7db-3fe5b9153964"
      },
      "source": [
        "test_imgs, test_labels = download_CIFAR10(\".\", False) # To complete."
      ],
      "execution_count": 8,
      "outputs": [
        {
          "output_type": "stream",
          "text": [
            "Files already downloaded and verified\n"
          ],
          "name": "stdout"
        }
      ]
    },
    {
      "cell_type": "markdown",
      "metadata": {
        "id": "0nbcM9SC-8MX"
      },
      "source": [
        "## Data split"
      ]
    },
    {
      "cell_type": "markdown",
      "metadata": {
        "id": "yY2fanet_dMf"
      },
      "source": [
        "In the previous section, we provide functions to download the **train** and **test** datasets. Usually, we need three sets of data in a ML project: train, **validation**, and test sets. Unfortunately, the CIFAR-10 dataset does not contain a preprocessed validation set; therefore, we need to create a **custom** one by sampling from the **training** set."
      ]
    },
    {
      "cell_type": "markdown",
      "metadata": {
        "id": "PLxTIkNeCHA3"
      },
      "source": [
        "In this section, we provide a function for creating a validation set from the original training set. It takes as input five arguments:\n",
        "- **imgs**: NumPy array representing the image set from which the partitioning is made.\n",
        "- **labels**: labels associated with the provided image set.\n",
        "- **valid_ratio** (optional): a proportion of the data that will be used for the validation set. Default: `0.3`.\n",
        "- **shuffle** (optional): whether or not the data need to be shuffled before the partitioning is made. Default: `True`.\n",
        "- **seed** (optional): the seed of the random generator. Default: `1234`.\n",
        "\n",
        "It provides as output 4 elements, which are:\n",
        "- **train_imgs**: NumPy array representing the images of the training set after the splitting is done.\n",
        "- **train_labels**: labels associated with the images of the training set.\n",
        "- **valid_imgs**: NumPy array representing the images of the validation set after the splitting is done.\n",
        "- **valid_labels**: labels associated with the images of the validation set."
      ]
    },
    {
      "cell_type": "code",
      "metadata": {
        "id": "m_LYjCXrEql1"
      },
      "source": [
        "def partition_dataset(imgs, labels, valid_ratio=0.3, shuffle=True, seed=1234):\n",
        "  \"\"\"\n",
        "  Args:\n",
        "     imgs: numpy array representing the image set from which \n",
        "        the partitioning is made.\n",
        "     labels: the labels associated with the provided images.\n",
        "     valid_ratio (optional): the proportion of the data that will be used in\n",
        "        the validation set. Default: 0.3.\n",
        "     shuffle (optional): whether or not to shuffle the data. Default: True.\n",
        "     seed (optional): the seed of the numpy random generator: Default: 1234.\n",
        "        \n",
        "  Return:\n",
        "     A tuple of 4 elements (train_imgs, train_labels, valid_imgs, valid_labels)\n",
        "     where:\n",
        "        train_imgs: a numpy array of images for the training set.\n",
        "        train_labels: labels associated with the images in the training set.\n",
        "        valid_imgs: a numpy array of images for the validation set.\n",
        "        valid_labels: labels associated with the images in the validation set.\n",
        "  \n",
        "  \"\"\"\n",
        "  if shuffle:\n",
        "    np.random.seed(seed)  # Set the random seed of numpy.\n",
        "    indices = np.random.permutation(imgs.shape[0])\n",
        "  else:\n",
        "    indices = np.arange(imgs.shape[0])\n",
        "  \n",
        "  train_idx, valid_idx = np.split(\n",
        "      indices, \n",
        "      [int((1.0 - valid_ratio)*len(indices))]\n",
        "  )\n",
        "  train_imgs, valid_imgs = imgs[train_idx], imgs[valid_idx]\n",
        "  labels = np.array(labels)\n",
        "  train_labels, valid_labels = labels[train_idx].tolist(), labels[valid_idx].tolist()\n",
        "  return train_imgs, train_labels, valid_imgs, valid_labels\n",
        "  "
      ],
      "execution_count": 9,
      "outputs": []
    },
    {
      "cell_type": "markdown",
      "metadata": {
        "id": "uZ-K7scKNWo0"
      },
      "source": [
        "### Exercise 2\n",
        "\n",
        "Generate the custom training and validation sets by using `partition_dataset` with the default parameters."
      ]
    },
    {
      "cell_type": "code",
      "metadata": {
        "id": "MYhh6Cb9ILc2"
      },
      "source": [
        "train_imgs, train_labels, valid_imgs, valid_labels = partition_dataset(imgs, labels) # To complete."
      ],
      "execution_count": 10,
      "outputs": []
    },
    {
      "cell_type": "markdown",
      "metadata": {
        "id": "6d3B5YMVNucn"
      },
      "source": [
        "## Data visualization"
      ]
    },
    {
      "cell_type": "markdown",
      "metadata": {
        "id": "QgUkFNKcPS8I"
      },
      "source": [
        "Before training any model, you should do some sanity checks of the data to ensure that the retrieval and the split were correctly done.\n",
        "\n",
        "This section provides some functions for visualizing image data and computing the label distribution within a dataset."
      ]
    },
    {
      "cell_type": "code",
      "metadata": {
        "id": "ac8QuRoHhGql"
      },
      "source": [
        "import matplotlib.pyplot as plt\n",
        "\n",
        "\n",
        "def plot_image(img):\n",
        "  \"\"\"\n",
        "  Plot a single image.\n",
        "  \n",
        "  Args:\n",
        "     img: image to be plotted.\n",
        "     \n",
        "  \"\"\"\n",
        "  plt.imshow(img)\n",
        "  plt.show()\n",
        "\n",
        " # MODIF DENIS : retourner les indices sélectionnés \n",
        "def plot_random_images(imgs, n):  \n",
        "  \"\"\"\n",
        "  Randomly sample n images from an image set and plot them in a grid.\n",
        "  \n",
        "  Args:\n",
        "     imgs: collection of images from which sampling will be made.\n",
        "     n: the number of images to be sampled.\n",
        "     \n",
        "  \"\"\"\n",
        "  sampled_indices = np.random.choice(imgs.shape[0], n, False)\n",
        "  sampled_images = imgs[sampled_indices]\n",
        "  \n",
        "  sampled_images = np.transpose(sampled_images, (0, 3, 1, 2))\n",
        "  sampled_tensor = torch.Tensor(sampled_images)\n",
        "  \n",
        "  grid_tensor = torchvision.utils.make_grid(\n",
        "      sampled_tensor, normalize=True, value_range=(0, 255)\n",
        "  )\n",
        "  grid_tensor = np.transpose(grid_tensor.numpy(), (1, 2, 0))\n",
        "  \n",
        "  plot_image(grid_tensor)\n",
        "\n",
        "  return sampled_indices\n",
        "  \n",
        "  \n",
        "def plot_dataset_histogram(labels, title='Label distribution', rel_freq=False):\n",
        "  \"\"\"\n",
        "  Plot the histogram/distribution of the labels within a dataset.\n",
        "  \n",
        "  Args:\n",
        "     labels: collection of labels from which the distribution is computed.\n",
        "     title: the title of the histogram.\n",
        "     rel_freq: if true, the histogram is normalized to show relative frequencies\n",
        "               otherwise, it shows the frequencies.\n",
        "     \n",
        "  \"\"\"\n",
        "  _ = plt.hist(labels, bins=np.arange(11)-0.5, rwidth=0.85, density=rel_freq)\n",
        "  plt.title(title)\n",
        "  plt.xlabel('Label')\n",
        "  if rel_freq:\n",
        "    plt.ylabel('Relative frequency')\n",
        "  else:\n",
        "    plt.ylabel('Frequency')\n",
        "  plt.xticks(np.arange(10))\n",
        "  plt.show()\n"
      ],
      "execution_count": 11,
      "outputs": []
    },
    {
      "cell_type": "markdown",
      "metadata": {
        "id": "kVKSaRGphrBS"
      },
      "source": [
        "### Exercise 3\n",
        "\n",
        "Use the previously defined functions to visualize samples from training and validation sets. Also, compute the label distributions for these two sets. Comment on your observations."
      ]
    },
    {
      "cell_type": "code",
      "metadata": {
        "colab": {
          "base_uri": "https://localhost:8080/",
          "height": 283
        },
        "id": "0cHN_c43Uu6U",
        "outputId": "b33a2f2e-0319-44cb-8418-85198415c9f1"
      },
      "source": [
        "# plot a given sample from the training dataset and retrieve its label\n",
        "img = train_imgs[0]\n",
        "plot_image(img) # To complete.\n",
        "train_labels[0]"
      ],
      "execution_count": 12,
      "outputs": [
        {
          "output_type": "display_data",
          "data": {
            "image/png": "[encoded data removed]",
            "text/plain": [
              "<Figure size 432x288 with 1 Axes>"
            ]
          },
          "metadata": {
            "tags": [],
            "needs_background": "light"
          }
        },
        {
          "output_type": "execute_result",
          "data": {
            "text/plain": [
              "2"
            ]
          },
          "metadata": {
            "tags": []
          },
          "execution_count": 12
        }
      ]
    },
    {
      "cell_type": "markdown",
      "metadata": {
        "id": "AVSI7FQozT7Y"
      },
      "source": [
        "Observations:\n",
        "... # To complete.\n"
      ]
    },
    {
      "cell_type": "markdown",
      "metadata": {
        "id": "XGTrnU38ZD_w"
      },
      "source": [
        "0. airplane;\n",
        "1. automobile;\n",
        "2. bird;\n",
        "3. cat;\n",
        "4. deer;\n",
        "5. dog;\n",
        "6. frog;\n",
        "7. horse;\n",
        "8. ship;\n",
        "9. truck."
      ]
    },
    {
      "cell_type": "code",
      "metadata": {
        "id": "AvMKV6bVaSB9"
      },
      "source": [
        "codage_labels = {\n",
        " '0': 'airplane',\n",
        " '1': 'automobile',\n",
        " '2': 'bird',\n",
        " '3': 'cat',\n",
        " '4': 'deer',\n",
        " '5': 'dog',\n",
        " '6': 'frog',\n",
        " '7': 'horse',\n",
        " '8': 'ship',\n",
        " '9': 'truck'\n",
        "}"
      ],
      "execution_count": 13,
      "outputs": []
    },
    {
      "cell_type": "code",
      "metadata": {
        "colab": {
          "base_uri": "https://localhost:8080/",
          "height": 155
        },
        "id": "53Y3if2UaZxm",
        "outputId": "823d87eb-1603-4ab9-d38a-666b1457441c"
      },
      "source": [
        "# plot random samples (e.g. 16) from the training dataset\n",
        "sampled_indices = plot_random_images(train_imgs,16) # To complete.\n",
        "sampled_labels = np.array(train_labels)[sampled_indices]\n",
        "for x in sampled_labels:\n",
        "  print(codage_labels[str(x)], end=' ')"
      ],
      "execution_count": 14,
      "outputs": [
        {
          "output_type": "display_data",
          "data": {
            "image/png": "[encoded data removed]",
            "text/plain": [
              "<Figure size 432x288 with 1 Axes>"
            ]
          },
          "metadata": {
            "tags": [],
            "needs_background": "light"
          }
        },
        {
          "output_type": "stream",
          "text": [
            "deer dog horse ship frog frog airplane truck cat dog automobile airplane horse truck horse horse "
          ],
          "name": "stdout"
        }
      ]
    },
    {
      "cell_type": "markdown",
      "metadata": {
        "id": "S4MtyWh_0hPl"
      },
      "source": [
        "Observations:\n",
        "... # To complete.\n"
      ]
    },
    {
      "cell_type": "code",
      "metadata": {
        "colab": {
          "base_uri": "https://localhost:8080/",
          "height": 295
        },
        "id": "1ZJ_maHlITUo",
        "outputId": "ef8f537a-2189-4b3b-c82e-f59aed27043f"
      },
      "source": [
        "# plot the label distribution of the training dataset\n",
        "plot_dataset_histogram(train_labels) # To complete."
      ],
      "execution_count": 15,
      "outputs": [
        {
          "output_type": "display_data",
          "data": {
            "image/png": "[encoded data removed]",
            "text/plain": [
              "<Figure size 432x288 with 1 Axes>"
            ]
          },
          "metadata": {
            "tags": [],
            "needs_background": "light"
          }
        }
      ]
    },
    {
      "cell_type": "markdown",
      "metadata": {
        "id": "whIHwKKB2FW_"
      },
      "source": [
        "Observations:\n",
        "... # To complete.\n"
      ]
    },
    {
      "cell_type": "markdown",
      "metadata": {
        "id": "O7Ygn8fsjXho"
      },
      "source": [
        "## Shuffling data"
      ]
    },
    {
      "cell_type": "markdown",
      "metadata": {
        "id": "hWmG02g-GrZF"
      },
      "source": [
        "It is essential to **shuffle** the dataset before partitioning it into training, validation and test sets to remove spurious correlations due to the ordering. Remember the dataset should be **independently** and identically distributed.\n",
        "\n",
        "The CIFAR-10 dataset downloaded at the beginning of this tutorial was already shuffled. To visualize the importance of shuffling, suppose we observe the following label distributions after splitting."
      ]
    },
    {
      "cell_type": "code",
      "metadata": {
        "colab": {
          "base_uri": "https://localhost:8080/",
          "height": 573
        },
        "id": "eqPnb5avjXzA",
        "outputId": "cc435e6d-66b6-4ac0-b493-0300cd1899a4"
      },
      "source": [
        "sorted_idx = np.argsort(labels)\n",
        "sorted_imgs = imgs[sorted_idx]\n",
        "sorted_labels = [labels[i] for i in sorted_idx]\n",
        "\n",
        "_, sorted_train_labels, _, sorted_valid_labels = partition_dataset(sorted_imgs, sorted_labels,\n",
        "                                                                   valid_ratio=0.3, shuffle=False, seed=seed)\n",
        "plot_dataset_histogram(sorted_train_labels, 'Train set label distribution')\n",
        "plot_dataset_histogram(sorted_valid_labels, 'Valid set label distribution')"
      ],
      "execution_count": 16,
      "outputs": [
        {
          "output_type": "display_data",
          "data": {
            "image/png": "[encoded data removed]",
            "text/plain": [
              "<Figure size 432x288 with 1 Axes>"
            ]
          },
          "metadata": {
            "tags": [],
            "needs_background": "light"
          }
        },
        {
          "output_type": "display_data",
          "data": {
            "image/png": "[encoded data removed]",
            "text/plain": [
              "<Figure size 432x288 with 1 Axes>"
            ]
          },
          "metadata": {
            "tags": [],
            "needs_background": "light"
          }
        }
      ]
    },
    {
      "cell_type": "markdown",
      "metadata": {
        "id": "VnFiOFAqC_Xr"
      },
      "source": [
        "### Exercise 4\n",
        "What will be the consequences of using these training and validation sets on the performance metrics?"
      ]
    },
    {
      "cell_type": "markdown",
      "metadata": {
        "id": "N75a0RHI3OkF"
      },
      "source": [
        "... # To complete.\n",
        "On apprend sur un jeu de données incomplets (pas uniformément distribué) et on valide sur le complémentaire ... performance nulle\n"
      ]
    },
    {
      "cell_type": "markdown",
      "metadata": {
        "id": "ES-dzdF8jfaW"
      },
      "source": [
        "Below, we shuffle the data and observe that the labels are evenly distributed in the training and validation sets."
      ]
    },
    {
      "cell_type": "code",
      "metadata": {
        "colab": {
          "base_uri": "https://localhost:8080/",
          "height": 573
        },
        "id": "XwcyQ7zJja0x",
        "outputId": "cc8e5707-252d-4250-9d86-141d4eaffa5f"
      },
      "source": [
        "_, shuffled_train_labels, _, shuffled_valid_labels = partition_dataset(\n",
        "    sorted_imgs, sorted_labels, valid_ratio=0.3, shuffle=True, seed=seed\n",
        ")\n",
        "\n",
        "plot_dataset_histogram(\n",
        "    shuffled_train_labels, 'Train set label distribution', rel_freq=True)\n",
        "\n",
        "plot_dataset_histogram(\n",
        "    shuffled_valid_labels, 'Valid set label distribution', rel_freq=True)"
      ],
      "execution_count": 17,
      "outputs": [
        {
          "output_type": "display_data",
          "data": {
            "image/png": "[encoded data removed]",
            "text/plain": [
              "<Figure size 432x288 with 1 Axes>"
            ]
          },
          "metadata": {
            "tags": [],
            "needs_background": "light"
          }
        },
        {
          "output_type": "display_data",
          "data": {
            "image/png": "[encoded data removed]",
            "text/plain": [
              "<Figure size 432x288 with 1 Axes>"
            ]
          },
          "metadata": {
            "tags": [],
            "needs_background": "light"
          }
        }
      ]
    },
    {
      "cell_type": "markdown",
      "metadata": {
        "id": "TU25Ban6jiWe"
      },
      "source": [
        "## Dataloaders"
      ]
    },
    {
      "cell_type": "markdown",
      "metadata": {
        "id": "-D0nw531G1wn"
      },
      "source": [
        "As you will see in the next tutorials, to train and evaluate models, we use **dataloaders**. Since deep learning requires heavy data transformations, we want tools that efficiently **transform**, **shuffle**, and **batch** our datasets with the option to use multiprocessing workers. A dataloader is an optimized data iterator that provides all these features.\n",
        "\n",
        "Modern deep learning frameworks, such as PyTorch and TensorFlow, offer very efficient dataloaders out of the box."
      ]
    },
    {
      "cell_type": "markdown",
      "metadata": {
        "id": "wK1zZ2qanmol"
      },
      "source": [
        "We show a simple example of preparing a dataloader using a small subset of our training set. During training, it is recommended to shuffle the data at the beginning of each **epoch** (the process of the entire training set is referred to as an epoch). Thus, we usually set `shuffle=True` for training and `shuffle=False` for evaluation."
      ]
    },
    {
      "cell_type": "code",
      "metadata": {
        "colab": {
          "base_uri": "https://localhost:8080/"
        },
        "id": "DOrqUB8Fjif-",
        "outputId": "1db6f895-ac83-4f5b-e5a4-a8ac0399e4b2"
      },
      "source": [
        "from torch.utils.data import Dataset, TensorDataset\n",
        "from torch.utils.data import DataLoader\n",
        "\n",
        "\n",
        "def create_dataset(images, labels, n):\n",
        "  \"\"\"\n",
        "  Slice the first n images/labels and create a torch.utils.data.DataLoader.\n",
        "  \n",
        "  Args:\n",
        "     images: numpy array of images.\n",
        "     labels: list of labels associated with the images.\n",
        "     n: the number of images/labels to slice.\n",
        "        \n",
        "  Return:\n",
        "     A torch.utils.data.TensorDataset to be used with a torch.utils.data.DataLoader.\n",
        "     \n",
        "  \"\"\"\n",
        "  imgs = torch.tensor(images[:n], dtype=torch.float)\n",
        "  labels = torch.tensor(labels[:n], dtype=torch.long)\n",
        "  dataset = TensorDataset(imgs, labels)\n",
        "  return dataset\n",
        "\n",
        "\n",
        "n = 100\n",
        "batch_size = 32\n",
        "train_dataset = create_dataset(train_imgs, train_labels, n)\n",
        "train_dataloader = DataLoader(train_dataset, batch_size=batch_size, drop_last=False, shuffle=True)\n",
        "\n",
        "epochs = 2\n",
        "for epoch in range(epochs):\n",
        "  print('Epoch {}/{}:'.format(epoch+1, epochs))\n",
        "  for i, (x, y) in enumerate(train_dataloader):\n",
        "    print('   batch {}/{} of {} examples.'.format(i+1, int(np.ceil(n/batch_size)), y.size(0)))"
      ],
      "execution_count": 18,
      "outputs": [
        {
          "output_type": "stream",
          "text": [
            "Epoch 1/2:\n",
            "   batch 1/4 of 32 examples.\n",
            "   batch 2/4 of 32 examples.\n",
            "   batch 3/4 of 32 examples.\n",
            "   batch 4/4 of 4 examples.\n",
            "Epoch 2/2:\n",
            "   batch 1/4 of 32 examples.\n",
            "   batch 2/4 of 32 examples.\n",
            "   batch 3/4 of 32 examples.\n",
            "   batch 4/4 of 4 examples.\n"
          ],
          "name": "stdout"
        }
      ]
    },
    {
      "cell_type": "code",
      "metadata": {
        "colab": {
          "base_uri": "https://localhost:8080/",
          "height": 1000
        },
        "id": "qOO3xwQDyunQ",
        "outputId": "018c4a33-4300-4a4b-8ee4-f471be65abb4"
      },
      "source": [
        "n=4\n",
        "batch_size=2\n",
        "\n",
        "train_dataset = create_dataset(train_imgs, train_labels, n)\n",
        "train_dataloader = DataLoader(train_dataset, batch_size=batch_size, drop_last=False, shuffle=True)\n",
        "\n",
        "epochs = 2\n",
        "for epoch in range(epochs):\n",
        "  print('Epoch {}/{}:'.format(epoch+1, epochs))\n",
        "  for i, (x, y) in enumerate(train_dataloader):\n",
        "    print('   batch {}/{} of {} examples.'.format(i+1, int(np.ceil(n/batch_size)), y.size(0)))\n",
        "    plot_image(x[0].numpy().astype(np.uint8))\n",
        "    plot_image(x[1].numpy().astype(np.uint8))"
      ],
      "execution_count": 19,
      "outputs": [
        {
          "output_type": "stream",
          "text": [
            "Epoch 1/2:\n",
            "   batch 1/2 of 2 examples.\n"
          ],
          "name": "stdout"
        },
        {
          "output_type": "display_data",
          "data": {
            "image/png": "[encoded data removed]",
            "text/plain": [
              "<Figure size 432x288 with 1 Axes>"
            ]
          },
          "metadata": {
            "tags": [],
            "needs_background": "light"
          }
        },
        {
          "output_type": "display_data",
          "data": {
            "image/png": "[encoded data removed]",
            "text/plain": [
              "<Figure size 432x288 with 1 Axes>"
            ]
          },
          "metadata": {
            "tags": [],
            "needs_background": "light"
          }
        },
        {
          "output_type": "stream",
          "text": [
            "   batch 2/2 of 2 examples.\n"
          ],
          "name": "stdout"
        },
        {
          "output_type": "display_data",
          "data": {
            "image/png": "[encoded data removed]",
            "text/plain": [
              "<Figure size 432x288 with 1 Axes>"
            ]
          },
          "metadata": {
            "tags": [],
            "needs_background": "light"
          }
        },
        {
          "output_type": "display_data",
          "data": {
            "image/png": "[encoded data removed]",
            "text/plain": [
              "<Figure size 432x288 with 1 Axes>"
            ]
          },
          "metadata": {
            "tags": [],
            "needs_background": "light"
          }
        },
        {
          "output_type": "stream",
          "text": [
            "Epoch 2/2:\n",
            "   batch 1/2 of 2 examples.\n"
          ],
          "name": "stdout"
        },
        {
          "output_type": "display_data",
          "data": {
            "image/png": "[encoded data removed]",
            "text/plain": [
              "<Figure size 432x288 with 1 Axes>"
            ]
          },
          "metadata": {
            "tags": [],
            "needs_background": "light"
          }
        },
        {
          "output_type": "display_data",
          "data": {
            "image/png": "[encoded data removed]",
            "text/plain": [
              "<Figure size 432x288 with 1 Axes>"
            ]
          },
          "metadata": {
            "tags": [],
            "needs_background": "light"
          }
        },
        {
          "output_type": "stream",
          "text": [
            "   batch 2/2 of 2 examples.\n"
          ],
          "name": "stdout"
        },
        {
          "output_type": "display_data",
          "data": {
            "image/png": "[encoded data removed]",
            "text/plain": [
              "<Figure size 432x288 with 1 Axes>"
            ]
          },
          "metadata": {
            "tags": [],
            "needs_background": "light"
          }
        },
        {
          "output_type": "display_data",
          "data": {
            "image/png": "[encoded data removed]",
            "text/plain": [
              "<Figure size 432x288 with 1 Axes>"
            ]
          },
          "metadata": {
            "tags": [],
            "needs_background": "light"
          }
        }
      ]
    },
    {
      "cell_type": "markdown",
      "metadata": {
        "id": "X7p5cEgevRLi"
      },
      "source": [
        "Thus, we can easily iterate over the the training set for many epochs with a simple `for` loop. At every iteration of the loop, the dataloader returns a mini-batch of `batch_size` input-label pairs `(x, y)`.\n",
        "\n",
        "By setting `drop_last=False`, the last incomplete batch is kept if the dataset size is not divisible by `batch_size`. When training a model, we average the loss of the examples of a mini-batch. Having 4 examples in the last mini-batch instead of 32 gives more weight to these 4 examples than the other examples. In practice, if we shuffle the training set at each epoch, we mitigate this bias since different examples will have the chance to be in the last mini-batch."
      ]
    },
    {
      "cell_type": "markdown",
      "metadata": {
        "id": "wvwpEr_1iers"
      },
      "source": [
        "# Training with neural networks"
      ]
    },
    {
      "cell_type": "markdown",
      "metadata": {
        "id": "e32z51jvlgRJ"
      },
      "source": [
        "This section provides two methods for training and evaluating neural networks. We will use these methods for studying the impact of dataset size and unbalanced classes on models' performances. **For this tutorial, we don't need to understand the implementation of these methods.** These will be covered in the following tutorials.\n",
        "\n",
        "The first method, `training_on_dataset`, trains a model on a given dataset. It takes as input the following arguments and returns a **trained model**:\n",
        "- **imgs**: images the model will be trained on.\n",
        "- **labels**: labels associated with the provided images.\n",
        "- **eval_imgs**: images to evaluate the model.\n",
        "- **eval_labels**: labels associated with the images used to evaluate the model.\n",
        "- **epochs**: number of epochs during the training (number of times to loop over the whole set of images/labels).\n",
        "- **batch_size** (optional): size of a mini-batch. Default: `8`.\n",
        "- **lr** (optional): learning rate. Default: `1e-3`.\n",
        "- **seed** (optional): the seed of the random generator. Default: `1234`.\n",
        "- **transformations** (optional): transformations to apply to the images during the training process. Default: `None`.\n",
        "- **label_weights** (optional): importance weights associated with each label. Default: `None` (all labels are treated equally).\n",
        "- **metrics** (optional): metrics to monitor during training. Default: `None`.\n",
        "\n",
        "The second one, `evaluate_classes`, evaluates a trained model on a given dataset. It takes as input the following arguments and returns the **evaluation performance**:\n",
        "- **net**: the trained model to be evaluated.\n",
        "- **imgs**: images the model will be evaluated on.\n",
        "- **labels**: ground truth labels associated with the provided images for performance computation.\n",
        "- **batch_size** (optional): size of a mini-batch. Default: `8`.\n",
        "- **metrics** (optional): performance metrics to compute. Default: `None`.\n"
      ]
    },
    {
      "cell_type": "code",
      "metadata": {
        "id": "TWaFOMsdo4Sj"
      },
      "source": [
        "import torch.nn as nn\n",
        "import torch.nn.functional as F\n",
        "import torch.optim as optim\n",
        "import sklearn.metrics as metrics\n",
        "\n",
        "\n",
        "device = torch.device('cuda:0' if torch.cuda.is_available() else 'cpu')\n",
        "classe_names = (\n",
        "    'plane', 'car', 'bird', 'cat', 'deer', \n",
        "    'dog', 'frog', 'horse', 'ship', 'truck'\n",
        ")\n",
        "\n",
        "\n",
        "def accuracy(y_true, y_pred):\n",
        "  \"\"\"\n",
        "  Compute the accuracy score.\n",
        "  \n",
        "  Args:\n",
        "     y_true: ground truth labels.\n",
        "     y_pred: predicted labels by a classifier.\n",
        "     \n",
        "  Return:\n",
        "     Accuracy score.\n",
        "     \n",
        "  \"\"\"\n",
        "  return metrics.accuracy_score(y_true, y_pred)\n",
        "\n",
        "\n",
        "def f1_score(y_true, y_pred):\n",
        "  \"\"\"\n",
        "  Compute the F1 score.\n",
        "  \n",
        "  Args:\n",
        "     y_true: ground truth labels.\n",
        "     y_pred: predicted labels by a classifier.\n",
        "     \n",
        "  Return:\n",
        "     F1 score.\n",
        "     \n",
        "  \"\"\"\n",
        "  return metrics.f1_score(y_true, y_pred, average='macro')\n",
        "\n",
        "\n",
        "def plot_metric(train_values, valid_values, name=''):\n",
        "  \"\"\"\n",
        "  Plot the values of a given metric on training and validation sets.\n",
        "  \n",
        "  Args:\n",
        "     train_values: values of the metric on the training set. \n",
        "     valid_values: values of the metric on the validation set.\n",
        "     name: name of the metric.\n",
        "  \"\"\"\n",
        "  x = range(len(train_values))\n",
        "  plt.plot(x, train_values, label='train')\n",
        "  plt.plot(x, valid_values, label='valid')\n",
        "  plt.title(name)\n",
        "  plt.legend()\n",
        "  plt.show()\n",
        "  \n",
        "\n",
        "class AugmentBasedDataset(Dataset):\n",
        "  \"\"\"Encapsulated dataset for data augmentation.\"\"\"\n",
        "\n",
        "  def __init__(self, dataset, transform=None):\n",
        "    \"\"\"\n",
        "    Args:\n",
        "        dataset: dataset on which to perform data augmentation.\n",
        "        transform (callable, optional): optional transform to be applied\n",
        "            on a sample.\n",
        "\n",
        "    \"\"\"\n",
        "    self.dataset = dataset\n",
        "    self.transform = transform\n",
        "\n",
        "  def __len__(self):\n",
        "    return len(self.dataset)\n",
        "\n",
        "  def __getitem__(self, idx):\n",
        "    img, label = self.dataset[idx]\n",
        "    if self.transform:\n",
        "        img = self.transform(img)\n",
        "    return img, label\n"
      ],
      "execution_count": 20,
      "outputs": []
    },
    {
      "cell_type": "code",
      "metadata": {
        "cellView": "form",
        "id": "BKCGEYWIpW3n"
      },
      "source": [
        "#@title Class Net\n",
        "class Net(nn.Module):\n",
        "  \"\"\"Basic CNN used for image classification.\"\"\"\n",
        "  def __init__(self):\n",
        "    super(Net, self).__init__()\n",
        "    self.conv1 = nn.Conv2d(3, 6, 5)\n",
        "    self.pool = nn.MaxPool2d(2, 2)\n",
        "    self.conv2 = nn.Conv2d(6, 16, 5)\n",
        "    self.fc1 = nn.Linear(16 * 5 * 5, 120)\n",
        "    self.fc2 = nn.Linear(120, 84)\n",
        "    self.fc3 = nn.Linear(84, 10)\n",
        "\n",
        "  def forward(self, x):\n",
        "    x = self.pool(F.relu(self.conv1(x)))\n",
        "    x = self.pool(F.relu(self.conv2(x)))\n",
        "    x = x.view(-1, 16 * 5 * 5)\n",
        "    x = F.relu(self.fc1(x))\n",
        "    x = F.relu(self.fc2(x))\n",
        "    x = self.fc3(x)\n",
        "    return x"
      ],
      "execution_count": 21,
      "outputs": []
    },
    {
      "cell_type": "markdown",
      "metadata": {
        "id": "agkEnYaVcz_0"
      },
      "source": [
        "In the next code block, we implement three functions for training and evaluating the model. In the following exercises, you will need to use only these two functions:\n",
        "\n",
        "```\n",
        "training_on_dataset(imgs, labels, eval_imgs, eval_labels,\n",
        "                    epochs, batch_size=8, lr=1e-3,\n",
        "                    seed=1234, transformations=None, label_weights=None,\n",
        "                    metrics=None, verbose=True)\n",
        "```\n",
        "\n",
        "\n",
        "```\n",
        "def evaluate_classes(net, imgs, labels, batch_size=8, metrics=None, verbose=True)\n",
        "```\n",
        "\n",
        "Because of the code complexity, we hide their implementation, which you do not need to understand for this tutorial. If you want to look at the code, you can always double-click on the title `Auxiliary functions for training and evaluating the model`. To hide the code, click on the three vertical dots of the code block and then `form -> Hide code`.  In every case, make sure to press the `run` button of the following code block."
      ]
    },
    {
      "cell_type": "code",
      "metadata": {
        "id": "Zm19z0tk1j8e"
      },
      "source": [
        "#@title Auxiliary functions for training and evaluating the model\n",
        "def training_on_dataset(imgs, labels, eval_imgs, eval_labels,\n",
        "                        epochs, batch_size=8, lr=1e-3,\n",
        "                        seed=1234, transformations=None, label_weights=None,\n",
        "                        metrics=None, verbose=True):\n",
        "  \"\"\"Black box function to train a neural network on CIFAR-10 dataset.\"\"\"\n",
        "  torch.manual_seed(seed)\n",
        "  torch.cuda.manual_seed(seed)\n",
        "  np.random.seed(seed)\n",
        "  \n",
        "  # Train data.\n",
        "  train_imgs = ((imgs/255.0) - 0.5) * 2.0  # Normalize to [-1, 1].\n",
        "  train_imgs = np.transpose(train_imgs, (0, 3, 1, 2))\n",
        "  train_labels = np.array(labels)\n",
        "  \n",
        "  train_dataset = TensorDataset(\n",
        "      torch.from_numpy(train_imgs).float(), \n",
        "      torch.from_numpy(train_labels).long()\n",
        "  )\n",
        "  train_dataset = AugmentBasedDataset(train_dataset, transformations)\n",
        "  train_dataloader = DataLoader(train_dataset, batch_size=batch_size, shuffle=True)\n",
        "\n",
        "  # Eval data.\n",
        "  eval_imgs = ((eval_imgs/255.0) - 0.5) * 2.0 # Normalize to [-1, 1]\n",
        "  eval_imgs = np.transpose(eval_imgs, (0, 3, 1, 2))\n",
        "  eval_labels = np.array(eval_labels)\n",
        "  \n",
        "  eval_dataset = TensorDataset(\n",
        "      torch.from_numpy(eval_imgs).float(), \n",
        "      torch.from_numpy(eval_labels).long()\n",
        "  )\n",
        "  eval_dataloader = DataLoader(eval_dataset, batch_size=batch_size, shuffle=False)\n",
        "\n",
        "  net = Net()\n",
        "  net = net.to(device)\n",
        "  if label_weights is not None:\n",
        "    label_weights = torch.tensor(label_weights).float()\n",
        "    label_weights = label_weights.to(device)\n",
        "  criterion = nn.CrossEntropyLoss(weight=label_weights)\n",
        "  optimizer = optim.Adam(net.parameters(), lr=lr)\n",
        "  \n",
        "  train_loss_values = []\n",
        "  eval_loss_values = []\n",
        "  train_metric_values = None\n",
        "  eval_metric_values = None\n",
        "  \n",
        "  if metrics is not None:\n",
        "    if isinstance(metrics, dict):\n",
        "      train_metric_values = {metric: [] for metric in metrics.keys()}\n",
        "      eval_metric_values = {metric: [] for metric in metrics.keys()}\n",
        "    elif isinstance(metrics, (list, tuple)):\n",
        "      train_metric_values = {metric: [] for metric in range(len(metrics))}\n",
        "      eval_metric_values = {metric: [] for metric in range(len(metrics))}\n",
        "    else:\n",
        "      metrics = [metrics]\n",
        "      train_metric_values = {metric: [] for metric in range(len(metrics))}\n",
        "      eval_metric_values = {metric: [] for metric in range(len(metrics))}\n",
        "\n",
        "  for epoch in range(epochs):  # Loop over the dataset.\n",
        "    net.train()\n",
        "    running_loss = 0.0\n",
        "    n_update = 0\n",
        "    y_true = []\n",
        "    y_pred = []\n",
        "    for data in train_dataloader:\n",
        "      # data is a tuple of (inputs, targets).\n",
        "      inputs, targets = data\n",
        "      \n",
        "      if targets.numel() > 1:\n",
        "        y_true.extend(targets.flatten().tolist())\n",
        "      else:\n",
        "        y_true.append(targets.flatten().tolist())\n",
        "      \n",
        "      inputs = inputs.to(device)\n",
        "      targets = targets.to(device)       \n",
        "\n",
        "      # Reset the parameter gradients.\n",
        "      optimizer.zero_grad()\n",
        "\n",
        "      # Forward + backward + optimize.\n",
        "      outputs = net(inputs)\n",
        "      loss = criterion(outputs, targets)\n",
        "      loss.backward()\n",
        "      optimizer.step()\n",
        "      \n",
        "      # Predict label.\n",
        "      _, predicted = torch.max(outputs, 1)\n",
        "      if predicted.numel() > 1:\n",
        "        y_pred.extend(predicted.flatten().tolist())\n",
        "      else:\n",
        "        y_pred.append(predicted.flatten().tolist())\n",
        "\n",
        "      running_loss += loss.item()\n",
        "      n_update += 1\n",
        "\n",
        "    # Save and print statistics at the end of each training epoch.\n",
        "    train_loss = running_loss / n_update\n",
        "    train_loss_values.append(train_loss)\n",
        "    eval_loss, eval_true, eval_pred = evaluate_during_training(net, criterion, eval_dataloader)\n",
        "    eval_loss_values.append(eval_loss)\n",
        "    \n",
        "    if metrics is not None:\n",
        "      for metric in metrics.keys():\n",
        "        train_metric_values[metric].append(metrics[metric](y_true, y_pred))\n",
        "        eval_metric_values[metric].append(metrics[metric](eval_true, eval_pred))\n",
        "  \n",
        "    if verbose:\n",
        "      print('[Epoch {}/{}] Training loss: {:.3f} | Validation loss: {:.3f}' \n",
        "            .format(epoch + 1, epochs, train_loss, eval_loss)\n",
        "      )\n",
        "    running_loss = 0.0\n",
        "    n_update = 0\n",
        "    y_true = []\n",
        "    y_pred = []\n",
        "  \n",
        "  if verbose:\n",
        "    plot_metric(train_loss_values, eval_loss_values, 'Loss')\n",
        "    if metrics is not None:\n",
        "      for metric in metrics.keys():\n",
        "        plot_metric(train_metric_values[metric], eval_metric_values[metric], metric)\n",
        "  \n",
        "  return net\n",
        "\n",
        "\n",
        "def evaluate_during_training(net, criterion, dataloader):\n",
        "  net.eval()\n",
        "  running_loss = 0.0\n",
        "  n_update = 0\n",
        "  y_true = []\n",
        "  y_pred = []\n",
        "  for data in dataloader:\n",
        "    inputs, targets = data\n",
        "    if targets.numel() > 1:\n",
        "      y_true.extend(targets.flatten().tolist())\n",
        "    else:\n",
        "      y_true.append(targets.flatten().tolist())\n",
        "    inputs = inputs.to(device)\n",
        "    targets = targets.to(device) \n",
        "    with torch.no_grad():\n",
        "      outputs = net(inputs)\n",
        "      loss = criterion(outputs, targets)  \n",
        "      _, predicted = torch.max(outputs, 1)\n",
        "      if predicted.numel() > 1:\n",
        "        y_pred.extend(predicted.flatten().tolist())\n",
        "      else:\n",
        "        y_pred.append(predicted.flatten().tolist())\n",
        "      running_loss += loss.item()\n",
        "      n_update += 1\n",
        "  eval_loss = running_loss / n_update\n",
        "  return eval_loss, y_true, y_pred\n",
        "\n",
        "\n",
        "def evaluate_classes(net, imgs, labels, batch_size=8, metrics=None, verbose=True):\n",
        "  \"\"\"Black box function to evaluate a neural network on CIFAR-10 dataset.\"\"\"\n",
        "  normalized_imgs = ((imgs/255.0) - 0.5) * 2.0 # Normalize to [-1, 1]\n",
        "  normalized_imgs = np.transpose(normalized_imgs, (0, 3, 1, 2))\n",
        "  arr_labels = np.array(labels)\n",
        "  \n",
        "  dataset = TensorDataset(\n",
        "      torch.from_numpy(normalized_imgs).float(), \n",
        "      torch.from_numpy(arr_labels).long()\n",
        "  )\n",
        "  dataloader = DataLoader(dataset, batch_size=batch_size, shuffle=False)\n",
        "  \n",
        "  net = net.to(device)\n",
        "  correct = 0\n",
        "  total = 0\n",
        "  class_correct = [0.0] * 10\n",
        "  class_total = [0.0] * 10\n",
        "  class_acc = [0.0] * 10\n",
        "  \n",
        "  metric_values = None\n",
        "  if not (metrics is None):\n",
        "    if isinstance(metrics, dict):\n",
        "      metric_values = {a: 0.0 for a in metrics.keys()}\n",
        "    elif isinstance(metrics, (list, tuple)):\n",
        "      metric_values = {a: 0.0 for a in range(len(metrics))}\n",
        "    else:\n",
        "      metrics = [metrics]\n",
        "      metric_values = {a: 0.0 for a in range(len(metrics))}\n",
        "  \n",
        "  with torch.no_grad():\n",
        "    y_true = []\n",
        "    y_pred = []\n",
        "    for data in dataloader:\n",
        "      inputs, targets = data\n",
        "      \n",
        "      if targets.numel() > 1:\n",
        "        y_true.extend(targets.flatten().tolist())\n",
        "      else:\n",
        "        y_true.append(targets.flatten().tolist())\n",
        "        \n",
        "      inputs = inputs.to(device)\n",
        "      targets = targets.to(device)\n",
        "      outputs = net(inputs)\n",
        "      _, predicted = torch.max(outputs, 1)\n",
        "      \n",
        "      if predicted.numel()>1:\n",
        "        y_pred.extend(predicted.flatten().tolist())\n",
        "      else:\n",
        "        y_pred.append(predicted.flatten().tolist())\n",
        "      \n",
        "      total += targets.size(0)\n",
        "      correct += (predicted == targets).sum().item()\n",
        "      \n",
        "      c = (predicted == targets).squeeze()\n",
        "      for i in range(targets.size(0)):\n",
        "        label = targets[i]\n",
        "        class_correct[label] += c[i].item()\n",
        "        class_total[label] += 1\n",
        "            \n",
        "    if not (metric_values is None):\n",
        "      for a in metric_values.keys():\n",
        "        metric_values[a] = metrics[a](y_true, y_pred)\n",
        "            \n",
        "  global_acc = correct / max(total, 1.0)\n",
        "  \n",
        "  if verbose:\n",
        "    if metrics is not None:\n",
        "      print('Evaluation on the validation dataset:')\n",
        "      for a in metric_values.keys():\n",
        "        print('Metric {}: {:.0%}'.format(a, metric_values[a]))\n",
        "\n",
        "  for i in range(10):\n",
        "    class_acc[i] = class_correct[i] / max(class_total[i], 1.0)\n",
        "    if verbose:\n",
        "      print('Accuracy of {:<5s} ({}): {:.0%}'\n",
        "            .format(classe_names[i], i, class_acc[i])\n",
        "           )\n",
        "    \n",
        "  return global_acc, class_acc\n"
      ],
      "execution_count": 22,
      "outputs": []
    },
    {
      "cell_type": "markdown",
      "metadata": {
        "id": "jbYLAX2Ktt7H"
      },
      "source": [
        "# How much training data is needed?\n",
        "\n"
      ]
    },
    {
      "cell_type": "markdown",
      "metadata": {
        "id": "txSjlglLvaC_"
      },
      "source": [
        "In this section, we study the effect of the training set size on models' performances. We also use a technique called **data augmentation** to artificially create variants of examples with synthetic transformations.\n",
        "\n",
        "Note that we keep the validation set fixed throughout this section. This is just for the purpose of this tutorial, as we want the different evaluations to be comparable. In practice, the validation dataset should never be larger than the training dataset."
      ]
    },
    {
      "cell_type": "markdown",
      "metadata": {
        "id": "7MKcpyiQxl-6"
      },
      "source": [
        "## Training with only 1% of the data"
      ]
    },
    {
      "cell_type": "markdown",
      "metadata": {
        "id": "eOm2bCVxy5mc"
      },
      "source": [
        "Let's start by considering only 1% of the training set. The following method allows selecting a subset of data from a given dataset. It takes as input five arguments:\n",
        "- **imgs**: NumPy array representing the image set from which the selection is made.\n",
        "- **labels**: labels associated with the provided image set.\n",
        "- **ratio** (optional): percentage of data that will be selected. Default: `0.1`.\n",
        "- **shuffle** (optional): whether or not the data need to be shuffled before the selection is made. Default: `True`.\n",
        "- **seed** (optional): seed of the random generator: Default: `1234`.\n",
        "\n",
        "It provides as output 2 elements:\n",
        "- **select_imgs**: NumPy array of the selected images.\n",
        "- **select_labels**: labels associated with the selected images."
      ]
    },
    {
      "cell_type": "code",
      "metadata": {
        "id": "YKQZqtge0QoV"
      },
      "source": [
        "def select_subset_from_dataset(imgs, labels, ratio=0.1, shuffle=True, seed=1234):\n",
        "  \"\"\"\n",
        "  Args:\n",
        "     imgs: numpy array representing the image set from which \n",
        "        the selection is made.\n",
        "     labels: the labels associated with the provided images.\n",
        "     ratio (optional): percentage of data to be selected. Default: 0.1.\n",
        "     shuffle (optional): Whether or not to shuffle the data. Default: True.\n",
        "     seed (optional): seed of the numpy random generator: Default: 1234.\n",
        "        \n",
        "  Return:\n",
        "     A tuple of 2 elements (select_imgs, select_labels)\n",
        "     where:\n",
        "        select_imgs: a numpy array of the selected images.\n",
        "        select_labels: labels associated with the selected images.\n",
        "      \n",
        "  \"\"\"\n",
        "  if shuffle:\n",
        "    np.random.seed(seed)  # Set the random seed of numpy.\n",
        "    indices = np.random.permutation(imgs.shape[0])\n",
        "  else:\n",
        "    indices = np.arange(imgs.shape[0])\n",
        "  idx, _ = np.split(indices, [int(ratio*len(indices))])\n",
        "  select_imgs = imgs[idx]\n",
        "  labels = np.array(labels)\n",
        "  select_labels = labels[idx].tolist()\n",
        "  return select_imgs, select_labels"
      ],
      "execution_count": 23,
      "outputs": []
    },
    {
      "cell_type": "code",
      "metadata": {
        "colab": {
          "base_uri": "https://localhost:8080/"
        },
        "id": "PTzExZxIr8Hh",
        "outputId": "19044b3d-ed0b-4e10-d64b-72ad433da599"
      },
      "source": [
        "print(train_imgs.shape)"
      ],
      "execution_count": 24,
      "outputs": [
        {
          "output_type": "stream",
          "text": [
            "(35000, 32, 32, 3)\n"
          ],
          "name": "stdout"
        }
      ]
    },
    {
      "cell_type": "markdown",
      "metadata": {
        "id": "6yxgfA30VBbz"
      },
      "source": [
        "We create a new training set that contains only 1% of the original training set."
      ]
    },
    {
      "cell_type": "code",
      "metadata": {
        "id": "GWVUZEVTU8-K"
      },
      "source": [
        "train_1percent_imgs, train_1percent_labels  = select_subset_from_dataset(\n",
        "    train_imgs, train_labels, ratio=0.01\n",
        ")"
      ],
      "execution_count": 25,
      "outputs": []
    },
    {
      "cell_type": "markdown",
      "metadata": {
        "id": "rfbVmI7V4dxF"
      },
      "source": [
        "### Exercise 5\n",
        "\n",
        "Train a model on 1% of the training set and evaluate its performance on the validation set. Use the following values for this experiment:\n",
        "- **epochs**: `50`.\n",
        "- **batch_size**: `32`.\n",
        "- **metrics**: `{'Accuracy': accuracy}`.\n",
        "- **eval_imgs**: `valid_imgs`.\n",
        "- **eval_labels**: `valid_labels`.\n",
        "\n",
        "What do you observe?"
      ]
    },
    {
      "cell_type": "code",
      "metadata": {
        "colab": {
          "base_uri": "https://localhost:8080/",
          "height": 1000
        },
        "id": "UglqJKbYvdpY",
        "outputId": "a9bbf0f9-dbdf-410b-d7e7-e6dd4bbbe227"
      },
      "source": [
        "# training on selected data\n",
        "model = training_on_dataset(train_1percent_imgs, train_1percent_labels, \n",
        "                    valid_imgs, valid_labels,\n",
        "                    50, batch_size=32, lr=1e-3,\n",
        "                    seed=1234, transformations=None, label_weights=None,\n",
        "                    metrics=None, verbose=True)\n",
        "\n",
        "# evaluate the trained model on the validation dataset\n",
        "_ = evaluate_classes(model, valid_imgs, valid_labels, batch_size=32, \n",
        "                     metrics={'Accuracy': accuracy}, verbose=True) # To complete.\n"
      ],
      "execution_count": 26,
      "outputs": [
        {
          "output_type": "stream",
          "text": [
            "[Epoch 1/50] Training loss: 2.306 | Validation loss: 2.282\n",
            "[Epoch 2/50] Training loss: 2.254 | Validation loss: 2.223\n",
            "[Epoch 3/50] Training loss: 2.172 | Validation loss: 2.151\n",
            "[Epoch 4/50] Training loss: 2.074 | Validation loss: 2.084\n",
            "[Epoch 5/50] Training loss: 1.994 | Validation loss: 2.071\n",
            "[Epoch 6/50] Training loss: 1.934 | Validation loss: 2.064\n",
            "[Epoch 7/50] Training loss: 1.874 | Validation loss: 2.056\n",
            "[Epoch 8/50] Training loss: 1.818 | Validation loss: 2.003\n",
            "[Epoch 9/50] Training loss: 1.779 | Validation loss: 2.062\n",
            "[Epoch 10/50] Training loss: 1.706 | Validation loss: 2.065\n",
            "[Epoch 11/50] Training loss: 1.688 | Validation loss: 2.079\n",
            "[Epoch 12/50] Training loss: 1.619 | Validation loss: 2.047\n",
            "[Epoch 13/50] Training loss: 1.546 | Validation loss: 2.091\n",
            "[Epoch 14/50] Training loss: 1.491 | Validation loss: 2.049\n",
            "[Epoch 15/50] Training loss: 1.431 | Validation loss: 2.134\n",
            "[Epoch 16/50] Training loss: 1.343 | Validation loss: 2.100\n",
            "[Epoch 17/50] Training loss: 1.289 | Validation loss: 2.166\n",
            "[Epoch 18/50] Training loss: 1.210 | Validation loss: 2.178\n",
            "[Epoch 19/50] Training loss: 1.136 | Validation loss: 2.166\n",
            "[Epoch 20/50] Training loss: 1.070 | Validation loss: 2.262\n",
            "[Epoch 21/50] Training loss: 0.999 | Validation loss: 2.371\n",
            "[Epoch 22/50] Training loss: 0.953 | Validation loss: 2.335\n",
            "[Epoch 23/50] Training loss: 0.851 | Validation loss: 2.495\n",
            "[Epoch 24/50] Training loss: 0.775 | Validation loss: 2.474\n",
            "[Epoch 25/50] Training loss: 0.691 | Validation loss: 2.675\n",
            "[Epoch 26/50] Training loss: 0.646 | Validation loss: 2.714\n",
            "[Epoch 27/50] Training loss: 0.591 | Validation loss: 2.777\n",
            "[Epoch 28/50] Training loss: 0.545 | Validation loss: 2.811\n",
            "[Epoch 29/50] Training loss: 0.467 | Validation loss: 2.916\n",
            "[Epoch 30/50] Training loss: 0.381 | Validation loss: 3.132\n",
            "[Epoch 31/50] Training loss: 0.325 | Validation loss: 3.191\n",
            "[Epoch 32/50] Training loss: 0.263 | Validation loss: 3.446\n",
            "[Epoch 33/50] Training loss: 0.232 | Validation loss: 3.696\n",
            "[Epoch 34/50] Training loss: 0.223 | Validation loss: 3.680\n",
            "[Epoch 35/50] Training loss: 0.165 | Validation loss: 3.867\n",
            "[Epoch 36/50] Training loss: 0.140 | Validation loss: 4.063\n",
            "[Epoch 37/50] Training loss: 0.111 | Validation loss: 4.049\n",
            "[Epoch 38/50] Training loss: 0.087 | Validation loss: 4.249\n",
            "[Epoch 39/50] Training loss: 0.076 | Validation loss: 4.422\n",
            "[Epoch 40/50] Training loss: 0.057 | Validation loss: 4.442\n",
            "[Epoch 41/50] Training loss: 0.043 | Validation loss: 4.746\n",
            "[Epoch 42/50] Training loss: 0.038 | Validation loss: 4.717\n",
            "[Epoch 43/50] Training loss: 0.029 | Validation loss: 4.882\n",
            "[Epoch 44/50] Training loss: 0.024 | Validation loss: 4.947\n",
            "[Epoch 45/50] Training loss: 0.020 | Validation loss: 5.108\n",
            "[Epoch 46/50] Training loss: 0.018 | Validation loss: 5.197\n",
            "[Epoch 47/50] Training loss: 0.015 | Validation loss: 5.225\n",
            "[Epoch 48/50] Training loss: 0.014 | Validation loss: 5.304\n",
            "[Epoch 49/50] Training loss: 0.013 | Validation loss: 5.401\n",
            "[Epoch 50/50] Training loss: 0.011 | Validation loss: 5.480\n"
          ],
          "name": "stdout"
        },
        {
          "output_type": "display_data",
          "data": {
            "image/png": "[encoded data removed]",
            "text/plain": [
              "<Figure size 432x288 with 1 Axes>"
            ]
          },
          "metadata": {
            "tags": [],
            "needs_background": "light"
          }
        },
        {
          "output_type": "stream",
          "text": [
            "Evaluation on the validation dataset:\n",
            "Metric Accuracy: 30%\n",
            "Accuracy of plane (0): 44%\n",
            "Accuracy of car   (1): 33%\n",
            "Accuracy of bird  (2): 18%\n",
            "Accuracy of cat   (3): 30%\n",
            "Accuracy of deer  (4): 29%\n",
            "Accuracy of dog   (5): 21%\n",
            "Accuracy of frog  (6): 35%\n",
            "Accuracy of horse (7): 31%\n",
            "Accuracy of ship  (8): 25%\n",
            "Accuracy of truck (9): 33%\n"
          ],
          "name": "stdout"
        }
      ]
    },
    {
      "cell_type": "markdown",
      "metadata": {
        "id": "KEMYRMeR8gA8"
      },
      "source": [
        "On observe le phénomène dans le quizz fin de module 1"
      ]
    },
    {
      "cell_type": "markdown",
      "metadata": {
        "id": "UYRPF8m5Ps7p"
      },
      "source": [
        "## Performance as a function of the dataset size"
      ]
    },
    {
      "cell_type": "markdown",
      "metadata": {
        "id": "4ILOZAvjPzhB"
      },
      "source": [
        "In the following, We train the same model on various ratios of the training set while keeping the validation set fixed. We want to observe the impact of using larger training sets.\n",
        "\n",
        "The following function performs this study given a list of ratio values. It takes as arguments:\n",
        "- **ratio_list**: list of ratio numbers to be considered in the study.\n",
        "- **epochs** (optional): number of training epochs. Default: `5`.\n",
        "- **seed** (optional): seed of the random generator: Default: `1234`.\n",
        "\n",
        "This function generates a plot showing the accuracy as a function of the ratio of data used for training the model.\n",
        "\n",
        "It is important to note that by fixing the number of epochs, we perform more parameter updates as the training set's size increases. Hence, the overall study is not entirely comparable. However, since the accuracy does not decrease over time in this example, we can still observe the typical phenomenon associated with increasing the training set sizes."
      ]
    },
    {
      "cell_type": "code",
      "metadata": {
        "id": "ylPD0is-Q7ay"
      },
      "source": [
        "def performance_study(ratio_list, epochs=5, seed=1234):\n",
        "  \"\"\"\n",
        "  Args:\n",
        "     ratio_list: list of ratio numbers to be considered.\n",
        "     epochs (optional): number of training epochs. Default: 5.\n",
        "     seed (optional): seed of the numpy random generator: Default: 1234.\n",
        "        \n",
        "  Return:\n",
        "     This method does not return anything, but it generates a plot.\n",
        "      \n",
        "  \"\"\"\n",
        "  results = []\n",
        "  for ratio in ratio_list:\n",
        "    select_imgs, select_labels = select_subset_from_dataset(\n",
        "        train_imgs, train_labels, ratio\n",
        "    )\n",
        "    trained_model = training_on_dataset(\n",
        "        select_imgs, select_labels, valid_imgs, valid_labels,\n",
        "        epochs=epochs, batch_size=32,\n",
        "        seed=seed, verbose=False\n",
        "    )\n",
        "    acc, _ = evaluate_classes(\n",
        "        trained_model, valid_imgs, valid_labels, batch_size=32,\n",
        "        verbose=False\n",
        "    )\n",
        "    results.append(acc)\n",
        "  \n",
        "  print('Best accuracy: {:.0%}'.format(max(results)))\n",
        "  plt.plot(ratio_list, results)\n",
        "  plt.title('Model performance on validation set')\n",
        "  plt.xlabel('Training set ratio')\n",
        "  plt.ylabel('Accuracy')\n",
        "  plt.show()\n"
      ],
      "execution_count": 27,
      "outputs": []
    },
    {
      "cell_type": "markdown",
      "metadata": {
        "id": "RDZLShKzgUMV"
      },
      "source": [
        "### Exercise 6\n",
        "\n",
        "Evaluate the performance using the following ratios: `0.01, 0.05, 0.1, 0.25, 0.5, 0.75, 0.9, 1.0`. \n",
        "\n",
        "You can choose the number of epochs you wish for this study. Just have in mind that the higher the number, the longer the time required for the training/study. Therefore, it is recommended to not exceed `epochs=20` for the purpose of this tutorial. As a default, it is set to `epochs=5`.\n",
        "\n",
        "Again, by having a fixed number of epochs, the larger the training set, the more often we update the model's parameters.\n",
        "\n",
        "What do you conclude?"
      ]
    },
    {
      "cell_type": "code",
      "metadata": {
        "colab": {
          "base_uri": "https://localhost:8080/",
          "height": 313
        },
        "id": "jS-MkJ_rprdH",
        "outputId": "62fde9d4-c077-4fb4-fd82-c7c8a0de5653"
      },
      "source": [
        "ratio_list = [0.01, 0.05, 0.1, 0.25, 0.5, 0.75, 0.9, 1.0]\n",
        "performance_study(ratio_list, epochs=5, seed=1234) # To complete.\n"
      ],
      "execution_count": 28,
      "outputs": [
        {
          "output_type": "stream",
          "text": [
            "Best accuracy: 60%\n"
          ],
          "name": "stdout"
        },
        {
          "output_type": "display_data",
          "data": {
            "image/png": "[encoded data removed]",
            "text/plain": [
              "<Figure size 432x288 with 1 Axes>"
            ]
          },
          "metadata": {
            "tags": [],
            "needs_background": "light"
          }
        }
      ]
    },
    {
      "cell_type": "markdown",
      "metadata": {
        "id": "6hOajcWPAxrC"
      },
      "source": [
        "... # To complete.\n"
      ]
    },
    {
      "cell_type": "markdown",
      "metadata": {
        "id": "_dFQG5ViqzM1"
      },
      "source": [
        "## Data augmentation"
      ]
    },
    {
      "cell_type": "markdown",
      "metadata": {
        "id": "cnD2tCAv2QWZ"
      },
      "source": [
        "This section covers data augmentation, which consists of altering the inputs in the training set without changing the associated labels. By doing so, it is possible to augment the number of images in our training set artificially. For example, we can use flipping, cropping, and resizing to alter an image without modifying its associated label. As a result, we may observe some performance gains and better model generalization by learning to be invariant to these transformations. However, since data augmentation is creating artificially new examples from existing ones, the independence assumption is not fully respected. Thus, we should not use data augmentation for the validation and the test sets."
      ]
    },
    {
      "cell_type": "markdown",
      "metadata": {
        "id": "0PKpTId_3lGI"
      },
      "source": [
        "### Exercise 7\n",
        "\n",
        "Assume that we only have access to 30% of the original training dataset. Train a model with this subset of data and evaluate it on the validation dataset. As the number of examples increases in the training set, we may consider increasing the number of epochs while keeping in mind the overfitting problem. For this exercise, we will use the following arguments:\n",
        "- **epochs**: `15`.\n",
        "- **batch_size**: `32`.\n",
        "- **metrics**: `{'Accuracy': accuracy}`."
      ]
    },
    {
      "cell_type": "code",
      "metadata": {
        "id": "6pBFLLmxrCC8"
      },
      "source": [
        "# select the data\n",
        "train_30percent_imgs, train_30percent_labels = select_subset_from_dataset(\n",
        "    train_imgs, train_labels, ratio=0.3\n",
        ")\n",
        "\n",
        "# train on the selected data\n",
        "model = training_on_dataset(\n",
        "        train_30percent_imgs, train_30percent_labels, valid_imgs, valid_labels,\n",
        "        epochs=15, batch_size=32,\n",
        "        seed=seed, verbose=False\n",
        "    )"
      ],
      "execution_count": 29,
      "outputs": []
    },
    {
      "cell_type": "code",
      "metadata": {
        "colab": {
          "base_uri": "https://localhost:8080/"
        },
        "id": "0O8phUcbzaQc",
        "outputId": "eadc459e-6667-4f2a-e775-9d5d4451fcf8"
      },
      "source": [
        "# evaluate on the validation dataset\n",
        "_ = evaluate_classes(\n",
        "        model, valid_imgs, valid_labels, batch_size=32,\n",
        "        verbose=True,metrics={'Accuracy': accuracy}\n",
        "    )"
      ],
      "execution_count": 30,
      "outputs": [
        {
          "output_type": "stream",
          "text": [
            "Evaluation on the validation dataset:\n",
            "Metric Accuracy: 50%\n",
            "Accuracy of plane (0): 44%\n",
            "Accuracy of car   (1): 64%\n",
            "Accuracy of bird  (2): 24%\n",
            "Accuracy of cat   (3): 45%\n",
            "Accuracy of deer  (4): 42%\n",
            "Accuracy of dog   (5): 38%\n",
            "Accuracy of frog  (6): 60%\n",
            "Accuracy of horse (7): 64%\n",
            "Accuracy of ship  (8): 61%\n",
            "Accuracy of truck (9): 62%\n"
          ],
          "name": "stdout"
        }
      ]
    },
    {
      "cell_type": "markdown",
      "metadata": {
        "id": "UdeKH-JsrcPl"
      },
      "source": [
        "---\n",
        "The following code defines a transformation pipeline using the torchvision utilities. The `RandomResizedCrop` operation takes a random crop of the image with a relative size between 0.7 and 1.0. Then, this crop is resized to a 32 x 32 image. The transformations are applied to the original images at every mini-batch generation leaving the dataset's images unchanged; only the mini-batch images are copied and transformed at every iteration."
      ]
    },
    {
      "cell_type": "code",
      "metadata": {
        "id": "j5h0bzG9rh_T"
      },
      "source": [
        "transformations = transforms.Compose([\n",
        "    transforms.Normalize((-1, -1, -1), (2, 2, 2)),\n",
        "    transforms.ToPILImage(),\n",
        "    transforms.RandomResizedCrop((32, 32), scale=(0.7, 1.0)),\n",
        "    transforms.ToTensor(),\n",
        "    transforms.Normalize((0.5, 0.5, 0.5), (0.5, 0.5, 0.5)),\n",
        "])"
      ],
      "execution_count": 31,
      "outputs": []
    },
    {
      "cell_type": "markdown",
      "metadata": {
        "id": "Q_T-9waaChH3"
      },
      "source": [
        "Here is an example of applying the data augmentation pipeline to an image. If the images are very similar, rerun the code block to see different random crops."
      ]
    },
    {
      "cell_type": "code",
      "metadata": {
        "colab": {
          "base_uri": "https://localhost:8080/",
          "height": 550
        },
        "id": "-Foqnmfu9Uy9",
        "outputId": "62cf37b1-d451-4a7c-92a1-643c7c0a6abf"
      },
      "source": [
        "i = 20\n",
        "img = train_30percent_imgs[i]\n",
        "\n",
        "# The image needs to be in range [-1 ; 1] with order CxHxW \n",
        "# for the transforms\n",
        "img = np.transpose(img, (2, 0, 1))\n",
        "img = ((img/255.0) - 0.5) * 2.0\n",
        "img = torch.as_tensor(img)\n",
        "\n",
        "aug_img = transformations(img).numpy()\n",
        "\n",
        "# The image needs to be in range [0 ; 255] with order HxWxC\n",
        "# for the visualization\n",
        "aug_img = np.transpose(aug_img, (1, 2, 0))\n",
        "aug_img = ((aug_img + 1)/2. *255).astype(int)\n",
        "\n",
        "print('Original image')\n",
        "plot_image(train_30percent_imgs[i])\n",
        "print('Augmented image')\n",
        "plot_image(aug_img)\n"
      ],
      "execution_count": 32,
      "outputs": [
        {
          "output_type": "stream",
          "text": [
            "Original image\n"
          ],
          "name": "stdout"
        },
        {
          "output_type": "display_data",
          "data": {
            "image/png": "[encoded data removed]",
            "text/plain": [
              "<Figure size 432x288 with 1 Axes>"
            ]
          },
          "metadata": {
            "tags": [],
            "needs_background": "light"
          }
        },
        {
          "output_type": "stream",
          "text": [
            "Augmented image\n"
          ],
          "name": "stdout"
        },
        {
          "output_type": "display_data",
          "data": {
            "image/png": "[encoded data removed]",
            "text/plain": [
              "<Figure size 432x288 with 1 Axes>"
            ]
          },
          "metadata": {
            "tags": [],
            "needs_background": "light"
          }
        }
      ]
    },
    {
      "cell_type": "markdown",
      "metadata": {
        "id": "110l_poa5AUi"
      },
      "source": [
        "### Exercise 8\n",
        "Now, we train a new model by applying data augmentation to the same training set used in the previous exercise. Use the following arguments:\n",
        "- **epochs**: `25`. DLM : pour comparer 15 ?\n",
        "- **batch_size**: `32`.\n",
        "- **metrics**: `{'Accuracy': accuracy}`.\n",
        "\n",
        "and the argument `transformations` of the `training_on_dataset` method to perform data augmentation during training.\n",
        "\n",
        "Evaluate your model and compare your results with those from the previous exercise. What do you observe?"
      ]
    },
    {
      "cell_type": "code",
      "metadata": {
        "id": "-JHCgdzprnG9"
      },
      "source": [
        "# training on selected data with data augmentation techniques\n",
        "model_aug = training_on_dataset(\n",
        "        train_30percent_imgs, train_30percent_labels, valid_imgs, valid_labels,\n",
        "        epochs=15, batch_size=32,\n",
        "        seed=seed, verbose=False, transformations=transformations\n",
        "    )"
      ],
      "execution_count": 33,
      "outputs": []
    },
    {
      "cell_type": "code",
      "metadata": {
        "colab": {
          "base_uri": "https://localhost:8080/"
        },
        "id": "rcE5M36z1MIi",
        "outputId": "235840c6-1fc2-400f-8397-8495daa92f01"
      },
      "source": [
        "# evaluate on the validation dataset : \n",
        "# précédement sans data augmentation on avait 51%\n",
        "# désormais on obtient 53%\n",
        "# avec epochs = 25 on passe à 56% !\n",
        "_ = evaluate_classes(\n",
        "        model_aug, valid_imgs, valid_labels, batch_size=32,\n",
        "        verbose=True, metrics={'Accuracy': accuracy}\n",
        "    )"
      ],
      "execution_count": 34,
      "outputs": [
        {
          "output_type": "stream",
          "text": [
            "Evaluation on the validation dataset:\n",
            "Metric Accuracy: 53%\n",
            "Accuracy of plane (0): 57%\n",
            "Accuracy of car   (1): 68%\n",
            "Accuracy of bird  (2): 23%\n",
            "Accuracy of cat   (3): 25%\n",
            "Accuracy of deer  (4): 44%\n",
            "Accuracy of dog   (5): 59%\n",
            "Accuracy of frog  (6): 48%\n",
            "Accuracy of horse (7): 71%\n",
            "Accuracy of ship  (8): 61%\n",
            "Accuracy of truck (9): 69%\n"
          ],
          "name": "stdout"
        }
      ]
    },
    {
      "cell_type": "markdown",
      "metadata": {
        "id": "KP24gLYYIia_"
      },
      "source": [
        "... # To complete.\n"
      ]
    },
    {
      "cell_type": "markdown",
      "metadata": {
        "id": "4BRbANE0mjLY"
      },
      "source": [
        "# Unbalanced datasets"
      ]
    },
    {
      "cell_type": "markdown",
      "metadata": {
        "id": "SfpH0Cx1NA-z"
      },
      "source": [
        "## What is an unbalanced dataset?"
      ]
    },
    {
      "cell_type": "markdown",
      "metadata": {
        "id": "bDuyTs_smng1"
      },
      "source": [
        "Up to now, the training dataset contained about the same number of images for each label. This section explores the impact of training models on an unbalanced dataset, which happens when each class does not make up an equal subset of your dataset. \n",
        "\n",
        "The following function selects a subset of data from a given dataset while providing a defined label distribution. It takes as input six arguments:\n",
        "- **imgs**: NumPy array representing the image set from which the selection is made.\n",
        "- **labels**: labels associated with the provided image set.\n",
        "- **label_dist**: the distribution of labels to be selected, represented by a dict of `{label: value}`.\n",
        "- **ratio** (optional): percentage of the data that will be selected. Default: `0.1`.\n",
        "- **shuffle** (optional): whether or not the data need to be shuffled before the selection is made. Default: `True`.\n",
        "- **seed** (optional): seed of the random generator: Default: `1234`.\n",
        "\n",
        "It provides as output 2 elements:\n",
        "- **select_imgs**: a NumPy array of the selected images.\n",
        "- **select_labels**: labels associated with the selected images."
      ]
    },
    {
      "cell_type": "code",
      "metadata": {
        "id": "yx4E8E5TLr2H"
      },
      "source": [
        "def select_subset_from_dataset_with_label_dist(\n",
        "    imgs, labels, label_dist, ratio=0.1, shuffle=True, seed=1234):\n",
        "  \"\"\"\n",
        "  Args:\n",
        "     imgs: numpy array representing the image set from which \n",
        "        the selection is made.\n",
        "     labels: the labels associated with the provided images.\n",
        "     label_dist: the distribution of labels to select.\n",
        "     ratio (optional): percentage of the data to be selected. Default: 0.1.\n",
        "     shuffle (optional): Whether or not to shuffle the data. Default: True.\n",
        "     seed (optional): seed of the numpy random generator: Default: 1234.\n",
        "        \n",
        "  Return:\n",
        "     A tuple of 2 elements (select_imgs, select_labels)\n",
        "     where:\n",
        "        select_imgs: a numpy array of the selected images.\n",
        "        select_labels: labels associated with the selected images.\n",
        "      \n",
        "  \"\"\"\n",
        "  if isinstance(label_dist, (list, tuple)):\n",
        "    label_dist = {a:v for a,v in enumerate(label_dist)}\n",
        "  sum_dist = sum(label_dist.values())\n",
        "  for lab in label_dist.keys():\n",
        "    label_dist[lab] /= sum_dist\n",
        "    \n",
        "  labels = np.array(labels)\n",
        "  num_indices = int(ratio*len(labels))\n",
        "  num_idx_lab = {a: int(label_dist[a]*num_indices) for a in label_dist.keys()}\n",
        "  \n",
        "  sel_ind = []\n",
        "  \n",
        "  if shuffle:\n",
        "    np.random.seed(seed)  # Set the random seed of numpy.\n",
        "\n",
        "  for a in num_idx_lab.keys():\n",
        "    idx = np.where(labels==a)\n",
        "    idx = idx[0]\n",
        "    if shuffle:\n",
        "      idx = np.random.permutation(idx)\n",
        "    num = min(num_idx_lab[a], len(idx))\n",
        "    idx = idx[0:num]\n",
        "    sel_ind.extend(idx)\n",
        "    \n",
        "  if shuffle:\n",
        "    sel_ind = np.random.permutation(sel_ind)\n",
        "  else:\n",
        "    sel_ind.sort()\n",
        "    sel_ind = np.array(sel_ind)\n",
        "    \n",
        "  select_imgs = imgs[sel_ind, :]\n",
        "  select_labels = labels[sel_ind].tolist()\n",
        "  \n",
        "  return select_imgs, select_labels\n"
      ],
      "execution_count": 35,
      "outputs": []
    },
    {
      "cell_type": "markdown",
      "metadata": {
        "id": "tQO9ejo57_G1"
      },
      "source": [
        "### Exercise 9\n",
        "\n",
        "Using the function `select_subset_from_dataset_with_label_dist`, extract 30% of the training set with the label distribution defined in the code.\n",
        "\n",
        "Also, extract 40% of the validation set with the same label distribution.\n",
        "\n",
        "Compute the histograms of the resulting datasets and compare their relative frequencies.\n",
        "\n",
        "Note that the relative frequencies may not be exactly equal to the label distribution but should be close enough for our purposes."
      ]
    },
    {
      "cell_type": "code",
      "metadata": {
        "colab": {
          "base_uri": "https://localhost:8080/",
          "height": 573
        },
        "id": "-irncrQq4MD-",
        "outputId": "2f529fd0-261c-4a22-fa92-e8ed3ee96b4c"
      },
      "source": [
        "label_distribution = {\n",
        "    0: 0.23,\n",
        "    1: 0.14,\n",
        "    2: 0.07,\n",
        "    3: 0.01,\n",
        "    4: 0.23, \n",
        "    5: 0.19,\n",
        "    6: 0.02,\n",
        "    7: 0.01,\n",
        "    8: 0.07,\n",
        "    9: 0.03\n",
        "}\n",
        "\n",
        "# select data according to a provided distribution\n",
        "unbalanced_training_imgs, unbalanced_training_labels = select_subset_from_dataset_with_label_dist(\n",
        "    train_imgs, train_labels, label_distribution, ratio=0.3, shuffle=True, seed=1234)\n",
        "\n",
        "# plot the histogram of the selected labels\n",
        "_ = plot_dataset_histogram(unbalanced_training_labels,\n",
        "                           title='Traning Label distribution',rel_freq=True) # To complete.\n",
        "\n",
        "# select data according to a provided distribution\n",
        "unbalanced_validation_imgs, unbalanced_validation_labels = select_subset_from_dataset_with_label_dist(\n",
        "    valid_imgs, valid_labels, label_distribution, ratio=0.4, shuffle=True, seed=1234)\n",
        "\n",
        "# plot the histogram of the selected labels\n",
        "_ = plot_dataset_histogram(unbalanced_validation_labels,\n",
        "                           title='Validation Label distribution',rel_freq=True) # To complete."
      ],
      "execution_count": 36,
      "outputs": [
        {
          "output_type": "display_data",
          "data": {
            "image/png": "[encoded data removed]",
            "text/plain": [
              "<Figure size 432x288 with 1 Axes>"
            ]
          },
          "metadata": {
            "tags": [],
            "needs_background": "light"
          }
        },
        {
          "output_type": "display_data",
          "data": {
            "image/png": "[encoded data removed]",
            "text/plain": [
              "<Figure size 432x288 with 1 Axes>"
            ]
          },
          "metadata": {
            "tags": [],
            "needs_background": "light"
          }
        }
      ]
    },
    {
      "cell_type": "markdown",
      "metadata": {
        "id": "k0Z9BMTZN36h"
      },
      "source": [
        "## Is accuracy a good metric for an unbalanced dataset?"
      ]
    },
    {
      "cell_type": "markdown",
      "metadata": {
        "id": "47WPFK9zOaxz"
      },
      "source": [
        "### Exercise 10\n",
        "\n",
        "Train a model using the unbalanced traning set and evaluate its performance on the unbalanced validation set. Use the following arguments:\n",
        "- **epochs**: `20`.\n",
        "- **batch_size**: `32`.\n",
        "- **metrics**: `{'Accuracy': accuracy, 'F1': f1_score}`.\n",
        "\n",
        "When we have an unbalanced dataset, using the [F1-score](https://en.wikipedia.org/wiki/F-score) is usually recommended. The F1-score is the harmonic mean of the [Precision and Recall scores](https://en.wikipedia.org/wiki/Precision_and_recall).\n",
        "\n",
        "Compare the global accuracy with the accuracies per class. What do you observe? What does the F1-score evaluate better than the accuracy in this case?"
      ]
    },
    {
      "cell_type": "code",
      "metadata": {
        "colab": {
          "base_uri": "https://localhost:8080/"
        },
        "id": "QxnLmJWo-Xze",
        "outputId": "ad63ef23-fa5c-41c1-b8e7-ed5927caec03"
      },
      "source": [
        "# training on selected data\n",
        "modelUnbal = training_on_dataset(unbalanced_training_imgs,unbalanced_training_labels,\n",
        "              unbalanced_validation_imgs,unbalanced_validation_labels,\n",
        "              epochs=20,batch_size=32,metrics={'Accuracy': accuracy, 'F1': f1_score},\n",
        "              verbose=False) # To complete.\n",
        "\n",
        "# evaluate on the validation dataset\n",
        "global_acc, class_acc = evaluate_classes(\n",
        "        modelUnbal, unbalanced_validation_imgs, unbalanced_validation_labels, batch_size=32,\n",
        "        verbose=True, metrics={'Accuracy': accuracy, 'F1': f1_score}\n",
        "    )# To complete.\n"
      ],
      "execution_count": 37,
      "outputs": [
        {
          "output_type": "stream",
          "text": [
            "Evaluation on the validation dataset:\n",
            "Metric Accuracy: 64%\n",
            "Metric F1: 43%\n",
            "Accuracy of plane (0): 76%\n",
            "Accuracy of car   (1): 82%\n",
            "Accuracy of bird  (2): 18%\n",
            "Accuracy of cat   (3): 0%\n",
            "Accuracy of deer  (4): 65%\n",
            "Accuracy of dog   (5): 76%\n",
            "Accuracy of frog  (6): 22%\n",
            "Accuracy of horse (7): 15%\n",
            "Accuracy of ship  (8): 44%\n",
            "Accuracy of truck (9): 23%\n"
          ],
          "name": "stdout"
        }
      ]
    },
    {
      "cell_type": "markdown",
      "metadata": {
        "id": "6NruL0f6L-Ps"
      },
      "source": [
        "... # To complete.\n"
      ]
    },
    {
      "cell_type": "markdown",
      "metadata": {
        "id": "DdwjfGNmTST_"
      },
      "source": [
        "## Dealing with unbalanced datasets"
      ]
    },
    {
      "cell_type": "markdown",
      "metadata": {
        "id": "vz8TGOohTcJ_"
      },
      "source": [
        "One way to mitigate the consequences of an unbalanced dataset during the training process is to penalize the model more when it makes prediction errors on less frequent classes. A way to achieve this is to assign importance weights to examples. Importance weights are the inverse relative frequency of their class within the dataset."
      ]
    },
    {
      "cell_type": "markdown",
      "metadata": {
        "id": "E3iJ_-vWVG9Y"
      },
      "source": [
        "### Exercise 11\n",
        "\n",
        "Compute the importance weights of each label using the label distribution provided in the previous section."
      ]
    },
    {
      "cell_type": "code",
      "metadata": {
        "colab": {
          "base_uri": "https://localhost:8080/"
        },
        "id": "UiS2HFH9IbNe",
        "outputId": "e22ae7a8-c5bb-4170-a9ab-a0a699a93032"
      },
      "source": [
        "label_weights = 1/np.array([l for l in label_distribution.values()]) # To complete.\n",
        "\n",
        "for i, w in enumerate(label_weights):\n",
        "  print('Importance weight for {:<5s} ({}): {:.1f}'.format(classe_names[i], i, w))"
      ],
      "execution_count": 38,
      "outputs": [
        {
          "output_type": "stream",
          "text": [
            "Importance weight for plane (0): 4.3\n",
            "Importance weight for car   (1): 7.1\n",
            "Importance weight for bird  (2): 14.3\n",
            "Importance weight for cat   (3): 100.0\n",
            "Importance weight for deer  (4): 4.3\n",
            "Importance weight for dog   (5): 5.3\n",
            "Importance weight for frog  (6): 50.0\n",
            "Importance weight for horse (7): 100.0\n",
            "Importance weight for ship  (8): 14.3\n",
            "Importance weight for truck (9): 33.3\n"
          ],
          "name": "stdout"
        }
      ]
    },
    {
      "cell_type": "code",
      "metadata": {
        "colab": {
          "base_uri": "https://localhost:8080/"
        },
        "id": "blkldzh6u6IX",
        "outputId": "7a4305c1-7d87-4b6c-bc2e-b13e3de750b7"
      },
      "source": [
        "print([l for l in label_distribution.values()])\n",
        "print(label_weights)"
      ],
      "execution_count": 39,
      "outputs": [
        {
          "output_type": "stream",
          "text": [
            "[0.22999999999999998, 0.14, 0.07, 0.01, 0.22999999999999998, 0.18999999999999997, 0.02, 0.01, 0.07, 0.029999999999999995]\n",
            "[  4.34782609   7.14285714  14.28571429 100.           4.34782609\n",
            "   5.26315789  50.         100.          14.28571429  33.33333333]\n"
          ],
          "name": "stdout"
        }
      ]
    },
    {
      "cell_type": "markdown",
      "metadata": {
        "id": "ntkItzYLVN8I"
      },
      "source": [
        "### Exercise 12\n",
        "\n",
        "Using the importance weights computed above, train a model using the extracted training dataset and evaluate its performance on the original validation dataset. For the sake of fair comparisons, use the same arguments as in the previous exercise:\n",
        "- **epochs**: `15`. DLM : pourquoi pas 20 comme utilisé précédement ?\n",
        "- **batch_size**: `32`.\n",
        "- **metrics**: `{'Accuracy': accuracy, 'F1': f1_score}`.\n",
        "\n",
        "Note that the importance weights can be passed to the training method using the argument `label_weights`.\n",
        "\n",
        "What do you observe?\n"
      ]
    },
    {
      "cell_type": "code",
      "metadata": {
        "colab": {
          "base_uri": "https://localhost:8080/"
        },
        "id": "ACbafl1BGgTw",
        "outputId": "b0d53799-e12c-4cc3-8af3-10a150abd0f7"
      },
      "source": [
        "# training on selected data\n",
        "modelUnbal = training_on_dataset(unbalanced_training_imgs,unbalanced_training_labels,\n",
        "              unbalanced_validation_imgs,unbalanced_validation_labels,\n",
        "              epochs=20,batch_size=32,metrics={'Accuracy': accuracy, 'F1': f1_score}\n",
        "              ,label_weights=label_weights, verbose=False) # To complete.\n",
        "\n",
        "# evaluate on the validation dataset\n",
        "global_acc_weighted, class_acc_weighted = evaluate_classes(\n",
        "        modelUnbal, unbalanced_validation_imgs, unbalanced_validation_labels, batch_size=32,\n",
        "        verbose=True, metrics={'Accuracy': accuracy, 'F1': f1_score}\n",
        "    )# To complete.\n"
      ],
      "execution_count": 40,
      "outputs": [
        {
          "output_type": "stream",
          "text": [
            "Evaluation on the validation dataset:\n",
            "Metric Accuracy: 58%\n",
            "Metric F1: 43%\n",
            "Accuracy of plane (0): 64%\n",
            "Accuracy of car   (1): 73%\n",
            "Accuracy of bird  (2): 31%\n",
            "Accuracy of cat   (3): 7%\n",
            "Accuracy of deer  (4): 58%\n",
            "Accuracy of dog   (5): 61%\n",
            "Accuracy of frog  (6): 42%\n",
            "Accuracy of horse (7): 37%\n",
            "Accuracy of ship  (8): 55%\n",
            "Accuracy of truck (9): 36%\n"
          ],
          "name": "stdout"
        }
      ]
    },
    {
      "cell_type": "code",
      "metadata": {
        "colab": {
          "base_uri": "https://localhost:8080/"
        },
        "id": "QH8RgA77xoQd",
        "outputId": "5ba56224-79cb-4909-8189-e1501fd69c38"
      },
      "source": [
        "#compare\n",
        "for i in range(10):\n",
        "  print('Accuracy of {:<5s} ({}) (relative freq {:.2f}): {:.2f} but with importance weight {:.2f}'.format(classe_names[i], \n",
        "      i, [l for l in label_distribution.values()][i],class_acc[i], class_acc_weighted[i]))"
      ],
      "execution_count": 41,
      "outputs": [
        {
          "output_type": "stream",
          "text": [
            "Accuracy of plane (0) (relative freq 0.23): 0.76 but with importance weight 0.64\n",
            "Accuracy of car   (1) (relative freq 0.14): 0.82 but with importance weight 0.73\n",
            "Accuracy of bird  (2) (relative freq 0.07): 0.18 but with importance weight 0.31\n",
            "Accuracy of cat   (3) (relative freq 0.01): 0.00 but with importance weight 0.07\n",
            "Accuracy of deer  (4) (relative freq 0.23): 0.65 but with importance weight 0.58\n",
            "Accuracy of dog   (5) (relative freq 0.19): 0.76 but with importance weight 0.61\n",
            "Accuracy of frog  (6) (relative freq 0.02): 0.22 but with importance weight 0.42\n",
            "Accuracy of horse (7) (relative freq 0.01): 0.15 but with importance weight 0.37\n",
            "Accuracy of ship  (8) (relative freq 0.07): 0.44 but with importance weight 0.55\n",
            "Accuracy of truck (9) (relative freq 0.03): 0.23 but with importance weight 0.36\n"
          ],
          "name": "stdout"
        }
      ]
    },
    {
      "cell_type": "markdown",
      "metadata": {
        "id": "V5w8vbPPmaV6"
      },
      "source": [
        "... # To complete.\n"
      ]
    },
    {
      "cell_type": "markdown",
      "metadata": {
        "id": "w4QJ0cBCe483"
      },
      "source": [
        "# Reproducibility"
      ]
    },
    {
      "cell_type": "markdown",
      "metadata": {
        "id": "rfk8gF1pG8oo"
      },
      "source": [
        "We have seen that there is randomness in machine learning experiments, precisely when:\n",
        "- splitting an original dataset into training/validation/test sets.\n",
        "- initializing the parameters of a model.\n",
        "- shuffling the training set after each epoch when training the model.\n",
        "\n",
        "Therefore, we usually get different results each time we run the same experiment. It is required to fix the **random seed** at the very beginning of your experiment. Hence, it is best practice to manually set:\n",
        "\n",
        "1. Python pseudorandom number generator at a fixed value:\n",
        "```python\n",
        "import random\n",
        "random.seed(seed_value)\n",
        "```\n",
        "\n",
        "2. NumPy pseudorandom number generator at a fixed value:\n",
        "```python\n",
        "import numpy as np\n",
        "np.random.seed(seed_value)\n",
        "```\n",
        "\n",
        "3. PyTorch pseudorandom number generator at a fixed value for all devices (both CPU and GPU):\n",
        "```python\n",
        "import torch\n",
        "torch.manual_seed(seed_value)\n",
        "```\n",
        "\n",
        "4. PyTorch pseudorandom number generator at a fixed value for the GPU(s):\n",
        "```python\n",
        "import torch\n",
        "torch.cuda.manual_seed(seed_value)  # Current GPU.\n",
        "torch.cuda.manual_seed_all(seed_value)  # All GPUs.\n",
        "```\n",
        "\n",
        "5. CuDNN algorithms (an extension of CUDA for deep learning) to be deterministic in PyTorch:\n",
        "```python\n",
        "import torch\n",
        "torch.backends.cudnn.deterministic = True\n",
        "torch.backends.cudnn.benchmark = False\n",
        "```\n",
        "\n",
        "Note that deterministic algorithms can make computations dramatically slower. This flag should be used only when debugging. \n",
        "\n",
        "While manually fixing random seeds helps reproducibility, completely reproducible results are not guaranteed across PyTorch releases and different platforms, devices, or drivers. You should always verify the results of some test experiments when updating your environment.\n",
        "\n",
        "Furthermore, more randomness comes in when doing hyperparameter tuning or using multiple GPU devices in parallel, but that's beyond the scope of this tutorial.\n",
        "\n",
        "Finally, a good practice, implemented in Scikit-Learn, is to create a local RandomState object instead of using the global RandomState object and to pass it to every module using randomness. However, the Pytorch API does not allow it, and for now, using global RNGs is recommended."
      ]
    },
    {
      "cell_type": "markdown",
      "metadata": {
        "id": "9dsAjNRuL8s0"
      },
      "source": [
        "# My test to simulate production prediction"
      ]
    },
    {
      "cell_type": "code",
      "metadata": {
        "id": "cHc6xKOyMDLF"
      },
      "source": [
        "# select the training data (all training data from previous dataset)\n",
        "train_dlm_imgs, train_dlm_labels = select_subset_from_dataset(\n",
        "    train_imgs, train_labels, ratio=1\n",
        ")\n",
        "\n",
        "# train on the selected data\n",
        "model = training_on_dataset(\n",
        "        train_dlm_imgs, train_dlm_labels, valid_imgs, valid_labels,\n",
        "        epochs=20, batch_size=32,\n",
        "        seed=seed, verbose=False\n",
        "    )"
      ],
      "execution_count": 42,
      "outputs": []
    },
    {
      "cell_type": "code",
      "metadata": {
        "id": "j9TL9V4L4QrF",
        "colab": {
          "base_uri": "https://localhost:8080/",
          "height": 521
        },
        "outputId": "2ba844b9-4032-4fc7-be78-5fb4a1a14724"
      },
      "source": [
        "# take a portion of the test dataset (simulate production dataset)\n",
        "n = 10000 \n",
        "some_images = test_imgs[:n]\n",
        "some_labels = test_labels[:n]\n",
        "\n",
        "plot_dataset_histogram(some_labels)\n",
        "\n",
        "# evaluate on the test dataset\n",
        "_ = evaluate_classes(\n",
        "        model, some_images, some_labels, batch_size=32,\n",
        "        verbose=True,metrics={'Accuracy': accuracy, 'F1': f1_score}\n",
        "    )"
      ],
      "execution_count": 43,
      "outputs": [
        {
          "output_type": "display_data",
          "data": {
            "image/png": "[encoded data removed]",
            "text/plain": [
              "<Figure size 432x288 with 1 Axes>"
            ]
          },
          "metadata": {
            "tags": [],
            "needs_background": "light"
          }
        },
        {
          "output_type": "stream",
          "text": [
            "Evaluation on the validation dataset:\n",
            "Metric Accuracy: 60%\n",
            "Metric F1: 60%\n",
            "Accuracy of plane (0): 69%\n",
            "Accuracy of car   (1): 70%\n",
            "Accuracy of bird  (2): 48%\n",
            "Accuracy of cat   (3): 40%\n",
            "Accuracy of deer  (4): 56%\n",
            "Accuracy of dog   (5): 52%\n",
            "Accuracy of frog  (6): 76%\n",
            "Accuracy of horse (7): 55%\n",
            "Accuracy of ship  (8): 70%\n",
            "Accuracy of truck (9): 64%\n"
          ],
          "name": "stdout"
        }
      ]
    },
    {
      "cell_type": "code",
      "metadata": {
        "id": "gFqBrTwlMJ01"
      },
      "source": [
        "def test_predict(model, test_imgs, test_labels, codage_labels, verbose=True, n=None):\n",
        "  \"\"\"\n",
        "  test of model prediction \n",
        "  on one image randomly selected in the images set provided \n",
        "  \n",
        "  Args:\n",
        "     model: trained model.\n",
        "     test_imgs: set of images\n",
        "     test_labels: set of labels associated to each image\n",
        "     codage_labels: labels names\n",
        "     verbose: flag to output plot and logs\n",
        "\n",
        "  return: \n",
        "    true or false if predicted succed or fail\n",
        "    selected label id\n",
        "    predicted label id\n",
        "  \"\"\"\n",
        "  if n == None:\n",
        "    n = np.random.randint(0,test_imgs.shape[0])\n",
        "\n",
        "  one_image = test_imgs[n:n+1]\n",
        "  one_label = test_labels[n:n+1]\n",
        "  \n",
        "  if verbose == True:\n",
        "    plot_image(one_image[0])\n",
        "    print('real label of image {} = {}'.format(n,codage_labels[str(one_label[0])]))\n",
        "\n",
        "  one_image = ((one_image/255.0) - 0.5) * 2.0 # Normalize to [-1, 1]\n",
        "\n",
        "  x = torch.from_numpy(one_image)\n",
        "  x = x.permute(0, 3, 1, 2)\n",
        "\n",
        "  # Convert to FloatTensor first\n",
        "  x = x.type(torch.FloatTensor)\n",
        "  # Then call cuda() on test_tensor\n",
        "  x = x.cuda()\n",
        "\n",
        "  outputs = model(x)\n",
        "  _, predicted = torch.max(outputs, 1)\n",
        "\n",
        "  if verbose == True:\n",
        "    print('predicted label of image {} = {}'.format(n,codage_labels[str(predicted.tolist()[0])]))\n",
        "\n",
        "  return one_label == predicted.tolist(), one_label[0], predicted.tolist()[0]"
      ],
      "execution_count": 89,
      "outputs": []
    },
    {
      "cell_type": "code",
      "metadata": {
        "id": "BqxoBCpz6aJw",
        "colab": {
          "base_uri": "https://localhost:8080/",
          "height": 318
        },
        "outputId": "d33e771b-8381-4dd6-ffdc-9bf6f7c89a42"
      },
      "source": [
        "test_predict(model, test_imgs, test_labels, codage_labels, verbose=True)"
      ],
      "execution_count": 93,
      "outputs": [
        {
          "output_type": "display_data",
          "data": {
            "image/png": "[encoded data removed]",
            "text/plain": [
              "<Figure size 432x288 with 1 Axes>"
            ]
          },
          "metadata": {
            "tags": [],
            "needs_background": "light"
          }
        },
        {
          "output_type": "stream",
          "text": [
            "real label of image 1182 = automobile\n",
            "predicted label of image 1182 = automobile\n"
          ],
          "name": "stdout"
        },
        {
          "output_type": "execute_result",
          "data": {
            "text/plain": [
              "(True, 1, 1)"
            ]
          },
          "metadata": {
            "tags": []
          },
          "execution_count": 93
        }
      ]
    },
    {
      "cell_type": "code",
      "metadata": {
        "colab": {
          "base_uri": "https://localhost:8080/",
          "height": 318
        },
        "id": "BRfN98fCEO84",
        "outputId": "3b874045-7db4-4ce8-912b-41e601e1256f"
      },
      "source": [
        "test_predict(model, valid_imgs, valid_labels, codage_labels, verbose=True, n=10)"
      ],
      "execution_count": 96,
      "outputs": [
        {
          "output_type": "display_data",
          "data": {
            "image/png": "[encoded data removed]",
            "text/plain": [
              "<Figure size 432x288 with 1 Axes>"
            ]
          },
          "metadata": {
            "tags": [],
            "needs_background": "light"
          }
        },
        {
          "output_type": "stream",
          "text": [
            "real label of image 10 = dog\n",
            "predicted label of image 10 = dog\n"
          ],
          "name": "stdout"
        },
        {
          "output_type": "execute_result",
          "data": {
            "text/plain": [
              "(True, 5, 5)"
            ]
          },
          "metadata": {
            "tags": []
          },
          "execution_count": 96
        }
      ]
    },
    {
      "cell_type": "code",
      "metadata": {
        "id": "t3mB-yH6OdNZ",
        "colab": {
          "base_uri": "https://localhost:8080/",
          "height": 591
        },
        "outputId": "e2fa48e9-5083-4c44-eb1e-ac281143e0a5"
      },
      "source": [
        "seed = 1234\n",
        "np.random.seed(seed) # Set the new random seed\n",
        "\n",
        "count_success = 0\n",
        "selected_labels = np.array([])\n",
        "predicted_labels = np.array([])\n",
        "\n",
        "prod_imgs = unbalanced_validation_imgs#unbalanced_validation_imgs #train_imgs #valid_imgs #test_imgs\n",
        "prod_labels = unbalanced_validation_labels#unbalanced_validation_labels #train_labels #valid_labels #test_labels\n",
        "\n",
        "nb_test = 5000\n",
        "for i in range(1,nb_test):\n",
        "   success, sel, pred = test_predict(model, prod_imgs, prod_labels, codage_labels, verbose=False,n=None)\n",
        "   count_success = count_success + success\n",
        "   selected_labels = np.append(selected_labels, np.array([sel]))\n",
        "   predicted_labels = np.append(predicted_labels, np.array([pred]))\n",
        "\n",
        "ratio_success = count_success/nb_test\n",
        "\n",
        "print('success ratio = ' + str(ratio_success))\n",
        "\n",
        "plot_dataset_histogram(selected_labels, title='Selected Label distribution')\n",
        "plot_dataset_histogram(predicted_labels, title='Predicted Label distribution')\n",
        "\n",
        "seed = 1234\n",
        "np.random.seed(seed) # Set the random at previous val"
      ],
      "execution_count": 105,
      "outputs": [
        {
          "output_type": "stream",
          "text": [
            "success ratio = 0.6128\n"
          ],
          "name": "stdout"
        },
        {
          "output_type": "display_data",
          "data": {
            "image/png": "[encoded data removed]",
            "text/plain": [
              "<Figure size 432x288 with 1 Axes>"
            ]
          },
          "metadata": {
            "tags": [],
            "needs_background": "light"
          }
        },
        {
          "output_type": "display_data",
          "data": {
            "image/png": "[encoded data removed]",
            "text/plain": [
              "<Figure size 432x288 with 1 Axes>"
            ]
          },
          "metadata": {
            "tags": [],
            "needs_background": "light"
          }
        }
      ]
    }
  ]
}