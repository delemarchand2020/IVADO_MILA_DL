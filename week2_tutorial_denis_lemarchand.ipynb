{
  "nbformat": 4,
  "nbformat_minor": 0,
  "metadata": {
    "colab": {
      "name": "week2_tutorial_denis_lemarchand.ipynb",
      "provenance": [],
      "collapsed_sections": [],
      "toc_visible": true,
      "include_colab_link": true
    },
    "language_info": {
      "codemirror_mode": {
        "name": "ipython",
        "version": 3
      },
      "file_extension": ".py",
      "mimetype": "text/x-python",
      "name": "python",
      "nbconvert_exporter": "python",
      "pygments_lexer": "ipython3",
      "version": "3.7.0"
    },
    "kernelspec": {
      "display_name": "Python 3",
      "language": "python",
      "name": "python3"
    },
    "accelerator": "GPU"
  },
  "cells": [
    {
      "cell_type": "markdown",
      "metadata": {
        "id": "view-in-github",
        "colab_type": "text"
      },
      "source": [
        "<a href=\"https://colab.research.google.com/github/delemarchand2020/IVADO_MILA_DL/blob/main/week2_tutorial_denis_lemarchand.ipynb\" target=\"_parent\"><img src=\"https://colab.research.google.com/assets/colab-badge.svg\" alt=\"Open In Colab\"/></a>"
      ]
    },
    {
      "cell_type": "markdown",
      "metadata": {
        "id": "mipSoOVlavkb"
      },
      "source": [
        "# IVADO/MILA DEEP LEARNING SCHOOL\n",
        "# Spring 2021\n",
        "# Tutorial : Categorical data with multilayer perceptron (MLP)\n",
        "\n",
        "## Authors: \n",
        "\n",
        "Arsène Fansi Tchango <arsene.fansi.tchango@mila.quebec>\n",
        "\n",
        "Gaétan Marceau Caron <gaetan.marceau.caron@mila.quebec>"
      ]
    },
    {
      "cell_type": "markdown",
      "metadata": {
        "id": "sLHwvggEZERd"
      },
      "source": [
        "# Preface"
      ]
    },
    {
      "cell_type": "markdown",
      "metadata": {
        "id": "JKNGtQkkohiM"
      },
      "source": [
        "This tutorial introduces the practical aspects of Deep Learning through the realization of a simple end-to-end project. We will use the deep learning library <a href=\"https://pytorch.org/\"> `PyTorch`</a>, which is well-known for its ease of use."
      ]
    },
    {
      "cell_type": "markdown",
      "metadata": {
        "id": "Tu9DZNmYpePz"
      },
      "source": [
        "# Initialization"
      ]
    },
    {
      "cell_type": "markdown",
      "metadata": {
        "id": "iWCNdeTIpkCa"
      },
      "source": [
        "Before we begin, we must install all the required libraries for this part of the tutorial. To do so, we will use the `pip` utility. Execute the cell below by selecting it and pressing `shift`+`Enter`. (This operation may take a few minutes.)\n",
        "\n",
        "We need to be using the latest version of `pillow` for this tutorial. If you are prompted with:\n",
        "\n",
        "> WARNING: The following packages were previously imported in this runtime:\n",
        "  [PIL]\n",
        "You must restart the runtime in order to use newly installed versions.\n",
        "\n",
        "Then click on restart runtime and rerun the cells afterwards."
      ]
    },
    {
      "cell_type": "code",
      "metadata": {
        "id": "9g_0k-_Eppi-",
        "colab": {
          "base_uri": "https://localhost:8080/"
        },
        "outputId": "e4cd0755-e470-4be1-c4c7-43f24d628f2d"
      },
      "source": [
        "!pip3 install torch torchvision matplotlib\n",
        "!pip3 install --upgrade pillow==8.1.0"
      ],
      "execution_count": 1,
      "outputs": [
        {
          "output_type": "stream",
          "text": [
            "Requirement already satisfied: torch in /usr/local/lib/python3.7/dist-packages (1.8.1+cu101)\n",
            "Requirement already satisfied: torchvision in /usr/local/lib/python3.7/dist-packages (0.9.1+cu101)\n",
            "Requirement already satisfied: matplotlib in /usr/local/lib/python3.7/dist-packages (3.2.2)\n",
            "Requirement already satisfied: typing-extensions in /usr/local/lib/python3.7/dist-packages (from torch) (3.7.4.3)\n",
            "Requirement already satisfied: numpy in /usr/local/lib/python3.7/dist-packages (from torch) (1.19.5)\n",
            "Requirement already satisfied: pillow>=4.1.1 in /usr/local/lib/python3.7/dist-packages (from torchvision) (8.1.0)\n",
            "Requirement already satisfied: python-dateutil>=2.1 in /usr/local/lib/python3.7/dist-packages (from matplotlib) (2.8.1)\n",
            "Requirement already satisfied: kiwisolver>=1.0.1 in /usr/local/lib/python3.7/dist-packages (from matplotlib) (1.3.1)\n",
            "Requirement already satisfied: cycler>=0.10 in /usr/local/lib/python3.7/dist-packages (from matplotlib) (0.10.0)\n",
            "Requirement already satisfied: pyparsing!=2.0.4,!=2.1.2,!=2.1.6,>=2.0.1 in /usr/local/lib/python3.7/dist-packages (from matplotlib) (2.4.7)\n",
            "Requirement already satisfied: six>=1.5 in /usr/local/lib/python3.7/dist-packages (from python-dateutil>=2.1->matplotlib) (1.15.0)\n",
            "Requirement already up-to-date: pillow==8.1.0 in /usr/local/lib/python3.7/dist-packages (8.1.0)\n"
          ],
          "name": "stdout"
        }
      ]
    },
    {
      "cell_type": "markdown",
      "metadata": {
        "id": "VKufekB4FnqN"
      },
      "source": [
        "To ensure that all required libraries are available, let's try to load all libraries and modules we will need during this tutorial by executing this cell: "
      ]
    },
    {
      "cell_type": "code",
      "metadata": {
        "id": "loLQlRg3sV-r"
      },
      "source": [
        "import importlib\n",
        "required_libraries = ['torch', 'torchvision', 'PIL', 'matplotlib', \n",
        "                      'numpy', 'pandas']\n",
        "for lib in required_libraries:\n",
        "    if importlib.util.find_spec(lib) is None:\n",
        "        print(\"%s unavailable\" % lib)\n",
        "\n",
        "import matplotlib.pyplot as plt\n",
        "%matplotlib inline"
      ],
      "execution_count": 2,
      "outputs": []
    },
    {
      "cell_type": "code",
      "metadata": {
        "id": "FeLUcnk5scNx",
        "colab": {
          "base_uri": "https://localhost:8080/"
        },
        "outputId": "fb864bb3-1ddb-471f-99c7-d5e87f172306"
      },
      "source": [
        "import torch\n",
        "import numpy as np\n",
        "import pandas as pd\n",
        "import torch.nn as nn\n",
        "import torch.nn.functional as F\n",
        "import torch.optim as optim\n",
        "import torchvision\n",
        "\n",
        "from torch.utils.data import TensorDataset\n",
        "\n",
        "use_gpu = torch.cuda.is_available()\n",
        "device = torch.device(\"cuda:0\" if use_gpu else \"cpu\")\n",
        "\n",
        "print(\"Torch version: \", torch.__version__)\n",
        "print(\"GPU Available: {}\".format(use_gpu))"
      ],
      "execution_count": 3,
      "outputs": [
        {
          "output_type": "stream",
          "text": [
            "Torch version:  1.8.1+cu101\n",
            "GPU Available: True\n"
          ],
          "name": "stdout"
        }
      ]
    },
    {
      "cell_type": "markdown",
      "metadata": {
        "id": "xc9wc4qq7qob"
      },
      "source": [
        "Fix the seed for the different libraries"
      ]
    },
    {
      "cell_type": "code",
      "metadata": {
        "id": "05jTJ12r7msf"
      },
      "source": [
        "seed = 4321\n",
        "np.random.seed(seed) # Set the random seed of numpy for the data split.\n",
        "torch.manual_seed(seed)\n",
        "torch.cuda.manual_seed(seed)"
      ],
      "execution_count": 4,
      "outputs": []
    },
    {
      "cell_type": "markdown",
      "metadata": {
        "id": "ZKzgFV9Favkt"
      },
      "source": [
        "# PyTorch in a nutshell"
      ]
    },
    {
      "cell_type": "markdown",
      "metadata": {
        "id": "Vrus_-F0avkt"
      },
      "source": [
        "*PyTorch* is a Python library that supports a vibrant ecosystem of tools and libraries for machine learning (ML) in vision, NLP, and more. It provides two high-level features:\n",
        "<ul>\n",
        "<li> operations on <a href=\"https://pytorch.org/tutorials/beginner/blitz/tensor_tutorial.html#sphx-glr-beginner-blitz-tensor-tutorial-py\">tensors</a> (such as NumPy) with GPU support,</li>\n",
        "<li> operations for creating and optimizing computational graphs with an automatic differentiation system called <a href=\"https://pytorch.org/tutorials/beginner/blitz/autograd_tutorial.html#sphx-glr-beginner-blitz-autograd-tutorial-py\">Autograd</a>.</li>\n",
        "</ul>\n",
        "\n",
        "<a href=\"https://pytorch.org/docs/stable/torch.html\">PyTorch docs</a> contain the API documentation and <a href=\"https://pytorch.org/tutorials/\">many tutorials</a>.\n",
        "Also, PyTorch offers several data processing utilities. One of these utilities is the class <a href=\"http://pytorch.org/docs/master/data.html#\"> `torch.utils.data.Dataset`</a> which offers an easy to use interface to handle a data set. For more information, please refer to the following urls: \n",
        "<ul>\n",
        "<li>PyTorch data sets: <a href=\"http://pytorch.org/docs/master/data.html\"> PyTorch - datasets</a>.</li>\n",
        "<li>A tutorial for loading data: <a href=\"http://pytorch.org/tutorials/beginner/data_loading_tutorial.html\"> PyTorch - data loading tutorial</a>.</li>\n",
        "</ul>\n",
        "\n",
        "<a href=\"http://pytorch.org/docs/master/cuda.html#module-torch.cuda\">`torch.cuda`</a> is a package that provides the same functions as CPU tensors but for  CUDA tensors, which are used for GPU computing. <a href=\"http://pytorch.org/docs/master/cuda.html#torch.cuda.is_available\">`torch.cuda.is_available()`</a> returns a boolean indicating if CUDA is currently available. Finally, we recommend using a `device` variable that identifies the device that will perform computations. We can assign a tensor to a device with the method `.to(device)`. By default, the tensors are CPU tensors."
      ]
    },
    {
      "cell_type": "markdown",
      "metadata": {
        "id": "Qm122vNmq92L"
      },
      "source": [
        "# Ingredients for a proof of concept (POC)"
      ]
    },
    {
      "cell_type": "markdown",
      "metadata": {
        "id": "nqvhR0ebavmE"
      },
      "source": [
        "To realize a ML POC, you need:\n",
        "<ul>\n",
        "<li>a task description as well as data to support it,</li>\n",
        "<li>evaluation metrics to assess the performance of models,</li>\n",
        "<li>a model description,</li>\n",
        "<li>a loss function to minimize,</li>\n",
        "<li>an optimizer that adjusts the parameters of the model.</li>\n",
        "</ul>"
      ]
    },
    {
      "cell_type": "markdown",
      "metadata": {
        "id": "Y8_pfpu2f6AO"
      },
      "source": [
        "# How to prepare the dataset?"
      ]
    },
    {
      "cell_type": "markdown",
      "metadata": {
        "id": "B5piZxYUhSzq"
      },
      "source": [
        "In this tutorial, we study the tragedy of the Titanic through a data-driven approach. Our task is to determine whether or not a passenger survived the Titanic sinking based on passenger data only. The results will show how the passengers' fate was pre-determined by the features selected in this study, without considering other factors."
      ]
    },
    {
      "cell_type": "markdown",
      "metadata": {
        "id": "y4GuYNDFavlU"
      },
      "source": [
        "## Titanic dataset"
      ]
    },
    {
      "cell_type": "markdown",
      "metadata": {
        "id": "NiOJx2ytavlU"
      },
      "source": [
        "First, we download the Titanic dataset from the following address:\n",
        "<br/>\n",
        "https://github.com/afansi/winterschool18/blob/master/titanic3.csv?raw=true.<br/>\n",
        "This dataset provides information on the fate of 1309 passengers of the first and only journey of the liner RMS Titanic, summarized by economic status (class), gender, age, family information, and survival. We use this dataset because we can train models very quickly for the purpose of this tutorial. The Kaggle platform also uses this dataset as an introduction to classical machine learning. <br/>\n",
        "\n",
        "Let's take a look at the features and some examples from this dataset. To do so, we use the library <a href=\"https://pandas.pydata.org/\">Pandas</a> to load the dataset into memory."
      ]
    },
    {
      "cell_type": "code",
      "metadata": {
        "id": "bX_RSiffavlW",
        "colab": {
          "base_uri": "https://localhost:8080/",
          "height": 534
        },
        "outputId": "aed1ecfb-e35c-42c5-8c96-eae932bd9bf7"
      },
      "source": [
        "titanic_df = pd.read_csv(\n",
        "    'https://github.com/afansi/winterschool18/blob/master/titanic3.csv?raw=true', \n",
        "    sep='\\t', \n",
        "    index_col=None, \n",
        "    na_values=['NA']\n",
        ")\n",
        "\n",
        "# a snapshot of the first 5 data points\n",
        "titanic_df.head()\n",
        "\n"
      ],
      "execution_count": 5,
      "outputs": [
        {
          "output_type": "execute_result",
          "data": {
            "text/html": [
              "<div>\n",
              "<style scoped>\n",
              "    .dataframe tbody tr th:only-of-type {\n",
              "        vertical-align: middle;\n",
              "    }\n",
              "\n",
              "    .dataframe tbody tr th {\n",
              "        vertical-align: top;\n",
              "    }\n",
              "\n",
              "    .dataframe thead th {\n",
              "        text-align: right;\n",
              "    }\n",
              "</style>\n",
              "<table border=\"1\" class=\"dataframe\">\n",
              "  <thead>\n",
              "    <tr style=\"text-align: right;\">\n",
              "      <th></th>\n",
              "      <th>pclass</th>\n",
              "      <th>survived</th>\n",
              "      <th>name</th>\n",
              "      <th>sex</th>\n",
              "      <th>age</th>\n",
              "      <th>sibsp</th>\n",
              "      <th>parch</th>\n",
              "      <th>ticket</th>\n",
              "      <th>fare</th>\n",
              "      <th>cabin</th>\n",
              "      <th>embarked</th>\n",
              "      <th>boat</th>\n",
              "      <th>body</th>\n",
              "      <th>home.dest</th>\n",
              "    </tr>\n",
              "  </thead>\n",
              "  <tbody>\n",
              "    <tr>\n",
              "      <th>0</th>\n",
              "      <td>1</td>\n",
              "      <td>1</td>\n",
              "      <td>Allen, Miss. Elisabeth Walton</td>\n",
              "      <td>female</td>\n",
              "      <td>29.0000</td>\n",
              "      <td>0</td>\n",
              "      <td>0</td>\n",
              "      <td>24160</td>\n",
              "      <td>211.3375</td>\n",
              "      <td>B5</td>\n",
              "      <td>S</td>\n",
              "      <td>2</td>\n",
              "      <td>NaN</td>\n",
              "      <td>St Louis, MO</td>\n",
              "    </tr>\n",
              "    <tr>\n",
              "      <th>1</th>\n",
              "      <td>1</td>\n",
              "      <td>1</td>\n",
              "      <td>Allison, Master. Hudson Trevor</td>\n",
              "      <td>male</td>\n",
              "      <td>0.9167</td>\n",
              "      <td>1</td>\n",
              "      <td>2</td>\n",
              "      <td>113781</td>\n",
              "      <td>151.5500</td>\n",
              "      <td>C22 C26</td>\n",
              "      <td>S</td>\n",
              "      <td>11</td>\n",
              "      <td>NaN</td>\n",
              "      <td>Montreal, PQ / Chesterville, ON</td>\n",
              "    </tr>\n",
              "    <tr>\n",
              "      <th>2</th>\n",
              "      <td>1</td>\n",
              "      <td>0</td>\n",
              "      <td>Allison, Miss. Helen Loraine</td>\n",
              "      <td>female</td>\n",
              "      <td>2.0000</td>\n",
              "      <td>1</td>\n",
              "      <td>2</td>\n",
              "      <td>113781</td>\n",
              "      <td>151.5500</td>\n",
              "      <td>C22 C26</td>\n",
              "      <td>S</td>\n",
              "      <td>NaN</td>\n",
              "      <td>NaN</td>\n",
              "      <td>Montreal, PQ / Chesterville, ON</td>\n",
              "    </tr>\n",
              "    <tr>\n",
              "      <th>3</th>\n",
              "      <td>1</td>\n",
              "      <td>0</td>\n",
              "      <td>Allison, Mr. Hudson Joshua Creighton</td>\n",
              "      <td>male</td>\n",
              "      <td>30.0000</td>\n",
              "      <td>1</td>\n",
              "      <td>2</td>\n",
              "      <td>113781</td>\n",
              "      <td>151.5500</td>\n",
              "      <td>C22 C26</td>\n",
              "      <td>S</td>\n",
              "      <td>NaN</td>\n",
              "      <td>135.0</td>\n",
              "      <td>Montreal, PQ / Chesterville, ON</td>\n",
              "    </tr>\n",
              "    <tr>\n",
              "      <th>4</th>\n",
              "      <td>1</td>\n",
              "      <td>0</td>\n",
              "      <td>Allison, Mrs. Hudson J C (Bessie Waldo Daniels)</td>\n",
              "      <td>female</td>\n",
              "      <td>25.0000</td>\n",
              "      <td>1</td>\n",
              "      <td>2</td>\n",
              "      <td>113781</td>\n",
              "      <td>151.5500</td>\n",
              "      <td>C22 C26</td>\n",
              "      <td>S</td>\n",
              "      <td>NaN</td>\n",
              "      <td>NaN</td>\n",
              "      <td>Montreal, PQ / Chesterville, ON</td>\n",
              "    </tr>\n",
              "  </tbody>\n",
              "</table>\n",
              "</div>"
            ],
            "text/plain": [
              "   pclass  survived  ...   body                        home.dest\n",
              "0       1         1  ...    NaN                     St Louis, MO\n",
              "1       1         1  ...    NaN  Montreal, PQ / Chesterville, ON\n",
              "2       1         0  ...    NaN  Montreal, PQ / Chesterville, ON\n",
              "3       1         0  ...  135.0  Montreal, PQ / Chesterville, ON\n",
              "4       1         0  ...    NaN  Montreal, PQ / Chesterville, ON\n",
              "\n",
              "[5 rows x 14 columns]"
            ]
          },
          "metadata": {
            "tags": []
          },
          "execution_count": 5
        }
      ]
    },
    {
      "cell_type": "markdown",
      "metadata": {
        "id": "yj88WmCmavlf"
      },
      "source": [
        "Here's the list of the features with their description:\n",
        "\n",
        "<ol>\n",
        "\n",
        "  <li> <b>pclass</b>: Passenger class (1 = first; 2 = second; 3 = third) </li>\n",
        "  <li> <b>survived</b>: Survived? (0 = no; 1 = yes) </li>\n",
        "  <li> <b>name</b>: Name </li>\n",
        "  <li> <b>sex</b>: Sex </li>\n",
        "  <li> <b>age</b>: Age </li>\n",
        "  <li> <b>sibsp</b>: Number of brothers, sisters, or spouses onboard </li>\n",
        "  <li> <b>parch</b>: Number of parents or children onboard </li>\n",
        "  <li> <b>ticket</b>: Ticket number </li>\n",
        "  <li> <b>fare</b>: Passenger fare </li>\n",
        "  <li> <b>cabin</b>: Cabin number </li>\n",
        "  <li> <b>embarked</b>: Port of embarkation (C = Cherbourg; Q = Queenstown; S = Southampton) </li>\n",
        "  <li> <b>boat</b>: Lifeboat (if the passenger survived, otherwise the value is Not a Number (NaN) </li>\n",
        "  <li> <b>body</b>: Body number (if the passenger did not survive and his body was found, otherwise the value is NaN) </li>\n",
        "  <li> <b>home.dest</b>: the passenger's destination </li>\n",
        " </ol>\n"
      ]
    },
    {
      "cell_type": "markdown",
      "metadata": {
        "id": "u2ed5fozqjce"
      },
      "source": [
        "## Data pre-processing"
      ]
    },
    {
      "cell_type": "markdown",
      "metadata": {
        "id": "__vcZhPnavlg"
      },
      "source": [
        "### Feature selection\n",
        "Some features are not relevant to the task, for example:\n",
        "<ol>\n",
        "  <li> <b>name</b>: Name </li>\n",
        "  <li> <b>ticket</b>: Ticket number </li>\n",
        "  <li> <b>cabin</b>: Cabin number </li>\n",
        "  <li> <b>home.dest</b>: Passenger's destination </li>\n",
        " </ol>\n",
        " \n",
        "Other features are directly related to the passenger survival and are not interesting for our study because they give away the label to be predicted:\n",
        "<ol>\n",
        "  <li> <b>boat</b>: Lifeboat (if the passenger survived) </li>\n",
        "  <li> <b>body</b>: Body number (if the passenger did not survive and his body was found) </li>\n",
        " </ol>"
      ]
    },
    {
      "cell_type": "code",
      "metadata": {
        "id": "uoD8x0dXofmj"
      },
      "source": [
        "titanic_df.drop(['name', 'ticket', 'cabin', 'home.dest', 'boat', 'body'], axis=1, inplace=True)"
      ],
      "execution_count": 6,
      "outputs": []
    },
    {
      "cell_type": "markdown",
      "metadata": {
        "id": "4PW_IWwqwdHq"
      },
      "source": [
        "### Handling missing values\n",
        "\n",
        "Handling missing values in datasets is difficult since examples with missing values can be informative for subgroups. Suppose that features associated with third-class tickets have many missing values compared to first-class tickets. Removing all examples with missing values will introduce a bias in the dataset and could completely change the correlations between features and the probability of survival. Another approach is to impute missing values by replacing them with simples statistics such as the mean or the median of the feature. Other imputing techniques use the other features to predict the missing values, which is very close to a ML task. See Scikit-learn reference for more details ([Imputation of missing values](https://www.google.com/url?q=https://scikit-learn.org/stable/modules/impute.html&sa=D&source=editors&ust=1617044175668000&usg=AFQjCNHxRm4BcLBrZEPzW7i3C_PJ7oAuPQ)). Thus, handling missing values should be done carefully and often depend on the dataset and domain knowledge. In the following, we discard all examples with missing values, but since it is a substantial number of examples, we are probably introducing a bias in the dataset. To avoid such bias, one can re-annotate the data manually."
      ]
    },
    {
      "cell_type": "code",
      "metadata": {
        "id": "X8YKDg69wjb_",
        "colab": {
          "base_uri": "https://localhost:8080/"
        },
        "outputId": "e572cd1e-89d2-4ed8-f975-4047e2c8287a"
      },
      "source": [
        "n_examples = len(titanic_df)\n",
        "titanic_df = titanic_df.dropna(axis=0, how='any').reset_index(drop=True)\n",
        "print(f'We removed {n_examples-len(titanic_df)} examples over {n_examples} containing missing values.')"
      ],
      "execution_count": 7,
      "outputs": [
        {
          "output_type": "stream",
          "text": [
            "We removed 266 examples over 1309 containing missing values.\n"
          ],
          "name": "stdout"
        }
      ]
    },
    {
      "cell_type": "markdown",
      "metadata": {
        "id": "4MckYm0M_xhR"
      },
      "source": [
        "### Feature encoding\n",
        " \n",
        "Some features are **categorical variables**, which means that they can take a finite number of values.\n",
        " <ol>\n",
        "  <li> <b>pclass</b>: Passenger Class </li>\n",
        "  <li> <b>sex</b>: Sex </li>\n",
        "  <li> <b>embarked</b>: Port of embarkation </li>\n",
        " </ol>\n",
        "\n",
        "To process categorical variables, we need to encode them in a way that does not imply an arbitrary order such as using natural numbers (e.g., 1, 2, 3). <a href=\"https://en.wikipedia.org/wiki/One-hot#Machine_learning_and_statistics\">One-hot encoding</a> is a way to achieve it. To use this encoding, we can simply call the function `get_dummies` in Pandas. The meaning of the encoded variables is as follows:\n",
        "\n",
        "<ol>\n",
        "  <li> <b>survived</b>: Survived? (0 = no; 1 = yes) </li>\n",
        "  <li> <b>pclass_1</b>: (1 if passenger in first class; 0 if not) </li>\n",
        "  <li> <b>pclass_2</b>: (1 if passenger in second class; 0 if not) </li>\n",
        "  <li> <b>pclass_3</b>: (1 if passenger in third class; 0 if not) </li>\n",
        "  <li> <b>sex_female</b>: (1 if passenger is female; 0 if not) </li>\n",
        "  <li> <b>sex_male</b>: (1 if passenger is male; 0 if not) </li>\n",
        "  <li> <b>age</b>: Age </li>\n",
        "  <li> <b>sibsp</b>: Number of brothers, sisters, or spouses onboard </li>\n",
        "  <li> <b>parch</b>: Number of parents or children onboard </li>\n",
        "  <li> <b>fare</b>: Passenger fare </li>\n",
        "  <li> <b>embarked_C</b>: (1 if Port of embarkation = Cherbourg (C); 0 otherwise) </li> \n",
        "  <li> <b>embarked_Q</b>: (1 if Port of embarkation = Queenstown (Q); 0 otherwise) </li> \n",
        "  <li> <b>embarked_S</b>: (1 if Port of embarkation = Southampton (S); 0 otherwise)</li> \n",
        " </ol>"
      ]
    },
    {
      "cell_type": "code",
      "metadata": {
        "id": "G7bFJc5X_qjx",
        "colab": {
          "base_uri": "https://localhost:8080/",
          "height": 222
        },
        "outputId": "21d0fb62-e04b-40e1-9d9f-b1fd3347acfb"
      },
      "source": [
        "titanic_preprocess_df = pd.get_dummies(data=titanic_df, columns=['pclass', 'sex', 'embarked'])\n",
        "titanic_preprocess_df.head()"
      ],
      "execution_count": 8,
      "outputs": [
        {
          "output_type": "execute_result",
          "data": {
            "text/html": [
              "<div>\n",
              "<style scoped>\n",
              "    .dataframe tbody tr th:only-of-type {\n",
              "        vertical-align: middle;\n",
              "    }\n",
              "\n",
              "    .dataframe tbody tr th {\n",
              "        vertical-align: top;\n",
              "    }\n",
              "\n",
              "    .dataframe thead th {\n",
              "        text-align: right;\n",
              "    }\n",
              "</style>\n",
              "<table border=\"1\" class=\"dataframe\">\n",
              "  <thead>\n",
              "    <tr style=\"text-align: right;\">\n",
              "      <th></th>\n",
              "      <th>survived</th>\n",
              "      <th>age</th>\n",
              "      <th>sibsp</th>\n",
              "      <th>parch</th>\n",
              "      <th>fare</th>\n",
              "      <th>pclass_1</th>\n",
              "      <th>pclass_2</th>\n",
              "      <th>pclass_3</th>\n",
              "      <th>sex_female</th>\n",
              "      <th>sex_male</th>\n",
              "      <th>embarked_C</th>\n",
              "      <th>embarked_Q</th>\n",
              "      <th>embarked_S</th>\n",
              "    </tr>\n",
              "  </thead>\n",
              "  <tbody>\n",
              "    <tr>\n",
              "      <th>0</th>\n",
              "      <td>1</td>\n",
              "      <td>29.0000</td>\n",
              "      <td>0</td>\n",
              "      <td>0</td>\n",
              "      <td>211.3375</td>\n",
              "      <td>1</td>\n",
              "      <td>0</td>\n",
              "      <td>0</td>\n",
              "      <td>1</td>\n",
              "      <td>0</td>\n",
              "      <td>0</td>\n",
              "      <td>0</td>\n",
              "      <td>1</td>\n",
              "    </tr>\n",
              "    <tr>\n",
              "      <th>1</th>\n",
              "      <td>1</td>\n",
              "      <td>0.9167</td>\n",
              "      <td>1</td>\n",
              "      <td>2</td>\n",
              "      <td>151.5500</td>\n",
              "      <td>1</td>\n",
              "      <td>0</td>\n",
              "      <td>0</td>\n",
              "      <td>0</td>\n",
              "      <td>1</td>\n",
              "      <td>0</td>\n",
              "      <td>0</td>\n",
              "      <td>1</td>\n",
              "    </tr>\n",
              "    <tr>\n",
              "      <th>2</th>\n",
              "      <td>0</td>\n",
              "      <td>2.0000</td>\n",
              "      <td>1</td>\n",
              "      <td>2</td>\n",
              "      <td>151.5500</td>\n",
              "      <td>1</td>\n",
              "      <td>0</td>\n",
              "      <td>0</td>\n",
              "      <td>1</td>\n",
              "      <td>0</td>\n",
              "      <td>0</td>\n",
              "      <td>0</td>\n",
              "      <td>1</td>\n",
              "    </tr>\n",
              "    <tr>\n",
              "      <th>3</th>\n",
              "      <td>0</td>\n",
              "      <td>30.0000</td>\n",
              "      <td>1</td>\n",
              "      <td>2</td>\n",
              "      <td>151.5500</td>\n",
              "      <td>1</td>\n",
              "      <td>0</td>\n",
              "      <td>0</td>\n",
              "      <td>0</td>\n",
              "      <td>1</td>\n",
              "      <td>0</td>\n",
              "      <td>0</td>\n",
              "      <td>1</td>\n",
              "    </tr>\n",
              "    <tr>\n",
              "      <th>4</th>\n",
              "      <td>0</td>\n",
              "      <td>25.0000</td>\n",
              "      <td>1</td>\n",
              "      <td>2</td>\n",
              "      <td>151.5500</td>\n",
              "      <td>1</td>\n",
              "      <td>0</td>\n",
              "      <td>0</td>\n",
              "      <td>1</td>\n",
              "      <td>0</td>\n",
              "      <td>0</td>\n",
              "      <td>0</td>\n",
              "      <td>1</td>\n",
              "    </tr>\n",
              "  </tbody>\n",
              "</table>\n",
              "</div>"
            ],
            "text/plain": [
              "   survived      age  sibsp  ...  embarked_C  embarked_Q  embarked_S\n",
              "0         1  29.0000      0  ...           0           0           1\n",
              "1         1   0.9167      1  ...           0           0           1\n",
              "2         0   2.0000      1  ...           0           0           1\n",
              "3         0  30.0000      1  ...           0           0           1\n",
              "4         0  25.0000      1  ...           0           0           1\n",
              "\n",
              "[5 rows x 13 columns]"
            ]
          },
          "metadata": {
            "tags": []
          },
          "execution_count": 8
        }
      ]
    },
    {
      "cell_type": "markdown",
      "metadata": {
        "id": "zeBNt5EW6tm9"
      },
      "source": [
        "Now, we can check if all examples have a one-hot encoding for their categorical variables."
      ]
    },
    {
      "cell_type": "code",
      "metadata": {
        "id": "4RjZZEokvJ3e",
        "colab": {
          "base_uri": "https://localhost:8080/",
          "height": 69
        },
        "outputId": "2ecac6fa-e8d9-485c-95a2-a0a1fb58f81c"
      },
      "source": [
        "titanic_preprocess_df.loc[titanic_preprocess_df[['sex_male','sex_female']].sum(axis=1) != 1]"
      ],
      "execution_count": 9,
      "outputs": [
        {
          "output_type": "execute_result",
          "data": {
            "text/html": [
              "<div>\n",
              "<style scoped>\n",
              "    .dataframe tbody tr th:only-of-type {\n",
              "        vertical-align: middle;\n",
              "    }\n",
              "\n",
              "    .dataframe tbody tr th {\n",
              "        vertical-align: top;\n",
              "    }\n",
              "\n",
              "    .dataframe thead th {\n",
              "        text-align: right;\n",
              "    }\n",
              "</style>\n",
              "<table border=\"1\" class=\"dataframe\">\n",
              "  <thead>\n",
              "    <tr style=\"text-align: right;\">\n",
              "      <th></th>\n",
              "      <th>survived</th>\n",
              "      <th>age</th>\n",
              "      <th>sibsp</th>\n",
              "      <th>parch</th>\n",
              "      <th>fare</th>\n",
              "      <th>pclass_1</th>\n",
              "      <th>pclass_2</th>\n",
              "      <th>pclass_3</th>\n",
              "      <th>sex_female</th>\n",
              "      <th>sex_male</th>\n",
              "      <th>embarked_C</th>\n",
              "      <th>embarked_Q</th>\n",
              "      <th>embarked_S</th>\n",
              "    </tr>\n",
              "  </thead>\n",
              "  <tbody>\n",
              "  </tbody>\n",
              "</table>\n",
              "</div>"
            ],
            "text/plain": [
              "Empty DataFrame\n",
              "Columns: [survived, age, sibsp, parch, fare, pclass_1, pclass_2, pclass_3, sex_female, sex_male, embarked_C, embarked_Q, embarked_S]\n",
              "Index: []"
            ]
          },
          "metadata": {
            "tags": []
          },
          "execution_count": 9
        }
      ]
    },
    {
      "cell_type": "code",
      "metadata": {
        "id": "Z3yueVPfvEhI",
        "colab": {
          "base_uri": "https://localhost:8080/",
          "height": 69
        },
        "outputId": "5c4b3c21-effe-4c72-ad35-66eff2c36a97"
      },
      "source": [
        "titanic_preprocess_df.loc[titanic_preprocess_df[['pclass_1','pclass_2', 'pclass_3']].sum(axis=1) != 1]"
      ],
      "execution_count": 10,
      "outputs": [
        {
          "output_type": "execute_result",
          "data": {
            "text/html": [
              "<div>\n",
              "<style scoped>\n",
              "    .dataframe tbody tr th:only-of-type {\n",
              "        vertical-align: middle;\n",
              "    }\n",
              "\n",
              "    .dataframe tbody tr th {\n",
              "        vertical-align: top;\n",
              "    }\n",
              "\n",
              "    .dataframe thead th {\n",
              "        text-align: right;\n",
              "    }\n",
              "</style>\n",
              "<table border=\"1\" class=\"dataframe\">\n",
              "  <thead>\n",
              "    <tr style=\"text-align: right;\">\n",
              "      <th></th>\n",
              "      <th>survived</th>\n",
              "      <th>age</th>\n",
              "      <th>sibsp</th>\n",
              "      <th>parch</th>\n",
              "      <th>fare</th>\n",
              "      <th>pclass_1</th>\n",
              "      <th>pclass_2</th>\n",
              "      <th>pclass_3</th>\n",
              "      <th>sex_female</th>\n",
              "      <th>sex_male</th>\n",
              "      <th>embarked_C</th>\n",
              "      <th>embarked_Q</th>\n",
              "      <th>embarked_S</th>\n",
              "    </tr>\n",
              "  </thead>\n",
              "  <tbody>\n",
              "  </tbody>\n",
              "</table>\n",
              "</div>"
            ],
            "text/plain": [
              "Empty DataFrame\n",
              "Columns: [survived, age, sibsp, parch, fare, pclass_1, pclass_2, pclass_3, sex_female, sex_male, embarked_C, embarked_Q, embarked_S]\n",
              "Index: []"
            ]
          },
          "metadata": {
            "tags": []
          },
          "execution_count": 10
        }
      ]
    },
    {
      "cell_type": "code",
      "metadata": {
        "id": "r4No15nhu8Hi",
        "colab": {
          "base_uri": "https://localhost:8080/",
          "height": 69
        },
        "outputId": "1bc721c7-6bc8-47f6-aeea-5faa4a4a62db"
      },
      "source": [
        "titanic_preprocess_df.loc[titanic_preprocess_df[['embarked_C','embarked_Q', 'embarked_S']].sum(axis=1) != 1]"
      ],
      "execution_count": 11,
      "outputs": [
        {
          "output_type": "execute_result",
          "data": {
            "text/html": [
              "<div>\n",
              "<style scoped>\n",
              "    .dataframe tbody tr th:only-of-type {\n",
              "        vertical-align: middle;\n",
              "    }\n",
              "\n",
              "    .dataframe tbody tr th {\n",
              "        vertical-align: top;\n",
              "    }\n",
              "\n",
              "    .dataframe thead th {\n",
              "        text-align: right;\n",
              "    }\n",
              "</style>\n",
              "<table border=\"1\" class=\"dataframe\">\n",
              "  <thead>\n",
              "    <tr style=\"text-align: right;\">\n",
              "      <th></th>\n",
              "      <th>survived</th>\n",
              "      <th>age</th>\n",
              "      <th>sibsp</th>\n",
              "      <th>parch</th>\n",
              "      <th>fare</th>\n",
              "      <th>pclass_1</th>\n",
              "      <th>pclass_2</th>\n",
              "      <th>pclass_3</th>\n",
              "      <th>sex_female</th>\n",
              "      <th>sex_male</th>\n",
              "      <th>embarked_C</th>\n",
              "      <th>embarked_Q</th>\n",
              "      <th>embarked_S</th>\n",
              "    </tr>\n",
              "  </thead>\n",
              "  <tbody>\n",
              "  </tbody>\n",
              "</table>\n",
              "</div>"
            ],
            "text/plain": [
              "Empty DataFrame\n",
              "Columns: [survived, age, sibsp, parch, fare, pclass_1, pclass_2, pclass_3, sex_female, sex_male, embarked_C, embarked_Q, embarked_S]\n",
              "Index: []"
            ]
          },
          "metadata": {
            "tags": []
          },
          "execution_count": 11
        }
      ]
    },
    {
      "cell_type": "markdown",
      "metadata": {
        "id": "n4a-35Xa66Tj"
      },
      "source": [
        "Since there are only two examples with no port of embarkation, we decide to discard them."
      ]
    },
    {
      "cell_type": "code",
      "metadata": {
        "colab": {
          "base_uri": "https://localhost:8080/"
        },
        "id": "wODe7zbglC1I",
        "outputId": "4d337f4b-c0fd-4a94-e0bc-e3c1d9d807bd"
      },
      "source": [
        "titanic_df.loc[148,:]"
      ],
      "execution_count": 12,
      "outputs": [
        {
          "output_type": "execute_result",
          "data": {
            "text/plain": [
              "pclass            1\n",
              "survived          0\n",
              "sex          female\n",
              "age              50\n",
              "sibsp             0\n",
              "parch             0\n",
              "fare        28.7125\n",
              "embarked          C\n",
              "Name: 148, dtype: object"
            ]
          },
          "metadata": {
            "tags": []
          },
          "execution_count": 12
        }
      ]
    },
    {
      "cell_type": "code",
      "metadata": {
        "id": "BkBNPNPDk9ZN"
      },
      "source": [
        "# Drop rows where there is no port of embarkation associated\n",
        "#titanic_preprocess_df = titanic_preprocess_df.drop(index=148).reset_index(drop=True)\n",
        "#titanic_preprocess_df = titanic_preprocess_df.drop(index=248).reset_index(drop=True)"
      ],
      "execution_count": 13,
      "outputs": []
    },
    {
      "cell_type": "code",
      "metadata": {
        "id": "l2p2GAKHm-92",
        "colab": {
          "base_uri": "https://localhost:8080/"
        },
        "outputId": "69bf026b-2447-48a0-9f1f-d3a77e2284d4"
      },
      "source": [
        "print(f'There are {len(titanic_preprocess_df)} remaining examples in the dataset.')"
      ],
      "execution_count": 14,
      "outputs": [
        {
          "output_type": "stream",
          "text": [
            "There are 1043 remaining examples in the dataset.\n"
          ],
          "name": "stdout"
        }
      ]
    },
    {
      "cell_type": "markdown",
      "metadata": {
        "id": "QJcs6PUTavlm"
      },
      "source": [
        "## Train / validation / test split"
      ]
    },
    {
      "cell_type": "markdown",
      "metadata": {
        "id": "Bjbgvffmavlo"
      },
      "source": [
        "At this point, we need to divide the dataset into three subsets:\n",
        "\n",
        "<ol>\n",
        "<li> <b> Train</b> (60% of the dataset): used to train the classification model. </li>   \n",
        "<li> <b> Validation</b> (20% of the dataset): used to evaluate hyper-parameters on held-out data. </li>   \n",
        "<li> <b> Test</b> (20% of the dataset): used to evaluate the generalization performance of the chosen model on held-out data. </li>\n",
        "</ol>\n",
        "\n",
        "We use the <a href=\"https://numpy.org/doc/stable/reference/generated/numpy.split.html\">numpy.split function</a> to separate our dataset into subsets."
      ]
    },
    {
      "cell_type": "markdown",
      "metadata": {
        "id": "cs07L8F5488f"
      },
      "source": [
        "### Exercise 1\n",
        "Complete the missing code to create the validation and the test sets"
      ]
    },
    {
      "cell_type": "code",
      "metadata": {
        "id": "GBmL8VBOavlo"
      },
      "source": [
        "train, validate, test = np.split(\n",
        "    titanic_preprocess_df.sample(frac=1, random_state=seed), # cela revient a un shuffle du set de donnees\n",
        "    [int(.6*len(titanic_preprocess_df)), int(.8*len(titanic_preprocess_df))])\n",
        "\n",
        "# Remove the label column from X and create a label vectors.\n",
        "X_train = train.drop(['survived'], axis=1).to_numpy()\n",
        "y_train = train['survived'].to_numpy()\n",
        "\n",
        "X_val = validate.drop(['survived'], axis=1).to_numpy() \n",
        "y_val = validate['survived'].to_numpy()\n",
        "\n",
        "X_test = test.drop(['survived'], axis=1).to_numpy() \n",
        "y_test = test['survived'].to_numpy()\n"
      ],
      "execution_count": 15,
      "outputs": []
    },
    {
      "cell_type": "markdown",
      "metadata": {
        "id": "wv74TbIWavlr"
      },
      "source": [
        "## Datasets in PyTorch"
      ]
    },
    {
      "cell_type": "markdown",
      "metadata": {
        "id": "9_LJtG-Xavlt"
      },
      "source": [
        "We will use the subclass <b><a href=\"https://pytorch.org/docs/master/data.html#torch.utils.data.TensorDataset\"> `torch.utils.data.TensorDataset`</a> </b> to manipulate together the features and targets of a dataset."
      ]
    },
    {
      "cell_type": "markdown",
      "metadata": {
        "id": "CZUfbAtG5S92"
      },
      "source": [
        "### Exercise 2\n",
        "\n",
        "Complete the missing code to load the validation and the test sets in TensorDatasets."
      ]
    },
    {
      "cell_type": "code",
      "metadata": {
        "id": "1JtT4tV7avlt"
      },
      "source": [
        "train_dataset = TensorDataset(torch.from_numpy(X_train).float(), torch.from_numpy(y_train).long())\n",
        "val_dataset = TensorDataset(torch.from_numpy(X_val).float(), torch.from_numpy(y_val).long())\n",
        "test_dataset = TensorDataset(torch.from_numpy(X_test).float(), torch.from_numpy(y_test).long())"
      ],
      "execution_count": 16,
      "outputs": []
    },
    {
      "cell_type": "markdown",
      "metadata": {
        "id": "obEPHnlTavkc"
      },
      "source": [
        "# How to define the learning algorithm?"
      ]
    },
    {
      "cell_type": "markdown",
      "metadata": {
        "id": "qhN5GL6Gavks"
      },
      "source": [
        "To train a deep learning model, we need to define:\n",
        "* the network architecture by choosing the non-linear function and the number of hidden units per layer, \n",
        "* the loss function and optimizer.\n",
        "\n",
        "In this tutorial, we consider the multilayer perceptron (MLP). A MLP is a simple computational graph composed of \"hidden layers,\" which are defined by two modules: a **linear transformation** followed by a **non-linearity**. The result of a hidden layer is a vector called a **distributed representation** where each component is associated with a hidden unit.\n",
        "\n",
        "To solve our task, we will use a MLP with the following architecture:\n",
        "* the input dimension of the model is 12,\n",
        "* the output dimension of the model is 2,\n",
        "* the first dimension of the output is the probability of death and the second dimension is the probability of survival,\n",
        "* the number of hidden layers is 3, \n",
        "* the dimensions of the hidden layers are 20, 40, 20 respectively, \n",
        "* the activation function is a ReLu for all hidden layers."
      ]
    },
    {
      "cell_type": "markdown",
      "metadata": {
        "id": "701t0e-ravkr"
      },
      "source": [
        "## How to define a model in PyTorch?"
      ]
    },
    {
      "cell_type": "markdown",
      "metadata": {
        "id": "m4F5cyijavkv"
      },
      "source": [
        "The <a href=\"https://pytorch.org/docs/stable/nn.html\">PyTorch NN package</a> contains many useful classes for creating computation graphs.\n",
        "* The class <a href=\"https://pytorch.org/docs/master/generated/torch.nn.Module.html#torch.nn.Module\">torch.nn.Module</a>: \n",
        "any new module must inherit from this class or its descendants (subclasses).\n",
        "* The `forward` method:  any class defining a module must implement the `forward(...)` method, which defines the transformation of inputs to outputs.\n",
        "* The class <a href=\"https://pytorch.org/docs/master/generated/torch.nn.Linear.html#torch.nn.Linear\">`torch.nn.Linear(in_features, out_features)`</a>: this class implements a linear transformation. By default, it takes two parameters: \n",
        "    * `in_features`: the size of the data at the input of the module. \n",
        "    * `out_features`: the size of the data at the output of the module.\n",
        "\n",
        "* The module <a href=\"https://pytorch.org/docs/master/nn.functional.html#torch-nn-functional\">`torch.nn.functional`</a>: \n",
        "it defines a set of functions that can be applied directly to any tensor. As examples, we have:\n",
        "    * non-linear functions: `sigmoid(...)`, `tanh(...)`, `relu(...)`, ...\n",
        "    * loss functions: `mse_loss(...)`, `nll(...)`, `cross_entropy(...)`, ... \n",
        "    * regularization functions: `droupout(...)`, ..."
      ]
    },
    {
      "cell_type": "markdown",
      "metadata": {
        "id": "Tscha6S-KIBB"
      },
      "source": [
        "### Exercise 3\n",
        "\n",
        "Complete the following methods to define a neural network:\n",
        "* The `__init__` method that defines the layers.\n",
        "* The `forward(input)` method that returns the `output`."
      ]
    },
    {
      "cell_type": "code",
      "metadata": {
        "id": "xR5eBfIbavk0"
      },
      "source": [
        "class NeuralNet(nn.Module):\n",
        "    def __init__(self):\n",
        "      super(NeuralNet, self).__init__()\n",
        "      self.layer1 = nn.Linear(12, 20)\n",
        "      self.layer2 = nn.Linear(20, 40)\n",
        "      self.layer3 = nn.Linear(40, 20)\n",
        "      self.output = nn.Linear(20, 2)\n",
        "\n",
        "    def forward(self, x):      \n",
        "      x = F.relu(self.layer1(x))\n",
        "      x = F.relu(self.layer2(x))\n",
        "      x = F.relu(self.layer3(x))\n",
        "      out = self.output(x) #don't need sigmoid here \n",
        "      return out"
      ],
      "execution_count": 17,
      "outputs": []
    },
    {
      "cell_type": "markdown",
      "metadata": {
        "id": "OvLnHRZ5avk2"
      },
      "source": [
        "## Making predictions with a neural network"
      ]
    },
    {
      "cell_type": "markdown",
      "metadata": {
        "id": "uEXgJMDDavk3"
      },
      "source": [
        "Now, we are ready to test our neural network on randomly selected data.\n",
        "\n",
        "In PyTorch, a model has two different modes:\n",
        "    <ul>\n",
        "    <li> <b>train</b>: used during training, </li>\n",
        "    <li> <b>eval</b>: used during inference for model evaluation. </li>\n",
        "    </ul>\n",
        "\n",
        "The distinction is important since some modules behave differently according to this mode.\n",
        "We will use the <b>eval</b> mode in this section."
      ]
    },
    {
      "cell_type": "markdown",
      "metadata": {
        "id": "IqtE_hr650pz"
      },
      "source": [
        "### Exercise 4\n",
        "Complete the missing code so that the model outputs a probability vector. "
      ]
    },
    {
      "cell_type": "code",
      "metadata": {
        "id": "gzcABMezavk6",
        "colab": {
          "base_uri": "https://localhost:8080/"
        },
        "outputId": "8ee7eba2-ee75-43b6-e5c2-08a47b54188d"
      },
      "source": [
        "# Model definition\n",
        "neural_net = NeuralNet()\n",
        "neural_net = neural_net.to(device)\n",
        "\n",
        "# Evaluation mode activation\n",
        "neural_net = neural_net.eval()\n",
        "\n",
        "# Select the first 5 data points\n",
        "data, target = val_dataset[0:5]\n",
        "data = data.to(device)\n",
        "target = target.to(device)\n",
        "\n",
        "# Forward propagation of the data through the model\n",
        "output = neural_net(data)   # equivalent to neural_net.forward(data)\n",
        "print(output)\n",
        "\n",
        "# Convert the logits into probabilities with softmax function\n",
        "output_proba = F.softmax(output,dim=1)\n",
        "\n",
        "# Printing the probability\n",
        "print(output_proba)"
      ],
      "execution_count": 18,
      "outputs": [
        {
          "output_type": "stream",
          "text": [
            "tensor([[-0.1354,  0.2621],\n",
            "        [-0.1595,  0.1191],\n",
            "        [-0.0736,  0.3508],\n",
            "        [-0.1483,  0.1167],\n",
            "        [-0.0443,  0.4150]], device='cuda:0', grad_fn=<AddmmBackward>)\n",
            "tensor([[0.4019, 0.5981],\n",
            "        [0.4308, 0.5692],\n",
            "        [0.3955, 0.6045],\n",
            "        [0.4341, 0.5659],\n",
            "        [0.3871, 0.6129]], device='cuda:0', grad_fn=<SoftmaxBackward>)\n"
          ],
          "name": "stdout"
        }
      ]
    },
    {
      "cell_type": "markdown",
      "metadata": {
        "id": "fVep0BElavlS"
      },
      "source": [
        "The rows define the output of the network, in terms of probabilities over two classes: <b>deceased</b> (first column) or <b>survived</b> (second column), for each of the five input data points. Let us take the label with maximum probability as the predicted label and compare it to the correct label."
      ]
    },
    {
      "cell_type": "code",
      "metadata": {
        "id": "_jV4No36qjdU",
        "colab": {
          "base_uri": "https://localhost:8080/"
        },
        "outputId": "35b5ce3e-7547-46a5-80f5-228d5caf6a8d"
      },
      "source": [
        "# Printing predictions (class with the highest probability)\n",
        "_, prediction = torch.max(output_proba, dim=1)\n",
        "\n",
        "print('Model prediction')\n",
        "print(prediction)\n",
        "\n",
        "# Printing the real labels\n",
        "print(\"Actual data\")\n",
        "print(target)"
      ],
      "execution_count": 19,
      "outputs": [
        {
          "output_type": "stream",
          "text": [
            "Model prediction\n",
            "tensor([1, 1, 1, 1, 1], device='cuda:0')\n",
            "Actual data\n",
            "tensor([0, 0, 0, 0, 0], device='cuda:0')\n"
          ],
          "name": "stdout"
        }
      ]
    },
    {
      "cell_type": "markdown",
      "metadata": {
        "id": "SEIIjqOuqjdc"
      },
      "source": [
        "### Exercise 5\n",
        "\n",
        "1.   What would be a good way to measure the model performances?\n",
        "2.   How does our model perform?\n",
        "3.   Considering that the model is not trained on the dataset, do you see any problem with your selected measure?\n"
      ]
    },
    {
      "cell_type": "code",
      "metadata": {
        "id": "Fa66z1qqH9em",
        "cellView": "form"
      },
      "source": [
        "#@title Métriques\n",
        "import sklearn.metrics as metrics\n",
        "\n",
        "def accuracy(y_true, y_pred):\n",
        "  \"\"\"\n",
        "  Compute the accuracy score.\n",
        "  \n",
        "  Args:\n",
        "     y_true: ground truth labels.\n",
        "     y_pred: predicted labels by a classifier.\n",
        "     \n",
        "  Return:\n",
        "     Accuracy score.\n",
        "     \n",
        "  \"\"\"\n",
        "  return metrics.accuracy_score(y_true, y_pred)\n",
        "\n",
        "\n",
        "def f1_score(y_true, y_pred):\n",
        "  \"\"\"\n",
        "  Compute the F1 score.\n",
        "  \n",
        "  Args:\n",
        "     y_true: ground truth labels.\n",
        "     y_pred: predicted labels by a classifier.\n",
        "     \n",
        "  Return:\n",
        "     F1 score.\n",
        "     \n",
        "  \"\"\"\n",
        "  return metrics.f1_score(y_true, y_pred, average='macro')"
      ],
      "execution_count": 20,
      "outputs": []
    },
    {
      "cell_type": "code",
      "metadata": {
        "colab": {
          "base_uri": "https://localhost:8080/"
        },
        "id": "reJFVgMHABD7",
        "outputId": "f5994035-6dce-4dcd-c9ee-11587ca69bfc"
      },
      "source": [
        "# calcul F1 score\n",
        "F1_score = f1_score(target.cpu().numpy(), prediction.cpu().numpy())\n",
        "print(f'F1 score is {F1_score:.2%}'.format(F1_score))"
      ],
      "execution_count": 21,
      "outputs": [
        {
          "output_type": "stream",
          "text": [
            "F1 score is 0.00%\n"
          ],
          "name": "stdout"
        }
      ]
    },
    {
      "cell_type": "markdown",
      "metadata": {
        "id": "0uySA2TCavmD"
      },
      "source": [
        "## Define the loss function and optimizer"
      ]
    },
    {
      "cell_type": "markdown",
      "metadata": {
        "id": "EkoobCLMavmE"
      },
      "source": [
        "### Loss function"
      ]
    },
    {
      "cell_type": "markdown",
      "metadata": {
        "id": "qkX7uSXQavmF"
      },
      "source": [
        "We define the loss function according to the task we want to achieve.\n",
        "\n",
        "PyTorch offers <a href=\"https://pytorch.org/docs/stable/nn.html#loss-functions\">many ready-to-use loss functions</a>.\n",
        "\n",
        "For classification problems, the usual loss function is <b>cross-entropy</b>, and this is the one we will use in this tutorial. In PyTorch, it is defined by the function <a href=\"https://pytorch.org/docs/master/nn.functional.html#cross-entropy\">`torch.nn.functional.cross_entropy`</a>.  Cross entropy allows comparing a $p$ distribution with a reference distribution $t$. It attains its minimum when $t=p$. Its formula for calculating it between the prediction and the target is: $-\\sum_j t_{ij} \\log(p_{ij})$ where $p$ is the prediction, $t$ the target, $i$ the example and $j$ the classe of the target."
      ]
    },
    {
      "cell_type": "code",
      "metadata": {
        "id": "FHnfYeS5avmF"
      },
      "source": [
        "def loss_function(prediction, target):\n",
        "    loss = F.cross_entropy(prediction, target)\n",
        "    return loss"
      ],
      "execution_count": 22,
      "outputs": []
    },
    {
      "cell_type": "markdown",
      "metadata": {
        "id": "Vsx_cv9Wqjdj"
      },
      "source": [
        "### Backpropagation"
      ]
    },
    {
      "cell_type": "markdown",
      "metadata": {
        "id": "0hcZaIKtavmH"
      },
      "source": [
        "In Pytorch, thanks to the automatic differentiation mechanism <a href=\"http://pytorch.org/docs/master/notes/autograd.html\">Autograd</a>, it is possible to automatically calculate the gradient of the loss function and backpropagate it through the computational graph.\n",
        "\n",
        "To do this, we only have to call the method `backward()` on the variable returned by the loss function, e.g., with\n",
        "\n",
        "```python\n",
        "loss = loss_function(....)\n",
        "loss.backward()\n",
        "```"
      ]
    },
    {
      "cell_type": "markdown",
      "metadata": {
        "id": "8YNo_ymYavmH"
      },
      "source": [
        "### Optimization"
      ]
    },
    {
      "cell_type": "markdown",
      "metadata": {
        "id": "Y4AlX9TwavmH"
      },
      "source": [
        "PyTorch provides a <a href=\"http://pytorch.org/docs/master/optim.html#algorithms\">set of optimization methods (`torch.optim`)</a> commonly used by the deep learning community. These methods include the following: \n",
        "* <b>SGD</b> (Stochastic Gradient Descent) <a href=\"http://pytorch.org/docs/master/optim.html#torch.optim.SGD\">`torch.optim.SGD(net.parameters(), lr=learning_rate)`</a>\n",
        "* <b>Adam</b> (Adaptive Moment Estimation): a variant of the gradient descent method in which the learning rate is adjusted for each parameter by estimating the first and second moments of the gradients. This optimizer has demonstrated excellent performance compared to SGD on many benchmarks.\n",
        "\n",
        "To be able to use an optimizer in PyTorch, we must instantiate it by passing the following elements:\n",
        "* <b>The parameters of the model</b>: these are obtained using the method `parameters()` on the instantiated model.\n",
        "* <b>The learning rate (lr)</b>: this is the learning rate to be used to update parameters during the optimization process. \n",
        "* There may be other parameters specific to the chosen optimizer.\n",
        "\n",
        "PyTorch offers a simplified interface to interact with any optimizer:\n",
        "* `zero_grad()`: Allows to reinitialize the gradients to zero at the beginning of an optimization step.\n",
        "* `step()`: Allows to perform an optimization step after a gradient backpropagation step."
      ]
    },
    {
      "cell_type": "markdown",
      "metadata": {
        "id": "fZ-lKExqavmI"
      },
      "source": [
        "We will use Adam with a lr of 0.001."
      ]
    },
    {
      "cell_type": "code",
      "metadata": {
        "id": "WDMOziJTavmI"
      },
      "source": [
        "optimizer = optim.Adam(neural_net.parameters(), lr=0.001) "
      ],
      "execution_count": 23,
      "outputs": []
    },
    {
      "cell_type": "markdown",
      "metadata": {
        "id": "OnFOAfdGqjdr"
      },
      "source": [
        "# How to train and evaluate a model?\n",
        "First, we need some definitions:\n",
        "<ol>\n",
        "<li>\n",
        "<b>Epoch</b>: a complete pass over the entire training dataset.\n",
        "</li>\n",
        "<li>\n",
        "<b>Iteration</b>: an update of the model parameters. Many iterations can occur before the end of an epoch.\n",
        "</li>\n",
        "<li>\n",
        "<b>Mini-batch</b>: A subset of training data used to estimate the average of gradients. In other words, at each iteration, a mini-batch is used. \n",
        "</li>\n",
        "</ol>"
      ]
    },
    {
      "cell_type": "markdown",
      "metadata": {
        "id": "LLXjNiDTavmK"
      },
      "source": [
        "## Creating the mini-batches\n",
        "PyTorch offers a utility called <b><a href=\"http://pytorch.org/docs/master/data.html\"> `torch.utils.data.DataLoader`</a></b> to load any dataset and automatically split it into mini-batches. During training, the data presented to the network should appear in a different order from one epoch to another. We will prepare the `DataLoader` for our three datasets (training, validation, and test)."
      ]
    },
    {
      "cell_type": "code",
      "metadata": {
        "id": "RGoQZSdqavmM"
      },
      "source": [
        "train_batch_size = 32  # number of data in a training batch.\n",
        "eval_batch_size = 32   # number of data in an batch.\n",
        "\n",
        "\n",
        "train_loader = torch.utils.data.DataLoader(train_dataset, batch_size=train_batch_size, shuffle=True)\n",
        "\n",
        "val_loader   = torch.utils.data.DataLoader(val_dataset, batch_size=eval_batch_size, shuffle=False)\n",
        "test_loader  = torch.utils.data.DataLoader(test_dataset, batch_size=eval_batch_size, shuffle=False)"
      ],
      "execution_count": 24,
      "outputs": []
    },
    {
      "cell_type": "code",
      "metadata": {
        "colab": {
          "base_uri": "https://localhost:8080/"
        },
        "id": "o4ecBllSdsQ_",
        "outputId": "ddc8f443-b37a-4c76-fb42-cf8ebabda012"
      },
      "source": [
        "train_loader_iter = iter(train_loader)\n",
        "\n",
        "for i in range(len(train_loader)):\n",
        "  t = next(train_loader_iter)\n",
        "  print(len(t[0])) "
      ],
      "execution_count": 25,
      "outputs": [
        {
          "output_type": "stream",
          "text": [
            "32\n",
            "32\n",
            "32\n",
            "32\n",
            "32\n",
            "32\n",
            "32\n",
            "32\n",
            "32\n",
            "32\n",
            "32\n",
            "32\n",
            "32\n",
            "32\n",
            "32\n",
            "32\n",
            "32\n",
            "32\n",
            "32\n",
            "17\n"
          ],
          "name": "stdout"
        }
      ]
    },
    {
      "cell_type": "markdown",
      "metadata": {
        "id": "Ia3ai-GvavmP"
      },
      "source": [
        "## Simple training loop"
      ]
    },
    {
      "cell_type": "markdown",
      "metadata": {
        "id": "v9wNZrTnavmQ"
      },
      "source": [
        "Here we define our training procedure for an epoch."
      ]
    },
    {
      "cell_type": "code",
      "metadata": {
        "id": "ZyK9xCsZavmR"
      },
      "source": [
        "def train(epoch, model, train_loader, optimizer, device):\n",
        "    \n",
        "    # activate the training mode\n",
        "    model.train()\n",
        "    \n",
        "    torch.set_grad_enabled(True)\n",
        "    \n",
        "    total_loss = 0\n",
        "    correct = 0\n",
        "    \n",
        "    # iteration over the mini-batches\n",
        "    for batch_idx, (data, target) in enumerate(train_loader):\n",
        "        \n",
        "        # transfer the data on the chosen device\n",
        "        data, target = data.to(device), target.to(device)\n",
        "        \n",
        "        # reinitialize the gradients to zero\n",
        "        optimizer.zero_grad()\n",
        "        \n",
        "        # forward propagation on the data\n",
        "        prediction = model(data)\n",
        "        \n",
        "        # compute the loss function w.r.t. the targets\n",
        "        loss = loss_function(prediction, target)\n",
        "        \n",
        "        # execute the backpropagation\n",
        "        loss.backward()\n",
        "        \n",
        "        # execute an optimization step\n",
        "        optimizer.step()\n",
        "        \n",
        "        # accumulate the loss\n",
        "        total_loss += loss.item()*len(data)\n",
        "        \n",
        "        # compute the number of correct predictions\n",
        "        _, pred_classes = torch.max(prediction, dim=1)        \n",
        "        correct += pred_classes.eq(target.view_as(pred_classes)).sum().item()\n",
        "         \n",
        "        \n",
        "    # compute the average loss per epoch\n",
        "    mean_loss = total_loss/len(train_loader.dataset)\n",
        "    \n",
        "    # compute the accuracy\n",
        "    acc = correct / len(train_loader.dataset)\n",
        "        \n",
        "    print('Train Epoch: {}   Avg_Loss: {:.5f}   Acc: {}/{} ({:.3f}%)'.format(\n",
        "        epoch, mean_loss, correct, len(train_loader.dataset),\n",
        "        100. * acc))   \n",
        "    \n",
        "    # return the average loss and the accuracy\n",
        "    return mean_loss, acc"
      ],
      "execution_count": 26,
      "outputs": []
    },
    {
      "cell_type": "markdown",
      "metadata": {
        "id": "vGexbWaHavmU"
      },
      "source": [
        "## Evaluation procedure\n",
        "Here we define our model evaluation procedure.\n",
        "<br/>\n",
        "In addition to switching the model to **eval** mode, it is essential to disable the gradient calculation. \n",
        "<br/>\n",
        "To do this, PyTorch offers a set of context managers to <a href=\"https://pytorch.org/docs/0.4.0/torch.html#locally-disabling-gradient-computation\">locally disable/enable gradient calculation </a>:\n",
        "1. `torch.no_grad()`: disable gradient calculation.\n",
        "2. `torch.enable_grad()`: enable gradient calculation.\n",
        "3. `torch.set_grad_enabled(bool)`: enable/disable gradient calculation.\n",
        "\n"
      ]
    },
    {
      "cell_type": "code",
      "metadata": {
        "id": "8gQj9W5LavmU"
      },
      "source": [
        "def evaluate(model, eval_loader, device):\n",
        "    \n",
        "    # activate the evaluation mode\n",
        "    model.eval()\n",
        "    \n",
        "    total_loss = 0\n",
        "    correct = 0\n",
        "    \n",
        "    with torch.no_grad():\n",
        "    \n",
        "        # iterate over the batches\n",
        "        for batch_idx, (data, target) in enumerate(eval_loader):\n",
        "\n",
        "            # transfer the data on the chosen device\n",
        "            data, target = data.to(device), target.to(device)\n",
        "\n",
        "            # forward propagation on the data\n",
        "            prediction = model(data)\n",
        "\n",
        "            # compute the loss function w.r.t. the targets\n",
        "            loss = loss_function(prediction, target)           \n",
        "\n",
        "\n",
        "            # accumulate the loss\n",
        "            total_loss += loss.item()*len(data)\n",
        "\n",
        "            # compute the number of correct predictions en sortie)\n",
        "            _, pred_classes = torch.max(prediction, dim=1) \n",
        "            correct += pred_classes.eq(target.view_as(pred_classes)).sum().item()         \n",
        "          \n",
        "    \n",
        "    # compute the average loss per epoch\n",
        "    mean_loss = total_loss/len(eval_loader.dataset)\n",
        "    \n",
        "    # compute the accuracy\n",
        "    acc = correct / len(eval_loader.dataset)\n",
        "        \n",
        "    print('Eval:  Avg_Loss: {:.5f}   Acc: {}/{} ({:.3f}%)'.format(\n",
        "        mean_loss, correct, len(eval_loader.dataset),\n",
        "        100. * acc)) \n",
        "    \n",
        "    # return the average loss and the accuracy\n",
        "    return mean_loss, acc"
      ],
      "execution_count": 27,
      "outputs": []
    },
    {
      "cell_type": "markdown",
      "metadata": {
        "id": "lQLklQXAavmW"
      },
      "source": [
        "## Checkpointing\n",
        "\n",
        "During training, we recommend saving the model parameters periodically. By doing so, we avoid having to retrain the model from scratch if the experiment goes wrong such as losing communication with GPU, out-of-memory error, numerical errors, incorrect learning rates making the experiment unstable, etc. This practice is commonly referred to as <b>checkpointing</b>.\n",
        "\n",
        "PyTorch offers <a href=\"http://pytorch.org/docs/master/notes/serialization.html\">a simple mechanism</a> to perform this operation.\n",
        "\n",
        "We implement two methods here:\n",
        "<ul>\n",
        "<li> the first one for <b> saving </b> a model,</li>\n",
        "<li> the second for <b> loading </b> a model checkpoint. </li>\n",
        "</ul>"
      ]
    },
    {
      "cell_type": "code",
      "metadata": {
        "id": "dMmNpma2avmX"
      },
      "source": [
        "def save_model(epoch, model, path='./'):\n",
        "    \n",
        "    # creating the file name indexed by the epoch value\n",
        "    filename = path + 'neural_network_{}.pt'.format(epoch)\n",
        "    \n",
        "    # saving the model parameters\n",
        "    torch.save(model.state_dict(), filename)\n",
        "    \n",
        "    return model\n",
        "    "
      ],
      "execution_count": 28,
      "outputs": []
    },
    {
      "cell_type": "code",
      "metadata": {
        "id": "2ZptgqQRavmZ"
      },
      "source": [
        "def load_model(epoch, model, path='./'):\n",
        "    \n",
        "    # creating the file name indexed by the epoch value\n",
        "    filename = path + 'neural_network_{}.pt'.format(epoch)\n",
        "    \n",
        "    # loading the parameters of the saved model\n",
        "    model.load_state_dict(torch.load(filename))\n",
        "    \n",
        "    return model"
      ],
      "execution_count": 29,
      "outputs": []
    },
    {
      "cell_type": "markdown",
      "metadata": {
        "id": "ve8sOocWavma"
      },
      "source": [
        "It is also possible to save the optimizer's status in PyTorch, which is very important when we want to resume training the model from a given backup. For more information, please consult <a href='https://discuss.pytorch.org/t/saving-and-loading-a-model-in-pytorch/2610/3'>the following URL</a>."
      ]
    },
    {
      "cell_type": "markdown",
      "metadata": {
        "id": "8lcAP8-1avma"
      },
      "source": [
        "## Putting everything together"
      ]
    },
    {
      "cell_type": "code",
      "metadata": {
        "id": "keMpyePsavmb",
        "colab": {
          "base_uri": "https://localhost:8080/"
        },
        "outputId": "3b168a5c-06a3-4e8c-a782-8d63b2a9bcb7"
      },
      "source": [
        "torch.manual_seed(seed)\n",
        "torch.cuda.manual_seed(seed)\n",
        "np.random.seed(seed)\n",
        "\n",
        "# maximum number of epoch\n",
        "numEpochs = 200\n",
        "\n",
        "# Saving frequency\n",
        "checkpoint_freq = 10\n",
        "\n",
        "# Directory for data backup\n",
        "path = './'\n",
        "\n",
        "# Accumulators of average losses obtained per epoch\n",
        "train_losses = []\n",
        "val_losses = []\n",
        "\n",
        "# Performance accumulators per epoch\n",
        "train_accuracies = []\n",
        "val_accuracies = []\n",
        "\n",
        "# Grad and param accumulator\n",
        "train_grads = []\n",
        "train_params = []\n",
        "\n",
        "# Model definition\n",
        "neural_net = NeuralNet()\n",
        "\n",
        "# Load the model on the chosen device\n",
        "neural_net = neural_net.to(device)\n",
        "\n",
        "# Optimizer definition\n",
        "optimizer = optim.Adam(neural_net.parameters(), lr=0.001) \n",
        "#optimizer = optim.SGD(neural_net.parameters(), lr=0.001) \n",
        "\n",
        "\n",
        "# Learning loop\n",
        "for epoch in range(1, numEpochs + 1):\n",
        "    \n",
        "    # train the model with the train dataset\n",
        "    train_loss, train_acc = train(epoch, neural_net, train_loader, optimizer, device)   \n",
        "\n",
        "    # voir la descente du gradient (c'est le biais du dernier étage)\n",
        "    last_param = list(neural_net.parameters(recurse=True))[-1]\n",
        "    print('Grad: [{:.5f},{:.5f}] Param: [{:.5f},{:.5f}]'.format(last_param.grad.tolist()[0],\n",
        "                                                                last_param.grad.tolist()[1],\n",
        "                                                                last_param.data.tolist()[0],\n",
        "                                                                last_param.data.tolist()[1]))\n",
        "    train_grads.append(last_param.grad.tolist())\n",
        "    train_params.append(last_param.data.tolist())\n",
        "\n",
        "\n",
        "    # evaluate the model with the validation dataset\n",
        "    val_loss, val_acc = evaluate(neural_net, val_loader, device)       \n",
        "    \n",
        "    # Save the losses obtained\n",
        "    train_losses.append(train_loss)    \n",
        "    val_losses.append(val_loss)\n",
        "    \n",
        "    # Save the performances\n",
        "    train_accuracies.append(train_acc)    \n",
        "    val_accuracies.append(val_acc)\n",
        "    \n",
        "    # Checkpoint\n",
        "    if epoch % checkpoint_freq ==0:\n",
        "        save_model(epoch, neural_net, path)\n",
        "\n",
        "# Save the model at the end of the training\n",
        "save_model(numEpochs, neural_net, path)\n",
        "    \n",
        "print(\"\\n\\n\\nOptimization ended.\\n\")    \n"
      ],
      "execution_count": 30,
      "outputs": [
        {
          "output_type": "stream",
          "text": [
            "Train Epoch: 1   Avg_Loss: 0.68532   Acc: 341/625 (54.560%)\n",
            "Grad: [-0.03177,0.03177] Param: [-0.18612,-0.11282]\n",
            "Eval:  Avg_Loss: 0.64164   Acc: 138/209 (66.029%)\n",
            "Train Epoch: 2   Avg_Loss: 0.62563   Acc: 412/625 (65.920%)\n",
            "Grad: [-0.04262,0.04262] Param: [-0.18111,-0.11782]\n",
            "Eval:  Avg_Loss: 0.63621   Acc: 141/209 (67.464%)\n",
            "Train Epoch: 3   Avg_Loss: 0.61342   Acc: 423/625 (67.680%)\n",
            "Grad: [0.17753,-0.17753] Param: [-0.17985,-0.11908]\n",
            "Eval:  Avg_Loss: 0.62586   Acc: 144/209 (68.900%)\n",
            "Train Epoch: 4   Avg_Loss: 0.61397   Acc: 428/625 (68.480%)\n",
            "Grad: [-0.04212,0.04212] Param: [-0.17785,-0.12108]\n",
            "Eval:  Avg_Loss: 0.63444   Acc: 144/209 (68.900%)\n",
            "Train Epoch: 5   Avg_Loss: 0.60600   Acc: 427/625 (68.320%)\n",
            "Grad: [-0.08104,0.08104] Param: [-0.17901,-0.11992]\n",
            "Eval:  Avg_Loss: 0.62520   Acc: 143/209 (68.421%)\n",
            "Train Epoch: 6   Avg_Loss: 0.60734   Acc: 426/625 (68.160%)\n",
            "Grad: [0.00043,-0.00043] Param: [-0.17849,-0.12044]\n",
            "Eval:  Avg_Loss: 0.61957   Acc: 146/209 (69.856%)\n",
            "Train Epoch: 7   Avg_Loss: 0.60150   Acc: 425/625 (68.000%)\n",
            "Grad: [-0.00965,0.00965] Param: [-0.17671,-0.12222]\n",
            "Eval:  Avg_Loss: 0.62663   Acc: 143/209 (68.421%)\n",
            "Train Epoch: 8   Avg_Loss: 0.59926   Acc: 427/625 (68.320%)\n",
            "Grad: [-0.09759,0.09759] Param: [-0.17716,-0.12177]\n",
            "Eval:  Avg_Loss: 0.61778   Acc: 147/209 (70.335%)\n",
            "Train Epoch: 9   Avg_Loss: 0.59578   Acc: 427/625 (68.320%)\n",
            "Grad: [0.03147,-0.03147] Param: [-0.17686,-0.12207]\n",
            "Eval:  Avg_Loss: 0.61292   Acc: 148/209 (70.813%)\n",
            "Train Epoch: 10   Avg_Loss: 0.59061   Acc: 429/625 (68.640%)\n",
            "Grad: [-0.03008,0.03008] Param: [-0.17547,-0.12347]\n",
            "Eval:  Avg_Loss: 0.61090   Acc: 148/209 (70.813%)\n",
            "Train Epoch: 11   Avg_Loss: 0.58357   Acc: 427/625 (68.320%)\n",
            "Grad: [-0.06234,0.06234] Param: [-0.17444,-0.12449]\n",
            "Eval:  Avg_Loss: 0.59664   Acc: 142/209 (67.943%)\n",
            "Train Epoch: 12   Avg_Loss: 0.57884   Acc: 430/625 (68.800%)\n",
            "Grad: [0.06188,-0.06188] Param: [-0.17300,-0.12593]\n",
            "Eval:  Avg_Loss: 0.59234   Acc: 149/209 (71.292%)\n",
            "Train Epoch: 13   Avg_Loss: 0.56769   Acc: 433/625 (69.280%)\n",
            "Grad: [0.07712,-0.07712] Param: [-0.17257,-0.12636]\n",
            "Eval:  Avg_Loss: 0.58305   Acc: 143/209 (68.421%)\n",
            "Train Epoch: 14   Avg_Loss: 0.56280   Acc: 451/625 (72.160%)\n",
            "Grad: [-0.10746,0.10746] Param: [-0.17062,-0.12831]\n",
            "Eval:  Avg_Loss: 0.58844   Acc: 149/209 (71.292%)\n",
            "Train Epoch: 15   Avg_Loss: 0.55381   Acc: 451/625 (72.160%)\n",
            "Grad: [-0.01919,0.01919] Param: [-0.16893,-0.13001]\n",
            "Eval:  Avg_Loss: 0.58510   Acc: 150/209 (71.770%)\n",
            "Train Epoch: 16   Avg_Loss: 0.54914   Acc: 473/625 (75.680%)\n",
            "Grad: [-0.23137,0.23137] Param: [-0.16929,-0.12964]\n",
            "Eval:  Avg_Loss: 0.57604   Acc: 151/209 (72.249%)\n",
            "Train Epoch: 17   Avg_Loss: 0.54279   Acc: 471/625 (75.360%)\n",
            "Grad: [-0.03151,0.03151] Param: [-0.16665,-0.13228]\n",
            "Eval:  Avg_Loss: 0.55093   Acc: 155/209 (74.163%)\n",
            "Train Epoch: 18   Avg_Loss: 0.51557   Acc: 491/625 (78.560%)\n",
            "Grad: [-0.07436,0.07436] Param: [-0.16622,-0.13271]\n",
            "Eval:  Avg_Loss: 0.54672   Acc: 155/209 (74.163%)\n",
            "Train Epoch: 19   Avg_Loss: 0.49448   Acc: 493/625 (78.880%)\n",
            "Grad: [-0.08400,0.08400] Param: [-0.16558,-0.13335]\n",
            "Eval:  Avg_Loss: 0.50627   Acc: 158/209 (75.598%)\n",
            "Train Epoch: 20   Avg_Loss: 0.48056   Acc: 492/625 (78.720%)\n",
            "Grad: [-0.00700,0.00700] Param: [-0.16494,-0.13399]\n",
            "Eval:  Avg_Loss: 0.50776   Acc: 165/209 (78.947%)\n",
            "Train Epoch: 21   Avg_Loss: 0.47328   Acc: 498/625 (79.680%)\n",
            "Grad: [-0.10714,0.10714] Param: [-0.16365,-0.13528]\n",
            "Eval:  Avg_Loss: 0.53721   Acc: 160/209 (76.555%)\n",
            "Train Epoch: 22   Avg_Loss: 0.45929   Acc: 505/625 (80.800%)\n",
            "Grad: [0.02425,-0.02425] Param: [-0.16548,-0.13345]\n",
            "Eval:  Avg_Loss: 0.49508   Acc: 157/209 (75.120%)\n",
            "Train Epoch: 23   Avg_Loss: 0.47005   Acc: 499/625 (79.840%)\n",
            "Grad: [-0.28942,0.28942] Param: [-0.16684,-0.13209]\n",
            "Eval:  Avg_Loss: 0.51717   Acc: 153/209 (73.206%)\n",
            "Train Epoch: 24   Avg_Loss: 0.45555   Acc: 502/625 (80.320%)\n",
            "Grad: [-0.10508,0.10508] Param: [-0.16677,-0.13216]\n",
            "Eval:  Avg_Loss: 0.49064   Acc: 159/209 (76.077%)\n",
            "Train Epoch: 25   Avg_Loss: 0.46519   Acc: 508/625 (81.280%)\n",
            "Grad: [0.09920,-0.09920] Param: [-0.16544,-0.13349]\n",
            "Eval:  Avg_Loss: 0.47721   Acc: 159/209 (76.077%)\n",
            "Train Epoch: 26   Avg_Loss: 0.45297   Acc: 495/625 (79.200%)\n",
            "Grad: [0.16814,-0.16814] Param: [-0.16690,-0.13203]\n",
            "Eval:  Avg_Loss: 0.49661   Acc: 162/209 (77.512%)\n",
            "Train Epoch: 27   Avg_Loss: 0.43700   Acc: 500/625 (80.000%)\n",
            "Grad: [-0.06670,0.06670] Param: [-0.16664,-0.13229]\n",
            "Eval:  Avg_Loss: 0.47695   Acc: 161/209 (77.033%)\n",
            "Train Epoch: 28   Avg_Loss: 0.43741   Acc: 506/625 (80.960%)\n",
            "Grad: [-0.12647,0.12647] Param: [-0.16683,-0.13211]\n",
            "Eval:  Avg_Loss: 0.47771   Acc: 164/209 (78.469%)\n",
            "Train Epoch: 29   Avg_Loss: 0.42996   Acc: 511/625 (81.760%)\n",
            "Grad: [-0.06273,0.06273] Param: [-0.16748,-0.13146]\n",
            "Eval:  Avg_Loss: 0.48856   Acc: 166/209 (79.426%)\n",
            "Train Epoch: 30   Avg_Loss: 0.44155   Acc: 510/625 (81.600%)\n",
            "Grad: [-0.01929,0.01929] Param: [-0.16747,-0.13146]\n",
            "Eval:  Avg_Loss: 0.49930   Acc: 162/209 (77.512%)\n",
            "Train Epoch: 31   Avg_Loss: 0.43602   Acc: 516/625 (82.560%)\n",
            "Grad: [0.07625,-0.07625] Param: [-0.16614,-0.13279]\n",
            "Eval:  Avg_Loss: 0.50381   Acc: 166/209 (79.426%)\n",
            "Train Epoch: 32   Avg_Loss: 0.42818   Acc: 506/625 (80.960%)\n",
            "Grad: [-0.05208,0.05208] Param: [-0.16809,-0.13084]\n",
            "Eval:  Avg_Loss: 0.49012   Acc: 159/209 (76.077%)\n",
            "Train Epoch: 33   Avg_Loss: 0.44128   Acc: 505/625 (80.800%)\n",
            "Grad: [0.02046,-0.02046] Param: [-0.16799,-0.13094]\n",
            "Eval:  Avg_Loss: 0.48717   Acc: 163/209 (77.990%)\n",
            "Train Epoch: 34   Avg_Loss: 0.43252   Acc: 512/625 (81.920%)\n",
            "Grad: [0.04165,-0.04165] Param: [-0.16672,-0.13221]\n",
            "Eval:  Avg_Loss: 0.47682   Acc: 165/209 (78.947%)\n",
            "Train Epoch: 35   Avg_Loss: 0.42309   Acc: 510/625 (81.600%)\n",
            "Grad: [0.13206,-0.13206] Param: [-0.16749,-0.13144]\n",
            "Eval:  Avg_Loss: 0.47334   Acc: 165/209 (78.947%)\n",
            "Train Epoch: 36   Avg_Loss: 0.42658   Acc: 508/625 (81.280%)\n",
            "Grad: [-0.22140,0.22140] Param: [-0.16811,-0.13082]\n",
            "Eval:  Avg_Loss: 0.47492   Acc: 165/209 (78.947%)\n",
            "Train Epoch: 37   Avg_Loss: 0.42066   Acc: 518/625 (82.880%)\n",
            "Grad: [0.11531,-0.11531] Param: [-0.16597,-0.13296]\n",
            "Eval:  Avg_Loss: 0.47695   Acc: 165/209 (78.947%)\n",
            "Train Epoch: 38   Avg_Loss: 0.42591   Acc: 513/625 (82.080%)\n",
            "Grad: [0.03516,-0.03516] Param: [-0.16564,-0.13329]\n",
            "Eval:  Avg_Loss: 0.48273   Acc: 165/209 (78.947%)\n",
            "Train Epoch: 39   Avg_Loss: 0.42023   Acc: 514/625 (82.240%)\n",
            "Grad: [0.11975,-0.11975] Param: [-0.16462,-0.13431]\n",
            "Eval:  Avg_Loss: 0.49534   Acc: 166/209 (79.426%)\n",
            "Train Epoch: 40   Avg_Loss: 0.41124   Acc: 516/625 (82.560%)\n",
            "Grad: [-0.04307,0.04307] Param: [-0.16596,-0.13297]\n",
            "Eval:  Avg_Loss: 0.47283   Acc: 164/209 (78.469%)\n",
            "Train Epoch: 41   Avg_Loss: 0.41645   Acc: 513/625 (82.080%)\n",
            "Grad: [-0.08684,0.08684] Param: [-0.16683,-0.13210]\n",
            "Eval:  Avg_Loss: 0.48631   Acc: 164/209 (78.469%)\n",
            "Train Epoch: 42   Avg_Loss: 0.41220   Acc: 514/625 (82.240%)\n",
            "Grad: [0.05661,-0.05661] Param: [-0.16482,-0.13411]\n",
            "Eval:  Avg_Loss: 0.48182   Acc: 167/209 (79.904%)\n",
            "Train Epoch: 43   Avg_Loss: 0.41651   Acc: 515/625 (82.400%)\n",
            "Grad: [-0.09264,0.09264] Param: [-0.16657,-0.13236]\n",
            "Eval:  Avg_Loss: 0.47352   Acc: 166/209 (79.426%)\n",
            "Train Epoch: 44   Avg_Loss: 0.40817   Acc: 515/625 (82.400%)\n",
            "Grad: [-0.00882,0.00882] Param: [-0.16634,-0.13259]\n",
            "Eval:  Avg_Loss: 0.47642   Acc: 164/209 (78.469%)\n",
            "Train Epoch: 45   Avg_Loss: 0.41085   Acc: 515/625 (82.400%)\n",
            "Grad: [-0.07446,0.07446] Param: [-0.16672,-0.13221]\n",
            "Eval:  Avg_Loss: 0.48773   Acc: 161/209 (77.033%)\n",
            "Train Epoch: 46   Avg_Loss: 0.43785   Acc: 507/625 (81.120%)\n",
            "Grad: [-0.21532,0.21532] Param: [-0.16578,-0.13315]\n",
            "Eval:  Avg_Loss: 0.46920   Acc: 165/209 (78.947%)\n",
            "Train Epoch: 47   Avg_Loss: 0.41612   Acc: 513/625 (82.080%)\n",
            "Grad: [0.02862,-0.02862] Param: [-0.16559,-0.13335]\n",
            "Eval:  Avg_Loss: 0.47871   Acc: 157/209 (75.120%)\n",
            "Train Epoch: 48   Avg_Loss: 0.41429   Acc: 516/625 (82.560%)\n",
            "Grad: [-0.14886,0.14886] Param: [-0.16443,-0.13450]\n",
            "Eval:  Avg_Loss: 0.47922   Acc: 162/209 (77.512%)\n",
            "Train Epoch: 49   Avg_Loss: 0.41516   Acc: 518/625 (82.880%)\n",
            "Grad: [-0.01789,0.01789] Param: [-0.16428,-0.13466]\n",
            "Eval:  Avg_Loss: 0.48016   Acc: 164/209 (78.469%)\n",
            "Train Epoch: 50   Avg_Loss: 0.40730   Acc: 520/625 (83.200%)\n",
            "Grad: [0.02215,-0.02215] Param: [-0.16365,-0.13528]\n",
            "Eval:  Avg_Loss: 0.47483   Acc: 166/209 (79.426%)\n",
            "Train Epoch: 51   Avg_Loss: 0.41481   Acc: 517/625 (82.720%)\n",
            "Grad: [-0.02452,0.02452] Param: [-0.16322,-0.13571]\n",
            "Eval:  Avg_Loss: 0.48380   Acc: 167/209 (79.904%)\n",
            "Train Epoch: 52   Avg_Loss: 0.40818   Acc: 525/625 (84.000%)\n",
            "Grad: [-0.11841,0.11841] Param: [-0.16506,-0.13387]\n",
            "Eval:  Avg_Loss: 0.47742   Acc: 161/209 (77.033%)\n",
            "Train Epoch: 53   Avg_Loss: 0.41133   Acc: 522/625 (83.520%)\n",
            "Grad: [-0.03533,0.03533] Param: [-0.16473,-0.13420]\n",
            "Eval:  Avg_Loss: 0.46966   Acc: 164/209 (78.469%)\n",
            "Train Epoch: 54   Avg_Loss: 0.41011   Acc: 518/625 (82.880%)\n",
            "Grad: [-0.02126,0.02126] Param: [-0.16402,-0.13491]\n",
            "Eval:  Avg_Loss: 0.47776   Acc: 164/209 (78.469%)\n",
            "Train Epoch: 55   Avg_Loss: 0.40637   Acc: 521/625 (83.360%)\n",
            "Grad: [-0.00515,0.00515] Param: [-0.16332,-0.13561]\n",
            "Eval:  Avg_Loss: 0.47552   Acc: 166/209 (79.426%)\n",
            "Train Epoch: 56   Avg_Loss: 0.41658   Acc: 521/625 (83.360%)\n",
            "Grad: [-0.01238,0.01238] Param: [-0.16316,-0.13577]\n",
            "Eval:  Avg_Loss: 0.50693   Acc: 163/209 (77.990%)\n",
            "Train Epoch: 57   Avg_Loss: 0.42051   Acc: 513/625 (82.080%)\n",
            "Grad: [0.21444,-0.21444] Param: [-0.16433,-0.13460]\n",
            "Eval:  Avg_Loss: 0.47464   Acc: 169/209 (80.861%)\n",
            "Train Epoch: 58   Avg_Loss: 0.40991   Acc: 516/625 (82.560%)\n",
            "Grad: [-0.07776,0.07776] Param: [-0.16270,-0.13623]\n",
            "Eval:  Avg_Loss: 0.47489   Acc: 164/209 (78.469%)\n",
            "Train Epoch: 59   Avg_Loss: 0.41338   Acc: 516/625 (82.560%)\n",
            "Grad: [0.10069,-0.10069] Param: [-0.16234,-0.13659]\n",
            "Eval:  Avg_Loss: 0.49756   Acc: 165/209 (78.947%)\n",
            "Train Epoch: 60   Avg_Loss: 0.41084   Acc: 512/625 (81.920%)\n",
            "Grad: [-0.07869,0.07869] Param: [-0.16297,-0.13597]\n",
            "Eval:  Avg_Loss: 0.47675   Acc: 167/209 (79.904%)\n",
            "Train Epoch: 61   Avg_Loss: 0.40903   Acc: 518/625 (82.880%)\n",
            "Grad: [0.11765,-0.11765] Param: [-0.16227,-0.13666]\n",
            "Eval:  Avg_Loss: 0.47720   Acc: 167/209 (79.904%)\n",
            "Train Epoch: 62   Avg_Loss: 0.40555   Acc: 522/625 (83.520%)\n",
            "Grad: [-0.07579,0.07579] Param: [-0.16211,-0.13682]\n",
            "Eval:  Avg_Loss: 0.47498   Acc: 167/209 (79.904%)\n",
            "Train Epoch: 63   Avg_Loss: 0.41044   Acc: 517/625 (82.720%)\n",
            "Grad: [-0.08977,0.08977] Param: [-0.16062,-0.13831]\n",
            "Eval:  Avg_Loss: 0.49051   Acc: 168/209 (80.383%)\n",
            "Train Epoch: 64   Avg_Loss: 0.44062   Acc: 508/625 (81.280%)\n",
            "Grad: [-0.05937,0.05937] Param: [-0.16225,-0.13668]\n",
            "Eval:  Avg_Loss: 0.48792   Acc: 167/209 (79.904%)\n",
            "Train Epoch: 65   Avg_Loss: 0.41534   Acc: 509/625 (81.440%)\n",
            "Grad: [-0.12415,0.12415] Param: [-0.16092,-0.13801]\n",
            "Eval:  Avg_Loss: 0.47434   Acc: 167/209 (79.904%)\n",
            "Train Epoch: 66   Avg_Loss: 0.40367   Acc: 522/625 (83.520%)\n",
            "Grad: [-0.00985,0.00985] Param: [-0.16110,-0.13783]\n",
            "Eval:  Avg_Loss: 0.49406   Acc: 161/209 (77.033%)\n",
            "Train Epoch: 67   Avg_Loss: 0.40569   Acc: 519/625 (83.040%)\n",
            "Grad: [0.05503,-0.05503] Param: [-0.16107,-0.13786]\n",
            "Eval:  Avg_Loss: 0.47471   Acc: 165/209 (78.947%)\n",
            "Train Epoch: 68   Avg_Loss: 0.40142   Acc: 517/625 (82.720%)\n",
            "Grad: [0.05234,-0.05234] Param: [-0.16088,-0.13805]\n",
            "Eval:  Avg_Loss: 0.47146   Acc: 167/209 (79.904%)\n",
            "Train Epoch: 69   Avg_Loss: 0.40386   Acc: 518/625 (82.880%)\n",
            "Grad: [-0.12804,0.12804] Param: [-0.16215,-0.13678]\n",
            "Eval:  Avg_Loss: 0.48776   Acc: 162/209 (77.512%)\n",
            "Train Epoch: 70   Avg_Loss: 0.40310   Acc: 524/625 (83.840%)\n",
            "Grad: [-0.16384,0.16384] Param: [-0.16056,-0.13837]\n",
            "Eval:  Avg_Loss: 0.48507   Acc: 165/209 (78.947%)\n",
            "Train Epoch: 71   Avg_Loss: 0.41407   Acc: 516/625 (82.560%)\n",
            "Grad: [0.11310,-0.11310] Param: [-0.16014,-0.13879]\n",
            "Eval:  Avg_Loss: 0.48166   Acc: 172/209 (82.297%)\n",
            "Train Epoch: 72   Avg_Loss: 0.41281   Acc: 519/625 (83.040%)\n",
            "Grad: [-0.09120,0.09120] Param: [-0.16116,-0.13777]\n",
            "Eval:  Avg_Loss: 0.47841   Acc: 165/209 (78.947%)\n",
            "Train Epoch: 73   Avg_Loss: 0.40255   Acc: 517/625 (82.720%)\n",
            "Grad: [-0.06563,0.06563] Param: [-0.15912,-0.13981]\n",
            "Eval:  Avg_Loss: 0.47196   Acc: 166/209 (79.426%)\n",
            "Train Epoch: 74   Avg_Loss: 0.40145   Acc: 515/625 (82.400%)\n",
            "Grad: [0.03017,-0.03017] Param: [-0.15848,-0.14046]\n",
            "Eval:  Avg_Loss: 0.48447   Acc: 171/209 (81.818%)\n",
            "Train Epoch: 75   Avg_Loss: 0.40291   Acc: 518/625 (82.880%)\n",
            "Grad: [-0.02078,0.02078] Param: [-0.15982,-0.13911]\n",
            "Eval:  Avg_Loss: 0.48228   Acc: 165/209 (78.947%)\n",
            "Train Epoch: 76   Avg_Loss: 0.41408   Acc: 511/625 (81.760%)\n",
            "Grad: [0.02825,-0.02825] Param: [-0.15976,-0.13917]\n",
            "Eval:  Avg_Loss: 0.48127   Acc: 165/209 (78.947%)\n",
            "Train Epoch: 77   Avg_Loss: 0.40215   Acc: 520/625 (83.200%)\n",
            "Grad: [0.06193,-0.06193] Param: [-0.16071,-0.13822]\n",
            "Eval:  Avg_Loss: 0.47718   Acc: 168/209 (80.383%)\n",
            "Train Epoch: 78   Avg_Loss: 0.40313   Acc: 518/625 (82.880%)\n",
            "Grad: [-0.02081,0.02081] Param: [-0.16004,-0.13889]\n",
            "Eval:  Avg_Loss: 0.48782   Acc: 164/209 (78.469%)\n",
            "Train Epoch: 79   Avg_Loss: 0.39847   Acc: 520/625 (83.200%)\n",
            "Grad: [0.03972,-0.03972] Param: [-0.15972,-0.13921]\n",
            "Eval:  Avg_Loss: 0.48806   Acc: 171/209 (81.818%)\n",
            "Train Epoch: 80   Avg_Loss: 0.40235   Acc: 518/625 (82.880%)\n",
            "Grad: [0.15471,-0.15471] Param: [-0.15907,-0.13986]\n",
            "Eval:  Avg_Loss: 0.47618   Acc: 168/209 (80.383%)\n",
            "Train Epoch: 81   Avg_Loss: 0.39429   Acc: 521/625 (83.360%)\n",
            "Grad: [-0.11095,0.11095] Param: [-0.15978,-0.13915]\n",
            "Eval:  Avg_Loss: 0.48303   Acc: 166/209 (79.426%)\n",
            "Train Epoch: 82   Avg_Loss: 0.39414   Acc: 518/625 (82.880%)\n",
            "Grad: [0.00734,-0.00734] Param: [-0.15907,-0.13986]\n",
            "Eval:  Avg_Loss: 0.48487   Acc: 166/209 (79.426%)\n",
            "Train Epoch: 83   Avg_Loss: 0.40044   Acc: 517/625 (82.720%)\n",
            "Grad: [0.08225,-0.08225] Param: [-0.15938,-0.13955]\n",
            "Eval:  Avg_Loss: 0.47346   Acc: 166/209 (79.426%)\n",
            "Train Epoch: 84   Avg_Loss: 0.39480   Acc: 519/625 (83.040%)\n",
            "Grad: [0.08142,-0.08142] Param: [-0.16079,-0.13815]\n",
            "Eval:  Avg_Loss: 0.47752   Acc: 166/209 (79.426%)\n",
            "Train Epoch: 85   Avg_Loss: 0.39814   Acc: 523/625 (83.680%)\n",
            "Grad: [0.04602,-0.04602] Param: [-0.16039,-0.13854]\n",
            "Eval:  Avg_Loss: 0.47398   Acc: 167/209 (79.904%)\n",
            "Train Epoch: 86   Avg_Loss: 0.40879   Acc: 518/625 (82.880%)\n",
            "Grad: [0.11022,-0.11022] Param: [-0.15927,-0.13966]\n",
            "Eval:  Avg_Loss: 0.47714   Acc: 164/209 (78.469%)\n",
            "Train Epoch: 87   Avg_Loss: 0.40956   Acc: 514/625 (82.240%)\n",
            "Grad: [0.16077,-0.16077] Param: [-0.15850,-0.14043]\n",
            "Eval:  Avg_Loss: 0.46908   Acc: 169/209 (80.861%)\n",
            "Train Epoch: 88   Avg_Loss: 0.40573   Acc: 515/625 (82.400%)\n",
            "Grad: [-0.06671,0.06671] Param: [-0.15961,-0.13932]\n",
            "Eval:  Avg_Loss: 0.47921   Acc: 165/209 (78.947%)\n",
            "Train Epoch: 89   Avg_Loss: 0.39921   Acc: 523/625 (83.680%)\n",
            "Grad: [0.04913,-0.04913] Param: [-0.15925,-0.13968]\n",
            "Eval:  Avg_Loss: 0.48637   Acc: 169/209 (80.861%)\n",
            "Train Epoch: 90   Avg_Loss: 0.41386   Acc: 512/625 (81.920%)\n",
            "Grad: [0.15789,-0.15789] Param: [-0.15757,-0.14136]\n",
            "Eval:  Avg_Loss: 0.48674   Acc: 169/209 (80.861%)\n",
            "Train Epoch: 91   Avg_Loss: 0.40072   Acc: 516/625 (82.560%)\n",
            "Grad: [-0.04174,0.04174] Param: [-0.15810,-0.14083]\n",
            "Eval:  Avg_Loss: 0.47561   Acc: 168/209 (80.383%)\n",
            "Train Epoch: 92   Avg_Loss: 0.39969   Acc: 513/625 (82.080%)\n",
            "Grad: [0.07523,-0.07523] Param: [-0.15647,-0.14247]\n",
            "Eval:  Avg_Loss: 0.48659   Acc: 165/209 (78.947%)\n",
            "Train Epoch: 93   Avg_Loss: 0.39423   Acc: 520/625 (83.200%)\n",
            "Grad: [-0.02460,0.02460] Param: [-0.15750,-0.14144]\n",
            "Eval:  Avg_Loss: 0.47461   Acc: 167/209 (79.904%)\n",
            "Train Epoch: 94   Avg_Loss: 0.39611   Acc: 520/625 (83.200%)\n",
            "Grad: [0.10851,-0.10851] Param: [-0.15613,-0.14280]\n",
            "Eval:  Avg_Loss: 0.48481   Acc: 168/209 (80.383%)\n",
            "Train Epoch: 95   Avg_Loss: 0.39467   Acc: 519/625 (83.040%)\n",
            "Grad: [0.04812,-0.04812] Param: [-0.15756,-0.14137]\n",
            "Eval:  Avg_Loss: 0.48594   Acc: 168/209 (80.383%)\n",
            "Train Epoch: 96   Avg_Loss: 0.39468   Acc: 524/625 (83.840%)\n",
            "Grad: [-0.07706,0.07706] Param: [-0.15807,-0.14086]\n",
            "Eval:  Avg_Loss: 0.47805   Acc: 165/209 (78.947%)\n",
            "Train Epoch: 97   Avg_Loss: 0.39817   Acc: 518/625 (82.880%)\n",
            "Grad: [0.15287,-0.15287] Param: [-0.15795,-0.14098]\n",
            "Eval:  Avg_Loss: 0.50374   Acc: 163/209 (77.990%)\n",
            "Train Epoch: 98   Avg_Loss: 0.39511   Acc: 516/625 (82.560%)\n",
            "Grad: [-0.02589,0.02589] Param: [-0.15963,-0.13930]\n",
            "Eval:  Avg_Loss: 0.48889   Acc: 163/209 (77.990%)\n",
            "Train Epoch: 99   Avg_Loss: 0.40656   Acc: 519/625 (83.040%)\n",
            "Grad: [0.10008,-0.10008] Param: [-0.15736,-0.14158]\n",
            "Eval:  Avg_Loss: 0.47684   Acc: 168/209 (80.383%)\n",
            "Train Epoch: 100   Avg_Loss: 0.40048   Acc: 519/625 (83.040%)\n",
            "Grad: [0.02883,-0.02883] Param: [-0.15864,-0.14029]\n",
            "Eval:  Avg_Loss: 0.47956   Acc: 168/209 (80.383%)\n",
            "Train Epoch: 101   Avg_Loss: 0.38660   Acc: 522/625 (83.520%)\n",
            "Grad: [-0.06118,0.06118] Param: [-0.15745,-0.14148]\n",
            "Eval:  Avg_Loss: 0.49258   Acc: 171/209 (81.818%)\n",
            "Train Epoch: 102   Avg_Loss: 0.39707   Acc: 519/625 (83.040%)\n",
            "Grad: [-0.04948,0.04948] Param: [-0.15909,-0.13984]\n",
            "Eval:  Avg_Loss: 0.50280   Acc: 162/209 (77.512%)\n",
            "Train Epoch: 103   Avg_Loss: 0.40989   Acc: 517/625 (82.720%)\n",
            "Grad: [-0.02973,0.02973] Param: [-0.15843,-0.14050]\n",
            "Eval:  Avg_Loss: 0.47259   Acc: 167/209 (79.904%)\n",
            "Train Epoch: 104   Avg_Loss: 0.39116   Acc: 521/625 (83.360%)\n",
            "Grad: [0.00668,-0.00668] Param: [-0.15707,-0.14186]\n",
            "Eval:  Avg_Loss: 0.48975   Acc: 166/209 (79.426%)\n",
            "Train Epoch: 105   Avg_Loss: 0.39890   Acc: 519/625 (83.040%)\n",
            "Grad: [-0.05409,0.05409] Param: [-0.15731,-0.14162]\n",
            "Eval:  Avg_Loss: 0.48628   Acc: 167/209 (79.904%)\n",
            "Train Epoch: 106   Avg_Loss: 0.41014   Acc: 518/625 (82.880%)\n",
            "Grad: [0.10797,-0.10797] Param: [-0.15794,-0.14100]\n",
            "Eval:  Avg_Loss: 0.48061   Acc: 167/209 (79.904%)\n",
            "Train Epoch: 107   Avg_Loss: 0.39355   Acc: 520/625 (83.200%)\n",
            "Grad: [-0.07444,0.07444] Param: [-0.15711,-0.14182]\n",
            "Eval:  Avg_Loss: 0.48733   Acc: 165/209 (78.947%)\n",
            "Train Epoch: 108   Avg_Loss: 0.39070   Acc: 526/625 (84.160%)\n",
            "Grad: [-0.00180,0.00180] Param: [-0.15555,-0.14339]\n",
            "Eval:  Avg_Loss: 0.48820   Acc: 169/209 (80.861%)\n",
            "Train Epoch: 109   Avg_Loss: 0.39587   Acc: 517/625 (82.720%)\n",
            "Grad: [-0.03775,0.03775] Param: [-0.15800,-0.14093]\n",
            "Eval:  Avg_Loss: 0.47953   Acc: 167/209 (79.904%)\n",
            "Train Epoch: 110   Avg_Loss: 0.39381   Acc: 522/625 (83.520%)\n",
            "Grad: [-0.10258,0.10258] Param: [-0.15951,-0.13942]\n",
            "Eval:  Avg_Loss: 0.50488   Acc: 158/209 (75.598%)\n",
            "Train Epoch: 111   Avg_Loss: 0.40158   Acc: 509/625 (81.440%)\n",
            "Grad: [-0.07536,0.07536] Param: [-0.15759,-0.14134]\n",
            "Eval:  Avg_Loss: 0.47443   Acc: 167/209 (79.904%)\n",
            "Train Epoch: 112   Avg_Loss: 0.40220   Acc: 516/625 (82.560%)\n",
            "Grad: [-0.03842,0.03842] Param: [-0.15848,-0.14045]\n",
            "Eval:  Avg_Loss: 0.50286   Acc: 161/209 (77.033%)\n",
            "Train Epoch: 113   Avg_Loss: 0.39717   Acc: 511/625 (81.760%)\n",
            "Grad: [0.01460,-0.01460] Param: [-0.15796,-0.14098]\n",
            "Eval:  Avg_Loss: 0.49739   Acc: 161/209 (77.033%)\n",
            "Train Epoch: 114   Avg_Loss: 0.40117   Acc: 519/625 (83.040%)\n",
            "Grad: [-0.02504,0.02504] Param: [-0.15749,-0.14145]\n",
            "Eval:  Avg_Loss: 0.49247   Acc: 166/209 (79.426%)\n",
            "Train Epoch: 115   Avg_Loss: 0.38890   Acc: 519/625 (83.040%)\n",
            "Grad: [-0.13698,0.13698] Param: [-0.15770,-0.14123]\n",
            "Eval:  Avg_Loss: 0.48354   Acc: 167/209 (79.904%)\n",
            "Train Epoch: 116   Avg_Loss: 0.38555   Acc: 524/625 (83.840%)\n",
            "Grad: [-0.03290,0.03290] Param: [-0.15664,-0.14229]\n",
            "Eval:  Avg_Loss: 0.48769   Acc: 168/209 (80.383%)\n",
            "Train Epoch: 117   Avg_Loss: 0.39458   Acc: 513/625 (82.080%)\n",
            "Grad: [-0.07028,0.07028] Param: [-0.15540,-0.14353]\n",
            "Eval:  Avg_Loss: 0.49020   Acc: 167/209 (79.904%)\n",
            "Train Epoch: 118   Avg_Loss: 0.39048   Acc: 521/625 (83.360%)\n",
            "Grad: [0.06775,-0.06775] Param: [-0.15619,-0.14274]\n",
            "Eval:  Avg_Loss: 0.48382   Acc: 168/209 (80.383%)\n",
            "Train Epoch: 119   Avg_Loss: 0.41496   Acc: 511/625 (81.760%)\n",
            "Grad: [-0.08743,0.08743] Param: [-0.15573,-0.14320]\n",
            "Eval:  Avg_Loss: 0.57048   Acc: 165/209 (78.947%)\n",
            "Train Epoch: 120   Avg_Loss: 0.42930   Acc: 509/625 (81.440%)\n",
            "Grad: [-0.06798,0.06798] Param: [-0.15532,-0.14361]\n",
            "Eval:  Avg_Loss: 0.49675   Acc: 168/209 (80.383%)\n",
            "Train Epoch: 121   Avg_Loss: 0.40192   Acc: 520/625 (83.200%)\n",
            "Grad: [0.05986,-0.05986] Param: [-0.15547,-0.14346]\n",
            "Eval:  Avg_Loss: 0.47903   Acc: 169/209 (80.861%)\n",
            "Train Epoch: 122   Avg_Loss: 0.39543   Acc: 515/625 (82.400%)\n",
            "Grad: [-0.02352,0.02352] Param: [-0.15439,-0.14454]\n",
            "Eval:  Avg_Loss: 0.52400   Acc: 163/209 (77.990%)\n",
            "Train Epoch: 123   Avg_Loss: 0.39617   Acc: 513/625 (82.080%)\n",
            "Grad: [0.07299,-0.07299] Param: [-0.15562,-0.14332]\n",
            "Eval:  Avg_Loss: 0.48222   Acc: 167/209 (79.904%)\n",
            "Train Epoch: 124   Avg_Loss: 0.38725   Acc: 519/625 (83.040%)\n",
            "Grad: [0.06117,-0.06117] Param: [-0.15581,-0.14312]\n",
            "Eval:  Avg_Loss: 0.48060   Acc: 167/209 (79.904%)\n",
            "Train Epoch: 125   Avg_Loss: 0.38534   Acc: 521/625 (83.360%)\n",
            "Grad: [0.01991,-0.01991] Param: [-0.15647,-0.14246]\n",
            "Eval:  Avg_Loss: 0.49555   Acc: 163/209 (77.990%)\n",
            "Train Epoch: 126   Avg_Loss: 0.38391   Acc: 525/625 (84.000%)\n",
            "Grad: [-0.04582,0.04582] Param: [-0.15507,-0.14386]\n",
            "Eval:  Avg_Loss: 0.48830   Acc: 167/209 (79.904%)\n",
            "Train Epoch: 127   Avg_Loss: 0.38705   Acc: 520/625 (83.200%)\n",
            "Grad: [-0.02041,0.02041] Param: [-0.15655,-0.14238]\n",
            "Eval:  Avg_Loss: 0.48190   Acc: 166/209 (79.426%)\n",
            "Train Epoch: 128   Avg_Loss: 0.38488   Acc: 521/625 (83.360%)\n",
            "Grad: [-0.01927,0.01927] Param: [-0.15590,-0.14303]\n",
            "Eval:  Avg_Loss: 0.48339   Acc: 169/209 (80.861%)\n",
            "Train Epoch: 129   Avg_Loss: 0.39212   Acc: 515/625 (82.400%)\n",
            "Grad: [-0.24342,0.24342] Param: [-0.15639,-0.14255]\n",
            "Eval:  Avg_Loss: 0.48758   Acc: 165/209 (78.947%)\n",
            "Train Epoch: 130   Avg_Loss: 0.40435   Acc: 513/625 (82.080%)\n",
            "Grad: [-0.09229,0.09229] Param: [-0.15628,-0.14265]\n",
            "Eval:  Avg_Loss: 0.48241   Acc: 166/209 (79.426%)\n",
            "Train Epoch: 131   Avg_Loss: 0.38993   Acc: 520/625 (83.200%)\n",
            "Grad: [-0.04363,0.04363] Param: [-0.15565,-0.14328]\n",
            "Eval:  Avg_Loss: 0.48486   Acc: 166/209 (79.426%)\n",
            "Train Epoch: 132   Avg_Loss: 0.38505   Acc: 522/625 (83.520%)\n",
            "Grad: [0.02016,-0.02016] Param: [-0.15518,-0.14375]\n",
            "Eval:  Avg_Loss: 0.49492   Acc: 165/209 (78.947%)\n",
            "Train Epoch: 133   Avg_Loss: 0.39449   Acc: 515/625 (82.400%)\n",
            "Grad: [-0.02522,0.02522] Param: [-0.15514,-0.14379]\n",
            "Eval:  Avg_Loss: 0.48746   Acc: 167/209 (79.904%)\n",
            "Train Epoch: 134   Avg_Loss: 0.38034   Acc: 527/625 (84.320%)\n",
            "Grad: [0.09730,-0.09730] Param: [-0.15537,-0.14356]\n",
            "Eval:  Avg_Loss: 0.50097   Acc: 163/209 (77.990%)\n",
            "Train Epoch: 135   Avg_Loss: 0.38392   Acc: 520/625 (83.200%)\n",
            "Grad: [0.01542,-0.01542] Param: [-0.15556,-0.14337]\n",
            "Eval:  Avg_Loss: 0.48488   Acc: 167/209 (79.904%)\n",
            "Train Epoch: 136   Avg_Loss: 0.38616   Acc: 525/625 (84.000%)\n",
            "Grad: [-0.12906,0.12906] Param: [-0.15604,-0.14289]\n",
            "Eval:  Avg_Loss: 0.50713   Acc: 164/209 (78.469%)\n",
            "Train Epoch: 137   Avg_Loss: 0.37745   Acc: 520/625 (83.200%)\n",
            "Grad: [-0.04312,0.04312] Param: [-0.15345,-0.14548]\n",
            "Eval:  Avg_Loss: 0.48750   Acc: 167/209 (79.904%)\n",
            "Train Epoch: 138   Avg_Loss: 0.37714   Acc: 519/625 (83.040%)\n",
            "Grad: [0.07681,-0.07681] Param: [-0.15610,-0.14283]\n",
            "Eval:  Avg_Loss: 0.48971   Acc: 167/209 (79.904%)\n",
            "Train Epoch: 139   Avg_Loss: 0.38274   Acc: 520/625 (83.200%)\n",
            "Grad: [0.12459,-0.12459] Param: [-0.15677,-0.14216]\n",
            "Eval:  Avg_Loss: 0.49125   Acc: 165/209 (78.947%)\n",
            "Train Epoch: 140   Avg_Loss: 0.38888   Acc: 522/625 (83.520%)\n",
            "Grad: [0.13672,-0.13672] Param: [-0.15566,-0.14327]\n",
            "Eval:  Avg_Loss: 0.50393   Acc: 169/209 (80.861%)\n",
            "Train Epoch: 141   Avg_Loss: 0.38135   Acc: 527/625 (84.320%)\n",
            "Grad: [-0.01271,0.01271] Param: [-0.15714,-0.14179]\n",
            "Eval:  Avg_Loss: 0.50168   Acc: 165/209 (78.947%)\n",
            "Train Epoch: 142   Avg_Loss: 0.37921   Acc: 523/625 (83.680%)\n",
            "Grad: [0.19924,-0.19924] Param: [-0.15684,-0.14210]\n",
            "Eval:  Avg_Loss: 0.49509   Acc: 165/209 (78.947%)\n",
            "Train Epoch: 143   Avg_Loss: 0.37771   Acc: 527/625 (84.320%)\n",
            "Grad: [0.06929,-0.06929] Param: [-0.15749,-0.14144]\n",
            "Eval:  Avg_Loss: 0.49339   Acc: 166/209 (79.426%)\n",
            "Train Epoch: 144   Avg_Loss: 0.38676   Acc: 523/625 (83.680%)\n",
            "Grad: [0.14480,-0.14480] Param: [-0.15752,-0.14141]\n",
            "Eval:  Avg_Loss: 0.49026   Acc: 166/209 (79.426%)\n",
            "Train Epoch: 145   Avg_Loss: 0.38470   Acc: 531/625 (84.960%)\n",
            "Grad: [-0.06243,0.06243] Param: [-0.15814,-0.14079]\n",
            "Eval:  Avg_Loss: 0.48999   Acc: 167/209 (79.904%)\n",
            "Train Epoch: 146   Avg_Loss: 0.38501   Acc: 521/625 (83.360%)\n",
            "Grad: [-0.08833,0.08833] Param: [-0.15853,-0.14040]\n",
            "Eval:  Avg_Loss: 0.52911   Acc: 160/209 (76.555%)\n",
            "Train Epoch: 147   Avg_Loss: 0.38632   Acc: 522/625 (83.520%)\n",
            "Grad: [0.05955,-0.05955] Param: [-0.15700,-0.14193]\n",
            "Eval:  Avg_Loss: 0.49041   Acc: 167/209 (79.904%)\n",
            "Train Epoch: 148   Avg_Loss: 0.37802   Acc: 525/625 (84.000%)\n",
            "Grad: [-0.09059,0.09059] Param: [-0.15810,-0.14083]\n",
            "Eval:  Avg_Loss: 0.49937   Acc: 165/209 (78.947%)\n",
            "Train Epoch: 149   Avg_Loss: 0.37464   Acc: 521/625 (83.360%)\n",
            "Grad: [0.05585,-0.05585] Param: [-0.15750,-0.14143]\n",
            "Eval:  Avg_Loss: 0.49793   Acc: 163/209 (77.990%)\n",
            "Train Epoch: 150   Avg_Loss: 0.37777   Acc: 521/625 (83.360%)\n",
            "Grad: [-0.02655,0.02655] Param: [-0.15871,-0.14022]\n",
            "Eval:  Avg_Loss: 0.53409   Acc: 159/209 (76.077%)\n",
            "Train Epoch: 151   Avg_Loss: 0.38791   Acc: 510/625 (81.600%)\n",
            "Grad: [-0.01915,0.01915] Param: [-0.15917,-0.13976]\n",
            "Eval:  Avg_Loss: 0.49264   Acc: 164/209 (78.469%)\n",
            "Train Epoch: 152   Avg_Loss: 0.37666   Acc: 523/625 (83.680%)\n",
            "Grad: [-0.03445,0.03445] Param: [-0.15806,-0.14087]\n",
            "Eval:  Avg_Loss: 0.50312   Acc: 164/209 (78.469%)\n",
            "Train Epoch: 153   Avg_Loss: 0.38018   Acc: 523/625 (83.680%)\n",
            "Grad: [-0.10769,0.10769] Param: [-0.15783,-0.14110]\n",
            "Eval:  Avg_Loss: 0.49242   Acc: 167/209 (79.904%)\n",
            "Train Epoch: 154   Avg_Loss: 0.37473   Acc: 523/625 (83.680%)\n",
            "Grad: [0.07090,-0.07090] Param: [-0.15671,-0.14222]\n",
            "Eval:  Avg_Loss: 0.49351   Acc: 166/209 (79.426%)\n",
            "Train Epoch: 155   Avg_Loss: 0.37570   Acc: 521/625 (83.360%)\n",
            "Grad: [0.02096,-0.02096] Param: [-0.15665,-0.14228]\n",
            "Eval:  Avg_Loss: 0.52015   Acc: 163/209 (77.990%)\n",
            "Train Epoch: 156   Avg_Loss: 0.38316   Acc: 521/625 (83.360%)\n",
            "Grad: [0.02785,-0.02785] Param: [-0.15586,-0.14307]\n",
            "Eval:  Avg_Loss: 0.49089   Acc: 167/209 (79.904%)\n",
            "Train Epoch: 157   Avg_Loss: 0.37663   Acc: 521/625 (83.360%)\n",
            "Grad: [0.04492,-0.04492] Param: [-0.15754,-0.14139]\n",
            "Eval:  Avg_Loss: 0.50005   Acc: 166/209 (79.426%)\n",
            "Train Epoch: 158   Avg_Loss: 0.37431   Acc: 521/625 (83.360%)\n",
            "Grad: [0.06366,-0.06366] Param: [-0.15730,-0.14163]\n",
            "Eval:  Avg_Loss: 0.53591   Acc: 160/209 (76.555%)\n",
            "Train Epoch: 159   Avg_Loss: 0.38500   Acc: 516/625 (82.560%)\n",
            "Grad: [-0.06086,0.06086] Param: [-0.15768,-0.14125]\n",
            "Eval:  Avg_Loss: 0.48924   Acc: 166/209 (79.426%)\n",
            "Train Epoch: 160   Avg_Loss: 0.37675   Acc: 527/625 (84.320%)\n",
            "Grad: [-0.03910,0.03910] Param: [-0.15634,-0.14259]\n",
            "Eval:  Avg_Loss: 0.50635   Acc: 166/209 (79.426%)\n",
            "Train Epoch: 161   Avg_Loss: 0.37651   Acc: 522/625 (83.520%)\n",
            "Grad: [0.00690,-0.00690] Param: [-0.15562,-0.14331]\n",
            "Eval:  Avg_Loss: 0.50463   Acc: 166/209 (79.426%)\n",
            "Train Epoch: 162   Avg_Loss: 0.37681   Acc: 519/625 (83.040%)\n",
            "Grad: [-0.16110,0.16110] Param: [-0.15767,-0.14126]\n",
            "Eval:  Avg_Loss: 0.50206   Acc: 166/209 (79.426%)\n",
            "Train Epoch: 163   Avg_Loss: 0.37770   Acc: 521/625 (83.360%)\n",
            "Grad: [0.07637,-0.07637] Param: [-0.15700,-0.14193]\n",
            "Eval:  Avg_Loss: 0.50575   Acc: 163/209 (77.990%)\n",
            "Train Epoch: 164   Avg_Loss: 0.37720   Acc: 517/625 (82.720%)\n",
            "Grad: [0.14424,-0.14424] Param: [-0.15629,-0.14264]\n",
            "Eval:  Avg_Loss: 0.49476   Acc: 169/209 (80.861%)\n",
            "Train Epoch: 165   Avg_Loss: 0.37937   Acc: 527/625 (84.320%)\n",
            "Grad: [0.01098,-0.01098] Param: [-0.15882,-0.14011]\n",
            "Eval:  Avg_Loss: 0.51503   Acc: 164/209 (78.469%)\n",
            "Train Epoch: 166   Avg_Loss: 0.37313   Acc: 520/625 (83.200%)\n",
            "Grad: [0.02068,-0.02068] Param: [-0.15909,-0.13984]\n",
            "Eval:  Avg_Loss: 0.49478   Acc: 165/209 (78.947%)\n",
            "Train Epoch: 167   Avg_Loss: 0.38188   Acc: 523/625 (83.680%)\n",
            "Grad: [-0.01340,0.01340] Param: [-0.15792,-0.14102]\n",
            "Eval:  Avg_Loss: 0.50810   Acc: 167/209 (79.904%)\n",
            "Train Epoch: 168   Avg_Loss: 0.37612   Acc: 523/625 (83.680%)\n",
            "Grad: [0.01866,-0.01866] Param: [-0.15759,-0.14134]\n",
            "Eval:  Avg_Loss: 0.50223   Acc: 165/209 (78.947%)\n",
            "Train Epoch: 169   Avg_Loss: 0.39291   Acc: 516/625 (82.560%)\n",
            "Grad: [-0.02532,0.02532] Param: [-0.15933,-0.13960]\n",
            "Eval:  Avg_Loss: 0.52445   Acc: 163/209 (77.990%)\n",
            "Train Epoch: 170   Avg_Loss: 0.38398   Acc: 516/625 (82.560%)\n",
            "Grad: [0.02996,-0.02996] Param: [-0.15762,-0.14131]\n",
            "Eval:  Avg_Loss: 0.49908   Acc: 169/209 (80.861%)\n",
            "Train Epoch: 171   Avg_Loss: 0.39145   Acc: 522/625 (83.520%)\n",
            "Grad: [0.00333,-0.00333] Param: [-0.15766,-0.14127]\n",
            "Eval:  Avg_Loss: 0.53039   Acc: 165/209 (78.947%)\n",
            "Train Epoch: 172   Avg_Loss: 0.39282   Acc: 513/625 (82.080%)\n",
            "Grad: [0.07764,-0.07764] Param: [-0.15650,-0.14243]\n",
            "Eval:  Avg_Loss: 0.52858   Acc: 167/209 (79.904%)\n",
            "Train Epoch: 173   Avg_Loss: 0.37901   Acc: 523/625 (83.680%)\n",
            "Grad: [-0.14939,0.14939] Param: [-0.15787,-0.14107]\n",
            "Eval:  Avg_Loss: 0.55124   Acc: 159/209 (76.077%)\n",
            "Train Epoch: 174   Avg_Loss: 0.37383   Acc: 520/625 (83.200%)\n",
            "Grad: [-0.06277,0.06277] Param: [-0.15386,-0.14507]\n",
            "Eval:  Avg_Loss: 0.49903   Acc: 170/209 (81.340%)\n",
            "Train Epoch: 175   Avg_Loss: 0.36985   Acc: 525/625 (84.000%)\n",
            "Grad: [-0.12003,0.12003] Param: [-0.15468,-0.14425]\n",
            "Eval:  Avg_Loss: 0.51100   Acc: 165/209 (78.947%)\n",
            "Train Epoch: 176   Avg_Loss: 0.36756   Acc: 520/625 (83.200%)\n",
            "Grad: [-0.05353,0.05353] Param: [-0.15470,-0.14423]\n",
            "Eval:  Avg_Loss: 0.50348   Acc: 164/209 (78.469%)\n",
            "Train Epoch: 177   Avg_Loss: 0.37069   Acc: 523/625 (83.680%)\n",
            "Grad: [0.05826,-0.05826] Param: [-0.15484,-0.14409]\n",
            "Eval:  Avg_Loss: 0.50954   Acc: 166/209 (79.426%)\n",
            "Train Epoch: 178   Avg_Loss: 0.36620   Acc: 524/625 (83.840%)\n",
            "Grad: [-0.10374,0.10374] Param: [-0.15550,-0.14343]\n",
            "Eval:  Avg_Loss: 0.51890   Acc: 165/209 (78.947%)\n",
            "Train Epoch: 179   Avg_Loss: 0.37841   Acc: 522/625 (83.520%)\n",
            "Grad: [-0.15156,0.15156] Param: [-0.15544,-0.14349]\n",
            "Eval:  Avg_Loss: 0.51053   Acc: 161/209 (77.033%)\n",
            "Train Epoch: 180   Avg_Loss: 0.36953   Acc: 519/625 (83.040%)\n",
            "Grad: [-0.03906,0.03906] Param: [-0.15494,-0.14399]\n",
            "Eval:  Avg_Loss: 0.50765   Acc: 162/209 (77.512%)\n",
            "Train Epoch: 181   Avg_Loss: 0.37927   Acc: 521/625 (83.360%)\n",
            "Grad: [-0.09422,0.09422] Param: [-0.15474,-0.14419]\n",
            "Eval:  Avg_Loss: 0.51093   Acc: 164/209 (78.469%)\n",
            "Train Epoch: 182   Avg_Loss: 0.36645   Acc: 520/625 (83.200%)\n",
            "Grad: [0.03155,-0.03155] Param: [-0.15257,-0.14636]\n",
            "Eval:  Avg_Loss: 0.51253   Acc: 167/209 (79.904%)\n",
            "Train Epoch: 183   Avg_Loss: 0.36669   Acc: 523/625 (83.680%)\n",
            "Grad: [0.11170,-0.11170] Param: [-0.15314,-0.14579]\n",
            "Eval:  Avg_Loss: 0.50515   Acc: 167/209 (79.904%)\n",
            "Train Epoch: 184   Avg_Loss: 0.37013   Acc: 525/625 (84.000%)\n",
            "Grad: [0.14012,-0.14012] Param: [-0.15340,-0.14554]\n",
            "Eval:  Avg_Loss: 0.50207   Acc: 167/209 (79.904%)\n",
            "Train Epoch: 185   Avg_Loss: 0.37259   Acc: 520/625 (83.200%)\n",
            "Grad: [-0.07846,0.07846] Param: [-0.15378,-0.14515]\n",
            "Eval:  Avg_Loss: 0.52400   Acc: 165/209 (78.947%)\n",
            "Train Epoch: 186   Avg_Loss: 0.37994   Acc: 521/625 (83.360%)\n",
            "Grad: [-0.06638,0.06638] Param: [-0.15405,-0.14488]\n",
            "Eval:  Avg_Loss: 0.49571   Acc: 164/209 (78.469%)\n",
            "Train Epoch: 187   Avg_Loss: 0.36820   Acc: 526/625 (84.160%)\n",
            "Grad: [0.04874,-0.04874] Param: [-0.15362,-0.14531]\n",
            "Eval:  Avg_Loss: 0.50594   Acc: 167/209 (79.904%)\n",
            "Train Epoch: 188   Avg_Loss: 0.36730   Acc: 521/625 (83.360%)\n",
            "Grad: [0.07619,-0.07619] Param: [-0.15395,-0.14498]\n",
            "Eval:  Avg_Loss: 0.51660   Acc: 164/209 (78.469%)\n",
            "Train Epoch: 189   Avg_Loss: 0.38995   Acc: 519/625 (83.040%)\n",
            "Grad: [0.13808,-0.13808] Param: [-0.15409,-0.14484]\n",
            "Eval:  Avg_Loss: 0.50849   Acc: 166/209 (79.426%)\n",
            "Train Epoch: 190   Avg_Loss: 0.37789   Acc: 526/625 (84.160%)\n",
            "Grad: [0.24424,-0.24424] Param: [-0.15373,-0.14521]\n",
            "Eval:  Avg_Loss: 0.50446   Acc: 167/209 (79.904%)\n",
            "Train Epoch: 191   Avg_Loss: 0.37467   Acc: 525/625 (84.000%)\n",
            "Grad: [0.10809,-0.10809] Param: [-0.15192,-0.14701]\n",
            "Eval:  Avg_Loss: 0.55656   Acc: 159/209 (76.077%)\n",
            "Train Epoch: 192   Avg_Loss: 0.36829   Acc: 519/625 (83.040%)\n",
            "Grad: [-0.09770,0.09770] Param: [-0.15514,-0.14379]\n",
            "Eval:  Avg_Loss: 0.54761   Acc: 163/209 (77.990%)\n",
            "Train Epoch: 193   Avg_Loss: 0.37864   Acc: 517/625 (82.720%)\n",
            "Grad: [-0.08826,0.08826] Param: [-0.15258,-0.14635]\n",
            "Eval:  Avg_Loss: 0.50222   Acc: 167/209 (79.904%)\n",
            "Train Epoch: 194   Avg_Loss: 0.36928   Acc: 522/625 (83.520%)\n",
            "Grad: [0.00083,-0.00083] Param: [-0.15352,-0.14541]\n",
            "Eval:  Avg_Loss: 0.53628   Acc: 162/209 (77.512%)\n",
            "Train Epoch: 195   Avg_Loss: 0.38232   Acc: 524/625 (83.840%)\n",
            "Grad: [-0.00632,0.00632] Param: [-0.15235,-0.14659]\n",
            "Eval:  Avg_Loss: 0.50025   Acc: 166/209 (79.426%)\n",
            "Train Epoch: 196   Avg_Loss: 0.36886   Acc: 528/625 (84.480%)\n",
            "Grad: [0.00871,-0.00871] Param: [-0.15287,-0.14606]\n",
            "Eval:  Avg_Loss: 0.50844   Acc: 166/209 (79.426%)\n",
            "Train Epoch: 197   Avg_Loss: 0.36583   Acc: 526/625 (84.160%)\n",
            "Grad: [-0.06916,0.06916] Param: [-0.15263,-0.14630]\n",
            "Eval:  Avg_Loss: 0.51722   Acc: 167/209 (79.904%)\n",
            "Train Epoch: 198   Avg_Loss: 0.36914   Acc: 522/625 (83.520%)\n",
            "Grad: [0.08607,-0.08607] Param: [-0.15204,-0.14689]\n",
            "Eval:  Avg_Loss: 0.51486   Acc: 163/209 (77.990%)\n",
            "Train Epoch: 199   Avg_Loss: 0.37044   Acc: 518/625 (82.880%)\n",
            "Grad: [-0.04227,0.04227] Param: [-0.15228,-0.14665]\n",
            "Eval:  Avg_Loss: 0.53103   Acc: 166/209 (79.426%)\n",
            "Train Epoch: 200   Avg_Loss: 0.36309   Acc: 522/625 (83.520%)\n",
            "Grad: [0.18153,-0.18153] Param: [-0.14957,-0.14936]\n",
            "Eval:  Avg_Loss: 0.52784   Acc: 168/209 (80.383%)\n",
            "\n",
            "\n",
            "\n",
            "Optimization ended.\n",
            "\n"
          ],
          "name": "stdout"
        }
      ]
    },
    {
      "cell_type": "code",
      "metadata": {
        "colab": {
          "base_uri": "https://localhost:8080/"
        },
        "id": "tIuAjgVs28Wj",
        "outputId": "f8e9739f-5a46-4dc7-8b04-85951d7d50dc"
      },
      "source": [
        "size = len(list(neural_net.parameters(recurse=True)))\n",
        "i = 1\n",
        "for param in neural_net.parameters(recurse=True):\n",
        "  print(type(param), param.size())\n",
        "  if i == size:\n",
        "    print(param.data)\n",
        "    print(param.grad)\n",
        "  i = i+1\n",
        "\n",
        "last_param = list(neural_net.parameters(recurse=True))[-1]\n",
        "print('Grad: [{:.5f},{:.5f}] Param: [{:.5f},{:.5f}]'.format(last_param.grad.tolist()[0],\n",
        "                                                                last_param.grad.tolist()[1],\n",
        "                                                                last_param.data.tolist()[0],\n",
        "                                                                last_param.data.tolist()[1]))"
      ],
      "execution_count": 31,
      "outputs": [
        {
          "output_type": "stream",
          "text": [
            "<class 'torch.nn.parameter.Parameter'> torch.Size([20, 12])\n",
            "<class 'torch.nn.parameter.Parameter'> torch.Size([20])\n",
            "<class 'torch.nn.parameter.Parameter'> torch.Size([40, 20])\n",
            "<class 'torch.nn.parameter.Parameter'> torch.Size([40])\n",
            "<class 'torch.nn.parameter.Parameter'> torch.Size([20, 40])\n",
            "<class 'torch.nn.parameter.Parameter'> torch.Size([20])\n",
            "<class 'torch.nn.parameter.Parameter'> torch.Size([2, 20])\n",
            "<class 'torch.nn.parameter.Parameter'> torch.Size([2])\n",
            "tensor([-0.1496, -0.1494], device='cuda:0')\n",
            "tensor([ 0.1815, -0.1815], device='cuda:0')\n",
            "Grad: [0.18153,-0.18153] Param: [-0.14957,-0.14936]\n"
          ],
          "name": "stdout"
        }
      ]
    },
    {
      "cell_type": "markdown",
      "metadata": {
        "id": "86OZRLrjavmd"
      },
      "source": [
        "## Interpreting the output of the neural network"
      ]
    },
    {
      "cell_type": "code",
      "metadata": {
        "id": "mklvQruYavme",
        "colab": {
          "base_uri": "https://localhost:8080/"
        },
        "outputId": "a34325c2-7f26-46ce-a635-36d5913905cf"
      },
      "source": [
        "# Activate the evaluation mode\n",
        "neural_net = neural_net.eval()\n",
        "\n",
        "# Select the first 10 data points of the validation set\n",
        "data, target = val_dataset[0:10]\n",
        "data = data.to(device)\n",
        "\n",
        "# Executing the neural network\n",
        "output = neural_net(data)   # equivalent to neural_net.forward(data)\n",
        "\n",
        "# Transform the output into a probability distribution with a softmax function\n",
        "output_proba = F.softmax(output, dim=1)\n",
        "\n",
        "# Print the probability\n",
        "print(output_proba)"
      ],
      "execution_count": 32,
      "outputs": [
        {
          "output_type": "stream",
          "text": [
            "tensor([[0.9082, 0.0918],\n",
            "        [0.8837, 0.1163],\n",
            "        [0.8416, 0.1584],\n",
            "        [0.8800, 0.1200],\n",
            "        [0.0048, 0.9952],\n",
            "        [0.9091, 0.0909],\n",
            "        [0.0026, 0.9974],\n",
            "        [0.9493, 0.0507],\n",
            "        [0.5210, 0.4790],\n",
            "        [0.9347, 0.0653]], device='cuda:0', grad_fn=<SoftmaxBackward>)\n"
          ],
          "name": "stdout"
        }
      ]
    },
    {
      "cell_type": "code",
      "metadata": {
        "id": "RvIEqKt0qjeT",
        "colab": {
          "base_uri": "https://localhost:8080/"
        },
        "outputId": "b625629f-de07-49ee-a7db-3a1a88a98ec2"
      },
      "source": [
        "# For each example, retrieve the class with the highest probability.\n",
        "dummy, prediction = torch.max(output_proba, dim=1)\n",
        "\n",
        "print(\"Model predictions\")\n",
        "print(prediction)\n",
        "print(dummy)\n",
        "print(\"Targets\")\n",
        "print(target)"
      ],
      "execution_count": 33,
      "outputs": [
        {
          "output_type": "stream",
          "text": [
            "Model predictions\n",
            "tensor([0, 0, 0, 0, 1, 0, 1, 0, 0, 0], device='cuda:0')\n",
            "tensor([0.9082, 0.8837, 0.8416, 0.8800, 0.9952, 0.9091, 0.9974, 0.9493, 0.5210,\n",
            "        0.9347], device='cuda:0', grad_fn=<MaxBackward0>)\n",
            "Targets\n",
            "tensor([0, 0, 0, 0, 0, 1, 1, 0, 0, 0])\n"
          ],
          "name": "stdout"
        }
      ]
    },
    {
      "cell_type": "code",
      "metadata": {
        "colab": {
          "base_uri": "https://localhost:8080/"
        },
        "id": "wn8s38SJio1W",
        "outputId": "b4213f60-5140-4833-b6e1-48c44da6357a"
      },
      "source": [
        "F1_score = f1_score(target.cpu().numpy(), prediction.cpu().numpy())\n",
        "print(f'F1 score is {F1_score:.2%}'.format(F1_score))"
      ],
      "execution_count": 34,
      "outputs": [
        {
          "output_type": "stream",
          "text": [
            "F1 score is 68.75%\n"
          ],
          "name": "stdout"
        }
      ]
    },
    {
      "cell_type": "markdown",
      "metadata": {
        "id": "V11J3Jihavmy"
      },
      "source": [
        "## Visualizing of the learning curve"
      ]
    },
    {
      "cell_type": "markdown",
      "metadata": {
        "id": "j9_9C_tXavmz"
      },
      "source": [
        "Learning curves allow detecting problems that may have occurred during learning, for example, unstable learning, underfitting, or overfitting."
      ]
    },
    {
      "cell_type": "code",
      "metadata": {
        "id": "iNcbpl0tavm0",
        "colab": {
          "base_uri": "https://localhost:8080/",
          "height": 282
        },
        "outputId": "53a1aec7-800b-49b1-dcd9-7e5a8d37fe0d"
      },
      "source": [
        "x = list(range(len(train_losses)))\n",
        "ax = plt.subplot(111)\n",
        "plt.plot(x, train_losses, 'r', label=\"Train\")\n",
        "plt.plot(x, val_losses, 'g', label=\"Validation\")\n",
        "plt.xlabel('epoch')\n",
        "plt.ylabel('Cross-entropy loss')\n",
        "plt.grid()\n",
        "leg = plt.legend(loc='best', ncol=2, mode=\"expand\", shadow=False, fancybox=False)\n",
        "leg.get_frame().set_alpha(0.99)"
      ],
      "execution_count": 35,
      "outputs": [
        {
          "output_type": "display_data",
          "data": {
            "image/png": "[encoded data removed]",
            "text/plain": [
              "<Figure size 432x288 with 1 Axes>"
            ]
          },
          "metadata": {
            "tags": [],
            "needs_background": "light"
          }
        }
      ]
    },
    {
      "cell_type": "code",
      "metadata": {
        "id": "g-VGQ2pMavm4",
        "colab": {
          "base_uri": "https://localhost:8080/",
          "height": 279
        },
        "outputId": "defa3154-736f-4f84-b80f-ec9b27210463"
      },
      "source": [
        "x = list(range(len(train_accuracies)))\n",
        "ax = plt.subplot(111)\n",
        "plt.plot(x, train_accuracies, 'r', label=\"Train\")\n",
        "plt.plot(x, val_accuracies, 'g', label=\"Validation\")\n",
        "plt.xlabel('epoch')\n",
        "plt.ylabel('Accuracy')\n",
        "plt.grid()\n",
        "leg = plt.legend(loc='best', ncol=2, mode=\"expand\", shadow=False, fancybox=False)\n",
        "leg.get_frame().set_alpha(0.99)"
      ],
      "execution_count": 36,
      "outputs": [
        {
          "output_type": "display_data",
          "data": {
            "image/png": "[encoded data removed]",
            "text/plain": [
              "<Figure size 432x288 with 1 Axes>"
            ]
          },
          "metadata": {
            "tags": [],
            "needs_background": "light"
          }
        }
      ]
    },
    {
      "cell_type": "code",
      "metadata": {
        "colab": {
          "base_uri": "https://localhost:8080/",
          "height": 279
        },
        "id": "FvxtG2qIKjtB",
        "outputId": "3ec710f3-be1a-4150-fa9a-21acc8d7a754"
      },
      "source": [
        "x = [item[0] for item in train_params]\n",
        "y = [item[1] for item in train_params]\n",
        "u = [item[0] for item in train_grads]\n",
        "v = [item[1] for item in train_grads]\n",
        "\n",
        "plt.quiver(x,y,u,v)\n",
        "plt.plot(x, y, 'b', label=\"Train output parameter\")\n",
        "plt.xlabel('x')\n",
        "plt.ylabel('y')\n",
        "plt.grid()\n",
        "leg = plt.legend(loc='best')\n",
        "leg.get_frame().set_alpha(0.99)"
      ],
      "execution_count": 37,
      "outputs": [
        {
          "output_type": "display_data",
          "data": {
            "image/png": "[encoded data removed]",
            "text/plain": [
              "<Figure size 432x288 with 1 Axes>"
            ]
          },
          "metadata": {
            "tags": [],
            "needs_background": "light"
          }
        }
      ]
    },
    {
      "cell_type": "code",
      "metadata": {
        "colab": {
          "base_uri": "https://localhost:8080/",
          "height": 248
        },
        "id": "M1I4tjqyS75T",
        "outputId": "77a218b2-f17b-4006-a805-00f49a281164"
      },
      "source": [
        "from mpl_toolkits import mplot3d\n",
        "%matplotlib inline\n",
        "import numpy as np\n",
        "import matplotlib.pyplot as plt\n",
        "import matplotlib.colors\n",
        "\n",
        "fig = plt.figure()\n",
        "ax = plt.axes(projection='3d')\n",
        "\n",
        "ax.set_xlabel('x')\n",
        "ax.set_ylabel('y')\n",
        "ax.set_zlabel('epoch')\n",
        "\n",
        "xdata = [item[0] for item in train_params]\n",
        "ydata = [item[1] for item in train_params]\n",
        "zdata = list(range(len(train_params)))\n",
        "u = [item[0] for item in train_grads]\n",
        "v = [item[1] for item in train_grads]\n",
        "norm_grad = np.sqrt(np.array(u)**2 + np.array(v)**2)\n",
        "norm = matplotlib.colors.Normalize(vmin=min(norm_grad),vmax=max(norm_grad),clip=True)\n",
        "ax.plot3D(xdata, ydata, zdata)#, c=norm_grad, cmap='Blues',norm=norm)\n",
        "#ax.quiver3D(xdata,ydata,zdata,u,v,zdata,normalize=True)\n",
        "plt.show()"
      ],
      "execution_count": 48,
      "outputs": [
        {
          "output_type": "display_data",
          "data": {
            "image/png": "[encoded data removed]",
            "text/plain": [
              "<Figure size 432x288 with 1 Axes>"
            ]
          },
          "metadata": {
            "tags": [],
            "needs_background": "light"
          }
        }
      ]
    },
    {
      "cell_type": "markdown",
      "metadata": {
        "id": "8oktkpkuqjet"
      },
      "source": [
        "### Exercise 6\n",
        "\n",
        "*   What do you observe in the previous graphs?\n",
        "*   At which epoch is it interesting to retrieve the model parameters for inference?"
      ]
    },
    {
      "cell_type": "markdown",
      "metadata": {
        "id": "qwhRt39yzug-"
      },
      "source": [
        "Stop around epoch 75 to not overfitting"
      ]
    },
    {
      "cell_type": "markdown",
      "metadata": {
        "id": "XK_eUsq3avm8"
      },
      "source": [
        "## Evaluating the model"
      ]
    },
    {
      "cell_type": "markdown",
      "metadata": {
        "id": "4UREO5elavm8"
      },
      "source": [
        "We can finally evaluate our model on our test set and compare with the validation set."
      ]
    },
    {
      "cell_type": "code",
      "metadata": {
        "id": "3UZPvzjxlusr",
        "colab": {
          "base_uri": "https://localhost:8080/"
        },
        "outputId": "9b411a42-be05-4ff7-d927-faf6eb1a53ba"
      },
      "source": [
        "valid_loss, valid_acc = evaluate(neural_net, val_loader, device)"
      ],
      "execution_count": 39,
      "outputs": [
        {
          "output_type": "stream",
          "text": [
            "Eval:  Avg_Loss: 0.52784   Acc: 168/209 (80.383%)\n"
          ],
          "name": "stdout"
        }
      ]
    },
    {
      "cell_type": "code",
      "metadata": {
        "id": "pPWvDM-qavm8",
        "colab": {
          "base_uri": "https://localhost:8080/"
        },
        "outputId": "b1889955-f8aa-441c-a12c-cbb6132e8891"
      },
      "source": [
        "test_loss, test_acc = evaluate(neural_net, test_loader, device)"
      ],
      "execution_count": 40,
      "outputs": [
        {
          "output_type": "stream",
          "text": [
            "Eval:  Avg_Loss: 0.51534   Acc: 167/209 (79.904%)\n"
          ],
          "name": "stdout"
        }
      ]
    },
    {
      "cell_type": "markdown",
      "metadata": {
        "id": "EvP_-KUwqjez"
      },
      "source": [
        "### Exercise 7\n",
        "\n",
        "* Compare validation and test metrics.\n",
        "* Do you think the chosen features are informative of the fate of the passenger?"
      ]
    },
    {
      "cell_type": "markdown",
      "metadata": {
        "id": "Ov4CKUFh5tun"
      },
      "source": [
        "... # To complete.\n",
        "\n",
        "\n"
      ]
    },
    {
      "cell_type": "code",
      "metadata": {
        "colab": {
          "base_uri": "https://localhost:8080/"
        },
        "id": "AfUHiLk5jbC8",
        "outputId": "51cd426c-707e-4f6f-be13-30719e53641c"
      },
      "source": [
        "!pip install torchviz"
      ],
      "execution_count": 41,
      "outputs": [
        {
          "output_type": "stream",
          "text": [
            "Collecting torchviz\n",
            "  Downloading https://files.pythonhosted.org/packages/79/e7/643808913211d6c1fc96a3a4333bf4c9276858fab00bcafaf98ea58a97be/torchviz-0.0.2.tar.gz\n",
            "Requirement already satisfied: torch in /usr/local/lib/python3.7/dist-packages (from torchviz) (1.8.1+cu101)\n",
            "Requirement already satisfied: graphviz in /usr/local/lib/python3.7/dist-packages (from torchviz) (0.10.1)\n",
            "Requirement already satisfied: typing-extensions in /usr/local/lib/python3.7/dist-packages (from torch->torchviz) (3.7.4.3)\n",
            "Requirement already satisfied: numpy in /usr/local/lib/python3.7/dist-packages (from torch->torchviz) (1.19.5)\n",
            "Building wheels for collected packages: torchviz\n",
            "  Building wheel for torchviz (setup.py) ... \u001b[?25l\u001b[?25hdone\n",
            "  Created wheel for torchviz: filename=torchviz-0.0.2-cp37-none-any.whl size=4152 sha256=d4f75dfac9ba7658b79ad4b094c7ab1ea92673f9662fce0497b21c4c4aa690ca\n",
            "  Stored in directory: /root/.cache/pip/wheels/01/26/58/026ffd533dbe8b3972eb423da9c7949beca68d1c98ed9e8624\n",
            "Successfully built torchviz\n",
            "Installing collected packages: torchviz\n",
            "Successfully installed torchviz-0.0.2\n"
          ],
          "name": "stdout"
        }
      ]
    },
    {
      "cell_type": "code",
      "metadata": {
        "id": "rueFjis6YlLN",
        "colab": {
          "base_uri": "https://localhost:8080/",
          "height": 924
        },
        "outputId": "56eefb6f-25f8-49bf-84b8-717ec4adf5f7"
      },
      "source": [
        "import graphviz\n",
        "import torchviz\n",
        "\n",
        "torchviz.make_dot(output,params=dict(neural_net.named_parameters()))"
      ],
      "execution_count": 42,
      "outputs": [
        {
          "output_type": "execute_result",
          "data": {
            "text/plain": [
              "<graphviz.dot.Digraph at 0x7f1407b50d50>"
            ],
            "image/svg+xml": "<?xml version=\"1.0\" encoding=\"UTF-8\" standalone=\"no\"?>\n<!DOCTYPE svg PUBLIC \"-//W3C//DTD SVG 1.1//EN\"\n \"http://www.w3.org/Graphics/SVG/1.1/DTD/svg11.dtd\">\n<!-- Generated by graphviz version 2.40.1 (20161225.0304)\n -->\n<!-- Title: %3 Pages: 1 -->\n<svg width=\"450pt\" height=\"677pt\"\n viewBox=\"0.00 0.00 450.00 677.00\" xmlns=\"http://www.w3.org/2000/svg\" xmlns:xlink=\"http://www.w3.org/1999/xlink\">\n<g id=\"graph0\" class=\"graph\" transform=\"scale(1 1) rotate(0) translate(4 673)\">\n<title>%3</title>\n<polygon fill=\"#ffffff\" stroke=\"transparent\" points=\"-4,4 -4,-673 446,-673 446,4 -4,4\"/>\n<!-- 139721940825664 -->\n<g id=\"node1\" class=\"node\">\n<title>139721940825664</title>\n<polygon fill=\"#caff70\" stroke=\"#000000\" points=\"251,-31 186,-31 186,0 251,0 251,-31\"/>\n<text text-anchor=\"middle\" x=\"218.5\" y=\"-7\" font-family=\"monospace\" font-size=\"10.00\" fill=\"#000000\"> (10, 2)</text>\n</g>\n<!-- 139724005379536 -->\n<g id=\"node2\" class=\"node\">\n<title>139724005379536</title>\n<polygon fill=\"#d3d3d3\" stroke=\"#000000\" points=\"266,-86 171,-86 171,-67 266,-67 266,-86\"/>\n<text text-anchor=\"middle\" x=\"218.5\" y=\"-74\" font-family=\"monospace\" font-size=\"10.00\" fill=\"#000000\">AddmmBackward</text>\n</g>\n<!-- 139724005379536&#45;&gt;139721940825664 -->\n<g id=\"edge27\" class=\"edge\">\n<title>139724005379536&#45;&gt;139721940825664</title>\n<path fill=\"none\" stroke=\"#000000\" d=\"M218.5,-66.9688C218.5,-60.1289 218.5,-50.5621 218.5,-41.5298\"/>\n<polygon fill=\"#000000\" stroke=\"#000000\" points=\"222.0001,-41.3678 218.5,-31.3678 215.0001,-41.3678 222.0001,-41.3678\"/>\n</g>\n<!-- 139724005379344 -->\n<g id=\"node3\" class=\"node\">\n<title>139724005379344</title>\n<polygon fill=\"#d3d3d3\" stroke=\"#000000\" points=\"153,-141 52,-141 52,-122 153,-122 153,-141\"/>\n<text text-anchor=\"middle\" x=\"102.5\" y=\"-129\" font-family=\"monospace\" font-size=\"10.00\" fill=\"#000000\">AccumulateGrad</text>\n</g>\n<!-- 139724005379344&#45;&gt;139724005379536 -->\n<g id=\"edge1\" class=\"edge\">\n<title>139724005379344&#45;&gt;139724005379536</title>\n<path fill=\"none\" stroke=\"#000000\" d=\"M122.7057,-121.9197C140.9737,-113.2581 168.1018,-100.3957 188.8304,-90.5675\"/>\n<polygon fill=\"#000000\" stroke=\"#000000\" points=\"190.6004,-93.6018 198.1367,-86.155 187.6014,-87.2768 190.6004,-93.6018\"/>\n</g>\n<!-- 139721404702304 -->\n<g id=\"node4\" class=\"node\">\n<title>139721404702304</title>\n<polygon fill=\"#add8e6\" stroke=\"#000000\" points=\"144,-207 61,-207 61,-177 144,-177 144,-207\"/>\n<text text-anchor=\"middle\" x=\"102.5\" y=\"-195\" font-family=\"monospace\" font-size=\"10.00\" fill=\"#000000\">output.bias</text>\n<text text-anchor=\"middle\" x=\"102.5\" y=\"-184\" font-family=\"monospace\" font-size=\"10.00\" fill=\"#000000\"> (2)</text>\n</g>\n<!-- 139721404702304&#45;&gt;139724005379344 -->\n<g id=\"edge2\" class=\"edge\">\n<title>139721404702304&#45;&gt;139724005379344</title>\n<path fill=\"none\" stroke=\"#000000\" d=\"M102.5,-176.7333C102.5,-169.0322 102.5,-159.5977 102.5,-151.3414\"/>\n<polygon fill=\"#000000\" stroke=\"#000000\" points=\"106.0001,-151.0864 102.5,-141.0864 99.0001,-151.0864 106.0001,-151.0864\"/>\n</g>\n<!-- 139724005379728 -->\n<g id=\"node5\" class=\"node\">\n<title>139724005379728</title>\n<polygon fill=\"#d3d3d3\" stroke=\"#000000\" points=\"266,-141 171,-141 171,-122 266,-122 266,-141\"/>\n<text text-anchor=\"middle\" x=\"218.5\" y=\"-129\" font-family=\"monospace\" font-size=\"10.00\" fill=\"#000000\">ReluBackward0</text>\n</g>\n<!-- 139724005379728&#45;&gt;139724005379536 -->\n<g id=\"edge3\" class=\"edge\">\n<title>139724005379728&#45;&gt;139724005379536</title>\n<path fill=\"none\" stroke=\"#000000\" d=\"M218.5,-121.9197C218.5,-114.9083 218.5,-105.1442 218.5,-96.4652\"/>\n<polygon fill=\"#000000\" stroke=\"#000000\" points=\"222.0001,-96.3408 218.5,-86.3408 215.0001,-96.3409 222.0001,-96.3408\"/>\n</g>\n<!-- 139724005379600 -->\n<g id=\"node6\" class=\"node\">\n<title>139724005379600</title>\n<polygon fill=\"#d3d3d3\" stroke=\"#000000\" points=\"261,-201.5 166,-201.5 166,-182.5 261,-182.5 261,-201.5\"/>\n<text text-anchor=\"middle\" x=\"213.5\" y=\"-189.5\" font-family=\"monospace\" font-size=\"10.00\" fill=\"#000000\">AddmmBackward</text>\n</g>\n<!-- 139724005379600&#45;&gt;139724005379728 -->\n<g id=\"edge4\" class=\"edge\">\n<title>139724005379600&#45;&gt;139724005379728</title>\n<path fill=\"none\" stroke=\"#000000\" d=\"M214.3033,-182.2796C214.9845,-174.0376 215.9838,-161.9457 216.8364,-151.629\"/>\n<polygon fill=\"#000000\" stroke=\"#000000\" points=\"220.3464,-151.6516 217.682,-141.3972 213.3702,-151.075 220.3464,-151.6516\"/>\n</g>\n<!-- 139724005379920 -->\n<g id=\"node7\" class=\"node\">\n<title>139724005379920</title>\n<polygon fill=\"#d3d3d3\" stroke=\"#000000\" points=\"127,-267.5 26,-267.5 26,-248.5 127,-248.5 127,-267.5\"/>\n<text text-anchor=\"middle\" x=\"76.5\" y=\"-255.5\" font-family=\"monospace\" font-size=\"10.00\" fill=\"#000000\">AccumulateGrad</text>\n</g>\n<!-- 139724005379920&#45;&gt;139724005379600 -->\n<g id=\"edge5\" class=\"edge\">\n<title>139724005379920&#45;&gt;139724005379600</title>\n<path fill=\"none\" stroke=\"#000000\" d=\"M96.421,-248.403C119.5543,-237.2585 157.9168,-218.7773 184.3899,-206.0238\"/>\n<polygon fill=\"#000000\" stroke=\"#000000\" points=\"186.065,-209.1019 193.555,-201.6085 183.0268,-202.7956 186.065,-209.1019\"/>\n</g>\n<!-- 139721404274640 -->\n<g id=\"node8\" class=\"node\">\n<title>139721404274640</title>\n<polygon fill=\"#add8e6\" stroke=\"#000000\" points=\"118,-339 35,-339 35,-309 118,-309 118,-339\"/>\n<text text-anchor=\"middle\" x=\"76.5\" y=\"-327\" font-family=\"monospace\" font-size=\"10.00\" fill=\"#000000\">layer3.bias</text>\n<text text-anchor=\"middle\" x=\"76.5\" y=\"-316\" font-family=\"monospace\" font-size=\"10.00\" fill=\"#000000\"> (20)</text>\n</g>\n<!-- 139721404274640&#45;&gt;139724005379920 -->\n<g id=\"edge6\" class=\"edge\">\n<title>139721404274640&#45;&gt;139724005379920</title>\n<path fill=\"none\" stroke=\"#000000\" d=\"M76.5,-308.6924C76.5,-299.5067 76.5,-287.7245 76.5,-277.8312\"/>\n<polygon fill=\"#000000\" stroke=\"#000000\" points=\"80.0001,-277.703 76.5,-267.7031 73.0001,-277.7031 80.0001,-277.703\"/>\n</g>\n<!-- 139724005380048 -->\n<g id=\"node9\" class=\"node\">\n<title>139724005380048</title>\n<polygon fill=\"#d3d3d3\" stroke=\"#000000\" points=\"240,-267.5 145,-267.5 145,-248.5 240,-248.5 240,-267.5\"/>\n<text text-anchor=\"middle\" x=\"192.5\" y=\"-255.5\" font-family=\"monospace\" font-size=\"10.00\" fill=\"#000000\">ReluBackward0</text>\n</g>\n<!-- 139724005380048&#45;&gt;139724005379600 -->\n<g id=\"edge7\" class=\"edge\">\n<title>139724005380048&#45;&gt;139724005379600</title>\n<path fill=\"none\" stroke=\"#000000\" d=\"M195.5986,-248.2615C198.6695,-238.6102 203.4588,-223.558 207.3112,-211.4506\"/>\n<polygon fill=\"#000000\" stroke=\"#000000\" points=\"210.6918,-212.369 210.3887,-201.7785 204.0213,-210.2465 210.6918,-212.369\"/>\n</g>\n<!-- 139721245380688 -->\n<g id=\"node10\" class=\"node\">\n<title>139721245380688</title>\n<polygon fill=\"#d3d3d3\" stroke=\"#000000\" points=\"235,-333.5 140,-333.5 140,-314.5 235,-314.5 235,-333.5\"/>\n<text text-anchor=\"middle\" x=\"187.5\" y=\"-321.5\" font-family=\"monospace\" font-size=\"10.00\" fill=\"#000000\">AddmmBackward</text>\n</g>\n<!-- 139721245380688&#45;&gt;139724005380048 -->\n<g id=\"edge8\" class=\"edge\">\n<title>139721245380688&#45;&gt;139724005380048</title>\n<path fill=\"none\" stroke=\"#000000\" d=\"M188.2378,-314.2615C188.9615,-304.7077 190.0862,-289.8615 190.9986,-277.8183\"/>\n<polygon fill=\"#000000\" stroke=\"#000000\" points=\"194.4937,-278.0143 191.7592,-267.7785 187.5137,-277.4855 194.4937,-278.0143\"/>\n</g>\n<!-- 139721245380816 -->\n<g id=\"node11\" class=\"node\">\n<title>139721245380816</title>\n<polygon fill=\"#d3d3d3\" stroke=\"#000000\" points=\"101,-399.5 0,-399.5 0,-380.5 101,-380.5 101,-399.5\"/>\n<text text-anchor=\"middle\" x=\"50.5\" y=\"-387.5\" font-family=\"monospace\" font-size=\"10.00\" fill=\"#000000\">AccumulateGrad</text>\n</g>\n<!-- 139721245380816&#45;&gt;139721245380688 -->\n<g id=\"edge9\" class=\"edge\">\n<title>139721245380816&#45;&gt;139721245380688</title>\n<path fill=\"none\" stroke=\"#000000\" d=\"M70.421,-380.403C93.5543,-369.2585 131.9168,-350.7773 158.3899,-338.0238\"/>\n<polygon fill=\"#000000\" stroke=\"#000000\" points=\"160.065,-341.1019 167.555,-333.6085 157.0268,-334.7956 160.065,-341.1019\"/>\n</g>\n<!-- 139721404274480 -->\n<g id=\"node12\" class=\"node\">\n<title>139721404274480</title>\n<polygon fill=\"#add8e6\" stroke=\"#000000\" points=\"92,-471 9,-471 9,-441 92,-441 92,-471\"/>\n<text text-anchor=\"middle\" x=\"50.5\" y=\"-459\" font-family=\"monospace\" font-size=\"10.00\" fill=\"#000000\">layer2.bias</text>\n<text text-anchor=\"middle\" x=\"50.5\" y=\"-448\" font-family=\"monospace\" font-size=\"10.00\" fill=\"#000000\"> (40)</text>\n</g>\n<!-- 139721404274480&#45;&gt;139721245380816 -->\n<g id=\"edge10\" class=\"edge\">\n<title>139721404274480&#45;&gt;139721245380816</title>\n<path fill=\"none\" stroke=\"#000000\" d=\"M50.5,-440.6924C50.5,-431.5067 50.5,-419.7245 50.5,-409.8312\"/>\n<polygon fill=\"#000000\" stroke=\"#000000\" points=\"54.0001,-409.703 50.5,-399.7031 47.0001,-409.7031 54.0001,-409.703\"/>\n</g>\n<!-- 139721245381072 -->\n<g id=\"node13\" class=\"node\">\n<title>139721245381072</title>\n<polygon fill=\"#d3d3d3\" stroke=\"#000000\" points=\"214,-399.5 119,-399.5 119,-380.5 214,-380.5 214,-399.5\"/>\n<text text-anchor=\"middle\" x=\"166.5\" y=\"-387.5\" font-family=\"monospace\" font-size=\"10.00\" fill=\"#000000\">ReluBackward0</text>\n</g>\n<!-- 139721245381072&#45;&gt;139721245380688 -->\n<g id=\"edge11\" class=\"edge\">\n<title>139721245381072&#45;&gt;139721245380688</title>\n<path fill=\"none\" stroke=\"#000000\" d=\"M169.5986,-380.2615C172.6695,-370.6102 177.4588,-355.558 181.3112,-343.4506\"/>\n<polygon fill=\"#000000\" stroke=\"#000000\" points=\"184.6918,-344.369 184.3887,-333.7785 178.0213,-342.2465 184.6918,-344.369\"/>\n</g>\n<!-- 139721245380880 -->\n<g id=\"node14\" class=\"node\">\n<title>139721245380880</title>\n<polygon fill=\"#d3d3d3\" stroke=\"#000000\" points=\"209,-465.5 114,-465.5 114,-446.5 209,-446.5 209,-465.5\"/>\n<text text-anchor=\"middle\" x=\"161.5\" y=\"-453.5\" font-family=\"monospace\" font-size=\"10.00\" fill=\"#000000\">AddmmBackward</text>\n</g>\n<!-- 139721245380880&#45;&gt;139721245381072 -->\n<g id=\"edge12\" class=\"edge\">\n<title>139721245380880&#45;&gt;139721245381072</title>\n<path fill=\"none\" stroke=\"#000000\" d=\"M162.2378,-446.2615C162.9615,-436.7077 164.0862,-421.8615 164.9986,-409.8183\"/>\n<polygon fill=\"#000000\" stroke=\"#000000\" points=\"168.4937,-410.0143 165.7592,-399.7785 161.5137,-409.4855 168.4937,-410.0143\"/>\n</g>\n<!-- 139721245381200 -->\n<g id=\"node15\" class=\"node\">\n<title>139721245381200</title>\n<polygon fill=\"#d3d3d3\" stroke=\"#000000\" points=\"112,-531.5 11,-531.5 11,-512.5 112,-512.5 112,-531.5\"/>\n<text text-anchor=\"middle\" x=\"61.5\" y=\"-519.5\" font-family=\"monospace\" font-size=\"10.00\" fill=\"#000000\">AccumulateGrad</text>\n</g>\n<!-- 139721245381200&#45;&gt;139721245380880 -->\n<g id=\"edge13\" class=\"edge\">\n<title>139721245381200&#45;&gt;139721245380880</title>\n<path fill=\"none\" stroke=\"#000000\" d=\"M76.2553,-512.2615C92.6709,-501.4272 119.3988,-483.7868 138.5509,-471.1464\"/>\n<polygon fill=\"#000000\" stroke=\"#000000\" points=\"140.5911,-473.9935 147.0092,-465.5639 136.7352,-468.1512 140.5911,-473.9935\"/>\n</g>\n<!-- 139721404274320 -->\n<g id=\"node16\" class=\"node\">\n<title>139721404274320</title>\n<polygon fill=\"#add8e6\" stroke=\"#000000\" points=\"102,-603 19,-603 19,-573 102,-573 102,-603\"/>\n<text text-anchor=\"middle\" x=\"60.5\" y=\"-591\" font-family=\"monospace\" font-size=\"10.00\" fill=\"#000000\">layer1.bias</text>\n<text text-anchor=\"middle\" x=\"60.5\" y=\"-580\" font-family=\"monospace\" font-size=\"10.00\" fill=\"#000000\"> (20)</text>\n</g>\n<!-- 139721404274320&#45;&gt;139721245381200 -->\n<g id=\"edge14\" class=\"edge\">\n<title>139721404274320&#45;&gt;139721245381200</title>\n<path fill=\"none\" stroke=\"#000000\" d=\"M60.7319,-572.6924C60.8711,-563.5067 61.0496,-551.7245 61.1995,-541.8312\"/>\n<polygon fill=\"#000000\" stroke=\"#000000\" points=\"64.701,-541.755 61.353,-531.7031 57.7018,-541.6489 64.701,-541.755\"/>\n</g>\n<!-- 139721245381456 -->\n<g id=\"node17\" class=\"node\">\n<title>139721245381456</title>\n<polygon fill=\"#d3d3d3\" stroke=\"#000000\" points=\"204,-531.5 133,-531.5 133,-512.5 204,-512.5 204,-531.5\"/>\n<text text-anchor=\"middle\" x=\"168.5\" y=\"-519.5\" font-family=\"monospace\" font-size=\"10.00\" fill=\"#000000\">TBackward</text>\n</g>\n<!-- 139721245381456&#45;&gt;139721245380880 -->\n<g id=\"edge15\" class=\"edge\">\n<title>139721245381456&#45;&gt;139721245380880</title>\n<path fill=\"none\" stroke=\"#000000\" d=\"M167.4671,-512.2615C166.4538,-502.7077 164.8793,-487.8615 163.6019,-475.8183\"/>\n<polygon fill=\"#000000\" stroke=\"#000000\" points=\"167.0724,-475.3535 162.5371,-465.7785 160.1114,-476.0919 167.0724,-475.3535\"/>\n</g>\n<!-- 139721245381328 -->\n<g id=\"node18\" class=\"node\">\n<title>139721245381328</title>\n<polygon fill=\"#d3d3d3\" stroke=\"#000000\" points=\"221,-597.5 120,-597.5 120,-578.5 221,-578.5 221,-597.5\"/>\n<text text-anchor=\"middle\" x=\"170.5\" y=\"-585.5\" font-family=\"monospace\" font-size=\"10.00\" fill=\"#000000\">AccumulateGrad</text>\n</g>\n<!-- 139721245381328&#45;&gt;139721245381456 -->\n<g id=\"edge16\" class=\"edge\">\n<title>139721245381328&#45;&gt;139721245381456</title>\n<path fill=\"none\" stroke=\"#000000\" d=\"M170.2049,-578.2615C169.9154,-568.7077 169.4655,-553.8615 169.1006,-541.8183\"/>\n<polygon fill=\"#000000\" stroke=\"#000000\" points=\"172.5977,-541.6678 168.7963,-531.7785 165.6009,-541.8799 172.5977,-541.6678\"/>\n</g>\n<!-- 139721404274240 -->\n<g id=\"node19\" class=\"node\">\n<title>139721404274240</title>\n<polygon fill=\"#add8e6\" stroke=\"#000000\" points=\"218,-669 123,-669 123,-639 218,-639 218,-669\"/>\n<text text-anchor=\"middle\" x=\"170.5\" y=\"-657\" font-family=\"monospace\" font-size=\"10.00\" fill=\"#000000\">layer1.weight</text>\n<text text-anchor=\"middle\" x=\"170.5\" y=\"-646\" font-family=\"monospace\" font-size=\"10.00\" fill=\"#000000\"> (20, 12)</text>\n</g>\n<!-- 139721404274240&#45;&gt;139721245381328 -->\n<g id=\"edge17\" class=\"edge\">\n<title>139721404274240&#45;&gt;139721245381328</title>\n<path fill=\"none\" stroke=\"#000000\" d=\"M170.5,-638.6924C170.5,-629.5067 170.5,-617.7245 170.5,-607.8312\"/>\n<polygon fill=\"#000000\" stroke=\"#000000\" points=\"174.0001,-607.703 170.5,-597.7031 167.0001,-607.7031 174.0001,-607.703\"/>\n</g>\n<!-- 139721245381008 -->\n<g id=\"node20\" class=\"node\">\n<title>139721245381008</title>\n<polygon fill=\"#d3d3d3\" stroke=\"#000000\" points=\"303,-399.5 232,-399.5 232,-380.5 303,-380.5 303,-399.5\"/>\n<text text-anchor=\"middle\" x=\"267.5\" y=\"-387.5\" font-family=\"monospace\" font-size=\"10.00\" fill=\"#000000\">TBackward</text>\n</g>\n<!-- 139721245381008&#45;&gt;139721245380688 -->\n<g id=\"edge18\" class=\"edge\">\n<title>139721245381008&#45;&gt;139721245380688</title>\n<path fill=\"none\" stroke=\"#000000\" d=\"M255.6957,-380.2615C242.8604,-369.6723 222.1442,-352.5815 206.9083,-340.0119\"/>\n<polygon fill=\"#000000\" stroke=\"#000000\" points=\"209.0337,-337.228 199.0926,-333.5639 204.579,-342.6276 209.0337,-337.228\"/>\n</g>\n<!-- 139721245381136 -->\n<g id=\"node21\" class=\"node\">\n<title>139721245381136</title>\n<polygon fill=\"#d3d3d3\" stroke=\"#000000\" points=\"328,-465.5 227,-465.5 227,-446.5 328,-446.5 328,-465.5\"/>\n<text text-anchor=\"middle\" x=\"277.5\" y=\"-453.5\" font-family=\"monospace\" font-size=\"10.00\" fill=\"#000000\">AccumulateGrad</text>\n</g>\n<!-- 139721245381136&#45;&gt;139721245381008 -->\n<g id=\"edge19\" class=\"edge\">\n<title>139721245381136&#45;&gt;139721245381008</title>\n<path fill=\"none\" stroke=\"#000000\" d=\"M276.0245,-446.2615C274.5769,-436.7077 272.3275,-421.8615 270.5028,-409.8183\"/>\n<polygon fill=\"#000000\" stroke=\"#000000\" points=\"273.9402,-409.1413 268.9816,-399.7785 267.0192,-410.19 273.9402,-409.1413\"/>\n</g>\n<!-- 139721404274400 -->\n<g id=\"node22\" class=\"node\">\n<title>139721404274400</title>\n<polygon fill=\"#add8e6\" stroke=\"#000000\" points=\"325,-537 230,-537 230,-507 325,-507 325,-537\"/>\n<text text-anchor=\"middle\" x=\"277.5\" y=\"-525\" font-family=\"monospace\" font-size=\"10.00\" fill=\"#000000\">layer2.weight</text>\n<text text-anchor=\"middle\" x=\"277.5\" y=\"-514\" font-family=\"monospace\" font-size=\"10.00\" fill=\"#000000\"> (40, 20)</text>\n</g>\n<!-- 139721404274400&#45;&gt;139721245381136 -->\n<g id=\"edge20\" class=\"edge\">\n<title>139721404274400&#45;&gt;139721245381136</title>\n<path fill=\"none\" stroke=\"#000000\" d=\"M277.5,-506.6924C277.5,-497.5067 277.5,-485.7245 277.5,-475.8312\"/>\n<polygon fill=\"#000000\" stroke=\"#000000\" points=\"281.0001,-475.703 277.5,-465.7031 274.0001,-475.7031 281.0001,-475.703\"/>\n</g>\n<!-- 139724005379856 -->\n<g id=\"node23\" class=\"node\">\n<title>139724005379856</title>\n<polygon fill=\"#d3d3d3\" stroke=\"#000000\" points=\"329,-267.5 258,-267.5 258,-248.5 329,-248.5 329,-267.5\"/>\n<text text-anchor=\"middle\" x=\"293.5\" y=\"-255.5\" font-family=\"monospace\" font-size=\"10.00\" fill=\"#000000\">TBackward</text>\n</g>\n<!-- 139724005379856&#45;&gt;139724005379600 -->\n<g id=\"edge21\" class=\"edge\">\n<title>139724005379856&#45;&gt;139724005379600</title>\n<path fill=\"none\" stroke=\"#000000\" d=\"M281.6957,-248.2615C268.8604,-237.6723 248.1442,-220.5815 232.9083,-208.0119\"/>\n<polygon fill=\"#000000\" stroke=\"#000000\" points=\"235.0337,-205.228 225.0926,-201.5639 230.579,-210.6276 235.0337,-205.228\"/>\n</g>\n<!-- 139721245380752 -->\n<g id=\"node24\" class=\"node\">\n<title>139721245380752</title>\n<polygon fill=\"#d3d3d3\" stroke=\"#000000\" points=\"397,-333.5 296,-333.5 296,-314.5 397,-314.5 397,-333.5\"/>\n<text text-anchor=\"middle\" x=\"346.5\" y=\"-321.5\" font-family=\"monospace\" font-size=\"10.00\" fill=\"#000000\">AccumulateGrad</text>\n</g>\n<!-- 139721245380752&#45;&gt;139724005379856 -->\n<g id=\"edge22\" class=\"edge\">\n<title>139721245380752&#45;&gt;139724005379856</title>\n<path fill=\"none\" stroke=\"#000000\" d=\"M338.6797,-314.2615C330.538,-304.1228 317.61,-288.0238 307.6652,-275.6397\"/>\n<polygon fill=\"#000000\" stroke=\"#000000\" points=\"310.3428,-273.3842 301.3524,-267.7785 304.8848,-277.7671 310.3428,-273.3842\"/>\n</g>\n<!-- 139721404274560 -->\n<g id=\"node25\" class=\"node\">\n<title>139721404274560</title>\n<polygon fill=\"#add8e6\" stroke=\"#000000\" points=\"416,-405 321,-405 321,-375 416,-375 416,-405\"/>\n<text text-anchor=\"middle\" x=\"368.5\" y=\"-393\" font-family=\"monospace\" font-size=\"10.00\" fill=\"#000000\">layer3.weight</text>\n<text text-anchor=\"middle\" x=\"368.5\" y=\"-382\" font-family=\"monospace\" font-size=\"10.00\" fill=\"#000000\"> (20, 40)</text>\n</g>\n<!-- 139721404274560&#45;&gt;139721245380752 -->\n<g id=\"edge23\" class=\"edge\">\n<title>139721404274560&#45;&gt;139721245380752</title>\n<path fill=\"none\" stroke=\"#000000\" d=\"M363.3975,-374.6924C360.2697,-365.3092 356.2388,-353.2165 352.8985,-343.1956\"/>\n<polygon fill=\"#000000\" stroke=\"#000000\" points=\"356.2171,-342.0831 349.7344,-333.7031 349.5763,-344.2967 356.2171,-342.0831\"/>\n</g>\n<!-- 139724005379664 -->\n<g id=\"node26\" class=\"node\">\n<title>139724005379664</title>\n<polygon fill=\"#d3d3d3\" stroke=\"#000000\" points=\"381,-141 310,-141 310,-122 381,-122 381,-141\"/>\n<text text-anchor=\"middle\" x=\"345.5\" y=\"-129\" font-family=\"monospace\" font-size=\"10.00\" fill=\"#000000\">TBackward</text>\n</g>\n<!-- 139724005379664&#45;&gt;139724005379536 -->\n<g id=\"edge24\" class=\"edge\">\n<title>139724005379664&#45;&gt;139724005379536</title>\n<path fill=\"none\" stroke=\"#000000\" d=\"M323.3783,-121.9197C303.1064,-113.1406 272.8692,-100.0457 250.0628,-90.1689\"/>\n<polygon fill=\"#000000\" stroke=\"#000000\" points=\"251.3617,-86.9174 240.7943,-86.155 248.5798,-93.3409 251.3617,-86.9174\"/>\n</g>\n<!-- 139724005379792 -->\n<g id=\"node27\" class=\"node\">\n<title>139724005379792</title>\n<polygon fill=\"#d3d3d3\" stroke=\"#000000\" points=\"423,-201.5 322,-201.5 322,-182.5 423,-182.5 423,-201.5\"/>\n<text text-anchor=\"middle\" x=\"372.5\" y=\"-189.5\" font-family=\"monospace\" font-size=\"10.00\" fill=\"#000000\">AccumulateGrad</text>\n</g>\n<!-- 139724005379792&#45;&gt;139724005379664 -->\n<g id=\"edge25\" class=\"edge\">\n<title>139724005379792&#45;&gt;139724005379664</title>\n<path fill=\"none\" stroke=\"#000000\" d=\"M368.162,-182.2796C364.3663,-173.7746 358.7412,-161.17 354.0449,-150.6469\"/>\n<polygon fill=\"#000000\" stroke=\"#000000\" points=\"357.1886,-149.1027 349.9169,-141.3972 350.7962,-151.9555 357.1886,-149.1027\"/>\n</g>\n<!-- 139721404702064 -->\n<g id=\"node28\" class=\"node\">\n<title>139721404702064</title>\n<polygon fill=\"#add8e6\" stroke=\"#000000\" points=\"442,-273 347,-273 347,-243 442,-243 442,-273\"/>\n<text text-anchor=\"middle\" x=\"394.5\" y=\"-261\" font-family=\"monospace\" font-size=\"10.00\" fill=\"#000000\">output.weight</text>\n<text text-anchor=\"middle\" x=\"394.5\" y=\"-250\" font-family=\"monospace\" font-size=\"10.00\" fill=\"#000000\"> (2, 20)</text>\n</g>\n<!-- 139721404702064&#45;&gt;139724005379792 -->\n<g id=\"edge26\" class=\"edge\">\n<title>139721404702064&#45;&gt;139724005379792</title>\n<path fill=\"none\" stroke=\"#000000\" d=\"M389.3975,-242.6924C386.2697,-233.3092 382.2388,-221.2165 378.8985,-211.1956\"/>\n<polygon fill=\"#000000\" stroke=\"#000000\" points=\"382.2171,-210.0831 375.7344,-201.7031 375.5763,-212.2967 382.2171,-210.0831\"/>\n</g>\n</g>\n</svg>\n"
          },
          "metadata": {
            "tags": []
          },
          "execution_count": 42
        }
      ]
    },
    {
      "cell_type": "code",
      "metadata": {
        "colab": {
          "base_uri": "https://localhost:8080/",
          "height": 997
        },
        "id": "oo1h4rQAlxGR",
        "outputId": "f79f1a39-b491-4f38-8371-a3434a2c19a1"
      },
      "source": [
        "torchviz.make_dot(output_proba,params=dict(neural_net.named_parameters()))"
      ],
      "execution_count": 43,
      "outputs": [
        {
          "output_type": "execute_result",
          "data": {
            "text/plain": [
              "<graphviz.dot.Digraph at 0x7f136332df10>"
            ],
            "image/svg+xml": "<?xml version=\"1.0\" encoding=\"UTF-8\" standalone=\"no\"?>\n<!DOCTYPE svg PUBLIC \"-//W3C//DTD SVG 1.1//EN\"\n \"http://www.w3.org/Graphics/SVG/1.1/DTD/svg11.dtd\">\n<!-- Generated by graphviz version 2.40.1 (20161225.0304)\n -->\n<!-- Title: %3 Pages: 1 -->\n<svg width=\"450pt\" height=\"732pt\"\n viewBox=\"0.00 0.00 450.00 732.00\" xmlns=\"http://www.w3.org/2000/svg\" xmlns:xlink=\"http://www.w3.org/1999/xlink\">\n<g id=\"graph0\" class=\"graph\" transform=\"scale(1 1) rotate(0) translate(4 728)\">\n<title>%3</title>\n<polygon fill=\"#ffffff\" stroke=\"transparent\" points=\"-4,4 -4,-728 446,-728 446,4 -4,4\"/>\n<!-- 139721940750816 -->\n<g id=\"node1\" class=\"node\">\n<title>139721940750816</title>\n<polygon fill=\"#caff70\" stroke=\"#000000\" points=\"251,-31 186,-31 186,0 251,0 251,-31\"/>\n<text text-anchor=\"middle\" x=\"218.5\" y=\"-7\" font-family=\"monospace\" font-size=\"10.00\" fill=\"#000000\"> (10, 2)</text>\n</g>\n<!-- 139721245381968 -->\n<g id=\"node2\" class=\"node\">\n<title>139721245381968</title>\n<polygon fill=\"#d3d3d3\" stroke=\"#000000\" points=\"272,-86 165,-86 165,-67 272,-67 272,-86\"/>\n<text text-anchor=\"middle\" x=\"218.5\" y=\"-74\" font-family=\"monospace\" font-size=\"10.00\" fill=\"#000000\">SoftmaxBackward</text>\n</g>\n<!-- 139721245381968&#45;&gt;139721940750816 -->\n<g id=\"edge28\" class=\"edge\">\n<title>139721245381968&#45;&gt;139721940750816</title>\n<path fill=\"none\" stroke=\"#000000\" d=\"M218.5,-66.9688C218.5,-60.1289 218.5,-50.5621 218.5,-41.5298\"/>\n<polygon fill=\"#000000\" stroke=\"#000000\" points=\"222.0001,-41.3678 218.5,-31.3678 215.0001,-41.3678 222.0001,-41.3678\"/>\n</g>\n<!-- 139724005379536 -->\n<g id=\"node3\" class=\"node\">\n<title>139724005379536</title>\n<polygon fill=\"#d3d3d3\" stroke=\"#000000\" points=\"266,-141 171,-141 171,-122 266,-122 266,-141\"/>\n<text text-anchor=\"middle\" x=\"218.5\" y=\"-129\" font-family=\"monospace\" font-size=\"10.00\" fill=\"#000000\">AddmmBackward</text>\n</g>\n<!-- 139724005379536&#45;&gt;139721245381968 -->\n<g id=\"edge1\" class=\"edge\">\n<title>139724005379536&#45;&gt;139721245381968</title>\n<path fill=\"none\" stroke=\"#000000\" d=\"M218.5,-121.9197C218.5,-114.9083 218.5,-105.1442 218.5,-96.4652\"/>\n<polygon fill=\"#000000\" stroke=\"#000000\" points=\"222.0001,-96.3408 218.5,-86.3408 215.0001,-96.3409 222.0001,-96.3408\"/>\n</g>\n<!-- 139724005379344 -->\n<g id=\"node4\" class=\"node\">\n<title>139724005379344</title>\n<polygon fill=\"#d3d3d3\" stroke=\"#000000\" points=\"153,-196 52,-196 52,-177 153,-177 153,-196\"/>\n<text text-anchor=\"middle\" x=\"102.5\" y=\"-184\" font-family=\"monospace\" font-size=\"10.00\" fill=\"#000000\">AccumulateGrad</text>\n</g>\n<!-- 139724005379344&#45;&gt;139724005379536 -->\n<g id=\"edge2\" class=\"edge\">\n<title>139724005379344&#45;&gt;139724005379536</title>\n<path fill=\"none\" stroke=\"#000000\" d=\"M122.7057,-176.9197C140.9737,-168.2581 168.1018,-155.3957 188.8304,-145.5675\"/>\n<polygon fill=\"#000000\" stroke=\"#000000\" points=\"190.6004,-148.6018 198.1367,-141.155 187.6014,-142.2768 190.6004,-148.6018\"/>\n</g>\n<!-- 139721404702304 -->\n<g id=\"node5\" class=\"node\">\n<title>139721404702304</title>\n<polygon fill=\"#add8e6\" stroke=\"#000000\" points=\"144,-262 61,-262 61,-232 144,-232 144,-262\"/>\n<text text-anchor=\"middle\" x=\"102.5\" y=\"-250\" font-family=\"monospace\" font-size=\"10.00\" fill=\"#000000\">output.bias</text>\n<text text-anchor=\"middle\" x=\"102.5\" y=\"-239\" font-family=\"monospace\" font-size=\"10.00\" fill=\"#000000\"> (2)</text>\n</g>\n<!-- 139721404702304&#45;&gt;139724005379344 -->\n<g id=\"edge3\" class=\"edge\">\n<title>139721404702304&#45;&gt;139724005379344</title>\n<path fill=\"none\" stroke=\"#000000\" d=\"M102.5,-231.7333C102.5,-224.0322 102.5,-214.5977 102.5,-206.3414\"/>\n<polygon fill=\"#000000\" stroke=\"#000000\" points=\"106.0001,-206.0864 102.5,-196.0864 99.0001,-206.0864 106.0001,-206.0864\"/>\n</g>\n<!-- 139724005379728 -->\n<g id=\"node6\" class=\"node\">\n<title>139724005379728</title>\n<polygon fill=\"#d3d3d3\" stroke=\"#000000\" points=\"266,-196 171,-196 171,-177 266,-177 266,-196\"/>\n<text text-anchor=\"middle\" x=\"218.5\" y=\"-184\" font-family=\"monospace\" font-size=\"10.00\" fill=\"#000000\">ReluBackward0</text>\n</g>\n<!-- 139724005379728&#45;&gt;139724005379536 -->\n<g id=\"edge4\" class=\"edge\">\n<title>139724005379728&#45;&gt;139724005379536</title>\n<path fill=\"none\" stroke=\"#000000\" d=\"M218.5,-176.9197C218.5,-169.9083 218.5,-160.1442 218.5,-151.4652\"/>\n<polygon fill=\"#000000\" stroke=\"#000000\" points=\"222.0001,-151.3408 218.5,-141.3408 215.0001,-151.3409 222.0001,-151.3408\"/>\n</g>\n<!-- 139724005379600 -->\n<g id=\"node7\" class=\"node\">\n<title>139724005379600</title>\n<polygon fill=\"#d3d3d3\" stroke=\"#000000\" points=\"261,-256.5 166,-256.5 166,-237.5 261,-237.5 261,-256.5\"/>\n<text text-anchor=\"middle\" x=\"213.5\" y=\"-244.5\" font-family=\"monospace\" font-size=\"10.00\" fill=\"#000000\">AddmmBackward</text>\n</g>\n<!-- 139724005379600&#45;&gt;139724005379728 -->\n<g id=\"edge5\" class=\"edge\">\n<title>139724005379600&#45;&gt;139724005379728</title>\n<path fill=\"none\" stroke=\"#000000\" d=\"M214.3033,-237.2796C214.9845,-229.0376 215.9838,-216.9457 216.8364,-206.629\"/>\n<polygon fill=\"#000000\" stroke=\"#000000\" points=\"220.3464,-206.6516 217.682,-196.3972 213.3702,-206.075 220.3464,-206.6516\"/>\n</g>\n<!-- 139724005379920 -->\n<g id=\"node8\" class=\"node\">\n<title>139724005379920</title>\n<polygon fill=\"#d3d3d3\" stroke=\"#000000\" points=\"127,-322.5 26,-322.5 26,-303.5 127,-303.5 127,-322.5\"/>\n<text text-anchor=\"middle\" x=\"76.5\" y=\"-310.5\" font-family=\"monospace\" font-size=\"10.00\" fill=\"#000000\">AccumulateGrad</text>\n</g>\n<!-- 139724005379920&#45;&gt;139724005379600 -->\n<g id=\"edge6\" class=\"edge\">\n<title>139724005379920&#45;&gt;139724005379600</title>\n<path fill=\"none\" stroke=\"#000000\" d=\"M96.421,-303.403C119.5543,-292.2585 157.9168,-273.7773 184.3899,-261.0238\"/>\n<polygon fill=\"#000000\" stroke=\"#000000\" points=\"186.065,-264.1019 193.555,-256.6085 183.0268,-257.7956 186.065,-264.1019\"/>\n</g>\n<!-- 139721404274640 -->\n<g id=\"node9\" class=\"node\">\n<title>139721404274640</title>\n<polygon fill=\"#add8e6\" stroke=\"#000000\" points=\"118,-394 35,-394 35,-364 118,-364 118,-394\"/>\n<text text-anchor=\"middle\" x=\"76.5\" y=\"-382\" font-family=\"monospace\" font-size=\"10.00\" fill=\"#000000\">layer3.bias</text>\n<text text-anchor=\"middle\" x=\"76.5\" y=\"-371\" font-family=\"monospace\" font-size=\"10.00\" fill=\"#000000\"> (20)</text>\n</g>\n<!-- 139721404274640&#45;&gt;139724005379920 -->\n<g id=\"edge7\" class=\"edge\">\n<title>139721404274640&#45;&gt;139724005379920</title>\n<path fill=\"none\" stroke=\"#000000\" d=\"M76.5,-363.6924C76.5,-354.5067 76.5,-342.7245 76.5,-332.8312\"/>\n<polygon fill=\"#000000\" stroke=\"#000000\" points=\"80.0001,-332.703 76.5,-322.7031 73.0001,-332.7031 80.0001,-332.703\"/>\n</g>\n<!-- 139724005380048 -->\n<g id=\"node10\" class=\"node\">\n<title>139724005380048</title>\n<polygon fill=\"#d3d3d3\" stroke=\"#000000\" points=\"240,-322.5 145,-322.5 145,-303.5 240,-303.5 240,-322.5\"/>\n<text text-anchor=\"middle\" x=\"192.5\" y=\"-310.5\" font-family=\"monospace\" font-size=\"10.00\" fill=\"#000000\">ReluBackward0</text>\n</g>\n<!-- 139724005380048&#45;&gt;139724005379600 -->\n<g id=\"edge8\" class=\"edge\">\n<title>139724005380048&#45;&gt;139724005379600</title>\n<path fill=\"none\" stroke=\"#000000\" d=\"M195.5986,-303.2615C198.6695,-293.6102 203.4588,-278.558 207.3112,-266.4506\"/>\n<polygon fill=\"#000000\" stroke=\"#000000\" points=\"210.6918,-267.369 210.3887,-256.7785 204.0213,-265.2465 210.6918,-267.369\"/>\n</g>\n<!-- 139721245380688 -->\n<g id=\"node11\" class=\"node\">\n<title>139721245380688</title>\n<polygon fill=\"#d3d3d3\" stroke=\"#000000\" points=\"235,-388.5 140,-388.5 140,-369.5 235,-369.5 235,-388.5\"/>\n<text text-anchor=\"middle\" x=\"187.5\" y=\"-376.5\" font-family=\"monospace\" font-size=\"10.00\" fill=\"#000000\">AddmmBackward</text>\n</g>\n<!-- 139721245380688&#45;&gt;139724005380048 -->\n<g id=\"edge9\" class=\"edge\">\n<title>139721245380688&#45;&gt;139724005380048</title>\n<path fill=\"none\" stroke=\"#000000\" d=\"M188.2378,-369.2615C188.9615,-359.7077 190.0862,-344.8615 190.9986,-332.8183\"/>\n<polygon fill=\"#000000\" stroke=\"#000000\" points=\"194.4937,-333.0143 191.7592,-322.7785 187.5137,-332.4855 194.4937,-333.0143\"/>\n</g>\n<!-- 139721245380816 -->\n<g id=\"node12\" class=\"node\">\n<title>139721245380816</title>\n<polygon fill=\"#d3d3d3\" stroke=\"#000000\" points=\"101,-454.5 0,-454.5 0,-435.5 101,-435.5 101,-454.5\"/>\n<text text-anchor=\"middle\" x=\"50.5\" y=\"-442.5\" font-family=\"monospace\" font-size=\"10.00\" fill=\"#000000\">AccumulateGrad</text>\n</g>\n<!-- 139721245380816&#45;&gt;139721245380688 -->\n<g id=\"edge10\" class=\"edge\">\n<title>139721245380816&#45;&gt;139721245380688</title>\n<path fill=\"none\" stroke=\"#000000\" d=\"M70.421,-435.403C93.5543,-424.2585 131.9168,-405.7773 158.3899,-393.0238\"/>\n<polygon fill=\"#000000\" stroke=\"#000000\" points=\"160.065,-396.1019 167.555,-388.6085 157.0268,-389.7956 160.065,-396.1019\"/>\n</g>\n<!-- 139721404274480 -->\n<g id=\"node13\" class=\"node\">\n<title>139721404274480</title>\n<polygon fill=\"#add8e6\" stroke=\"#000000\" points=\"92,-526 9,-526 9,-496 92,-496 92,-526\"/>\n<text text-anchor=\"middle\" x=\"50.5\" y=\"-514\" font-family=\"monospace\" font-size=\"10.00\" fill=\"#000000\">layer2.bias</text>\n<text text-anchor=\"middle\" x=\"50.5\" y=\"-503\" font-family=\"monospace\" font-size=\"10.00\" fill=\"#000000\"> (40)</text>\n</g>\n<!-- 139721404274480&#45;&gt;139721245380816 -->\n<g id=\"edge11\" class=\"edge\">\n<title>139721404274480&#45;&gt;139721245380816</title>\n<path fill=\"none\" stroke=\"#000000\" d=\"M50.5,-495.6924C50.5,-486.5067 50.5,-474.7245 50.5,-464.8312\"/>\n<polygon fill=\"#000000\" stroke=\"#000000\" points=\"54.0001,-464.703 50.5,-454.7031 47.0001,-464.7031 54.0001,-464.703\"/>\n</g>\n<!-- 139721245381072 -->\n<g id=\"node14\" class=\"node\">\n<title>139721245381072</title>\n<polygon fill=\"#d3d3d3\" stroke=\"#000000\" points=\"214,-454.5 119,-454.5 119,-435.5 214,-435.5 214,-454.5\"/>\n<text text-anchor=\"middle\" x=\"166.5\" y=\"-442.5\" font-family=\"monospace\" font-size=\"10.00\" fill=\"#000000\">ReluBackward0</text>\n</g>\n<!-- 139721245381072&#45;&gt;139721245380688 -->\n<g id=\"edge12\" class=\"edge\">\n<title>139721245381072&#45;&gt;139721245380688</title>\n<path fill=\"none\" stroke=\"#000000\" d=\"M169.5986,-435.2615C172.6695,-425.6102 177.4588,-410.558 181.3112,-398.4506\"/>\n<polygon fill=\"#000000\" stroke=\"#000000\" points=\"184.6918,-399.369 184.3887,-388.7785 178.0213,-397.2465 184.6918,-399.369\"/>\n</g>\n<!-- 139721245380880 -->\n<g id=\"node15\" class=\"node\">\n<title>139721245380880</title>\n<polygon fill=\"#d3d3d3\" stroke=\"#000000\" points=\"209,-520.5 114,-520.5 114,-501.5 209,-501.5 209,-520.5\"/>\n<text text-anchor=\"middle\" x=\"161.5\" y=\"-508.5\" font-family=\"monospace\" font-size=\"10.00\" fill=\"#000000\">AddmmBackward</text>\n</g>\n<!-- 139721245380880&#45;&gt;139721245381072 -->\n<g id=\"edge13\" class=\"edge\">\n<title>139721245380880&#45;&gt;139721245381072</title>\n<path fill=\"none\" stroke=\"#000000\" d=\"M162.2378,-501.2615C162.9615,-491.7077 164.0862,-476.8615 164.9986,-464.8183\"/>\n<polygon fill=\"#000000\" stroke=\"#000000\" points=\"168.4937,-465.0143 165.7592,-454.7785 161.5137,-464.4855 168.4937,-465.0143\"/>\n</g>\n<!-- 139721245381200 -->\n<g id=\"node16\" class=\"node\">\n<title>139721245381200</title>\n<polygon fill=\"#d3d3d3\" stroke=\"#000000\" points=\"112,-586.5 11,-586.5 11,-567.5 112,-567.5 112,-586.5\"/>\n<text text-anchor=\"middle\" x=\"61.5\" y=\"-574.5\" font-family=\"monospace\" font-size=\"10.00\" fill=\"#000000\">AccumulateGrad</text>\n</g>\n<!-- 139721245381200&#45;&gt;139721245380880 -->\n<g id=\"edge14\" class=\"edge\">\n<title>139721245381200&#45;&gt;139721245380880</title>\n<path fill=\"none\" stroke=\"#000000\" d=\"M76.2553,-567.2615C92.6709,-556.4272 119.3988,-538.7868 138.5509,-526.1464\"/>\n<polygon fill=\"#000000\" stroke=\"#000000\" points=\"140.5911,-528.9935 147.0092,-520.5639 136.7352,-523.1512 140.5911,-528.9935\"/>\n</g>\n<!-- 139721404274320 -->\n<g id=\"node17\" class=\"node\">\n<title>139721404274320</title>\n<polygon fill=\"#add8e6\" stroke=\"#000000\" points=\"102,-658 19,-658 19,-628 102,-628 102,-658\"/>\n<text text-anchor=\"middle\" x=\"60.5\" y=\"-646\" font-family=\"monospace\" font-size=\"10.00\" fill=\"#000000\">layer1.bias</text>\n<text text-anchor=\"middle\" x=\"60.5\" y=\"-635\" font-family=\"monospace\" font-size=\"10.00\" fill=\"#000000\"> (20)</text>\n</g>\n<!-- 139721404274320&#45;&gt;139721245381200 -->\n<g id=\"edge15\" class=\"edge\">\n<title>139721404274320&#45;&gt;139721245381200</title>\n<path fill=\"none\" stroke=\"#000000\" d=\"M60.7319,-627.6924C60.8711,-618.5067 61.0496,-606.7245 61.1995,-596.8312\"/>\n<polygon fill=\"#000000\" stroke=\"#000000\" points=\"64.701,-596.755 61.353,-586.7031 57.7018,-596.6489 64.701,-596.755\"/>\n</g>\n<!-- 139721245381456 -->\n<g id=\"node18\" class=\"node\">\n<title>139721245381456</title>\n<polygon fill=\"#d3d3d3\" stroke=\"#000000\" points=\"204,-586.5 133,-586.5 133,-567.5 204,-567.5 204,-586.5\"/>\n<text text-anchor=\"middle\" x=\"168.5\" y=\"-574.5\" font-family=\"monospace\" font-size=\"10.00\" fill=\"#000000\">TBackward</text>\n</g>\n<!-- 139721245381456&#45;&gt;139721245380880 -->\n<g id=\"edge16\" class=\"edge\">\n<title>139721245381456&#45;&gt;139721245380880</title>\n<path fill=\"none\" stroke=\"#000000\" d=\"M167.4671,-567.2615C166.4538,-557.7077 164.8793,-542.8615 163.6019,-530.8183\"/>\n<polygon fill=\"#000000\" stroke=\"#000000\" points=\"167.0724,-530.3535 162.5371,-520.7785 160.1114,-531.0919 167.0724,-530.3535\"/>\n</g>\n<!-- 139721245381328 -->\n<g id=\"node19\" class=\"node\">\n<title>139721245381328</title>\n<polygon fill=\"#d3d3d3\" stroke=\"#000000\" points=\"221,-652.5 120,-652.5 120,-633.5 221,-633.5 221,-652.5\"/>\n<text text-anchor=\"middle\" x=\"170.5\" y=\"-640.5\" font-family=\"monospace\" font-size=\"10.00\" fill=\"#000000\">AccumulateGrad</text>\n</g>\n<!-- 139721245381328&#45;&gt;139721245381456 -->\n<g id=\"edge17\" class=\"edge\">\n<title>139721245381328&#45;&gt;139721245381456</title>\n<path fill=\"none\" stroke=\"#000000\" d=\"M170.2049,-633.2615C169.9154,-623.7077 169.4655,-608.8615 169.1006,-596.8183\"/>\n<polygon fill=\"#000000\" stroke=\"#000000\" points=\"172.5977,-596.6678 168.7963,-586.7785 165.6009,-596.8799 172.5977,-596.6678\"/>\n</g>\n<!-- 139721404274240 -->\n<g id=\"node20\" class=\"node\">\n<title>139721404274240</title>\n<polygon fill=\"#add8e6\" stroke=\"#000000\" points=\"218,-724 123,-724 123,-694 218,-694 218,-724\"/>\n<text text-anchor=\"middle\" x=\"170.5\" y=\"-712\" font-family=\"monospace\" font-size=\"10.00\" fill=\"#000000\">layer1.weight</text>\n<text text-anchor=\"middle\" x=\"170.5\" y=\"-701\" font-family=\"monospace\" font-size=\"10.00\" fill=\"#000000\"> (20, 12)</text>\n</g>\n<!-- 139721404274240&#45;&gt;139721245381328 -->\n<g id=\"edge18\" class=\"edge\">\n<title>139721404274240&#45;&gt;139721245381328</title>\n<path fill=\"none\" stroke=\"#000000\" d=\"M170.5,-693.6924C170.5,-684.5067 170.5,-672.7245 170.5,-662.8312\"/>\n<polygon fill=\"#000000\" stroke=\"#000000\" points=\"174.0001,-662.703 170.5,-652.7031 167.0001,-662.7031 174.0001,-662.703\"/>\n</g>\n<!-- 139721245381008 -->\n<g id=\"node21\" class=\"node\">\n<title>139721245381008</title>\n<polygon fill=\"#d3d3d3\" stroke=\"#000000\" points=\"303,-454.5 232,-454.5 232,-435.5 303,-435.5 303,-454.5\"/>\n<text text-anchor=\"middle\" x=\"267.5\" y=\"-442.5\" font-family=\"monospace\" font-size=\"10.00\" fill=\"#000000\">TBackward</text>\n</g>\n<!-- 139721245381008&#45;&gt;139721245380688 -->\n<g id=\"edge19\" class=\"edge\">\n<title>139721245381008&#45;&gt;139721245380688</title>\n<path fill=\"none\" stroke=\"#000000\" d=\"M255.6957,-435.2615C242.8604,-424.6723 222.1442,-407.5815 206.9083,-395.0119\"/>\n<polygon fill=\"#000000\" stroke=\"#000000\" points=\"209.0337,-392.228 199.0926,-388.5639 204.579,-397.6276 209.0337,-392.228\"/>\n</g>\n<!-- 139721245381136 -->\n<g id=\"node22\" class=\"node\">\n<title>139721245381136</title>\n<polygon fill=\"#d3d3d3\" stroke=\"#000000\" points=\"328,-520.5 227,-520.5 227,-501.5 328,-501.5 328,-520.5\"/>\n<text text-anchor=\"middle\" x=\"277.5\" y=\"-508.5\" font-family=\"monospace\" font-size=\"10.00\" fill=\"#000000\">AccumulateGrad</text>\n</g>\n<!-- 139721245381136&#45;&gt;139721245381008 -->\n<g id=\"edge20\" class=\"edge\">\n<title>139721245381136&#45;&gt;139721245381008</title>\n<path fill=\"none\" stroke=\"#000000\" d=\"M276.0245,-501.2615C274.5769,-491.7077 272.3275,-476.8615 270.5028,-464.8183\"/>\n<polygon fill=\"#000000\" stroke=\"#000000\" points=\"273.9402,-464.1413 268.9816,-454.7785 267.0192,-465.19 273.9402,-464.1413\"/>\n</g>\n<!-- 139721404274400 -->\n<g id=\"node23\" class=\"node\">\n<title>139721404274400</title>\n<polygon fill=\"#add8e6\" stroke=\"#000000\" points=\"325,-592 230,-592 230,-562 325,-562 325,-592\"/>\n<text text-anchor=\"middle\" x=\"277.5\" y=\"-580\" font-family=\"monospace\" font-size=\"10.00\" fill=\"#000000\">layer2.weight</text>\n<text text-anchor=\"middle\" x=\"277.5\" y=\"-569\" font-family=\"monospace\" font-size=\"10.00\" fill=\"#000000\"> (40, 20)</text>\n</g>\n<!-- 139721404274400&#45;&gt;139721245381136 -->\n<g id=\"edge21\" class=\"edge\">\n<title>139721404274400&#45;&gt;139721245381136</title>\n<path fill=\"none\" stroke=\"#000000\" d=\"M277.5,-561.6924C277.5,-552.5067 277.5,-540.7245 277.5,-530.8312\"/>\n<polygon fill=\"#000000\" stroke=\"#000000\" points=\"281.0001,-530.703 277.5,-520.7031 274.0001,-530.7031 281.0001,-530.703\"/>\n</g>\n<!-- 139724005379856 -->\n<g id=\"node24\" class=\"node\">\n<title>139724005379856</title>\n<polygon fill=\"#d3d3d3\" stroke=\"#000000\" points=\"329,-322.5 258,-322.5 258,-303.5 329,-303.5 329,-322.5\"/>\n<text text-anchor=\"middle\" x=\"293.5\" y=\"-310.5\" font-family=\"monospace\" font-size=\"10.00\" fill=\"#000000\">TBackward</text>\n</g>\n<!-- 139724005379856&#45;&gt;139724005379600 -->\n<g id=\"edge22\" class=\"edge\">\n<title>139724005379856&#45;&gt;139724005379600</title>\n<path fill=\"none\" stroke=\"#000000\" d=\"M281.6957,-303.2615C268.8604,-292.6723 248.1442,-275.5815 232.9083,-263.0119\"/>\n<polygon fill=\"#000000\" stroke=\"#000000\" points=\"235.0337,-260.228 225.0926,-256.5639 230.579,-265.6276 235.0337,-260.228\"/>\n</g>\n<!-- 139721245380752 -->\n<g id=\"node25\" class=\"node\">\n<title>139721245380752</title>\n<polygon fill=\"#d3d3d3\" stroke=\"#000000\" points=\"397,-388.5 296,-388.5 296,-369.5 397,-369.5 397,-388.5\"/>\n<text text-anchor=\"middle\" x=\"346.5\" y=\"-376.5\" font-family=\"monospace\" font-size=\"10.00\" fill=\"#000000\">AccumulateGrad</text>\n</g>\n<!-- 139721245380752&#45;&gt;139724005379856 -->\n<g id=\"edge23\" class=\"edge\">\n<title>139721245380752&#45;&gt;139724005379856</title>\n<path fill=\"none\" stroke=\"#000000\" d=\"M338.6797,-369.2615C330.538,-359.1228 317.61,-343.0238 307.6652,-330.6397\"/>\n<polygon fill=\"#000000\" stroke=\"#000000\" points=\"310.3428,-328.3842 301.3524,-322.7785 304.8848,-332.7671 310.3428,-328.3842\"/>\n</g>\n<!-- 139721404274560 -->\n<g id=\"node26\" class=\"node\">\n<title>139721404274560</title>\n<polygon fill=\"#add8e6\" stroke=\"#000000\" points=\"416,-460 321,-460 321,-430 416,-430 416,-460\"/>\n<text text-anchor=\"middle\" x=\"368.5\" y=\"-448\" font-family=\"monospace\" font-size=\"10.00\" fill=\"#000000\">layer3.weight</text>\n<text text-anchor=\"middle\" x=\"368.5\" y=\"-437\" font-family=\"monospace\" font-size=\"10.00\" fill=\"#000000\"> (20, 40)</text>\n</g>\n<!-- 139721404274560&#45;&gt;139721245380752 -->\n<g id=\"edge24\" class=\"edge\">\n<title>139721404274560&#45;&gt;139721245380752</title>\n<path fill=\"none\" stroke=\"#000000\" d=\"M363.3975,-429.6924C360.2697,-420.3092 356.2388,-408.2165 352.8985,-398.1956\"/>\n<polygon fill=\"#000000\" stroke=\"#000000\" points=\"356.2171,-397.0831 349.7344,-388.7031 349.5763,-399.2967 356.2171,-397.0831\"/>\n</g>\n<!-- 139724005379664 -->\n<g id=\"node27\" class=\"node\">\n<title>139724005379664</title>\n<polygon fill=\"#d3d3d3\" stroke=\"#000000\" points=\"381,-196 310,-196 310,-177 381,-177 381,-196\"/>\n<text text-anchor=\"middle\" x=\"345.5\" y=\"-184\" font-family=\"monospace\" font-size=\"10.00\" fill=\"#000000\">TBackward</text>\n</g>\n<!-- 139724005379664&#45;&gt;139724005379536 -->\n<g id=\"edge25\" class=\"edge\">\n<title>139724005379664&#45;&gt;139724005379536</title>\n<path fill=\"none\" stroke=\"#000000\" d=\"M323.3783,-176.9197C303.1064,-168.1406 272.8692,-155.0457 250.0628,-145.1689\"/>\n<polygon fill=\"#000000\" stroke=\"#000000\" points=\"251.3617,-141.9174 240.7943,-141.155 248.5798,-148.3409 251.3617,-141.9174\"/>\n</g>\n<!-- 139724005379792 -->\n<g id=\"node28\" class=\"node\">\n<title>139724005379792</title>\n<polygon fill=\"#d3d3d3\" stroke=\"#000000\" points=\"423,-256.5 322,-256.5 322,-237.5 423,-237.5 423,-256.5\"/>\n<text text-anchor=\"middle\" x=\"372.5\" y=\"-244.5\" font-family=\"monospace\" font-size=\"10.00\" fill=\"#000000\">AccumulateGrad</text>\n</g>\n<!-- 139724005379792&#45;&gt;139724005379664 -->\n<g id=\"edge26\" class=\"edge\">\n<title>139724005379792&#45;&gt;139724005379664</title>\n<path fill=\"none\" stroke=\"#000000\" d=\"M368.162,-237.2796C364.3663,-228.7746 358.7412,-216.17 354.0449,-205.6469\"/>\n<polygon fill=\"#000000\" stroke=\"#000000\" points=\"357.1886,-204.1027 349.9169,-196.3972 350.7962,-206.9555 357.1886,-204.1027\"/>\n</g>\n<!-- 139721404702064 -->\n<g id=\"node29\" class=\"node\">\n<title>139721404702064</title>\n<polygon fill=\"#add8e6\" stroke=\"#000000\" points=\"442,-328 347,-328 347,-298 442,-298 442,-328\"/>\n<text text-anchor=\"middle\" x=\"394.5\" y=\"-316\" font-family=\"monospace\" font-size=\"10.00\" fill=\"#000000\">output.weight</text>\n<text text-anchor=\"middle\" x=\"394.5\" y=\"-305\" font-family=\"monospace\" font-size=\"10.00\" fill=\"#000000\"> (2, 20)</text>\n</g>\n<!-- 139721404702064&#45;&gt;139724005379792 -->\n<g id=\"edge27\" class=\"edge\">\n<title>139721404702064&#45;&gt;139724005379792</title>\n<path fill=\"none\" stroke=\"#000000\" d=\"M389.3975,-297.6924C386.2697,-288.3092 382.2388,-276.2165 378.8985,-266.1956\"/>\n<polygon fill=\"#000000\" stroke=\"#000000\" points=\"382.2171,-265.0831 375.7344,-256.7031 375.5763,-267.2967 382.2171,-265.0831\"/>\n</g>\n</g>\n</svg>\n"
          },
          "metadata": {
            "tags": []
          },
          "execution_count": 43
        }
      ]
    }
  ]
}