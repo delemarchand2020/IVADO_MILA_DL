{
  "nbformat": 4,
  "nbformat_minor": 0,
  "metadata": {
    "colab": {
      "name": "week2_tutorial_denis_lemarchand.ipynb",
      "provenance": [],
      "collapsed_sections": [],
      "toc_visible": true,
      "include_colab_link": true
    },
    "language_info": {
      "codemirror_mode": {
        "name": "ipython",
        "version": 3
      },
      "file_extension": ".py",
      "mimetype": "text/x-python",
      "name": "python",
      "nbconvert_exporter": "python",
      "pygments_lexer": "ipython3",
      "version": "3.7.0"
    },
    "kernelspec": {
      "display_name": "Python 3",
      "language": "python",
      "name": "python3"
    },
    "accelerator": "GPU"
  },
  "cells": [
    {
      "cell_type": "markdown",
      "metadata": {
        "id": "view-in-github",
        "colab_type": "text"
      },
      "source": [
        "<a href=\"https://colab.research.google.com/github/delemarchand2020/IVADO_MILA_DL/blob/main/week2_tutorial_denis_lemarchand.ipynb\" target=\"_parent\"><img src=\"https://colab.research.google.com/assets/colab-badge.svg\" alt=\"Open In Colab\"/></a>"
      ]
    },
    {
      "cell_type": "markdown",
      "metadata": {
        "id": "mipSoOVlavkb"
      },
      "source": [
        "# IVADO/MILA DEEP LEARNING SCHOOL\n",
        "# Spring 2021\n",
        "# Tutorial : Categorical data with multilayer perceptron (MLP)\n",
        "\n",
        "## Authors: \n",
        "\n",
        "Arsène Fansi Tchango <arsene.fansi.tchango@mila.quebec>\n",
        "\n",
        "Gaétan Marceau Caron <gaetan.marceau.caron@mila.quebec>"
      ]
    },
    {
      "cell_type": "markdown",
      "metadata": {
        "id": "sLHwvggEZERd"
      },
      "source": [
        "# Preface"
      ]
    },
    {
      "cell_type": "markdown",
      "metadata": {
        "id": "JKNGtQkkohiM"
      },
      "source": [
        "This tutorial introduces the practical aspects of Deep Learning through the realization of a simple end-to-end project. We will use the deep learning library <a href=\"https://pytorch.org/\"> `PyTorch`</a>, which is well-known for its ease of use."
      ]
    },
    {
      "cell_type": "markdown",
      "metadata": {
        "id": "Tu9DZNmYpePz"
      },
      "source": [
        "# Initialization"
      ]
    },
    {
      "cell_type": "markdown",
      "metadata": {
        "id": "iWCNdeTIpkCa"
      },
      "source": [
        "Before we begin, we must install all the required libraries for this part of the tutorial. To do so, we will use the `pip` utility. Execute the cell below by selecting it and pressing `shift`+`Enter`. (This operation may take a few minutes.)\n",
        "\n",
        "We need to be using the latest version of `pillow` for this tutorial. If you are prompted with:\n",
        "\n",
        "> WARNING: The following packages were previously imported in this runtime:\n",
        "  [PIL]\n",
        "You must restart the runtime in order to use newly installed versions.\n",
        "\n",
        "Then click on restart runtime and rerun the cells afterwards."
      ]
    },
    {
      "cell_type": "code",
      "metadata": {
        "id": "9g_0k-_Eppi-",
        "colab": {
          "base_uri": "https://localhost:8080/"
        },
        "outputId": "5ca0abc9-4a3f-413e-ce09-9d295bc6079f"
      },
      "source": [
        "!pip3 install torch torchvision matplotlib\n",
        "!pip3 install --upgrade pillow==8.1.0"
      ],
      "execution_count": 1,
      "outputs": [
        {
          "output_type": "stream",
          "text": [
            "Requirement already satisfied: torch in /usr/local/lib/python3.7/dist-packages (1.8.1+cu101)\n",
            "Requirement already satisfied: torchvision in /usr/local/lib/python3.7/dist-packages (0.9.1+cu101)\n",
            "Requirement already satisfied: matplotlib in /usr/local/lib/python3.7/dist-packages (3.2.2)\n",
            "Requirement already satisfied: typing-extensions in /usr/local/lib/python3.7/dist-packages (from torch) (3.7.4.3)\n",
            "Requirement already satisfied: numpy in /usr/local/lib/python3.7/dist-packages (from torch) (1.19.5)\n",
            "Requirement already satisfied: pillow>=4.1.1 in /usr/local/lib/python3.7/dist-packages (from torchvision) (8.1.0)\n",
            "Requirement already satisfied: pyparsing!=2.0.4,!=2.1.2,!=2.1.6,>=2.0.1 in /usr/local/lib/python3.7/dist-packages (from matplotlib) (2.4.7)\n",
            "Requirement already satisfied: cycler>=0.10 in /usr/local/lib/python3.7/dist-packages (from matplotlib) (0.10.0)\n",
            "Requirement already satisfied: kiwisolver>=1.0.1 in /usr/local/lib/python3.7/dist-packages (from matplotlib) (1.3.1)\n",
            "Requirement already satisfied: python-dateutil>=2.1 in /usr/local/lib/python3.7/dist-packages (from matplotlib) (2.8.1)\n",
            "Requirement already satisfied: six in /usr/local/lib/python3.7/dist-packages (from cycler>=0.10->matplotlib) (1.15.0)\n",
            "Requirement already up-to-date: pillow==8.1.0 in /usr/local/lib/python3.7/dist-packages (8.1.0)\n"
          ],
          "name": "stdout"
        }
      ]
    },
    {
      "cell_type": "markdown",
      "metadata": {
        "id": "VKufekB4FnqN"
      },
      "source": [
        "To ensure that all required libraries are available, let's try to load all libraries and modules we will need during this tutorial by executing this cell: "
      ]
    },
    {
      "cell_type": "code",
      "metadata": {
        "id": "loLQlRg3sV-r"
      },
      "source": [
        "import importlib\n",
        "required_libraries = ['torch', 'torchvision', 'PIL', 'matplotlib', \n",
        "                      'numpy', 'pandas']\n",
        "for lib in required_libraries:\n",
        "    if importlib.util.find_spec(lib) is None:\n",
        "        print(\"%s unavailable\" % lib)\n",
        "\n",
        "import matplotlib.pyplot as plt\n",
        "%matplotlib inline"
      ],
      "execution_count": 2,
      "outputs": []
    },
    {
      "cell_type": "code",
      "metadata": {
        "id": "FeLUcnk5scNx",
        "colab": {
          "base_uri": "https://localhost:8080/"
        },
        "outputId": "a4c5efdb-4995-4db4-8711-daf4f6ecd08f"
      },
      "source": [
        "import torch\n",
        "import numpy as np\n",
        "import pandas as pd\n",
        "import torch.nn as nn\n",
        "import torch.nn.functional as F\n",
        "import torch.optim as optim\n",
        "import torchvision\n",
        "\n",
        "from torch.utils.data import TensorDataset\n",
        "\n",
        "use_gpu = torch.cuda.is_available()\n",
        "device = torch.device(\"cuda:0\" if use_gpu else \"cpu\")\n",
        "\n",
        "print(\"Torch version: \", torch.__version__)\n",
        "print(\"GPU Available: {}\".format(use_gpu))"
      ],
      "execution_count": 3,
      "outputs": [
        {
          "output_type": "stream",
          "text": [
            "Torch version:  1.8.1+cu101\n",
            "GPU Available: True\n"
          ],
          "name": "stdout"
        }
      ]
    },
    {
      "cell_type": "markdown",
      "metadata": {
        "id": "xc9wc4qq7qob"
      },
      "source": [
        "Fix the seed for the different libraries"
      ]
    },
    {
      "cell_type": "code",
      "metadata": {
        "id": "05jTJ12r7msf"
      },
      "source": [
        "seed = 4321\n",
        "np.random.seed(seed) # Set the random seed of numpy for the data split.\n",
        "torch.manual_seed(seed)\n",
        "torch.cuda.manual_seed(seed)"
      ],
      "execution_count": 4,
      "outputs": []
    },
    {
      "cell_type": "markdown",
      "metadata": {
        "id": "ZKzgFV9Favkt"
      },
      "source": [
        "# PyTorch in a nutshell"
      ]
    },
    {
      "cell_type": "markdown",
      "metadata": {
        "id": "Vrus_-F0avkt"
      },
      "source": [
        "*PyTorch* is a Python library that supports a vibrant ecosystem of tools and libraries for machine learning (ML) in vision, NLP, and more. It provides two high-level features:\n",
        "<ul>\n",
        "<li> operations on <a href=\"https://pytorch.org/tutorials/beginner/blitz/tensor_tutorial.html#sphx-glr-beginner-blitz-tensor-tutorial-py\">tensors</a> (such as NumPy) with GPU support,</li>\n",
        "<li> operations for creating and optimizing computational graphs with an automatic differentiation system called <a href=\"https://pytorch.org/tutorials/beginner/blitz/autograd_tutorial.html#sphx-glr-beginner-blitz-autograd-tutorial-py\">Autograd</a>.</li>\n",
        "</ul>\n",
        "\n",
        "<a href=\"https://pytorch.org/docs/stable/torch.html\">PyTorch docs</a> contain the API documentation and <a href=\"https://pytorch.org/tutorials/\">many tutorials</a>.\n",
        "Also, PyTorch offers several data processing utilities. One of these utilities is the class <a href=\"http://pytorch.org/docs/master/data.html#\"> `torch.utils.data.Dataset`</a> which offers an easy to use interface to handle a data set. For more information, please refer to the following urls: \n",
        "<ul>\n",
        "<li>PyTorch data sets: <a href=\"http://pytorch.org/docs/master/data.html\"> PyTorch - datasets</a>.</li>\n",
        "<li>A tutorial for loading data: <a href=\"http://pytorch.org/tutorials/beginner/data_loading_tutorial.html\"> PyTorch - data loading tutorial</a>.</li>\n",
        "</ul>\n",
        "\n",
        "<a href=\"http://pytorch.org/docs/master/cuda.html#module-torch.cuda\">`torch.cuda`</a> is a package that provides the same functions as CPU tensors but for  CUDA tensors, which are used for GPU computing. <a href=\"http://pytorch.org/docs/master/cuda.html#torch.cuda.is_available\">`torch.cuda.is_available()`</a> returns a boolean indicating if CUDA is currently available. Finally, we recommend using a `device` variable that identifies the device that will perform computations. We can assign a tensor to a device with the method `.to(device)`. By default, the tensors are CPU tensors."
      ]
    },
    {
      "cell_type": "markdown",
      "metadata": {
        "id": "Qm122vNmq92L"
      },
      "source": [
        "# Ingredients for a proof of concept (POC)"
      ]
    },
    {
      "cell_type": "markdown",
      "metadata": {
        "id": "nqvhR0ebavmE"
      },
      "source": [
        "To realize a ML POC, you need:\n",
        "<ul>\n",
        "<li>a task description as well as data to support it,</li>\n",
        "<li>evaluation metrics to assess the performance of models,</li>\n",
        "<li>a model description,</li>\n",
        "<li>a loss function to minimize,</li>\n",
        "<li>an optimizer that adjusts the parameters of the model.</li>\n",
        "</ul>"
      ]
    },
    {
      "cell_type": "markdown",
      "metadata": {
        "id": "Y8_pfpu2f6AO"
      },
      "source": [
        "# How to prepare the dataset?"
      ]
    },
    {
      "cell_type": "markdown",
      "metadata": {
        "id": "B5piZxYUhSzq"
      },
      "source": [
        "In this tutorial, we study the tragedy of the Titanic through a data-driven approach. Our task is to determine whether or not a passenger survived the Titanic sinking based on passenger data only. The results will show how the passengers' fate was pre-determined by the features selected in this study, without considering other factors."
      ]
    },
    {
      "cell_type": "markdown",
      "metadata": {
        "id": "y4GuYNDFavlU"
      },
      "source": [
        "## Titanic dataset"
      ]
    },
    {
      "cell_type": "markdown",
      "metadata": {
        "id": "NiOJx2ytavlU"
      },
      "source": [
        "First, we download the Titanic dataset from the following address:\n",
        "<br/>\n",
        "https://github.com/afansi/winterschool18/blob/master/titanic3.csv?raw=true.<br/>\n",
        "This dataset provides information on the fate of 1309 passengers of the first and only journey of the liner RMS Titanic, summarized by economic status (class), gender, age, family information, and survival. We use this dataset because we can train models very quickly for the purpose of this tutorial. The Kaggle platform also uses this dataset as an introduction to classical machine learning. <br/>\n",
        "\n",
        "Let's take a look at the features and some examples from this dataset. To do so, we use the library <a href=\"https://pandas.pydata.org/\">Pandas</a> to load the dataset into memory."
      ]
    },
    {
      "cell_type": "code",
      "metadata": {
        "id": "bX_RSiffavlW",
        "colab": {
          "base_uri": "https://localhost:8080/",
          "height": 534
        },
        "outputId": "f13b75fa-1d28-472f-f0fe-ac3ccf1fca80"
      },
      "source": [
        "titanic_df = pd.read_csv(\n",
        "    'https://github.com/afansi/winterschool18/blob/master/titanic3.csv?raw=true', \n",
        "    sep='\\t', \n",
        "    index_col=None, \n",
        "    na_values=['NA']\n",
        ")\n",
        "\n",
        "# a snapshot of the first 5 data points\n",
        "titanic_df.head()\n",
        "\n"
      ],
      "execution_count": 5,
      "outputs": [
        {
          "output_type": "execute_result",
          "data": {
            "text/html": [
              "<div>\n",
              "<style scoped>\n",
              "    .dataframe tbody tr th:only-of-type {\n",
              "        vertical-align: middle;\n",
              "    }\n",
              "\n",
              "    .dataframe tbody tr th {\n",
              "        vertical-align: top;\n",
              "    }\n",
              "\n",
              "    .dataframe thead th {\n",
              "        text-align: right;\n",
              "    }\n",
              "</style>\n",
              "<table border=\"1\" class=\"dataframe\">\n",
              "  <thead>\n",
              "    <tr style=\"text-align: right;\">\n",
              "      <th></th>\n",
              "      <th>pclass</th>\n",
              "      <th>survived</th>\n",
              "      <th>name</th>\n",
              "      <th>sex</th>\n",
              "      <th>age</th>\n",
              "      <th>sibsp</th>\n",
              "      <th>parch</th>\n",
              "      <th>ticket</th>\n",
              "      <th>fare</th>\n",
              "      <th>cabin</th>\n",
              "      <th>embarked</th>\n",
              "      <th>boat</th>\n",
              "      <th>body</th>\n",
              "      <th>home.dest</th>\n",
              "    </tr>\n",
              "  </thead>\n",
              "  <tbody>\n",
              "    <tr>\n",
              "      <th>0</th>\n",
              "      <td>1</td>\n",
              "      <td>1</td>\n",
              "      <td>Allen, Miss. Elisabeth Walton</td>\n",
              "      <td>female</td>\n",
              "      <td>29.0000</td>\n",
              "      <td>0</td>\n",
              "      <td>0</td>\n",
              "      <td>24160</td>\n",
              "      <td>211.3375</td>\n",
              "      <td>B5</td>\n",
              "      <td>S</td>\n",
              "      <td>2</td>\n",
              "      <td>NaN</td>\n",
              "      <td>St Louis, MO</td>\n",
              "    </tr>\n",
              "    <tr>\n",
              "      <th>1</th>\n",
              "      <td>1</td>\n",
              "      <td>1</td>\n",
              "      <td>Allison, Master. Hudson Trevor</td>\n",
              "      <td>male</td>\n",
              "      <td>0.9167</td>\n",
              "      <td>1</td>\n",
              "      <td>2</td>\n",
              "      <td>113781</td>\n",
              "      <td>151.5500</td>\n",
              "      <td>C22 C26</td>\n",
              "      <td>S</td>\n",
              "      <td>11</td>\n",
              "      <td>NaN</td>\n",
              "      <td>Montreal, PQ / Chesterville, ON</td>\n",
              "    </tr>\n",
              "    <tr>\n",
              "      <th>2</th>\n",
              "      <td>1</td>\n",
              "      <td>0</td>\n",
              "      <td>Allison, Miss. Helen Loraine</td>\n",
              "      <td>female</td>\n",
              "      <td>2.0000</td>\n",
              "      <td>1</td>\n",
              "      <td>2</td>\n",
              "      <td>113781</td>\n",
              "      <td>151.5500</td>\n",
              "      <td>C22 C26</td>\n",
              "      <td>S</td>\n",
              "      <td>NaN</td>\n",
              "      <td>NaN</td>\n",
              "      <td>Montreal, PQ / Chesterville, ON</td>\n",
              "    </tr>\n",
              "    <tr>\n",
              "      <th>3</th>\n",
              "      <td>1</td>\n",
              "      <td>0</td>\n",
              "      <td>Allison, Mr. Hudson Joshua Creighton</td>\n",
              "      <td>male</td>\n",
              "      <td>30.0000</td>\n",
              "      <td>1</td>\n",
              "      <td>2</td>\n",
              "      <td>113781</td>\n",
              "      <td>151.5500</td>\n",
              "      <td>C22 C26</td>\n",
              "      <td>S</td>\n",
              "      <td>NaN</td>\n",
              "      <td>135.0</td>\n",
              "      <td>Montreal, PQ / Chesterville, ON</td>\n",
              "    </tr>\n",
              "    <tr>\n",
              "      <th>4</th>\n",
              "      <td>1</td>\n",
              "      <td>0</td>\n",
              "      <td>Allison, Mrs. Hudson J C (Bessie Waldo Daniels)</td>\n",
              "      <td>female</td>\n",
              "      <td>25.0000</td>\n",
              "      <td>1</td>\n",
              "      <td>2</td>\n",
              "      <td>113781</td>\n",
              "      <td>151.5500</td>\n",
              "      <td>C22 C26</td>\n",
              "      <td>S</td>\n",
              "      <td>NaN</td>\n",
              "      <td>NaN</td>\n",
              "      <td>Montreal, PQ / Chesterville, ON</td>\n",
              "    </tr>\n",
              "  </tbody>\n",
              "</table>\n",
              "</div>"
            ],
            "text/plain": [
              "   pclass  survived  ...   body                        home.dest\n",
              "0       1         1  ...    NaN                     St Louis, MO\n",
              "1       1         1  ...    NaN  Montreal, PQ / Chesterville, ON\n",
              "2       1         0  ...    NaN  Montreal, PQ / Chesterville, ON\n",
              "3       1         0  ...  135.0  Montreal, PQ / Chesterville, ON\n",
              "4       1         0  ...    NaN  Montreal, PQ / Chesterville, ON\n",
              "\n",
              "[5 rows x 14 columns]"
            ]
          },
          "metadata": {
            "tags": []
          },
          "execution_count": 5
        }
      ]
    },
    {
      "cell_type": "markdown",
      "metadata": {
        "id": "yj88WmCmavlf"
      },
      "source": [
        "Here's the list of the features with their description:\n",
        "\n",
        "<ol>\n",
        "\n",
        "  <li> <b>pclass</b>: Passenger class (1 = first; 2 = second; 3 = third) </li>\n",
        "  <li> <b>survived</b>: Survived? (0 = no; 1 = yes) </li>\n",
        "  <li> <b>name</b>: Name </li>\n",
        "  <li> <b>sex</b>: Sex </li>\n",
        "  <li> <b>age</b>: Age </li>\n",
        "  <li> <b>sibsp</b>: Number of brothers, sisters, or spouses onboard </li>\n",
        "  <li> <b>parch</b>: Number of parents or children onboard </li>\n",
        "  <li> <b>ticket</b>: Ticket number </li>\n",
        "  <li> <b>fare</b>: Passenger fare </li>\n",
        "  <li> <b>cabin</b>: Cabin number </li>\n",
        "  <li> <b>embarked</b>: Port of embarkation (C = Cherbourg; Q = Queenstown; S = Southampton) </li>\n",
        "  <li> <b>boat</b>: Lifeboat (if the passenger survived, otherwise the value is Not a Number (NaN) </li>\n",
        "  <li> <b>body</b>: Body number (if the passenger did not survive and his body was found, otherwise the value is NaN) </li>\n",
        "  <li> <b>home.dest</b>: the passenger's destination </li>\n",
        " </ol>\n"
      ]
    },
    {
      "cell_type": "markdown",
      "metadata": {
        "id": "u2ed5fozqjce"
      },
      "source": [
        "## Data pre-processing"
      ]
    },
    {
      "cell_type": "markdown",
      "metadata": {
        "id": "__vcZhPnavlg"
      },
      "source": [
        "### Feature selection\n",
        "Some features are not relevant to the task, for example:\n",
        "<ol>\n",
        "  <li> <b>name</b>: Name </li>\n",
        "  <li> <b>ticket</b>: Ticket number </li>\n",
        "  <li> <b>cabin</b>: Cabin number </li>\n",
        "  <li> <b>home.dest</b>: Passenger's destination </li>\n",
        " </ol>\n",
        " \n",
        "Other features are directly related to the passenger survival and are not interesting for our study because they give away the label to be predicted:\n",
        "<ol>\n",
        "  <li> <b>boat</b>: Lifeboat (if the passenger survived) </li>\n",
        "  <li> <b>body</b>: Body number (if the passenger did not survive and his body was found) </li>\n",
        " </ol>"
      ]
    },
    {
      "cell_type": "code",
      "metadata": {
        "id": "uoD8x0dXofmj"
      },
      "source": [
        "titanic_df.drop(['name', 'ticket', 'cabin', 'home.dest', 'boat', 'body'], axis=1, inplace=True)"
      ],
      "execution_count": 6,
      "outputs": []
    },
    {
      "cell_type": "markdown",
      "metadata": {
        "id": "4PW_IWwqwdHq"
      },
      "source": [
        "### Handling missing values\n",
        "\n",
        "Handling missing values in datasets is difficult since examples with missing values can be informative for subgroups. Suppose that features associated with third-class tickets have many missing values compared to first-class tickets. Removing all examples with missing values will introduce a bias in the dataset and could completely change the correlations between features and the probability of survival. Another approach is to impute missing values by replacing them with simples statistics such as the mean or the median of the feature. Other imputing techniques use the other features to predict the missing values, which is very close to a ML task. See Scikit-learn reference for more details ([Imputation of missing values](https://www.google.com/url?q=https://scikit-learn.org/stable/modules/impute.html&sa=D&source=editors&ust=1617044175668000&usg=AFQjCNHxRm4BcLBrZEPzW7i3C_PJ7oAuPQ)). Thus, handling missing values should be done carefully and often depend on the dataset and domain knowledge. In the following, we discard all examples with missing values, but since it is a substantial number of examples, we are probably introducing a bias in the dataset. To avoid such bias, one can re-annotate the data manually."
      ]
    },
    {
      "cell_type": "code",
      "metadata": {
        "id": "X8YKDg69wjb_",
        "colab": {
          "base_uri": "https://localhost:8080/"
        },
        "outputId": "c13c2e64-f320-40b8-9a82-dee0d8af8762"
      },
      "source": [
        "n_examples = len(titanic_df)\n",
        "titanic_df = titanic_df.dropna(axis=0, how='any').reset_index(drop=True)\n",
        "print(f'We removed {n_examples-len(titanic_df)} examples over {n_examples} containing missing values.')"
      ],
      "execution_count": 7,
      "outputs": [
        {
          "output_type": "stream",
          "text": [
            "We removed 266 examples over 1309 containing missing values.\n"
          ],
          "name": "stdout"
        }
      ]
    },
    {
      "cell_type": "markdown",
      "metadata": {
        "id": "4MckYm0M_xhR"
      },
      "source": [
        "### Feature encoding\n",
        " \n",
        "Some features are **categorical variables**, which means that they can take a finite number of values.\n",
        " <ol>\n",
        "  <li> <b>pclass</b>: Passenger Class </li>\n",
        "  <li> <b>sex</b>: Sex </li>\n",
        "  <li> <b>embarked</b>: Port of embarkation </li>\n",
        " </ol>\n",
        "\n",
        "To process categorical variables, we need to encode them in a way that does not imply an arbitrary order such as using natural numbers (e.g., 1, 2, 3). <a href=\"https://en.wikipedia.org/wiki/One-hot#Machine_learning_and_statistics\">One-hot encoding</a> is a way to achieve it. To use this encoding, we can simply call the function `get_dummies` in Pandas. The meaning of the encoded variables is as follows:\n",
        "\n",
        "<ol>\n",
        "  <li> <b>survived</b>: Survived? (0 = no; 1 = yes) </li>\n",
        "  <li> <b>pclass_1</b>: (1 if passenger in first class; 0 if not) </li>\n",
        "  <li> <b>pclass_2</b>: (1 if passenger in second class; 0 if not) </li>\n",
        "  <li> <b>pclass_3</b>: (1 if passenger in third class; 0 if not) </li>\n",
        "  <li> <b>sex_female</b>: (1 if passenger is female; 0 if not) </li>\n",
        "  <li> <b>sex_male</b>: (1 if passenger is male; 0 if not) </li>\n",
        "  <li> <b>age</b>: Age </li>\n",
        "  <li> <b>sibsp</b>: Number of brothers, sisters, or spouses onboard </li>\n",
        "  <li> <b>parch</b>: Number of parents or children onboard </li>\n",
        "  <li> <b>fare</b>: Passenger fare </li>\n",
        "  <li> <b>embarked_C</b>: (1 if Port of embarkation = Cherbourg (C); 0 otherwise) </li> \n",
        "  <li> <b>embarked_Q</b>: (1 if Port of embarkation = Queenstown (Q); 0 otherwise) </li> \n",
        "  <li> <b>embarked_S</b>: (1 if Port of embarkation = Southampton (S); 0 otherwise)</li> \n",
        " </ol>"
      ]
    },
    {
      "cell_type": "code",
      "metadata": {
        "id": "G7bFJc5X_qjx",
        "colab": {
          "base_uri": "https://localhost:8080/",
          "height": 222
        },
        "outputId": "b722648a-f7a8-458f-b088-0727d5497960"
      },
      "source": [
        "titanic_preprocess_df = pd.get_dummies(data=titanic_df, columns=['pclass', 'sex', 'embarked'])\n",
        "titanic_preprocess_df.head()"
      ],
      "execution_count": 8,
      "outputs": [
        {
          "output_type": "execute_result",
          "data": {
            "text/html": [
              "<div>\n",
              "<style scoped>\n",
              "    .dataframe tbody tr th:only-of-type {\n",
              "        vertical-align: middle;\n",
              "    }\n",
              "\n",
              "    .dataframe tbody tr th {\n",
              "        vertical-align: top;\n",
              "    }\n",
              "\n",
              "    .dataframe thead th {\n",
              "        text-align: right;\n",
              "    }\n",
              "</style>\n",
              "<table border=\"1\" class=\"dataframe\">\n",
              "  <thead>\n",
              "    <tr style=\"text-align: right;\">\n",
              "      <th></th>\n",
              "      <th>survived</th>\n",
              "      <th>age</th>\n",
              "      <th>sibsp</th>\n",
              "      <th>parch</th>\n",
              "      <th>fare</th>\n",
              "      <th>pclass_1</th>\n",
              "      <th>pclass_2</th>\n",
              "      <th>pclass_3</th>\n",
              "      <th>sex_female</th>\n",
              "      <th>sex_male</th>\n",
              "      <th>embarked_C</th>\n",
              "      <th>embarked_Q</th>\n",
              "      <th>embarked_S</th>\n",
              "    </tr>\n",
              "  </thead>\n",
              "  <tbody>\n",
              "    <tr>\n",
              "      <th>0</th>\n",
              "      <td>1</td>\n",
              "      <td>29.0000</td>\n",
              "      <td>0</td>\n",
              "      <td>0</td>\n",
              "      <td>211.3375</td>\n",
              "      <td>1</td>\n",
              "      <td>0</td>\n",
              "      <td>0</td>\n",
              "      <td>1</td>\n",
              "      <td>0</td>\n",
              "      <td>0</td>\n",
              "      <td>0</td>\n",
              "      <td>1</td>\n",
              "    </tr>\n",
              "    <tr>\n",
              "      <th>1</th>\n",
              "      <td>1</td>\n",
              "      <td>0.9167</td>\n",
              "      <td>1</td>\n",
              "      <td>2</td>\n",
              "      <td>151.5500</td>\n",
              "      <td>1</td>\n",
              "      <td>0</td>\n",
              "      <td>0</td>\n",
              "      <td>0</td>\n",
              "      <td>1</td>\n",
              "      <td>0</td>\n",
              "      <td>0</td>\n",
              "      <td>1</td>\n",
              "    </tr>\n",
              "    <tr>\n",
              "      <th>2</th>\n",
              "      <td>0</td>\n",
              "      <td>2.0000</td>\n",
              "      <td>1</td>\n",
              "      <td>2</td>\n",
              "      <td>151.5500</td>\n",
              "      <td>1</td>\n",
              "      <td>0</td>\n",
              "      <td>0</td>\n",
              "      <td>1</td>\n",
              "      <td>0</td>\n",
              "      <td>0</td>\n",
              "      <td>0</td>\n",
              "      <td>1</td>\n",
              "    </tr>\n",
              "    <tr>\n",
              "      <th>3</th>\n",
              "      <td>0</td>\n",
              "      <td>30.0000</td>\n",
              "      <td>1</td>\n",
              "      <td>2</td>\n",
              "      <td>151.5500</td>\n",
              "      <td>1</td>\n",
              "      <td>0</td>\n",
              "      <td>0</td>\n",
              "      <td>0</td>\n",
              "      <td>1</td>\n",
              "      <td>0</td>\n",
              "      <td>0</td>\n",
              "      <td>1</td>\n",
              "    </tr>\n",
              "    <tr>\n",
              "      <th>4</th>\n",
              "      <td>0</td>\n",
              "      <td>25.0000</td>\n",
              "      <td>1</td>\n",
              "      <td>2</td>\n",
              "      <td>151.5500</td>\n",
              "      <td>1</td>\n",
              "      <td>0</td>\n",
              "      <td>0</td>\n",
              "      <td>1</td>\n",
              "      <td>0</td>\n",
              "      <td>0</td>\n",
              "      <td>0</td>\n",
              "      <td>1</td>\n",
              "    </tr>\n",
              "  </tbody>\n",
              "</table>\n",
              "</div>"
            ],
            "text/plain": [
              "   survived      age  sibsp  ...  embarked_C  embarked_Q  embarked_S\n",
              "0         1  29.0000      0  ...           0           0           1\n",
              "1         1   0.9167      1  ...           0           0           1\n",
              "2         0   2.0000      1  ...           0           0           1\n",
              "3         0  30.0000      1  ...           0           0           1\n",
              "4         0  25.0000      1  ...           0           0           1\n",
              "\n",
              "[5 rows x 13 columns]"
            ]
          },
          "metadata": {
            "tags": []
          },
          "execution_count": 8
        }
      ]
    },
    {
      "cell_type": "markdown",
      "metadata": {
        "id": "zeBNt5EW6tm9"
      },
      "source": [
        "Now, we can check if all examples have a one-hot encoding for their categorical variables."
      ]
    },
    {
      "cell_type": "code",
      "metadata": {
        "id": "4RjZZEokvJ3e",
        "colab": {
          "base_uri": "https://localhost:8080/",
          "height": 69
        },
        "outputId": "d6d192ab-c65a-4547-c5e9-e219d6582b09"
      },
      "source": [
        "titanic_preprocess_df.loc[titanic_preprocess_df[['sex_male','sex_female']].sum(axis=1) != 1]"
      ],
      "execution_count": 9,
      "outputs": [
        {
          "output_type": "execute_result",
          "data": {
            "text/html": [
              "<div>\n",
              "<style scoped>\n",
              "    .dataframe tbody tr th:only-of-type {\n",
              "        vertical-align: middle;\n",
              "    }\n",
              "\n",
              "    .dataframe tbody tr th {\n",
              "        vertical-align: top;\n",
              "    }\n",
              "\n",
              "    .dataframe thead th {\n",
              "        text-align: right;\n",
              "    }\n",
              "</style>\n",
              "<table border=\"1\" class=\"dataframe\">\n",
              "  <thead>\n",
              "    <tr style=\"text-align: right;\">\n",
              "      <th></th>\n",
              "      <th>survived</th>\n",
              "      <th>age</th>\n",
              "      <th>sibsp</th>\n",
              "      <th>parch</th>\n",
              "      <th>fare</th>\n",
              "      <th>pclass_1</th>\n",
              "      <th>pclass_2</th>\n",
              "      <th>pclass_3</th>\n",
              "      <th>sex_female</th>\n",
              "      <th>sex_male</th>\n",
              "      <th>embarked_C</th>\n",
              "      <th>embarked_Q</th>\n",
              "      <th>embarked_S</th>\n",
              "    </tr>\n",
              "  </thead>\n",
              "  <tbody>\n",
              "  </tbody>\n",
              "</table>\n",
              "</div>"
            ],
            "text/plain": [
              "Empty DataFrame\n",
              "Columns: [survived, age, sibsp, parch, fare, pclass_1, pclass_2, pclass_3, sex_female, sex_male, embarked_C, embarked_Q, embarked_S]\n",
              "Index: []"
            ]
          },
          "metadata": {
            "tags": []
          },
          "execution_count": 9
        }
      ]
    },
    {
      "cell_type": "code",
      "metadata": {
        "id": "Z3yueVPfvEhI",
        "colab": {
          "base_uri": "https://localhost:8080/",
          "height": 69
        },
        "outputId": "050c7c1e-80ab-473c-c5e0-c94f88ae96e2"
      },
      "source": [
        "titanic_preprocess_df.loc[titanic_preprocess_df[['pclass_1','pclass_2', 'pclass_3']].sum(axis=1) != 1]"
      ],
      "execution_count": 10,
      "outputs": [
        {
          "output_type": "execute_result",
          "data": {
            "text/html": [
              "<div>\n",
              "<style scoped>\n",
              "    .dataframe tbody tr th:only-of-type {\n",
              "        vertical-align: middle;\n",
              "    }\n",
              "\n",
              "    .dataframe tbody tr th {\n",
              "        vertical-align: top;\n",
              "    }\n",
              "\n",
              "    .dataframe thead th {\n",
              "        text-align: right;\n",
              "    }\n",
              "</style>\n",
              "<table border=\"1\" class=\"dataframe\">\n",
              "  <thead>\n",
              "    <tr style=\"text-align: right;\">\n",
              "      <th></th>\n",
              "      <th>survived</th>\n",
              "      <th>age</th>\n",
              "      <th>sibsp</th>\n",
              "      <th>parch</th>\n",
              "      <th>fare</th>\n",
              "      <th>pclass_1</th>\n",
              "      <th>pclass_2</th>\n",
              "      <th>pclass_3</th>\n",
              "      <th>sex_female</th>\n",
              "      <th>sex_male</th>\n",
              "      <th>embarked_C</th>\n",
              "      <th>embarked_Q</th>\n",
              "      <th>embarked_S</th>\n",
              "    </tr>\n",
              "  </thead>\n",
              "  <tbody>\n",
              "  </tbody>\n",
              "</table>\n",
              "</div>"
            ],
            "text/plain": [
              "Empty DataFrame\n",
              "Columns: [survived, age, sibsp, parch, fare, pclass_1, pclass_2, pclass_3, sex_female, sex_male, embarked_C, embarked_Q, embarked_S]\n",
              "Index: []"
            ]
          },
          "metadata": {
            "tags": []
          },
          "execution_count": 10
        }
      ]
    },
    {
      "cell_type": "code",
      "metadata": {
        "id": "r4No15nhu8Hi",
        "colab": {
          "base_uri": "https://localhost:8080/",
          "height": 69
        },
        "outputId": "d9c523f5-8a0b-42bc-965a-e752c6b3fc47"
      },
      "source": [
        "titanic_preprocess_df.loc[titanic_preprocess_df[['embarked_C','embarked_Q', 'embarked_S']].sum(axis=1) != 1]"
      ],
      "execution_count": 11,
      "outputs": [
        {
          "output_type": "execute_result",
          "data": {
            "text/html": [
              "<div>\n",
              "<style scoped>\n",
              "    .dataframe tbody tr th:only-of-type {\n",
              "        vertical-align: middle;\n",
              "    }\n",
              "\n",
              "    .dataframe tbody tr th {\n",
              "        vertical-align: top;\n",
              "    }\n",
              "\n",
              "    .dataframe thead th {\n",
              "        text-align: right;\n",
              "    }\n",
              "</style>\n",
              "<table border=\"1\" class=\"dataframe\">\n",
              "  <thead>\n",
              "    <tr style=\"text-align: right;\">\n",
              "      <th></th>\n",
              "      <th>survived</th>\n",
              "      <th>age</th>\n",
              "      <th>sibsp</th>\n",
              "      <th>parch</th>\n",
              "      <th>fare</th>\n",
              "      <th>pclass_1</th>\n",
              "      <th>pclass_2</th>\n",
              "      <th>pclass_3</th>\n",
              "      <th>sex_female</th>\n",
              "      <th>sex_male</th>\n",
              "      <th>embarked_C</th>\n",
              "      <th>embarked_Q</th>\n",
              "      <th>embarked_S</th>\n",
              "    </tr>\n",
              "  </thead>\n",
              "  <tbody>\n",
              "  </tbody>\n",
              "</table>\n",
              "</div>"
            ],
            "text/plain": [
              "Empty DataFrame\n",
              "Columns: [survived, age, sibsp, parch, fare, pclass_1, pclass_2, pclass_3, sex_female, sex_male, embarked_C, embarked_Q, embarked_S]\n",
              "Index: []"
            ]
          },
          "metadata": {
            "tags": []
          },
          "execution_count": 11
        }
      ]
    },
    {
      "cell_type": "markdown",
      "metadata": {
        "id": "n4a-35Xa66Tj"
      },
      "source": [
        "Since there are only two examples with no port of embarkation, we decide to discard them."
      ]
    },
    {
      "cell_type": "code",
      "metadata": {
        "colab": {
          "base_uri": "https://localhost:8080/"
        },
        "id": "wODe7zbglC1I",
        "outputId": "74ecc8df-0d44-4fe2-b720-943cc5371fb8"
      },
      "source": [
        "titanic_df.loc[148,:]"
      ],
      "execution_count": 12,
      "outputs": [
        {
          "output_type": "execute_result",
          "data": {
            "text/plain": [
              "pclass            1\n",
              "survived          0\n",
              "sex          female\n",
              "age              50\n",
              "sibsp             0\n",
              "parch             0\n",
              "fare        28.7125\n",
              "embarked          C\n",
              "Name: 148, dtype: object"
            ]
          },
          "metadata": {
            "tags": []
          },
          "execution_count": 12
        }
      ]
    },
    {
      "cell_type": "code",
      "metadata": {
        "id": "BkBNPNPDk9ZN"
      },
      "source": [
        "# Drop rows where there is no port of embarkation associated\n",
        "#titanic_preprocess_df = titanic_preprocess_df.drop(index=148).reset_index(drop=True)\n",
        "#titanic_preprocess_df = titanic_preprocess_df.drop(index=248).reset_index(drop=True)"
      ],
      "execution_count": 13,
      "outputs": []
    },
    {
      "cell_type": "code",
      "metadata": {
        "id": "l2p2GAKHm-92",
        "colab": {
          "base_uri": "https://localhost:8080/"
        },
        "outputId": "676cd42c-ce37-44a5-c8d8-ad8739f627b1"
      },
      "source": [
        "print(f'There are {len(titanic_preprocess_df)} remaining examples in the dataset.')"
      ],
      "execution_count": 14,
      "outputs": [
        {
          "output_type": "stream",
          "text": [
            "There are 1043 remaining examples in the dataset.\n"
          ],
          "name": "stdout"
        }
      ]
    },
    {
      "cell_type": "markdown",
      "metadata": {
        "id": "QJcs6PUTavlm"
      },
      "source": [
        "## Train / validation / test split"
      ]
    },
    {
      "cell_type": "markdown",
      "metadata": {
        "id": "Bjbgvffmavlo"
      },
      "source": [
        "At this point, we need to divide the dataset into three subsets:\n",
        "\n",
        "<ol>\n",
        "<li> <b> Train</b> (60% of the dataset): used to train the classification model. </li>   \n",
        "<li> <b> Validation</b> (20% of the dataset): used to evaluate hyper-parameters on held-out data. </li>   \n",
        "<li> <b> Test</b> (20% of the dataset): used to evaluate the generalization performance of the chosen model on held-out data. </li>\n",
        "</ol>\n",
        "\n",
        "We use the <a href=\"https://numpy.org/doc/stable/reference/generated/numpy.split.html\">numpy.split function</a> to separate our dataset into subsets."
      ]
    },
    {
      "cell_type": "markdown",
      "metadata": {
        "id": "cs07L8F5488f"
      },
      "source": [
        "### Exercise 1\n",
        "Complete the missing code to create the validation and the test sets"
      ]
    },
    {
      "cell_type": "code",
      "metadata": {
        "id": "GBmL8VBOavlo"
      },
      "source": [
        "train, validate, test = np.split(\n",
        "    titanic_preprocess_df.sample(frac=1, random_state=seed), # cela revient a un shuffle du set de donnees\n",
        "    [int(.6*len(titanic_preprocess_df)), int(.8*len(titanic_preprocess_df))])\n",
        "\n",
        "# Remove the label column from X and create a label vectors.\n",
        "X_train = train.drop(['survived'], axis=1).to_numpy()\n",
        "y_train = train['survived'].to_numpy()\n",
        "\n",
        "X_val = validate.drop(['survived'], axis=1).to_numpy() \n",
        "y_val = validate['survived'].to_numpy()\n",
        "\n",
        "X_test = test.drop(['survived'], axis=1).to_numpy() \n",
        "y_test = test['survived'].to_numpy()\n"
      ],
      "execution_count": 15,
      "outputs": []
    },
    {
      "cell_type": "markdown",
      "metadata": {
        "id": "wv74TbIWavlr"
      },
      "source": [
        "## Datasets in PyTorch"
      ]
    },
    {
      "cell_type": "markdown",
      "metadata": {
        "id": "9_LJtG-Xavlt"
      },
      "source": [
        "We will use the subclass <b><a href=\"https://pytorch.org/docs/master/data.html#torch.utils.data.TensorDataset\"> `torch.utils.data.TensorDataset`</a> </b> to manipulate together the features and targets of a dataset."
      ]
    },
    {
      "cell_type": "markdown",
      "metadata": {
        "id": "CZUfbAtG5S92"
      },
      "source": [
        "### Exercise 2\n",
        "\n",
        "Complete the missing code to load the validation and the test sets in TensorDatasets."
      ]
    },
    {
      "cell_type": "code",
      "metadata": {
        "id": "1JtT4tV7avlt"
      },
      "source": [
        "train_dataset = TensorDataset(torch.from_numpy(X_train).float(), torch.from_numpy(y_train).long())\n",
        "val_dataset = TensorDataset(torch.from_numpy(X_val).float(), torch.from_numpy(y_val).long())\n",
        "test_dataset = TensorDataset(torch.from_numpy(X_test).float(), torch.from_numpy(y_test).long())"
      ],
      "execution_count": 16,
      "outputs": []
    },
    {
      "cell_type": "markdown",
      "metadata": {
        "id": "obEPHnlTavkc"
      },
      "source": [
        "# How to define the learning algorithm?"
      ]
    },
    {
      "cell_type": "markdown",
      "metadata": {
        "id": "qhN5GL6Gavks"
      },
      "source": [
        "To train a deep learning model, we need to define:\n",
        "* the network architecture by choosing the non-linear function and the number of hidden units per layer, \n",
        "* the loss function and optimizer.\n",
        "\n",
        "In this tutorial, we consider the multilayer perceptron (MLP). A MLP is a simple computational graph composed of \"hidden layers,\" which are defined by two modules: a **linear transformation** followed by a **non-linearity**. The result of a hidden layer is a vector called a **distributed representation** where each component is associated with a hidden unit.\n",
        "\n",
        "To solve our task, we will use a MLP with the following architecture:\n",
        "* the input dimension of the model is 12,\n",
        "* the output dimension of the model is 2,\n",
        "* the first dimension of the output is the probability of death and the second dimension is the probability of survival,\n",
        "* the number of hidden layers is 3, \n",
        "* the dimensions of the hidden layers are 20, 40, 20 respectively, \n",
        "* the activation function is a ReLu for all hidden layers."
      ]
    },
    {
      "cell_type": "markdown",
      "metadata": {
        "id": "701t0e-ravkr"
      },
      "source": [
        "## How to define a model in PyTorch?"
      ]
    },
    {
      "cell_type": "markdown",
      "metadata": {
        "id": "m4F5cyijavkv"
      },
      "source": [
        "The <a href=\"https://pytorch.org/docs/stable/nn.html\">PyTorch NN package</a> contains many useful classes for creating computation graphs.\n",
        "* The class <a href=\"https://pytorch.org/docs/master/generated/torch.nn.Module.html#torch.nn.Module\">torch.nn.Module</a>: \n",
        "any new module must inherit from this class or its descendants (subclasses).\n",
        "* The `forward` method:  any class defining a module must implement the `forward(...)` method, which defines the transformation of inputs to outputs.\n",
        "* The class <a href=\"https://pytorch.org/docs/master/generated/torch.nn.Linear.html#torch.nn.Linear\">`torch.nn.Linear(in_features, out_features)`</a>: this class implements a linear transformation. By default, it takes two parameters: \n",
        "    * `in_features`: the size of the data at the input of the module. \n",
        "    * `out_features`: the size of the data at the output of the module.\n",
        "\n",
        "* The module <a href=\"https://pytorch.org/docs/master/nn.functional.html#torch-nn-functional\">`torch.nn.functional`</a>: \n",
        "it defines a set of functions that can be applied directly to any tensor. As examples, we have:\n",
        "    * non-linear functions: `sigmoid(...)`, `tanh(...)`, `relu(...)`, ...\n",
        "    * loss functions: `mse_loss(...)`, `nll(...)`, `cross_entropy(...)`, ... \n",
        "    * regularization functions: `droupout(...)`, ..."
      ]
    },
    {
      "cell_type": "markdown",
      "metadata": {
        "id": "Tscha6S-KIBB"
      },
      "source": [
        "### Exercise 3\n",
        "\n",
        "Complete the following methods to define a neural network:\n",
        "* The `__init__` method that defines the layers.\n",
        "* The `forward(input)` method that returns the `output`."
      ]
    },
    {
      "cell_type": "code",
      "metadata": {
        "id": "xR5eBfIbavk0"
      },
      "source": [
        "class NeuralNet(nn.Module):\n",
        "    def __init__(self):\n",
        "      super(NeuralNet, self).__init__()\n",
        "      self.layer1 = nn.Linear(12, 24)\n",
        "      self.layer2 = nn.Linear(24, 48)\n",
        "      self.layer3 = nn.Linear(48, 32)\n",
        "      #self.layer4 = nn.Linear(64, 32)\n",
        "      self.output = nn.Linear(32, 2)\n",
        "\n",
        "    def forward(self, x):      \n",
        "      x = F.relu(self.layer1(x))\n",
        "      x = F.relu(self.layer2(x))\n",
        "      x = F.relu(self.layer3(x))\n",
        "      #x = F.relu(self.layer4(x))\n",
        "      out = torch.sigmoid(self.output(x))\n",
        "      return out"
      ],
      "execution_count": 122,
      "outputs": []
    },
    {
      "cell_type": "markdown",
      "metadata": {
        "id": "OvLnHRZ5avk2"
      },
      "source": [
        "## Making predictions with a neural network"
      ]
    },
    {
      "cell_type": "markdown",
      "metadata": {
        "id": "uEXgJMDDavk3"
      },
      "source": [
        "Now, we are ready to test our neural network on randomly selected data.\n",
        "\n",
        "In PyTorch, a model has two different modes:\n",
        "    <ul>\n",
        "    <li> <b>train</b>: used during training, </li>\n",
        "    <li> <b>eval</b>: used during inference for model evaluation. </li>\n",
        "    </ul>\n",
        "\n",
        "The distinction is important since some modules behave differently according to this mode.\n",
        "We will use the <b>eval</b> mode in this section."
      ]
    },
    {
      "cell_type": "markdown",
      "metadata": {
        "id": "IqtE_hr650pz"
      },
      "source": [
        "### Exercise 4\n",
        "Complete the missing code so that the model outputs a probability vector. "
      ]
    },
    {
      "cell_type": "code",
      "metadata": {
        "id": "gzcABMezavk6",
        "colab": {
          "base_uri": "https://localhost:8080/"
        },
        "outputId": "41ae3c9c-236f-4222-8b17-faec787a76ff"
      },
      "source": [
        "# Model definition\n",
        "neural_net = NeuralNet()\n",
        "neural_net = neural_net.to(device)\n",
        "\n",
        "# Evaluation mode activation\n",
        "neural_net = neural_net.eval()\n",
        "\n",
        "# Select the first 5 data points\n",
        "data, target = val_dataset[0:5]\n",
        "data = data.to(device)\n",
        "target = target.to(device)\n",
        "\n",
        "# Forward propagation of the data through the model\n",
        "output = neural_net(data)   # equivalent to neural_net.forward(data)\n",
        "\n",
        "# Convert the logits into probabilities with softmax function\n",
        "output_proba = F.softmax(output,dim=1)\n",
        "\n",
        "# Printing the probability\n",
        "print(output_proba)"
      ],
      "execution_count": 123,
      "outputs": [
        {
          "output_type": "stream",
          "text": [
            "tensor([[0.5284, 0.4716],\n",
            "        [0.5207, 0.4793],\n",
            "        [0.5293, 0.4707],\n",
            "        [0.5158, 0.4842],\n",
            "        [0.5477, 0.4523]], device='cuda:0', grad_fn=<SoftmaxBackward>)\n"
          ],
          "name": "stdout"
        }
      ]
    },
    {
      "cell_type": "markdown",
      "metadata": {
        "id": "fVep0BElavlS"
      },
      "source": [
        "The rows define the output of the network, in terms of probabilities over two classes: <b>deceased</b> (first column) or <b>survived</b> (second column), for each of the five input data points. Let us take the label with maximum probability as the predicted label and compare it to the correct label."
      ]
    },
    {
      "cell_type": "code",
      "metadata": {
        "id": "_jV4No36qjdU",
        "colab": {
          "base_uri": "https://localhost:8080/"
        },
        "outputId": "b02a0254-72e8-4229-8d81-23473f27eaca"
      },
      "source": [
        "# Printing predictions (class with the highest probability)\n",
        "_, prediction = torch.max(output_proba, dim=1)\n",
        "\n",
        "print('Model prediction')\n",
        "print(prediction)\n",
        "\n",
        "# Printing the real labels\n",
        "print(\"Actual data\")\n",
        "print(target)"
      ],
      "execution_count": 124,
      "outputs": [
        {
          "output_type": "stream",
          "text": [
            "Model prediction\n",
            "tensor([0, 0, 0, 0, 0], device='cuda:0')\n",
            "Actual data\n",
            "tensor([0, 0, 0, 0, 0], device='cuda:0')\n"
          ],
          "name": "stdout"
        }
      ]
    },
    {
      "cell_type": "markdown",
      "metadata": {
        "id": "SEIIjqOuqjdc"
      },
      "source": [
        "### Exercise 5\n",
        "\n",
        "1.   What would be a good way to measure the model performances?\n",
        "2.   How does our model perform?\n",
        "3.   Considering that the model is not trained on the dataset, do you see any problem with your selected measure?\n"
      ]
    },
    {
      "cell_type": "code",
      "metadata": {
        "id": "Fa66z1qqH9em",
        "cellView": "form"
      },
      "source": [
        "#@title Métriques\n",
        "import sklearn.metrics as metrics\n",
        "\n",
        "def accuracy(y_true, y_pred):\n",
        "  \"\"\"\n",
        "  Compute the accuracy score.\n",
        "  \n",
        "  Args:\n",
        "     y_true: ground truth labels.\n",
        "     y_pred: predicted labels by a classifier.\n",
        "     \n",
        "  Return:\n",
        "     Accuracy score.\n",
        "     \n",
        "  \"\"\"\n",
        "  return metrics.accuracy_score(y_true, y_pred)\n",
        "\n",
        "\n",
        "def f1_score(y_true, y_pred):\n",
        "  \"\"\"\n",
        "  Compute the F1 score.\n",
        "  \n",
        "  Args:\n",
        "     y_true: ground truth labels.\n",
        "     y_pred: predicted labels by a classifier.\n",
        "     \n",
        "  Return:\n",
        "     F1 score.\n",
        "     \n",
        "  \"\"\"\n",
        "  return metrics.f1_score(y_true, y_pred, average='macro')"
      ],
      "execution_count": 125,
      "outputs": []
    },
    {
      "cell_type": "code",
      "metadata": {
        "colab": {
          "base_uri": "https://localhost:8080/"
        },
        "id": "reJFVgMHABD7",
        "outputId": "d015b7cc-4a4f-482b-d259-61d525991eb1"
      },
      "source": [
        "# calcul F1 score\n",
        "F1_score = f1_score(target.cpu().numpy(), prediction.cpu().numpy())\n",
        "print(f'F1 score is {F1_score:.2%}'.format(F1_score))"
      ],
      "execution_count": 126,
      "outputs": [
        {
          "output_type": "stream",
          "text": [
            "F1 score is 100.00%\n"
          ],
          "name": "stdout"
        }
      ]
    },
    {
      "cell_type": "markdown",
      "metadata": {
        "id": "0uySA2TCavmD"
      },
      "source": [
        "## Define the loss function and optimizer"
      ]
    },
    {
      "cell_type": "markdown",
      "metadata": {
        "id": "EkoobCLMavmE"
      },
      "source": [
        "### Loss function"
      ]
    },
    {
      "cell_type": "markdown",
      "metadata": {
        "id": "qkX7uSXQavmF"
      },
      "source": [
        "We define the loss function according to the task we want to achieve.\n",
        "\n",
        "PyTorch offers <a href=\"https://pytorch.org/docs/stable/nn.html#loss-functions\">many ready-to-use loss functions</a>.\n",
        "\n",
        "For classification problems, the usual loss function is <b>cross-entropy</b>, and this is the one we will use in this tutorial. In PyTorch, it is defined by the function <a href=\"https://pytorch.org/docs/master/nn.functional.html#cross-entropy\">`torch.nn.functional.cross_entropy`</a>.  Cross entropy allows comparing a $p$ distribution with a reference distribution $t$. It attains its minimum when $t=p$. Its formula for calculating it between the prediction and the target is: $-\\sum_j t_{ij} \\log(p_{ij})$ where $p$ is the prediction, $t$ the target, $i$ the example and $j$ the classe of the target."
      ]
    },
    {
      "cell_type": "code",
      "metadata": {
        "id": "FHnfYeS5avmF"
      },
      "source": [
        "def loss_function(prediction, target):\n",
        "    loss = F.cross_entropy(prediction, target)\n",
        "    return loss"
      ],
      "execution_count": 127,
      "outputs": []
    },
    {
      "cell_type": "markdown",
      "metadata": {
        "id": "Vsx_cv9Wqjdj"
      },
      "source": [
        "### Backpropagation"
      ]
    },
    {
      "cell_type": "markdown",
      "metadata": {
        "id": "0hcZaIKtavmH"
      },
      "source": [
        "In Pytorch, thanks to the automatic differentiation mechanism <a href=\"http://pytorch.org/docs/master/notes/autograd.html\">Autograd</a>, it is possible to automatically calculate the gradient of the loss function and backpropagate it through the computational graph.\n",
        "\n",
        "To do this, we only have to call the method `backward()` on the variable returned by the loss function, e.g., with\n",
        "\n",
        "```python\n",
        "loss = loss_function(....)\n",
        "loss.backward()\n",
        "```"
      ]
    },
    {
      "cell_type": "markdown",
      "metadata": {
        "id": "8YNo_ymYavmH"
      },
      "source": [
        "### Optimization"
      ]
    },
    {
      "cell_type": "markdown",
      "metadata": {
        "id": "Y4AlX9TwavmH"
      },
      "source": [
        "PyTorch provides a <a href=\"http://pytorch.org/docs/master/optim.html#algorithms\">set of optimization methods (`torch.optim`)</a> commonly used by the deep learning community. These methods include the following: \n",
        "* <b>SGD</b> (Stochastic Gradient Descent) <a href=\"http://pytorch.org/docs/master/optim.html#torch.optim.SGD\">`torch.optim.SGD(net.parameters(), lr=learning_rate)`</a>\n",
        "* <b>Adam</b> (Adaptive Moment Estimation): a variant of the gradient descent method in which the learning rate is adjusted for each parameter by estimating the first and second moments of the gradients. This optimizer has demonstrated excellent performance compared to SGD on many benchmarks.\n",
        "\n",
        "To be able to use an optimizer in PyTorch, we must instantiate it by passing the following elements:\n",
        "* <b>The parameters of the model</b>: these are obtained using the method `parameters()` on the instantiated model.\n",
        "* <b>The learning rate (lr)</b>: this is the learning rate to be used to update parameters during the optimization process. \n",
        "* There may be other parameters specific to the chosen optimizer.\n",
        "\n",
        "PyTorch offers a simplified interface to interact with any optimizer:\n",
        "* `zero_grad()`: Allows to reinitialize the gradients to zero at the beginning of an optimization step.\n",
        "* `step()`: Allows to perform an optimization step after a gradient backpropagation step."
      ]
    },
    {
      "cell_type": "markdown",
      "metadata": {
        "id": "fZ-lKExqavmI"
      },
      "source": [
        "We will use Adam with a lr of 0.001."
      ]
    },
    {
      "cell_type": "code",
      "metadata": {
        "id": "WDMOziJTavmI"
      },
      "source": [
        "optimizer = optim.Adam(neural_net.parameters(), lr=0.001) "
      ],
      "execution_count": 128,
      "outputs": []
    },
    {
      "cell_type": "markdown",
      "metadata": {
        "id": "OnFOAfdGqjdr"
      },
      "source": [
        "# How to train and evaluate a model?\n",
        "First, we need some definitions:\n",
        "<ol>\n",
        "<li>\n",
        "<b>Epoch</b>: a complete pass over the entire training dataset.\n",
        "</li>\n",
        "<li>\n",
        "<b>Iteration</b>: an update of the model parameters. Many iterations can occur before the end of an epoch.\n",
        "</li>\n",
        "<li>\n",
        "<b>Mini-batch</b>: A subset of training data used to estimate the average of gradients. In other words, at each iteration, a mini-batch is used. \n",
        "</li>\n",
        "</ol>"
      ]
    },
    {
      "cell_type": "markdown",
      "metadata": {
        "id": "LLXjNiDTavmK"
      },
      "source": [
        "## Creating the mini-batches\n",
        "PyTorch offers a utility called <b><a href=\"http://pytorch.org/docs/master/data.html\"> `torch.utils.data.DataLoader`</a></b> to load any dataset and automatically split it into mini-batches. During training, the data presented to the network should appear in a different order from one epoch to another. We will prepare the `DataLoader` for our three datasets (training, validation, and test)."
      ]
    },
    {
      "cell_type": "code",
      "metadata": {
        "id": "RGoQZSdqavmM"
      },
      "source": [
        "train_batch_size = 32  # number of data in a training batch.\n",
        "eval_batch_size = 32   # number of data in an batch.\n",
        "\n",
        "\n",
        "train_loader = torch.utils.data.DataLoader(train_dataset, batch_size=train_batch_size, shuffle=True)\n",
        "\n",
        "val_loader   = torch.utils.data.DataLoader(val_dataset, batch_size=eval_batch_size, shuffle=False)\n",
        "test_loader  = torch.utils.data.DataLoader(test_dataset, batch_size=eval_batch_size, shuffle=False)"
      ],
      "execution_count": 129,
      "outputs": []
    },
    {
      "cell_type": "code",
      "metadata": {
        "colab": {
          "base_uri": "https://localhost:8080/"
        },
        "id": "o4ecBllSdsQ_",
        "outputId": "272b9769-e3f6-4184-d07d-3b45034cce97"
      },
      "source": [
        "train_loader_iter = iter(train_loader)\n",
        "\n",
        "for i in range(len(train_loader)):\n",
        "  t = next(train_loader_iter)\n",
        "  print(len(t[0])) "
      ],
      "execution_count": 130,
      "outputs": [
        {
          "output_type": "stream",
          "text": [
            "32\n",
            "32\n",
            "32\n",
            "32\n",
            "32\n",
            "32\n",
            "32\n",
            "32\n",
            "32\n",
            "32\n",
            "32\n",
            "32\n",
            "32\n",
            "32\n",
            "32\n",
            "32\n",
            "32\n",
            "32\n",
            "32\n",
            "17\n"
          ],
          "name": "stdout"
        }
      ]
    },
    {
      "cell_type": "markdown",
      "metadata": {
        "id": "Ia3ai-GvavmP"
      },
      "source": [
        "## Simple training loop"
      ]
    },
    {
      "cell_type": "markdown",
      "metadata": {
        "id": "v9wNZrTnavmQ"
      },
      "source": [
        "Here we define our training procedure for an epoch."
      ]
    },
    {
      "cell_type": "code",
      "metadata": {
        "id": "ZyK9xCsZavmR"
      },
      "source": [
        "def train(epoch, model, train_loader, optimizer, device):\n",
        "    \n",
        "    # activate the training mode\n",
        "    model.train()\n",
        "    \n",
        "    torch.set_grad_enabled(True)\n",
        "    \n",
        "    total_loss = 0\n",
        "    correct = 0\n",
        "    \n",
        "    # iteration over the mini-batches\n",
        "    for batch_idx, (data, target) in enumerate(train_loader):\n",
        "        \n",
        "        # transfer the data on the chosen device\n",
        "        data, target = data.to(device), target.to(device)\n",
        "        \n",
        "        # reinitialize the gradients to zero\n",
        "        optimizer.zero_grad()\n",
        "        \n",
        "        # forward propagation on the data\n",
        "        prediction = model(data)\n",
        "        \n",
        "        # compute the loss function w.r.t. the targets\n",
        "        loss = loss_function(prediction, target)\n",
        "        \n",
        "        # execute the backpropagation\n",
        "        loss.backward()\n",
        "        \n",
        "        # execute an optimization step\n",
        "        optimizer.step()\n",
        "        \n",
        "        # accumulate the loss\n",
        "        total_loss += loss.item()*len(data)\n",
        "        \n",
        "        # compute the number of correct predictions\n",
        "        _, pred_classes = torch.max(prediction, dim=1)        \n",
        "        correct += pred_classes.eq(target.view_as(pred_classes)).sum().item()\n",
        "         \n",
        "        \n",
        "    # compute the average loss per epoch\n",
        "    mean_loss = total_loss/len(train_loader.dataset)\n",
        "    \n",
        "    # compute the accuracy\n",
        "    acc = correct / len(train_loader.dataset)\n",
        "        \n",
        "    print('Train Epoch: {}   Avg_Loss: {:.5f}   Acc: {}/{} ({:.3f}%)'.format(\n",
        "        epoch, mean_loss, correct, len(train_loader.dataset),\n",
        "        100. * acc))   \n",
        "    \n",
        "    # return the average loss and the accuracy\n",
        "    return mean_loss, acc"
      ],
      "execution_count": 131,
      "outputs": []
    },
    {
      "cell_type": "markdown",
      "metadata": {
        "id": "vGexbWaHavmU"
      },
      "source": [
        "## Evaluation procedure\n",
        "Here we define our model evaluation procedure.\n",
        "<br/>\n",
        "In addition to switching the model to **eval** mode, it is essential to disable the gradient calculation. \n",
        "<br/>\n",
        "To do this, PyTorch offers a set of context managers to <a href=\"https://pytorch.org/docs/0.4.0/torch.html#locally-disabling-gradient-computation\">locally disable/enable gradient calculation </a>:\n",
        "1. `torch.no_grad()`: disable gradient calculation.\n",
        "2. `torch.enable_grad()`: enable gradient calculation.\n",
        "3. `torch.set_grad_enabled(bool)`: enable/disable gradient calculation.\n",
        "\n"
      ]
    },
    {
      "cell_type": "code",
      "metadata": {
        "id": "8gQj9W5LavmU"
      },
      "source": [
        "def evaluate(model, eval_loader, device):\n",
        "    \n",
        "    # activate the evaluation mode\n",
        "    model.eval()\n",
        "    \n",
        "    total_loss = 0\n",
        "    correct = 0\n",
        "    \n",
        "    with torch.no_grad():\n",
        "    \n",
        "        # iterate over the batches\n",
        "        for batch_idx, (data, target) in enumerate(eval_loader):\n",
        "\n",
        "            # transfer the data on the chosen device\n",
        "            data, target = data.to(device), target.to(device)\n",
        "\n",
        "            # forward propagation on the data\n",
        "            prediction = model(data)\n",
        "\n",
        "            # compute the loss function w.r.t. the targets\n",
        "            loss = loss_function(prediction, target)           \n",
        "\n",
        "\n",
        "            # accumulate the loss\n",
        "            total_loss += loss.item()*len(data)\n",
        "\n",
        "            # compute the number of correct predictions en sortie)\n",
        "            _, pred_classes = torch.max(prediction, dim=1) \n",
        "            correct += pred_classes.eq(target.view_as(pred_classes)).sum().item()         \n",
        "          \n",
        "    \n",
        "    # compute the average loss per epoch\n",
        "    mean_loss = total_loss/len(eval_loader.dataset)\n",
        "    \n",
        "    # compute the accuracy\n",
        "    acc = correct / len(eval_loader.dataset)\n",
        "        \n",
        "    print('Eval:  Avg_Loss: {:.5f}   Acc: {}/{} ({:.3f}%)'.format(\n",
        "        mean_loss, correct, len(eval_loader.dataset),\n",
        "        100. * acc)) \n",
        "    \n",
        "    # return the average loss and the accuracy\n",
        "    return mean_loss, acc"
      ],
      "execution_count": 132,
      "outputs": []
    },
    {
      "cell_type": "markdown",
      "metadata": {
        "id": "lQLklQXAavmW"
      },
      "source": [
        "## Checkpointing\n",
        "\n",
        "During training, we recommend saving the model parameters periodically. By doing so, we avoid having to retrain the model from scratch if the experiment goes wrong such as losing communication with GPU, out-of-memory error, numerical errors, incorrect learning rates making the experiment unstable, etc. This practice is commonly referred to as <b>checkpointing</b>.\n",
        "\n",
        "PyTorch offers <a href=\"http://pytorch.org/docs/master/notes/serialization.html\">a simple mechanism</a> to perform this operation.\n",
        "\n",
        "We implement two methods here:\n",
        "<ul>\n",
        "<li> the first one for <b> saving </b> a model,</li>\n",
        "<li> the second for <b> loading </b> a model checkpoint. </li>\n",
        "</ul>"
      ]
    },
    {
      "cell_type": "code",
      "metadata": {
        "id": "dMmNpma2avmX"
      },
      "source": [
        "def save_model(epoch, model, path='./'):\n",
        "    \n",
        "    # creating the file name indexed by the epoch value\n",
        "    filename = path + 'neural_network_{}.pt'.format(epoch)\n",
        "    \n",
        "    # saving the model parameters\n",
        "    torch.save(model.state_dict(), filename)\n",
        "    \n",
        "    return model\n",
        "    "
      ],
      "execution_count": 133,
      "outputs": []
    },
    {
      "cell_type": "code",
      "metadata": {
        "id": "2ZptgqQRavmZ"
      },
      "source": [
        "def load_model(epoch, model, path='./'):\n",
        "    \n",
        "    # creating the file name indexed by the epoch value\n",
        "    filename = path + 'neural_network_{}.pt'.format(epoch)\n",
        "    \n",
        "    # loading the parameters of the saved model\n",
        "    model.load_state_dict(torch.load(filename))\n",
        "    \n",
        "    return model"
      ],
      "execution_count": 134,
      "outputs": []
    },
    {
      "cell_type": "markdown",
      "metadata": {
        "id": "ve8sOocWavma"
      },
      "source": [
        "It is also possible to save the optimizer's status in PyTorch, which is very important when we want to resume training the model from a given backup. For more information, please consult <a href='https://discuss.pytorch.org/t/saving-and-loading-a-model-in-pytorch/2610/3'>the following URL</a>."
      ]
    },
    {
      "cell_type": "markdown",
      "metadata": {
        "id": "8lcAP8-1avma"
      },
      "source": [
        "## Putting everything together"
      ]
    },
    {
      "cell_type": "code",
      "metadata": {
        "id": "keMpyePsavmb",
        "colab": {
          "base_uri": "https://localhost:8080/"
        },
        "outputId": "327ee7b8-d10e-4179-e6d9-d9100413d541"
      },
      "source": [
        "torch.manual_seed(seed)\n",
        "torch.cuda.manual_seed(seed)\n",
        "np.random.seed(seed)\n",
        "\n",
        "# maximum number of epoch\n",
        "numEpochs = 200\n",
        "\n",
        "# Saving frequency\n",
        "checkpoint_freq = 10\n",
        "\n",
        "# Directory for data backup\n",
        "path = './'\n",
        "\n",
        "# Accumulators of average losses obtained per epoch\n",
        "train_losses = []\n",
        "val_losses = []\n",
        "\n",
        "# Performance accumulators per epoch\n",
        "train_accuracies = []\n",
        "val_accuracies = []\n",
        "\n",
        "# Grad and param accumulator\n",
        "train_grads = []\n",
        "train_params = []\n",
        "\n",
        "# Model definition\n",
        "neural_net = NeuralNet()\n",
        "\n",
        "# Load the model on the chosen device\n",
        "neural_net = neural_net.to(device)\n",
        "\n",
        "# Optimizer definition\n",
        "optimizer = optim.Adam(neural_net.parameters(), lr=0.001) \n",
        "#optimizer = optim.SGD(neural_net.parameters(), lr=0.001) \n",
        "\n",
        "\n",
        "# Learning loop\n",
        "for epoch in range(1, numEpochs + 1):\n",
        "    \n",
        "    # train the model with the train dataset\n",
        "    train_loss, train_acc = train(epoch, neural_net, train_loader, optimizer, device)   \n",
        "\n",
        "    # voir la descente du gradient\n",
        "    last_param = list(neural_net.parameters(recurse=True))[-1]\n",
        "    print('Grad: [{:.5f},{:.5f}] Param: [{:.5f},{:.5f}]'.format(last_param.grad.tolist()[0],\n",
        "                                                                last_param.grad.tolist()[1],\n",
        "                                                                last_param.data.tolist()[0],\n",
        "                                                                last_param.data.tolist()[1]))\n",
        "    train_grads.append(last_param.grad.tolist())\n",
        "    train_params.append(last_param.data.tolist())\n",
        "\n",
        "\n",
        "    # evaluate the model with the validation dataset\n",
        "    val_loss, val_acc = evaluate(neural_net, val_loader, device)       \n",
        "    \n",
        "    # Save the losses obtained\n",
        "    train_losses.append(train_loss)    \n",
        "    val_losses.append(val_loss)\n",
        "    \n",
        "    # Save the performances\n",
        "    train_accuracies.append(train_acc)    \n",
        "    val_accuracies.append(val_acc)\n",
        "    \n",
        "    # Checkpoint\n",
        "    if epoch % checkpoint_freq ==0:\n",
        "        save_model(epoch, neural_net, path)\n",
        "\n",
        "# Save the model at the end of the training\n",
        "save_model(numEpochs, neural_net, path)\n",
        "    \n",
        "print(\"\\n\\n\\nOptimization ended.\\n\")    \n"
      ],
      "execution_count": 147,
      "outputs": [
        {
          "output_type": "stream",
          "text": [
            "Train Epoch: 1   Avg_Loss: 0.68851   Acc: 335/625 (53.600%)\n",
            "Grad: [-0.00140,0.00483] Param: [-0.04079,-0.00775]\n",
            "Eval:  Avg_Loss: 0.65872   Acc: 142/209 (67.943%)\n",
            "Train Epoch: 2   Avg_Loss: 0.64055   Acc: 414/625 (66.240%)\n",
            "Grad: [-0.02641,0.03338] Param: [-0.03242,-0.01731]\n",
            "Eval:  Avg_Loss: 0.63610   Acc: 138/209 (66.029%)\n",
            "Train Epoch: 3   Avg_Loss: 0.62181   Acc: 417/625 (66.720%)\n",
            "Grad: [-0.01154,0.01496] Param: [-0.03134,-0.01957]\n",
            "Eval:  Avg_Loss: 0.62639   Acc: 143/209 (68.421%)\n",
            "Train Epoch: 4   Avg_Loss: 0.61577   Acc: 424/625 (67.840%)\n",
            "Grad: [-0.01805,0.01860] Param: [-0.03220,-0.01972]\n",
            "Eval:  Avg_Loss: 0.61903   Acc: 145/209 (69.378%)\n",
            "Train Epoch: 5   Avg_Loss: 0.61218   Acc: 424/625 (67.840%)\n",
            "Grad: [0.00334,-0.00412] Param: [-0.03285,-0.01947]\n",
            "Eval:  Avg_Loss: 0.61770   Acc: 145/209 (69.378%)\n",
            "Train Epoch: 6   Avg_Loss: 0.61179   Acc: 424/625 (67.840%)\n",
            "Grad: [0.00572,-0.00681] Param: [-0.03402,-0.01871]\n",
            "Eval:  Avg_Loss: 0.61675   Acc: 145/209 (69.378%)\n",
            "Train Epoch: 7   Avg_Loss: 0.60969   Acc: 426/625 (68.160%)\n",
            "Grad: [-0.00761,0.00788] Param: [-0.03517,-0.01800]\n",
            "Eval:  Avg_Loss: 0.61748   Acc: 146/209 (69.856%)\n",
            "Train Epoch: 8   Avg_Loss: 0.60837   Acc: 425/625 (68.000%)\n",
            "Grad: [0.01310,-0.01446] Param: [-0.03682,-0.01668]\n",
            "Eval:  Avg_Loss: 0.61658   Acc: 145/209 (69.378%)\n",
            "Train Epoch: 9   Avg_Loss: 0.60676   Acc: 423/625 (67.680%)\n",
            "Grad: [0.00837,-0.00594] Param: [-0.03911,-0.01490]\n",
            "Eval:  Avg_Loss: 0.61679   Acc: 144/209 (68.900%)\n",
            "Train Epoch: 10   Avg_Loss: 0.60490   Acc: 425/625 (68.000%)\n",
            "Grad: [-0.03849,0.03906] Param: [-0.04006,-0.01462]\n",
            "Eval:  Avg_Loss: 0.61488   Acc: 145/209 (69.378%)\n",
            "Train Epoch: 11   Avg_Loss: 0.60346   Acc: 426/625 (68.160%)\n",
            "Grad: [-0.00175,0.00031] Param: [-0.04163,-0.01360]\n",
            "Eval:  Avg_Loss: 0.61419   Acc: 145/209 (69.378%)\n",
            "Train Epoch: 12   Avg_Loss: 0.60094   Acc: 426/625 (68.160%)\n",
            "Grad: [0.00418,-0.00505] Param: [-0.04416,-0.01144]\n",
            "Eval:  Avg_Loss: 0.61191   Acc: 142/209 (67.943%)\n",
            "Train Epoch: 13   Avg_Loss: 0.59872   Acc: 426/625 (68.160%)\n",
            "Grad: [0.01391,-0.01071] Param: [-0.04670,-0.00940]\n",
            "Eval:  Avg_Loss: 0.61015   Acc: 144/209 (68.900%)\n",
            "Train Epoch: 14   Avg_Loss: 0.59522   Acc: 437/625 (69.920%)\n",
            "Grad: [-0.00386,0.00642] Param: [-0.04961,-0.00725]\n",
            "Eval:  Avg_Loss: 0.60726   Acc: 148/209 (70.813%)\n",
            "Train Epoch: 15   Avg_Loss: 0.59412   Acc: 439/625 (70.240%)\n",
            "Grad: [0.03631,-0.03675] Param: [-0.05048,-0.00668]\n",
            "Eval:  Avg_Loss: 0.60523   Acc: 149/209 (71.292%)\n",
            "Train Epoch: 16   Avg_Loss: 0.58781   Acc: 454/625 (72.640%)\n",
            "Grad: [-0.00481,0.00524] Param: [-0.05352,-0.00340]\n",
            "Eval:  Avg_Loss: 0.59796   Acc: 147/209 (70.335%)\n",
            "Train Epoch: 17   Avg_Loss: 0.58329   Acc: 445/625 (71.200%)\n",
            "Grad: [0.00381,-0.00459] Param: [-0.05468,-0.00208]\n",
            "Eval:  Avg_Loss: 0.59704   Acc: 146/209 (69.856%)\n",
            "Train Epoch: 18   Avg_Loss: 0.57274   Acc: 466/625 (74.560%)\n",
            "Grad: [-0.02235,0.02234] Param: [-0.05910,0.00376]\n",
            "Eval:  Avg_Loss: 0.58971   Acc: 143/209 (68.421%)\n",
            "Train Epoch: 19   Avg_Loss: 0.57834   Acc: 453/625 (72.480%)\n",
            "Grad: [0.01865,-0.01323] Param: [-0.05781,0.00297]\n",
            "Eval:  Avg_Loss: 0.59211   Acc: 146/209 (69.856%)\n",
            "Train Epoch: 20   Avg_Loss: 0.56061   Acc: 464/625 (74.240%)\n",
            "Grad: [-0.00932,0.01377] Param: [-0.06166,0.00687]\n",
            "Eval:  Avg_Loss: 0.57294   Acc: 151/209 (72.249%)\n",
            "Train Epoch: 21   Avg_Loss: 0.54821   Acc: 472/625 (75.520%)\n",
            "Grad: [-0.01700,0.01806] Param: [-0.06450,0.01032]\n",
            "Eval:  Avg_Loss: 0.56952   Acc: 152/209 (72.727%)\n",
            "Train Epoch: 22   Avg_Loss: 0.54194   Acc: 477/625 (76.320%)\n",
            "Grad: [0.00326,-0.00529] Param: [-0.06784,0.01410]\n",
            "Eval:  Avg_Loss: 0.58789   Acc: 149/209 (71.292%)\n",
            "Train Epoch: 23   Avg_Loss: 0.53630   Acc: 490/625 (78.400%)\n",
            "Grad: [0.01166,-0.01120] Param: [-0.07315,0.01963]\n",
            "Eval:  Avg_Loss: 0.55321   Acc: 155/209 (74.163%)\n",
            "Train Epoch: 24   Avg_Loss: 0.53132   Acc: 488/625 (78.080%)\n",
            "Grad: [-0.01601,0.01800] Param: [-0.07547,0.02123]\n",
            "Eval:  Avg_Loss: 0.56933   Acc: 154/209 (73.684%)\n",
            "Train Epoch: 25   Avg_Loss: 0.52017   Acc: 492/625 (78.720%)\n",
            "Grad: [-0.00767,0.01215] Param: [-0.07989,0.02525]\n",
            "Eval:  Avg_Loss: 0.55183   Acc: 159/209 (76.077%)\n",
            "Train Epoch: 26   Avg_Loss: 0.52442   Acc: 491/625 (78.560%)\n",
            "Grad: [-0.01626,0.01731] Param: [-0.08299,0.02709]\n",
            "Eval:  Avg_Loss: 0.54961   Acc: 158/209 (75.598%)\n",
            "Train Epoch: 27   Avg_Loss: 0.51780   Acc: 493/625 (78.880%)\n",
            "Grad: [-0.00036,0.00396] Param: [-0.08525,0.02866]\n",
            "Eval:  Avg_Loss: 0.54793   Acc: 161/209 (77.033%)\n",
            "Train Epoch: 28   Avg_Loss: 0.50917   Acc: 505/625 (80.800%)\n",
            "Grad: [0.00938,-0.01027] Param: [-0.08821,0.03042]\n",
            "Eval:  Avg_Loss: 0.54614   Acc: 158/209 (75.598%)\n",
            "Train Epoch: 29   Avg_Loss: 0.51013   Acc: 501/625 (80.160%)\n",
            "Grad: [-0.02288,0.02195] Param: [-0.09055,0.03223]\n",
            "Eval:  Avg_Loss: 0.54276   Acc: 158/209 (75.598%)\n",
            "Train Epoch: 30   Avg_Loss: 0.51495   Acc: 490/625 (78.400%)\n",
            "Grad: [-0.01983,0.01786] Param: [-0.09156,0.03337]\n",
            "Eval:  Avg_Loss: 0.54873   Acc: 157/209 (75.120%)\n",
            "Train Epoch: 31   Avg_Loss: 0.51186   Acc: 495/625 (79.200%)\n",
            "Grad: [0.01006,-0.00989] Param: [-0.09095,0.03297]\n",
            "Eval:  Avg_Loss: 0.53994   Acc: 162/209 (77.512%)\n",
            "Train Epoch: 32   Avg_Loss: 0.51092   Acc: 500/625 (80.000%)\n",
            "Grad: [-0.00682,0.00717] Param: [-0.09267,0.03501]\n",
            "Eval:  Avg_Loss: 0.53676   Acc: 161/209 (77.033%)\n",
            "Train Epoch: 33   Avg_Loss: 0.50470   Acc: 499/625 (79.840%)\n",
            "Grad: [0.00254,-0.00449] Param: [-0.09295,0.03558]\n",
            "Eval:  Avg_Loss: 0.54594   Acc: 158/209 (75.598%)\n",
            "Train Epoch: 34   Avg_Loss: 0.50527   Acc: 504/625 (80.640%)\n",
            "Grad: [0.00867,-0.00692] Param: [-0.09400,0.03612]\n",
            "Eval:  Avg_Loss: 0.54186   Acc: 162/209 (77.512%)\n",
            "Train Epoch: 35   Avg_Loss: 0.50962   Acc: 497/625 (79.520%)\n",
            "Grad: [-0.00813,0.00722] Param: [-0.09489,0.03644]\n",
            "Eval:  Avg_Loss: 0.53671   Acc: 161/209 (77.033%)\n",
            "Train Epoch: 36   Avg_Loss: 0.50404   Acc: 503/625 (80.480%)\n",
            "Grad: [0.00173,-0.00235] Param: [-0.09666,0.03826]\n",
            "Eval:  Avg_Loss: 0.53429   Acc: 162/209 (77.512%)\n",
            "Train Epoch: 37   Avg_Loss: 0.49973   Acc: 510/625 (81.600%)\n",
            "Grad: [0.00677,-0.00599] Param: [-0.09837,0.03993]\n",
            "Eval:  Avg_Loss: 0.53425   Acc: 162/209 (77.512%)\n",
            "Train Epoch: 38   Avg_Loss: 0.49758   Acc: 504/625 (80.640%)\n",
            "Grad: [0.01386,-0.01565] Param: [-0.09971,0.04120]\n",
            "Eval:  Avg_Loss: 0.53557   Acc: 163/209 (77.990%)\n",
            "Train Epoch: 39   Avg_Loss: 0.50026   Acc: 506/625 (80.960%)\n",
            "Grad: [0.01464,-0.01599] Param: [-0.10097,0.04243]\n",
            "Eval:  Avg_Loss: 0.53559   Acc: 160/209 (76.555%)\n",
            "Train Epoch: 40   Avg_Loss: 0.49808   Acc: 502/625 (80.320%)\n",
            "Grad: [0.01723,-0.01731] Param: [-0.10234,0.04344]\n",
            "Eval:  Avg_Loss: 0.53028   Acc: 162/209 (77.512%)\n",
            "Train Epoch: 41   Avg_Loss: 0.49772   Acc: 506/625 (80.960%)\n",
            "Grad: [0.01067,-0.01139] Param: [-0.10283,0.04386]\n",
            "Eval:  Avg_Loss: 0.53108   Acc: 162/209 (77.512%)\n",
            "Train Epoch: 42   Avg_Loss: 0.49465   Acc: 510/625 (81.600%)\n",
            "Grad: [0.00650,-0.01048] Param: [-0.10557,0.04661]\n",
            "Eval:  Avg_Loss: 0.53079   Acc: 161/209 (77.033%)\n",
            "Train Epoch: 43   Avg_Loss: 0.50256   Acc: 501/625 (80.160%)\n",
            "Grad: [-0.00083,-0.00166] Param: [-0.10633,0.04729]\n",
            "Eval:  Avg_Loss: 0.53214   Acc: 160/209 (76.555%)\n",
            "Train Epoch: 44   Avg_Loss: 0.49547   Acc: 510/625 (81.600%)\n",
            "Grad: [0.00463,-0.00321] Param: [-0.10805,0.04917]\n",
            "Eval:  Avg_Loss: 0.53693   Acc: 160/209 (76.555%)\n",
            "Train Epoch: 45   Avg_Loss: 0.49459   Acc: 507/625 (81.120%)\n",
            "Grad: [-0.00204,-0.00077] Param: [-0.10923,0.05018]\n",
            "Eval:  Avg_Loss: 0.53203   Acc: 160/209 (76.555%)\n",
            "Train Epoch: 46   Avg_Loss: 0.49936   Acc: 496/625 (79.360%)\n",
            "Grad: [-0.01118,0.01360] Param: [-0.11060,0.05249]\n",
            "Eval:  Avg_Loss: 0.53133   Acc: 161/209 (77.033%)\n",
            "Train Epoch: 47   Avg_Loss: 0.49517   Acc: 507/625 (81.120%)\n",
            "Grad: [-0.01159,0.01191] Param: [-0.11240,0.05401]\n",
            "Eval:  Avg_Loss: 0.52843   Acc: 161/209 (77.033%)\n",
            "Train Epoch: 48   Avg_Loss: 0.49383   Acc: 512/625 (81.920%)\n",
            "Grad: [-0.00461,0.00276] Param: [-0.11407,0.05504]\n",
            "Eval:  Avg_Loss: 0.52470   Acc: 162/209 (77.512%)\n",
            "Train Epoch: 49   Avg_Loss: 0.49445   Acc: 509/625 (81.440%)\n",
            "Grad: [-0.00588,0.00462] Param: [-0.11499,0.05591]\n",
            "Eval:  Avg_Loss: 0.52577   Acc: 161/209 (77.033%)\n",
            "Train Epoch: 50   Avg_Loss: 0.49220   Acc: 514/625 (82.240%)\n",
            "Grad: [-0.00261,0.00289] Param: [-0.11696,0.05766]\n",
            "Eval:  Avg_Loss: 0.53093   Acc: 160/209 (76.555%)\n",
            "Train Epoch: 51   Avg_Loss: 0.48976   Acc: 512/625 (81.920%)\n",
            "Grad: [0.00159,-0.00213] Param: [-0.11850,0.05855]\n",
            "Eval:  Avg_Loss: 0.52326   Acc: 162/209 (77.512%)\n",
            "Train Epoch: 52   Avg_Loss: 0.49266   Acc: 509/625 (81.440%)\n",
            "Grad: [-0.00618,0.00988] Param: [-0.11959,0.05967]\n",
            "Eval:  Avg_Loss: 0.52360   Acc: 161/209 (77.033%)\n",
            "Train Epoch: 53   Avg_Loss: 0.49698   Acc: 502/625 (80.320%)\n",
            "Grad: [-0.00945,0.01031] Param: [-0.12087,0.06100]\n",
            "Eval:  Avg_Loss: 0.52369   Acc: 163/209 (77.990%)\n",
            "Train Epoch: 54   Avg_Loss: 0.49017   Acc: 514/625 (82.240%)\n",
            "Grad: [-0.00437,0.00236] Param: [-0.12203,0.06212]\n",
            "Eval:  Avg_Loss: 0.53007   Acc: 161/209 (77.033%)\n",
            "Train Epoch: 55   Avg_Loss: 0.49241   Acc: 509/625 (81.440%)\n",
            "Grad: [-0.00355,0.00356] Param: [-0.12161,0.06122]\n",
            "Eval:  Avg_Loss: 0.52238   Acc: 162/209 (77.512%)\n",
            "Train Epoch: 56   Avg_Loss: 0.49065   Acc: 512/625 (81.920%)\n",
            "Grad: [-0.02504,0.02308] Param: [-0.12414,0.06360]\n",
            "Eval:  Avg_Loss: 0.53519   Acc: 160/209 (76.555%)\n",
            "Train Epoch: 57   Avg_Loss: 0.49163   Acc: 506/625 (80.960%)\n",
            "Grad: [-0.00292,0.00591] Param: [-0.12405,0.06346]\n",
            "Eval:  Avg_Loss: 0.52331   Acc: 162/209 (77.512%)\n",
            "Train Epoch: 58   Avg_Loss: 0.48843   Acc: 513/625 (82.080%)\n",
            "Grad: [-0.00302,0.00155] Param: [-0.12546,0.06486]\n",
            "Eval:  Avg_Loss: 0.52186   Acc: 162/209 (77.512%)\n",
            "Train Epoch: 59   Avg_Loss: 0.48786   Acc: 516/625 (82.560%)\n",
            "Grad: [0.00118,-0.00139] Param: [-0.12695,0.06612]\n",
            "Eval:  Avg_Loss: 0.51954   Acc: 162/209 (77.512%)\n",
            "Train Epoch: 60   Avg_Loss: 0.48984   Acc: 512/625 (81.920%)\n",
            "Grad: [-0.00103,0.00201] Param: [-0.12812,0.06718]\n",
            "Eval:  Avg_Loss: 0.52042   Acc: 164/209 (78.469%)\n",
            "Train Epoch: 61   Avg_Loss: 0.48640   Acc: 517/625 (82.720%)\n",
            "Grad: [0.00960,-0.00940] Param: [-0.13108,0.07040]\n",
            "Eval:  Avg_Loss: 0.52648   Acc: 162/209 (77.512%)\n",
            "Train Epoch: 62   Avg_Loss: 0.48563   Acc: 517/625 (82.720%)\n",
            "Grad: [-0.00475,0.00420] Param: [-0.13192,0.07111]\n",
            "Eval:  Avg_Loss: 0.51881   Acc: 161/209 (77.033%)\n",
            "Train Epoch: 63   Avg_Loss: 0.49269   Acc: 510/625 (81.600%)\n",
            "Grad: [0.00024,0.00158] Param: [-0.13328,0.07260]\n",
            "Eval:  Avg_Loss: 0.52136   Acc: 162/209 (77.512%)\n",
            "Train Epoch: 64   Avg_Loss: 0.48548   Acc: 515/625 (82.400%)\n",
            "Grad: [-0.00279,0.00355] Param: [-0.13476,0.07378]\n",
            "Eval:  Avg_Loss: 0.51831   Acc: 162/209 (77.512%)\n",
            "Train Epoch: 65   Avg_Loss: 0.48452   Acc: 517/625 (82.720%)\n",
            "Grad: [0.00091,0.00061] Param: [-0.13606,0.07478]\n",
            "Eval:  Avg_Loss: 0.52082   Acc: 163/209 (77.990%)\n",
            "Train Epoch: 66   Avg_Loss: 0.48755   Acc: 512/625 (81.920%)\n",
            "Grad: [0.01523,-0.01714] Param: [-0.13712,0.07528]\n",
            "Eval:  Avg_Loss: 0.52073   Acc: 163/209 (77.990%)\n",
            "Train Epoch: 67   Avg_Loss: 0.48610   Acc: 516/625 (82.560%)\n",
            "Grad: [-0.00512,0.00607] Param: [-0.14002,0.07837]\n",
            "Eval:  Avg_Loss: 0.52277   Acc: 164/209 (78.469%)\n",
            "Train Epoch: 68   Avg_Loss: 0.48584   Acc: 515/625 (82.400%)\n",
            "Grad: [0.00167,-0.00048] Param: [-0.14143,0.07948]\n",
            "Eval:  Avg_Loss: 0.52254   Acc: 161/209 (77.033%)\n",
            "Train Epoch: 69   Avg_Loss: 0.48718   Acc: 513/625 (82.080%)\n",
            "Grad: [0.01005,-0.01051] Param: [-0.14189,0.07964]\n",
            "Eval:  Avg_Loss: 0.51721   Acc: 164/209 (78.469%)\n",
            "Train Epoch: 70   Avg_Loss: 0.48771   Acc: 509/625 (81.440%)\n",
            "Grad: [0.00072,-0.00081] Param: [-0.14528,0.08304]\n",
            "Eval:  Avg_Loss: 0.51705   Acc: 163/209 (77.990%)\n",
            "Train Epoch: 71   Avg_Loss: 0.48431   Acc: 518/625 (82.880%)\n",
            "Grad: [0.00975,-0.01150] Param: [-0.14518,0.08289]\n",
            "Eval:  Avg_Loss: 0.52016   Acc: 163/209 (77.990%)\n",
            "Train Epoch: 72   Avg_Loss: 0.48753   Acc: 512/625 (81.920%)\n",
            "Grad: [0.01790,-0.01888] Param: [-0.14617,0.08391]\n",
            "Eval:  Avg_Loss: 0.52396   Acc: 163/209 (77.990%)\n",
            "Train Epoch: 73   Avg_Loss: 0.49118   Acc: 510/625 (81.600%)\n",
            "Grad: [0.00417,-0.00454] Param: [-0.14688,0.08475]\n",
            "Eval:  Avg_Loss: 0.52084   Acc: 163/209 (77.990%)\n",
            "Train Epoch: 74   Avg_Loss: 0.48385   Acc: 514/625 (82.240%)\n",
            "Grad: [0.01358,-0.01402] Param: [-0.14860,0.08662]\n",
            "Eval:  Avg_Loss: 0.52135   Acc: 162/209 (77.512%)\n",
            "Train Epoch: 75   Avg_Loss: 0.48551   Acc: 511/625 (81.760%)\n",
            "Grad: [0.00796,-0.00900] Param: [-0.15003,0.08791]\n",
            "Eval:  Avg_Loss: 0.52061   Acc: 162/209 (77.512%)\n",
            "Train Epoch: 76   Avg_Loss: 0.49037   Acc: 508/625 (81.280%)\n",
            "Grad: [0.00313,-0.00418] Param: [-0.15174,0.08970]\n",
            "Eval:  Avg_Loss: 0.52446   Acc: 162/209 (77.512%)\n",
            "Train Epoch: 77   Avg_Loss: 0.48797   Acc: 512/625 (81.920%)\n",
            "Grad: [0.01268,-0.01339] Param: [-0.15250,0.09048]\n",
            "Eval:  Avg_Loss: 0.52006   Acc: 162/209 (77.512%)\n",
            "Train Epoch: 78   Avg_Loss: 0.48895   Acc: 512/625 (81.920%)\n",
            "Grad: [0.00074,0.00058] Param: [-0.15496,0.09302]\n",
            "Eval:  Avg_Loss: 0.52591   Acc: 166/209 (79.426%)\n",
            "Train Epoch: 79   Avg_Loss: 0.48513   Acc: 515/625 (82.400%)\n",
            "Grad: [-0.00355,0.00309] Param: [-0.15480,0.09280]\n",
            "Eval:  Avg_Loss: 0.51273   Acc: 167/209 (79.904%)\n",
            "Train Epoch: 80   Avg_Loss: 0.49022   Acc: 510/625 (81.600%)\n",
            "Grad: [0.00562,-0.00503] Param: [-0.15574,0.09400]\n",
            "Eval:  Avg_Loss: 0.51217   Acc: 167/209 (79.904%)\n",
            "Train Epoch: 81   Avg_Loss: 0.48490   Acc: 514/625 (82.240%)\n",
            "Grad: [0.01854,-0.01954] Param: [-0.15797,0.09619]\n",
            "Eval:  Avg_Loss: 0.51626   Acc: 165/209 (78.947%)\n",
            "Train Epoch: 82   Avg_Loss: 0.48493   Acc: 514/625 (82.240%)\n",
            "Grad: [0.00606,-0.00569] Param: [-0.15977,0.09800]\n",
            "Eval:  Avg_Loss: 0.51624   Acc: 165/209 (78.947%)\n",
            "Train Epoch: 83   Avg_Loss: 0.48438   Acc: 515/625 (82.400%)\n",
            "Grad: [-0.00464,0.00453] Param: [-0.16083,0.09895]\n",
            "Eval:  Avg_Loss: 0.51568   Acc: 165/209 (78.947%)\n",
            "Train Epoch: 84   Avg_Loss: 0.48503   Acc: 515/625 (82.400%)\n",
            "Grad: [-0.00653,0.00574] Param: [-0.16165,0.09956]\n",
            "Eval:  Avg_Loss: 0.52064   Acc: 166/209 (79.426%)\n",
            "Train Epoch: 85   Avg_Loss: 0.49132   Acc: 506/625 (80.960%)\n",
            "Grad: [-0.00415,0.00451] Param: [-0.16199,0.10004]\n",
            "Eval:  Avg_Loss: 0.51329   Acc: 167/209 (79.904%)\n",
            "Train Epoch: 86   Avg_Loss: 0.48348   Acc: 516/625 (82.560%)\n",
            "Grad: [-0.00054,0.00139] Param: [-0.16402,0.10222]\n",
            "Eval:  Avg_Loss: 0.52002   Acc: 162/209 (77.512%)\n",
            "Train Epoch: 87   Avg_Loss: 0.48482   Acc: 511/625 (81.760%)\n",
            "Grad: [-0.00047,0.00055] Param: [-0.16460,0.10300]\n",
            "Eval:  Avg_Loss: 0.51419   Acc: 165/209 (78.947%)\n",
            "Train Epoch: 88   Avg_Loss: 0.48132   Acc: 518/625 (82.880%)\n",
            "Grad: [-0.01382,0.01382] Param: [-0.16685,0.10539]\n",
            "Eval:  Avg_Loss: 0.51964   Acc: 165/209 (78.947%)\n",
            "Train Epoch: 89   Avg_Loss: 0.48049   Acc: 518/625 (82.880%)\n",
            "Grad: [-0.01927,0.01818] Param: [-0.16809,0.10654]\n",
            "Eval:  Avg_Loss: 0.51324   Acc: 164/209 (78.469%)\n",
            "Train Epoch: 90   Avg_Loss: 0.48723   Acc: 513/625 (82.080%)\n",
            "Grad: [-0.01506,0.01404] Param: [-0.17008,0.10857]\n",
            "Eval:  Avg_Loss: 0.52092   Acc: 162/209 (77.512%)\n",
            "Train Epoch: 91   Avg_Loss: 0.48558   Acc: 509/625 (81.440%)\n",
            "Grad: [0.00331,-0.00287] Param: [-0.17063,0.10931]\n",
            "Eval:  Avg_Loss: 0.51505   Acc: 166/209 (79.426%)\n",
            "Train Epoch: 92   Avg_Loss: 0.49239   Acc: 506/625 (80.960%)\n",
            "Grad: [0.01444,-0.01504] Param: [-0.17229,0.11116]\n",
            "Eval:  Avg_Loss: 0.52890   Acc: 162/209 (77.512%)\n",
            "Train Epoch: 93   Avg_Loss: 0.49838   Acc: 508/625 (81.280%)\n",
            "Grad: [0.02131,-0.02318] Param: [-0.17317,0.11229]\n",
            "Eval:  Avg_Loss: 0.51385   Acc: 164/209 (78.469%)\n",
            "Train Epoch: 94   Avg_Loss: 0.49333   Acc: 503/625 (80.480%)\n",
            "Grad: [0.00025,-0.00179] Param: [-0.17328,0.11297]\n",
            "Eval:  Avg_Loss: 0.51587   Acc: 164/209 (78.469%)\n",
            "Train Epoch: 95   Avg_Loss: 0.48465   Acc: 513/625 (82.080%)\n",
            "Grad: [-0.00345,0.00168] Param: [-0.17559,0.11566]\n",
            "Eval:  Avg_Loss: 0.52213   Acc: 163/209 (77.990%)\n",
            "Train Epoch: 96   Avg_Loss: 0.48052   Acc: 520/625 (83.200%)\n",
            "Grad: [0.00432,-0.00558] Param: [-0.17601,0.11561]\n",
            "Eval:  Avg_Loss: 0.51459   Acc: 165/209 (78.947%)\n",
            "Train Epoch: 97   Avg_Loss: 0.47949   Acc: 520/625 (83.200%)\n",
            "Grad: [-0.00726,0.00758] Param: [-0.17777,0.11716]\n",
            "Eval:  Avg_Loss: 0.51736   Acc: 165/209 (78.947%)\n",
            "Train Epoch: 98   Avg_Loss: 0.48240   Acc: 516/625 (82.560%)\n",
            "Grad: [0.01445,-0.01373] Param: [-0.17838,0.11779]\n",
            "Eval:  Avg_Loss: 0.52885   Acc: 163/209 (77.990%)\n",
            "Train Epoch: 99   Avg_Loss: 0.48674   Acc: 509/625 (81.440%)\n",
            "Grad: [0.02340,-0.02381] Param: [-0.18027,0.11987]\n",
            "Eval:  Avg_Loss: 0.51370   Acc: 168/209 (80.383%)\n",
            "Train Epoch: 100   Avg_Loss: 0.48671   Acc: 510/625 (81.600%)\n",
            "Grad: [0.00109,-0.00157] Param: [-0.18075,0.12058]\n",
            "Eval:  Avg_Loss: 0.52578   Acc: 165/209 (78.947%)\n",
            "Train Epoch: 101   Avg_Loss: 0.49283   Acc: 507/625 (81.120%)\n",
            "Grad: [0.02208,-0.02257] Param: [-0.18241,0.12235]\n",
            "Eval:  Avg_Loss: 0.52881   Acc: 162/209 (77.512%)\n",
            "Train Epoch: 102   Avg_Loss: 0.49164   Acc: 506/625 (80.960%)\n",
            "Grad: [-0.01094,0.01006] Param: [-0.18311,0.12330]\n",
            "Eval:  Avg_Loss: 0.51500   Acc: 164/209 (78.469%)\n",
            "Train Epoch: 103   Avg_Loss: 0.49545   Acc: 512/625 (81.920%)\n",
            "Grad: [-0.01169,0.01257] Param: [-0.18440,0.12477]\n",
            "Eval:  Avg_Loss: 0.51680   Acc: 164/209 (78.469%)\n",
            "Train Epoch: 104   Avg_Loss: 0.48336   Acc: 517/625 (82.720%)\n",
            "Grad: [0.00728,-0.00910] Param: [-0.18673,0.12717]\n",
            "Eval:  Avg_Loss: 0.52506   Acc: 163/209 (77.990%)\n",
            "Train Epoch: 105   Avg_Loss: 0.48812   Acc: 512/625 (81.920%)\n",
            "Grad: [0.00302,-0.00323] Param: [-0.18798,0.12884]\n",
            "Eval:  Avg_Loss: 0.52095   Acc: 162/209 (77.512%)\n",
            "Train Epoch: 106   Avg_Loss: 0.48024   Acc: 518/625 (82.880%)\n",
            "Grad: [0.00417,-0.00433] Param: [-0.18841,0.12969]\n",
            "Eval:  Avg_Loss: 0.51469   Acc: 167/209 (79.904%)\n",
            "Train Epoch: 107   Avg_Loss: 0.47779   Acc: 520/625 (83.200%)\n",
            "Grad: [-0.00610,0.00645] Param: [-0.18989,0.13128]\n",
            "Eval:  Avg_Loss: 0.51653   Acc: 167/209 (79.904%)\n",
            "Train Epoch: 108   Avg_Loss: 0.47918   Acc: 520/625 (83.200%)\n",
            "Grad: [0.00954,-0.00998] Param: [-0.19170,0.13320]\n",
            "Eval:  Avg_Loss: 0.51702   Acc: 166/209 (79.426%)\n",
            "Train Epoch: 109   Avg_Loss: 0.47935   Acc: 518/625 (82.880%)\n",
            "Grad: [0.00134,-0.00111] Param: [-0.19274,0.13455]\n",
            "Eval:  Avg_Loss: 0.51866   Acc: 163/209 (77.990%)\n",
            "Train Epoch: 110   Avg_Loss: 0.48247   Acc: 513/625 (82.080%)\n",
            "Grad: [-0.00069,0.00071] Param: [-0.19307,0.13503]\n",
            "Eval:  Avg_Loss: 0.51961   Acc: 165/209 (78.947%)\n",
            "Train Epoch: 111   Avg_Loss: 0.48419   Acc: 518/625 (82.880%)\n",
            "Grad: [0.00262,-0.00342] Param: [-0.19590,0.13801]\n",
            "Eval:  Avg_Loss: 0.51850   Acc: 164/209 (78.469%)\n",
            "Train Epoch: 112   Avg_Loss: 0.47930   Acc: 520/625 (83.200%)\n",
            "Grad: [0.00501,-0.00434] Param: [-0.19687,0.13936]\n",
            "Eval:  Avg_Loss: 0.51676   Acc: 165/209 (78.947%)\n",
            "Train Epoch: 113   Avg_Loss: 0.48001   Acc: 518/625 (82.880%)\n",
            "Grad: [0.00681,-0.00679] Param: [-0.19796,0.14052]\n",
            "Eval:  Avg_Loss: 0.51903   Acc: 166/209 (79.426%)\n",
            "Train Epoch: 114   Avg_Loss: 0.47695   Acc: 519/625 (83.040%)\n",
            "Grad: [-0.00269,0.00130] Param: [-0.20000,0.14280]\n",
            "Eval:  Avg_Loss: 0.51539   Acc: 166/209 (79.426%)\n",
            "Train Epoch: 115   Avg_Loss: 0.47819   Acc: 521/625 (83.360%)\n",
            "Grad: [0.00244,-0.00406] Param: [-0.20225,0.14505]\n",
            "Eval:  Avg_Loss: 0.51602   Acc: 166/209 (79.426%)\n",
            "Train Epoch: 116   Avg_Loss: 0.47828   Acc: 522/625 (83.520%)\n",
            "Grad: [-0.00305,0.00371] Param: [-0.20407,0.14706]\n",
            "Eval:  Avg_Loss: 0.51560   Acc: 165/209 (78.947%)\n",
            "Train Epoch: 117   Avg_Loss: 0.47761   Acc: 520/625 (83.200%)\n",
            "Grad: [-0.00008,-0.00173] Param: [-0.20374,0.14667]\n",
            "Eval:  Avg_Loss: 0.51053   Acc: 167/209 (79.904%)\n",
            "Train Epoch: 118   Avg_Loss: 0.47995   Acc: 518/625 (82.880%)\n",
            "Grad: [-0.01457,0.01509] Param: [-0.20717,0.15044]\n",
            "Eval:  Avg_Loss: 0.52336   Acc: 164/209 (78.469%)\n",
            "Train Epoch: 119   Avg_Loss: 0.47650   Acc: 520/625 (83.200%)\n",
            "Grad: [-0.00960,0.00951] Param: [-0.20856,0.15209]\n",
            "Eval:  Avg_Loss: 0.51989   Acc: 164/209 (78.469%)\n",
            "Train Epoch: 120   Avg_Loss: 0.47589   Acc: 519/625 (83.040%)\n",
            "Grad: [-0.00045,0.00158] Param: [-0.20981,0.15351]\n",
            "Eval:  Avg_Loss: 0.52527   Acc: 162/209 (77.512%)\n",
            "Train Epoch: 121   Avg_Loss: 0.48273   Acc: 513/625 (82.080%)\n",
            "Grad: [-0.00884,0.00887] Param: [-0.20976,0.15351]\n",
            "Eval:  Avg_Loss: 0.51633   Acc: 166/209 (79.426%)\n",
            "Train Epoch: 122   Avg_Loss: 0.48195   Acc: 517/625 (82.720%)\n",
            "Grad: [0.00103,-0.00053] Param: [-0.21293,0.15692]\n",
            "Eval:  Avg_Loss: 0.53103   Acc: 160/209 (76.555%)\n",
            "Train Epoch: 123   Avg_Loss: 0.48598   Acc: 512/625 (81.920%)\n",
            "Grad: [-0.00043,0.00077] Param: [-0.21459,0.15894]\n",
            "Eval:  Avg_Loss: 0.52424   Acc: 161/209 (77.033%)\n",
            "Train Epoch: 124   Avg_Loss: 0.47711   Acc: 521/625 (83.360%)\n",
            "Grad: [0.00737,-0.00882] Param: [-0.21372,0.15811]\n",
            "Eval:  Avg_Loss: 0.51314   Acc: 167/209 (79.904%)\n",
            "Train Epoch: 125   Avg_Loss: 0.48315   Acc: 513/625 (82.080%)\n",
            "Grad: [0.00980,-0.00977] Param: [-0.21550,0.16020]\n",
            "Eval:  Avg_Loss: 0.53531   Acc: 161/209 (77.033%)\n",
            "Train Epoch: 126   Avg_Loss: 0.48024   Acc: 520/625 (83.200%)\n",
            "Grad: [0.00030,0.00012] Param: [-0.21747,0.16239]\n",
            "Eval:  Avg_Loss: 0.51827   Acc: 165/209 (78.947%)\n",
            "Train Epoch: 127   Avg_Loss: 0.48335   Acc: 513/625 (82.080%)\n",
            "Grad: [-0.00323,0.00328] Param: [-0.21851,0.16382]\n",
            "Eval:  Avg_Loss: 0.52654   Acc: 162/209 (77.512%)\n",
            "Train Epoch: 128   Avg_Loss: 0.47487   Acc: 517/625 (82.720%)\n",
            "Grad: [0.01167,-0.01155] Param: [-0.21848,0.16408]\n",
            "Eval:  Avg_Loss: 0.51204   Acc: 168/209 (80.383%)\n",
            "Train Epoch: 129   Avg_Loss: 0.47796   Acc: 517/625 (82.720%)\n",
            "Grad: [0.00063,-0.00162] Param: [-0.22020,0.16571]\n",
            "Eval:  Avg_Loss: 0.51305   Acc: 166/209 (79.426%)\n",
            "Train Epoch: 130   Avg_Loss: 0.47484   Acc: 521/625 (83.360%)\n",
            "Grad: [0.00565,-0.00489] Param: [-0.22173,0.16745]\n",
            "Eval:  Avg_Loss: 0.51834   Acc: 164/209 (78.469%)\n",
            "Train Epoch: 131   Avg_Loss: 0.47406   Acc: 519/625 (83.040%)\n",
            "Grad: [-0.01593,0.01502] Param: [-0.22377,0.16923]\n",
            "Eval:  Avg_Loss: 0.51380   Acc: 166/209 (79.426%)\n",
            "Train Epoch: 132   Avg_Loss: 0.47719   Acc: 519/625 (83.040%)\n",
            "Grad: [-0.01224,0.01198] Param: [-0.22474,0.17023]\n",
            "Eval:  Avg_Loss: 0.51505   Acc: 166/209 (79.426%)\n",
            "Train Epoch: 133   Avg_Loss: 0.48083   Acc: 513/625 (82.080%)\n",
            "Grad: [0.00671,-0.00869] Param: [-0.22550,0.17110]\n",
            "Eval:  Avg_Loss: 0.51665   Acc: 164/209 (78.469%)\n",
            "Train Epoch: 134   Avg_Loss: 0.49049   Acc: 508/625 (81.280%)\n",
            "Grad: [-0.00394,0.00412] Param: [-0.22767,0.17311]\n",
            "Eval:  Avg_Loss: 0.52061   Acc: 163/209 (77.990%)\n",
            "Train Epoch: 135   Avg_Loss: 0.47647   Acc: 519/625 (83.040%)\n",
            "Grad: [-0.00083,0.00150] Param: [-0.22823,0.17334]\n",
            "Eval:  Avg_Loss: 0.51715   Acc: 164/209 (78.469%)\n",
            "Train Epoch: 136   Avg_Loss: 0.47598   Acc: 518/625 (82.880%)\n",
            "Grad: [0.00226,-0.00223] Param: [-0.23085,0.17566]\n",
            "Eval:  Avg_Loss: 0.52332   Acc: 162/209 (77.512%)\n",
            "Train Epoch: 137   Avg_Loss: 0.47885   Acc: 516/625 (82.560%)\n",
            "Grad: [0.01169,-0.01088] Param: [-0.23100,0.17583]\n",
            "Eval:  Avg_Loss: 0.51599   Acc: 165/209 (78.947%)\n",
            "Train Epoch: 138   Avg_Loss: 0.48700   Acc: 515/625 (82.400%)\n",
            "Grad: [-0.01100,0.01004] Param: [-0.23222,0.17686]\n",
            "Eval:  Avg_Loss: 0.51743   Acc: 163/209 (77.990%)\n",
            "Train Epoch: 139   Avg_Loss: 0.47364   Acc: 524/625 (83.840%)\n",
            "Grad: [-0.00278,0.00269] Param: [-0.23206,0.17643]\n",
            "Eval:  Avg_Loss: 0.51159   Acc: 168/209 (80.383%)\n",
            "Train Epoch: 140   Avg_Loss: 0.47390   Acc: 522/625 (83.520%)\n",
            "Grad: [0.00559,-0.00530] Param: [-0.23552,0.17960]\n",
            "Eval:  Avg_Loss: 0.51899   Acc: 164/209 (78.469%)\n",
            "Train Epoch: 141   Avg_Loss: 0.46952   Acc: 527/625 (84.320%)\n",
            "Grad: [-0.00002,0.00136] Param: [-0.23657,0.18002]\n",
            "Eval:  Avg_Loss: 0.52402   Acc: 163/209 (77.990%)\n",
            "Train Epoch: 142   Avg_Loss: 0.47981   Acc: 517/625 (82.720%)\n",
            "Grad: [-0.00154,0.00252] Param: [-0.23772,0.18065]\n",
            "Eval:  Avg_Loss: 0.51507   Acc: 165/209 (78.947%)\n",
            "Train Epoch: 143   Avg_Loss: 0.47300   Acc: 523/625 (83.680%)\n",
            "Grad: [0.00590,-0.00532] Param: [-0.23939,0.18186]\n",
            "Eval:  Avg_Loss: 0.51346   Acc: 167/209 (79.904%)\n",
            "Train Epoch: 144   Avg_Loss: 0.47512   Acc: 521/625 (83.360%)\n",
            "Grad: [0.00735,-0.00819] Param: [-0.24087,0.18267]\n",
            "Eval:  Avg_Loss: 0.51843   Acc: 164/209 (78.469%)\n",
            "Train Epoch: 145   Avg_Loss: 0.47666   Acc: 516/625 (82.560%)\n",
            "Grad: [-0.01033,0.01047] Param: [-0.24315,0.18479]\n",
            "Eval:  Avg_Loss: 0.52227   Acc: 162/209 (77.512%)\n",
            "Train Epoch: 146   Avg_Loss: 0.46936   Acc: 523/625 (83.680%)\n",
            "Grad: [0.01142,-0.00927] Param: [-0.24247,0.18381]\n",
            "Eval:  Avg_Loss: 0.50631   Acc: 167/209 (79.904%)\n",
            "Train Epoch: 147   Avg_Loss: 0.47489   Acc: 519/625 (83.040%)\n",
            "Grad: [0.00014,-0.00011] Param: [-0.24438,0.18560]\n",
            "Eval:  Avg_Loss: 0.51614   Acc: 165/209 (78.947%)\n",
            "Train Epoch: 148   Avg_Loss: 0.47016   Acc: 523/625 (83.680%)\n",
            "Grad: [0.01086,-0.01058] Param: [-0.24601,0.18694]\n",
            "Eval:  Avg_Loss: 0.51974   Acc: 164/209 (78.469%)\n",
            "Train Epoch: 149   Avg_Loss: 0.47967   Acc: 520/625 (83.200%)\n",
            "Grad: [0.01317,-0.01331] Param: [-0.24589,0.18669]\n",
            "Eval:  Avg_Loss: 0.50475   Acc: 167/209 (79.904%)\n",
            "Train Epoch: 150   Avg_Loss: 0.50211   Acc: 500/625 (80.000%)\n",
            "Grad: [0.00179,-0.00360] Param: [-0.24258,0.18300]\n",
            "Eval:  Avg_Loss: 0.52786   Acc: 162/209 (77.512%)\n",
            "Train Epoch: 151   Avg_Loss: 0.49682   Acc: 504/625 (80.640%)\n",
            "Grad: [-0.00146,0.00388] Param: [-0.24187,0.18185]\n",
            "Eval:  Avg_Loss: 0.51283   Acc: 162/209 (77.512%)\n",
            "Train Epoch: 152   Avg_Loss: 0.49045   Acc: 513/625 (82.080%)\n",
            "Grad: [-0.00047,0.00133] Param: [-0.24205,0.18143]\n",
            "Eval:  Avg_Loss: 0.51326   Acc: 163/209 (77.990%)\n",
            "Train Epoch: 153   Avg_Loss: 0.48439   Acc: 515/625 (82.400%)\n",
            "Grad: [-0.00600,0.00592] Param: [-0.24225,0.18086]\n",
            "Eval:  Avg_Loss: 0.50560   Acc: 166/209 (79.426%)\n",
            "Train Epoch: 154   Avg_Loss: 0.47178   Acc: 524/625 (83.840%)\n",
            "Grad: [0.01567,-0.01299] Param: [-0.24347,0.18190]\n",
            "Eval:  Avg_Loss: 0.51261   Acc: 163/209 (77.990%)\n",
            "Train Epoch: 155   Avg_Loss: 0.47237   Acc: 524/625 (83.840%)\n",
            "Grad: [0.00128,0.00117] Param: [-0.24546,0.18331]\n",
            "Eval:  Avg_Loss: 0.49926   Acc: 170/209 (81.340%)\n",
            "Train Epoch: 156   Avg_Loss: 0.47756   Acc: 522/625 (83.520%)\n",
            "Grad: [-0.00758,0.00714] Param: [-0.24814,0.18466]\n",
            "Eval:  Avg_Loss: 0.51677   Acc: 165/209 (78.947%)\n",
            "Train Epoch: 157   Avg_Loss: 0.47355   Acc: 525/625 (84.000%)\n",
            "Grad: [-0.01088,0.01089] Param: [-0.24784,0.18357]\n",
            "Eval:  Avg_Loss: 0.51536   Acc: 163/209 (77.990%)\n",
            "Train Epoch: 158   Avg_Loss: 0.47252   Acc: 524/625 (83.840%)\n",
            "Grad: [-0.00255,0.00449] Param: [-0.24939,0.18494]\n",
            "Eval:  Avg_Loss: 0.51343   Acc: 166/209 (79.426%)\n",
            "Train Epoch: 159   Avg_Loss: 0.46657   Acc: 527/625 (84.320%)\n",
            "Grad: [0.00267,-0.00204] Param: [-0.25232,0.18703]\n",
            "Eval:  Avg_Loss: 0.51416   Acc: 165/209 (78.947%)\n",
            "Train Epoch: 160   Avg_Loss: 0.46600   Acc: 527/625 (84.320%)\n",
            "Grad: [-0.00573,0.00557] Param: [-0.25203,0.18605]\n",
            "Eval:  Avg_Loss: 0.49886   Acc: 171/209 (81.818%)\n",
            "Train Epoch: 161   Avg_Loss: 0.46762   Acc: 530/625 (84.800%)\n",
            "Grad: [-0.01252,0.01295] Param: [-0.25476,0.18768]\n",
            "Eval:  Avg_Loss: 0.51702   Acc: 164/209 (78.469%)\n",
            "Train Epoch: 162   Avg_Loss: 0.47035   Acc: 526/625 (84.160%)\n",
            "Grad: [-0.00393,0.00162] Param: [-0.25525,0.18738]\n",
            "Eval:  Avg_Loss: 0.53745   Acc: 157/209 (75.120%)\n",
            "Train Epoch: 163   Avg_Loss: 0.47787   Acc: 517/625 (82.720%)\n",
            "Grad: [0.00799,-0.00831] Param: [-0.25361,0.18457]\n",
            "Eval:  Avg_Loss: 0.50544   Acc: 167/209 (79.904%)\n",
            "Train Epoch: 164   Avg_Loss: 0.46771   Acc: 527/625 (84.320%)\n",
            "Grad: [-0.00222,0.00200] Param: [-0.25631,0.18635]\n",
            "Eval:  Avg_Loss: 0.50404   Acc: 168/209 (80.383%)\n",
            "Train Epoch: 165   Avg_Loss: 0.47047   Acc: 523/625 (83.680%)\n",
            "Grad: [-0.00169,0.00158] Param: [-0.25765,0.18681]\n",
            "Eval:  Avg_Loss: 0.51303   Acc: 166/209 (79.426%)\n",
            "Train Epoch: 166   Avg_Loss: 0.46604   Acc: 529/625 (84.640%)\n",
            "Grad: [-0.01163,0.01164] Param: [-0.25935,0.18820]\n",
            "Eval:  Avg_Loss: 0.52098   Acc: 164/209 (78.469%)\n",
            "Train Epoch: 167   Avg_Loss: 0.46618   Acc: 530/625 (84.800%)\n",
            "Grad: [-0.00032,0.00034] Param: [-0.25979,0.18803]\n",
            "Eval:  Avg_Loss: 0.51103   Acc: 167/209 (79.904%)\n",
            "Train Epoch: 168   Avg_Loss: 0.46498   Acc: 529/625 (84.640%)\n",
            "Grad: [0.00254,-0.00093] Param: [-0.26079,0.18843]\n",
            "Eval:  Avg_Loss: 0.51294   Acc: 166/209 (79.426%)\n",
            "Train Epoch: 169   Avg_Loss: 0.46533   Acc: 528/625 (84.480%)\n",
            "Grad: [-0.01019,0.00895] Param: [-0.26336,0.19038]\n",
            "Eval:  Avg_Loss: 0.51837   Acc: 164/209 (78.469%)\n",
            "Train Epoch: 170   Avg_Loss: 0.46545   Acc: 528/625 (84.480%)\n",
            "Grad: [0.00898,-0.00854] Param: [-0.26294,0.18954]\n",
            "Eval:  Avg_Loss: 0.51119   Acc: 165/209 (78.947%)\n",
            "Train Epoch: 171   Avg_Loss: 0.47114   Acc: 523/625 (83.680%)\n",
            "Grad: [-0.00017,0.00038] Param: [-0.26407,0.18978]\n",
            "Eval:  Avg_Loss: 0.51525   Acc: 166/209 (79.426%)\n",
            "Train Epoch: 172   Avg_Loss: 0.46460   Acc: 529/625 (84.640%)\n",
            "Grad: [0.02080,-0.01920] Param: [-0.26319,0.18815]\n",
            "Eval:  Avg_Loss: 0.51705   Acc: 165/209 (78.947%)\n",
            "Train Epoch: 173   Avg_Loss: 0.47531   Acc: 521/625 (83.360%)\n",
            "Grad: [0.00734,-0.00765] Param: [-0.26631,0.19046]\n",
            "Eval:  Avg_Loss: 0.51585   Acc: 164/209 (78.469%)\n",
            "Train Epoch: 174   Avg_Loss: 0.48741   Acc: 517/625 (82.720%)\n",
            "Grad: [0.00028,-0.00005] Param: [-0.26267,0.18639]\n",
            "Eval:  Avg_Loss: 0.50245   Acc: 168/209 (80.383%)\n",
            "Train Epoch: 175   Avg_Loss: 0.46971   Acc: 524/625 (83.840%)\n",
            "Grad: [0.00716,-0.00585] Param: [-0.26233,0.18606]\n",
            "Eval:  Avg_Loss: 0.50821   Acc: 167/209 (79.904%)\n",
            "Train Epoch: 176   Avg_Loss: 0.47077   Acc: 523/625 (83.680%)\n",
            "Grad: [-0.00110,0.00131] Param: [-0.26549,0.18877]\n",
            "Eval:  Avg_Loss: 0.51896   Acc: 164/209 (78.469%)\n",
            "Train Epoch: 177   Avg_Loss: 0.46782   Acc: 525/625 (84.000%)\n",
            "Grad: [0.00840,-0.00823] Param: [-0.26699,0.18983]\n",
            "Eval:  Avg_Loss: 0.51880   Acc: 165/209 (78.947%)\n",
            "Train Epoch: 178   Avg_Loss: 0.46732   Acc: 529/625 (84.640%)\n",
            "Grad: [-0.00538,0.00500] Param: [-0.26643,0.18915]\n",
            "Eval:  Avg_Loss: 0.50475   Acc: 168/209 (80.383%)\n",
            "Train Epoch: 179   Avg_Loss: 0.47334   Acc: 525/625 (84.000%)\n",
            "Grad: [-0.02080,0.01979] Param: [-0.26927,0.19169]\n",
            "Eval:  Avg_Loss: 0.52225   Acc: 164/209 (78.469%)\n",
            "Train Epoch: 180   Avg_Loss: 0.46348   Acc: 529/625 (84.640%)\n",
            "Grad: [-0.00874,0.00933] Param: [-0.26972,0.19177]\n",
            "Eval:  Avg_Loss: 0.51394   Acc: 166/209 (79.426%)\n",
            "Train Epoch: 181   Avg_Loss: 0.46811   Acc: 527/625 (84.320%)\n",
            "Grad: [0.00751,-0.00811] Param: [-0.27071,0.19209]\n",
            "Eval:  Avg_Loss: 0.51865   Acc: 164/209 (78.469%)\n",
            "Train Epoch: 182   Avg_Loss: 0.46792   Acc: 526/625 (84.160%)\n",
            "Grad: [0.00493,-0.00352] Param: [-0.27080,0.19158]\n",
            "Eval:  Avg_Loss: 0.51510   Acc: 165/209 (78.947%)\n",
            "Train Epoch: 183   Avg_Loss: 0.46386   Acc: 528/625 (84.480%)\n",
            "Grad: [0.00402,-0.00450] Param: [-0.27099,0.19125]\n",
            "Eval:  Avg_Loss: 0.51239   Acc: 166/209 (79.426%)\n",
            "Train Epoch: 184   Avg_Loss: 0.46259   Acc: 529/625 (84.640%)\n",
            "Grad: [-0.01204,0.01148] Param: [-0.27166,0.19186]\n",
            "Eval:  Avg_Loss: 0.51260   Acc: 166/209 (79.426%)\n",
            "Train Epoch: 185   Avg_Loss: 0.47093   Acc: 525/625 (84.000%)\n",
            "Grad: [-0.01571,0.01476] Param: [-0.27193,0.19212]\n",
            "Eval:  Avg_Loss: 0.52879   Acc: 163/209 (77.990%)\n",
            "Train Epoch: 186   Avg_Loss: 0.48043   Acc: 519/625 (83.040%)\n",
            "Grad: [-0.00041,0.00015] Param: [-0.27133,0.19052]\n",
            "Eval:  Avg_Loss: 0.50367   Acc: 169/209 (80.861%)\n",
            "Train Epoch: 187   Avg_Loss: 0.46476   Acc: 528/625 (84.480%)\n",
            "Grad: [0.00410,-0.00325] Param: [-0.27155,0.19053]\n",
            "Eval:  Avg_Loss: 0.50483   Acc: 167/209 (79.904%)\n",
            "Train Epoch: 188   Avg_Loss: 0.46657   Acc: 529/625 (84.640%)\n",
            "Grad: [0.00075,-0.00010] Param: [-0.27325,0.19220]\n",
            "Eval:  Avg_Loss: 0.51491   Acc: 166/209 (79.426%)\n",
            "Train Epoch: 189   Avg_Loss: 0.46210   Acc: 533/625 (85.280%)\n",
            "Grad: [0.00294,-0.00220] Param: [-0.27349,0.19202]\n",
            "Eval:  Avg_Loss: 0.51758   Acc: 165/209 (78.947%)\n",
            "Train Epoch: 190   Avg_Loss: 0.48393   Acc: 513/625 (82.080%)\n",
            "Grad: [0.00147,-0.00159] Param: [-0.27480,0.19171]\n",
            "Eval:  Avg_Loss: 0.49587   Acc: 170/209 (81.340%)\n",
            "Train Epoch: 191   Avg_Loss: 0.47104   Acc: 524/625 (83.840%)\n",
            "Grad: [0.00042,-0.00061] Param: [-0.27699,0.19331]\n",
            "Eval:  Avg_Loss: 0.51498   Acc: 164/209 (78.469%)\n",
            "Train Epoch: 192   Avg_Loss: 0.46364   Acc: 529/625 (84.640%)\n",
            "Grad: [-0.00121,-0.00062] Param: [-0.27682,0.19304]\n",
            "Eval:  Avg_Loss: 0.51690   Acc: 165/209 (78.947%)\n",
            "Train Epoch: 193   Avg_Loss: 0.46857   Acc: 525/625 (84.000%)\n",
            "Grad: [0.00197,-0.00194] Param: [-0.27696,0.19328]\n",
            "Eval:  Avg_Loss: 0.52067   Acc: 164/209 (78.469%)\n",
            "Train Epoch: 194   Avg_Loss: 0.46722   Acc: 527/625 (84.320%)\n",
            "Grad: [-0.00656,0.00590] Param: [-0.27740,0.19302]\n",
            "Eval:  Avg_Loss: 0.51325   Acc: 166/209 (79.426%)\n",
            "Train Epoch: 195   Avg_Loss: 0.46095   Acc: 532/625 (85.120%)\n",
            "Grad: [0.00067,-0.00059] Param: [-0.27707,0.19315]\n",
            "Eval:  Avg_Loss: 0.51816   Acc: 164/209 (78.469%)\n",
            "Train Epoch: 196   Avg_Loss: 0.47340   Acc: 519/625 (83.040%)\n",
            "Grad: [0.00012,-0.00010] Param: [-0.27537,0.19091]\n",
            "Eval:  Avg_Loss: 0.50045   Acc: 168/209 (80.383%)\n",
            "Train Epoch: 197   Avg_Loss: 0.46831   Acc: 525/625 (84.000%)\n",
            "Grad: [-0.00640,0.00696] Param: [-0.27623,0.19063]\n",
            "Eval:  Avg_Loss: 0.50985   Acc: 167/209 (79.904%)\n",
            "Train Epoch: 198   Avg_Loss: 0.46970   Acc: 520/625 (83.200%)\n",
            "Grad: [-0.00340,0.00758] Param: [-0.27804,0.19152]\n",
            "Eval:  Avg_Loss: 0.52036   Acc: 164/209 (78.469%)\n",
            "Train Epoch: 199   Avg_Loss: 0.46315   Acc: 528/625 (84.480%)\n",
            "Grad: [0.00046,-0.00026] Param: [-0.27892,0.19259]\n",
            "Eval:  Avg_Loss: 0.51459   Acc: 164/209 (78.469%)\n",
            "Train Epoch: 200   Avg_Loss: 0.46142   Acc: 531/625 (84.960%)\n",
            "Grad: [-0.00405,0.00453] Param: [-0.27895,0.19376]\n",
            "Eval:  Avg_Loss: 0.51424   Acc: 166/209 (79.426%)\n",
            "\n",
            "\n",
            "\n",
            "Optimization ended.\n",
            "\n"
          ],
          "name": "stdout"
        }
      ]
    },
    {
      "cell_type": "code",
      "metadata": {
        "colab": {
          "base_uri": "https://localhost:8080/"
        },
        "id": "tIuAjgVs28Wj",
        "outputId": "e3787d99-e47e-422b-85fa-5d5edca300b0"
      },
      "source": [
        "size = len(list(neural_net.parameters(recurse=True)))\n",
        "i = 1\n",
        "for param in neural_net.parameters(recurse=True):\n",
        "  print(type(param), param.size())\n",
        "  if i == size:\n",
        "    print(param.data)\n",
        "    print(param.grad)\n",
        "  i = i+1\n",
        "\n",
        "last_param = list(neural_net.parameters(recurse=True))[-1]\n",
        "print('Grad: [{:.5f},{:.5f}] Param: [{:.5f},{:.5f}]'.format(last_param.grad.tolist()[0],\n",
        "                                                                last_param.grad.tolist()[1],\n",
        "                                                                last_param.data.tolist()[0],\n",
        "                                                                last_param.data.tolist()[1]))"
      ],
      "execution_count": 136,
      "outputs": [
        {
          "output_type": "stream",
          "text": [
            "<class 'torch.nn.parameter.Parameter'> torch.Size([24, 12])\n",
            "<class 'torch.nn.parameter.Parameter'> torch.Size([24])\n",
            "<class 'torch.nn.parameter.Parameter'> torch.Size([48, 24])\n",
            "<class 'torch.nn.parameter.Parameter'> torch.Size([48])\n",
            "<class 'torch.nn.parameter.Parameter'> torch.Size([32, 48])\n",
            "<class 'torch.nn.parameter.Parameter'> torch.Size([32])\n",
            "<class 'torch.nn.parameter.Parameter'> torch.Size([2, 32])\n",
            "<class 'torch.nn.parameter.Parameter'> torch.Size([2])\n",
            "tensor([-0.2789,  0.1938], device='cuda:0')\n",
            "tensor([-0.0040,  0.0045], device='cuda:0')\n",
            "Grad: [-0.00405,0.00453] Param: [-0.27895,0.19376]\n"
          ],
          "name": "stdout"
        }
      ]
    },
    {
      "cell_type": "markdown",
      "metadata": {
        "id": "86OZRLrjavmd"
      },
      "source": [
        "## Interpreting the output of the neural network"
      ]
    },
    {
      "cell_type": "code",
      "metadata": {
        "id": "mklvQruYavme",
        "colab": {
          "base_uri": "https://localhost:8080/"
        },
        "outputId": "2fc5a243-bb3f-48ce-d663-394c94997ef2"
      },
      "source": [
        "# Activate the evaluation mode\n",
        "neural_net = neural_net.eval()\n",
        "\n",
        "# Select the first 10 data points of the validation set\n",
        "data, target = val_dataset[0:10]\n",
        "data = data.to(device)\n",
        "\n",
        "# Executing the neural network\n",
        "output = neural_net(data)   # equivalent to neural_net.forward(data)\n",
        "\n",
        "# Transform the output into a probability distribution with a softmax function\n",
        "output_proba = F.softmax(output, dim=1)\n",
        "\n",
        "# Print the probability\n",
        "print(output_proba)"
      ],
      "execution_count": 137,
      "outputs": [
        {
          "output_type": "stream",
          "text": [
            "tensor([[0.7310, 0.2690],\n",
            "        [0.7120, 0.2880],\n",
            "        [0.7304, 0.2696],\n",
            "        [0.7263, 0.2737],\n",
            "        [0.2689, 0.7311],\n",
            "        [0.7311, 0.2689],\n",
            "        [0.2689, 0.7311],\n",
            "        [0.7302, 0.2698],\n",
            "        [0.2749, 0.7251],\n",
            "        [0.7311, 0.2689]], device='cuda:0', grad_fn=<SoftmaxBackward>)\n"
          ],
          "name": "stdout"
        }
      ]
    },
    {
      "cell_type": "code",
      "metadata": {
        "id": "RvIEqKt0qjeT",
        "colab": {
          "base_uri": "https://localhost:8080/"
        },
        "outputId": "516159f7-b2fc-4060-8de0-e4fc653cbc88"
      },
      "source": [
        "# For each example, retrieve the class with the highest probability.\n",
        "dummy, prediction = torch.max(output_proba, dim=1)\n",
        "\n",
        "print(\"Model predictions\")\n",
        "print(prediction)\n",
        "print(dummy)\n",
        "print(\"Targets\")\n",
        "print(target)"
      ],
      "execution_count": 138,
      "outputs": [
        {
          "output_type": "stream",
          "text": [
            "Model predictions\n",
            "tensor([0, 0, 0, 0, 1, 0, 1, 0, 1, 0], device='cuda:0')\n",
            "tensor([0.7310, 0.7120, 0.7304, 0.7263, 0.7311, 0.7311, 0.7311, 0.7302, 0.7251,\n",
            "        0.7311], device='cuda:0', grad_fn=<MaxBackward0>)\n",
            "Targets\n",
            "tensor([0, 0, 0, 0, 0, 1, 1, 0, 0, 0])\n"
          ],
          "name": "stdout"
        }
      ]
    },
    {
      "cell_type": "code",
      "metadata": {
        "colab": {
          "base_uri": "https://localhost:8080/"
        },
        "id": "wn8s38SJio1W",
        "outputId": "2e7368f3-426d-4f19-a760-b0665672c9fc"
      },
      "source": [
        "F1_score = f1_score(target.cpu().numpy(), prediction.cpu().numpy())\n",
        "print(f'F1 score is {F1_score:.2%}'.format(F1_score))"
      ],
      "execution_count": 139,
      "outputs": [
        {
          "output_type": "stream",
          "text": [
            "F1 score is 60.00%\n"
          ],
          "name": "stdout"
        }
      ]
    },
    {
      "cell_type": "markdown",
      "metadata": {
        "id": "V11J3Jihavmy"
      },
      "source": [
        "## Visualizing of the learning curve"
      ]
    },
    {
      "cell_type": "markdown",
      "metadata": {
        "id": "j9_9C_tXavmz"
      },
      "source": [
        "Learning curves allow detecting problems that may have occurred during learning, for example, unstable learning, underfitting, or overfitting."
      ]
    },
    {
      "cell_type": "code",
      "metadata": {
        "id": "iNcbpl0tavm0",
        "colab": {
          "base_uri": "https://localhost:8080/",
          "height": 279
        },
        "outputId": "be6bd82b-9cb7-4013-ccba-3bb94de2191a"
      },
      "source": [
        "x = list(range(len(train_losses)))\n",
        "ax = plt.subplot(111)\n",
        "plt.plot(x, train_losses, 'r', label=\"Train\")\n",
        "plt.plot(x, val_losses, 'g', label=\"Validation\")\n",
        "plt.xlabel('epoch')\n",
        "plt.ylabel('Cross-entropy loss')\n",
        "plt.grid()\n",
        "leg = plt.legend(loc='best', ncol=2, mode=\"expand\", shadow=False, fancybox=False)\n",
        "leg.get_frame().set_alpha(0.99)"
      ],
      "execution_count": 140,
      "outputs": [
        {
          "output_type": "display_data",
          "data": {
            "image/png": "[encoded data removed]",
            "text/plain": [
              "<Figure size 432x288 with 1 Axes>"
            ]
          },
          "metadata": {
            "tags": [],
            "needs_background": "light"
          }
        }
      ]
    },
    {
      "cell_type": "code",
      "metadata": {
        "id": "g-VGQ2pMavm4",
        "colab": {
          "base_uri": "https://localhost:8080/",
          "height": 279
        },
        "outputId": "95698e8c-5d5d-4005-bfcf-e5059f78ba56"
      },
      "source": [
        "x = list(range(len(train_accuracies)))\n",
        "ax = plt.subplot(111)\n",
        "plt.plot(x, train_accuracies, 'r', label=\"Train\")\n",
        "plt.plot(x, val_accuracies, 'g', label=\"Validation\")\n",
        "plt.xlabel('epoch')\n",
        "plt.ylabel('Accuracy')\n",
        "plt.grid()\n",
        "leg = plt.legend(loc='best', ncol=2, mode=\"expand\", shadow=False, fancybox=False)\n",
        "leg.get_frame().set_alpha(0.99)"
      ],
      "execution_count": 141,
      "outputs": [
        {
          "output_type": "display_data",
          "data": {
            "image/png": "[encoded data removed]",
            "text/plain": [
              "<Figure size 432x288 with 1 Axes>"
            ]
          },
          "metadata": {
            "tags": [],
            "needs_background": "light"
          }
        }
      ]
    },
    {
      "cell_type": "code",
      "metadata": {
        "colab": {
          "base_uri": "https://localhost:8080/",
          "height": 279
        },
        "id": "FvxtG2qIKjtB",
        "outputId": "7cd394ca-57ec-42a0-8d63-63517176b54a"
      },
      "source": [
        "x = [item[0] for item in train_params]\n",
        "y = [item[1] for item in train_params]\n",
        "u = [item[0] for item in train_grads]\n",
        "v = [item[1] for item in train_grads]\n",
        "\n",
        "plt.quiver(x,y,u,v)\n",
        "plt.plot(x, y, 'b', label=\"Train output parameter\")\n",
        "plt.xlabel('x')\n",
        "plt.ylabel('y')\n",
        "plt.grid()\n",
        "leg = plt.legend(loc='best')\n",
        "leg.get_frame().set_alpha(0.99)"
      ],
      "execution_count": 225,
      "outputs": [
        {
          "output_type": "display_data",
          "data": {
            "image/png": "[encoded data removed]",
            "text/plain": [
              "<Figure size 432x288 with 1 Axes>"
            ]
          },
          "metadata": {
            "tags": [],
            "needs_background": "light"
          }
        }
      ]
    },
    {
      "cell_type": "code",
      "metadata": {
        "colab": {
          "base_uri": "https://localhost:8080/",
          "height": 248
        },
        "id": "M1I4tjqyS75T",
        "outputId": "2d4742f5-5d55-4217-ff65-047fb5d87231"
      },
      "source": [
        "from mpl_toolkits import mplot3d\n",
        "%matplotlib inline\n",
        "import numpy as np\n",
        "import matplotlib.pyplot as plt\n",
        "import matplotlib.colors\n",
        "\n",
        "fig = plt.figure()\n",
        "ax = plt.axes(projection='3d')\n",
        "\n",
        "ax.set_xlabel('x')\n",
        "ax.set_ylabel('y')\n",
        "ax.set_zlabel('epoch')\n",
        "\n",
        "xdata = [item[0] for item in train_params]\n",
        "ydata = [item[1] for item in train_params]\n",
        "zdata = list(range(len(train_params)))\n",
        "u = [item[0] for item in train_grads]\n",
        "v = [item[1] for item in train_grads]\n",
        "norm_grad = np.sqrt(np.array(u)**2 + np.array(v)**2)\n",
        "norm = matplotlib.colors.Normalize(vmin=min(norm_grad),vmax=max(norm_grad),clip=True)\n",
        "ax.scatter3D(xdata, ydata, zdata, c=norm_grad, cmap='Blues',norm=norm)\n",
        "#ax.quiver3D(xdata,ydata,zdata,u,v,zdata,normalize=True)\n",
        "plt.show()"
      ],
      "execution_count": 226,
      "outputs": [
        {
          "output_type": "display_data",
          "data": {
            "image/png": "[encoded data removed]",
            "text/plain": [
              "<Figure size 432x288 with 1 Axes>"
            ]
          },
          "metadata": {
            "tags": [],
            "needs_background": "light"
          }
        }
      ]
    },
    {
      "cell_type": "markdown",
      "metadata": {
        "id": "8oktkpkuqjet"
      },
      "source": [
        "### Exercise 6\n",
        "\n",
        "*   What do you observe in the previous graphs?\n",
        "*   At which epoch is it interesting to retrieve the model parameters for inference?"
      ]
    },
    {
      "cell_type": "markdown",
      "metadata": {
        "id": "qwhRt39yzug-"
      },
      "source": [
        "Stop around epoch 75 to not overfitting"
      ]
    },
    {
      "cell_type": "markdown",
      "metadata": {
        "id": "XK_eUsq3avm8"
      },
      "source": [
        "## Evaluating the model"
      ]
    },
    {
      "cell_type": "markdown",
      "metadata": {
        "id": "4UREO5elavm8"
      },
      "source": [
        "We can finally evaluate our model on our test set and compare with the validation set."
      ]
    },
    {
      "cell_type": "code",
      "metadata": {
        "id": "3UZPvzjxlusr",
        "colab": {
          "base_uri": "https://localhost:8080/"
        },
        "outputId": "91fb415a-af5b-4150-c3b4-92fb853fe5f6"
      },
      "source": [
        "valid_loss, valid_acc = evaluate(neural_net, val_loader, device)"
      ],
      "execution_count": 206,
      "outputs": [
        {
          "output_type": "stream",
          "text": [
            "Eval:  Avg_Loss: 0.51424   Acc: 166/209 (79.426%)\n"
          ],
          "name": "stdout"
        }
      ]
    },
    {
      "cell_type": "code",
      "metadata": {
        "id": "pPWvDM-qavm8",
        "colab": {
          "base_uri": "https://localhost:8080/"
        },
        "outputId": "3abb091a-9102-4e2a-ba31-3acdfaabe7a1"
      },
      "source": [
        "test_loss, test_acc = evaluate(neural_net, test_loader, device)"
      ],
      "execution_count": 207,
      "outputs": [
        {
          "output_type": "stream",
          "text": [
            "Eval:  Avg_Loss: 0.51301   Acc: 163/209 (77.990%)\n"
          ],
          "name": "stdout"
        }
      ]
    },
    {
      "cell_type": "markdown",
      "metadata": {
        "id": "EvP_-KUwqjez"
      },
      "source": [
        "### Exercise 7\n",
        "\n",
        "* Compare validation and test metrics.\n",
        "* Do you think the chosen features are informative of the fate of the passenger?"
      ]
    },
    {
      "cell_type": "markdown",
      "metadata": {
        "id": "Ov4CKUFh5tun"
      },
      "source": [
        "... # To complete.\n",
        "\n",
        "\n"
      ]
    },
    {
      "cell_type": "code",
      "metadata": {
        "colab": {
          "base_uri": "https://localhost:8080/"
        },
        "id": "AfUHiLk5jbC8",
        "outputId": "713b3b66-cf55-4925-a1f0-a2c03263f8e0"
      },
      "source": [
        "!pip install torchviz"
      ],
      "execution_count": 144,
      "outputs": [
        {
          "output_type": "stream",
          "text": [
            "Requirement already satisfied: torchviz in /usr/local/lib/python3.7/dist-packages (0.0.2)\n",
            "Requirement already satisfied: torch in /usr/local/lib/python3.7/dist-packages (from torchviz) (1.8.1+cu101)\n",
            "Requirement already satisfied: graphviz in /usr/local/lib/python3.7/dist-packages (from torchviz) (0.10.1)\n",
            "Requirement already satisfied: numpy in /usr/local/lib/python3.7/dist-packages (from torch->torchviz) (1.19.5)\n",
            "Requirement already satisfied: typing-extensions in /usr/local/lib/python3.7/dist-packages (from torch->torchviz) (3.7.4.3)\n"
          ],
          "name": "stdout"
        }
      ]
    },
    {
      "cell_type": "code",
      "metadata": {
        "id": "rueFjis6YlLN",
        "colab": {
          "base_uri": "https://localhost:8080/",
          "height": 1000
        },
        "outputId": "4a2fe657-a199-4f7b-a5b9-aea5fb2e4088"
      },
      "source": [
        "import graphviz\n",
        "import torchviz\n",
        "\n",
        "torchviz.make_dot(output,params=dict(neural_net.named_parameters()))"
      ],
      "execution_count": 190,
      "outputs": [
        {
          "output_type": "execute_result",
          "data": {
            "text/plain": [
              "<graphviz.dot.Digraph at 0x7fb4eec77250>"
            ],
            "image/svg+xml": "<?xml version=\"1.0\" encoding=\"UTF-8\" standalone=\"no\"?>\n<!DOCTYPE svg PUBLIC \"-//W3C//DTD SVG 1.1//EN\"\n \"http://www.w3.org/Graphics/SVG/1.1/DTD/svg11.dtd\">\n<!-- Generated by graphviz version 2.40.1 (20161225.0304)\n -->\n<!-- Title: %3 Pages: 1 -->\n<svg width=\"439pt\" height=\"740pt\"\n viewBox=\"0.00 0.00 439.00 740.00\" xmlns=\"http://www.w3.org/2000/svg\" xmlns:xlink=\"http://www.w3.org/1999/xlink\">\n<g id=\"graph0\" class=\"graph\" transform=\"scale(1 1) rotate(0) translate(4 736)\">\n<title>%3</title>\n<polygon fill=\"#ffffff\" stroke=\"transparent\" points=\"-4,4 -4,-736 435,-736 435,4 -4,4\"/>\n<!-- 140415326235296 -->\n<g id=\"node1\" class=\"node\">\n<title>140415326235296</title>\n<polygon fill=\"#caff70\" stroke=\"#000000\" points=\"283,-31 218,-31 218,0 283,0 283,-31\"/>\n<text text-anchor=\"middle\" x=\"250.5\" y=\"-7\" font-family=\"monospace\" font-size=\"10.00\" fill=\"#000000\"> (10, 2)</text>\n</g>\n<!-- 140415076892560 -->\n<g id=\"node2\" class=\"node\">\n<title>140415076892560</title>\n<polygon fill=\"#d3d3d3\" stroke=\"#000000\" points=\"304,-86 197,-86 197,-67 304,-67 304,-86\"/>\n<text text-anchor=\"middle\" x=\"250.5\" y=\"-74\" font-family=\"monospace\" font-size=\"10.00\" fill=\"#000000\">SigmoidBackward</text>\n</g>\n<!-- 140415076892560&#45;&gt;140415326235296 -->\n<g id=\"edge28\" class=\"edge\">\n<title>140415076892560&#45;&gt;140415326235296</title>\n<path fill=\"none\" stroke=\"#000000\" d=\"M250.5,-66.9688C250.5,-60.1289 250.5,-50.5621 250.5,-41.5298\"/>\n<polygon fill=\"#000000\" stroke=\"#000000\" points=\"254.0001,-41.3678 250.5,-31.3678 247.0001,-41.3678 254.0001,-41.3678\"/>\n</g>\n<!-- 140415326390672 -->\n<g id=\"node3\" class=\"node\">\n<title>140415326390672</title>\n<polygon fill=\"#d3d3d3\" stroke=\"#000000\" points=\"298,-141 203,-141 203,-122 298,-122 298,-141\"/>\n<text text-anchor=\"middle\" x=\"250.5\" y=\"-129\" font-family=\"monospace\" font-size=\"10.00\" fill=\"#000000\">AddmmBackward</text>\n</g>\n<!-- 140415326390672&#45;&gt;140415076892560 -->\n<g id=\"edge1\" class=\"edge\">\n<title>140415326390672&#45;&gt;140415076892560</title>\n<path fill=\"none\" stroke=\"#000000\" d=\"M250.5,-121.9197C250.5,-114.9083 250.5,-105.1442 250.5,-96.4652\"/>\n<polygon fill=\"#000000\" stroke=\"#000000\" points=\"254.0001,-96.3408 250.5,-86.3408 247.0001,-96.3409 254.0001,-96.3408\"/>\n</g>\n<!-- 140415076889616 -->\n<g id=\"node4\" class=\"node\">\n<title>140415076889616</title>\n<polygon fill=\"#d3d3d3\" stroke=\"#000000\" points=\"185,-196 84,-196 84,-177 185,-177 185,-196\"/>\n<text text-anchor=\"middle\" x=\"134.5\" y=\"-184\" font-family=\"monospace\" font-size=\"10.00\" fill=\"#000000\">AccumulateGrad</text>\n</g>\n<!-- 140415076889616&#45;&gt;140415326390672 -->\n<g id=\"edge2\" class=\"edge\">\n<title>140415076889616&#45;&gt;140415326390672</title>\n<path fill=\"none\" stroke=\"#000000\" d=\"M154.7057,-176.9197C172.9737,-168.2581 200.1018,-155.3957 220.8304,-145.5675\"/>\n<polygon fill=\"#000000\" stroke=\"#000000\" points=\"222.6004,-148.6018 230.1367,-141.155 219.6014,-142.2768 222.6004,-148.6018\"/>\n</g>\n<!-- 140415325903200 -->\n<g id=\"node5\" class=\"node\">\n<title>140415325903200</title>\n<polygon fill=\"#add8e6\" stroke=\"#000000\" points=\"161.5,-263 107.5,-263 107.5,-232 161.5,-232 161.5,-263\"/>\n<text text-anchor=\"middle\" x=\"134.5\" y=\"-239\" font-family=\"monospace\" font-size=\"10.00\" fill=\"#000000\"> (2)</text>\n</g>\n<!-- 140415325903200&#45;&gt;140415076889616 -->\n<g id=\"edge3\" class=\"edge\">\n<title>140415325903200&#45;&gt;140415076889616</title>\n<path fill=\"none\" stroke=\"#000000\" d=\"M134.5,-231.791C134.5,-224.0249 134.5,-214.5706 134.5,-206.3129\"/>\n<polygon fill=\"#000000\" stroke=\"#000000\" points=\"138.0001,-206.0647 134.5,-196.0648 131.0001,-206.0648 138.0001,-206.0647\"/>\n</g>\n<!-- 140415076890576 -->\n<g id=\"node6\" class=\"node\">\n<title>140415076890576</title>\n<polygon fill=\"#d3d3d3\" stroke=\"#000000\" points=\"298,-196 203,-196 203,-177 298,-177 298,-196\"/>\n<text text-anchor=\"middle\" x=\"250.5\" y=\"-184\" font-family=\"monospace\" font-size=\"10.00\" fill=\"#000000\">ReluBackward0</text>\n</g>\n<!-- 140415076890576&#45;&gt;140415326390672 -->\n<g id=\"edge4\" class=\"edge\">\n<title>140415076890576&#45;&gt;140415326390672</title>\n<path fill=\"none\" stroke=\"#000000\" d=\"M250.5,-176.9197C250.5,-169.9083 250.5,-160.1442 250.5,-151.4652\"/>\n<polygon fill=\"#000000\" stroke=\"#000000\" points=\"254.0001,-151.3408 250.5,-141.3408 247.0001,-151.3409 254.0001,-151.3408\"/>\n</g>\n<!-- 140415075699664 -->\n<g id=\"node7\" class=\"node\">\n<title>140415075699664</title>\n<polygon fill=\"#d3d3d3\" stroke=\"#000000\" points=\"293,-257 198,-257 198,-238 293,-238 293,-257\"/>\n<text text-anchor=\"middle\" x=\"245.5\" y=\"-245\" font-family=\"monospace\" font-size=\"10.00\" fill=\"#000000\">AddmmBackward</text>\n</g>\n<!-- 140415075699664&#45;&gt;140415076890576 -->\n<g id=\"edge5\" class=\"edge\">\n<title>140415075699664&#45;&gt;140415076890576</title>\n<path fill=\"none\" stroke=\"#000000\" d=\"M246.2813,-237.9688C246.9743,-229.5131 248.009,-216.8901 248.8802,-206.2615\"/>\n<polygon fill=\"#000000\" stroke=\"#000000\" points=\"252.379,-206.4182 249.7077,-196.1656 245.4024,-205.8462 252.379,-206.4182\"/>\n</g>\n<!-- 140415075697104 -->\n<g id=\"node8\" class=\"node\">\n<title>140415075697104</title>\n<polygon fill=\"#d3d3d3\" stroke=\"#000000\" points=\"146,-324 45,-324 45,-305 146,-305 146,-324\"/>\n<text text-anchor=\"middle\" x=\"95.5\" y=\"-312\" font-family=\"monospace\" font-size=\"10.00\" fill=\"#000000\">AccumulateGrad</text>\n</g>\n<!-- 140415075697104&#45;&gt;140415075699664 -->\n<g id=\"edge6\" class=\"edge\">\n<title>140415075697104&#45;&gt;140415075699664</title>\n<path fill=\"none\" stroke=\"#000000\" d=\"M116.9913,-304.9005C142.6103,-293.4574 185.6099,-274.2509 214.7447,-261.2374\"/>\n<polygon fill=\"#000000\" stroke=\"#000000\" points=\"216.3454,-264.3557 224.0485,-257.0817 213.4905,-257.9643 216.3454,-264.3557\"/>\n</g>\n<!-- 140415106967024 -->\n<g id=\"node9\" class=\"node\">\n<title>140415106967024</title>\n<polygon fill=\"#add8e6\" stroke=\"#000000\" points=\"122.5,-397 68.5,-397 68.5,-366 122.5,-366 122.5,-397\"/>\n<text text-anchor=\"middle\" x=\"95.5\" y=\"-373\" font-family=\"monospace\" font-size=\"10.00\" fill=\"#000000\"> (32)</text>\n</g>\n<!-- 140415106967024&#45;&gt;140415075697104 -->\n<g id=\"edge7\" class=\"edge\">\n<title>140415106967024&#45;&gt;140415075697104</title>\n<path fill=\"none\" stroke=\"#000000\" d=\"M95.5,-365.9604C95.5,-356.6356 95.5,-344.6748 95.5,-334.6317\"/>\n<polygon fill=\"#000000\" stroke=\"#000000\" points=\"99.0001,-334.35 95.5,-324.3501 92.0001,-334.3501 99.0001,-334.35\"/>\n</g>\n<!-- 140415075700240 -->\n<g id=\"node10\" class=\"node\">\n<title>140415075700240</title>\n<polygon fill=\"#d3d3d3\" stroke=\"#000000\" points=\"259,-324 164,-324 164,-305 259,-305 259,-324\"/>\n<text text-anchor=\"middle\" x=\"211.5\" y=\"-312\" font-family=\"monospace\" font-size=\"10.00\" fill=\"#000000\">ReluBackward0</text>\n</g>\n<!-- 140415075700240&#45;&gt;140415075699664 -->\n<g id=\"edge8\" class=\"edge\">\n<title>140415075700240&#45;&gt;140415075699664</title>\n<path fill=\"none\" stroke=\"#000000\" d=\"M216.3714,-304.9005C221.4714,-294.8505 229.6102,-278.8122 235.99,-266.2403\"/>\n<polygon fill=\"#000000\" stroke=\"#000000\" points=\"239.2334,-267.583 240.6377,-257.0817 232.9912,-264.4153 239.2334,-267.583\"/>\n</g>\n<!-- 140415075698832 -->\n<g id=\"node11\" class=\"node\">\n<title>140415075698832</title>\n<polygon fill=\"#d3d3d3\" stroke=\"#000000\" points=\"249,-391 154,-391 154,-372 249,-372 249,-391\"/>\n<text text-anchor=\"middle\" x=\"201.5\" y=\"-379\" font-family=\"monospace\" font-size=\"10.00\" fill=\"#000000\">AddmmBackward</text>\n</g>\n<!-- 140415075698832&#45;&gt;140415075700240 -->\n<g id=\"edge9\" class=\"edge\">\n<title>140415075698832&#45;&gt;140415075700240</title>\n<path fill=\"none\" stroke=\"#000000\" d=\"M202.9328,-371.9005C204.4031,-362.0495 206.7321,-346.4451 208.5909,-333.9912\"/>\n<polygon fill=\"#000000\" stroke=\"#000000\" points=\"212.0553,-334.4888 210.0699,-324.0817 205.132,-333.4554 212.0553,-334.4888\"/>\n</g>\n<!-- 140415075697808 -->\n<g id=\"node12\" class=\"node\">\n<title>140415075697808</title>\n<polygon fill=\"#d3d3d3\" stroke=\"#000000\" points=\"101,-458 0,-458 0,-439 101,-439 101,-458\"/>\n<text text-anchor=\"middle\" x=\"50.5\" y=\"-446\" font-family=\"monospace\" font-size=\"10.00\" fill=\"#000000\">AccumulateGrad</text>\n</g>\n<!-- 140415075697808&#45;&gt;140415075698832 -->\n<g id=\"edge10\" class=\"edge\">\n<title>140415075697808&#45;&gt;140415075698832</title>\n<path fill=\"none\" stroke=\"#000000\" d=\"M72.1346,-438.9005C97.9243,-427.4574 141.2106,-408.2509 170.5397,-395.2374\"/>\n<polygon fill=\"#000000\" stroke=\"#000000\" points=\"172.1844,-398.3367 179.9055,-391.0817 169.3454,-391.9383 172.1844,-398.3367\"/>\n</g>\n<!-- 140415106966464 -->\n<g id=\"node13\" class=\"node\">\n<title>140415106966464</title>\n<polygon fill=\"#add8e6\" stroke=\"#000000\" points=\"77.5,-531 23.5,-531 23.5,-500 77.5,-500 77.5,-531\"/>\n<text text-anchor=\"middle\" x=\"50.5\" y=\"-507\" font-family=\"monospace\" font-size=\"10.00\" fill=\"#000000\"> (48)</text>\n</g>\n<!-- 140415106966464&#45;&gt;140415075697808 -->\n<g id=\"edge11\" class=\"edge\">\n<title>140415106966464&#45;&gt;140415075697808</title>\n<path fill=\"none\" stroke=\"#000000\" d=\"M50.5,-499.9604C50.5,-490.6356 50.5,-478.6748 50.5,-468.6317\"/>\n<polygon fill=\"#000000\" stroke=\"#000000\" points=\"54.0001,-468.35 50.5,-458.3501 47.0001,-468.3501 54.0001,-468.35\"/>\n</g>\n<!-- 140415075699280 -->\n<g id=\"node14\" class=\"node\">\n<title>140415075699280</title>\n<polygon fill=\"#d3d3d3\" stroke=\"#000000\" points=\"214,-458 119,-458 119,-439 214,-439 214,-458\"/>\n<text text-anchor=\"middle\" x=\"166.5\" y=\"-446\" font-family=\"monospace\" font-size=\"10.00\" fill=\"#000000\">ReluBackward0</text>\n</g>\n<!-- 140415075699280&#45;&gt;140415075698832 -->\n<g id=\"edge12\" class=\"edge\">\n<title>140415075699280&#45;&gt;140415075698832</title>\n<path fill=\"none\" stroke=\"#000000\" d=\"M171.5146,-438.9005C176.7647,-428.8505 185.1429,-412.8122 191.7103,-400.2403\"/>\n<polygon fill=\"#000000\" stroke=\"#000000\" points=\"194.9666,-401.5657 196.4947,-391.0817 188.7622,-398.3246 194.9666,-401.5657\"/>\n</g>\n<!-- 140415075697936 -->\n<g id=\"node15\" class=\"node\">\n<title>140415075697936</title>\n<polygon fill=\"#d3d3d3\" stroke=\"#000000\" points=\"206,-525 111,-525 111,-506 206,-506 206,-525\"/>\n<text text-anchor=\"middle\" x=\"158.5\" y=\"-513\" font-family=\"monospace\" font-size=\"10.00\" fill=\"#000000\">AddmmBackward</text>\n</g>\n<!-- 140415075697936&#45;&gt;140415075699280 -->\n<g id=\"edge13\" class=\"edge\">\n<title>140415075697936&#45;&gt;140415075699280</title>\n<path fill=\"none\" stroke=\"#000000\" d=\"M159.6462,-505.9005C160.8106,-496.149 162.6481,-480.7597 164.1275,-468.3695\"/>\n<polygon fill=\"#000000\" stroke=\"#000000\" points=\"167.6455,-468.4261 165.3559,-458.0817 160.6949,-467.5961 167.6455,-468.4261\"/>\n</g>\n<!-- 140415075696848 -->\n<g id=\"node16\" class=\"node\">\n<title>140415075696848</title>\n<polygon fill=\"#d3d3d3\" stroke=\"#000000\" points=\"119,-592 18,-592 18,-573 119,-573 119,-592\"/>\n<text text-anchor=\"middle\" x=\"68.5\" y=\"-580\" font-family=\"monospace\" font-size=\"10.00\" fill=\"#000000\">AccumulateGrad</text>\n</g>\n<!-- 140415075696848&#45;&gt;140415075697936 -->\n<g id=\"edge14\" class=\"edge\">\n<title>140415075696848&#45;&gt;140415075697936</title>\n<path fill=\"none\" stroke=\"#000000\" d=\"M81.3948,-572.9005C95.9642,-562.0544 119.9022,-544.2339 137.2454,-531.3229\"/>\n<polygon fill=\"#000000\" stroke=\"#000000\" points=\"139.6978,-533.8606 145.6291,-525.0817 135.5177,-528.2457 139.6978,-533.8606\"/>\n</g>\n<!-- 140415076137072 -->\n<g id=\"node17\" class=\"node\">\n<title>140415076137072</title>\n<polygon fill=\"#add8e6\" stroke=\"#000000\" points=\"95.5,-665 41.5,-665 41.5,-634 95.5,-634 95.5,-665\"/>\n<text text-anchor=\"middle\" x=\"68.5\" y=\"-641\" font-family=\"monospace\" font-size=\"10.00\" fill=\"#000000\"> (24)</text>\n</g>\n<!-- 140415076137072&#45;&gt;140415075696848 -->\n<g id=\"edge15\" class=\"edge\">\n<title>140415076137072&#45;&gt;140415075696848</title>\n<path fill=\"none\" stroke=\"#000000\" d=\"M68.5,-633.9604C68.5,-624.6356 68.5,-612.6748 68.5,-602.6317\"/>\n<polygon fill=\"#000000\" stroke=\"#000000\" points=\"72.0001,-602.35 68.5,-592.3501 65.0001,-602.3501 72.0001,-602.35\"/>\n</g>\n<!-- 140415075700624 -->\n<g id=\"node18\" class=\"node\">\n<title>140415075700624</title>\n<polygon fill=\"#d3d3d3\" stroke=\"#000000\" points=\"208,-592 137,-592 137,-573 208,-573 208,-592\"/>\n<text text-anchor=\"middle\" x=\"172.5\" y=\"-580\" font-family=\"monospace\" font-size=\"10.00\" fill=\"#000000\">TBackward</text>\n</g>\n<!-- 140415075700624&#45;&gt;140415075697936 -->\n<g id=\"edge16\" class=\"edge\">\n<title>140415075700624&#45;&gt;140415075697936</title>\n<path fill=\"none\" stroke=\"#000000\" d=\"M170.4941,-572.9005C168.4357,-563.0495 165.1751,-547.4451 162.5728,-534.9912\"/>\n<polygon fill=\"#000000\" stroke=\"#000000\" points=\"165.9736,-534.1543 160.5021,-525.0817 159.1216,-535.5862 165.9736,-534.1543\"/>\n</g>\n<!-- 140415076235472 -->\n<g id=\"node19\" class=\"node\">\n<title>140415076235472</title>\n<polygon fill=\"#d3d3d3\" stroke=\"#000000\" points=\"223,-659 122,-659 122,-640 223,-640 223,-659\"/>\n<text text-anchor=\"middle\" x=\"172.5\" y=\"-647\" font-family=\"monospace\" font-size=\"10.00\" fill=\"#000000\">AccumulateGrad</text>\n</g>\n<!-- 140415076235472&#45;&gt;140415075700624 -->\n<g id=\"edge17\" class=\"edge\">\n<title>140415076235472&#45;&gt;140415075700624</title>\n<path fill=\"none\" stroke=\"#000000\" d=\"M172.5,-639.9005C172.5,-630.149 172.5,-614.7597 172.5,-602.3695\"/>\n<polygon fill=\"#000000\" stroke=\"#000000\" points=\"176.0001,-602.0816 172.5,-592.0817 169.0001,-602.0817 176.0001,-602.0816\"/>\n</g>\n<!-- 140415076137632 -->\n<g id=\"node20\" class=\"node\">\n<title>140415076137632</title>\n<polygon fill=\"#add8e6\" stroke=\"#000000\" points=\"208,-732 137,-732 137,-701 208,-701 208,-732\"/>\n<text text-anchor=\"middle\" x=\"172.5\" y=\"-708\" font-family=\"monospace\" font-size=\"10.00\" fill=\"#000000\"> (24, 12)</text>\n</g>\n<!-- 140415076137632&#45;&gt;140415076235472 -->\n<g id=\"edge18\" class=\"edge\">\n<title>140415076137632&#45;&gt;140415076235472</title>\n<path fill=\"none\" stroke=\"#000000\" d=\"M172.5,-700.9604C172.5,-691.6356 172.5,-679.6748 172.5,-669.6317\"/>\n<polygon fill=\"#000000\" stroke=\"#000000\" points=\"176.0001,-669.35 172.5,-659.3501 169.0001,-669.3501 176.0001,-669.35\"/>\n</g>\n<!-- 140415075697168 -->\n<g id=\"node21\" class=\"node\">\n<title>140415075697168</title>\n<polygon fill=\"#d3d3d3\" stroke=\"#000000\" points=\"303,-458 232,-458 232,-439 303,-439 303,-458\"/>\n<text text-anchor=\"middle\" x=\"267.5\" y=\"-446\" font-family=\"monospace\" font-size=\"10.00\" fill=\"#000000\">TBackward</text>\n</g>\n<!-- 140415075697168&#45;&gt;140415075698832 -->\n<g id=\"edge19\" class=\"edge\">\n<title>140415075697168&#45;&gt;140415075698832</title>\n<path fill=\"none\" stroke=\"#000000\" d=\"M258.0438,-438.9005C247.6537,-428.353 230.7662,-411.2096 218.1476,-398.3998\"/>\n<polygon fill=\"#000000\" stroke=\"#000000\" points=\"220.4498,-395.7495 210.9386,-391.0817 215.463,-400.6619 220.4498,-395.7495\"/>\n</g>\n<!-- 140415075697488 -->\n<g id=\"node22\" class=\"node\">\n<title>140415075697488</title>\n<polygon fill=\"#d3d3d3\" stroke=\"#000000\" points=\"325,-525 224,-525 224,-506 325,-506 325,-525\"/>\n<text text-anchor=\"middle\" x=\"274.5\" y=\"-513\" font-family=\"monospace\" font-size=\"10.00\" fill=\"#000000\">AccumulateGrad</text>\n</g>\n<!-- 140415075697488&#45;&gt;140415075697168 -->\n<g id=\"edge20\" class=\"edge\">\n<title>140415075697488&#45;&gt;140415075697168</title>\n<path fill=\"none\" stroke=\"#000000\" d=\"M273.4971,-505.9005C272.4783,-496.149 270.8704,-480.7597 269.5759,-468.3695\"/>\n<polygon fill=\"#000000\" stroke=\"#000000\" points=\"273.0213,-467.6638 268.5011,-458.0817 266.0592,-468.3912 273.0213,-467.6638\"/>\n</g>\n<!-- 140415105170560 -->\n<g id=\"node23\" class=\"node\">\n<title>140415105170560</title>\n<polygon fill=\"#add8e6\" stroke=\"#000000\" points=\"310,-598 239,-598 239,-567 310,-567 310,-598\"/>\n<text text-anchor=\"middle\" x=\"274.5\" y=\"-574\" font-family=\"monospace\" font-size=\"10.00\" fill=\"#000000\"> (48, 24)</text>\n</g>\n<!-- 140415105170560&#45;&gt;140415075697488 -->\n<g id=\"edge21\" class=\"edge\">\n<title>140415105170560&#45;&gt;140415075697488</title>\n<path fill=\"none\" stroke=\"#000000\" d=\"M274.5,-566.9604C274.5,-557.6356 274.5,-545.6748 274.5,-535.6317\"/>\n<polygon fill=\"#000000\" stroke=\"#000000\" points=\"278.0001,-535.35 274.5,-525.3501 271.0001,-535.3501 278.0001,-535.35\"/>\n</g>\n<!-- 140415075699344 -->\n<g id=\"node24\" class=\"node\">\n<title>140415075699344</title>\n<polygon fill=\"#d3d3d3\" stroke=\"#000000\" points=\"348,-324 277,-324 277,-305 348,-305 348,-324\"/>\n<text text-anchor=\"middle\" x=\"312.5\" y=\"-312\" font-family=\"monospace\" font-size=\"10.00\" fill=\"#000000\">TBackward</text>\n</g>\n<!-- 140415075699344&#45;&gt;140415075699664 -->\n<g id=\"edge22\" class=\"edge\">\n<title>140415075699344&#45;&gt;140415075699664</title>\n<path fill=\"none\" stroke=\"#000000\" d=\"M302.9005,-304.9005C292.353,-294.353 275.2096,-277.2096 262.3998,-264.3998\"/>\n<polygon fill=\"#000000\" stroke=\"#000000\" points=\"264.6276,-261.6779 255.0817,-257.0817 259.6779,-266.6276 264.6276,-261.6779\"/>\n</g>\n<!-- 140415076016400 -->\n<g id=\"node25\" class=\"node\">\n<title>140415076016400</title>\n<polygon fill=\"#d3d3d3\" stroke=\"#000000\" points=\"372,-391 271,-391 271,-372 372,-372 372,-391\"/>\n<text text-anchor=\"middle\" x=\"321.5\" y=\"-379\" font-family=\"monospace\" font-size=\"10.00\" fill=\"#000000\">AccumulateGrad</text>\n</g>\n<!-- 140415076016400&#45;&gt;140415075699344 -->\n<g id=\"edge23\" class=\"edge\">\n<title>140415076016400&#45;&gt;140415075699344</title>\n<path fill=\"none\" stroke=\"#000000\" d=\"M320.2105,-371.9005C318.9006,-362.149 316.8334,-346.7597 315.169,-334.3695\"/>\n<polygon fill=\"#000000\" stroke=\"#000000\" points=\"318.5873,-333.5266 313.7871,-324.0817 311.6497,-334.4586 318.5873,-333.5266\"/>\n</g>\n<!-- 140415105167520 -->\n<g id=\"node26\" class=\"node\">\n<title>140415105167520</title>\n<polygon fill=\"#add8e6\" stroke=\"#000000\" points=\"392,-464 321,-464 321,-433 392,-433 392,-464\"/>\n<text text-anchor=\"middle\" x=\"356.5\" y=\"-440\" font-family=\"monospace\" font-size=\"10.00\" fill=\"#000000\"> (32, 48)</text>\n</g>\n<!-- 140415105167520&#45;&gt;140415076016400 -->\n<g id=\"edge24\" class=\"edge\">\n<title>140415105167520&#45;&gt;140415076016400</title>\n<path fill=\"none\" stroke=\"#000000\" d=\"M348.3823,-432.9604C343.3016,-423.2345 336.723,-410.6411 331.3453,-400.3468\"/>\n<polygon fill=\"#000000\" stroke=\"#000000\" points=\"334.378,-398.593 326.6456,-391.3501 328.1736,-401.8342 334.378,-398.593\"/>\n</g>\n<!-- 140415076889872 -->\n<g id=\"node27\" class=\"node\">\n<title>140415076889872</title>\n<polygon fill=\"#d3d3d3\" stroke=\"#000000\" points=\"396,-196 325,-196 325,-177 396,-177 396,-196\"/>\n<text text-anchor=\"middle\" x=\"360.5\" y=\"-184\" font-family=\"monospace\" font-size=\"10.00\" fill=\"#000000\">TBackward</text>\n</g>\n<!-- 140415076889872&#45;&gt;140415326390672 -->\n<g id=\"edge25\" class=\"edge\">\n<title>140415076889872&#45;&gt;140415326390672</title>\n<path fill=\"none\" stroke=\"#000000\" d=\"M341.3395,-176.9197C324.0947,-168.2973 298.524,-155.512 278.9022,-145.7011\"/>\n<polygon fill=\"#000000\" stroke=\"#000000\" points=\"280.3196,-142.4967 269.81,-141.155 277.1891,-148.7577 280.3196,-142.4967\"/>\n</g>\n<!-- 140415076016272 -->\n<g id=\"node28\" class=\"node\">\n<title>140415076016272</title>\n<polygon fill=\"#d3d3d3\" stroke=\"#000000\" points=\"416,-257 315,-257 315,-238 416,-238 416,-257\"/>\n<text text-anchor=\"middle\" x=\"365.5\" y=\"-245\" font-family=\"monospace\" font-size=\"10.00\" fill=\"#000000\">AccumulateGrad</text>\n</g>\n<!-- 140415076016272&#45;&gt;140415076889872 -->\n<g id=\"edge26\" class=\"edge\">\n<title>140415076016272&#45;&gt;140415076889872</title>\n<path fill=\"none\" stroke=\"#000000\" d=\"M364.7188,-237.9688C364.0257,-229.5131 362.991,-216.8901 362.1198,-206.2615\"/>\n<polygon fill=\"#000000\" stroke=\"#000000\" points=\"365.5976,-205.8462 361.2923,-196.1656 358.621,-206.4182 365.5976,-205.8462\"/>\n</g>\n<!-- 140415076815328 -->\n<g id=\"node29\" class=\"node\">\n<title>140415076815328</title>\n<polygon fill=\"#add8e6\" stroke=\"#000000\" points=\"431,-330 366,-330 366,-299 431,-299 431,-330\"/>\n<text text-anchor=\"middle\" x=\"398.5\" y=\"-306\" font-family=\"monospace\" font-size=\"10.00\" fill=\"#000000\"> (2, 32)</text>\n</g>\n<!-- 140415076815328&#45;&gt;140415076016272 -->\n<g id=\"edge27\" class=\"edge\">\n<title>140415076815328&#45;&gt;140415076016272</title>\n<path fill=\"none\" stroke=\"#000000\" d=\"M390.8462,-298.9604C386.0558,-289.2345 379.8531,-276.6411 374.7827,-266.3468\"/>\n<polygon fill=\"#000000\" stroke=\"#000000\" points=\"377.9099,-264.7745 370.3515,-257.3501 371.6303,-267.8675 377.9099,-264.7745\"/>\n</g>\n</g>\n</svg>\n"
          },
          "metadata": {
            "tags": []
          },
          "execution_count": 190
        }
      ]
    },
    {
      "cell_type": "code",
      "metadata": {
        "colab": {
          "base_uri": "https://localhost:8080/",
          "height": 1000
        },
        "id": "oo1h4rQAlxGR",
        "outputId": "ef66009a-4d9b-46f8-f60f-e75c4be9f3ab"
      },
      "source": [
        "torchviz.make_dot(output_proba,params=dict(neural_net.named_parameters()))"
      ],
      "execution_count": 146,
      "outputs": [
        {
          "output_type": "execute_result",
          "data": {
            "text/plain": [
              "<graphviz.dot.Digraph at 0x7fb4fe0364d0>"
            ],
            "image/svg+xml": "<?xml version=\"1.0\" encoding=\"UTF-8\" standalone=\"no\"?>\n<!DOCTYPE svg PUBLIC \"-//W3C//DTD SVG 1.1//EN\"\n \"http://www.w3.org/Graphics/SVG/1.1/DTD/svg11.dtd\">\n<!-- Generated by graphviz version 2.40.1 (20161225.0304)\n -->\n<!-- Title: %3 Pages: 1 -->\n<svg width=\"450pt\" height=\"787pt\"\n viewBox=\"0.00 0.00 450.00 787.00\" xmlns=\"http://www.w3.org/2000/svg\" xmlns:xlink=\"http://www.w3.org/1999/xlink\">\n<g id=\"graph0\" class=\"graph\" transform=\"scale(1 1) rotate(0) translate(4 783)\">\n<title>%3</title>\n<polygon fill=\"#ffffff\" stroke=\"transparent\" points=\"-4,4 -4,-783 446,-783 446,4 -4,4\"/>\n<!-- 140415325184880 -->\n<g id=\"node1\" class=\"node\">\n<title>140415325184880</title>\n<polygon fill=\"#caff70\" stroke=\"#000000\" points=\"251,-31 186,-31 186,0 251,0 251,-31\"/>\n<text text-anchor=\"middle\" x=\"218.5\" y=\"-7\" font-family=\"monospace\" font-size=\"10.00\" fill=\"#000000\"> (10, 2)</text>\n</g>\n<!-- 140415342188752 -->\n<g id=\"node2\" class=\"node\">\n<title>140415342188752</title>\n<polygon fill=\"#d3d3d3\" stroke=\"#000000\" points=\"272,-86 165,-86 165,-67 272,-67 272,-86\"/>\n<text text-anchor=\"middle\" x=\"218.5\" y=\"-74\" font-family=\"monospace\" font-size=\"10.00\" fill=\"#000000\">SoftmaxBackward</text>\n</g>\n<!-- 140415342188752&#45;&gt;140415325184880 -->\n<g id=\"edge29\" class=\"edge\">\n<title>140415342188752&#45;&gt;140415325184880</title>\n<path fill=\"none\" stroke=\"#000000\" d=\"M218.5,-66.9688C218.5,-60.1289 218.5,-50.5621 218.5,-41.5298\"/>\n<polygon fill=\"#000000\" stroke=\"#000000\" points=\"222.0001,-41.3678 218.5,-31.3678 215.0001,-41.3678 222.0001,-41.3678\"/>\n</g>\n<!-- 140415327630544 -->\n<g id=\"node3\" class=\"node\">\n<title>140415327630544</title>\n<polygon fill=\"#d3d3d3\" stroke=\"#000000\" points=\"272,-141 165,-141 165,-122 272,-122 272,-141\"/>\n<text text-anchor=\"middle\" x=\"218.5\" y=\"-129\" font-family=\"monospace\" font-size=\"10.00\" fill=\"#000000\">SigmoidBackward</text>\n</g>\n<!-- 140415327630544&#45;&gt;140415342188752 -->\n<g id=\"edge1\" class=\"edge\">\n<title>140415327630544&#45;&gt;140415342188752</title>\n<path fill=\"none\" stroke=\"#000000\" d=\"M218.5,-121.9197C218.5,-114.9083 218.5,-105.1442 218.5,-96.4652\"/>\n<polygon fill=\"#000000\" stroke=\"#000000\" points=\"222.0001,-96.3408 218.5,-86.3408 215.0001,-96.3409 222.0001,-96.3408\"/>\n</g>\n<!-- 140415324123344 -->\n<g id=\"node4\" class=\"node\">\n<title>140415324123344</title>\n<polygon fill=\"#d3d3d3\" stroke=\"#000000\" points=\"266,-196 171,-196 171,-177 266,-177 266,-196\"/>\n<text text-anchor=\"middle\" x=\"218.5\" y=\"-184\" font-family=\"monospace\" font-size=\"10.00\" fill=\"#000000\">AddmmBackward</text>\n</g>\n<!-- 140415324123344&#45;&gt;140415327630544 -->\n<g id=\"edge2\" class=\"edge\">\n<title>140415324123344&#45;&gt;140415327630544</title>\n<path fill=\"none\" stroke=\"#000000\" d=\"M218.5,-176.9197C218.5,-169.9083 218.5,-160.1442 218.5,-151.4652\"/>\n<polygon fill=\"#000000\" stroke=\"#000000\" points=\"222.0001,-151.3408 218.5,-141.3408 215.0001,-151.3409 222.0001,-151.3408\"/>\n</g>\n<!-- 140415327410320 -->\n<g id=\"node5\" class=\"node\">\n<title>140415327410320</title>\n<polygon fill=\"#d3d3d3\" stroke=\"#000000\" points=\"153,-251 52,-251 52,-232 153,-232 153,-251\"/>\n<text text-anchor=\"middle\" x=\"102.5\" y=\"-239\" font-family=\"monospace\" font-size=\"10.00\" fill=\"#000000\">AccumulateGrad</text>\n</g>\n<!-- 140415327410320&#45;&gt;140415324123344 -->\n<g id=\"edge3\" class=\"edge\">\n<title>140415327410320&#45;&gt;140415324123344</title>\n<path fill=\"none\" stroke=\"#000000\" d=\"M122.7057,-231.9197C140.9737,-223.2581 168.1018,-210.3957 188.8304,-200.5675\"/>\n<polygon fill=\"#000000\" stroke=\"#000000\" points=\"190.6004,-203.6018 198.1367,-196.155 187.6014,-197.2768 190.6004,-203.6018\"/>\n</g>\n<!-- 140415325903200 -->\n<g id=\"node6\" class=\"node\">\n<title>140415325903200</title>\n<polygon fill=\"#add8e6\" stroke=\"#000000\" points=\"144,-317 61,-317 61,-287 144,-287 144,-317\"/>\n<text text-anchor=\"middle\" x=\"102.5\" y=\"-305\" font-family=\"monospace\" font-size=\"10.00\" fill=\"#000000\">output.bias</text>\n<text text-anchor=\"middle\" x=\"102.5\" y=\"-294\" font-family=\"monospace\" font-size=\"10.00\" fill=\"#000000\"> (2)</text>\n</g>\n<!-- 140415325903200&#45;&gt;140415327410320 -->\n<g id=\"edge4\" class=\"edge\">\n<title>140415325903200&#45;&gt;140415327410320</title>\n<path fill=\"none\" stroke=\"#000000\" d=\"M102.5,-286.7333C102.5,-279.0322 102.5,-269.5977 102.5,-261.3414\"/>\n<polygon fill=\"#000000\" stroke=\"#000000\" points=\"106.0001,-261.0864 102.5,-251.0864 99.0001,-261.0864 106.0001,-261.0864\"/>\n</g>\n<!-- 140415327408976 -->\n<g id=\"node7\" class=\"node\">\n<title>140415327408976</title>\n<polygon fill=\"#d3d3d3\" stroke=\"#000000\" points=\"266,-251 171,-251 171,-232 266,-232 266,-251\"/>\n<text text-anchor=\"middle\" x=\"218.5\" y=\"-239\" font-family=\"monospace\" font-size=\"10.00\" fill=\"#000000\">ReluBackward0</text>\n</g>\n<!-- 140415327408976&#45;&gt;140415324123344 -->\n<g id=\"edge5\" class=\"edge\">\n<title>140415327408976&#45;&gt;140415324123344</title>\n<path fill=\"none\" stroke=\"#000000\" d=\"M218.5,-231.9197C218.5,-224.9083 218.5,-215.1442 218.5,-206.4652\"/>\n<polygon fill=\"#000000\" stroke=\"#000000\" points=\"222.0001,-206.3408 218.5,-196.3408 215.0001,-206.3409 222.0001,-206.3408\"/>\n</g>\n<!-- 140415325936528 -->\n<g id=\"node8\" class=\"node\">\n<title>140415325936528</title>\n<polygon fill=\"#d3d3d3\" stroke=\"#000000\" points=\"261,-311.5 166,-311.5 166,-292.5 261,-292.5 261,-311.5\"/>\n<text text-anchor=\"middle\" x=\"213.5\" y=\"-299.5\" font-family=\"monospace\" font-size=\"10.00\" fill=\"#000000\">AddmmBackward</text>\n</g>\n<!-- 140415325936528&#45;&gt;140415327408976 -->\n<g id=\"edge6\" class=\"edge\">\n<title>140415325936528&#45;&gt;140415327408976</title>\n<path fill=\"none\" stroke=\"#000000\" d=\"M214.3033,-292.2796C214.9845,-284.0376 215.9838,-271.9457 216.8364,-261.629\"/>\n<polygon fill=\"#000000\" stroke=\"#000000\" points=\"220.3464,-261.6516 217.682,-251.3972 213.3702,-261.075 220.3464,-261.6516\"/>\n</g>\n<!-- 140415325935376 -->\n<g id=\"node9\" class=\"node\">\n<title>140415325935376</title>\n<polygon fill=\"#d3d3d3\" stroke=\"#000000\" points=\"127,-377.5 26,-377.5 26,-358.5 127,-358.5 127,-377.5\"/>\n<text text-anchor=\"middle\" x=\"76.5\" y=\"-365.5\" font-family=\"monospace\" font-size=\"10.00\" fill=\"#000000\">AccumulateGrad</text>\n</g>\n<!-- 140415325935376&#45;&gt;140415325936528 -->\n<g id=\"edge7\" class=\"edge\">\n<title>140415325935376&#45;&gt;140415325936528</title>\n<path fill=\"none\" stroke=\"#000000\" d=\"M96.421,-358.403C119.5543,-347.2585 157.9168,-328.7773 184.3899,-316.0238\"/>\n<polygon fill=\"#000000\" stroke=\"#000000\" points=\"186.065,-319.1019 193.555,-311.6085 183.0268,-312.7956 186.065,-319.1019\"/>\n</g>\n<!-- 140415325902400 -->\n<g id=\"node10\" class=\"node\">\n<title>140415325902400</title>\n<polygon fill=\"#add8e6\" stroke=\"#000000\" points=\"118,-449 35,-449 35,-419 118,-419 118,-449\"/>\n<text text-anchor=\"middle\" x=\"76.5\" y=\"-437\" font-family=\"monospace\" font-size=\"10.00\" fill=\"#000000\">layer3.bias</text>\n<text text-anchor=\"middle\" x=\"76.5\" y=\"-426\" font-family=\"monospace\" font-size=\"10.00\" fill=\"#000000\"> (32)</text>\n</g>\n<!-- 140415325902400&#45;&gt;140415325935376 -->\n<g id=\"edge8\" class=\"edge\">\n<title>140415325902400&#45;&gt;140415325935376</title>\n<path fill=\"none\" stroke=\"#000000\" d=\"M76.5,-418.6924C76.5,-409.5067 76.5,-397.7245 76.5,-387.8312\"/>\n<polygon fill=\"#000000\" stroke=\"#000000\" points=\"80.0001,-387.703 76.5,-377.7031 73.0001,-387.7031 80.0001,-387.703\"/>\n</g>\n<!-- 140415325936336 -->\n<g id=\"node11\" class=\"node\">\n<title>140415325936336</title>\n<polygon fill=\"#d3d3d3\" stroke=\"#000000\" points=\"240,-377.5 145,-377.5 145,-358.5 240,-358.5 240,-377.5\"/>\n<text text-anchor=\"middle\" x=\"192.5\" y=\"-365.5\" font-family=\"monospace\" font-size=\"10.00\" fill=\"#000000\">ReluBackward0</text>\n</g>\n<!-- 140415325936336&#45;&gt;140415325936528 -->\n<g id=\"edge9\" class=\"edge\">\n<title>140415325936336&#45;&gt;140415325936528</title>\n<path fill=\"none\" stroke=\"#000000\" d=\"M195.5986,-358.2615C198.6695,-348.6102 203.4588,-333.558 207.3112,-321.4506\"/>\n<polygon fill=\"#000000\" stroke=\"#000000\" points=\"210.6918,-322.369 210.3887,-311.7785 204.0213,-320.2465 210.6918,-322.369\"/>\n</g>\n<!-- 140415325937360 -->\n<g id=\"node12\" class=\"node\">\n<title>140415325937360</title>\n<polygon fill=\"#d3d3d3\" stroke=\"#000000\" points=\"235,-443.5 140,-443.5 140,-424.5 235,-424.5 235,-443.5\"/>\n<text text-anchor=\"middle\" x=\"187.5\" y=\"-431.5\" font-family=\"monospace\" font-size=\"10.00\" fill=\"#000000\">AddmmBackward</text>\n</g>\n<!-- 140415325937360&#45;&gt;140415325936336 -->\n<g id=\"edge10\" class=\"edge\">\n<title>140415325937360&#45;&gt;140415325936336</title>\n<path fill=\"none\" stroke=\"#000000\" d=\"M188.2378,-424.2615C188.9615,-414.7077 190.0862,-399.8615 190.9986,-387.8183\"/>\n<polygon fill=\"#000000\" stroke=\"#000000\" points=\"194.4937,-388.0143 191.7592,-377.7785 187.5137,-387.4855 194.4937,-388.0143\"/>\n</g>\n<!-- 140415323829008 -->\n<g id=\"node13\" class=\"node\">\n<title>140415323829008</title>\n<polygon fill=\"#d3d3d3\" stroke=\"#000000\" points=\"101,-509.5 0,-509.5 0,-490.5 101,-490.5 101,-509.5\"/>\n<text text-anchor=\"middle\" x=\"50.5\" y=\"-497.5\" font-family=\"monospace\" font-size=\"10.00\" fill=\"#000000\">AccumulateGrad</text>\n</g>\n<!-- 140415323829008&#45;&gt;140415325937360 -->\n<g id=\"edge11\" class=\"edge\">\n<title>140415323829008&#45;&gt;140415325937360</title>\n<path fill=\"none\" stroke=\"#000000\" d=\"M70.421,-490.403C93.5543,-479.2585 131.9168,-460.7773 158.3899,-448.0238\"/>\n<polygon fill=\"#000000\" stroke=\"#000000\" points=\"160.065,-451.1019 167.555,-443.6085 157.0268,-444.7956 160.065,-451.1019\"/>\n</g>\n<!-- 140415325901760 -->\n<g id=\"node14\" class=\"node\">\n<title>140415325901760</title>\n<polygon fill=\"#add8e6\" stroke=\"#000000\" points=\"92,-581 9,-581 9,-551 92,-551 92,-581\"/>\n<text text-anchor=\"middle\" x=\"50.5\" y=\"-569\" font-family=\"monospace\" font-size=\"10.00\" fill=\"#000000\">layer2.bias</text>\n<text text-anchor=\"middle\" x=\"50.5\" y=\"-558\" font-family=\"monospace\" font-size=\"10.00\" fill=\"#000000\"> (48)</text>\n</g>\n<!-- 140415325901760&#45;&gt;140415323829008 -->\n<g id=\"edge12\" class=\"edge\">\n<title>140415325901760&#45;&gt;140415323829008</title>\n<path fill=\"none\" stroke=\"#000000\" d=\"M50.5,-550.6924C50.5,-541.5067 50.5,-529.7245 50.5,-519.8312\"/>\n<polygon fill=\"#000000\" stroke=\"#000000\" points=\"54.0001,-519.703 50.5,-509.7031 47.0001,-519.7031 54.0001,-519.703\"/>\n</g>\n<!-- 140415324577872 -->\n<g id=\"node15\" class=\"node\">\n<title>140415324577872</title>\n<polygon fill=\"#d3d3d3\" stroke=\"#000000\" points=\"214,-509.5 119,-509.5 119,-490.5 214,-490.5 214,-509.5\"/>\n<text text-anchor=\"middle\" x=\"166.5\" y=\"-497.5\" font-family=\"monospace\" font-size=\"10.00\" fill=\"#000000\">ReluBackward0</text>\n</g>\n<!-- 140415324577872&#45;&gt;140415325937360 -->\n<g id=\"edge13\" class=\"edge\">\n<title>140415324577872&#45;&gt;140415325937360</title>\n<path fill=\"none\" stroke=\"#000000\" d=\"M169.5986,-490.2615C172.6695,-480.6102 177.4588,-465.558 181.3112,-453.4506\"/>\n<polygon fill=\"#000000\" stroke=\"#000000\" points=\"184.6918,-454.369 184.3887,-443.7785 178.0213,-452.2465 184.6918,-454.369\"/>\n</g>\n<!-- 140415333228368 -->\n<g id=\"node16\" class=\"node\">\n<title>140415333228368</title>\n<polygon fill=\"#d3d3d3\" stroke=\"#000000\" points=\"209,-575.5 114,-575.5 114,-556.5 209,-556.5 209,-575.5\"/>\n<text text-anchor=\"middle\" x=\"161.5\" y=\"-563.5\" font-family=\"monospace\" font-size=\"10.00\" fill=\"#000000\">AddmmBackward</text>\n</g>\n<!-- 140415333228368&#45;&gt;140415324577872 -->\n<g id=\"edge14\" class=\"edge\">\n<title>140415333228368&#45;&gt;140415324577872</title>\n<path fill=\"none\" stroke=\"#000000\" d=\"M162.2378,-556.2615C162.9615,-546.7077 164.0862,-531.8615 164.9986,-519.8183\"/>\n<polygon fill=\"#000000\" stroke=\"#000000\" points=\"168.4937,-520.0143 165.7592,-509.7785 161.5137,-519.4855 168.4937,-520.0143\"/>\n</g>\n<!-- 140415333228048 -->\n<g id=\"node17\" class=\"node\">\n<title>140415333228048</title>\n<polygon fill=\"#d3d3d3\" stroke=\"#000000\" points=\"112,-641.5 11,-641.5 11,-622.5 112,-622.5 112,-641.5\"/>\n<text text-anchor=\"middle\" x=\"61.5\" y=\"-629.5\" font-family=\"monospace\" font-size=\"10.00\" fill=\"#000000\">AccumulateGrad</text>\n</g>\n<!-- 140415333228048&#45;&gt;140415333228368 -->\n<g id=\"edge15\" class=\"edge\">\n<title>140415333228048&#45;&gt;140415333228368</title>\n<path fill=\"none\" stroke=\"#000000\" d=\"M76.2553,-622.2615C92.6709,-611.4272 119.3988,-593.7868 138.5509,-581.1464\"/>\n<polygon fill=\"#000000\" stroke=\"#000000\" points=\"140.5911,-583.9935 147.0092,-575.5639 136.7352,-578.1512 140.5911,-583.9935\"/>\n</g>\n<!-- 140415325900880 -->\n<g id=\"node18\" class=\"node\">\n<title>140415325900880</title>\n<polygon fill=\"#add8e6\" stroke=\"#000000\" points=\"102,-713 19,-713 19,-683 102,-683 102,-713\"/>\n<text text-anchor=\"middle\" x=\"60.5\" y=\"-701\" font-family=\"monospace\" font-size=\"10.00\" fill=\"#000000\">layer1.bias</text>\n<text text-anchor=\"middle\" x=\"60.5\" y=\"-690\" font-family=\"monospace\" font-size=\"10.00\" fill=\"#000000\"> (24)</text>\n</g>\n<!-- 140415325900880&#45;&gt;140415333228048 -->\n<g id=\"edge16\" class=\"edge\">\n<title>140415325900880&#45;&gt;140415333228048</title>\n<path fill=\"none\" stroke=\"#000000\" d=\"M60.7319,-682.6924C60.8711,-673.5067 61.0496,-661.7245 61.1995,-651.8312\"/>\n<polygon fill=\"#000000\" stroke=\"#000000\" points=\"64.701,-651.755 61.353,-641.7031 57.7018,-651.6489 64.701,-651.755\"/>\n</g>\n<!-- 140415333225936 -->\n<g id=\"node19\" class=\"node\">\n<title>140415333225936</title>\n<polygon fill=\"#d3d3d3\" stroke=\"#000000\" points=\"204,-641.5 133,-641.5 133,-622.5 204,-622.5 204,-641.5\"/>\n<text text-anchor=\"middle\" x=\"168.5\" y=\"-629.5\" font-family=\"monospace\" font-size=\"10.00\" fill=\"#000000\">TBackward</text>\n</g>\n<!-- 140415333225936&#45;&gt;140415333228368 -->\n<g id=\"edge17\" class=\"edge\">\n<title>140415333225936&#45;&gt;140415333228368</title>\n<path fill=\"none\" stroke=\"#000000\" d=\"M167.4671,-622.2615C166.4538,-612.7077 164.8793,-597.8615 163.6019,-585.8183\"/>\n<polygon fill=\"#000000\" stroke=\"#000000\" points=\"167.0724,-585.3535 162.5371,-575.7785 160.1114,-586.0919 167.0724,-585.3535\"/>\n</g>\n<!-- 140415342187664 -->\n<g id=\"node20\" class=\"node\">\n<title>140415342187664</title>\n<polygon fill=\"#d3d3d3\" stroke=\"#000000\" points=\"221,-707.5 120,-707.5 120,-688.5 221,-688.5 221,-707.5\"/>\n<text text-anchor=\"middle\" x=\"170.5\" y=\"-695.5\" font-family=\"monospace\" font-size=\"10.00\" fill=\"#000000\">AccumulateGrad</text>\n</g>\n<!-- 140415342187664&#45;&gt;140415333225936 -->\n<g id=\"edge18\" class=\"edge\">\n<title>140415342187664&#45;&gt;140415333225936</title>\n<path fill=\"none\" stroke=\"#000000\" d=\"M170.2049,-688.2615C169.9154,-678.7077 169.4655,-663.8615 169.1006,-651.8183\"/>\n<polygon fill=\"#000000\" stroke=\"#000000\" points=\"172.5977,-651.6678 168.7963,-641.7785 165.6009,-651.8799 172.5977,-651.6678\"/>\n</g>\n<!-- 140415325901440 -->\n<g id=\"node21\" class=\"node\">\n<title>140415325901440</title>\n<polygon fill=\"#add8e6\" stroke=\"#000000\" points=\"218,-779 123,-779 123,-749 218,-749 218,-779\"/>\n<text text-anchor=\"middle\" x=\"170.5\" y=\"-767\" font-family=\"monospace\" font-size=\"10.00\" fill=\"#000000\">layer1.weight</text>\n<text text-anchor=\"middle\" x=\"170.5\" y=\"-756\" font-family=\"monospace\" font-size=\"10.00\" fill=\"#000000\"> (24, 12)</text>\n</g>\n<!-- 140415325901440&#45;&gt;140415342187664 -->\n<g id=\"edge19\" class=\"edge\">\n<title>140415325901440&#45;&gt;140415342187664</title>\n<path fill=\"none\" stroke=\"#000000\" d=\"M170.5,-748.6924C170.5,-739.5067 170.5,-727.7245 170.5,-717.8312\"/>\n<polygon fill=\"#000000\" stroke=\"#000000\" points=\"174.0001,-717.703 170.5,-707.7031 167.0001,-717.7031 174.0001,-717.703\"/>\n</g>\n<!-- 140415324579792 -->\n<g id=\"node22\" class=\"node\">\n<title>140415324579792</title>\n<polygon fill=\"#d3d3d3\" stroke=\"#000000\" points=\"303,-509.5 232,-509.5 232,-490.5 303,-490.5 303,-509.5\"/>\n<text text-anchor=\"middle\" x=\"267.5\" y=\"-497.5\" font-family=\"monospace\" font-size=\"10.00\" fill=\"#000000\">TBackward</text>\n</g>\n<!-- 140415324579792&#45;&gt;140415325937360 -->\n<g id=\"edge20\" class=\"edge\">\n<title>140415324579792&#45;&gt;140415325937360</title>\n<path fill=\"none\" stroke=\"#000000\" d=\"M255.6957,-490.2615C242.8604,-479.6723 222.1442,-462.5815 206.9083,-450.0119\"/>\n<polygon fill=\"#000000\" stroke=\"#000000\" points=\"209.0337,-447.228 199.0926,-443.5639 204.579,-452.6276 209.0337,-447.228\"/>\n</g>\n<!-- 140415333227856 -->\n<g id=\"node23\" class=\"node\">\n<title>140415333227856</title>\n<polygon fill=\"#d3d3d3\" stroke=\"#000000\" points=\"328,-575.5 227,-575.5 227,-556.5 328,-556.5 328,-575.5\"/>\n<text text-anchor=\"middle\" x=\"277.5\" y=\"-563.5\" font-family=\"monospace\" font-size=\"10.00\" fill=\"#000000\">AccumulateGrad</text>\n</g>\n<!-- 140415333227856&#45;&gt;140415324579792 -->\n<g id=\"edge21\" class=\"edge\">\n<title>140415333227856&#45;&gt;140415324579792</title>\n<path fill=\"none\" stroke=\"#000000\" d=\"M276.0245,-556.2615C274.5769,-546.7077 272.3275,-531.8615 270.5028,-519.8183\"/>\n<polygon fill=\"#000000\" stroke=\"#000000\" points=\"273.9402,-519.1413 268.9816,-509.7785 267.0192,-520.19 273.9402,-519.1413\"/>\n</g>\n<!-- 140415325901600 -->\n<g id=\"node24\" class=\"node\">\n<title>140415325901600</title>\n<polygon fill=\"#add8e6\" stroke=\"#000000\" points=\"325,-647 230,-647 230,-617 325,-617 325,-647\"/>\n<text text-anchor=\"middle\" x=\"277.5\" y=\"-635\" font-family=\"monospace\" font-size=\"10.00\" fill=\"#000000\">layer2.weight</text>\n<text text-anchor=\"middle\" x=\"277.5\" y=\"-624\" font-family=\"monospace\" font-size=\"10.00\" fill=\"#000000\"> (48, 24)</text>\n</g>\n<!-- 140415325901600&#45;&gt;140415333227856 -->\n<g id=\"edge22\" class=\"edge\">\n<title>140415325901600&#45;&gt;140415333227856</title>\n<path fill=\"none\" stroke=\"#000000\" d=\"M277.5,-616.6924C277.5,-607.5067 277.5,-595.7245 277.5,-585.8312\"/>\n<polygon fill=\"#000000\" stroke=\"#000000\" points=\"281.0001,-585.703 277.5,-575.7031 274.0001,-585.7031 281.0001,-585.703\"/>\n</g>\n<!-- 140415325936144 -->\n<g id=\"node25\" class=\"node\">\n<title>140415325936144</title>\n<polygon fill=\"#d3d3d3\" stroke=\"#000000\" points=\"329,-377.5 258,-377.5 258,-358.5 329,-358.5 329,-377.5\"/>\n<text text-anchor=\"middle\" x=\"293.5\" y=\"-365.5\" font-family=\"monospace\" font-size=\"10.00\" fill=\"#000000\">TBackward</text>\n</g>\n<!-- 140415325936144&#45;&gt;140415325936528 -->\n<g id=\"edge23\" class=\"edge\">\n<title>140415325936144&#45;&gt;140415325936528</title>\n<path fill=\"none\" stroke=\"#000000\" d=\"M281.6957,-358.2615C268.8604,-347.6723 248.1442,-330.5815 232.9083,-318.0119\"/>\n<polygon fill=\"#000000\" stroke=\"#000000\" points=\"235.0337,-315.228 225.0926,-311.5639 230.579,-320.6276 235.0337,-315.228\"/>\n</g>\n<!-- 140415325937296 -->\n<g id=\"node26\" class=\"node\">\n<title>140415325937296</title>\n<polygon fill=\"#d3d3d3\" stroke=\"#000000\" points=\"397,-443.5 296,-443.5 296,-424.5 397,-424.5 397,-443.5\"/>\n<text text-anchor=\"middle\" x=\"346.5\" y=\"-431.5\" font-family=\"monospace\" font-size=\"10.00\" fill=\"#000000\">AccumulateGrad</text>\n</g>\n<!-- 140415325937296&#45;&gt;140415325936144 -->\n<g id=\"edge24\" class=\"edge\">\n<title>140415325937296&#45;&gt;140415325936144</title>\n<path fill=\"none\" stroke=\"#000000\" d=\"M338.6797,-424.2615C330.538,-414.1228 317.61,-398.0238 307.6652,-385.6397\"/>\n<polygon fill=\"#000000\" stroke=\"#000000\" points=\"310.3428,-383.3842 301.3524,-377.7785 304.8848,-387.7671 310.3428,-383.3842\"/>\n</g>\n<!-- 140415325902560 -->\n<g id=\"node27\" class=\"node\">\n<title>140415325902560</title>\n<polygon fill=\"#add8e6\" stroke=\"#000000\" points=\"416,-515 321,-515 321,-485 416,-485 416,-515\"/>\n<text text-anchor=\"middle\" x=\"368.5\" y=\"-503\" font-family=\"monospace\" font-size=\"10.00\" fill=\"#000000\">layer3.weight</text>\n<text text-anchor=\"middle\" x=\"368.5\" y=\"-492\" font-family=\"monospace\" font-size=\"10.00\" fill=\"#000000\"> (32, 48)</text>\n</g>\n<!-- 140415325902560&#45;&gt;140415325937296 -->\n<g id=\"edge25\" class=\"edge\">\n<title>140415325902560&#45;&gt;140415325937296</title>\n<path fill=\"none\" stroke=\"#000000\" d=\"M363.3975,-484.6924C360.2697,-475.3092 356.2388,-463.2165 352.8985,-453.1956\"/>\n<polygon fill=\"#000000\" stroke=\"#000000\" points=\"356.2171,-452.0831 349.7344,-443.7031 349.5763,-454.2967 356.2171,-452.0831\"/>\n</g>\n<!-- 140415327410704 -->\n<g id=\"node28\" class=\"node\">\n<title>140415327410704</title>\n<polygon fill=\"#d3d3d3\" stroke=\"#000000\" points=\"381,-251 310,-251 310,-232 381,-232 381,-251\"/>\n<text text-anchor=\"middle\" x=\"345.5\" y=\"-239\" font-family=\"monospace\" font-size=\"10.00\" fill=\"#000000\">TBackward</text>\n</g>\n<!-- 140415327410704&#45;&gt;140415324123344 -->\n<g id=\"edge26\" class=\"edge\">\n<title>140415327410704&#45;&gt;140415324123344</title>\n<path fill=\"none\" stroke=\"#000000\" d=\"M323.3783,-231.9197C303.1064,-223.1406 272.8692,-210.0457 250.0628,-200.1689\"/>\n<polygon fill=\"#000000\" stroke=\"#000000\" points=\"251.3617,-196.9174 240.7943,-196.155 248.5798,-203.3409 251.3617,-196.9174\"/>\n</g>\n<!-- 140415333226000 -->\n<g id=\"node29\" class=\"node\">\n<title>140415333226000</title>\n<polygon fill=\"#d3d3d3\" stroke=\"#000000\" points=\"423,-311.5 322,-311.5 322,-292.5 423,-292.5 423,-311.5\"/>\n<text text-anchor=\"middle\" x=\"372.5\" y=\"-299.5\" font-family=\"monospace\" font-size=\"10.00\" fill=\"#000000\">AccumulateGrad</text>\n</g>\n<!-- 140415333226000&#45;&gt;140415327410704 -->\n<g id=\"edge27\" class=\"edge\">\n<title>140415333226000&#45;&gt;140415327410704</title>\n<path fill=\"none\" stroke=\"#000000\" d=\"M368.162,-292.2796C364.3663,-283.7746 358.7412,-271.17 354.0449,-260.6469\"/>\n<polygon fill=\"#000000\" stroke=\"#000000\" points=\"357.1886,-259.1027 349.9169,-251.3972 350.7962,-261.9555 357.1886,-259.1027\"/>\n</g>\n<!-- 140415325902320 -->\n<g id=\"node30\" class=\"node\">\n<title>140415325902320</title>\n<polygon fill=\"#add8e6\" stroke=\"#000000\" points=\"442,-383 347,-383 347,-353 442,-353 442,-383\"/>\n<text text-anchor=\"middle\" x=\"394.5\" y=\"-371\" font-family=\"monospace\" font-size=\"10.00\" fill=\"#000000\">output.weight</text>\n<text text-anchor=\"middle\" x=\"394.5\" y=\"-360\" font-family=\"monospace\" font-size=\"10.00\" fill=\"#000000\"> (2, 32)</text>\n</g>\n<!-- 140415325902320&#45;&gt;140415333226000 -->\n<g id=\"edge28\" class=\"edge\">\n<title>140415325902320&#45;&gt;140415333226000</title>\n<path fill=\"none\" stroke=\"#000000\" d=\"M389.3975,-352.6924C386.2697,-343.3092 382.2388,-331.2165 378.8985,-321.1956\"/>\n<polygon fill=\"#000000\" stroke=\"#000000\" points=\"382.2171,-320.0831 375.7344,-311.7031 375.5763,-322.2967 382.2171,-320.0831\"/>\n</g>\n</g>\n</svg>\n"
          },
          "metadata": {
            "tags": []
          },
          "execution_count": 146
        }
      ]
    }
  ]
}