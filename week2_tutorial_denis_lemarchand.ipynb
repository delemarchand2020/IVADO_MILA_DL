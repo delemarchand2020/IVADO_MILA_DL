{
  "nbformat": 4,
  "nbformat_minor": 0,
  "metadata": {
    "colab": {
      "name": "week2_tutorial_denis_lemarchand.ipynb",
      "provenance": [],
      "collapsed_sections": [],
      "toc_visible": true,
      "include_colab_link": true
    },
    "language_info": {
      "codemirror_mode": {
        "name": "ipython",
        "version": 3
      },
      "file_extension": ".py",
      "mimetype": "text/x-python",
      "name": "python",
      "nbconvert_exporter": "python",
      "pygments_lexer": "ipython3",
      "version": "3.7.0"
    },
    "kernelspec": {
      "display_name": "Python 3",
      "language": "python",
      "name": "python3"
    },
    "accelerator": "GPU"
  },
  "cells": [
    {
      "cell_type": "markdown",
      "metadata": {
        "id": "view-in-github",
        "colab_type": "text"
      },
      "source": [
        "<a href=\"https://colab.research.google.com/github/delemarchand2020/IVADO_MILA_DL/blob/main/week2_tutorial_denis_lemarchand.ipynb\" target=\"_parent\"><img src=\"https://colab.research.google.com/assets/colab-badge.svg\" alt=\"Open In Colab\"/></a>"
      ]
    },
    {
      "cell_type": "markdown",
      "metadata": {
        "id": "mipSoOVlavkb"
      },
      "source": [
        "# IVADO/MILA DEEP LEARNING SCHOOL\n",
        "# Spring 2021\n",
        "# Tutorial : Categorical data with multilayer perceptron (MLP)\n",
        "\n",
        "## Authors: \n",
        "\n",
        "Arsène Fansi Tchango <arsene.fansi.tchango@mila.quebec>\n",
        "\n",
        "Gaétan Marceau Caron <gaetan.marceau.caron@mila.quebec>"
      ]
    },
    {
      "cell_type": "markdown",
      "metadata": {
        "id": "sLHwvggEZERd"
      },
      "source": [
        "# Preface"
      ]
    },
    {
      "cell_type": "markdown",
      "metadata": {
        "id": "JKNGtQkkohiM"
      },
      "source": [
        "This tutorial introduces the practical aspects of Deep Learning through the realization of a simple end-to-end project. We will use the deep learning library <a href=\"https://pytorch.org/\"> `PyTorch`</a>, which is well-known for its ease of use."
      ]
    },
    {
      "cell_type": "markdown",
      "metadata": {
        "id": "Tu9DZNmYpePz"
      },
      "source": [
        "# Initialization"
      ]
    },
    {
      "cell_type": "markdown",
      "metadata": {
        "id": "iWCNdeTIpkCa"
      },
      "source": [
        "Before we begin, we must install all the required libraries for this part of the tutorial. To do so, we will use the `pip` utility. Execute the cell below by selecting it and pressing `shift`+`Enter`. (This operation may take a few minutes.)\n",
        "\n",
        "We need to be using the latest version of `pillow` for this tutorial. If you are prompted with:\n",
        "\n",
        "> WARNING: The following packages were previously imported in this runtime:\n",
        "  [PIL]\n",
        "You must restart the runtime in order to use newly installed versions.\n",
        "\n",
        "Then click on restart runtime and rerun the cells afterwards."
      ]
    },
    {
      "cell_type": "code",
      "metadata": {
        "id": "9g_0k-_Eppi-",
        "colab": {
          "base_uri": "https://localhost:8080/"
        },
        "outputId": "74597c8c-1233-44ea-e244-e90ed6bce978"
      },
      "source": [
        "!pip3 install torch torchvision matplotlib\n",
        "!pip3 install --upgrade pillow==8.1.0"
      ],
      "execution_count": 1,
      "outputs": [
        {
          "output_type": "stream",
          "text": [
            "Requirement already satisfied: torch in /usr/local/lib/python3.7/dist-packages (1.8.1+cu101)\n",
            "Requirement already satisfied: torchvision in /usr/local/lib/python3.7/dist-packages (0.9.1+cu101)\n",
            "Requirement already satisfied: matplotlib in /usr/local/lib/python3.7/dist-packages (3.2.2)\n",
            "Requirement already satisfied: typing-extensions in /usr/local/lib/python3.7/dist-packages (from torch) (3.7.4.3)\n",
            "Requirement already satisfied: numpy in /usr/local/lib/python3.7/dist-packages (from torch) (1.19.5)\n",
            "Requirement already satisfied: pillow>=4.1.1 in /usr/local/lib/python3.7/dist-packages (from torchvision) (8.1.0)\n",
            "Requirement already satisfied: cycler>=0.10 in /usr/local/lib/python3.7/dist-packages (from matplotlib) (0.10.0)\n",
            "Requirement already satisfied: python-dateutil>=2.1 in /usr/local/lib/python3.7/dist-packages (from matplotlib) (2.8.1)\n",
            "Requirement already satisfied: kiwisolver>=1.0.1 in /usr/local/lib/python3.7/dist-packages (from matplotlib) (1.3.1)\n",
            "Requirement already satisfied: pyparsing!=2.0.4,!=2.1.2,!=2.1.6,>=2.0.1 in /usr/local/lib/python3.7/dist-packages (from matplotlib) (2.4.7)\n",
            "Requirement already satisfied: six in /usr/local/lib/python3.7/dist-packages (from cycler>=0.10->matplotlib) (1.15.0)\n",
            "Requirement already up-to-date: pillow==8.1.0 in /usr/local/lib/python3.7/dist-packages (8.1.0)\n"
          ],
          "name": "stdout"
        }
      ]
    },
    {
      "cell_type": "markdown",
      "metadata": {
        "id": "VKufekB4FnqN"
      },
      "source": [
        "To ensure that all required libraries are available, let's try to load all libraries and modules we will need during this tutorial by executing this cell: "
      ]
    },
    {
      "cell_type": "code",
      "metadata": {
        "id": "loLQlRg3sV-r"
      },
      "source": [
        "import importlib\n",
        "required_libraries = ['torch', 'torchvision', 'PIL', 'matplotlib', \n",
        "                      'numpy', 'pandas']\n",
        "for lib in required_libraries:\n",
        "    if importlib.util.find_spec(lib) is None:\n",
        "        print(\"%s unavailable\" % lib)\n",
        "\n",
        "import matplotlib.pyplot as plt\n",
        "%matplotlib inline"
      ],
      "execution_count": 2,
      "outputs": []
    },
    {
      "cell_type": "code",
      "metadata": {
        "id": "FeLUcnk5scNx",
        "colab": {
          "base_uri": "https://localhost:8080/"
        },
        "outputId": "d3ba8251-4b74-4a40-e395-8f54b7652689"
      },
      "source": [
        "import torch\n",
        "import numpy as np\n",
        "import pandas as pd\n",
        "import torch.nn as nn\n",
        "import torch.nn.functional as F\n",
        "import torch.optim as optim\n",
        "import torchvision\n",
        "\n",
        "from torch.utils.data import TensorDataset\n",
        "\n",
        "use_gpu = torch.cuda.is_available()\n",
        "device = torch.device(\"cuda:0\" if use_gpu else \"cpu\")\n",
        "\n",
        "print(\"Torch version: \", torch.__version__)\n",
        "print(\"GPU Available: {}\".format(use_gpu))"
      ],
      "execution_count": 3,
      "outputs": [
        {
          "output_type": "stream",
          "text": [
            "Torch version:  1.8.1+cu101\n",
            "GPU Available: True\n"
          ],
          "name": "stdout"
        }
      ]
    },
    {
      "cell_type": "markdown",
      "metadata": {
        "id": "xc9wc4qq7qob"
      },
      "source": [
        "Fix the seed for the different libraries"
      ]
    },
    {
      "cell_type": "code",
      "metadata": {
        "id": "05jTJ12r7msf"
      },
      "source": [
        "seed = 4321\n",
        "np.random.seed(seed) # Set the random seed of numpy for the data split.\n",
        "torch.manual_seed(seed)\n",
        "torch.cuda.manual_seed(seed)"
      ],
      "execution_count": 4,
      "outputs": []
    },
    {
      "cell_type": "markdown",
      "metadata": {
        "id": "ZKzgFV9Favkt"
      },
      "source": [
        "# PyTorch in a nutshell"
      ]
    },
    {
      "cell_type": "markdown",
      "metadata": {
        "id": "Vrus_-F0avkt"
      },
      "source": [
        "*PyTorch* is a Python library that supports a vibrant ecosystem of tools and libraries for machine learning (ML) in vision, NLP, and more. It provides two high-level features:\n",
        "<ul>\n",
        "<li> operations on <a href=\"https://pytorch.org/tutorials/beginner/blitz/tensor_tutorial.html#sphx-glr-beginner-blitz-tensor-tutorial-py\">tensors</a> (such as NumPy) with GPU support,</li>\n",
        "<li> operations for creating and optimizing computational graphs with an automatic differentiation system called <a href=\"https://pytorch.org/tutorials/beginner/blitz/autograd_tutorial.html#sphx-glr-beginner-blitz-autograd-tutorial-py\">Autograd</a>.</li>\n",
        "</ul>\n",
        "\n",
        "<a href=\"https://pytorch.org/docs/stable/torch.html\">PyTorch docs</a> contain the API documentation and <a href=\"https://pytorch.org/tutorials/\">many tutorials</a>.\n",
        "Also, PyTorch offers several data processing utilities. One of these utilities is the class <a href=\"http://pytorch.org/docs/master/data.html#\"> `torch.utils.data.Dataset`</a> which offers an easy to use interface to handle a data set. For more information, please refer to the following urls: \n",
        "<ul>\n",
        "<li>PyTorch data sets: <a href=\"http://pytorch.org/docs/master/data.html\"> PyTorch - datasets</a>.</li>\n",
        "<li>A tutorial for loading data: <a href=\"http://pytorch.org/tutorials/beginner/data_loading_tutorial.html\"> PyTorch - data loading tutorial</a>.</li>\n",
        "</ul>\n",
        "\n",
        "<a href=\"http://pytorch.org/docs/master/cuda.html#module-torch.cuda\">`torch.cuda`</a> is a package that provides the same functions as CPU tensors but for  CUDA tensors, which are used for GPU computing. <a href=\"http://pytorch.org/docs/master/cuda.html#torch.cuda.is_available\">`torch.cuda.is_available()`</a> returns a boolean indicating if CUDA is currently available. Finally, we recommend using a `device` variable that identifies the device that will perform computations. We can assign a tensor to a device with the method `.to(device)`. By default, the tensors are CPU tensors."
      ]
    },
    {
      "cell_type": "markdown",
      "metadata": {
        "id": "Qm122vNmq92L"
      },
      "source": [
        "# Ingredients for a proof of concept (POC)"
      ]
    },
    {
      "cell_type": "markdown",
      "metadata": {
        "id": "nqvhR0ebavmE"
      },
      "source": [
        "To realize a ML POC, you need:\n",
        "<ul>\n",
        "<li>a task description as well as data to support it,</li>\n",
        "<li>evaluation metrics to assess the performance of models,</li>\n",
        "<li>a model description,</li>\n",
        "<li>a loss function to minimize,</li>\n",
        "<li>an optimizer that adjusts the parameters of the model.</li>\n",
        "</ul>"
      ]
    },
    {
      "cell_type": "markdown",
      "metadata": {
        "id": "Y8_pfpu2f6AO"
      },
      "source": [
        "# How to prepare the dataset?"
      ]
    },
    {
      "cell_type": "markdown",
      "metadata": {
        "id": "B5piZxYUhSzq"
      },
      "source": [
        "In this tutorial, we study the tragedy of the Titanic through a data-driven approach. Our task is to determine whether or not a passenger survived the Titanic sinking based on passenger data only. The results will show how the passengers' fate was pre-determined by the features selected in this study, without considering other factors."
      ]
    },
    {
      "cell_type": "markdown",
      "metadata": {
        "id": "y4GuYNDFavlU"
      },
      "source": [
        "## Titanic dataset"
      ]
    },
    {
      "cell_type": "markdown",
      "metadata": {
        "id": "NiOJx2ytavlU"
      },
      "source": [
        "First, we download the Titanic dataset from the following address:\n",
        "<br/>\n",
        "https://github.com/afansi/winterschool18/blob/master/titanic3.csv?raw=true.<br/>\n",
        "This dataset provides information on the fate of 1309 passengers of the first and only journey of the liner RMS Titanic, summarized by economic status (class), gender, age, family information, and survival. We use this dataset because we can train models very quickly for the purpose of this tutorial. The Kaggle platform also uses this dataset as an introduction to classical machine learning. <br/>\n",
        "\n",
        "Let's take a look at the features and some examples from this dataset. To do so, we use the library <a href=\"https://pandas.pydata.org/\">Pandas</a> to load the dataset into memory."
      ]
    },
    {
      "cell_type": "code",
      "metadata": {
        "id": "bX_RSiffavlW",
        "colab": {
          "base_uri": "https://localhost:8080/",
          "height": 534
        },
        "outputId": "85c50d68-0187-46bc-9a03-93a5843adbf4"
      },
      "source": [
        "titanic_df = pd.read_csv(\n",
        "    'https://github.com/afansi/winterschool18/blob/master/titanic3.csv?raw=true', \n",
        "    sep='\\t', \n",
        "    index_col=None, \n",
        "    na_values=['NA']\n",
        ")\n",
        "\n",
        "# a snapshot of the first 5 data points\n",
        "titanic_df.head()\n",
        "\n"
      ],
      "execution_count": 5,
      "outputs": [
        {
          "output_type": "execute_result",
          "data": {
            "text/html": [
              "<div>\n",
              "<style scoped>\n",
              "    .dataframe tbody tr th:only-of-type {\n",
              "        vertical-align: middle;\n",
              "    }\n",
              "\n",
              "    .dataframe tbody tr th {\n",
              "        vertical-align: top;\n",
              "    }\n",
              "\n",
              "    .dataframe thead th {\n",
              "        text-align: right;\n",
              "    }\n",
              "</style>\n",
              "<table border=\"1\" class=\"dataframe\">\n",
              "  <thead>\n",
              "    <tr style=\"text-align: right;\">\n",
              "      <th></th>\n",
              "      <th>pclass</th>\n",
              "      <th>survived</th>\n",
              "      <th>name</th>\n",
              "      <th>sex</th>\n",
              "      <th>age</th>\n",
              "      <th>sibsp</th>\n",
              "      <th>parch</th>\n",
              "      <th>ticket</th>\n",
              "      <th>fare</th>\n",
              "      <th>cabin</th>\n",
              "      <th>embarked</th>\n",
              "      <th>boat</th>\n",
              "      <th>body</th>\n",
              "      <th>home.dest</th>\n",
              "    </tr>\n",
              "  </thead>\n",
              "  <tbody>\n",
              "    <tr>\n",
              "      <th>0</th>\n",
              "      <td>1</td>\n",
              "      <td>1</td>\n",
              "      <td>Allen, Miss. Elisabeth Walton</td>\n",
              "      <td>female</td>\n",
              "      <td>29.0000</td>\n",
              "      <td>0</td>\n",
              "      <td>0</td>\n",
              "      <td>24160</td>\n",
              "      <td>211.3375</td>\n",
              "      <td>B5</td>\n",
              "      <td>S</td>\n",
              "      <td>2</td>\n",
              "      <td>NaN</td>\n",
              "      <td>St Louis, MO</td>\n",
              "    </tr>\n",
              "    <tr>\n",
              "      <th>1</th>\n",
              "      <td>1</td>\n",
              "      <td>1</td>\n",
              "      <td>Allison, Master. Hudson Trevor</td>\n",
              "      <td>male</td>\n",
              "      <td>0.9167</td>\n",
              "      <td>1</td>\n",
              "      <td>2</td>\n",
              "      <td>113781</td>\n",
              "      <td>151.5500</td>\n",
              "      <td>C22 C26</td>\n",
              "      <td>S</td>\n",
              "      <td>11</td>\n",
              "      <td>NaN</td>\n",
              "      <td>Montreal, PQ / Chesterville, ON</td>\n",
              "    </tr>\n",
              "    <tr>\n",
              "      <th>2</th>\n",
              "      <td>1</td>\n",
              "      <td>0</td>\n",
              "      <td>Allison, Miss. Helen Loraine</td>\n",
              "      <td>female</td>\n",
              "      <td>2.0000</td>\n",
              "      <td>1</td>\n",
              "      <td>2</td>\n",
              "      <td>113781</td>\n",
              "      <td>151.5500</td>\n",
              "      <td>C22 C26</td>\n",
              "      <td>S</td>\n",
              "      <td>NaN</td>\n",
              "      <td>NaN</td>\n",
              "      <td>Montreal, PQ / Chesterville, ON</td>\n",
              "    </tr>\n",
              "    <tr>\n",
              "      <th>3</th>\n",
              "      <td>1</td>\n",
              "      <td>0</td>\n",
              "      <td>Allison, Mr. Hudson Joshua Creighton</td>\n",
              "      <td>male</td>\n",
              "      <td>30.0000</td>\n",
              "      <td>1</td>\n",
              "      <td>2</td>\n",
              "      <td>113781</td>\n",
              "      <td>151.5500</td>\n",
              "      <td>C22 C26</td>\n",
              "      <td>S</td>\n",
              "      <td>NaN</td>\n",
              "      <td>135.0</td>\n",
              "      <td>Montreal, PQ / Chesterville, ON</td>\n",
              "    </tr>\n",
              "    <tr>\n",
              "      <th>4</th>\n",
              "      <td>1</td>\n",
              "      <td>0</td>\n",
              "      <td>Allison, Mrs. Hudson J C (Bessie Waldo Daniels)</td>\n",
              "      <td>female</td>\n",
              "      <td>25.0000</td>\n",
              "      <td>1</td>\n",
              "      <td>2</td>\n",
              "      <td>113781</td>\n",
              "      <td>151.5500</td>\n",
              "      <td>C22 C26</td>\n",
              "      <td>S</td>\n",
              "      <td>NaN</td>\n",
              "      <td>NaN</td>\n",
              "      <td>Montreal, PQ / Chesterville, ON</td>\n",
              "    </tr>\n",
              "  </tbody>\n",
              "</table>\n",
              "</div>"
            ],
            "text/plain": [
              "   pclass  survived  ...   body                        home.dest\n",
              "0       1         1  ...    NaN                     St Louis, MO\n",
              "1       1         1  ...    NaN  Montreal, PQ / Chesterville, ON\n",
              "2       1         0  ...    NaN  Montreal, PQ / Chesterville, ON\n",
              "3       1         0  ...  135.0  Montreal, PQ / Chesterville, ON\n",
              "4       1         0  ...    NaN  Montreal, PQ / Chesterville, ON\n",
              "\n",
              "[5 rows x 14 columns]"
            ]
          },
          "metadata": {
            "tags": []
          },
          "execution_count": 5
        }
      ]
    },
    {
      "cell_type": "markdown",
      "metadata": {
        "id": "yj88WmCmavlf"
      },
      "source": [
        "Here's the list of the features with their description:\n",
        "\n",
        "<ol>\n",
        "\n",
        "  <li> <b>pclass</b>: Passenger class (1 = first; 2 = second; 3 = third) </li>\n",
        "  <li> <b>survived</b>: Survived? (0 = no; 1 = yes) </li>\n",
        "  <li> <b>name</b>: Name </li>\n",
        "  <li> <b>sex</b>: Sex </li>\n",
        "  <li> <b>age</b>: Age </li>\n",
        "  <li> <b>sibsp</b>: Number of brothers, sisters, or spouses onboard </li>\n",
        "  <li> <b>parch</b>: Number of parents or children onboard </li>\n",
        "  <li> <b>ticket</b>: Ticket number </li>\n",
        "  <li> <b>fare</b>: Passenger fare </li>\n",
        "  <li> <b>cabin</b>: Cabin number </li>\n",
        "  <li> <b>embarked</b>: Port of embarkation (C = Cherbourg; Q = Queenstown; S = Southampton) </li>\n",
        "  <li> <b>boat</b>: Lifeboat (if the passenger survived, otherwise the value is Not a Number (NaN) </li>\n",
        "  <li> <b>body</b>: Body number (if the passenger did not survive and his body was found, otherwise the value is NaN) </li>\n",
        "  <li> <b>home.dest</b>: the passenger's destination </li>\n",
        " </ol>\n"
      ]
    },
    {
      "cell_type": "markdown",
      "metadata": {
        "id": "u2ed5fozqjce"
      },
      "source": [
        "## Data pre-processing"
      ]
    },
    {
      "cell_type": "markdown",
      "metadata": {
        "id": "__vcZhPnavlg"
      },
      "source": [
        "### Feature selection\n",
        "Some features are not relevant to the task, for example:\n",
        "<ol>\n",
        "  <li> <b>name</b>: Name </li>\n",
        "  <li> <b>ticket</b>: Ticket number </li>\n",
        "  <li> <b>cabin</b>: Cabin number </li>\n",
        "  <li> <b>home.dest</b>: Passenger's destination </li>\n",
        " </ol>\n",
        " \n",
        "Other features are directly related to the passenger survival and are not interesting for our study because they give away the label to be predicted:\n",
        "<ol>\n",
        "  <li> <b>boat</b>: Lifeboat (if the passenger survived) </li>\n",
        "  <li> <b>body</b>: Body number (if the passenger did not survive and his body was found) </li>\n",
        " </ol>"
      ]
    },
    {
      "cell_type": "code",
      "metadata": {
        "id": "uoD8x0dXofmj"
      },
      "source": [
        "titanic_df.drop(['name', 'ticket', 'cabin', 'home.dest', 'boat', 'body'], axis=1, inplace=True)"
      ],
      "execution_count": 6,
      "outputs": []
    },
    {
      "cell_type": "markdown",
      "metadata": {
        "id": "4PW_IWwqwdHq"
      },
      "source": [
        "### Handling missing values\n",
        "\n",
        "Handling missing values in datasets is difficult since examples with missing values can be informative for subgroups. Suppose that features associated with third-class tickets have many missing values compared to first-class tickets. Removing all examples with missing values will introduce a bias in the dataset and could completely change the correlations between features and the probability of survival. Another approach is to impute missing values by replacing them with simples statistics such as the mean or the median of the feature. Other imputing techniques use the other features to predict the missing values, which is very close to a ML task. See Scikit-learn reference for more details ([Imputation of missing values](https://www.google.com/url?q=https://scikit-learn.org/stable/modules/impute.html&sa=D&source=editors&ust=1617044175668000&usg=AFQjCNHxRm4BcLBrZEPzW7i3C_PJ7oAuPQ)). Thus, handling missing values should be done carefully and often depend on the dataset and domain knowledge. In the following, we discard all examples with missing values, but since it is a substantial number of examples, we are probably introducing a bias in the dataset. To avoid such bias, one can re-annotate the data manually."
      ]
    },
    {
      "cell_type": "code",
      "metadata": {
        "id": "X8YKDg69wjb_",
        "colab": {
          "base_uri": "https://localhost:8080/"
        },
        "outputId": "f7af92b7-c6da-414a-d7dc-29e3b40c712f"
      },
      "source": [
        "n_examples = len(titanic_df)\n",
        "titanic_df = titanic_df.dropna(axis=0, how='any').reset_index(drop=True)\n",
        "print(f'We removed {n_examples-len(titanic_df)} examples over {n_examples} containing missing values.')"
      ],
      "execution_count": 7,
      "outputs": [
        {
          "output_type": "stream",
          "text": [
            "We removed 266 examples over 1309 containing missing values.\n"
          ],
          "name": "stdout"
        }
      ]
    },
    {
      "cell_type": "markdown",
      "metadata": {
        "id": "4MckYm0M_xhR"
      },
      "source": [
        "### Feature encoding\n",
        " \n",
        "Some features are **categorical variables**, which means that they can take a finite number of values.\n",
        " <ol>\n",
        "  <li> <b>pclass</b>: Passenger Class </li>\n",
        "  <li> <b>sex</b>: Sex </li>\n",
        "  <li> <b>embarked</b>: Port of embarkation </li>\n",
        " </ol>\n",
        "\n",
        "To process categorical variables, we need to encode them in a way that does not imply an arbitrary order such as using natural numbers (e.g., 1, 2, 3). <a href=\"https://en.wikipedia.org/wiki/One-hot#Machine_learning_and_statistics\">One-hot encoding</a> is a way to achieve it. To use this encoding, we can simply call the function `get_dummies` in Pandas. The meaning of the encoded variables is as follows:\n",
        "\n",
        "<ol>\n",
        "  <li> <b>survived</b>: Survived? (0 = no; 1 = yes) </li>\n",
        "  <li> <b>pclass_1</b>: (1 if passenger in first class; 0 if not) </li>\n",
        "  <li> <b>pclass_2</b>: (1 if passenger in second class; 0 if not) </li>\n",
        "  <li> <b>pclass_3</b>: (1 if passenger in third class; 0 if not) </li>\n",
        "  <li> <b>sex_female</b>: (1 if passenger is female; 0 if not) </li>\n",
        "  <li> <b>sex_male</b>: (1 if passenger is male; 0 if not) </li>\n",
        "  <li> <b>age</b>: Age </li>\n",
        "  <li> <b>sibsp</b>: Number of brothers, sisters, or spouses onboard </li>\n",
        "  <li> <b>parch</b>: Number of parents or children onboard </li>\n",
        "  <li> <b>fare</b>: Passenger fare </li>\n",
        "  <li> <b>embarked_C</b>: (1 if Port of embarkation = Cherbourg (C); 0 otherwise) </li> \n",
        "  <li> <b>embarked_Q</b>: (1 if Port of embarkation = Queenstown (Q); 0 otherwise) </li> \n",
        "  <li> <b>embarked_S</b>: (1 if Port of embarkation = Southampton (S); 0 otherwise)</li> \n",
        " </ol>"
      ]
    },
    {
      "cell_type": "code",
      "metadata": {
        "id": "G7bFJc5X_qjx",
        "colab": {
          "base_uri": "https://localhost:8080/",
          "height": 222
        },
        "outputId": "37f263df-a933-40e8-ef5f-98bd8c93ae26"
      },
      "source": [
        "titanic_preprocess_df = pd.get_dummies(data=titanic_df, columns=['pclass', 'sex', 'embarked'])\n",
        "titanic_preprocess_df.head()"
      ],
      "execution_count": 8,
      "outputs": [
        {
          "output_type": "execute_result",
          "data": {
            "text/html": [
              "<div>\n",
              "<style scoped>\n",
              "    .dataframe tbody tr th:only-of-type {\n",
              "        vertical-align: middle;\n",
              "    }\n",
              "\n",
              "    .dataframe tbody tr th {\n",
              "        vertical-align: top;\n",
              "    }\n",
              "\n",
              "    .dataframe thead th {\n",
              "        text-align: right;\n",
              "    }\n",
              "</style>\n",
              "<table border=\"1\" class=\"dataframe\">\n",
              "  <thead>\n",
              "    <tr style=\"text-align: right;\">\n",
              "      <th></th>\n",
              "      <th>survived</th>\n",
              "      <th>age</th>\n",
              "      <th>sibsp</th>\n",
              "      <th>parch</th>\n",
              "      <th>fare</th>\n",
              "      <th>pclass_1</th>\n",
              "      <th>pclass_2</th>\n",
              "      <th>pclass_3</th>\n",
              "      <th>sex_female</th>\n",
              "      <th>sex_male</th>\n",
              "      <th>embarked_C</th>\n",
              "      <th>embarked_Q</th>\n",
              "      <th>embarked_S</th>\n",
              "    </tr>\n",
              "  </thead>\n",
              "  <tbody>\n",
              "    <tr>\n",
              "      <th>0</th>\n",
              "      <td>1</td>\n",
              "      <td>29.0000</td>\n",
              "      <td>0</td>\n",
              "      <td>0</td>\n",
              "      <td>211.3375</td>\n",
              "      <td>1</td>\n",
              "      <td>0</td>\n",
              "      <td>0</td>\n",
              "      <td>1</td>\n",
              "      <td>0</td>\n",
              "      <td>0</td>\n",
              "      <td>0</td>\n",
              "      <td>1</td>\n",
              "    </tr>\n",
              "    <tr>\n",
              "      <th>1</th>\n",
              "      <td>1</td>\n",
              "      <td>0.9167</td>\n",
              "      <td>1</td>\n",
              "      <td>2</td>\n",
              "      <td>151.5500</td>\n",
              "      <td>1</td>\n",
              "      <td>0</td>\n",
              "      <td>0</td>\n",
              "      <td>0</td>\n",
              "      <td>1</td>\n",
              "      <td>0</td>\n",
              "      <td>0</td>\n",
              "      <td>1</td>\n",
              "    </tr>\n",
              "    <tr>\n",
              "      <th>2</th>\n",
              "      <td>0</td>\n",
              "      <td>2.0000</td>\n",
              "      <td>1</td>\n",
              "      <td>2</td>\n",
              "      <td>151.5500</td>\n",
              "      <td>1</td>\n",
              "      <td>0</td>\n",
              "      <td>0</td>\n",
              "      <td>1</td>\n",
              "      <td>0</td>\n",
              "      <td>0</td>\n",
              "      <td>0</td>\n",
              "      <td>1</td>\n",
              "    </tr>\n",
              "    <tr>\n",
              "      <th>3</th>\n",
              "      <td>0</td>\n",
              "      <td>30.0000</td>\n",
              "      <td>1</td>\n",
              "      <td>2</td>\n",
              "      <td>151.5500</td>\n",
              "      <td>1</td>\n",
              "      <td>0</td>\n",
              "      <td>0</td>\n",
              "      <td>0</td>\n",
              "      <td>1</td>\n",
              "      <td>0</td>\n",
              "      <td>0</td>\n",
              "      <td>1</td>\n",
              "    </tr>\n",
              "    <tr>\n",
              "      <th>4</th>\n",
              "      <td>0</td>\n",
              "      <td>25.0000</td>\n",
              "      <td>1</td>\n",
              "      <td>2</td>\n",
              "      <td>151.5500</td>\n",
              "      <td>1</td>\n",
              "      <td>0</td>\n",
              "      <td>0</td>\n",
              "      <td>1</td>\n",
              "      <td>0</td>\n",
              "      <td>0</td>\n",
              "      <td>0</td>\n",
              "      <td>1</td>\n",
              "    </tr>\n",
              "  </tbody>\n",
              "</table>\n",
              "</div>"
            ],
            "text/plain": [
              "   survived      age  sibsp  ...  embarked_C  embarked_Q  embarked_S\n",
              "0         1  29.0000      0  ...           0           0           1\n",
              "1         1   0.9167      1  ...           0           0           1\n",
              "2         0   2.0000      1  ...           0           0           1\n",
              "3         0  30.0000      1  ...           0           0           1\n",
              "4         0  25.0000      1  ...           0           0           1\n",
              "\n",
              "[5 rows x 13 columns]"
            ]
          },
          "metadata": {
            "tags": []
          },
          "execution_count": 8
        }
      ]
    },
    {
      "cell_type": "markdown",
      "metadata": {
        "id": "zeBNt5EW6tm9"
      },
      "source": [
        "Now, we can check if all examples have a one-hot encoding for their categorical variables."
      ]
    },
    {
      "cell_type": "code",
      "metadata": {
        "id": "4RjZZEokvJ3e",
        "colab": {
          "base_uri": "https://localhost:8080/",
          "height": 69
        },
        "outputId": "3ecc1a44-ed0d-45ca-8bfb-b6cb5ea1d9f5"
      },
      "source": [
        "titanic_preprocess_df.loc[titanic_preprocess_df[['sex_male','sex_female']].sum(axis=1) != 1]"
      ],
      "execution_count": 9,
      "outputs": [
        {
          "output_type": "execute_result",
          "data": {
            "text/html": [
              "<div>\n",
              "<style scoped>\n",
              "    .dataframe tbody tr th:only-of-type {\n",
              "        vertical-align: middle;\n",
              "    }\n",
              "\n",
              "    .dataframe tbody tr th {\n",
              "        vertical-align: top;\n",
              "    }\n",
              "\n",
              "    .dataframe thead th {\n",
              "        text-align: right;\n",
              "    }\n",
              "</style>\n",
              "<table border=\"1\" class=\"dataframe\">\n",
              "  <thead>\n",
              "    <tr style=\"text-align: right;\">\n",
              "      <th></th>\n",
              "      <th>survived</th>\n",
              "      <th>age</th>\n",
              "      <th>sibsp</th>\n",
              "      <th>parch</th>\n",
              "      <th>fare</th>\n",
              "      <th>pclass_1</th>\n",
              "      <th>pclass_2</th>\n",
              "      <th>pclass_3</th>\n",
              "      <th>sex_female</th>\n",
              "      <th>sex_male</th>\n",
              "      <th>embarked_C</th>\n",
              "      <th>embarked_Q</th>\n",
              "      <th>embarked_S</th>\n",
              "    </tr>\n",
              "  </thead>\n",
              "  <tbody>\n",
              "  </tbody>\n",
              "</table>\n",
              "</div>"
            ],
            "text/plain": [
              "Empty DataFrame\n",
              "Columns: [survived, age, sibsp, parch, fare, pclass_1, pclass_2, pclass_3, sex_female, sex_male, embarked_C, embarked_Q, embarked_S]\n",
              "Index: []"
            ]
          },
          "metadata": {
            "tags": []
          },
          "execution_count": 9
        }
      ]
    },
    {
      "cell_type": "code",
      "metadata": {
        "id": "Z3yueVPfvEhI",
        "colab": {
          "base_uri": "https://localhost:8080/",
          "height": 69
        },
        "outputId": "f2a1ac82-2b8b-4fd3-eaed-f1f337d956e8"
      },
      "source": [
        "titanic_preprocess_df.loc[titanic_preprocess_df[['pclass_1','pclass_2', 'pclass_3']].sum(axis=1) != 1]"
      ],
      "execution_count": 10,
      "outputs": [
        {
          "output_type": "execute_result",
          "data": {
            "text/html": [
              "<div>\n",
              "<style scoped>\n",
              "    .dataframe tbody tr th:only-of-type {\n",
              "        vertical-align: middle;\n",
              "    }\n",
              "\n",
              "    .dataframe tbody tr th {\n",
              "        vertical-align: top;\n",
              "    }\n",
              "\n",
              "    .dataframe thead th {\n",
              "        text-align: right;\n",
              "    }\n",
              "</style>\n",
              "<table border=\"1\" class=\"dataframe\">\n",
              "  <thead>\n",
              "    <tr style=\"text-align: right;\">\n",
              "      <th></th>\n",
              "      <th>survived</th>\n",
              "      <th>age</th>\n",
              "      <th>sibsp</th>\n",
              "      <th>parch</th>\n",
              "      <th>fare</th>\n",
              "      <th>pclass_1</th>\n",
              "      <th>pclass_2</th>\n",
              "      <th>pclass_3</th>\n",
              "      <th>sex_female</th>\n",
              "      <th>sex_male</th>\n",
              "      <th>embarked_C</th>\n",
              "      <th>embarked_Q</th>\n",
              "      <th>embarked_S</th>\n",
              "    </tr>\n",
              "  </thead>\n",
              "  <tbody>\n",
              "  </tbody>\n",
              "</table>\n",
              "</div>"
            ],
            "text/plain": [
              "Empty DataFrame\n",
              "Columns: [survived, age, sibsp, parch, fare, pclass_1, pclass_2, pclass_3, sex_female, sex_male, embarked_C, embarked_Q, embarked_S]\n",
              "Index: []"
            ]
          },
          "metadata": {
            "tags": []
          },
          "execution_count": 10
        }
      ]
    },
    {
      "cell_type": "code",
      "metadata": {
        "id": "r4No15nhu8Hi",
        "colab": {
          "base_uri": "https://localhost:8080/",
          "height": 69
        },
        "outputId": "aa343e81-74d9-435e-85d4-cef67d9ced8c"
      },
      "source": [
        "titanic_preprocess_df.loc[titanic_preprocess_df[['embarked_C','embarked_Q', 'embarked_S']].sum(axis=1) != 1]"
      ],
      "execution_count": 11,
      "outputs": [
        {
          "output_type": "execute_result",
          "data": {
            "text/html": [
              "<div>\n",
              "<style scoped>\n",
              "    .dataframe tbody tr th:only-of-type {\n",
              "        vertical-align: middle;\n",
              "    }\n",
              "\n",
              "    .dataframe tbody tr th {\n",
              "        vertical-align: top;\n",
              "    }\n",
              "\n",
              "    .dataframe thead th {\n",
              "        text-align: right;\n",
              "    }\n",
              "</style>\n",
              "<table border=\"1\" class=\"dataframe\">\n",
              "  <thead>\n",
              "    <tr style=\"text-align: right;\">\n",
              "      <th></th>\n",
              "      <th>survived</th>\n",
              "      <th>age</th>\n",
              "      <th>sibsp</th>\n",
              "      <th>parch</th>\n",
              "      <th>fare</th>\n",
              "      <th>pclass_1</th>\n",
              "      <th>pclass_2</th>\n",
              "      <th>pclass_3</th>\n",
              "      <th>sex_female</th>\n",
              "      <th>sex_male</th>\n",
              "      <th>embarked_C</th>\n",
              "      <th>embarked_Q</th>\n",
              "      <th>embarked_S</th>\n",
              "    </tr>\n",
              "  </thead>\n",
              "  <tbody>\n",
              "  </tbody>\n",
              "</table>\n",
              "</div>"
            ],
            "text/plain": [
              "Empty DataFrame\n",
              "Columns: [survived, age, sibsp, parch, fare, pclass_1, pclass_2, pclass_3, sex_female, sex_male, embarked_C, embarked_Q, embarked_S]\n",
              "Index: []"
            ]
          },
          "metadata": {
            "tags": []
          },
          "execution_count": 11
        }
      ]
    },
    {
      "cell_type": "markdown",
      "metadata": {
        "id": "n4a-35Xa66Tj"
      },
      "source": [
        "Since there are only two examples with no port of embarkation, we decide to discard them."
      ]
    },
    {
      "cell_type": "code",
      "metadata": {
        "colab": {
          "base_uri": "https://localhost:8080/"
        },
        "id": "wODe7zbglC1I",
        "outputId": "6aced995-24e6-48ff-a855-accf7820c4e5"
      },
      "source": [
        "titanic_df.loc[148,:]"
      ],
      "execution_count": 12,
      "outputs": [
        {
          "output_type": "execute_result",
          "data": {
            "text/plain": [
              "pclass            1\n",
              "survived          0\n",
              "sex          female\n",
              "age              50\n",
              "sibsp             0\n",
              "parch             0\n",
              "fare        28.7125\n",
              "embarked          C\n",
              "Name: 148, dtype: object"
            ]
          },
          "metadata": {
            "tags": []
          },
          "execution_count": 12
        }
      ]
    },
    {
      "cell_type": "code",
      "metadata": {
        "id": "BkBNPNPDk9ZN"
      },
      "source": [
        "# Drop rows where there is no port of embarkation associated\n",
        "titanic_preprocess_df = titanic_preprocess_df.drop(index=148).reset_index(drop=True)\n",
        "titanic_preprocess_df = titanic_preprocess_df.drop(index=248).reset_index(drop=True)"
      ],
      "execution_count": 13,
      "outputs": []
    },
    {
      "cell_type": "code",
      "metadata": {
        "id": "l2p2GAKHm-92",
        "colab": {
          "base_uri": "https://localhost:8080/"
        },
        "outputId": "4bdb5c06-903d-49b4-d6f0-26d3621d4426"
      },
      "source": [
        "print(f'There are {len(titanic_preprocess_df)} remaining examples in the dataset.')"
      ],
      "execution_count": 14,
      "outputs": [
        {
          "output_type": "stream",
          "text": [
            "There are 1041 remaining examples in the dataset.\n"
          ],
          "name": "stdout"
        }
      ]
    },
    {
      "cell_type": "markdown",
      "metadata": {
        "id": "QJcs6PUTavlm"
      },
      "source": [
        "## Train / validation / test split"
      ]
    },
    {
      "cell_type": "markdown",
      "metadata": {
        "id": "Bjbgvffmavlo"
      },
      "source": [
        "At this point, we need to divide the dataset into three subsets:\n",
        "\n",
        "<ol>\n",
        "<li> <b> Train</b> (60% of the dataset): used to train the classification model. </li>   \n",
        "<li> <b> Validation</b> (20% of the dataset): used to evaluate hyper-parameters on held-out data. </li>   \n",
        "<li> <b> Test</b> (20% of the dataset): used to evaluate the generalization performance of the chosen model on held-out data. </li>\n",
        "</ol>\n",
        "\n",
        "We use the <a href=\"https://numpy.org/doc/stable/reference/generated/numpy.split.html\">numpy.split function</a> to separate our dataset into subsets."
      ]
    },
    {
      "cell_type": "markdown",
      "metadata": {
        "id": "cs07L8F5488f"
      },
      "source": [
        "### Exercise 1\n",
        "Complete the missing code to create the validation and the test sets"
      ]
    },
    {
      "cell_type": "code",
      "metadata": {
        "id": "GBmL8VBOavlo"
      },
      "source": [
        "train, validate, test = np.split(\n",
        "    titanic_preprocess_df.sample(frac=1, random_state=seed), # cela revient a un shuffle du set de donnees\n",
        "    [int(.6*len(titanic_preprocess_df)), int(.8*len(titanic_preprocess_df))])\n",
        "\n",
        "# Remove the label column from X and create a label vectors.\n",
        "X_train = train.drop(['survived'], axis=1).to_numpy()\n",
        "y_train = train['survived'].to_numpy()\n",
        "\n",
        "X_val = validate.drop(['survived'], axis=1).to_numpy() \n",
        "y_val = validate['survived'].to_numpy()\n",
        "\n",
        "X_test = test.drop(['survived'], axis=1).to_numpy() \n",
        "y_test = test['survived'].to_numpy()\n"
      ],
      "execution_count": 15,
      "outputs": []
    },
    {
      "cell_type": "markdown",
      "metadata": {
        "id": "wv74TbIWavlr"
      },
      "source": [
        "## Datasets in PyTorch"
      ]
    },
    {
      "cell_type": "markdown",
      "metadata": {
        "id": "9_LJtG-Xavlt"
      },
      "source": [
        "We will use the subclass <b><a href=\"https://pytorch.org/docs/master/data.html#torch.utils.data.TensorDataset\"> `torch.utils.data.TensorDataset`</a> </b> to manipulate together the features and targets of a dataset."
      ]
    },
    {
      "cell_type": "markdown",
      "metadata": {
        "id": "CZUfbAtG5S92"
      },
      "source": [
        "### Exercise 2\n",
        "\n",
        "Complete the missing code to load the validation and the test sets in TensorDatasets."
      ]
    },
    {
      "cell_type": "code",
      "metadata": {
        "id": "1JtT4tV7avlt"
      },
      "source": [
        "train_dataset = TensorDataset(torch.from_numpy(X_train).float(), torch.from_numpy(y_train).long())\n",
        "val_dataset = TensorDataset(torch.from_numpy(X_val).float(), torch.from_numpy(y_val).long())\n",
        "test_dataset = TensorDataset(torch.from_numpy(X_test).float(), torch.from_numpy(y_test).long())"
      ],
      "execution_count": 16,
      "outputs": []
    },
    {
      "cell_type": "markdown",
      "metadata": {
        "id": "obEPHnlTavkc"
      },
      "source": [
        "# How to define the learning algorithm?"
      ]
    },
    {
      "cell_type": "markdown",
      "metadata": {
        "id": "qhN5GL6Gavks"
      },
      "source": [
        "To train a deep learning model, we need to define:\n",
        "* the network architecture by choosing the non-linear function and the number of hidden units per layer, \n",
        "* the loss function and optimizer.\n",
        "\n",
        "In this tutorial, we consider the multilayer perceptron (MLP). A MLP is a simple computational graph composed of \"hidden layers,\" which are defined by two modules: a **linear transformation** followed by a **non-linearity**. The result of a hidden layer is a vector called a **distributed representation** where each component is associated with a hidden unit.\n",
        "\n",
        "To solve our task, we will use a MLP with the following architecture:\n",
        "* the input dimension of the model is 12,\n",
        "* the output dimension of the model is 2,\n",
        "* the first dimension of the output is the probability of death and the second dimension is the probability of survival,\n",
        "* the number of hidden layers is 3, \n",
        "* the dimensions of the hidden layers are 20, 40, 20 respectively, \n",
        "* the activation function is a ReLu for all hidden layers."
      ]
    },
    {
      "cell_type": "markdown",
      "metadata": {
        "id": "701t0e-ravkr"
      },
      "source": [
        "## How to define a model in PyTorch?"
      ]
    },
    {
      "cell_type": "markdown",
      "metadata": {
        "id": "m4F5cyijavkv"
      },
      "source": [
        "The <a href=\"https://pytorch.org/docs/stable/nn.html\">PyTorch NN package</a> contains many useful classes for creating computation graphs.\n",
        "* The class <a href=\"https://pytorch.org/docs/master/generated/torch.nn.Module.html#torch.nn.Module\">torch.nn.Module</a>: \n",
        "any new module must inherit from this class or its descendants (subclasses).\n",
        "* The `forward` method:  any class defining a module must implement the `forward(...)` method, which defines the transformation of inputs to outputs.\n",
        "* The class <a href=\"https://pytorch.org/docs/master/generated/torch.nn.Linear.html#torch.nn.Linear\">`torch.nn.Linear(in_features, out_features)`</a>: this class implements a linear transformation. By default, it takes two parameters: \n",
        "    * `in_features`: the size of the data at the input of the module. \n",
        "    * `out_features`: the size of the data at the output of the module.\n",
        "\n",
        "* The module <a href=\"https://pytorch.org/docs/master/nn.functional.html#torch-nn-functional\">`torch.nn.functional`</a>: \n",
        "it defines a set of functions that can be applied directly to any tensor. As examples, we have:\n",
        "    * non-linear functions: `sigmoid(...)`, `tanh(...)`, `relu(...)`, ...\n",
        "    * loss functions: `mse_loss(...)`, `nll(...)`, `cross_entropy(...)`, ... \n",
        "    * regularization functions: `droupout(...)`, ..."
      ]
    },
    {
      "cell_type": "markdown",
      "metadata": {
        "id": "Tscha6S-KIBB"
      },
      "source": [
        "### Exercise 3\n",
        "\n",
        "Complete the following methods to define a neural network:\n",
        "* The `__init__` method that defines the layers.\n",
        "* The `forward(input)` method that returns the `output`."
      ]
    },
    {
      "cell_type": "code",
      "metadata": {
        "id": "xR5eBfIbavk0"
      },
      "source": [
        "class NeuralNet(nn.Module):\n",
        "    def __init__(self):\n",
        "      super(NeuralNet, self).__init__()\n",
        "      self.layer1 = nn.Linear(12, 20)\n",
        "      self.layer2 = nn.Linear(20, 40)\n",
        "      self.layer3 = nn.Linear(40, 20)\n",
        "      self.output = nn.Linear(20, 2)\n",
        "\n",
        "    def forward(self, x):      \n",
        "      x = F.relu(self.layer1(x))\n",
        "      x = F.relu(self.layer2(x))\n",
        "      x = F.relu(self.layer3(x))\n",
        "      out = torch.sigmoid(self.output(x))\n",
        "      return out"
      ],
      "execution_count": 17,
      "outputs": []
    },
    {
      "cell_type": "markdown",
      "metadata": {
        "id": "OvLnHRZ5avk2"
      },
      "source": [
        "## Making predictions with a neural network"
      ]
    },
    {
      "cell_type": "markdown",
      "metadata": {
        "id": "uEXgJMDDavk3"
      },
      "source": [
        "Now, we are ready to test our neural network on randomly selected data.\n",
        "\n",
        "In PyTorch, a model has two different modes:\n",
        "    <ul>\n",
        "    <li> <b>train</b>: used during training, </li>\n",
        "    <li> <b>eval</b>: used during inference for model evaluation. </li>\n",
        "    </ul>\n",
        "\n",
        "The distinction is important since some modules behave differently according to this mode.\n",
        "We will use the <b>eval</b> mode in this section."
      ]
    },
    {
      "cell_type": "markdown",
      "metadata": {
        "id": "IqtE_hr650pz"
      },
      "source": [
        "### Exercise 4\n",
        "Complete the missing code so that the model outputs a probability vector. "
      ]
    },
    {
      "cell_type": "code",
      "metadata": {
        "id": "gzcABMezavk6",
        "colab": {
          "base_uri": "https://localhost:8080/"
        },
        "outputId": "2fea2637-42dc-41fb-dd42-0010d6576301"
      },
      "source": [
        "# Model definition\n",
        "neural_net = NeuralNet()\n",
        "neural_net = neural_net.to(device)\n",
        "\n",
        "# Evaluation mode activation\n",
        "neural_net = neural_net.eval()\n",
        "\n",
        "# Select the first 5 data points\n",
        "data, target = val_dataset[0:5]\n",
        "data = data.to(device)\n",
        "target = target.to(device)\n",
        "\n",
        "# Forward propagation of the data through the model\n",
        "output = neural_net(data)   # equivalent to neural_net.forward(data)\n",
        "\n",
        "# Convert the logits into probabilities with softmax function\n",
        "output_proba = F.softmax(output,dim=1)\n",
        "\n",
        "# Printing the probability\n",
        "print(output_proba)"
      ],
      "execution_count": 18,
      "outputs": [
        {
          "output_type": "stream",
          "text": [
            "tensor([[0.4817, 0.5183],\n",
            "        [0.4717, 0.5283],\n",
            "        [0.4722, 0.5278],\n",
            "        [0.4788, 0.5212],\n",
            "        [0.4920, 0.5080]], device='cuda:0', grad_fn=<SoftmaxBackward>)\n"
          ],
          "name": "stdout"
        }
      ]
    },
    {
      "cell_type": "markdown",
      "metadata": {
        "id": "fVep0BElavlS"
      },
      "source": [
        "The rows define the output of the network, in terms of probabilities over two classes: <b>deceased</b> (first column) or <b>survived</b> (second column), for each of the five input data points. Let us take the label with maximum probability as the predicted label and compare it to the correct label."
      ]
    },
    {
      "cell_type": "code",
      "metadata": {
        "id": "_jV4No36qjdU",
        "colab": {
          "base_uri": "https://localhost:8080/"
        },
        "outputId": "1ebc0d01-5c3d-48f0-aaf3-2782f705554f"
      },
      "source": [
        "# Printing predictions (class with the highest probability)\n",
        "_, prediction = torch.max(output_proba, dim=1)\n",
        "\n",
        "print('Model prediction')\n",
        "print(prediction)\n",
        "\n",
        "# Printing the real labels\n",
        "print(\"Actual data\")\n",
        "print(target)"
      ],
      "execution_count": 19,
      "outputs": [
        {
          "output_type": "stream",
          "text": [
            "Model prediction\n",
            "tensor([1, 1, 1, 1, 1], device='cuda:0')\n",
            "Actual data\n",
            "tensor([0, 0, 0, 1, 1], device='cuda:0')\n"
          ],
          "name": "stdout"
        }
      ]
    },
    {
      "cell_type": "markdown",
      "metadata": {
        "id": "SEIIjqOuqjdc"
      },
      "source": [
        "### Exercise 5\n",
        "\n",
        "1.   What would be a good way to measure the model performances?\n",
        "2.   How does our model perform?\n",
        "3.   Considering that the model is not trained on the dataset, do you see any problem with your selected measure?\n"
      ]
    },
    {
      "cell_type": "code",
      "metadata": {
        "cellView": "form",
        "id": "Fa66z1qqH9em"
      },
      "source": [
        "#@title Métriques\n",
        "import sklearn.metrics as metrics\n",
        "\n",
        "def accuracy(y_true, y_pred):\n",
        "  \"\"\"\n",
        "  Compute the accuracy score.\n",
        "  \n",
        "  Args:\n",
        "     y_true: ground truth labels.\n",
        "     y_pred: predicted labels by a classifier.\n",
        "     \n",
        "  Return:\n",
        "     Accuracy score.\n",
        "     \n",
        "  \"\"\"\n",
        "  return metrics.accuracy_score(y_true, y_pred)\n",
        "\n",
        "\n",
        "def f1_score(y_true, y_pred):\n",
        "  \"\"\"\n",
        "  Compute the F1 score.\n",
        "  \n",
        "  Args:\n",
        "     y_true: ground truth labels.\n",
        "     y_pred: predicted labels by a classifier.\n",
        "     \n",
        "  Return:\n",
        "     F1 score.\n",
        "     \n",
        "  \"\"\"\n",
        "  return metrics.f1_score(y_true, y_pred, average='macro')"
      ],
      "execution_count": 20,
      "outputs": []
    },
    {
      "cell_type": "code",
      "metadata": {
        "colab": {
          "base_uri": "https://localhost:8080/"
        },
        "id": "reJFVgMHABD7",
        "outputId": "9294ec33-aa6b-40a0-b2a7-a8333af8ac05"
      },
      "source": [
        "# calcul F1 score\n",
        "F1_score = f1_score(target.cpu().numpy(), prediction.cpu().numpy())\n",
        "print(f'F1 score is {F1_score:.2%}'.format(F1_score))"
      ],
      "execution_count": 21,
      "outputs": [
        {
          "output_type": "stream",
          "text": [
            "F1 score is 28.57%\n"
          ],
          "name": "stdout"
        }
      ]
    },
    {
      "cell_type": "markdown",
      "metadata": {
        "id": "0uySA2TCavmD"
      },
      "source": [
        "## Define the loss function and optimizer"
      ]
    },
    {
      "cell_type": "markdown",
      "metadata": {
        "id": "EkoobCLMavmE"
      },
      "source": [
        "### Loss function"
      ]
    },
    {
      "cell_type": "markdown",
      "metadata": {
        "id": "qkX7uSXQavmF"
      },
      "source": [
        "We define the loss function according to the task we want to achieve.\n",
        "\n",
        "PyTorch offers <a href=\"https://pytorch.org/docs/stable/nn.html#loss-functions\">many ready-to-use loss functions</a>.\n",
        "\n",
        "For classification problems, the usual loss function is <b>cross-entropy</b>, and this is the one we will use in this tutorial. In PyTorch, it is defined by the function <a href=\"https://pytorch.org/docs/master/nn.functional.html#cross-entropy\">`torch.nn.functional.cross_entropy`</a>.  Cross entropy allows comparing a $p$ distribution with a reference distribution $t$. It attains its minimum when $t=p$. Its formula for calculating it between the prediction and the target is: $-\\sum_j t_{ij} \\log(p_{ij})$ where $p$ is the prediction, $t$ the target, $i$ the example and $j$ the classe of the target."
      ]
    },
    {
      "cell_type": "code",
      "metadata": {
        "id": "FHnfYeS5avmF"
      },
      "source": [
        "def loss_function(prediction, target):\n",
        "    loss = F.cross_entropy(prediction, target)\n",
        "    return loss"
      ],
      "execution_count": 22,
      "outputs": []
    },
    {
      "cell_type": "markdown",
      "metadata": {
        "id": "Vsx_cv9Wqjdj"
      },
      "source": [
        "### Backpropagation"
      ]
    },
    {
      "cell_type": "markdown",
      "metadata": {
        "id": "0hcZaIKtavmH"
      },
      "source": [
        "In Pytorch, thanks to the automatic differentiation mechanism <a href=\"http://pytorch.org/docs/master/notes/autograd.html\">Autograd</a>, it is possible to automatically calculate the gradient of the loss function and backpropagate it through the computational graph.\n",
        "\n",
        "To do this, we only have to call the method `backward()` on the variable returned by the loss function, e.g., with\n",
        "\n",
        "```python\n",
        "loss = loss_function(....)\n",
        "loss.backward()\n",
        "```"
      ]
    },
    {
      "cell_type": "markdown",
      "metadata": {
        "id": "8YNo_ymYavmH"
      },
      "source": [
        "### Optimization"
      ]
    },
    {
      "cell_type": "markdown",
      "metadata": {
        "id": "Y4AlX9TwavmH"
      },
      "source": [
        "PyTorch provides a <a href=\"http://pytorch.org/docs/master/optim.html#algorithms\">set of optimization methods (`torch.optim`)</a> commonly used by the deep learning community. These methods include the following: \n",
        "* <b>SGD</b> (Stochastic Gradient Descent) <a href=\"http://pytorch.org/docs/master/optim.html#torch.optim.SGD\">`torch.optim.SGD(net.parameters(), lr=learning_rate)`</a>\n",
        "* <b>Adam</b> (Adaptive Moment Estimation): a variant of the gradient descent method in which the learning rate is adjusted for each parameter by estimating the first and second moments of the gradients. This optimizer has demonstrated excellent performance compared to SGD on many benchmarks.\n",
        "\n",
        "To be able to use an optimizer in PyTorch, we must instantiate it by passing the following elements:\n",
        "* <b>The parameters of the model</b>: these are obtained using the method `parameters()` on the instantiated model.\n",
        "* <b>The learning rate (lr)</b>: this is the learning rate to be used to update parameters during the optimization process. \n",
        "* There may be other parameters specific to the chosen optimizer.\n",
        "\n",
        "PyTorch offers a simplified interface to interact with any optimizer:\n",
        "* `zero_grad()`: Allows to reinitialize the gradients to zero at the beginning of an optimization step.\n",
        "* `step()`: Allows to perform an optimization step after a gradient backpropagation step."
      ]
    },
    {
      "cell_type": "markdown",
      "metadata": {
        "id": "fZ-lKExqavmI"
      },
      "source": [
        "We will use Adam with a lr of 0.001."
      ]
    },
    {
      "cell_type": "code",
      "metadata": {
        "id": "WDMOziJTavmI"
      },
      "source": [
        "optimizer = optim.Adam(neural_net.parameters(), lr=0.001) "
      ],
      "execution_count": 23,
      "outputs": []
    },
    {
      "cell_type": "markdown",
      "metadata": {
        "id": "OnFOAfdGqjdr"
      },
      "source": [
        "# How to train and evaluate a model?\n",
        "First, we need some definitions:\n",
        "<ol>\n",
        "<li>\n",
        "<b>Epoch</b>: a complete pass over the entire training dataset.\n",
        "</li>\n",
        "<li>\n",
        "<b>Iteration</b>: an update of the model parameters. Many iterations can occur before the end of an epoch.\n",
        "</li>\n",
        "<li>\n",
        "<b>Mini-batch</b>: A subset of training data used to estimate the average of gradients. In other words, at each iteration, a mini-batch is used. \n",
        "</li>\n",
        "</ol>"
      ]
    },
    {
      "cell_type": "markdown",
      "metadata": {
        "id": "LLXjNiDTavmK"
      },
      "source": [
        "## Creating the mini-batches\n",
        "PyTorch offers a utility called <b><a href=\"http://pytorch.org/docs/master/data.html\"> `torch.utils.data.DataLoader`</a></b> to load any dataset and automatically split it into mini-batches. During training, the data presented to the network should appear in a different order from one epoch to another. We will prepare the `DataLoader` for our three datasets (training, validation, and test)."
      ]
    },
    {
      "cell_type": "code",
      "metadata": {
        "id": "RGoQZSdqavmM"
      },
      "source": [
        "train_batch_size = 32  # number of data in a training batch.\n",
        "eval_batch_size = 32   # number of data in an batch.\n",
        "\n",
        "\n",
        "train_loader = torch.utils.data.DataLoader(train_dataset, batch_size=train_batch_size, shuffle=True)\n",
        "\n",
        "val_loader   = torch.utils.data.DataLoader(val_dataset, batch_size=eval_batch_size, shuffle=False)\n",
        "test_loader  = torch.utils.data.DataLoader(test_dataset, batch_size=eval_batch_size, shuffle=False)"
      ],
      "execution_count": 24,
      "outputs": []
    },
    {
      "cell_type": "code",
      "metadata": {
        "colab": {
          "base_uri": "https://localhost:8080/"
        },
        "id": "o4ecBllSdsQ_",
        "outputId": "31ae680a-8abe-4d11-9b25-04c2f96c5472"
      },
      "source": [
        "train_loader_iter = iter(train_loader)\n",
        "\n",
        "for i in range(len(train_loader)):\n",
        "  t = next(train_loader_iter)\n",
        "  print(len(t[0])) "
      ],
      "execution_count": 25,
      "outputs": [
        {
          "output_type": "stream",
          "text": [
            "32\n",
            "32\n",
            "32\n",
            "32\n",
            "32\n",
            "32\n",
            "32\n",
            "32\n",
            "32\n",
            "32\n",
            "32\n",
            "32\n",
            "32\n",
            "32\n",
            "32\n",
            "32\n",
            "32\n",
            "32\n",
            "32\n",
            "16\n"
          ],
          "name": "stdout"
        }
      ]
    },
    {
      "cell_type": "markdown",
      "metadata": {
        "id": "Ia3ai-GvavmP"
      },
      "source": [
        "## Simple training loop"
      ]
    },
    {
      "cell_type": "markdown",
      "metadata": {
        "id": "v9wNZrTnavmQ"
      },
      "source": [
        "Here we define our training procedure for an epoch."
      ]
    },
    {
      "cell_type": "code",
      "metadata": {
        "id": "ZyK9xCsZavmR"
      },
      "source": [
        "def train(epoch, model, train_loader, optimizer, device):\n",
        "    \n",
        "    # activate the training mode\n",
        "    model.train()\n",
        "    \n",
        "    torch.set_grad_enabled(True)\n",
        "    \n",
        "    total_loss = 0\n",
        "    correct = 0\n",
        "    \n",
        "    # iteration over the mini-batches\n",
        "    for batch_idx, (data, target) in enumerate(train_loader):\n",
        "        \n",
        "        # transfer the data on the chosen device\n",
        "        data, target = data.to(device), target.to(device)\n",
        "        \n",
        "        # reinitialize the gradients to zero\n",
        "        optimizer.zero_grad()\n",
        "        \n",
        "        # forward propagation on the data\n",
        "        prediction = model(data)\n",
        "        \n",
        "        # compute the loss function w.r.t. the targets\n",
        "        loss = loss_function(prediction, target)\n",
        "        \n",
        "        # execute the backpropagation\n",
        "        loss.backward()\n",
        "        \n",
        "        # execute an optimization step\n",
        "        optimizer.step()\n",
        "        \n",
        "        # accumulate the loss\n",
        "        total_loss += loss.item()*len(data)\n",
        "        \n",
        "        # compute the number of correct predictions\n",
        "        _, pred_classes = torch.max(prediction, dim=1)        \n",
        "        correct += pred_classes.eq(target.view_as(pred_classes)).sum().item()\n",
        "         \n",
        "        \n",
        "    # compute the average loss per epoch\n",
        "    mean_loss = total_loss/len(train_loader.dataset)\n",
        "    \n",
        "    # compute the accuracy\n",
        "    acc = correct / len(train_loader.dataset)\n",
        "        \n",
        "    print('Train Epoch: {}   Avg_Loss: {:.5f}   Acc: {}/{} ({:.3f}%)'.format(\n",
        "        epoch, mean_loss, correct, len(train_loader.dataset),\n",
        "        100. * acc))   \n",
        "    \n",
        "    # return the average loss and the accuracy\n",
        "    return mean_loss, acc"
      ],
      "execution_count": 26,
      "outputs": []
    },
    {
      "cell_type": "markdown",
      "metadata": {
        "id": "vGexbWaHavmU"
      },
      "source": [
        "## Evaluation procedure\n",
        "Here we define our model evaluation procedure.\n",
        "<br/>\n",
        "In addition to switching the model to **eval** mode, it is essential to disable the gradient calculation. \n",
        "<br/>\n",
        "To do this, PyTorch offers a set of context managers to <a href=\"https://pytorch.org/docs/0.4.0/torch.html#locally-disabling-gradient-computation\">locally disable/enable gradient calculation </a>:\n",
        "1. `torch.no_grad()`: disable gradient calculation.\n",
        "2. `torch.enable_grad()`: enable gradient calculation.\n",
        "3. `torch.set_grad_enabled(bool)`: enable/disable gradient calculation.\n",
        "\n"
      ]
    },
    {
      "cell_type": "code",
      "metadata": {
        "id": "8gQj9W5LavmU"
      },
      "source": [
        "def evaluate(model, eval_loader, device):\n",
        "    \n",
        "    # activate the evaluation mode\n",
        "    model.eval()\n",
        "    \n",
        "    total_loss = 0\n",
        "    correct = 0\n",
        "    \n",
        "    with torch.no_grad():\n",
        "    \n",
        "        # iterate over the batches\n",
        "        for batch_idx, (data, target) in enumerate(eval_loader):\n",
        "\n",
        "            # transfer the data on the chosen device\n",
        "            data, target = data.to(device), target.to(device)\n",
        "\n",
        "            # forward propagation on the data\n",
        "            prediction = model(data)\n",
        "\n",
        "            # compute the loss function w.r.t. the targets\n",
        "            loss = loss_function(prediction, target)           \n",
        "\n",
        "\n",
        "            # accumulate the loss\n",
        "            total_loss += loss.item()*len(data)\n",
        "\n",
        "            # compute the number of correct predictions en sortie)\n",
        "            _, pred_classes = torch.max(prediction, dim=1) \n",
        "            correct += pred_classes.eq(target.view_as(pred_classes)).sum().item()         \n",
        "          \n",
        "    \n",
        "    # compute the average loss per epoch\n",
        "    mean_loss = total_loss/len(eval_loader.dataset)\n",
        "    \n",
        "    # compute the accuracy\n",
        "    acc = correct / len(eval_loader.dataset)\n",
        "        \n",
        "    print('Eval:  Avg_Loss: {:.5f}   Acc: {}/{} ({:.3f}%)'.format(\n",
        "        mean_loss, correct, len(eval_loader.dataset),\n",
        "        100. * acc)) \n",
        "    \n",
        "    # return the average loss and the accuracy\n",
        "    return mean_loss, acc"
      ],
      "execution_count": 27,
      "outputs": []
    },
    {
      "cell_type": "markdown",
      "metadata": {
        "id": "lQLklQXAavmW"
      },
      "source": [
        "## Checkpointing\n",
        "\n",
        "During training, we recommend saving the model parameters periodically. By doing so, we avoid having to retrain the model from scratch if the experiment goes wrong such as losing communication with GPU, out-of-memory error, numerical errors, incorrect learning rates making the experiment unstable, etc. This practice is commonly referred to as <b>checkpointing</b>.\n",
        "\n",
        "PyTorch offers <a href=\"http://pytorch.org/docs/master/notes/serialization.html\">a simple mechanism</a> to perform this operation.\n",
        "\n",
        "We implement two methods here:\n",
        "<ul>\n",
        "<li> the first one for <b> saving </b> a model,</li>\n",
        "<li> the second for <b> loading </b> a model checkpoint. </li>\n",
        "</ul>"
      ]
    },
    {
      "cell_type": "code",
      "metadata": {
        "id": "dMmNpma2avmX"
      },
      "source": [
        "def save_model(epoch, model, path='./'):\n",
        "    \n",
        "    # creating the file name indexed by the epoch value\n",
        "    filename = path + 'neural_network_{}.pt'.format(epoch)\n",
        "    \n",
        "    # saving the model parameters\n",
        "    torch.save(model.state_dict(), filename)\n",
        "    \n",
        "    return model\n",
        "    "
      ],
      "execution_count": 28,
      "outputs": []
    },
    {
      "cell_type": "code",
      "metadata": {
        "id": "2ZptgqQRavmZ"
      },
      "source": [
        "def load_model(epoch, model, path='./'):\n",
        "    \n",
        "    # creating the file name indexed by the epoch value\n",
        "    filename = path + 'neural_network_{}.pt'.format(epoch)\n",
        "    \n",
        "    # loading the parameters of the saved model\n",
        "    model.load_state_dict(torch.load(filename))\n",
        "    \n",
        "    return model"
      ],
      "execution_count": 29,
      "outputs": []
    },
    {
      "cell_type": "markdown",
      "metadata": {
        "id": "ve8sOocWavma"
      },
      "source": [
        "It is also possible to save the optimizer's status in PyTorch, which is very important when we want to resume training the model from a given backup. For more information, please consult <a href='https://discuss.pytorch.org/t/saving-and-loading-a-model-in-pytorch/2610/3'>the following URL</a>."
      ]
    },
    {
      "cell_type": "markdown",
      "metadata": {
        "id": "8lcAP8-1avma"
      },
      "source": [
        "## Putting everything together"
      ]
    },
    {
      "cell_type": "code",
      "metadata": {
        "id": "keMpyePsavmb",
        "colab": {
          "base_uri": "https://localhost:8080/"
        },
        "outputId": "adfd56b9-033e-4165-e560-b37cc8df7b6d"
      },
      "source": [
        "# maximum number of epoch\n",
        "numEpochs = 200\n",
        "\n",
        "# Saving frequency\n",
        "checkpoint_freq = 10\n",
        "\n",
        "# Directory for data backup\n",
        "path = './'\n",
        "\n",
        "# Accumulators of average losses obtained per epoch\n",
        "train_losses = []\n",
        "val_losses = []\n",
        "\n",
        "# Performance accumulators per epoch\n",
        "train_accuracies = []\n",
        "val_accuracies = []\n",
        "\n",
        "# Model definition\n",
        "neural_net = NeuralNet()\n",
        "\n",
        "# Load the model on the chosen device\n",
        "neural_net = neural_net.to(device)\n",
        "\n",
        "# Optimizer definition\n",
        "optimizer = optim.Adam(neural_net.parameters(), lr=0.001) \n",
        "# optimizer = optim.SGD(neural_net.parameters(), lr=0.001) \n",
        "\n",
        "\n",
        "# Learning loop\n",
        "for epoch in range(1, numEpochs + 1):\n",
        "    \n",
        "    # train the model with the train dataset\n",
        "    train_loss, train_acc = train(epoch, neural_net, train_loader, optimizer, device)   \n",
        "    \n",
        "    # evaluate the model with the validation dataset\n",
        "    val_loss, val_acc = evaluate(neural_net, val_loader, device)       \n",
        "    \n",
        "    # Save the losses obtained\n",
        "    train_losses.append(train_loss)    \n",
        "    val_losses.append(val_loss)\n",
        "    \n",
        "    # Save the performances\n",
        "    train_accuracies.append(train_acc)    \n",
        "    val_accuracies.append(val_acc)\n",
        "    \n",
        "    # Checkpoint\n",
        "    if epoch % checkpoint_freq ==0:\n",
        "        save_model(epoch, neural_net, path)\n",
        "\n",
        "# Save the model at the end of the training\n",
        "save_model(numEpochs, neural_net, path)\n",
        "    \n",
        "print(\"\\n\\n\\nOptimization ended.\\n\")    \n"
      ],
      "execution_count": 30,
      "outputs": [
        {
          "output_type": "stream",
          "text": [
            "Train Epoch: 1   Avg_Loss: 0.66089   Acc: 406/624 (65.064%)\n",
            "Eval:  Avg_Loss: 0.63660   Acc: 142/208 (68.269%)\n",
            "Train Epoch: 2   Avg_Loss: 0.63687   Acc: 400/624 (64.103%)\n",
            "Eval:  Avg_Loss: 0.61909   Acc: 143/208 (68.750%)\n",
            "Train Epoch: 3   Avg_Loss: 0.62791   Acc: 408/624 (65.385%)\n",
            "Eval:  Avg_Loss: 0.61107   Acc: 145/208 (69.712%)\n",
            "Train Epoch: 4   Avg_Loss: 0.62288   Acc: 419/624 (67.147%)\n",
            "Eval:  Avg_Loss: 0.60916   Acc: 146/208 (70.192%)\n",
            "Train Epoch: 5   Avg_Loss: 0.62226   Acc: 414/624 (66.346%)\n",
            "Eval:  Avg_Loss: 0.60287   Acc: 144/208 (69.231%)\n",
            "Train Epoch: 6   Avg_Loss: 0.61693   Acc: 422/624 (67.628%)\n",
            "Eval:  Avg_Loss: 0.60475   Acc: 146/208 (70.192%)\n",
            "Train Epoch: 7   Avg_Loss: 0.61379   Acc: 423/624 (67.788%)\n",
            "Eval:  Avg_Loss: 0.60021   Acc: 145/208 (69.712%)\n",
            "Train Epoch: 8   Avg_Loss: 0.60977   Acc: 421/624 (67.468%)\n",
            "Eval:  Avg_Loss: 0.59719   Acc: 145/208 (69.712%)\n",
            "Train Epoch: 9   Avg_Loss: 0.60627   Acc: 434/624 (69.551%)\n",
            "Eval:  Avg_Loss: 0.59406   Acc: 152/208 (73.077%)\n",
            "Train Epoch: 10   Avg_Loss: 0.60340   Acc: 431/624 (69.071%)\n",
            "Eval:  Avg_Loss: 0.58966   Acc: 150/208 (72.115%)\n",
            "Train Epoch: 11   Avg_Loss: 0.59766   Acc: 437/624 (70.032%)\n",
            "Eval:  Avg_Loss: 0.58005   Acc: 152/208 (73.077%)\n",
            "Train Epoch: 12   Avg_Loss: 0.59213   Acc: 441/624 (70.673%)\n",
            "Eval:  Avg_Loss: 0.57787   Acc: 153/208 (73.558%)\n",
            "Train Epoch: 13   Avg_Loss: 0.58095   Acc: 448/624 (71.795%)\n",
            "Eval:  Avg_Loss: 0.58046   Acc: 159/208 (76.442%)\n",
            "Train Epoch: 14   Avg_Loss: 0.57364   Acc: 456/624 (73.077%)\n",
            "Eval:  Avg_Loss: 0.54778   Acc: 163/208 (78.365%)\n",
            "Train Epoch: 15   Avg_Loss: 0.56471   Acc: 451/624 (72.276%)\n",
            "Eval:  Avg_Loss: 0.54911   Acc: 164/208 (78.846%)\n",
            "Train Epoch: 16   Avg_Loss: 0.55709   Acc: 461/624 (73.878%)\n",
            "Eval:  Avg_Loss: 0.52783   Acc: 161/208 (77.404%)\n",
            "Train Epoch: 17   Avg_Loss: 0.54667   Acc: 461/624 (73.878%)\n",
            "Eval:  Avg_Loss: 0.51822   Acc: 168/208 (80.769%)\n",
            "Train Epoch: 18   Avg_Loss: 0.53565   Acc: 480/624 (76.923%)\n",
            "Eval:  Avg_Loss: 0.51375   Acc: 169/208 (81.250%)\n",
            "Train Epoch: 19   Avg_Loss: 0.52645   Acc: 493/624 (79.006%)\n",
            "Eval:  Avg_Loss: 0.50308   Acc: 170/208 (81.731%)\n",
            "Train Epoch: 20   Avg_Loss: 0.51673   Acc: 490/624 (78.526%)\n",
            "Eval:  Avg_Loss: 0.50084   Acc: 169/208 (81.250%)\n",
            "Train Epoch: 21   Avg_Loss: 0.51512   Acc: 494/624 (79.167%)\n",
            "Eval:  Avg_Loss: 0.50181   Acc: 165/208 (79.327%)\n",
            "Train Epoch: 22   Avg_Loss: 0.52032   Acc: 483/624 (77.404%)\n",
            "Eval:  Avg_Loss: 0.49778   Acc: 169/208 (81.250%)\n",
            "Train Epoch: 23   Avg_Loss: 0.51721   Acc: 491/624 (78.686%)\n",
            "Eval:  Avg_Loss: 0.49680   Acc: 166/208 (79.808%)\n",
            "Train Epoch: 24   Avg_Loss: 0.51732   Acc: 482/624 (77.244%)\n",
            "Eval:  Avg_Loss: 0.48530   Acc: 173/208 (83.173%)\n",
            "Train Epoch: 25   Avg_Loss: 0.51432   Acc: 487/624 (78.045%)\n",
            "Eval:  Avg_Loss: 0.48410   Acc: 173/208 (83.173%)\n",
            "Train Epoch: 26   Avg_Loss: 0.50023   Acc: 501/624 (80.288%)\n",
            "Eval:  Avg_Loss: 0.48435   Acc: 172/208 (82.692%)\n",
            "Train Epoch: 27   Avg_Loss: 0.50825   Acc: 495/624 (79.327%)\n",
            "Eval:  Avg_Loss: 0.49043   Acc: 173/208 (83.173%)\n",
            "Train Epoch: 28   Avg_Loss: 0.50017   Acc: 503/624 (80.609%)\n",
            "Eval:  Avg_Loss: 0.48167   Acc: 172/208 (82.692%)\n",
            "Train Epoch: 29   Avg_Loss: 0.49892   Acc: 508/624 (81.410%)\n",
            "Eval:  Avg_Loss: 0.48604   Acc: 170/208 (81.731%)\n",
            "Train Epoch: 30   Avg_Loss: 0.50720   Acc: 493/624 (79.006%)\n",
            "Eval:  Avg_Loss: 0.47866   Acc: 171/208 (82.212%)\n",
            "Train Epoch: 31   Avg_Loss: 0.49850   Acc: 503/624 (80.609%)\n",
            "Eval:  Avg_Loss: 0.48137   Acc: 171/208 (82.212%)\n",
            "Train Epoch: 32   Avg_Loss: 0.50069   Acc: 507/624 (81.250%)\n",
            "Eval:  Avg_Loss: 0.47908   Acc: 171/208 (82.212%)\n",
            "Train Epoch: 33   Avg_Loss: 0.50047   Acc: 501/624 (80.288%)\n",
            "Eval:  Avg_Loss: 0.48078   Acc: 173/208 (83.173%)\n",
            "Train Epoch: 34   Avg_Loss: 0.50149   Acc: 503/624 (80.609%)\n",
            "Eval:  Avg_Loss: 0.49196   Acc: 167/208 (80.288%)\n",
            "Train Epoch: 35   Avg_Loss: 0.50177   Acc: 503/624 (80.609%)\n",
            "Eval:  Avg_Loss: 0.49207   Acc: 167/208 (80.288%)\n",
            "Train Epoch: 36   Avg_Loss: 0.50021   Acc: 501/624 (80.288%)\n",
            "Eval:  Avg_Loss: 0.47907   Acc: 172/208 (82.692%)\n",
            "Train Epoch: 37   Avg_Loss: 0.49268   Acc: 509/624 (81.571%)\n",
            "Eval:  Avg_Loss: 0.48527   Acc: 168/208 (80.769%)\n",
            "Train Epoch: 38   Avg_Loss: 0.50671   Acc: 502/624 (80.449%)\n",
            "Eval:  Avg_Loss: 0.50544   Acc: 162/208 (77.885%)\n",
            "Train Epoch: 39   Avg_Loss: 0.50228   Acc: 502/624 (80.449%)\n",
            "Eval:  Avg_Loss: 0.47933   Acc: 172/208 (82.692%)\n",
            "Train Epoch: 40   Avg_Loss: 0.49047   Acc: 507/624 (81.250%)\n",
            "Eval:  Avg_Loss: 0.48710   Acc: 170/208 (81.731%)\n",
            "Train Epoch: 41   Avg_Loss: 0.49946   Acc: 501/624 (80.288%)\n",
            "Eval:  Avg_Loss: 0.47744   Acc: 174/208 (83.654%)\n",
            "Train Epoch: 42   Avg_Loss: 0.48751   Acc: 514/624 (82.372%)\n",
            "Eval:  Avg_Loss: 0.48076   Acc: 172/208 (82.692%)\n",
            "Train Epoch: 43   Avg_Loss: 0.49000   Acc: 513/624 (82.212%)\n",
            "Eval:  Avg_Loss: 0.47822   Acc: 171/208 (82.212%)\n",
            "Train Epoch: 44   Avg_Loss: 0.49105   Acc: 505/624 (80.929%)\n",
            "Eval:  Avg_Loss: 0.47824   Acc: 170/208 (81.731%)\n",
            "Train Epoch: 45   Avg_Loss: 0.48829   Acc: 512/624 (82.051%)\n",
            "Eval:  Avg_Loss: 0.47879   Acc: 172/208 (82.692%)\n",
            "Train Epoch: 46   Avg_Loss: 0.48685   Acc: 513/624 (82.212%)\n",
            "Eval:  Avg_Loss: 0.47912   Acc: 170/208 (81.731%)\n",
            "Train Epoch: 47   Avg_Loss: 0.49160   Acc: 509/624 (81.571%)\n",
            "Eval:  Avg_Loss: 0.47687   Acc: 172/208 (82.692%)\n",
            "Train Epoch: 48   Avg_Loss: 0.49451   Acc: 502/624 (80.449%)\n",
            "Eval:  Avg_Loss: 0.48942   Acc: 170/208 (81.731%)\n",
            "Train Epoch: 49   Avg_Loss: 0.48824   Acc: 515/624 (82.532%)\n",
            "Eval:  Avg_Loss: 0.47788   Acc: 170/208 (81.731%)\n",
            "Train Epoch: 50   Avg_Loss: 0.49150   Acc: 512/624 (82.051%)\n",
            "Eval:  Avg_Loss: 0.47648   Acc: 173/208 (83.173%)\n",
            "Train Epoch: 51   Avg_Loss: 0.48481   Acc: 507/624 (81.250%)\n",
            "Eval:  Avg_Loss: 0.47889   Acc: 171/208 (82.212%)\n",
            "Train Epoch: 52   Avg_Loss: 0.48280   Acc: 516/624 (82.692%)\n",
            "Eval:  Avg_Loss: 0.47990   Acc: 172/208 (82.692%)\n",
            "Train Epoch: 53   Avg_Loss: 0.48555   Acc: 516/624 (82.692%)\n",
            "Eval:  Avg_Loss: 0.47920   Acc: 170/208 (81.731%)\n",
            "Train Epoch: 54   Avg_Loss: 0.48811   Acc: 509/624 (81.571%)\n",
            "Eval:  Avg_Loss: 0.47780   Acc: 171/208 (82.212%)\n",
            "Train Epoch: 55   Avg_Loss: 0.48613   Acc: 514/624 (82.372%)\n",
            "Eval:  Avg_Loss: 0.47919   Acc: 171/208 (82.212%)\n",
            "Train Epoch: 56   Avg_Loss: 0.47986   Acc: 518/624 (83.013%)\n",
            "Eval:  Avg_Loss: 0.48450   Acc: 171/208 (82.212%)\n",
            "Train Epoch: 57   Avg_Loss: 0.48269   Acc: 514/624 (82.372%)\n",
            "Eval:  Avg_Loss: 0.48517   Acc: 171/208 (82.212%)\n",
            "Train Epoch: 58   Avg_Loss: 0.48504   Acc: 510/624 (81.731%)\n",
            "Eval:  Avg_Loss: 0.48077   Acc: 170/208 (81.731%)\n",
            "Train Epoch: 59   Avg_Loss: 0.48618   Acc: 511/624 (81.891%)\n",
            "Eval:  Avg_Loss: 0.49582   Acc: 167/208 (80.288%)\n",
            "Train Epoch: 60   Avg_Loss: 0.49134   Acc: 512/624 (82.051%)\n",
            "Eval:  Avg_Loss: 0.47946   Acc: 171/208 (82.212%)\n",
            "Train Epoch: 61   Avg_Loss: 0.48792   Acc: 506/624 (81.090%)\n",
            "Eval:  Avg_Loss: 0.47887   Acc: 172/208 (82.692%)\n",
            "Train Epoch: 62   Avg_Loss: 0.48005   Acc: 516/624 (82.692%)\n",
            "Eval:  Avg_Loss: 0.48150   Acc: 172/208 (82.692%)\n",
            "Train Epoch: 63   Avg_Loss: 0.48592   Acc: 514/624 (82.372%)\n",
            "Eval:  Avg_Loss: 0.48205   Acc: 169/208 (81.250%)\n",
            "Train Epoch: 64   Avg_Loss: 0.48613   Acc: 510/624 (81.731%)\n",
            "Eval:  Avg_Loss: 0.47914   Acc: 171/208 (82.212%)\n",
            "Train Epoch: 65   Avg_Loss: 0.48866   Acc: 508/624 (81.410%)\n",
            "Eval:  Avg_Loss: 0.48197   Acc: 175/208 (84.135%)\n",
            "Train Epoch: 66   Avg_Loss: 0.48698   Acc: 507/624 (81.250%)\n",
            "Eval:  Avg_Loss: 0.48050   Acc: 172/208 (82.692%)\n",
            "Train Epoch: 67   Avg_Loss: 0.48318   Acc: 511/624 (81.891%)\n",
            "Eval:  Avg_Loss: 0.48196   Acc: 173/208 (83.173%)\n",
            "Train Epoch: 68   Avg_Loss: 0.48204   Acc: 512/624 (82.051%)\n",
            "Eval:  Avg_Loss: 0.48564   Acc: 169/208 (81.250%)\n",
            "Train Epoch: 69   Avg_Loss: 0.48117   Acc: 518/624 (83.013%)\n",
            "Eval:  Avg_Loss: 0.48174   Acc: 171/208 (82.212%)\n",
            "Train Epoch: 70   Avg_Loss: 0.48024   Acc: 515/624 (82.532%)\n",
            "Eval:  Avg_Loss: 0.48557   Acc: 171/208 (82.212%)\n",
            "Train Epoch: 71   Avg_Loss: 0.48147   Acc: 516/624 (82.692%)\n",
            "Eval:  Avg_Loss: 0.48119   Acc: 170/208 (81.731%)\n",
            "Train Epoch: 72   Avg_Loss: 0.48174   Acc: 514/624 (82.372%)\n",
            "Eval:  Avg_Loss: 0.48196   Acc: 170/208 (81.731%)\n",
            "Train Epoch: 73   Avg_Loss: 0.47835   Acc: 518/624 (83.013%)\n",
            "Eval:  Avg_Loss: 0.48174   Acc: 171/208 (82.212%)\n",
            "Train Epoch: 74   Avg_Loss: 0.47730   Acc: 524/624 (83.974%)\n",
            "Eval:  Avg_Loss: 0.48257   Acc: 169/208 (81.250%)\n",
            "Train Epoch: 75   Avg_Loss: 0.47728   Acc: 521/624 (83.494%)\n",
            "Eval:  Avg_Loss: 0.48182   Acc: 169/208 (81.250%)\n",
            "Train Epoch: 76   Avg_Loss: 0.47721   Acc: 522/624 (83.654%)\n",
            "Eval:  Avg_Loss: 0.49763   Acc: 167/208 (80.288%)\n",
            "Train Epoch: 77   Avg_Loss: 0.47784   Acc: 518/624 (83.013%)\n",
            "Eval:  Avg_Loss: 0.48245   Acc: 169/208 (81.250%)\n",
            "Train Epoch: 78   Avg_Loss: 0.49133   Acc: 506/624 (81.090%)\n",
            "Eval:  Avg_Loss: 0.49736   Acc: 169/208 (81.250%)\n",
            "Train Epoch: 79   Avg_Loss: 0.49758   Acc: 506/624 (81.090%)\n",
            "Eval:  Avg_Loss: 0.48817   Acc: 171/208 (82.212%)\n",
            "Train Epoch: 80   Avg_Loss: 0.47415   Acc: 519/624 (83.173%)\n",
            "Eval:  Avg_Loss: 0.48311   Acc: 169/208 (81.250%)\n",
            "Train Epoch: 81   Avg_Loss: 0.47889   Acc: 517/624 (82.853%)\n",
            "Eval:  Avg_Loss: 0.48354   Acc: 169/208 (81.250%)\n",
            "Train Epoch: 82   Avg_Loss: 0.47558   Acc: 520/624 (83.333%)\n",
            "Eval:  Avg_Loss: 0.48241   Acc: 169/208 (81.250%)\n",
            "Train Epoch: 83   Avg_Loss: 0.48188   Acc: 514/624 (82.372%)\n",
            "Eval:  Avg_Loss: 0.48093   Acc: 171/208 (82.212%)\n",
            "Train Epoch: 84   Avg_Loss: 0.48024   Acc: 514/624 (82.372%)\n",
            "Eval:  Avg_Loss: 0.48352   Acc: 168/208 (80.769%)\n",
            "Train Epoch: 85   Avg_Loss: 0.48109   Acc: 519/624 (83.173%)\n",
            "Eval:  Avg_Loss: 0.48034   Acc: 172/208 (82.692%)\n",
            "Train Epoch: 86   Avg_Loss: 0.47670   Acc: 514/624 (82.372%)\n",
            "Eval:  Avg_Loss: 0.48327   Acc: 169/208 (81.250%)\n",
            "Train Epoch: 87   Avg_Loss: 0.47735   Acc: 522/624 (83.654%)\n",
            "Eval:  Avg_Loss: 0.48443   Acc: 170/208 (81.731%)\n",
            "Train Epoch: 88   Avg_Loss: 0.48210   Acc: 517/624 (82.853%)\n",
            "Eval:  Avg_Loss: 0.49058   Acc: 169/208 (81.250%)\n",
            "Train Epoch: 89   Avg_Loss: 0.48180   Acc: 512/624 (82.051%)\n",
            "Eval:  Avg_Loss: 0.48138   Acc: 171/208 (82.212%)\n",
            "Train Epoch: 90   Avg_Loss: 0.48838   Acc: 514/624 (82.372%)\n",
            "Eval:  Avg_Loss: 0.52106   Acc: 164/208 (78.846%)\n",
            "Train Epoch: 91   Avg_Loss: 0.49061   Acc: 501/624 (80.288%)\n",
            "Eval:  Avg_Loss: 0.48289   Acc: 170/208 (81.731%)\n",
            "Train Epoch: 92   Avg_Loss: 0.48008   Acc: 515/624 (82.532%)\n",
            "Eval:  Avg_Loss: 0.48513   Acc: 171/208 (82.212%)\n",
            "Train Epoch: 93   Avg_Loss: 0.47531   Acc: 524/624 (83.974%)\n",
            "Eval:  Avg_Loss: 0.48378   Acc: 168/208 (80.769%)\n",
            "Train Epoch: 94   Avg_Loss: 0.47726   Acc: 516/624 (82.692%)\n",
            "Eval:  Avg_Loss: 0.48504   Acc: 169/208 (81.250%)\n",
            "Train Epoch: 95   Avg_Loss: 0.47916   Acc: 514/624 (82.372%)\n",
            "Eval:  Avg_Loss: 0.48283   Acc: 171/208 (82.212%)\n",
            "Train Epoch: 96   Avg_Loss: 0.48095   Acc: 508/624 (81.410%)\n",
            "Eval:  Avg_Loss: 0.48616   Acc: 169/208 (81.250%)\n",
            "Train Epoch: 97   Avg_Loss: 0.49329   Acc: 507/624 (81.250%)\n",
            "Eval:  Avg_Loss: 0.51872   Acc: 166/208 (79.808%)\n",
            "Train Epoch: 98   Avg_Loss: 0.49314   Acc: 506/624 (81.090%)\n",
            "Eval:  Avg_Loss: 0.48095   Acc: 170/208 (81.731%)\n",
            "Train Epoch: 99   Avg_Loss: 0.48314   Acc: 514/624 (82.372%)\n",
            "Eval:  Avg_Loss: 0.48364   Acc: 169/208 (81.250%)\n",
            "Train Epoch: 100   Avg_Loss: 0.47876   Acc: 516/624 (82.692%)\n",
            "Eval:  Avg_Loss: 0.48320   Acc: 170/208 (81.731%)\n",
            "Train Epoch: 101   Avg_Loss: 0.47706   Acc: 515/624 (82.532%)\n",
            "Eval:  Avg_Loss: 0.48560   Acc: 170/208 (81.731%)\n",
            "Train Epoch: 102   Avg_Loss: 0.48172   Acc: 516/624 (82.692%)\n",
            "Eval:  Avg_Loss: 0.48716   Acc: 170/208 (81.731%)\n",
            "Train Epoch: 103   Avg_Loss: 0.48104   Acc: 514/624 (82.372%)\n",
            "Eval:  Avg_Loss: 0.49183   Acc: 168/208 (80.769%)\n",
            "Train Epoch: 104   Avg_Loss: 0.48171   Acc: 515/624 (82.532%)\n",
            "Eval:  Avg_Loss: 0.48168   Acc: 169/208 (81.250%)\n",
            "Train Epoch: 105   Avg_Loss: 0.47658   Acc: 517/624 (82.853%)\n",
            "Eval:  Avg_Loss: 0.48948   Acc: 166/208 (79.808%)\n",
            "Train Epoch: 106   Avg_Loss: 0.47992   Acc: 518/624 (83.013%)\n",
            "Eval:  Avg_Loss: 0.49228   Acc: 168/208 (80.769%)\n",
            "Train Epoch: 107   Avg_Loss: 0.47767   Acc: 521/624 (83.494%)\n",
            "Eval:  Avg_Loss: 0.48353   Acc: 170/208 (81.731%)\n",
            "Train Epoch: 108   Avg_Loss: 0.47871   Acc: 514/624 (82.372%)\n",
            "Eval:  Avg_Loss: 0.48396   Acc: 169/208 (81.250%)\n",
            "Train Epoch: 109   Avg_Loss: 0.49662   Acc: 504/624 (80.769%)\n",
            "Eval:  Avg_Loss: 0.48514   Acc: 172/208 (82.692%)\n",
            "Train Epoch: 110   Avg_Loss: 0.48660   Acc: 512/624 (82.051%)\n",
            "Eval:  Avg_Loss: 0.47974   Acc: 171/208 (82.212%)\n",
            "Train Epoch: 111   Avg_Loss: 0.47478   Acc: 524/624 (83.974%)\n",
            "Eval:  Avg_Loss: 0.48353   Acc: 171/208 (82.212%)\n",
            "Train Epoch: 112   Avg_Loss: 0.47835   Acc: 511/624 (81.891%)\n",
            "Eval:  Avg_Loss: 0.48110   Acc: 171/208 (82.212%)\n",
            "Train Epoch: 113   Avg_Loss: 0.47610   Acc: 521/624 (83.494%)\n",
            "Eval:  Avg_Loss: 0.48252   Acc: 173/208 (83.173%)\n",
            "Train Epoch: 114   Avg_Loss: 0.47737   Acc: 519/624 (83.173%)\n",
            "Eval:  Avg_Loss: 0.48622   Acc: 170/208 (81.731%)\n",
            "Train Epoch: 115   Avg_Loss: 0.47533   Acc: 526/624 (84.295%)\n",
            "Eval:  Avg_Loss: 0.48204   Acc: 169/208 (81.250%)\n",
            "Train Epoch: 116   Avg_Loss: 0.47625   Acc: 515/624 (82.532%)\n",
            "Eval:  Avg_Loss: 0.48320   Acc: 170/208 (81.731%)\n",
            "Train Epoch: 117   Avg_Loss: 0.47881   Acc: 515/624 (82.532%)\n",
            "Eval:  Avg_Loss: 0.48250   Acc: 171/208 (82.212%)\n",
            "Train Epoch: 118   Avg_Loss: 0.47775   Acc: 519/624 (83.173%)\n",
            "Eval:  Avg_Loss: 0.48189   Acc: 169/208 (81.250%)\n",
            "Train Epoch: 119   Avg_Loss: 0.47402   Acc: 520/624 (83.333%)\n",
            "Eval:  Avg_Loss: 0.48475   Acc: 170/208 (81.731%)\n",
            "Train Epoch: 120   Avg_Loss: 0.48616   Acc: 510/624 (81.731%)\n",
            "Eval:  Avg_Loss: 0.48321   Acc: 171/208 (82.212%)\n",
            "Train Epoch: 121   Avg_Loss: 0.48213   Acc: 513/624 (82.212%)\n",
            "Eval:  Avg_Loss: 0.48171   Acc: 173/208 (83.173%)\n",
            "Train Epoch: 122   Avg_Loss: 0.47823   Acc: 516/624 (82.692%)\n",
            "Eval:  Avg_Loss: 0.48286   Acc: 169/208 (81.250%)\n",
            "Train Epoch: 123   Avg_Loss: 0.47665   Acc: 517/624 (82.853%)\n",
            "Eval:  Avg_Loss: 0.48304   Acc: 169/208 (81.250%)\n",
            "Train Epoch: 124   Avg_Loss: 0.47642   Acc: 519/624 (83.173%)\n",
            "Eval:  Avg_Loss: 0.48363   Acc: 170/208 (81.731%)\n",
            "Train Epoch: 125   Avg_Loss: 0.47907   Acc: 519/624 (83.173%)\n",
            "Eval:  Avg_Loss: 0.48419   Acc: 170/208 (81.731%)\n",
            "Train Epoch: 126   Avg_Loss: 0.48525   Acc: 512/624 (82.051%)\n",
            "Eval:  Avg_Loss: 0.48089   Acc: 171/208 (82.212%)\n",
            "Train Epoch: 127   Avg_Loss: 0.48022   Acc: 519/624 (83.173%)\n",
            "Eval:  Avg_Loss: 0.48284   Acc: 170/208 (81.731%)\n",
            "Train Epoch: 128   Avg_Loss: 0.47955   Acc: 517/624 (82.853%)\n",
            "Eval:  Avg_Loss: 0.48400   Acc: 169/208 (81.250%)\n",
            "Train Epoch: 129   Avg_Loss: 0.47659   Acc: 520/624 (83.333%)\n",
            "Eval:  Avg_Loss: 0.48427   Acc: 169/208 (81.250%)\n",
            "Train Epoch: 130   Avg_Loss: 0.48142   Acc: 513/624 (82.212%)\n",
            "Eval:  Avg_Loss: 0.48333   Acc: 168/208 (80.769%)\n",
            "Train Epoch: 131   Avg_Loss: 0.47624   Acc: 521/624 (83.494%)\n",
            "Eval:  Avg_Loss: 0.48408   Acc: 170/208 (81.731%)\n",
            "Train Epoch: 132   Avg_Loss: 0.48429   Acc: 512/624 (82.051%)\n",
            "Eval:  Avg_Loss: 0.48267   Acc: 171/208 (82.212%)\n",
            "Train Epoch: 133   Avg_Loss: 0.47928   Acc: 516/624 (82.692%)\n",
            "Eval:  Avg_Loss: 0.49019   Acc: 170/208 (81.731%)\n",
            "Train Epoch: 134   Avg_Loss: 0.48979   Acc: 508/624 (81.410%)\n",
            "Eval:  Avg_Loss: 0.48242   Acc: 170/208 (81.731%)\n",
            "Train Epoch: 135   Avg_Loss: 0.47637   Acc: 519/624 (83.173%)\n",
            "Eval:  Avg_Loss: 0.48326   Acc: 169/208 (81.250%)\n",
            "Train Epoch: 136   Avg_Loss: 0.48783   Acc: 513/624 (82.212%)\n",
            "Eval:  Avg_Loss: 0.48689   Acc: 168/208 (80.769%)\n",
            "Train Epoch: 137   Avg_Loss: 0.48162   Acc: 516/624 (82.692%)\n",
            "Eval:  Avg_Loss: 0.48510   Acc: 170/208 (81.731%)\n",
            "Train Epoch: 138   Avg_Loss: 0.48058   Acc: 515/624 (82.532%)\n",
            "Eval:  Avg_Loss: 0.49001   Acc: 169/208 (81.250%)\n",
            "Train Epoch: 139   Avg_Loss: 0.47795   Acc: 519/624 (83.173%)\n",
            "Eval:  Avg_Loss: 0.48344   Acc: 168/208 (80.769%)\n",
            "Train Epoch: 140   Avg_Loss: 0.47721   Acc: 516/624 (82.692%)\n",
            "Eval:  Avg_Loss: 0.48318   Acc: 170/208 (81.731%)\n",
            "Train Epoch: 141   Avg_Loss: 0.47357   Acc: 522/624 (83.654%)\n",
            "Eval:  Avg_Loss: 0.48550   Acc: 168/208 (80.769%)\n",
            "Train Epoch: 142   Avg_Loss: 0.48257   Acc: 519/624 (83.173%)\n",
            "Eval:  Avg_Loss: 0.49129   Acc: 169/208 (81.250%)\n",
            "Train Epoch: 143   Avg_Loss: 0.48806   Acc: 515/624 (82.532%)\n",
            "Eval:  Avg_Loss: 0.48239   Acc: 169/208 (81.250%)\n",
            "Train Epoch: 144   Avg_Loss: 0.47895   Acc: 517/624 (82.853%)\n",
            "Eval:  Avg_Loss: 0.48408   Acc: 170/208 (81.731%)\n",
            "Train Epoch: 145   Avg_Loss: 0.47471   Acc: 520/624 (83.333%)\n",
            "Eval:  Avg_Loss: 0.48232   Acc: 170/208 (81.731%)\n",
            "Train Epoch: 146   Avg_Loss: 0.47490   Acc: 522/624 (83.654%)\n",
            "Eval:  Avg_Loss: 0.48622   Acc: 170/208 (81.731%)\n",
            "Train Epoch: 147   Avg_Loss: 0.47834   Acc: 511/624 (81.891%)\n",
            "Eval:  Avg_Loss: 0.48488   Acc: 169/208 (81.250%)\n",
            "Train Epoch: 148   Avg_Loss: 0.47217   Acc: 521/624 (83.494%)\n",
            "Eval:  Avg_Loss: 0.48480   Acc: 172/208 (82.692%)\n",
            "Train Epoch: 149   Avg_Loss: 0.48329   Acc: 514/624 (82.372%)\n",
            "Eval:  Avg_Loss: 0.48272   Acc: 170/208 (81.731%)\n",
            "Train Epoch: 150   Avg_Loss: 0.47643   Acc: 521/624 (83.494%)\n",
            "Eval:  Avg_Loss: 0.48423   Acc: 169/208 (81.250%)\n",
            "Train Epoch: 151   Avg_Loss: 0.47336   Acc: 525/624 (84.135%)\n",
            "Eval:  Avg_Loss: 0.48707   Acc: 169/208 (81.250%)\n",
            "Train Epoch: 152   Avg_Loss: 0.47416   Acc: 524/624 (83.974%)\n",
            "Eval:  Avg_Loss: 0.48572   Acc: 168/208 (80.769%)\n",
            "Train Epoch: 153   Avg_Loss: 0.47772   Acc: 517/624 (82.853%)\n",
            "Eval:  Avg_Loss: 0.48417   Acc: 169/208 (81.250%)\n",
            "Train Epoch: 154   Avg_Loss: 0.47289   Acc: 523/624 (83.814%)\n",
            "Eval:  Avg_Loss: 0.48522   Acc: 171/208 (82.212%)\n",
            "Train Epoch: 155   Avg_Loss: 0.47375   Acc: 521/624 (83.494%)\n",
            "Eval:  Avg_Loss: 0.49058   Acc: 169/208 (81.250%)\n",
            "Train Epoch: 156   Avg_Loss: 0.48897   Acc: 507/624 (81.250%)\n",
            "Eval:  Avg_Loss: 0.48274   Acc: 171/208 (82.212%)\n",
            "Train Epoch: 157   Avg_Loss: 0.47505   Acc: 517/624 (82.853%)\n",
            "Eval:  Avg_Loss: 0.48475   Acc: 169/208 (81.250%)\n",
            "Train Epoch: 158   Avg_Loss: 0.47215   Acc: 522/624 (83.654%)\n",
            "Eval:  Avg_Loss: 0.48532   Acc: 169/208 (81.250%)\n",
            "Train Epoch: 159   Avg_Loss: 0.47141   Acc: 522/624 (83.654%)\n",
            "Eval:  Avg_Loss: 0.48518   Acc: 168/208 (80.769%)\n",
            "Train Epoch: 160   Avg_Loss: 0.47705   Acc: 517/624 (82.853%)\n",
            "Eval:  Avg_Loss: 0.48423   Acc: 170/208 (81.731%)\n",
            "Train Epoch: 161   Avg_Loss: 0.47799   Acc: 517/624 (82.853%)\n",
            "Eval:  Avg_Loss: 0.48451   Acc: 171/208 (82.212%)\n",
            "Train Epoch: 162   Avg_Loss: 0.47337   Acc: 517/624 (82.853%)\n",
            "Eval:  Avg_Loss: 0.48454   Acc: 170/208 (81.731%)\n",
            "Train Epoch: 163   Avg_Loss: 0.46983   Acc: 528/624 (84.615%)\n",
            "Eval:  Avg_Loss: 0.48576   Acc: 169/208 (81.250%)\n",
            "Train Epoch: 164   Avg_Loss: 0.47146   Acc: 518/624 (83.013%)\n",
            "Eval:  Avg_Loss: 0.48608   Acc: 169/208 (81.250%)\n",
            "Train Epoch: 165   Avg_Loss: 0.50455   Acc: 501/624 (80.288%)\n",
            "Eval:  Avg_Loss: 0.49101   Acc: 170/208 (81.731%)\n",
            "Train Epoch: 166   Avg_Loss: 0.48339   Acc: 513/624 (82.212%)\n",
            "Eval:  Avg_Loss: 0.48205   Acc: 173/208 (83.173%)\n",
            "Train Epoch: 167   Avg_Loss: 0.48783   Acc: 511/624 (81.891%)\n",
            "Eval:  Avg_Loss: 0.48657   Acc: 170/208 (81.731%)\n",
            "Train Epoch: 168   Avg_Loss: 0.48659   Acc: 509/624 (81.571%)\n",
            "Eval:  Avg_Loss: 0.48472   Acc: 170/208 (81.731%)\n",
            "Train Epoch: 169   Avg_Loss: 0.47250   Acc: 522/624 (83.654%)\n",
            "Eval:  Avg_Loss: 0.48437   Acc: 169/208 (81.250%)\n",
            "Train Epoch: 170   Avg_Loss: 0.48098   Acc: 514/624 (82.372%)\n",
            "Eval:  Avg_Loss: 0.48371   Acc: 169/208 (81.250%)\n",
            "Train Epoch: 171   Avg_Loss: 0.47537   Acc: 521/624 (83.494%)\n",
            "Eval:  Avg_Loss: 0.48381   Acc: 172/208 (82.692%)\n",
            "Train Epoch: 172   Avg_Loss: 0.47879   Acc: 516/624 (82.692%)\n",
            "Eval:  Avg_Loss: 0.48490   Acc: 170/208 (81.731%)\n",
            "Train Epoch: 173   Avg_Loss: 0.47412   Acc: 519/624 (83.173%)\n",
            "Eval:  Avg_Loss: 0.48562   Acc: 169/208 (81.250%)\n",
            "Train Epoch: 174   Avg_Loss: 0.47211   Acc: 521/624 (83.494%)\n",
            "Eval:  Avg_Loss: 0.48528   Acc: 169/208 (81.250%)\n",
            "Train Epoch: 175   Avg_Loss: 0.47664   Acc: 518/624 (83.013%)\n",
            "Eval:  Avg_Loss: 0.48591   Acc: 170/208 (81.731%)\n",
            "Train Epoch: 176   Avg_Loss: 0.47241   Acc: 523/624 (83.814%)\n",
            "Eval:  Avg_Loss: 0.48683   Acc: 169/208 (81.250%)\n",
            "Train Epoch: 177   Avg_Loss: 0.48026   Acc: 514/624 (82.372%)\n",
            "Eval:  Avg_Loss: 0.48323   Acc: 171/208 (82.212%)\n",
            "Train Epoch: 178   Avg_Loss: 0.47999   Acc: 519/624 (83.173%)\n",
            "Eval:  Avg_Loss: 0.48548   Acc: 169/208 (81.250%)\n",
            "Train Epoch: 179   Avg_Loss: 0.47496   Acc: 518/624 (83.013%)\n",
            "Eval:  Avg_Loss: 0.48608   Acc: 170/208 (81.731%)\n",
            "Train Epoch: 180   Avg_Loss: 0.47169   Acc: 523/624 (83.814%)\n",
            "Eval:  Avg_Loss: 0.48648   Acc: 169/208 (81.250%)\n",
            "Train Epoch: 181   Avg_Loss: 0.47332   Acc: 519/624 (83.173%)\n",
            "Eval:  Avg_Loss: 0.48369   Acc: 173/208 (83.173%)\n",
            "Train Epoch: 182   Avg_Loss: 0.47758   Acc: 518/624 (83.013%)\n",
            "Eval:  Avg_Loss: 0.48330   Acc: 170/208 (81.731%)\n",
            "Train Epoch: 183   Avg_Loss: 0.47451   Acc: 520/624 (83.333%)\n",
            "Eval:  Avg_Loss: 0.48485   Acc: 169/208 (81.250%)\n",
            "Train Epoch: 184   Avg_Loss: 0.47542   Acc: 522/624 (83.654%)\n",
            "Eval:  Avg_Loss: 0.48571   Acc: 170/208 (81.731%)\n",
            "Train Epoch: 185   Avg_Loss: 0.47464   Acc: 521/624 (83.494%)\n",
            "Eval:  Avg_Loss: 0.48437   Acc: 169/208 (81.250%)\n",
            "Train Epoch: 186   Avg_Loss: 0.47410   Acc: 520/624 (83.333%)\n",
            "Eval:  Avg_Loss: 0.48537   Acc: 170/208 (81.731%)\n",
            "Train Epoch: 187   Avg_Loss: 0.46806   Acc: 527/624 (84.455%)\n",
            "Eval:  Avg_Loss: 0.48553   Acc: 170/208 (81.731%)\n",
            "Train Epoch: 188   Avg_Loss: 0.47181   Acc: 522/624 (83.654%)\n",
            "Eval:  Avg_Loss: 0.48505   Acc: 169/208 (81.250%)\n",
            "Train Epoch: 189   Avg_Loss: 0.47263   Acc: 523/624 (83.814%)\n",
            "Eval:  Avg_Loss: 0.48329   Acc: 171/208 (82.212%)\n",
            "Train Epoch: 190   Avg_Loss: 0.47523   Acc: 519/624 (83.173%)\n",
            "Eval:  Avg_Loss: 0.48475   Acc: 170/208 (81.731%)\n",
            "Train Epoch: 191   Avg_Loss: 0.47102   Acc: 521/624 (83.494%)\n",
            "Eval:  Avg_Loss: 0.48363   Acc: 168/208 (80.769%)\n",
            "Train Epoch: 192   Avg_Loss: 0.47270   Acc: 522/624 (83.654%)\n",
            "Eval:  Avg_Loss: 0.48441   Acc: 170/208 (81.731%)\n",
            "Train Epoch: 193   Avg_Loss: 0.47975   Acc: 515/624 (82.532%)\n",
            "Eval:  Avg_Loss: 0.48087   Acc: 170/208 (81.731%)\n",
            "Train Epoch: 194   Avg_Loss: 0.47659   Acc: 516/624 (82.692%)\n",
            "Eval:  Avg_Loss: 0.48319   Acc: 169/208 (81.250%)\n",
            "Train Epoch: 195   Avg_Loss: 0.47774   Acc: 524/624 (83.974%)\n",
            "Eval:  Avg_Loss: 0.48396   Acc: 171/208 (82.212%)\n",
            "Train Epoch: 196   Avg_Loss: 0.47524   Acc: 520/624 (83.333%)\n",
            "Eval:  Avg_Loss: 0.48326   Acc: 169/208 (81.250%)\n",
            "Train Epoch: 197   Avg_Loss: 0.47156   Acc: 519/624 (83.173%)\n",
            "Eval:  Avg_Loss: 0.48495   Acc: 170/208 (81.731%)\n",
            "Train Epoch: 198   Avg_Loss: 0.47520   Acc: 519/624 (83.173%)\n",
            "Eval:  Avg_Loss: 0.48643   Acc: 170/208 (81.731%)\n",
            "Train Epoch: 199   Avg_Loss: 0.47402   Acc: 519/624 (83.173%)\n",
            "Eval:  Avg_Loss: 0.48483   Acc: 170/208 (81.731%)\n",
            "Train Epoch: 200   Avg_Loss: 0.47098   Acc: 522/624 (83.654%)\n",
            "Eval:  Avg_Loss: 0.48675   Acc: 169/208 (81.250%)\n",
            "\n",
            "\n",
            "\n",
            "Optimization ended.\n",
            "\n"
          ],
          "name": "stdout"
        }
      ]
    },
    {
      "cell_type": "markdown",
      "metadata": {
        "id": "86OZRLrjavmd"
      },
      "source": [
        "## Interpreting the output of the neural network"
      ]
    },
    {
      "cell_type": "code",
      "metadata": {
        "id": "mklvQruYavme",
        "colab": {
          "base_uri": "https://localhost:8080/"
        },
        "outputId": "ace54091-8b42-4312-c716-ba882bd29340"
      },
      "source": [
        "# Activate the evaluation mode\n",
        "neural_net = neural_net.eval()\n",
        "\n",
        "# Select the first 10 data points of the validation set\n",
        "data, target = val_dataset[0:10]\n",
        "data = data.to(device)\n",
        "\n",
        "# Executing the neural network\n",
        "output = neural_net(data)   # equivalent to neural_net.forward(data)\n",
        "\n",
        "# Transform the output into a probability distribution with a softmax function\n",
        "output_proba = F.softmax(output, dim=1)\n",
        "\n",
        "# Print the probability\n",
        "print(output_proba)"
      ],
      "execution_count": 31,
      "outputs": [
        {
          "output_type": "stream",
          "text": [
            "tensor([[0.7310, 0.2690],\n",
            "        [0.2689, 0.7311],\n",
            "        [0.7311, 0.2689],\n",
            "        [0.7061, 0.2939],\n",
            "        [0.7301, 0.2699],\n",
            "        [0.7309, 0.2691],\n",
            "        [0.2693, 0.7307],\n",
            "        [0.2790, 0.7210],\n",
            "        [0.7311, 0.2689],\n",
            "        [0.7311, 0.2689]], device='cuda:0', grad_fn=<SoftmaxBackward>)\n"
          ],
          "name": "stdout"
        }
      ]
    },
    {
      "cell_type": "code",
      "metadata": {
        "id": "RvIEqKt0qjeT",
        "colab": {
          "base_uri": "https://localhost:8080/"
        },
        "outputId": "40db2192-9311-4504-c801-be44e45ecb7d"
      },
      "source": [
        "# For each example, retrieve the class with the highest probability.\n",
        "dummy, prediction = torch.max(output_proba, dim=1)\n",
        "\n",
        "print(\"Model predictions\")\n",
        "print(prediction)\n",
        "print(dummy)\n",
        "print(\"Targets\")\n",
        "print(target)"
      ],
      "execution_count": 32,
      "outputs": [
        {
          "output_type": "stream",
          "text": [
            "Model predictions\n",
            "tensor([0, 1, 0, 0, 0, 0, 1, 1, 0, 0], device='cuda:0')\n",
            "tensor([0.7310, 0.7311, 0.7311, 0.7061, 0.7301, 0.7309, 0.7307, 0.7210, 0.7311,\n",
            "        0.7311], device='cuda:0', grad_fn=<MaxBackward0>)\n",
            "Targets\n",
            "tensor([0, 0, 0, 1, 1, 0, 1, 1, 0, 0])\n"
          ],
          "name": "stdout"
        }
      ]
    },
    {
      "cell_type": "code",
      "metadata": {
        "colab": {
          "base_uri": "https://localhost:8080/"
        },
        "id": "wn8s38SJio1W",
        "outputId": "3611064f-42d4-4b9d-df1a-3014732849a5"
      },
      "source": [
        "F1_score = f1_score(target.cpu().numpy(), prediction.cpu().numpy())\n",
        "print(f'F1 score is {F1_score:.2%}'.format(F1_score))"
      ],
      "execution_count": 33,
      "outputs": [
        {
          "output_type": "stream",
          "text": [
            "F1 score is 67.03%\n"
          ],
          "name": "stdout"
        }
      ]
    },
    {
      "cell_type": "markdown",
      "metadata": {
        "id": "V11J3Jihavmy"
      },
      "source": [
        "## Visualizing of the learning curve"
      ]
    },
    {
      "cell_type": "markdown",
      "metadata": {
        "id": "j9_9C_tXavmz"
      },
      "source": [
        "Learning curves allow detecting problems that may have occurred during learning, for example, unstable learning, underfitting, or overfitting."
      ]
    },
    {
      "cell_type": "code",
      "metadata": {
        "id": "iNcbpl0tavm0",
        "colab": {
          "base_uri": "https://localhost:8080/",
          "height": 279
        },
        "outputId": "decf6ce8-7442-4b2c-8261-cc961b0f4af0"
      },
      "source": [
        "x = list(range(len(train_losses)))\n",
        "ax = plt.subplot(111)\n",
        "plt.plot(x, train_losses, 'r', label=\"Train\")\n",
        "plt.plot(x, val_losses, 'g', label=\"Validation\")\n",
        "plt.xlabel('epoch')\n",
        "plt.ylabel('Cross-entropy loss')\n",
        "plt.grid()\n",
        "leg = plt.legend(loc='best', ncol=2, mode=\"expand\", shadow=False, fancybox=False)\n",
        "leg.get_frame().set_alpha(0.99)"
      ],
      "execution_count": 34,
      "outputs": [
        {
          "output_type": "display_data",
          "data": {
            "image/png": "[encoded data removed]",
            "text/plain": [
              "<Figure size 432x288 with 1 Axes>"
            ]
          },
          "metadata": {
            "tags": [],
            "needs_background": "light"
          }
        }
      ]
    },
    {
      "cell_type": "code",
      "metadata": {
        "id": "g-VGQ2pMavm4",
        "colab": {
          "base_uri": "https://localhost:8080/",
          "height": 279
        },
        "outputId": "d92191ee-5575-4527-bef8-0b237720ce5c"
      },
      "source": [
        "x = list(range(len(train_accuracies)))\n",
        "ax = plt.subplot(111)\n",
        "plt.plot(x, train_accuracies, 'r', label=\"Train\")\n",
        "plt.plot(x, val_accuracies, 'g', label=\"Validation\")\n",
        "plt.xlabel('epoch')\n",
        "plt.ylabel('Accuracy')\n",
        "plt.grid()\n",
        "leg = plt.legend(loc='best', ncol=2, mode=\"expand\", shadow=False, fancybox=False)\n",
        "leg.get_frame().set_alpha(0.99)"
      ],
      "execution_count": 35,
      "outputs": [
        {
          "output_type": "display_data",
          "data": {
            "image/png": "[encoded data removed]",
            "text/plain": [
              "<Figure size 432x288 with 1 Axes>"
            ]
          },
          "metadata": {
            "tags": [],
            "needs_background": "light"
          }
        }
      ]
    },
    {
      "cell_type": "markdown",
      "metadata": {
        "id": "8oktkpkuqjet"
      },
      "source": [
        "### Exercise 6\n",
        "\n",
        "*   What do you observe in the previous graphs?\n",
        "*   At which epoch is it interesting to retrieve the model parameters for inference?"
      ]
    },
    {
      "cell_type": "markdown",
      "metadata": {
        "id": "qwhRt39yzug-"
      },
      "source": [
        "... # To complete.\n"
      ]
    },
    {
      "cell_type": "markdown",
      "metadata": {
        "id": "XK_eUsq3avm8"
      },
      "source": [
        "## Evaluating the model"
      ]
    },
    {
      "cell_type": "markdown",
      "metadata": {
        "id": "4UREO5elavm8"
      },
      "source": [
        "We can finally evaluate our model on our test set and compare with the validation set."
      ]
    },
    {
      "cell_type": "code",
      "metadata": {
        "id": "3UZPvzjxlusr",
        "colab": {
          "base_uri": "https://localhost:8080/"
        },
        "outputId": "0cf35702-7e92-4f27-d983-eb7c41adb08d"
      },
      "source": [
        "valid_loss, valid_acc = evaluate(neural_net, val_loader, device)"
      ],
      "execution_count": 36,
      "outputs": [
        {
          "output_type": "stream",
          "text": [
            "Eval:  Avg_Loss: 0.48675   Acc: 169/208 (81.250%)\n"
          ],
          "name": "stdout"
        }
      ]
    },
    {
      "cell_type": "code",
      "metadata": {
        "id": "pPWvDM-qavm8",
        "colab": {
          "base_uri": "https://localhost:8080/"
        },
        "outputId": "58e8a244-0d83-4dfd-e0af-60ed26877b2b"
      },
      "source": [
        "test_loss, test_acc = evaluate(neural_net, test_loader, device)"
      ],
      "execution_count": 37,
      "outputs": [
        {
          "output_type": "stream",
          "text": [
            "Eval:  Avg_Loss: 0.49298   Acc: 170/209 (81.340%)\n"
          ],
          "name": "stdout"
        }
      ]
    },
    {
      "cell_type": "markdown",
      "metadata": {
        "id": "EvP_-KUwqjez"
      },
      "source": [
        "### Exercise 7\n",
        "\n",
        "* Compare validation and test metrics.\n",
        "* Do you think the chosen features are informative of the fate of the passenger?"
      ]
    },
    {
      "cell_type": "markdown",
      "metadata": {
        "id": "Ov4CKUFh5tun"
      },
      "source": [
        "... # To complete.\n",
        "\n",
        "\n"
      ]
    },
    {
      "cell_type": "code",
      "metadata": {
        "colab": {
          "base_uri": "https://localhost:8080/"
        },
        "id": "AfUHiLk5jbC8",
        "outputId": "cc7b2184-4619-40ae-8145-73bb4611e5fa"
      },
      "source": [
        "!pip install torchviz"
      ],
      "execution_count": 43,
      "outputs": [
        {
          "output_type": "stream",
          "text": [
            "Collecting torchviz\n",
            "  Downloading https://files.pythonhosted.org/packages/79/e7/643808913211d6c1fc96a3a4333bf4c9276858fab00bcafaf98ea58a97be/torchviz-0.0.2.tar.gz\n",
            "Requirement already satisfied: torch in /usr/local/lib/python3.7/dist-packages (from torchviz) (1.8.1+cu101)\n",
            "Requirement already satisfied: graphviz in /usr/local/lib/python3.7/dist-packages (from torchviz) (0.10.1)\n",
            "Requirement already satisfied: typing-extensions in /usr/local/lib/python3.7/dist-packages (from torch->torchviz) (3.7.4.3)\n",
            "Requirement already satisfied: numpy in /usr/local/lib/python3.7/dist-packages (from torch->torchviz) (1.19.5)\n",
            "Building wheels for collected packages: torchviz\n",
            "  Building wheel for torchviz (setup.py) ... \u001b[?25l\u001b[?25hdone\n",
            "  Created wheel for torchviz: filename=torchviz-0.0.2-cp37-none-any.whl size=4152 sha256=82910278b43d5504b77244dd896a232add522773e2b1b71a2330df23cda0bf92\n",
            "  Stored in directory: /root/.cache/pip/wheels/01/26/58/026ffd533dbe8b3972eb423da9c7949beca68d1c98ed9e8624\n",
            "Successfully built torchviz\n",
            "Installing collected packages: torchviz\n",
            "Successfully installed torchviz-0.0.2\n"
          ],
          "name": "stdout"
        }
      ]
    },
    {
      "cell_type": "code",
      "metadata": {
        "id": "rueFjis6YlLN",
        "colab": {
          "base_uri": "https://localhost:8080/",
          "height": 997
        },
        "outputId": "5bed9670-8666-4adf-ab61-f4616367f22f"
      },
      "source": [
        "import graphviz\n",
        "import torchviz\n",
        "\n",
        "torchviz.make_dot(output,params=dict(neural_net.named_parameters()))"
      ],
      "execution_count": 50,
      "outputs": [
        {
          "output_type": "execute_result",
          "data": {
            "text/plain": [
              "<graphviz.dot.Digraph at 0x7fa51e174090>"
            ],
            "image/svg+xml": "<?xml version=\"1.0\" encoding=\"UTF-8\" standalone=\"no\"?>\n<!DOCTYPE svg PUBLIC \"-//W3C//DTD SVG 1.1//EN\"\n \"http://www.w3.org/Graphics/SVG/1.1/DTD/svg11.dtd\">\n<!-- Generated by graphviz version 2.40.1 (20161225.0304)\n -->\n<!-- Title: %3 Pages: 1 -->\n<svg width=\"450pt\" height=\"732pt\"\n viewBox=\"0.00 0.00 450.00 732.00\" xmlns=\"http://www.w3.org/2000/svg\" xmlns:xlink=\"http://www.w3.org/1999/xlink\">\n<g id=\"graph0\" class=\"graph\" transform=\"scale(1 1) rotate(0) translate(4 728)\">\n<title>%3</title>\n<polygon fill=\"#ffffff\" stroke=\"transparent\" points=\"-4,4 -4,-728 446,-728 446,4 -4,4\"/>\n<!-- 140347167371824 -->\n<g id=\"node1\" class=\"node\">\n<title>140347167371824</title>\n<polygon fill=\"#caff70\" stroke=\"#000000\" points=\"251,-31 186,-31 186,0 251,0 251,-31\"/>\n<text text-anchor=\"middle\" x=\"218.5\" y=\"-7\" font-family=\"monospace\" font-size=\"10.00\" fill=\"#000000\"> (10, 2)</text>\n</g>\n<!-- 140347151634128 -->\n<g id=\"node2\" class=\"node\">\n<title>140347151634128</title>\n<polygon fill=\"#d3d3d3\" stroke=\"#000000\" points=\"272,-86 165,-86 165,-67 272,-67 272,-86\"/>\n<text text-anchor=\"middle\" x=\"218.5\" y=\"-74\" font-family=\"monospace\" font-size=\"10.00\" fill=\"#000000\">SigmoidBackward</text>\n</g>\n<!-- 140347151634128&#45;&gt;140347167371824 -->\n<g id=\"edge28\" class=\"edge\">\n<title>140347151634128&#45;&gt;140347167371824</title>\n<path fill=\"none\" stroke=\"#000000\" d=\"M218.5,-66.9688C218.5,-60.1289 218.5,-50.5621 218.5,-41.5298\"/>\n<polygon fill=\"#000000\" stroke=\"#000000\" points=\"222.0001,-41.3678 218.5,-31.3678 215.0001,-41.3678 222.0001,-41.3678\"/>\n</g>\n<!-- 140347152037648 -->\n<g id=\"node3\" class=\"node\">\n<title>140347152037648</title>\n<polygon fill=\"#d3d3d3\" stroke=\"#000000\" points=\"266,-141 171,-141 171,-122 266,-122 266,-141\"/>\n<text text-anchor=\"middle\" x=\"218.5\" y=\"-129\" font-family=\"monospace\" font-size=\"10.00\" fill=\"#000000\">AddmmBackward</text>\n</g>\n<!-- 140347152037648&#45;&gt;140347151634128 -->\n<g id=\"edge1\" class=\"edge\">\n<title>140347152037648&#45;&gt;140347151634128</title>\n<path fill=\"none\" stroke=\"#000000\" d=\"M218.5,-121.9197C218.5,-114.9083 218.5,-105.1442 218.5,-96.4652\"/>\n<polygon fill=\"#000000\" stroke=\"#000000\" points=\"222.0001,-96.3408 218.5,-86.3408 215.0001,-96.3409 222.0001,-96.3408\"/>\n</g>\n<!-- 140347151173776 -->\n<g id=\"node4\" class=\"node\">\n<title>140347151173776</title>\n<polygon fill=\"#d3d3d3\" stroke=\"#000000\" points=\"153,-196 52,-196 52,-177 153,-177 153,-196\"/>\n<text text-anchor=\"middle\" x=\"102.5\" y=\"-184\" font-family=\"monospace\" font-size=\"10.00\" fill=\"#000000\">AccumulateGrad</text>\n</g>\n<!-- 140347151173776&#45;&gt;140347152037648 -->\n<g id=\"edge2\" class=\"edge\">\n<title>140347151173776&#45;&gt;140347152037648</title>\n<path fill=\"none\" stroke=\"#000000\" d=\"M122.7057,-176.9197C140.9737,-168.2581 168.1018,-155.3957 188.8304,-145.5675\"/>\n<polygon fill=\"#000000\" stroke=\"#000000\" points=\"190.6004,-148.6018 198.1367,-141.155 187.6014,-142.2768 190.6004,-148.6018\"/>\n</g>\n<!-- 140347167455024 -->\n<g id=\"node5\" class=\"node\">\n<title>140347167455024</title>\n<polygon fill=\"#add8e6\" stroke=\"#000000\" points=\"144,-262 61,-262 61,-232 144,-232 144,-262\"/>\n<text text-anchor=\"middle\" x=\"102.5\" y=\"-250\" font-family=\"monospace\" font-size=\"10.00\" fill=\"#000000\">output.bias</text>\n<text text-anchor=\"middle\" x=\"102.5\" y=\"-239\" font-family=\"monospace\" font-size=\"10.00\" fill=\"#000000\"> (2)</text>\n</g>\n<!-- 140347167455024&#45;&gt;140347151173776 -->\n<g id=\"edge3\" class=\"edge\">\n<title>140347167455024&#45;&gt;140347151173776</title>\n<path fill=\"none\" stroke=\"#000000\" d=\"M102.5,-231.7333C102.5,-224.0322 102.5,-214.5977 102.5,-206.3414\"/>\n<polygon fill=\"#000000\" stroke=\"#000000\" points=\"106.0001,-206.0864 102.5,-196.0864 99.0001,-206.0864 106.0001,-206.0864\"/>\n</g>\n<!-- 140347151173264 -->\n<g id=\"node6\" class=\"node\">\n<title>140347151173264</title>\n<polygon fill=\"#d3d3d3\" stroke=\"#000000\" points=\"266,-196 171,-196 171,-177 266,-177 266,-196\"/>\n<text text-anchor=\"middle\" x=\"218.5\" y=\"-184\" font-family=\"monospace\" font-size=\"10.00\" fill=\"#000000\">ReluBackward0</text>\n</g>\n<!-- 140347151173264&#45;&gt;140347152037648 -->\n<g id=\"edge4\" class=\"edge\">\n<title>140347151173264&#45;&gt;140347152037648</title>\n<path fill=\"none\" stroke=\"#000000\" d=\"M218.5,-176.9197C218.5,-169.9083 218.5,-160.1442 218.5,-151.4652\"/>\n<polygon fill=\"#000000\" stroke=\"#000000\" points=\"222.0001,-151.3408 218.5,-141.3408 215.0001,-151.3409 222.0001,-151.3408\"/>\n</g>\n<!-- 140347151175248 -->\n<g id=\"node7\" class=\"node\">\n<title>140347151175248</title>\n<polygon fill=\"#d3d3d3\" stroke=\"#000000\" points=\"261,-256.5 166,-256.5 166,-237.5 261,-237.5 261,-256.5\"/>\n<text text-anchor=\"middle\" x=\"213.5\" y=\"-244.5\" font-family=\"monospace\" font-size=\"10.00\" fill=\"#000000\">AddmmBackward</text>\n</g>\n<!-- 140347151175248&#45;&gt;140347151173264 -->\n<g id=\"edge5\" class=\"edge\">\n<title>140347151175248&#45;&gt;140347151173264</title>\n<path fill=\"none\" stroke=\"#000000\" d=\"M214.3033,-237.2796C214.9845,-229.0376 215.9838,-216.9457 216.8364,-206.629\"/>\n<polygon fill=\"#000000\" stroke=\"#000000\" points=\"220.3464,-206.6516 217.682,-196.3972 213.3702,-206.075 220.3464,-206.6516\"/>\n</g>\n<!-- 140347151173072 -->\n<g id=\"node8\" class=\"node\">\n<title>140347151173072</title>\n<polygon fill=\"#d3d3d3\" stroke=\"#000000\" points=\"127,-322.5 26,-322.5 26,-303.5 127,-303.5 127,-322.5\"/>\n<text text-anchor=\"middle\" x=\"76.5\" y=\"-310.5\" font-family=\"monospace\" font-size=\"10.00\" fill=\"#000000\">AccumulateGrad</text>\n</g>\n<!-- 140347151173072&#45;&gt;140347151175248 -->\n<g id=\"edge6\" class=\"edge\">\n<title>140347151173072&#45;&gt;140347151175248</title>\n<path fill=\"none\" stroke=\"#000000\" d=\"M96.421,-303.403C119.5543,-292.2585 157.9168,-273.7773 184.3899,-261.0238\"/>\n<polygon fill=\"#000000\" stroke=\"#000000\" points=\"186.065,-264.1019 193.555,-256.6085 183.0268,-257.7956 186.065,-264.1019\"/>\n</g>\n<!-- 140347167462896 -->\n<g id=\"node9\" class=\"node\">\n<title>140347167462896</title>\n<polygon fill=\"#add8e6\" stroke=\"#000000\" points=\"118,-394 35,-394 35,-364 118,-364 118,-394\"/>\n<text text-anchor=\"middle\" x=\"76.5\" y=\"-382\" font-family=\"monospace\" font-size=\"10.00\" fill=\"#000000\">layer3.bias</text>\n<text text-anchor=\"middle\" x=\"76.5\" y=\"-371\" font-family=\"monospace\" font-size=\"10.00\" fill=\"#000000\"> (20)</text>\n</g>\n<!-- 140347167462896&#45;&gt;140347151173072 -->\n<g id=\"edge7\" class=\"edge\">\n<title>140347167462896&#45;&gt;140347151173072</title>\n<path fill=\"none\" stroke=\"#000000\" d=\"M76.5,-363.6924C76.5,-354.5067 76.5,-342.7245 76.5,-332.8312\"/>\n<polygon fill=\"#000000\" stroke=\"#000000\" points=\"80.0001,-332.703 76.5,-322.7031 73.0001,-332.7031 80.0001,-332.703\"/>\n</g>\n<!-- 140347151173200 -->\n<g id=\"node10\" class=\"node\">\n<title>140347151173200</title>\n<polygon fill=\"#d3d3d3\" stroke=\"#000000\" points=\"240,-322.5 145,-322.5 145,-303.5 240,-303.5 240,-322.5\"/>\n<text text-anchor=\"middle\" x=\"192.5\" y=\"-310.5\" font-family=\"monospace\" font-size=\"10.00\" fill=\"#000000\">ReluBackward0</text>\n</g>\n<!-- 140347151173200&#45;&gt;140347151175248 -->\n<g id=\"edge8\" class=\"edge\">\n<title>140347151173200&#45;&gt;140347151175248</title>\n<path fill=\"none\" stroke=\"#000000\" d=\"M195.5986,-303.2615C198.6695,-293.6102 203.4588,-278.558 207.3112,-266.4506\"/>\n<polygon fill=\"#000000\" stroke=\"#000000\" points=\"210.6918,-267.369 210.3887,-256.7785 204.0213,-265.2465 210.6918,-267.369\"/>\n</g>\n<!-- 140347151175568 -->\n<g id=\"node11\" class=\"node\">\n<title>140347151175568</title>\n<polygon fill=\"#d3d3d3\" stroke=\"#000000\" points=\"235,-388.5 140,-388.5 140,-369.5 235,-369.5 235,-388.5\"/>\n<text text-anchor=\"middle\" x=\"187.5\" y=\"-376.5\" font-family=\"monospace\" font-size=\"10.00\" fill=\"#000000\">AddmmBackward</text>\n</g>\n<!-- 140347151175568&#45;&gt;140347151173200 -->\n<g id=\"edge9\" class=\"edge\">\n<title>140347151175568&#45;&gt;140347151173200</title>\n<path fill=\"none\" stroke=\"#000000\" d=\"M188.2378,-369.2615C188.9615,-359.7077 190.0862,-344.8615 190.9986,-332.8183\"/>\n<polygon fill=\"#000000\" stroke=\"#000000\" points=\"194.4937,-333.0143 191.7592,-322.7785 187.5137,-332.4855 194.4937,-333.0143\"/>\n</g>\n<!-- 140347151174544 -->\n<g id=\"node12\" class=\"node\">\n<title>140347151174544</title>\n<polygon fill=\"#d3d3d3\" stroke=\"#000000\" points=\"101,-454.5 0,-454.5 0,-435.5 101,-435.5 101,-454.5\"/>\n<text text-anchor=\"middle\" x=\"50.5\" y=\"-442.5\" font-family=\"monospace\" font-size=\"10.00\" fill=\"#000000\">AccumulateGrad</text>\n</g>\n<!-- 140347151174544&#45;&gt;140347151175568 -->\n<g id=\"edge10\" class=\"edge\">\n<title>140347151174544&#45;&gt;140347151175568</title>\n<path fill=\"none\" stroke=\"#000000\" d=\"M70.421,-435.403C93.5543,-424.2585 131.9168,-405.7773 158.3899,-393.0238\"/>\n<polygon fill=\"#000000\" stroke=\"#000000\" points=\"160.065,-396.1019 167.555,-388.6085 157.0268,-389.7956 160.065,-396.1019\"/>\n</g>\n<!-- 140347167463056 -->\n<g id=\"node13\" class=\"node\">\n<title>140347167463056</title>\n<polygon fill=\"#add8e6\" stroke=\"#000000\" points=\"92,-526 9,-526 9,-496 92,-496 92,-526\"/>\n<text text-anchor=\"middle\" x=\"50.5\" y=\"-514\" font-family=\"monospace\" font-size=\"10.00\" fill=\"#000000\">layer2.bias</text>\n<text text-anchor=\"middle\" x=\"50.5\" y=\"-503\" font-family=\"monospace\" font-size=\"10.00\" fill=\"#000000\"> (40)</text>\n</g>\n<!-- 140347167463056&#45;&gt;140347151174544 -->\n<g id=\"edge11\" class=\"edge\">\n<title>140347167463056&#45;&gt;140347151174544</title>\n<path fill=\"none\" stroke=\"#000000\" d=\"M50.5,-495.6924C50.5,-486.5067 50.5,-474.7245 50.5,-464.8312\"/>\n<polygon fill=\"#000000\" stroke=\"#000000\" points=\"54.0001,-464.703 50.5,-454.7031 47.0001,-464.7031 54.0001,-464.703\"/>\n</g>\n<!-- 140347151172240 -->\n<g id=\"node14\" class=\"node\">\n<title>140347151172240</title>\n<polygon fill=\"#d3d3d3\" stroke=\"#000000\" points=\"214,-454.5 119,-454.5 119,-435.5 214,-435.5 214,-454.5\"/>\n<text text-anchor=\"middle\" x=\"166.5\" y=\"-442.5\" font-family=\"monospace\" font-size=\"10.00\" fill=\"#000000\">ReluBackward0</text>\n</g>\n<!-- 140347151172240&#45;&gt;140347151175568 -->\n<g id=\"edge12\" class=\"edge\">\n<title>140347151172240&#45;&gt;140347151175568</title>\n<path fill=\"none\" stroke=\"#000000\" d=\"M169.5986,-435.2615C172.6695,-425.6102 177.4588,-410.558 181.3112,-398.4506\"/>\n<polygon fill=\"#000000\" stroke=\"#000000\" points=\"184.6918,-399.369 184.3887,-388.7785 178.0213,-397.2465 184.6918,-399.369\"/>\n</g>\n<!-- 140347151173136 -->\n<g id=\"node15\" class=\"node\">\n<title>140347151173136</title>\n<polygon fill=\"#d3d3d3\" stroke=\"#000000\" points=\"209,-520.5 114,-520.5 114,-501.5 209,-501.5 209,-520.5\"/>\n<text text-anchor=\"middle\" x=\"161.5\" y=\"-508.5\" font-family=\"monospace\" font-size=\"10.00\" fill=\"#000000\">AddmmBackward</text>\n</g>\n<!-- 140347151173136&#45;&gt;140347151172240 -->\n<g id=\"edge13\" class=\"edge\">\n<title>140347151173136&#45;&gt;140347151172240</title>\n<path fill=\"none\" stroke=\"#000000\" d=\"M162.2378,-501.2615C162.9615,-491.7077 164.0862,-476.8615 164.9986,-464.8183\"/>\n<polygon fill=\"#000000\" stroke=\"#000000\" points=\"168.4937,-465.0143 165.7592,-454.7785 161.5137,-464.4855 168.4937,-465.0143\"/>\n</g>\n<!-- 140347151172304 -->\n<g id=\"node16\" class=\"node\">\n<title>140347151172304</title>\n<polygon fill=\"#d3d3d3\" stroke=\"#000000\" points=\"112,-586.5 11,-586.5 11,-567.5 112,-567.5 112,-586.5\"/>\n<text text-anchor=\"middle\" x=\"61.5\" y=\"-574.5\" font-family=\"monospace\" font-size=\"10.00\" fill=\"#000000\">AccumulateGrad</text>\n</g>\n<!-- 140347151172304&#45;&gt;140347151173136 -->\n<g id=\"edge14\" class=\"edge\">\n<title>140347151172304&#45;&gt;140347151173136</title>\n<path fill=\"none\" stroke=\"#000000\" d=\"M76.2553,-567.2615C92.6709,-556.4272 119.3988,-538.7868 138.5509,-526.1464\"/>\n<polygon fill=\"#000000\" stroke=\"#000000\" points=\"140.5911,-528.9935 147.0092,-520.5639 136.7352,-523.1512 140.5911,-528.9935\"/>\n</g>\n<!-- 140347167462656 -->\n<g id=\"node17\" class=\"node\">\n<title>140347167462656</title>\n<polygon fill=\"#add8e6\" stroke=\"#000000\" points=\"102,-658 19,-658 19,-628 102,-628 102,-658\"/>\n<text text-anchor=\"middle\" x=\"60.5\" y=\"-646\" font-family=\"monospace\" font-size=\"10.00\" fill=\"#000000\">layer1.bias</text>\n<text text-anchor=\"middle\" x=\"60.5\" y=\"-635\" font-family=\"monospace\" font-size=\"10.00\" fill=\"#000000\"> (20)</text>\n</g>\n<!-- 140347167462656&#45;&gt;140347151172304 -->\n<g id=\"edge15\" class=\"edge\">\n<title>140347167462656&#45;&gt;140347151172304</title>\n<path fill=\"none\" stroke=\"#000000\" d=\"M60.7319,-627.6924C60.8711,-618.5067 61.0496,-606.7245 61.1995,-596.8312\"/>\n<polygon fill=\"#000000\" stroke=\"#000000\" points=\"64.701,-596.755 61.353,-586.7031 57.7018,-596.6489 64.701,-596.755\"/>\n</g>\n<!-- 140347151174032 -->\n<g id=\"node18\" class=\"node\">\n<title>140347151174032</title>\n<polygon fill=\"#d3d3d3\" stroke=\"#000000\" points=\"204,-586.5 133,-586.5 133,-567.5 204,-567.5 204,-586.5\"/>\n<text text-anchor=\"middle\" x=\"168.5\" y=\"-574.5\" font-family=\"monospace\" font-size=\"10.00\" fill=\"#000000\">TBackward</text>\n</g>\n<!-- 140347151174032&#45;&gt;140347151173136 -->\n<g id=\"edge16\" class=\"edge\">\n<title>140347151174032&#45;&gt;140347151173136</title>\n<path fill=\"none\" stroke=\"#000000\" d=\"M167.4671,-567.2615C166.4538,-557.7077 164.8793,-542.8615 163.6019,-530.8183\"/>\n<polygon fill=\"#000000\" stroke=\"#000000\" points=\"167.0724,-530.3535 162.5371,-520.7785 160.1114,-531.0919 167.0724,-530.3535\"/>\n</g>\n<!-- 140347151172112 -->\n<g id=\"node19\" class=\"node\">\n<title>140347151172112</title>\n<polygon fill=\"#d3d3d3\" stroke=\"#000000\" points=\"221,-652.5 120,-652.5 120,-633.5 221,-633.5 221,-652.5\"/>\n<text text-anchor=\"middle\" x=\"170.5\" y=\"-640.5\" font-family=\"monospace\" font-size=\"10.00\" fill=\"#000000\">AccumulateGrad</text>\n</g>\n<!-- 140347151172112&#45;&gt;140347151174032 -->\n<g id=\"edge17\" class=\"edge\">\n<title>140347151172112&#45;&gt;140347151174032</title>\n<path fill=\"none\" stroke=\"#000000\" d=\"M170.2049,-633.2615C169.9154,-623.7077 169.4655,-608.8615 169.1006,-596.8183\"/>\n<polygon fill=\"#000000\" stroke=\"#000000\" points=\"172.5977,-596.6678 168.7963,-586.7785 165.6009,-596.8799 172.5977,-596.6678\"/>\n</g>\n<!-- 140347167462576 -->\n<g id=\"node20\" class=\"node\">\n<title>140347167462576</title>\n<polygon fill=\"#add8e6\" stroke=\"#000000\" points=\"218,-724 123,-724 123,-694 218,-694 218,-724\"/>\n<text text-anchor=\"middle\" x=\"170.5\" y=\"-712\" font-family=\"monospace\" font-size=\"10.00\" fill=\"#000000\">layer1.weight</text>\n<text text-anchor=\"middle\" x=\"170.5\" y=\"-701\" font-family=\"monospace\" font-size=\"10.00\" fill=\"#000000\"> (20, 12)</text>\n</g>\n<!-- 140347167462576&#45;&gt;140347151172112 -->\n<g id=\"edge18\" class=\"edge\">\n<title>140347167462576&#45;&gt;140347151172112</title>\n<path fill=\"none\" stroke=\"#000000\" d=\"M170.5,-693.6924C170.5,-684.5067 170.5,-672.7245 170.5,-662.8312\"/>\n<polygon fill=\"#000000\" stroke=\"#000000\" points=\"174.0001,-662.703 170.5,-652.7031 167.0001,-662.7031 174.0001,-662.703\"/>\n</g>\n<!-- 140347151173456 -->\n<g id=\"node21\" class=\"node\">\n<title>140347151173456</title>\n<polygon fill=\"#d3d3d3\" stroke=\"#000000\" points=\"303,-454.5 232,-454.5 232,-435.5 303,-435.5 303,-454.5\"/>\n<text text-anchor=\"middle\" x=\"267.5\" y=\"-442.5\" font-family=\"monospace\" font-size=\"10.00\" fill=\"#000000\">TBackward</text>\n</g>\n<!-- 140347151173456&#45;&gt;140347151175568 -->\n<g id=\"edge19\" class=\"edge\">\n<title>140347151173456&#45;&gt;140347151175568</title>\n<path fill=\"none\" stroke=\"#000000\" d=\"M255.6957,-435.2615C242.8604,-424.6723 222.1442,-407.5815 206.9083,-395.0119\"/>\n<polygon fill=\"#000000\" stroke=\"#000000\" points=\"209.0337,-392.228 199.0926,-388.5639 204.579,-397.6276 209.0337,-392.228\"/>\n</g>\n<!-- 140347151171984 -->\n<g id=\"node22\" class=\"node\">\n<title>140347151171984</title>\n<polygon fill=\"#d3d3d3\" stroke=\"#000000\" points=\"328,-520.5 227,-520.5 227,-501.5 328,-501.5 328,-520.5\"/>\n<text text-anchor=\"middle\" x=\"277.5\" y=\"-508.5\" font-family=\"monospace\" font-size=\"10.00\" fill=\"#000000\">AccumulateGrad</text>\n</g>\n<!-- 140347151171984&#45;&gt;140347151173456 -->\n<g id=\"edge20\" class=\"edge\">\n<title>140347151171984&#45;&gt;140347151173456</title>\n<path fill=\"none\" stroke=\"#000000\" d=\"M276.0245,-501.2615C274.5769,-491.7077 272.3275,-476.8615 270.5028,-464.8183\"/>\n<polygon fill=\"#000000\" stroke=\"#000000\" points=\"273.9402,-464.1413 268.9816,-454.7785 267.0192,-465.19 273.9402,-464.1413\"/>\n</g>\n<!-- 140347167462976 -->\n<g id=\"node23\" class=\"node\">\n<title>140347167462976</title>\n<polygon fill=\"#add8e6\" stroke=\"#000000\" points=\"325,-592 230,-592 230,-562 325,-562 325,-592\"/>\n<text text-anchor=\"middle\" x=\"277.5\" y=\"-580\" font-family=\"monospace\" font-size=\"10.00\" fill=\"#000000\">layer2.weight</text>\n<text text-anchor=\"middle\" x=\"277.5\" y=\"-569\" font-family=\"monospace\" font-size=\"10.00\" fill=\"#000000\"> (40, 20)</text>\n</g>\n<!-- 140347167462976&#45;&gt;140347151171984 -->\n<g id=\"edge21\" class=\"edge\">\n<title>140347167462976&#45;&gt;140347151171984</title>\n<path fill=\"none\" stroke=\"#000000\" d=\"M277.5,-561.6924C277.5,-552.5067 277.5,-540.7245 277.5,-530.8312\"/>\n<polygon fill=\"#000000\" stroke=\"#000000\" points=\"281.0001,-530.703 277.5,-520.7031 274.0001,-530.7031 281.0001,-530.703\"/>\n</g>\n<!-- 140347151173008 -->\n<g id=\"node24\" class=\"node\">\n<title>140347151173008</title>\n<polygon fill=\"#d3d3d3\" stroke=\"#000000\" points=\"329,-322.5 258,-322.5 258,-303.5 329,-303.5 329,-322.5\"/>\n<text text-anchor=\"middle\" x=\"293.5\" y=\"-310.5\" font-family=\"monospace\" font-size=\"10.00\" fill=\"#000000\">TBackward</text>\n</g>\n<!-- 140347151173008&#45;&gt;140347151175248 -->\n<g id=\"edge22\" class=\"edge\">\n<title>140347151173008&#45;&gt;140347151175248</title>\n<path fill=\"none\" stroke=\"#000000\" d=\"M281.6957,-303.2615C268.8604,-292.6723 248.1442,-275.5815 232.9083,-263.0119\"/>\n<polygon fill=\"#000000\" stroke=\"#000000\" points=\"235.0337,-260.228 225.0926,-256.5639 230.579,-265.6276 235.0337,-260.228\"/>\n</g>\n<!-- 140347151174864 -->\n<g id=\"node25\" class=\"node\">\n<title>140347151174864</title>\n<polygon fill=\"#d3d3d3\" stroke=\"#000000\" points=\"397,-388.5 296,-388.5 296,-369.5 397,-369.5 397,-388.5\"/>\n<text text-anchor=\"middle\" x=\"346.5\" y=\"-376.5\" font-family=\"monospace\" font-size=\"10.00\" fill=\"#000000\">AccumulateGrad</text>\n</g>\n<!-- 140347151174864&#45;&gt;140347151173008 -->\n<g id=\"edge23\" class=\"edge\">\n<title>140347151174864&#45;&gt;140347151173008</title>\n<path fill=\"none\" stroke=\"#000000\" d=\"M338.6797,-369.2615C330.538,-359.1228 317.61,-343.0238 307.6652,-330.6397\"/>\n<polygon fill=\"#000000\" stroke=\"#000000\" points=\"310.3428,-328.3842 301.3524,-322.7785 304.8848,-332.7671 310.3428,-328.3842\"/>\n</g>\n<!-- 140347167462816 -->\n<g id=\"node26\" class=\"node\">\n<title>140347167462816</title>\n<polygon fill=\"#add8e6\" stroke=\"#000000\" points=\"416,-460 321,-460 321,-430 416,-430 416,-460\"/>\n<text text-anchor=\"middle\" x=\"368.5\" y=\"-448\" font-family=\"monospace\" font-size=\"10.00\" fill=\"#000000\">layer3.weight</text>\n<text text-anchor=\"middle\" x=\"368.5\" y=\"-437\" font-family=\"monospace\" font-size=\"10.00\" fill=\"#000000\"> (20, 40)</text>\n</g>\n<!-- 140347167462816&#45;&gt;140347151174864 -->\n<g id=\"edge24\" class=\"edge\">\n<title>140347167462816&#45;&gt;140347151174864</title>\n<path fill=\"none\" stroke=\"#000000\" d=\"M363.3975,-429.6924C360.2697,-420.3092 356.2388,-408.2165 352.8985,-398.1956\"/>\n<polygon fill=\"#000000\" stroke=\"#000000\" points=\"356.2171,-397.0831 349.7344,-388.7031 349.5763,-399.2967 356.2171,-397.0831\"/>\n</g>\n<!-- 140347151172944 -->\n<g id=\"node27\" class=\"node\">\n<title>140347151172944</title>\n<polygon fill=\"#d3d3d3\" stroke=\"#000000\" points=\"381,-196 310,-196 310,-177 381,-177 381,-196\"/>\n<text text-anchor=\"middle\" x=\"345.5\" y=\"-184\" font-family=\"monospace\" font-size=\"10.00\" fill=\"#000000\">TBackward</text>\n</g>\n<!-- 140347151172944&#45;&gt;140347152037648 -->\n<g id=\"edge25\" class=\"edge\">\n<title>140347151172944&#45;&gt;140347152037648</title>\n<path fill=\"none\" stroke=\"#000000\" d=\"M323.3783,-176.9197C303.1064,-168.1406 272.8692,-155.0457 250.0628,-145.1689\"/>\n<polygon fill=\"#000000\" stroke=\"#000000\" points=\"251.3617,-141.9174 240.7943,-141.155 248.5798,-148.3409 251.3617,-141.9174\"/>\n</g>\n<!-- 140347151173840 -->\n<g id=\"node28\" class=\"node\">\n<title>140347151173840</title>\n<polygon fill=\"#d3d3d3\" stroke=\"#000000\" points=\"423,-256.5 322,-256.5 322,-237.5 423,-237.5 423,-256.5\"/>\n<text text-anchor=\"middle\" x=\"372.5\" y=\"-244.5\" font-family=\"monospace\" font-size=\"10.00\" fill=\"#000000\">AccumulateGrad</text>\n</g>\n<!-- 140347151173840&#45;&gt;140347151172944 -->\n<g id=\"edge26\" class=\"edge\">\n<title>140347151173840&#45;&gt;140347151172944</title>\n<path fill=\"none\" stroke=\"#000000\" d=\"M368.162,-237.2796C364.3663,-228.7746 358.7412,-216.17 354.0449,-205.6469\"/>\n<polygon fill=\"#000000\" stroke=\"#000000\" points=\"357.1886,-204.1027 349.9169,-196.3972 350.7962,-206.9555 357.1886,-204.1027\"/>\n</g>\n<!-- 140347167453264 -->\n<g id=\"node29\" class=\"node\">\n<title>140347167453264</title>\n<polygon fill=\"#add8e6\" stroke=\"#000000\" points=\"442,-328 347,-328 347,-298 442,-298 442,-328\"/>\n<text text-anchor=\"middle\" x=\"394.5\" y=\"-316\" font-family=\"monospace\" font-size=\"10.00\" fill=\"#000000\">output.weight</text>\n<text text-anchor=\"middle\" x=\"394.5\" y=\"-305\" font-family=\"monospace\" font-size=\"10.00\" fill=\"#000000\"> (2, 20)</text>\n</g>\n<!-- 140347167453264&#45;&gt;140347151173840 -->\n<g id=\"edge27\" class=\"edge\">\n<title>140347167453264&#45;&gt;140347151173840</title>\n<path fill=\"none\" stroke=\"#000000\" d=\"M389.3975,-297.6924C386.2697,-288.3092 382.2388,-276.2165 378.8985,-266.1956\"/>\n<polygon fill=\"#000000\" stroke=\"#000000\" points=\"382.2171,-265.0831 375.7344,-256.7031 375.5763,-267.2967 382.2171,-265.0831\"/>\n</g>\n</g>\n</svg>\n"
          },
          "metadata": {
            "tags": []
          },
          "execution_count": 50
        }
      ]
    },
    {
      "cell_type": "code",
      "metadata": {
        "colab": {
          "base_uri": "https://localhost:8080/",
          "height": 1000
        },
        "id": "oo1h4rQAlxGR",
        "outputId": "4900103c-4d1d-4248-cfeb-50532c5c500f"
      },
      "source": [
        "torchviz.make_dot(output_proba,params=dict(neural_net.named_parameters()))"
      ],
      "execution_count": 52,
      "outputs": [
        {
          "output_type": "execute_result",
          "data": {
            "text/plain": [
              "<graphviz.dot.Digraph at 0x7fa51e17e190>"
            ],
            "image/svg+xml": "<?xml version=\"1.0\" encoding=\"UTF-8\" standalone=\"no\"?>\n<!DOCTYPE svg PUBLIC \"-//W3C//DTD SVG 1.1//EN\"\n \"http://www.w3.org/Graphics/SVG/1.1/DTD/svg11.dtd\">\n<!-- Generated by graphviz version 2.40.1 (20161225.0304)\n -->\n<!-- Title: %3 Pages: 1 -->\n<svg width=\"450pt\" height=\"787pt\"\n viewBox=\"0.00 0.00 450.00 787.00\" xmlns=\"http://www.w3.org/2000/svg\" xmlns:xlink=\"http://www.w3.org/1999/xlink\">\n<g id=\"graph0\" class=\"graph\" transform=\"scale(1 1) rotate(0) translate(4 783)\">\n<title>%3</title>\n<polygon fill=\"#ffffff\" stroke=\"transparent\" points=\"-4,4 -4,-783 446,-783 446,4 -4,4\"/>\n<!-- 140347712318272 -->\n<g id=\"node1\" class=\"node\">\n<title>140347712318272</title>\n<polygon fill=\"#caff70\" stroke=\"#000000\" points=\"251,-31 186,-31 186,0 251,0 251,-31\"/>\n<text text-anchor=\"middle\" x=\"218.5\" y=\"-7\" font-family=\"monospace\" font-size=\"10.00\" fill=\"#000000\"> (10, 2)</text>\n</g>\n<!-- 140347152597136 -->\n<g id=\"node2\" class=\"node\">\n<title>140347152597136</title>\n<polygon fill=\"#d3d3d3\" stroke=\"#000000\" points=\"272,-86 165,-86 165,-67 272,-67 272,-86\"/>\n<text text-anchor=\"middle\" x=\"218.5\" y=\"-74\" font-family=\"monospace\" font-size=\"10.00\" fill=\"#000000\">SoftmaxBackward</text>\n</g>\n<!-- 140347152597136&#45;&gt;140347712318272 -->\n<g id=\"edge29\" class=\"edge\">\n<title>140347152597136&#45;&gt;140347712318272</title>\n<path fill=\"none\" stroke=\"#000000\" d=\"M218.5,-66.9688C218.5,-60.1289 218.5,-50.5621 218.5,-41.5298\"/>\n<polygon fill=\"#000000\" stroke=\"#000000\" points=\"222.0001,-41.3678 218.5,-31.3678 215.0001,-41.3678 222.0001,-41.3678\"/>\n</g>\n<!-- 140347151213136 -->\n<g id=\"node3\" class=\"node\">\n<title>140347151213136</title>\n<polygon fill=\"#d3d3d3\" stroke=\"#000000\" points=\"272,-141 165,-141 165,-122 272,-122 272,-141\"/>\n<text text-anchor=\"middle\" x=\"218.5\" y=\"-129\" font-family=\"monospace\" font-size=\"10.00\" fill=\"#000000\">SigmoidBackward</text>\n</g>\n<!-- 140347151213136&#45;&gt;140347152597136 -->\n<g id=\"edge1\" class=\"edge\">\n<title>140347151213136&#45;&gt;140347152597136</title>\n<path fill=\"none\" stroke=\"#000000\" d=\"M218.5,-121.9197C218.5,-114.9083 218.5,-105.1442 218.5,-96.4652\"/>\n<polygon fill=\"#000000\" stroke=\"#000000\" points=\"222.0001,-96.3408 218.5,-86.3408 215.0001,-96.3409 222.0001,-96.3408\"/>\n</g>\n<!-- 140347151215376 -->\n<g id=\"node4\" class=\"node\">\n<title>140347151215376</title>\n<polygon fill=\"#d3d3d3\" stroke=\"#000000\" points=\"266,-196 171,-196 171,-177 266,-177 266,-196\"/>\n<text text-anchor=\"middle\" x=\"218.5\" y=\"-184\" font-family=\"monospace\" font-size=\"10.00\" fill=\"#000000\">AddmmBackward</text>\n</g>\n<!-- 140347151215376&#45;&gt;140347151213136 -->\n<g id=\"edge2\" class=\"edge\">\n<title>140347151215376&#45;&gt;140347151213136</title>\n<path fill=\"none\" stroke=\"#000000\" d=\"M218.5,-176.9197C218.5,-169.9083 218.5,-160.1442 218.5,-151.4652\"/>\n<polygon fill=\"#000000\" stroke=\"#000000\" points=\"222.0001,-151.3408 218.5,-141.3408 215.0001,-151.3409 222.0001,-151.3408\"/>\n</g>\n<!-- 140347151215824 -->\n<g id=\"node5\" class=\"node\">\n<title>140347151215824</title>\n<polygon fill=\"#d3d3d3\" stroke=\"#000000\" points=\"153,-251 52,-251 52,-232 153,-232 153,-251\"/>\n<text text-anchor=\"middle\" x=\"102.5\" y=\"-239\" font-family=\"monospace\" font-size=\"10.00\" fill=\"#000000\">AccumulateGrad</text>\n</g>\n<!-- 140347151215824&#45;&gt;140347151215376 -->\n<g id=\"edge3\" class=\"edge\">\n<title>140347151215824&#45;&gt;140347151215376</title>\n<path fill=\"none\" stroke=\"#000000\" d=\"M122.7057,-231.9197C140.9737,-223.2581 168.1018,-210.3957 188.8304,-200.5675\"/>\n<polygon fill=\"#000000\" stroke=\"#000000\" points=\"190.6004,-203.6018 198.1367,-196.155 187.6014,-197.2768 190.6004,-203.6018\"/>\n</g>\n<!-- 140347167455024 -->\n<g id=\"node6\" class=\"node\">\n<title>140347167455024</title>\n<polygon fill=\"#add8e6\" stroke=\"#000000\" points=\"144,-317 61,-317 61,-287 144,-287 144,-317\"/>\n<text text-anchor=\"middle\" x=\"102.5\" y=\"-305\" font-family=\"monospace\" font-size=\"10.00\" fill=\"#000000\">output.bias</text>\n<text text-anchor=\"middle\" x=\"102.5\" y=\"-294\" font-family=\"monospace\" font-size=\"10.00\" fill=\"#000000\"> (2)</text>\n</g>\n<!-- 140347167455024&#45;&gt;140347151215824 -->\n<g id=\"edge4\" class=\"edge\">\n<title>140347167455024&#45;&gt;140347151215824</title>\n<path fill=\"none\" stroke=\"#000000\" d=\"M102.5,-286.7333C102.5,-279.0322 102.5,-269.5977 102.5,-261.3414\"/>\n<polygon fill=\"#000000\" stroke=\"#000000\" points=\"106.0001,-261.0864 102.5,-251.0864 99.0001,-261.0864 106.0001,-261.0864\"/>\n</g>\n<!-- 140347151215568 -->\n<g id=\"node7\" class=\"node\">\n<title>140347151215568</title>\n<polygon fill=\"#d3d3d3\" stroke=\"#000000\" points=\"266,-251 171,-251 171,-232 266,-232 266,-251\"/>\n<text text-anchor=\"middle\" x=\"218.5\" y=\"-239\" font-family=\"monospace\" font-size=\"10.00\" fill=\"#000000\">ReluBackward0</text>\n</g>\n<!-- 140347151215568&#45;&gt;140347151215376 -->\n<g id=\"edge5\" class=\"edge\">\n<title>140347151215568&#45;&gt;140347151215376</title>\n<path fill=\"none\" stroke=\"#000000\" d=\"M218.5,-231.9197C218.5,-224.9083 218.5,-215.1442 218.5,-206.4652\"/>\n<polygon fill=\"#000000\" stroke=\"#000000\" points=\"222.0001,-206.3408 218.5,-196.3408 215.0001,-206.3409 222.0001,-206.3408\"/>\n</g>\n<!-- 140347151213200 -->\n<g id=\"node8\" class=\"node\">\n<title>140347151213200</title>\n<polygon fill=\"#d3d3d3\" stroke=\"#000000\" points=\"261,-311.5 166,-311.5 166,-292.5 261,-292.5 261,-311.5\"/>\n<text text-anchor=\"middle\" x=\"213.5\" y=\"-299.5\" font-family=\"monospace\" font-size=\"10.00\" fill=\"#000000\">AddmmBackward</text>\n</g>\n<!-- 140347151213200&#45;&gt;140347151215568 -->\n<g id=\"edge6\" class=\"edge\">\n<title>140347151213200&#45;&gt;140347151215568</title>\n<path fill=\"none\" stroke=\"#000000\" d=\"M214.3033,-292.2796C214.9845,-284.0376 215.9838,-271.9457 216.8364,-261.629\"/>\n<polygon fill=\"#000000\" stroke=\"#000000\" points=\"220.3464,-261.6516 217.682,-251.3972 213.3702,-261.075 220.3464,-261.6516\"/>\n</g>\n<!-- 140347151214480 -->\n<g id=\"node9\" class=\"node\">\n<title>140347151214480</title>\n<polygon fill=\"#d3d3d3\" stroke=\"#000000\" points=\"127,-377.5 26,-377.5 26,-358.5 127,-358.5 127,-377.5\"/>\n<text text-anchor=\"middle\" x=\"76.5\" y=\"-365.5\" font-family=\"monospace\" font-size=\"10.00\" fill=\"#000000\">AccumulateGrad</text>\n</g>\n<!-- 140347151214480&#45;&gt;140347151213200 -->\n<g id=\"edge7\" class=\"edge\">\n<title>140347151214480&#45;&gt;140347151213200</title>\n<path fill=\"none\" stroke=\"#000000\" d=\"M96.421,-358.403C119.5543,-347.2585 157.9168,-328.7773 184.3899,-316.0238\"/>\n<polygon fill=\"#000000\" stroke=\"#000000\" points=\"186.065,-319.1019 193.555,-311.6085 183.0268,-312.7956 186.065,-319.1019\"/>\n</g>\n<!-- 140347167462896 -->\n<g id=\"node10\" class=\"node\">\n<title>140347167462896</title>\n<polygon fill=\"#add8e6\" stroke=\"#000000\" points=\"118,-449 35,-449 35,-419 118,-419 118,-449\"/>\n<text text-anchor=\"middle\" x=\"76.5\" y=\"-437\" font-family=\"monospace\" font-size=\"10.00\" fill=\"#000000\">layer3.bias</text>\n<text text-anchor=\"middle\" x=\"76.5\" y=\"-426\" font-family=\"monospace\" font-size=\"10.00\" fill=\"#000000\"> (20)</text>\n</g>\n<!-- 140347167462896&#45;&gt;140347151214480 -->\n<g id=\"edge8\" class=\"edge\">\n<title>140347167462896&#45;&gt;140347151214480</title>\n<path fill=\"none\" stroke=\"#000000\" d=\"M76.5,-418.6924C76.5,-409.5067 76.5,-397.7245 76.5,-387.8312\"/>\n<polygon fill=\"#000000\" stroke=\"#000000\" points=\"80.0001,-387.703 76.5,-377.7031 73.0001,-387.7031 80.0001,-387.703\"/>\n</g>\n<!-- 140347151213648 -->\n<g id=\"node11\" class=\"node\">\n<title>140347151213648</title>\n<polygon fill=\"#d3d3d3\" stroke=\"#000000\" points=\"240,-377.5 145,-377.5 145,-358.5 240,-358.5 240,-377.5\"/>\n<text text-anchor=\"middle\" x=\"192.5\" y=\"-365.5\" font-family=\"monospace\" font-size=\"10.00\" fill=\"#000000\">ReluBackward0</text>\n</g>\n<!-- 140347151213648&#45;&gt;140347151213200 -->\n<g id=\"edge9\" class=\"edge\">\n<title>140347151213648&#45;&gt;140347151213200</title>\n<path fill=\"none\" stroke=\"#000000\" d=\"M195.5986,-358.2615C198.6695,-348.6102 203.4588,-333.558 207.3112,-321.4506\"/>\n<polygon fill=\"#000000\" stroke=\"#000000\" points=\"210.6918,-322.369 210.3887,-311.7785 204.0213,-320.2465 210.6918,-322.369\"/>\n</g>\n<!-- 140347151214288 -->\n<g id=\"node12\" class=\"node\">\n<title>140347151214288</title>\n<polygon fill=\"#d3d3d3\" stroke=\"#000000\" points=\"235,-443.5 140,-443.5 140,-424.5 235,-424.5 235,-443.5\"/>\n<text text-anchor=\"middle\" x=\"187.5\" y=\"-431.5\" font-family=\"monospace\" font-size=\"10.00\" fill=\"#000000\">AddmmBackward</text>\n</g>\n<!-- 140347151214288&#45;&gt;140347151213648 -->\n<g id=\"edge10\" class=\"edge\">\n<title>140347151214288&#45;&gt;140347151213648</title>\n<path fill=\"none\" stroke=\"#000000\" d=\"M188.2378,-424.2615C188.9615,-414.7077 190.0862,-399.8615 190.9986,-387.8183\"/>\n<polygon fill=\"#000000\" stroke=\"#000000\" points=\"194.4937,-388.0143 191.7592,-377.7785 187.5137,-387.4855 194.4937,-388.0143\"/>\n</g>\n<!-- 140347151214160 -->\n<g id=\"node13\" class=\"node\">\n<title>140347151214160</title>\n<polygon fill=\"#d3d3d3\" stroke=\"#000000\" points=\"101,-509.5 0,-509.5 0,-490.5 101,-490.5 101,-509.5\"/>\n<text text-anchor=\"middle\" x=\"50.5\" y=\"-497.5\" font-family=\"monospace\" font-size=\"10.00\" fill=\"#000000\">AccumulateGrad</text>\n</g>\n<!-- 140347151214160&#45;&gt;140347151214288 -->\n<g id=\"edge11\" class=\"edge\">\n<title>140347151214160&#45;&gt;140347151214288</title>\n<path fill=\"none\" stroke=\"#000000\" d=\"M70.421,-490.403C93.5543,-479.2585 131.9168,-460.7773 158.3899,-448.0238\"/>\n<polygon fill=\"#000000\" stroke=\"#000000\" points=\"160.065,-451.1019 167.555,-443.6085 157.0268,-444.7956 160.065,-451.1019\"/>\n</g>\n<!-- 140347167463056 -->\n<g id=\"node14\" class=\"node\">\n<title>140347167463056</title>\n<polygon fill=\"#add8e6\" stroke=\"#000000\" points=\"92,-581 9,-581 9,-551 92,-551 92,-581\"/>\n<text text-anchor=\"middle\" x=\"50.5\" y=\"-569\" font-family=\"monospace\" font-size=\"10.00\" fill=\"#000000\">layer2.bias</text>\n<text text-anchor=\"middle\" x=\"50.5\" y=\"-558\" font-family=\"monospace\" font-size=\"10.00\" fill=\"#000000\"> (40)</text>\n</g>\n<!-- 140347167463056&#45;&gt;140347151214160 -->\n<g id=\"edge12\" class=\"edge\">\n<title>140347167463056&#45;&gt;140347151214160</title>\n<path fill=\"none\" stroke=\"#000000\" d=\"M50.5,-550.6924C50.5,-541.5067 50.5,-529.7245 50.5,-519.8312\"/>\n<polygon fill=\"#000000\" stroke=\"#000000\" points=\"54.0001,-519.703 50.5,-509.7031 47.0001,-519.7031 54.0001,-519.703\"/>\n</g>\n<!-- 140347151214032 -->\n<g id=\"node15\" class=\"node\">\n<title>140347151214032</title>\n<polygon fill=\"#d3d3d3\" stroke=\"#000000\" points=\"214,-509.5 119,-509.5 119,-490.5 214,-490.5 214,-509.5\"/>\n<text text-anchor=\"middle\" x=\"166.5\" y=\"-497.5\" font-family=\"monospace\" font-size=\"10.00\" fill=\"#000000\">ReluBackward0</text>\n</g>\n<!-- 140347151214032&#45;&gt;140347151214288 -->\n<g id=\"edge13\" class=\"edge\">\n<title>140347151214032&#45;&gt;140347151214288</title>\n<path fill=\"none\" stroke=\"#000000\" d=\"M169.5986,-490.2615C172.6695,-480.6102 177.4588,-465.558 181.3112,-453.4506\"/>\n<polygon fill=\"#000000\" stroke=\"#000000\" points=\"184.6918,-454.369 184.3887,-443.7785 178.0213,-452.2465 184.6918,-454.369\"/>\n</g>\n<!-- 140347152576016 -->\n<g id=\"node16\" class=\"node\">\n<title>140347152576016</title>\n<polygon fill=\"#d3d3d3\" stroke=\"#000000\" points=\"209,-575.5 114,-575.5 114,-556.5 209,-556.5 209,-575.5\"/>\n<text text-anchor=\"middle\" x=\"161.5\" y=\"-563.5\" font-family=\"monospace\" font-size=\"10.00\" fill=\"#000000\">AddmmBackward</text>\n</g>\n<!-- 140347152576016&#45;&gt;140347151214032 -->\n<g id=\"edge14\" class=\"edge\">\n<title>140347152576016&#45;&gt;140347151214032</title>\n<path fill=\"none\" stroke=\"#000000\" d=\"M162.2378,-556.2615C162.9615,-546.7077 164.0862,-531.8615 164.9986,-519.8183\"/>\n<polygon fill=\"#000000\" stroke=\"#000000\" points=\"168.4937,-520.0143 165.7592,-509.7785 161.5137,-519.4855 168.4937,-520.0143\"/>\n</g>\n<!-- 140347151213904 -->\n<g id=\"node17\" class=\"node\">\n<title>140347151213904</title>\n<polygon fill=\"#d3d3d3\" stroke=\"#000000\" points=\"112,-641.5 11,-641.5 11,-622.5 112,-622.5 112,-641.5\"/>\n<text text-anchor=\"middle\" x=\"61.5\" y=\"-629.5\" font-family=\"monospace\" font-size=\"10.00\" fill=\"#000000\">AccumulateGrad</text>\n</g>\n<!-- 140347151213904&#45;&gt;140347152576016 -->\n<g id=\"edge15\" class=\"edge\">\n<title>140347151213904&#45;&gt;140347152576016</title>\n<path fill=\"none\" stroke=\"#000000\" d=\"M76.2553,-622.2615C92.6709,-611.4272 119.3988,-593.7868 138.5509,-581.1464\"/>\n<polygon fill=\"#000000\" stroke=\"#000000\" points=\"140.5911,-583.9935 147.0092,-575.5639 136.7352,-578.1512 140.5911,-583.9935\"/>\n</g>\n<!-- 140347167462656 -->\n<g id=\"node18\" class=\"node\">\n<title>140347167462656</title>\n<polygon fill=\"#add8e6\" stroke=\"#000000\" points=\"102,-713 19,-713 19,-683 102,-683 102,-713\"/>\n<text text-anchor=\"middle\" x=\"60.5\" y=\"-701\" font-family=\"monospace\" font-size=\"10.00\" fill=\"#000000\">layer1.bias</text>\n<text text-anchor=\"middle\" x=\"60.5\" y=\"-690\" font-family=\"monospace\" font-size=\"10.00\" fill=\"#000000\"> (20)</text>\n</g>\n<!-- 140347167462656&#45;&gt;140347151213904 -->\n<g id=\"edge16\" class=\"edge\">\n<title>140347167462656&#45;&gt;140347151213904</title>\n<path fill=\"none\" stroke=\"#000000\" d=\"M60.7319,-682.6924C60.8711,-673.5067 61.0496,-661.7245 61.1995,-651.8312\"/>\n<polygon fill=\"#000000\" stroke=\"#000000\" points=\"64.701,-651.755 61.353,-641.7031 57.7018,-651.6489 64.701,-651.755\"/>\n</g>\n<!-- 140347158563664 -->\n<g id=\"node19\" class=\"node\">\n<title>140347158563664</title>\n<polygon fill=\"#d3d3d3\" stroke=\"#000000\" points=\"204,-641.5 133,-641.5 133,-622.5 204,-622.5 204,-641.5\"/>\n<text text-anchor=\"middle\" x=\"168.5\" y=\"-629.5\" font-family=\"monospace\" font-size=\"10.00\" fill=\"#000000\">TBackward</text>\n</g>\n<!-- 140347158563664&#45;&gt;140347152576016 -->\n<g id=\"edge17\" class=\"edge\">\n<title>140347158563664&#45;&gt;140347152576016</title>\n<path fill=\"none\" stroke=\"#000000\" d=\"M167.4671,-622.2615C166.4538,-612.7077 164.8793,-597.8615 163.6019,-585.8183\"/>\n<polygon fill=\"#000000\" stroke=\"#000000\" points=\"167.0724,-585.3535 162.5371,-575.7785 160.1114,-586.0919 167.0724,-585.3535\"/>\n</g>\n<!-- 140347172273232 -->\n<g id=\"node20\" class=\"node\">\n<title>140347172273232</title>\n<polygon fill=\"#d3d3d3\" stroke=\"#000000\" points=\"221,-707.5 120,-707.5 120,-688.5 221,-688.5 221,-707.5\"/>\n<text text-anchor=\"middle\" x=\"170.5\" y=\"-695.5\" font-family=\"monospace\" font-size=\"10.00\" fill=\"#000000\">AccumulateGrad</text>\n</g>\n<!-- 140347172273232&#45;&gt;140347158563664 -->\n<g id=\"edge18\" class=\"edge\">\n<title>140347172273232&#45;&gt;140347158563664</title>\n<path fill=\"none\" stroke=\"#000000\" d=\"M170.2049,-688.2615C169.9154,-678.7077 169.4655,-663.8615 169.1006,-651.8183\"/>\n<polygon fill=\"#000000\" stroke=\"#000000\" points=\"172.5977,-651.6678 168.7963,-641.7785 165.6009,-651.8799 172.5977,-651.6678\"/>\n</g>\n<!-- 140347167462576 -->\n<g id=\"node21\" class=\"node\">\n<title>140347167462576</title>\n<polygon fill=\"#add8e6\" stroke=\"#000000\" points=\"218,-779 123,-779 123,-749 218,-749 218,-779\"/>\n<text text-anchor=\"middle\" x=\"170.5\" y=\"-767\" font-family=\"monospace\" font-size=\"10.00\" fill=\"#000000\">layer1.weight</text>\n<text text-anchor=\"middle\" x=\"170.5\" y=\"-756\" font-family=\"monospace\" font-size=\"10.00\" fill=\"#000000\"> (20, 12)</text>\n</g>\n<!-- 140347167462576&#45;&gt;140347172273232 -->\n<g id=\"edge19\" class=\"edge\">\n<title>140347167462576&#45;&gt;140347172273232</title>\n<path fill=\"none\" stroke=\"#000000\" d=\"M170.5,-748.6924C170.5,-739.5067 170.5,-727.7245 170.5,-717.8312\"/>\n<polygon fill=\"#000000\" stroke=\"#000000\" points=\"174.0001,-717.703 170.5,-707.7031 167.0001,-717.7031 174.0001,-717.703\"/>\n</g>\n<!-- 140347151213968 -->\n<g id=\"node22\" class=\"node\">\n<title>140347151213968</title>\n<polygon fill=\"#d3d3d3\" stroke=\"#000000\" points=\"303,-509.5 232,-509.5 232,-490.5 303,-490.5 303,-509.5\"/>\n<text text-anchor=\"middle\" x=\"267.5\" y=\"-497.5\" font-family=\"monospace\" font-size=\"10.00\" fill=\"#000000\">TBackward</text>\n</g>\n<!-- 140347151213968&#45;&gt;140347151214288 -->\n<g id=\"edge20\" class=\"edge\">\n<title>140347151213968&#45;&gt;140347151214288</title>\n<path fill=\"none\" stroke=\"#000000\" d=\"M255.6957,-490.2615C242.8604,-479.6723 222.1442,-462.5815 206.9083,-450.0119\"/>\n<polygon fill=\"#000000\" stroke=\"#000000\" points=\"209.0337,-447.228 199.0926,-443.5639 204.579,-452.6276 209.0337,-447.228\"/>\n</g>\n<!-- 140347151215312 -->\n<g id=\"node23\" class=\"node\">\n<title>140347151215312</title>\n<polygon fill=\"#d3d3d3\" stroke=\"#000000\" points=\"328,-575.5 227,-575.5 227,-556.5 328,-556.5 328,-575.5\"/>\n<text text-anchor=\"middle\" x=\"277.5\" y=\"-563.5\" font-family=\"monospace\" font-size=\"10.00\" fill=\"#000000\">AccumulateGrad</text>\n</g>\n<!-- 140347151215312&#45;&gt;140347151213968 -->\n<g id=\"edge21\" class=\"edge\">\n<title>140347151215312&#45;&gt;140347151213968</title>\n<path fill=\"none\" stroke=\"#000000\" d=\"M276.0245,-556.2615C274.5769,-546.7077 272.3275,-531.8615 270.5028,-519.8183\"/>\n<polygon fill=\"#000000\" stroke=\"#000000\" points=\"273.9402,-519.1413 268.9816,-509.7785 267.0192,-520.19 273.9402,-519.1413\"/>\n</g>\n<!-- 140347167462976 -->\n<g id=\"node24\" class=\"node\">\n<title>140347167462976</title>\n<polygon fill=\"#add8e6\" stroke=\"#000000\" points=\"325,-647 230,-647 230,-617 325,-617 325,-647\"/>\n<text text-anchor=\"middle\" x=\"277.5\" y=\"-635\" font-family=\"monospace\" font-size=\"10.00\" fill=\"#000000\">layer2.weight</text>\n<text text-anchor=\"middle\" x=\"277.5\" y=\"-624\" font-family=\"monospace\" font-size=\"10.00\" fill=\"#000000\"> (40, 20)</text>\n</g>\n<!-- 140347167462976&#45;&gt;140347151215312 -->\n<g id=\"edge22\" class=\"edge\">\n<title>140347167462976&#45;&gt;140347151215312</title>\n<path fill=\"none\" stroke=\"#000000\" d=\"M277.5,-616.6924C277.5,-607.5067 277.5,-595.7245 277.5,-585.8312\"/>\n<polygon fill=\"#000000\" stroke=\"#000000\" points=\"281.0001,-585.703 277.5,-575.7031 274.0001,-585.7031 281.0001,-585.703\"/>\n</g>\n<!-- 140347151213520 -->\n<g id=\"node25\" class=\"node\">\n<title>140347151213520</title>\n<polygon fill=\"#d3d3d3\" stroke=\"#000000\" points=\"329,-377.5 258,-377.5 258,-358.5 329,-358.5 329,-377.5\"/>\n<text text-anchor=\"middle\" x=\"293.5\" y=\"-365.5\" font-family=\"monospace\" font-size=\"10.00\" fill=\"#000000\">TBackward</text>\n</g>\n<!-- 140347151213520&#45;&gt;140347151213200 -->\n<g id=\"edge23\" class=\"edge\">\n<title>140347151213520&#45;&gt;140347151213200</title>\n<path fill=\"none\" stroke=\"#000000\" d=\"M281.6957,-358.2615C268.8604,-347.6723 248.1442,-330.5815 232.9083,-318.0119\"/>\n<polygon fill=\"#000000\" stroke=\"#000000\" points=\"235.0337,-315.228 225.0926,-311.5639 230.579,-320.6276 235.0337,-315.228\"/>\n</g>\n<!-- 140349768029072 -->\n<g id=\"node26\" class=\"node\">\n<title>140349768029072</title>\n<polygon fill=\"#d3d3d3\" stroke=\"#000000\" points=\"397,-443.5 296,-443.5 296,-424.5 397,-424.5 397,-443.5\"/>\n<text text-anchor=\"middle\" x=\"346.5\" y=\"-431.5\" font-family=\"monospace\" font-size=\"10.00\" fill=\"#000000\">AccumulateGrad</text>\n</g>\n<!-- 140349768029072&#45;&gt;140347151213520 -->\n<g id=\"edge24\" class=\"edge\">\n<title>140349768029072&#45;&gt;140347151213520</title>\n<path fill=\"none\" stroke=\"#000000\" d=\"M338.6797,-424.2615C330.538,-414.1228 317.61,-398.0238 307.6652,-385.6397\"/>\n<polygon fill=\"#000000\" stroke=\"#000000\" points=\"310.3428,-383.3842 301.3524,-377.7785 304.8848,-387.7671 310.3428,-383.3842\"/>\n</g>\n<!-- 140347167462816 -->\n<g id=\"node27\" class=\"node\">\n<title>140347167462816</title>\n<polygon fill=\"#add8e6\" stroke=\"#000000\" points=\"416,-515 321,-515 321,-485 416,-485 416,-515\"/>\n<text text-anchor=\"middle\" x=\"368.5\" y=\"-503\" font-family=\"monospace\" font-size=\"10.00\" fill=\"#000000\">layer3.weight</text>\n<text text-anchor=\"middle\" x=\"368.5\" y=\"-492\" font-family=\"monospace\" font-size=\"10.00\" fill=\"#000000\"> (20, 40)</text>\n</g>\n<!-- 140347167462816&#45;&gt;140349768029072 -->\n<g id=\"edge25\" class=\"edge\">\n<title>140347167462816&#45;&gt;140349768029072</title>\n<path fill=\"none\" stroke=\"#000000\" d=\"M363.3975,-484.6924C360.2697,-475.3092 356.2388,-463.2165 352.8985,-453.1956\"/>\n<polygon fill=\"#000000\" stroke=\"#000000\" points=\"356.2171,-452.0831 349.7344,-443.7031 349.5763,-454.2967 356.2171,-452.0831\"/>\n</g>\n<!-- 140347151213008 -->\n<g id=\"node28\" class=\"node\">\n<title>140347151213008</title>\n<polygon fill=\"#d3d3d3\" stroke=\"#000000\" points=\"381,-251 310,-251 310,-232 381,-232 381,-251\"/>\n<text text-anchor=\"middle\" x=\"345.5\" y=\"-239\" font-family=\"monospace\" font-size=\"10.00\" fill=\"#000000\">TBackward</text>\n</g>\n<!-- 140347151213008&#45;&gt;140347151215376 -->\n<g id=\"edge26\" class=\"edge\">\n<title>140347151213008&#45;&gt;140347151215376</title>\n<path fill=\"none\" stroke=\"#000000\" d=\"M323.3783,-231.9197C303.1064,-223.1406 272.8692,-210.0457 250.0628,-200.1689\"/>\n<polygon fill=\"#000000\" stroke=\"#000000\" points=\"251.3617,-196.9174 240.7943,-196.155 248.5798,-203.3409 251.3617,-196.9174\"/>\n</g>\n<!-- 140347152010704 -->\n<g id=\"node29\" class=\"node\">\n<title>140347152010704</title>\n<polygon fill=\"#d3d3d3\" stroke=\"#000000\" points=\"423,-311.5 322,-311.5 322,-292.5 423,-292.5 423,-311.5\"/>\n<text text-anchor=\"middle\" x=\"372.5\" y=\"-299.5\" font-family=\"monospace\" font-size=\"10.00\" fill=\"#000000\">AccumulateGrad</text>\n</g>\n<!-- 140347152010704&#45;&gt;140347151213008 -->\n<g id=\"edge27\" class=\"edge\">\n<title>140347152010704&#45;&gt;140347151213008</title>\n<path fill=\"none\" stroke=\"#000000\" d=\"M368.162,-292.2796C364.3663,-283.7746 358.7412,-271.17 354.0449,-260.6469\"/>\n<polygon fill=\"#000000\" stroke=\"#000000\" points=\"357.1886,-259.1027 349.9169,-251.3972 350.7962,-261.9555 357.1886,-259.1027\"/>\n</g>\n<!-- 140347167453264 -->\n<g id=\"node30\" class=\"node\">\n<title>140347167453264</title>\n<polygon fill=\"#add8e6\" stroke=\"#000000\" points=\"442,-383 347,-383 347,-353 442,-353 442,-383\"/>\n<text text-anchor=\"middle\" x=\"394.5\" y=\"-371\" font-family=\"monospace\" font-size=\"10.00\" fill=\"#000000\">output.weight</text>\n<text text-anchor=\"middle\" x=\"394.5\" y=\"-360\" font-family=\"monospace\" font-size=\"10.00\" fill=\"#000000\"> (2, 20)</text>\n</g>\n<!-- 140347167453264&#45;&gt;140347152010704 -->\n<g id=\"edge28\" class=\"edge\">\n<title>140347167453264&#45;&gt;140347152010704</title>\n<path fill=\"none\" stroke=\"#000000\" d=\"M389.3975,-352.6924C386.2697,-343.3092 382.2388,-331.2165 378.8985,-321.1956\"/>\n<polygon fill=\"#000000\" stroke=\"#000000\" points=\"382.2171,-320.0831 375.7344,-311.7031 375.5763,-322.2967 382.2171,-320.0831\"/>\n</g>\n</g>\n</svg>\n"
          },
          "metadata": {
            "tags": []
          },
          "execution_count": 52
        }
      ]
    }
  ]
}