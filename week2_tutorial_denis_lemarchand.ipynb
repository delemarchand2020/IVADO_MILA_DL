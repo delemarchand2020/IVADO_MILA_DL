{
  "nbformat": 4,
  "nbformat_minor": 0,
  "metadata": {
    "colab": {
      "name": "week2_tutorial_denis_lemarchand.ipynb",
      "provenance": [],
      "collapsed_sections": [],
      "toc_visible": true,
      "include_colab_link": true
    },
    "language_info": {
      "codemirror_mode": {
        "name": "ipython",
        "version": 3
      },
      "file_extension": ".py",
      "mimetype": "text/x-python",
      "name": "python",
      "nbconvert_exporter": "python",
      "pygments_lexer": "ipython3",
      "version": "3.7.0"
    },
    "kernelspec": {
      "display_name": "Python 3",
      "language": "python",
      "name": "python3"
    },
    "accelerator": "GPU"
  },
  "cells": [
    {
      "cell_type": "markdown",
      "metadata": {
        "id": "view-in-github",
        "colab_type": "text"
      },
      "source": [
        "<a href=\"https://colab.research.google.com/github/delemarchand2020/IVADO_MILA_DL/blob/main/week2_tutorial_denis_lemarchand.ipynb\" target=\"_parent\"><img src=\"https://colab.research.google.com/assets/colab-badge.svg\" alt=\"Open In Colab\"/></a>"
      ]
    },
    {
      "cell_type": "markdown",
      "metadata": {
        "id": "mipSoOVlavkb"
      },
      "source": [
        "# IVADO/MILA DEEP LEARNING SCHOOL\n",
        "# Spring 2021\n",
        "# Tutorial : Categorical data with multilayer perceptron (MLP)\n",
        "\n",
        "## Authors: \n",
        "\n",
        "Arsène Fansi Tchango <arsene.fansi.tchango@mila.quebec>\n",
        "\n",
        "Gaétan Marceau Caron <gaetan.marceau.caron@mila.quebec>"
      ]
    },
    {
      "cell_type": "markdown",
      "metadata": {
        "id": "sLHwvggEZERd"
      },
      "source": [
        "# Preface"
      ]
    },
    {
      "cell_type": "markdown",
      "metadata": {
        "id": "JKNGtQkkohiM"
      },
      "source": [
        "This tutorial introduces the practical aspects of Deep Learning through the realization of a simple end-to-end project. We will use the deep learning library <a href=\"https://pytorch.org/\"> `PyTorch`</a>, which is well-known for its ease of use."
      ]
    },
    {
      "cell_type": "markdown",
      "metadata": {
        "id": "Tu9DZNmYpePz"
      },
      "source": [
        "# Initialization"
      ]
    },
    {
      "cell_type": "markdown",
      "metadata": {
        "id": "iWCNdeTIpkCa"
      },
      "source": [
        "Before we begin, we must install all the required libraries for this part of the tutorial. To do so, we will use the `pip` utility. Execute the cell below by selecting it and pressing `shift`+`Enter`. (This operation may take a few minutes.)\n",
        "\n",
        "We need to be using the latest version of `pillow` for this tutorial. If you are prompted with:\n",
        "\n",
        "> WARNING: The following packages were previously imported in this runtime:\n",
        "  [PIL]\n",
        "You must restart the runtime in order to use newly installed versions.\n",
        "\n",
        "Then click on restart runtime and rerun the cells afterwards."
      ]
    },
    {
      "cell_type": "code",
      "metadata": {
        "id": "9g_0k-_Eppi-",
        "colab": {
          "base_uri": "https://localhost:8080/"
        },
        "outputId": "2a8f0a2c-0de2-47a4-b1d5-dffd5b375b82"
      },
      "source": [
        "!pip3 install torch torchvision matplotlib\n",
        "!pip3 install --upgrade pillow==8.1.0"
      ],
      "execution_count": 14,
      "outputs": [
        {
          "output_type": "stream",
          "text": [
            "Requirement already satisfied: torch in /usr/local/lib/python3.7/dist-packages (1.8.1+cu101)\n",
            "Requirement already satisfied: torchvision in /usr/local/lib/python3.7/dist-packages (0.9.1+cu101)\n",
            "Requirement already satisfied: matplotlib in /usr/local/lib/python3.7/dist-packages (3.2.2)\n",
            "Requirement already satisfied: numpy in /usr/local/lib/python3.7/dist-packages (from torch) (1.19.5)\n",
            "Requirement already satisfied: typing-extensions in /usr/local/lib/python3.7/dist-packages (from torch) (3.7.4.3)\n",
            "Requirement already satisfied: pillow>=4.1.1 in /usr/local/lib/python3.7/dist-packages (from torchvision) (8.1.0)\n",
            "Requirement already satisfied: python-dateutil>=2.1 in /usr/local/lib/python3.7/dist-packages (from matplotlib) (2.8.1)\n",
            "Requirement already satisfied: kiwisolver>=1.0.1 in /usr/local/lib/python3.7/dist-packages (from matplotlib) (1.3.1)\n",
            "Requirement already satisfied: cycler>=0.10 in /usr/local/lib/python3.7/dist-packages (from matplotlib) (0.10.0)\n",
            "Requirement already satisfied: pyparsing!=2.0.4,!=2.1.2,!=2.1.6,>=2.0.1 in /usr/local/lib/python3.7/dist-packages (from matplotlib) (2.4.7)\n",
            "Requirement already satisfied: six>=1.5 in /usr/local/lib/python3.7/dist-packages (from python-dateutil>=2.1->matplotlib) (1.15.0)\n",
            "Requirement already up-to-date: pillow==8.1.0 in /usr/local/lib/python3.7/dist-packages (8.1.0)\n"
          ],
          "name": "stdout"
        }
      ]
    },
    {
      "cell_type": "markdown",
      "metadata": {
        "id": "VKufekB4FnqN"
      },
      "source": [
        "To ensure that all required libraries are available, let's try to load all libraries and modules we will need during this tutorial by executing this cell: "
      ]
    },
    {
      "cell_type": "code",
      "metadata": {
        "id": "loLQlRg3sV-r"
      },
      "source": [
        "import importlib\n",
        "required_libraries = ['torch', 'torchvision', 'PIL', 'matplotlib', \n",
        "                      'numpy', 'pandas']\n",
        "for lib in required_libraries:\n",
        "    if importlib.util.find_spec(lib) is None:\n",
        "        print(\"%s unavailable\" % lib)\n",
        "\n",
        "import matplotlib.pyplot as plt\n",
        "%matplotlib inline"
      ],
      "execution_count": 15,
      "outputs": []
    },
    {
      "cell_type": "code",
      "metadata": {
        "id": "FeLUcnk5scNx",
        "colab": {
          "base_uri": "https://localhost:8080/"
        },
        "outputId": "2dd4b52e-03d9-470c-d09a-13202015e7ad"
      },
      "source": [
        "import torch\n",
        "import numpy as np\n",
        "import pandas as pd\n",
        "import torch.nn as nn\n",
        "import torch.nn.functional as F\n",
        "import torch.optim as optim\n",
        "import torchvision\n",
        "\n",
        "from torch.utils.data import TensorDataset\n",
        "\n",
        "use_gpu = torch.cuda.is_available()\n",
        "device = torch.device(\"cuda:0\" if use_gpu else \"cpu\")\n",
        "\n",
        "print(\"Torch version: \", torch.__version__)\n",
        "print(\"GPU Available: {}\".format(use_gpu))"
      ],
      "execution_count": 16,
      "outputs": [
        {
          "output_type": "stream",
          "text": [
            "Torch version:  1.8.1+cu101\n",
            "GPU Available: True\n"
          ],
          "name": "stdout"
        }
      ]
    },
    {
      "cell_type": "markdown",
      "metadata": {
        "id": "xc9wc4qq7qob"
      },
      "source": [
        "Fix the seed for the different libraries"
      ]
    },
    {
      "cell_type": "code",
      "metadata": {
        "id": "05jTJ12r7msf"
      },
      "source": [
        "seed = 4321\n",
        "np.random.seed(seed) # Set the random seed of numpy for the data split.\n",
        "torch.manual_seed(seed)\n",
        "torch.cuda.manual_seed(seed)"
      ],
      "execution_count": 17,
      "outputs": []
    },
    {
      "cell_type": "markdown",
      "metadata": {
        "id": "ZKzgFV9Favkt"
      },
      "source": [
        "# PyTorch in a nutshell"
      ]
    },
    {
      "cell_type": "markdown",
      "metadata": {
        "id": "Vrus_-F0avkt"
      },
      "source": [
        "*PyTorch* is a Python library that supports a vibrant ecosystem of tools and libraries for machine learning (ML) in vision, NLP, and more. It provides two high-level features:\n",
        "<ul>\n",
        "<li> operations on <a href=\"https://pytorch.org/tutorials/beginner/blitz/tensor_tutorial.html#sphx-glr-beginner-blitz-tensor-tutorial-py\">tensors</a> (such as NumPy) with GPU support,</li>\n",
        "<li> operations for creating and optimizing computational graphs with an automatic differentiation system called <a href=\"https://pytorch.org/tutorials/beginner/blitz/autograd_tutorial.html#sphx-glr-beginner-blitz-autograd-tutorial-py\">Autograd</a>.</li>\n",
        "</ul>\n",
        "\n",
        "<a href=\"https://pytorch.org/docs/stable/torch.html\">PyTorch docs</a> contain the API documentation and <a href=\"https://pytorch.org/tutorials/\">many tutorials</a>.\n",
        "Also, PyTorch offers several data processing utilities. One of these utilities is the class <a href=\"http://pytorch.org/docs/master/data.html#\"> `torch.utils.data.Dataset`</a> which offers an easy to use interface to handle a data set. For more information, please refer to the following urls: \n",
        "<ul>\n",
        "<li>PyTorch data sets: <a href=\"http://pytorch.org/docs/master/data.html\"> PyTorch - datasets</a>.</li>\n",
        "<li>A tutorial for loading data: <a href=\"http://pytorch.org/tutorials/beginner/data_loading_tutorial.html\"> PyTorch - data loading tutorial</a>.</li>\n",
        "</ul>\n",
        "\n",
        "<a href=\"http://pytorch.org/docs/master/cuda.html#module-torch.cuda\">`torch.cuda`</a> is a package that provides the same functions as CPU tensors but for  CUDA tensors, which are used for GPU computing. <a href=\"http://pytorch.org/docs/master/cuda.html#torch.cuda.is_available\">`torch.cuda.is_available()`</a> returns a boolean indicating if CUDA is currently available. Finally, we recommend using a `device` variable that identifies the device that will perform computations. We can assign a tensor to a device with the method `.to(device)`. By default, the tensors are CPU tensors."
      ]
    },
    {
      "cell_type": "markdown",
      "metadata": {
        "id": "Qm122vNmq92L"
      },
      "source": [
        "# Ingredients for a proof of concept (POC)"
      ]
    },
    {
      "cell_type": "markdown",
      "metadata": {
        "id": "nqvhR0ebavmE"
      },
      "source": [
        "To realize a ML POC, you need:\n",
        "<ul>\n",
        "<li>a task description as well as data to support it,</li>\n",
        "<li>evaluation metrics to assess the performance of models,</li>\n",
        "<li>a model description,</li>\n",
        "<li>a loss function to minimize,</li>\n",
        "<li>an optimizer that adjusts the parameters of the model.</li>\n",
        "</ul>"
      ]
    },
    {
      "cell_type": "markdown",
      "metadata": {
        "id": "Y8_pfpu2f6AO"
      },
      "source": [
        "# How to prepare the dataset?"
      ]
    },
    {
      "cell_type": "markdown",
      "metadata": {
        "id": "B5piZxYUhSzq"
      },
      "source": [
        "In this tutorial, we study the tragedy of the Titanic through a data-driven approach. Our task is to determine whether or not a passenger survived the Titanic sinking based on passenger data only. The results will show how the passengers' fate was pre-determined by the features selected in this study, without considering other factors."
      ]
    },
    {
      "cell_type": "markdown",
      "metadata": {
        "id": "y4GuYNDFavlU"
      },
      "source": [
        "## Titanic dataset"
      ]
    },
    {
      "cell_type": "markdown",
      "metadata": {
        "id": "NiOJx2ytavlU"
      },
      "source": [
        "First, we download the Titanic dataset from the following address:\n",
        "<br/>\n",
        "https://github.com/afansi/winterschool18/blob/master/titanic3.csv?raw=true.<br/>\n",
        "This dataset provides information on the fate of 1309 passengers of the first and only journey of the liner RMS Titanic, summarized by economic status (class), gender, age, family information, and survival. We use this dataset because we can train models very quickly for the purpose of this tutorial. The Kaggle platform also uses this dataset as an introduction to classical machine learning. <br/>\n",
        "\n",
        "Let's take a look at the features and some examples from this dataset. To do so, we use the library <a href=\"https://pandas.pydata.org/\">Pandas</a> to load the dataset into memory."
      ]
    },
    {
      "cell_type": "code",
      "metadata": {
        "id": "bX_RSiffavlW",
        "colab": {
          "base_uri": "https://localhost:8080/",
          "height": 534
        },
        "outputId": "7b9f32ae-b85f-4682-dd18-bf41a787175c"
      },
      "source": [
        "titanic_df = pd.read_csv(\n",
        "    'https://github.com/afansi/winterschool18/blob/master/titanic3.csv?raw=true', \n",
        "    sep='\\t', \n",
        "    index_col=None, \n",
        "    na_values=['NA']\n",
        ")\n",
        "\n",
        "# a snapshot of the first 5 data points\n",
        "titanic_df.head()\n",
        "\n"
      ],
      "execution_count": 18,
      "outputs": [
        {
          "output_type": "execute_result",
          "data": {
            "text/html": [
              "<div>\n",
              "<style scoped>\n",
              "    .dataframe tbody tr th:only-of-type {\n",
              "        vertical-align: middle;\n",
              "    }\n",
              "\n",
              "    .dataframe tbody tr th {\n",
              "        vertical-align: top;\n",
              "    }\n",
              "\n",
              "    .dataframe thead th {\n",
              "        text-align: right;\n",
              "    }\n",
              "</style>\n",
              "<table border=\"1\" class=\"dataframe\">\n",
              "  <thead>\n",
              "    <tr style=\"text-align: right;\">\n",
              "      <th></th>\n",
              "      <th>pclass</th>\n",
              "      <th>survived</th>\n",
              "      <th>name</th>\n",
              "      <th>sex</th>\n",
              "      <th>age</th>\n",
              "      <th>sibsp</th>\n",
              "      <th>parch</th>\n",
              "      <th>ticket</th>\n",
              "      <th>fare</th>\n",
              "      <th>cabin</th>\n",
              "      <th>embarked</th>\n",
              "      <th>boat</th>\n",
              "      <th>body</th>\n",
              "      <th>home.dest</th>\n",
              "    </tr>\n",
              "  </thead>\n",
              "  <tbody>\n",
              "    <tr>\n",
              "      <th>0</th>\n",
              "      <td>1</td>\n",
              "      <td>1</td>\n",
              "      <td>Allen, Miss. Elisabeth Walton</td>\n",
              "      <td>female</td>\n",
              "      <td>29.0000</td>\n",
              "      <td>0</td>\n",
              "      <td>0</td>\n",
              "      <td>24160</td>\n",
              "      <td>211.3375</td>\n",
              "      <td>B5</td>\n",
              "      <td>S</td>\n",
              "      <td>2</td>\n",
              "      <td>NaN</td>\n",
              "      <td>St Louis, MO</td>\n",
              "    </tr>\n",
              "    <tr>\n",
              "      <th>1</th>\n",
              "      <td>1</td>\n",
              "      <td>1</td>\n",
              "      <td>Allison, Master. Hudson Trevor</td>\n",
              "      <td>male</td>\n",
              "      <td>0.9167</td>\n",
              "      <td>1</td>\n",
              "      <td>2</td>\n",
              "      <td>113781</td>\n",
              "      <td>151.5500</td>\n",
              "      <td>C22 C26</td>\n",
              "      <td>S</td>\n",
              "      <td>11</td>\n",
              "      <td>NaN</td>\n",
              "      <td>Montreal, PQ / Chesterville, ON</td>\n",
              "    </tr>\n",
              "    <tr>\n",
              "      <th>2</th>\n",
              "      <td>1</td>\n",
              "      <td>0</td>\n",
              "      <td>Allison, Miss. Helen Loraine</td>\n",
              "      <td>female</td>\n",
              "      <td>2.0000</td>\n",
              "      <td>1</td>\n",
              "      <td>2</td>\n",
              "      <td>113781</td>\n",
              "      <td>151.5500</td>\n",
              "      <td>C22 C26</td>\n",
              "      <td>S</td>\n",
              "      <td>NaN</td>\n",
              "      <td>NaN</td>\n",
              "      <td>Montreal, PQ / Chesterville, ON</td>\n",
              "    </tr>\n",
              "    <tr>\n",
              "      <th>3</th>\n",
              "      <td>1</td>\n",
              "      <td>0</td>\n",
              "      <td>Allison, Mr. Hudson Joshua Creighton</td>\n",
              "      <td>male</td>\n",
              "      <td>30.0000</td>\n",
              "      <td>1</td>\n",
              "      <td>2</td>\n",
              "      <td>113781</td>\n",
              "      <td>151.5500</td>\n",
              "      <td>C22 C26</td>\n",
              "      <td>S</td>\n",
              "      <td>NaN</td>\n",
              "      <td>135.0</td>\n",
              "      <td>Montreal, PQ / Chesterville, ON</td>\n",
              "    </tr>\n",
              "    <tr>\n",
              "      <th>4</th>\n",
              "      <td>1</td>\n",
              "      <td>0</td>\n",
              "      <td>Allison, Mrs. Hudson J C (Bessie Waldo Daniels)</td>\n",
              "      <td>female</td>\n",
              "      <td>25.0000</td>\n",
              "      <td>1</td>\n",
              "      <td>2</td>\n",
              "      <td>113781</td>\n",
              "      <td>151.5500</td>\n",
              "      <td>C22 C26</td>\n",
              "      <td>S</td>\n",
              "      <td>NaN</td>\n",
              "      <td>NaN</td>\n",
              "      <td>Montreal, PQ / Chesterville, ON</td>\n",
              "    </tr>\n",
              "  </tbody>\n",
              "</table>\n",
              "</div>"
            ],
            "text/plain": [
              "   pclass  survived  ...   body                        home.dest\n",
              "0       1         1  ...    NaN                     St Louis, MO\n",
              "1       1         1  ...    NaN  Montreal, PQ / Chesterville, ON\n",
              "2       1         0  ...    NaN  Montreal, PQ / Chesterville, ON\n",
              "3       1         0  ...  135.0  Montreal, PQ / Chesterville, ON\n",
              "4       1         0  ...    NaN  Montreal, PQ / Chesterville, ON\n",
              "\n",
              "[5 rows x 14 columns]"
            ]
          },
          "metadata": {
            "tags": []
          },
          "execution_count": 18
        }
      ]
    },
    {
      "cell_type": "markdown",
      "metadata": {
        "id": "yj88WmCmavlf"
      },
      "source": [
        "Here's the list of the features with their description:\n",
        "\n",
        "<ol>\n",
        "\n",
        "  <li> <b>pclass</b>: Passenger class (1 = first; 2 = second; 3 = third) </li>\n",
        "  <li> <b>survived</b>: Survived? (0 = no; 1 = yes) </li>\n",
        "  <li> <b>name</b>: Name </li>\n",
        "  <li> <b>sex</b>: Sex </li>\n",
        "  <li> <b>age</b>: Age </li>\n",
        "  <li> <b>sibsp</b>: Number of brothers, sisters, or spouses onboard </li>\n",
        "  <li> <b>parch</b>: Number of parents or children onboard </li>\n",
        "  <li> <b>ticket</b>: Ticket number </li>\n",
        "  <li> <b>fare</b>: Passenger fare </li>\n",
        "  <li> <b>cabin</b>: Cabin number </li>\n",
        "  <li> <b>embarked</b>: Port of embarkation (C = Cherbourg; Q = Queenstown; S = Southampton) </li>\n",
        "  <li> <b>boat</b>: Lifeboat (if the passenger survived, otherwise the value is Not a Number (NaN) </li>\n",
        "  <li> <b>body</b>: Body number (if the passenger did not survive and his body was found, otherwise the value is NaN) </li>\n",
        "  <li> <b>home.dest</b>: the passenger's destination </li>\n",
        " </ol>\n"
      ]
    },
    {
      "cell_type": "markdown",
      "metadata": {
        "id": "u2ed5fozqjce"
      },
      "source": [
        "## Data pre-processing"
      ]
    },
    {
      "cell_type": "markdown",
      "metadata": {
        "id": "__vcZhPnavlg"
      },
      "source": [
        "### Feature selection\n",
        "Some features are not relevant to the task, for example:\n",
        "<ol>\n",
        "  <li> <b>name</b>: Name </li>\n",
        "  <li> <b>ticket</b>: Ticket number </li>\n",
        "  <li> <b>cabin</b>: Cabin number </li>\n",
        "  <li> <b>home.dest</b>: Passenger's destination </li>\n",
        " </ol>\n",
        " \n",
        "Other features are directly related to the passenger survival and are not interesting for our study because they give away the label to be predicted:\n",
        "<ol>\n",
        "  <li> <b>boat</b>: Lifeboat (if the passenger survived) </li>\n",
        "  <li> <b>body</b>: Body number (if the passenger did not survive and his body was found) </li>\n",
        " </ol>"
      ]
    },
    {
      "cell_type": "code",
      "metadata": {
        "id": "uoD8x0dXofmj"
      },
      "source": [
        "titanic_df.drop(['name', 'ticket', 'cabin', 'home.dest', 'boat', 'body'], axis=1, inplace=True)"
      ],
      "execution_count": 19,
      "outputs": []
    },
    {
      "cell_type": "markdown",
      "metadata": {
        "id": "4PW_IWwqwdHq"
      },
      "source": [
        "### Handling missing values\n",
        "\n",
        "Handling missing values in datasets is difficult since examples with missing values can be informative for subgroups. Suppose that features associated with third-class tickets have many missing values compared to first-class tickets. Removing all examples with missing values will introduce a bias in the dataset and could completely change the correlations between features and the probability of survival. Another approach is to impute missing values by replacing them with simples statistics such as the mean or the median of the feature. Other imputing techniques use the other features to predict the missing values, which is very close to a ML task. See Scikit-learn reference for more details ([Imputation of missing values](https://www.google.com/url?q=https://scikit-learn.org/stable/modules/impute.html&sa=D&source=editors&ust=1617044175668000&usg=AFQjCNHxRm4BcLBrZEPzW7i3C_PJ7oAuPQ)). Thus, handling missing values should be done carefully and often depend on the dataset and domain knowledge. In the following, we discard all examples with missing values, but since it is a substantial number of examples, we are probably introducing a bias in the dataset. To avoid such bias, one can re-annotate the data manually."
      ]
    },
    {
      "cell_type": "code",
      "metadata": {
        "id": "X8YKDg69wjb_",
        "colab": {
          "base_uri": "https://localhost:8080/"
        },
        "outputId": "be5a3b17-2a17-4ac8-e028-b29ce17f0200"
      },
      "source": [
        "n_examples = len(titanic_df)\n",
        "titanic_df = titanic_df.dropna(axis=0, how='any').reset_index(drop=True)\n",
        "print(f'We removed {n_examples-len(titanic_df)} examples over {n_examples} containing missing values.')"
      ],
      "execution_count": 20,
      "outputs": [
        {
          "output_type": "stream",
          "text": [
            "We removed 266 examples over 1309 containing missing values.\n"
          ],
          "name": "stdout"
        }
      ]
    },
    {
      "cell_type": "markdown",
      "metadata": {
        "id": "4MckYm0M_xhR"
      },
      "source": [
        "### Feature encoding\n",
        " \n",
        "Some features are **categorical variables**, which means that they can take a finite number of values.\n",
        " <ol>\n",
        "  <li> <b>pclass</b>: Passenger Class </li>\n",
        "  <li> <b>sex</b>: Sex </li>\n",
        "  <li> <b>embarked</b>: Port of embarkation </li>\n",
        " </ol>\n",
        "\n",
        "To process categorical variables, we need to encode them in a way that does not imply an arbitrary order such as using natural numbers (e.g., 1, 2, 3). <a href=\"https://en.wikipedia.org/wiki/One-hot#Machine_learning_and_statistics\">One-hot encoding</a> is a way to achieve it. To use this encoding, we can simply call the function `get_dummies` in Pandas. The meaning of the encoded variables is as follows:\n",
        "\n",
        "<ol>\n",
        "  <li> <b>survived</b>: Survived? (0 = no; 1 = yes) </li>\n",
        "  <li> <b>pclass_1</b>: (1 if passenger in first class; 0 if not) </li>\n",
        "  <li> <b>pclass_2</b>: (1 if passenger in second class; 0 if not) </li>\n",
        "  <li> <b>pclass_3</b>: (1 if passenger in third class; 0 if not) </li>\n",
        "  <li> <b>sex_female</b>: (1 if passenger is female; 0 if not) </li>\n",
        "  <li> <b>sex_male</b>: (1 if passenger is male; 0 if not) </li>\n",
        "  <li> <b>age</b>: Age </li>\n",
        "  <li> <b>sibsp</b>: Number of brothers, sisters, or spouses onboard </li>\n",
        "  <li> <b>parch</b>: Number of parents or children onboard </li>\n",
        "  <li> <b>fare</b>: Passenger fare </li>\n",
        "  <li> <b>embarked_C</b>: (1 if Port of embarkation = Cherbourg (C); 0 otherwise) </li> \n",
        "  <li> <b>embarked_Q</b>: (1 if Port of embarkation = Queenstown (Q); 0 otherwise) </li> \n",
        "  <li> <b>embarked_S</b>: (1 if Port of embarkation = Southampton (S); 0 otherwise)</li> \n",
        " </ol>"
      ]
    },
    {
      "cell_type": "code",
      "metadata": {
        "id": "G7bFJc5X_qjx",
        "colab": {
          "base_uri": "https://localhost:8080/",
          "height": 222
        },
        "outputId": "2a2bcd6f-1a0e-4df2-ff74-2e8e555db701"
      },
      "source": [
        "titanic_preprocess_df = pd.get_dummies(data=titanic_df, columns=['pclass', 'sex', 'embarked'])\n",
        "titanic_preprocess_df.head()"
      ],
      "execution_count": 21,
      "outputs": [
        {
          "output_type": "execute_result",
          "data": {
            "text/html": [
              "<div>\n",
              "<style scoped>\n",
              "    .dataframe tbody tr th:only-of-type {\n",
              "        vertical-align: middle;\n",
              "    }\n",
              "\n",
              "    .dataframe tbody tr th {\n",
              "        vertical-align: top;\n",
              "    }\n",
              "\n",
              "    .dataframe thead th {\n",
              "        text-align: right;\n",
              "    }\n",
              "</style>\n",
              "<table border=\"1\" class=\"dataframe\">\n",
              "  <thead>\n",
              "    <tr style=\"text-align: right;\">\n",
              "      <th></th>\n",
              "      <th>survived</th>\n",
              "      <th>age</th>\n",
              "      <th>sibsp</th>\n",
              "      <th>parch</th>\n",
              "      <th>fare</th>\n",
              "      <th>pclass_1</th>\n",
              "      <th>pclass_2</th>\n",
              "      <th>pclass_3</th>\n",
              "      <th>sex_female</th>\n",
              "      <th>sex_male</th>\n",
              "      <th>embarked_C</th>\n",
              "      <th>embarked_Q</th>\n",
              "      <th>embarked_S</th>\n",
              "    </tr>\n",
              "  </thead>\n",
              "  <tbody>\n",
              "    <tr>\n",
              "      <th>0</th>\n",
              "      <td>1</td>\n",
              "      <td>29.0000</td>\n",
              "      <td>0</td>\n",
              "      <td>0</td>\n",
              "      <td>211.3375</td>\n",
              "      <td>1</td>\n",
              "      <td>0</td>\n",
              "      <td>0</td>\n",
              "      <td>1</td>\n",
              "      <td>0</td>\n",
              "      <td>0</td>\n",
              "      <td>0</td>\n",
              "      <td>1</td>\n",
              "    </tr>\n",
              "    <tr>\n",
              "      <th>1</th>\n",
              "      <td>1</td>\n",
              "      <td>0.9167</td>\n",
              "      <td>1</td>\n",
              "      <td>2</td>\n",
              "      <td>151.5500</td>\n",
              "      <td>1</td>\n",
              "      <td>0</td>\n",
              "      <td>0</td>\n",
              "      <td>0</td>\n",
              "      <td>1</td>\n",
              "      <td>0</td>\n",
              "      <td>0</td>\n",
              "      <td>1</td>\n",
              "    </tr>\n",
              "    <tr>\n",
              "      <th>2</th>\n",
              "      <td>0</td>\n",
              "      <td>2.0000</td>\n",
              "      <td>1</td>\n",
              "      <td>2</td>\n",
              "      <td>151.5500</td>\n",
              "      <td>1</td>\n",
              "      <td>0</td>\n",
              "      <td>0</td>\n",
              "      <td>1</td>\n",
              "      <td>0</td>\n",
              "      <td>0</td>\n",
              "      <td>0</td>\n",
              "      <td>1</td>\n",
              "    </tr>\n",
              "    <tr>\n",
              "      <th>3</th>\n",
              "      <td>0</td>\n",
              "      <td>30.0000</td>\n",
              "      <td>1</td>\n",
              "      <td>2</td>\n",
              "      <td>151.5500</td>\n",
              "      <td>1</td>\n",
              "      <td>0</td>\n",
              "      <td>0</td>\n",
              "      <td>0</td>\n",
              "      <td>1</td>\n",
              "      <td>0</td>\n",
              "      <td>0</td>\n",
              "      <td>1</td>\n",
              "    </tr>\n",
              "    <tr>\n",
              "      <th>4</th>\n",
              "      <td>0</td>\n",
              "      <td>25.0000</td>\n",
              "      <td>1</td>\n",
              "      <td>2</td>\n",
              "      <td>151.5500</td>\n",
              "      <td>1</td>\n",
              "      <td>0</td>\n",
              "      <td>0</td>\n",
              "      <td>1</td>\n",
              "      <td>0</td>\n",
              "      <td>0</td>\n",
              "      <td>0</td>\n",
              "      <td>1</td>\n",
              "    </tr>\n",
              "  </tbody>\n",
              "</table>\n",
              "</div>"
            ],
            "text/plain": [
              "   survived      age  sibsp  ...  embarked_C  embarked_Q  embarked_S\n",
              "0         1  29.0000      0  ...           0           0           1\n",
              "1         1   0.9167      1  ...           0           0           1\n",
              "2         0   2.0000      1  ...           0           0           1\n",
              "3         0  30.0000      1  ...           0           0           1\n",
              "4         0  25.0000      1  ...           0           0           1\n",
              "\n",
              "[5 rows x 13 columns]"
            ]
          },
          "metadata": {
            "tags": []
          },
          "execution_count": 21
        }
      ]
    },
    {
      "cell_type": "markdown",
      "metadata": {
        "id": "zeBNt5EW6tm9"
      },
      "source": [
        "Now, we can check if all examples have a one-hot encoding for their categorical variables."
      ]
    },
    {
      "cell_type": "code",
      "metadata": {
        "id": "4RjZZEokvJ3e",
        "colab": {
          "base_uri": "https://localhost:8080/",
          "height": 69
        },
        "outputId": "a2fc59d9-3a50-4fb3-e3d0-b8f638bf2ca7"
      },
      "source": [
        "titanic_preprocess_df.loc[titanic_preprocess_df[['sex_male','sex_female']].sum(axis=1) != 1]"
      ],
      "execution_count": 22,
      "outputs": [
        {
          "output_type": "execute_result",
          "data": {
            "text/html": [
              "<div>\n",
              "<style scoped>\n",
              "    .dataframe tbody tr th:only-of-type {\n",
              "        vertical-align: middle;\n",
              "    }\n",
              "\n",
              "    .dataframe tbody tr th {\n",
              "        vertical-align: top;\n",
              "    }\n",
              "\n",
              "    .dataframe thead th {\n",
              "        text-align: right;\n",
              "    }\n",
              "</style>\n",
              "<table border=\"1\" class=\"dataframe\">\n",
              "  <thead>\n",
              "    <tr style=\"text-align: right;\">\n",
              "      <th></th>\n",
              "      <th>survived</th>\n",
              "      <th>age</th>\n",
              "      <th>sibsp</th>\n",
              "      <th>parch</th>\n",
              "      <th>fare</th>\n",
              "      <th>pclass_1</th>\n",
              "      <th>pclass_2</th>\n",
              "      <th>pclass_3</th>\n",
              "      <th>sex_female</th>\n",
              "      <th>sex_male</th>\n",
              "      <th>embarked_C</th>\n",
              "      <th>embarked_Q</th>\n",
              "      <th>embarked_S</th>\n",
              "    </tr>\n",
              "  </thead>\n",
              "  <tbody>\n",
              "  </tbody>\n",
              "</table>\n",
              "</div>"
            ],
            "text/plain": [
              "Empty DataFrame\n",
              "Columns: [survived, age, sibsp, parch, fare, pclass_1, pclass_2, pclass_3, sex_female, sex_male, embarked_C, embarked_Q, embarked_S]\n",
              "Index: []"
            ]
          },
          "metadata": {
            "tags": []
          },
          "execution_count": 22
        }
      ]
    },
    {
      "cell_type": "code",
      "metadata": {
        "id": "Z3yueVPfvEhI",
        "colab": {
          "base_uri": "https://localhost:8080/",
          "height": 69
        },
        "outputId": "d49a00ad-c027-4388-aef9-5e9377c7090a"
      },
      "source": [
        "titanic_preprocess_df.loc[titanic_preprocess_df[['pclass_1','pclass_2', 'pclass_3']].sum(axis=1) != 1]"
      ],
      "execution_count": 23,
      "outputs": [
        {
          "output_type": "execute_result",
          "data": {
            "text/html": [
              "<div>\n",
              "<style scoped>\n",
              "    .dataframe tbody tr th:only-of-type {\n",
              "        vertical-align: middle;\n",
              "    }\n",
              "\n",
              "    .dataframe tbody tr th {\n",
              "        vertical-align: top;\n",
              "    }\n",
              "\n",
              "    .dataframe thead th {\n",
              "        text-align: right;\n",
              "    }\n",
              "</style>\n",
              "<table border=\"1\" class=\"dataframe\">\n",
              "  <thead>\n",
              "    <tr style=\"text-align: right;\">\n",
              "      <th></th>\n",
              "      <th>survived</th>\n",
              "      <th>age</th>\n",
              "      <th>sibsp</th>\n",
              "      <th>parch</th>\n",
              "      <th>fare</th>\n",
              "      <th>pclass_1</th>\n",
              "      <th>pclass_2</th>\n",
              "      <th>pclass_3</th>\n",
              "      <th>sex_female</th>\n",
              "      <th>sex_male</th>\n",
              "      <th>embarked_C</th>\n",
              "      <th>embarked_Q</th>\n",
              "      <th>embarked_S</th>\n",
              "    </tr>\n",
              "  </thead>\n",
              "  <tbody>\n",
              "  </tbody>\n",
              "</table>\n",
              "</div>"
            ],
            "text/plain": [
              "Empty DataFrame\n",
              "Columns: [survived, age, sibsp, parch, fare, pclass_1, pclass_2, pclass_3, sex_female, sex_male, embarked_C, embarked_Q, embarked_S]\n",
              "Index: []"
            ]
          },
          "metadata": {
            "tags": []
          },
          "execution_count": 23
        }
      ]
    },
    {
      "cell_type": "code",
      "metadata": {
        "id": "r4No15nhu8Hi",
        "colab": {
          "base_uri": "https://localhost:8080/",
          "height": 69
        },
        "outputId": "bddce238-46c8-4843-9bb0-ea2933efd71a"
      },
      "source": [
        "titanic_preprocess_df.loc[titanic_preprocess_df[['embarked_C','embarked_Q', 'embarked_S']].sum(axis=1) != 1]"
      ],
      "execution_count": 25,
      "outputs": [
        {
          "output_type": "execute_result",
          "data": {
            "text/html": [
              "<div>\n",
              "<style scoped>\n",
              "    .dataframe tbody tr th:only-of-type {\n",
              "        vertical-align: middle;\n",
              "    }\n",
              "\n",
              "    .dataframe tbody tr th {\n",
              "        vertical-align: top;\n",
              "    }\n",
              "\n",
              "    .dataframe thead th {\n",
              "        text-align: right;\n",
              "    }\n",
              "</style>\n",
              "<table border=\"1\" class=\"dataframe\">\n",
              "  <thead>\n",
              "    <tr style=\"text-align: right;\">\n",
              "      <th></th>\n",
              "      <th>survived</th>\n",
              "      <th>age</th>\n",
              "      <th>sibsp</th>\n",
              "      <th>parch</th>\n",
              "      <th>fare</th>\n",
              "      <th>pclass_1</th>\n",
              "      <th>pclass_2</th>\n",
              "      <th>pclass_3</th>\n",
              "      <th>sex_female</th>\n",
              "      <th>sex_male</th>\n",
              "      <th>embarked_C</th>\n",
              "      <th>embarked_Q</th>\n",
              "      <th>embarked_S</th>\n",
              "    </tr>\n",
              "  </thead>\n",
              "  <tbody>\n",
              "  </tbody>\n",
              "</table>\n",
              "</div>"
            ],
            "text/plain": [
              "Empty DataFrame\n",
              "Columns: [survived, age, sibsp, parch, fare, pclass_1, pclass_2, pclass_3, sex_female, sex_male, embarked_C, embarked_Q, embarked_S]\n",
              "Index: []"
            ]
          },
          "metadata": {
            "tags": []
          },
          "execution_count": 25
        }
      ]
    },
    {
      "cell_type": "markdown",
      "metadata": {
        "id": "n4a-35Xa66Tj"
      },
      "source": [
        "Since there are only two examples with no port of embarkation, we decide to discard them."
      ]
    },
    {
      "cell_type": "code",
      "metadata": {
        "colab": {
          "base_uri": "https://localhost:8080/"
        },
        "id": "wODe7zbglC1I",
        "outputId": "f4d2a756-7f51-43c2-d607-0ea1b85602e3"
      },
      "source": [
        "titanic_df.loc[148,:]"
      ],
      "execution_count": 39,
      "outputs": [
        {
          "output_type": "execute_result",
          "data": {
            "text/plain": [
              "pclass            1\n",
              "survived          0\n",
              "sex          female\n",
              "age              50\n",
              "sibsp             0\n",
              "parch             0\n",
              "fare        28.7125\n",
              "embarked          C\n",
              "Name: 148, dtype: object"
            ]
          },
          "metadata": {
            "tags": []
          },
          "execution_count": 39
        }
      ]
    },
    {
      "cell_type": "code",
      "metadata": {
        "id": "BkBNPNPDk9ZN"
      },
      "source": [
        "# Drop rows where there is no port of embarkation associated\n",
        "titanic_preprocess_df = titanic_preprocess_df.drop(index=148).reset_index(drop=True)\n",
        "titanic_preprocess_df = titanic_preprocess_df.drop(index=248).reset_index(drop=True)"
      ],
      "execution_count": null,
      "outputs": []
    },
    {
      "cell_type": "code",
      "metadata": {
        "id": "l2p2GAKHm-92",
        "colab": {
          "base_uri": "https://localhost:8080/"
        },
        "outputId": "eebabcad-e4aa-42a2-b8b9-ffecc0524942"
      },
      "source": [
        "print(f'There are {len(titanic_preprocess_df)} remaining examples in the dataset.')"
      ],
      "execution_count": 33,
      "outputs": [
        {
          "output_type": "stream",
          "text": [
            "There are 1043 remaining examples in the dataset.\n"
          ],
          "name": "stdout"
        }
      ]
    },
    {
      "cell_type": "markdown",
      "metadata": {
        "id": "QJcs6PUTavlm"
      },
      "source": [
        "## Train / validation / test split"
      ]
    },
    {
      "cell_type": "markdown",
      "metadata": {
        "id": "Bjbgvffmavlo"
      },
      "source": [
        "At this point, we need to divide the dataset into three subsets:\n",
        "\n",
        "<ol>\n",
        "<li> <b> Train</b> (60% of the dataset): used to train the classification model. </li>   \n",
        "<li> <b> Validation</b> (20% of the dataset): used to evaluate hyper-parameters on held-out data. </li>   \n",
        "<li> <b> Test</b> (20% of the dataset): used to evaluate the generalization performance of the chosen model on held-out data. </li>\n",
        "</ol>\n",
        "\n",
        "We use the <a href=\"https://numpy.org/doc/stable/reference/generated/numpy.split.html\">numpy.split function</a> to separate our dataset into subsets."
      ]
    },
    {
      "cell_type": "markdown",
      "metadata": {
        "id": "cs07L8F5488f"
      },
      "source": [
        "### Exercise 1\n",
        "Complete the missing code to create the validation and the test sets"
      ]
    },
    {
      "cell_type": "code",
      "metadata": {
        "id": "GBmL8VBOavlo"
      },
      "source": [
        "train, validate, test = np.split(\n",
        "    titanic_preprocess_df.sample(frac=1, random_state=seed), # cela revient a un shuffle du set de donnees\n",
        "    [int(.6*len(titanic_preprocess_df)), int(.8*len(titanic_preprocess_df))])\n",
        "\n",
        "# Remove the label column from X and create a label vectors.\n",
        "X_train = train.drop(['survived'], axis=1).to_numpy()\n",
        "y_train = train['survived'].to_numpy()\n",
        "\n",
        "X_val = validate.drop(['survived'], axis=1).to_numpy() \n",
        "y_val = validate['survived'].to_numpy()\n",
        "\n",
        "X_test = test.drop(['survived'], axis=1).to_numpy() \n",
        "y_test = test['survived'].to_numpy()\n"
      ],
      "execution_count": 45,
      "outputs": []
    },
    {
      "cell_type": "markdown",
      "metadata": {
        "id": "wv74TbIWavlr"
      },
      "source": [
        "## Datasets in PyTorch"
      ]
    },
    {
      "cell_type": "markdown",
      "metadata": {
        "id": "9_LJtG-Xavlt"
      },
      "source": [
        "We will use the subclass <b><a href=\"https://pytorch.org/docs/master/data.html#torch.utils.data.TensorDataset\"> `torch.utils.data.TensorDataset`</a> </b> to manipulate together the features and targets of a dataset."
      ]
    },
    {
      "cell_type": "markdown",
      "metadata": {
        "id": "CZUfbAtG5S92"
      },
      "source": [
        "### Exercise 2\n",
        "\n",
        "Complete the missing code to load the validation and the test sets in TensorDatasets."
      ]
    },
    {
      "cell_type": "code",
      "metadata": {
        "id": "1JtT4tV7avlt"
      },
      "source": [
        "train_dataset = TensorDataset(torch.from_numpy(X_train).float(), torch.from_numpy(y_train).long())\n",
        "val_dataset = TensorDataset(torch.from_numpy(X_val).float(), torch.from_numpy(y_val).long())\n",
        "test_dataset = TensorDataset(torch.from_numpy(X_test).float(), torch.from_numpy(y_test).long())"
      ],
      "execution_count": 47,
      "outputs": []
    },
    {
      "cell_type": "markdown",
      "metadata": {
        "id": "obEPHnlTavkc"
      },
      "source": [
        "# How to define the learning algorithm?"
      ]
    },
    {
      "cell_type": "markdown",
      "metadata": {
        "id": "qhN5GL6Gavks"
      },
      "source": [
        "To train a deep learning model, we need to define:\n",
        "* the network architecture by choosing the non-linear function and the number of hidden units per layer, \n",
        "* the loss function and optimizer.\n",
        "\n",
        "In this tutorial, we consider the multilayer perceptron (MLP). A MLP is a simple computational graph composed of \"hidden layers,\" which are defined by two modules: a **linear transformation** followed by a **non-linearity**. The result of a hidden layer is a vector called a **distributed representation** where each component is associated with a hidden unit.\n",
        "\n",
        "To solve our task, we will use a MLP with the following architecture:\n",
        "* the input dimension of the model is 12,\n",
        "* the output dimension of the model is 2,\n",
        "* the first dimension of the output is the probability of death and the second dimension is the probability of survival,\n",
        "* the number of hidden layers is 3, \n",
        "* the dimensions of the hidden layers are 20, 40, 20 respectively, \n",
        "* the activation function is a ReLu for all hidden layers."
      ]
    },
    {
      "cell_type": "markdown",
      "metadata": {
        "id": "701t0e-ravkr"
      },
      "source": [
        "## How to define a model in PyTorch?"
      ]
    },
    {
      "cell_type": "markdown",
      "metadata": {
        "id": "m4F5cyijavkv"
      },
      "source": [
        "The <a href=\"https://pytorch.org/docs/stable/nn.html\">PyTorch NN package</a> contains many useful classes for creating computation graphs.\n",
        "* The class <a href=\"https://pytorch.org/docs/master/generated/torch.nn.Module.html#torch.nn.Module\">torch.nn.Module</a>: \n",
        "any new module must inherit from this class or its descendants (subclasses).\n",
        "* The `forward` method:  any class defining a module must implement the `forward(...)` method, which defines the transformation of inputs to outputs.\n",
        "* The class <a href=\"https://pytorch.org/docs/master/generated/torch.nn.Linear.html#torch.nn.Linear\">`torch.nn.Linear(in_features, out_features)`</a>: this class implements a linear transformation. By default, it takes two parameters: \n",
        "    * `in_features`: the size of the data at the input of the module. \n",
        "    * `out_features`: the size of the data at the output of the module.\n",
        "\n",
        "* The module <a href=\"https://pytorch.org/docs/master/nn.functional.html#torch-nn-functional\">`torch.nn.functional`</a>: \n",
        "it defines a set of functions that can be applied directly to any tensor. As examples, we have:\n",
        "    * non-linear functions: `sigmoid(...)`, `tanh(...)`, `relu(...)`, ...\n",
        "    * loss functions: `mse_loss(...)`, `nll(...)`, `cross_entropy(...)`, ... \n",
        "    * regularization functions: `droupout(...)`, ..."
      ]
    },
    {
      "cell_type": "markdown",
      "metadata": {
        "id": "Tscha6S-KIBB"
      },
      "source": [
        "### Exercise 3\n",
        "\n",
        "Complete the following methods to define a neural network:\n",
        "* The `__init__` method that defines the layers.\n",
        "* The `forward(input)` method that returns the `output`."
      ]
    },
    {
      "cell_type": "code",
      "metadata": {
        "id": "xR5eBfIbavk0"
      },
      "source": [
        "class NeuralNet(nn.Module):\n",
        "    def __init__(self):\n",
        "      super(NeuralNet, self).__init__()\n",
        "      self.layer1 = nn.Linear(12, 20)\n",
        "      self.layer2 = nn.Linear(20, 40)\n",
        "      self.layer3 = nn.Linear(40, 20)\n",
        "      self.output = nn.Linear(20, 2)\n",
        "\n",
        "    def forward(self, x):      \n",
        "      x = F.relu(self.layer1(x))\n",
        "      x = F.relu(self.layer2(x))\n",
        "      x = F.relu(self.layer3(x))\n",
        "      out = torch.sigmoid(self.output(x))\n",
        "      return out"
      ],
      "execution_count": 58,
      "outputs": []
    },
    {
      "cell_type": "markdown",
      "metadata": {
        "id": "OvLnHRZ5avk2"
      },
      "source": [
        "## Making predictions with a neural network"
      ]
    },
    {
      "cell_type": "markdown",
      "metadata": {
        "id": "uEXgJMDDavk3"
      },
      "source": [
        "Now, we are ready to test our neural network on randomly selected data.\n",
        "\n",
        "In PyTorch, a model has two different modes:\n",
        "    <ul>\n",
        "    <li> <b>train</b>: used during training, </li>\n",
        "    <li> <b>eval</b>: used during inference for model evaluation. </li>\n",
        "    </ul>\n",
        "\n",
        "The distinction is important since some modules behave differently according to this mode.\n",
        "We will use the <b>eval</b> mode in this section."
      ]
    },
    {
      "cell_type": "markdown",
      "metadata": {
        "id": "IqtE_hr650pz"
      },
      "source": [
        "### Exercise 4\n",
        "Complete the missing code so that the model outputs a probability vector. "
      ]
    },
    {
      "cell_type": "code",
      "metadata": {
        "id": "gzcABMezavk6",
        "colab": {
          "base_uri": "https://localhost:8080/"
        },
        "outputId": "50598e77-27f7-4c71-9cd1-bcf93e1bd089"
      },
      "source": [
        "# Model definition\n",
        "neural_net = NeuralNet()\n",
        "neural_net = neural_net.to(device)\n",
        "\n",
        "# Evaluation mode activation\n",
        "neural_net = neural_net.eval()\n",
        "\n",
        "# Select the first 5 data points\n",
        "data, target = val_dataset[0:5]\n",
        "data = data.to(device)\n",
        "target = target.to(device)\n",
        "\n",
        "# Forward propagation of the data through the model\n",
        "output = neural_net(data)   # equivalent to neural_net.forward(data)\n",
        "\n",
        "# Convert the logits into probabilities with softmax function\n",
        "output_proba = F.softmax(output,dim=1)\n",
        "\n",
        "# Printing the probability\n",
        "print(output_proba)"
      ],
      "execution_count": 111,
      "outputs": [
        {
          "output_type": "stream",
          "text": [
            "tensor([[0.5283, 0.4717],\n",
            "        [0.5202, 0.4798],\n",
            "        [0.5072, 0.4928],\n",
            "        [0.5104, 0.4896],\n",
            "        [0.5569, 0.4431]], device='cuda:0', grad_fn=<SoftmaxBackward>)\n"
          ],
          "name": "stdout"
        }
      ]
    },
    {
      "cell_type": "markdown",
      "metadata": {
        "id": "fVep0BElavlS"
      },
      "source": [
        "The rows define the output of the network, in terms of probabilities over two classes: <b>deceased</b> (first column) or <b>survived</b> (second column), for each of the five input data points. Let us take the label with maximum probability as the predicted label and compare it to the correct label."
      ]
    },
    {
      "cell_type": "code",
      "metadata": {
        "id": "_jV4No36qjdU",
        "colab": {
          "base_uri": "https://localhost:8080/"
        },
        "outputId": "715af3cc-a85d-4361-83cb-9a8848a50d80"
      },
      "source": [
        "# Printing predictions (class with the highest probability)\n",
        "_, prediction = torch.max(output_proba, dim=1)\n",
        "\n",
        "print('Model prediction')\n",
        "print(prediction)\n",
        "\n",
        "# Printing the real labels\n",
        "print(\"Actual data\")\n",
        "print(target)"
      ],
      "execution_count": 112,
      "outputs": [
        {
          "output_type": "stream",
          "text": [
            "Model prediction\n",
            "tensor([0, 0, 0, 0, 0], device='cuda:0')\n",
            "Actual data\n",
            "tensor([0, 0, 0, 0, 0], device='cuda:0')\n"
          ],
          "name": "stdout"
        }
      ]
    },
    {
      "cell_type": "markdown",
      "metadata": {
        "id": "SEIIjqOuqjdc"
      },
      "source": [
        "### Exercise 5\n",
        "\n",
        "1.   What would be a good way to measure the model performances?\n",
        "2.   How does our model perform?\n",
        "3.   Considering that the model is not trained on the dataset, do you see any problem with your selected measure?\n"
      ]
    },
    {
      "cell_type": "code",
      "metadata": {
        "cellView": "form",
        "id": "Fa66z1qqH9em"
      },
      "source": [
        "#@title Métriques\n",
        "import sklearn.metrics as metrics\n",
        "\n",
        "def accuracy(y_true, y_pred):\n",
        "  \"\"\"\n",
        "  Compute the accuracy score.\n",
        "  \n",
        "  Args:\n",
        "     y_true: ground truth labels.\n",
        "     y_pred: predicted labels by a classifier.\n",
        "     \n",
        "  Return:\n",
        "     Accuracy score.\n",
        "     \n",
        "  \"\"\"\n",
        "  return metrics.accuracy_score(y_true, y_pred)\n",
        "\n",
        "\n",
        "def f1_score(y_true, y_pred):\n",
        "  \"\"\"\n",
        "  Compute the F1 score.\n",
        "  \n",
        "  Args:\n",
        "     y_true: ground truth labels.\n",
        "     y_pred: predicted labels by a classifier.\n",
        "     \n",
        "  Return:\n",
        "     F1 score.\n",
        "     \n",
        "  \"\"\"\n",
        "  return metrics.f1_score(y_true, y_pred, average='macro')"
      ],
      "execution_count": 126,
      "outputs": []
    },
    {
      "cell_type": "code",
      "metadata": {
        "colab": {
          "base_uri": "https://localhost:8080/"
        },
        "id": "reJFVgMHABD7",
        "outputId": "032b8dfc-4cab-4a47-834d-8df5eab04565"
      },
      "source": [
        "# calcul F1 score\n",
        "F1_score = f1_score(target.cpu().numpy(), prediction.cpu().numpy())\n",
        "print(f'F1 score is {F1_score:.2%}'.format(F1_score))"
      ],
      "execution_count": 130,
      "outputs": [
        {
          "output_type": "stream",
          "text": [
            "F1 score is 100.00%\n"
          ],
          "name": "stdout"
        }
      ]
    },
    {
      "cell_type": "markdown",
      "metadata": {
        "id": "0uySA2TCavmD"
      },
      "source": [
        "## Define the loss function and optimizer"
      ]
    },
    {
      "cell_type": "markdown",
      "metadata": {
        "id": "EkoobCLMavmE"
      },
      "source": [
        "### Loss function"
      ]
    },
    {
      "cell_type": "markdown",
      "metadata": {
        "id": "qkX7uSXQavmF"
      },
      "source": [
        "We define the loss function according to the task we want to achieve.\n",
        "\n",
        "PyTorch offers <a href=\"https://pytorch.org/docs/stable/nn.html#loss-functions\">many ready-to-use loss functions</a>.\n",
        "\n",
        "For classification problems, the usual loss function is <b>cross-entropy</b>, and this is the one we will use in this tutorial. In PyTorch, it is defined by the function <a href=\"https://pytorch.org/docs/master/nn.functional.html#cross-entropy\">`torch.nn.functional.cross_entropy`</a>.  Cross entropy allows comparing a $p$ distribution with a reference distribution $t$. It attains its minimum when $t=p$. Its formula for calculating it between the prediction and the target is: $-\\sum_j t_{ij} \\log(p_{ij})$ where $p$ is the prediction, $t$ the target, $i$ the example and $j$ the classe of the target."
      ]
    },
    {
      "cell_type": "code",
      "metadata": {
        "id": "FHnfYeS5avmF"
      },
      "source": [
        "def loss_function(prediction, target):\n",
        "    loss = F.cross_entropy(prediction, target)\n",
        "    return loss"
      ],
      "execution_count": 131,
      "outputs": []
    },
    {
      "cell_type": "markdown",
      "metadata": {
        "id": "Vsx_cv9Wqjdj"
      },
      "source": [
        "### Backpropagation"
      ]
    },
    {
      "cell_type": "markdown",
      "metadata": {
        "id": "0hcZaIKtavmH"
      },
      "source": [
        "In Pytorch, thanks to the automatic differentiation mechanism <a href=\"http://pytorch.org/docs/master/notes/autograd.html\">Autograd</a>, it is possible to automatically calculate the gradient of the loss function and backpropagate it through the computational graph.\n",
        "\n",
        "To do this, we only have to call the method `backward()` on the variable returned by the loss function, e.g., with\n",
        "\n",
        "```python\n",
        "loss = loss_function(....)\n",
        "loss.backward()\n",
        "```"
      ]
    },
    {
      "cell_type": "markdown",
      "metadata": {
        "id": "8YNo_ymYavmH"
      },
      "source": [
        "### Optimization"
      ]
    },
    {
      "cell_type": "markdown",
      "metadata": {
        "id": "Y4AlX9TwavmH"
      },
      "source": [
        "PyTorch provides a <a href=\"http://pytorch.org/docs/master/optim.html#algorithms\">set of optimization methods (`torch.optim`)</a> commonly used by the deep learning community. These methods include the following: \n",
        "* <b>SGD</b> (Stochastic Gradient Descent) <a href=\"http://pytorch.org/docs/master/optim.html#torch.optim.SGD\">`torch.optim.SGD(net.parameters(), lr=learning_rate)`</a>\n",
        "* <b>Adam</b> (Adaptive Moment Estimation): a variant of the gradient descent method in which the learning rate is adjusted for each parameter by estimating the first and second moments of the gradients. This optimizer has demonstrated excellent performance compared to SGD on many benchmarks.\n",
        "\n",
        "To be able to use an optimizer in PyTorch, we must instantiate it by passing the following elements:\n",
        "* <b>The parameters of the model</b>: these are obtained using the method `parameters()` on the instantiated model.\n",
        "* <b>The learning rate (lr)</b>: this is the learning rate to be used to update parameters during the optimization process. \n",
        "* There may be other parameters specific to the chosen optimizer.\n",
        "\n",
        "PyTorch offers a simplified interface to interact with any optimizer:\n",
        "* `zero_grad()`: Allows to reinitialize the gradients to zero at the beginning of an optimization step.\n",
        "* `step()`: Allows to perform an optimization step after a gradient backpropagation step."
      ]
    },
    {
      "cell_type": "markdown",
      "metadata": {
        "id": "fZ-lKExqavmI"
      },
      "source": [
        "We will use Adam with a lr of 0.001."
      ]
    },
    {
      "cell_type": "code",
      "metadata": {
        "id": "WDMOziJTavmI"
      },
      "source": [
        "optimizer = optim.Adam(neural_net.parameters(), lr=0.001) "
      ],
      "execution_count": 132,
      "outputs": []
    },
    {
      "cell_type": "markdown",
      "metadata": {
        "id": "OnFOAfdGqjdr"
      },
      "source": [
        "# How to train and evaluate a model?\n",
        "First, we need some definitions:\n",
        "<ol>\n",
        "<li>\n",
        "<b>Epoch</b>: a complete pass over the entire training dataset.\n",
        "</li>\n",
        "<li>\n",
        "<b>Iteration</b>: an update of the model parameters. Many iterations can occur before the end of an epoch.\n",
        "</li>\n",
        "<li>\n",
        "<b>Mini-batch</b>: A subset of training data used to estimate the average of gradients. In other words, at each iteration, a mini-batch is used. \n",
        "</li>\n",
        "</ol>"
      ]
    },
    {
      "cell_type": "markdown",
      "metadata": {
        "id": "LLXjNiDTavmK"
      },
      "source": [
        "## Creating the mini-batches\n",
        "PyTorch offers a utility called <b><a href=\"http://pytorch.org/docs/master/data.html\"> `torch.utils.data.DataLoader`</a></b> to load any dataset and automatically split it into mini-batches. During training, the data presented to the network should appear in a different order from one epoch to another. We will prepare the `DataLoader` for our three datasets (training, validation, and test)."
      ]
    },
    {
      "cell_type": "code",
      "metadata": {
        "id": "RGoQZSdqavmM"
      },
      "source": [
        "train_batch_size = 32  # number of data in a training batch.\n",
        "eval_batch_size = 32   # number of data in an batch.\n",
        "\n",
        "\n",
        "train_loader = torch.utils.data.DataLoader(train_dataset, batch_size=train_batch_size, shuffle=True)\n",
        "\n",
        "val_loader   = torch.utils.data.DataLoader(val_dataset, batch_size=eval_batch_size, shuffle=False)\n",
        "test_loader  = torch.utils.data.DataLoader(test_dataset, batch_size=eval_batch_size, shuffle=False)"
      ],
      "execution_count": 133,
      "outputs": []
    },
    {
      "cell_type": "code",
      "metadata": {
        "colab": {
          "base_uri": "https://localhost:8080/"
        },
        "id": "o4ecBllSdsQ_",
        "outputId": "b95dc20f-a690-4d07-a8fd-cebf2101efbb"
      },
      "source": [
        "train_loader_iter = iter(train_loader)\n",
        "\n",
        "for i in range(len(train_loader)):\n",
        "  t = next(train_loader_iter)\n",
        "  print(len(t[0])) "
      ],
      "execution_count": 141,
      "outputs": [
        {
          "output_type": "stream",
          "text": [
            "32\n",
            "32\n",
            "32\n",
            "32\n",
            "32\n",
            "32\n",
            "32\n",
            "32\n",
            "32\n",
            "32\n",
            "32\n",
            "32\n",
            "32\n",
            "32\n",
            "32\n",
            "32\n",
            "32\n",
            "32\n",
            "32\n",
            "17\n"
          ],
          "name": "stdout"
        }
      ]
    },
    {
      "cell_type": "markdown",
      "metadata": {
        "id": "Ia3ai-GvavmP"
      },
      "source": [
        "## Simple training loop"
      ]
    },
    {
      "cell_type": "markdown",
      "metadata": {
        "id": "v9wNZrTnavmQ"
      },
      "source": [
        "Here we define our training procedure for an epoch."
      ]
    },
    {
      "cell_type": "code",
      "metadata": {
        "id": "ZyK9xCsZavmR"
      },
      "source": [
        "def train(epoch, model, train_loader, optimizer, device):\n",
        "    \n",
        "    # activate the training mode\n",
        "    model.train()\n",
        "    \n",
        "    torch.set_grad_enabled(True)\n",
        "    \n",
        "    total_loss = 0\n",
        "    correct = 0\n",
        "    \n",
        "    # iteration over the mini-batches\n",
        "    for batch_idx, (data, target) in enumerate(train_loader):\n",
        "        \n",
        "        # transfer the data on the chosen device\n",
        "        data, target = data.to(device), target.to(device)\n",
        "        \n",
        "        # reinitialize the gradients to zero\n",
        "        optimizer.zero_grad()\n",
        "        \n",
        "        # forward propagation on the data\n",
        "        prediction = model(data)\n",
        "        \n",
        "        # compute the loss function w.r.t. the targets\n",
        "        loss = loss_function(prediction, target)\n",
        "        \n",
        "        # execute the backpropagation\n",
        "        loss.backward()\n",
        "        \n",
        "        # execute an optimization step\n",
        "        optimizer.step()\n",
        "        \n",
        "        # accumulate the loss\n",
        "        total_loss += loss.item()*len(data)\n",
        "        \n",
        "        # compute the number of correct predictions\n",
        "        _, pred_classes = torch.max(prediction, dim=1)        \n",
        "        correct += pred_classes.eq(target.view_as(pred_classes)).sum().item()\n",
        "         \n",
        "        \n",
        "    # compute the average loss per epoch\n",
        "    mean_loss = total_loss/len(train_loader.dataset)\n",
        "    \n",
        "    # compute the accuracy\n",
        "    acc = correct / len(train_loader.dataset)\n",
        "        \n",
        "    print('Train Epoch: {}   Avg_Loss: {:.5f}   Acc: {}/{} ({:.3f}%)'.format(\n",
        "        epoch, mean_loss, correct, len(train_loader.dataset),\n",
        "        100. * acc))   \n",
        "    \n",
        "    # return the average loss and the accuracy\n",
        "    return mean_loss, acc"
      ],
      "execution_count": 143,
      "outputs": []
    },
    {
      "cell_type": "markdown",
      "metadata": {
        "id": "vGexbWaHavmU"
      },
      "source": [
        "## Evaluation procedure\n",
        "Here we define our model evaluation procedure.\n",
        "<br/>\n",
        "In addition to switching the model to **eval** mode, it is essential to disable the gradient calculation. \n",
        "<br/>\n",
        "To do this, PyTorch offers a set of context managers to <a href=\"https://pytorch.org/docs/0.4.0/torch.html#locally-disabling-gradient-computation\">locally disable/enable gradient calculation </a>:\n",
        "1. `torch.no_grad()`: disable gradient calculation.\n",
        "2. `torch.enable_grad()`: enable gradient calculation.\n",
        "3. `torch.set_grad_enabled(bool)`: enable/disable gradient calculation.\n",
        "\n"
      ]
    },
    {
      "cell_type": "code",
      "metadata": {
        "id": "8gQj9W5LavmU"
      },
      "source": [
        "def evaluate(model, eval_loader, device):\n",
        "    \n",
        "    # activate the evaluation mode\n",
        "    model.eval()\n",
        "    \n",
        "    total_loss = 0\n",
        "    correct = 0\n",
        "    \n",
        "    with torch.no_grad():\n",
        "    \n",
        "        # iterate over the batches\n",
        "        for batch_idx, (data, target) in enumerate(eval_loader):\n",
        "\n",
        "            # transfer the data on the chosen device\n",
        "            data, target = data.to(device), target.to(device)\n",
        "\n",
        "            # forward propagation on the data\n",
        "            prediction = model(data)\n",
        "\n",
        "            # compute the loss function w.r.t. the targets\n",
        "            loss = loss_function(prediction, target)           \n",
        "\n",
        "\n",
        "            # accumulate the loss\n",
        "            total_loss += loss.item()*len(data)\n",
        "\n",
        "            # compute the number of correct predictions en sortie)\n",
        "            _, pred_classes = torch.max(prediction, dim=1) \n",
        "            correct += pred_classes.eq(target.view_as(pred_classes)).sum().item()         \n",
        "          \n",
        "    \n",
        "    # compute the average loss per epoch\n",
        "    mean_loss = total_loss/len(eval_loader.dataset)\n",
        "    \n",
        "    # compute the accuracy\n",
        "    acc = correct / len(eval_loader.dataset)\n",
        "        \n",
        "    print('Eval:  Avg_Loss: {:.5f}   Acc: {}/{} ({:.3f}%)'.format(\n",
        "        mean_loss, correct, len(eval_loader.dataset),\n",
        "        100. * acc)) \n",
        "    \n",
        "    # return the average loss and the accuracy\n",
        "    return mean_loss, acc"
      ],
      "execution_count": 145,
      "outputs": []
    },
    {
      "cell_type": "markdown",
      "metadata": {
        "id": "lQLklQXAavmW"
      },
      "source": [
        "## Checkpointing\n",
        "\n",
        "During training, we recommend saving the model parameters periodically. By doing so, we avoid having to retrain the model from scratch if the experiment goes wrong such as losing communication with GPU, out-of-memory error, numerical errors, incorrect learning rates making the experiment unstable, etc. This practice is commonly referred to as <b>checkpointing</b>.\n",
        "\n",
        "PyTorch offers <a href=\"http://pytorch.org/docs/master/notes/serialization.html\">a simple mechanism</a> to perform this operation.\n",
        "\n",
        "We implement two methods here:\n",
        "<ul>\n",
        "<li> the first one for <b> saving </b> a model,</li>\n",
        "<li> the second for <b> loading </b> a model checkpoint. </li>\n",
        "</ul>"
      ]
    },
    {
      "cell_type": "code",
      "metadata": {
        "id": "dMmNpma2avmX"
      },
      "source": [
        "def save_model(epoch, model, path='./'):\n",
        "    \n",
        "    # creating the file name indexed by the epoch value\n",
        "    filename = path + 'neural_network_{}.pt'.format(epoch)\n",
        "    \n",
        "    # saving the model parameters\n",
        "    torch.save(model.state_dict(), filename)\n",
        "    \n",
        "    return model\n",
        "    "
      ],
      "execution_count": 146,
      "outputs": []
    },
    {
      "cell_type": "code",
      "metadata": {
        "id": "2ZptgqQRavmZ"
      },
      "source": [
        "def load_model(epoch, model, path='./'):\n",
        "    \n",
        "    # creating the file name indexed by the epoch value\n",
        "    filename = path + 'neural_network_{}.pt'.format(epoch)\n",
        "    \n",
        "    # loading the parameters of the saved model\n",
        "    model.load_state_dict(torch.load(filename))\n",
        "    \n",
        "    return model"
      ],
      "execution_count": 147,
      "outputs": []
    },
    {
      "cell_type": "markdown",
      "metadata": {
        "id": "ve8sOocWavma"
      },
      "source": [
        "It is also possible to save the optimizer's status in PyTorch, which is very important when we want to resume training the model from a given backup. For more information, please consult <a href='https://discuss.pytorch.org/t/saving-and-loading-a-model-in-pytorch/2610/3'>the following URL</a>."
      ]
    },
    {
      "cell_type": "markdown",
      "metadata": {
        "id": "8lcAP8-1avma"
      },
      "source": [
        "## Putting everything together"
      ]
    },
    {
      "cell_type": "code",
      "metadata": {
        "id": "keMpyePsavmb",
        "colab": {
          "base_uri": "https://localhost:8080/"
        },
        "outputId": "06f6d056-0a84-46b3-bc74-8cf149379409"
      },
      "source": [
        "# maximum number of epoch\n",
        "numEpochs = 200\n",
        "\n",
        "# Saving frequency\n",
        "checkpoint_freq = 10\n",
        "\n",
        "# Directory for data backup\n",
        "path = './'\n",
        "\n",
        "# Accumulators of average losses obtained per epoch\n",
        "train_losses = []\n",
        "val_losses = []\n",
        "\n",
        "# Performance accumulators per epoch\n",
        "train_accuracies = []\n",
        "val_accuracies = []\n",
        "\n",
        "# Model definition\n",
        "neural_net = NeuralNet()\n",
        "\n",
        "# Load the model on the chosen device\n",
        "neural_net = neural_net.to(device)\n",
        "\n",
        "# Optimizer definition\n",
        "optimizer = optim.Adam(neural_net.parameters(), lr=0.001) \n",
        "# optimizer = optim.SGD(neural_net.parameters(), lr=0.001) \n",
        "\n",
        "\n",
        "# Learning loop\n",
        "for epoch in range(1, numEpochs + 1):\n",
        "    \n",
        "    # train the model with the train dataset\n",
        "    train_loss, train_acc = train(epoch, neural_net, train_loader, optimizer, device)   \n",
        "    \n",
        "    # evaluate the model with the validation dataset\n",
        "    val_loss, val_acc = evaluate(neural_net, val_loader, device)       \n",
        "    \n",
        "    # Save the losses obtained\n",
        "    train_losses.append(train_loss)    \n",
        "    val_losses.append(val_loss)\n",
        "    \n",
        "    # Save the performances\n",
        "    train_accuracies.append(train_acc)    \n",
        "    val_accuracies.append(val_acc)\n",
        "    \n",
        "    # Checkpoint\n",
        "    if epoch % checkpoint_freq ==0:\n",
        "        save_model(epoch, neural_net, path)\n",
        "\n",
        "# Save the model at the end of the training\n",
        "save_model(numEpochs, neural_net, path)\n",
        "    \n",
        "print(\"\\n\\n\\nOptimization ended.\\n\")    \n"
      ],
      "execution_count": 148,
      "outputs": [
        {
          "output_type": "stream",
          "text": [
            "Train Epoch: 1   Avg_Loss: 0.67082   Acc: 388/625 (62.080%)\n",
            "Eval:  Avg_Loss: 0.65948   Acc: 132/209 (63.158%)\n",
            "Train Epoch: 2   Avg_Loss: 0.64396   Acc: 405/625 (64.800%)\n",
            "Eval:  Avg_Loss: 0.63975   Acc: 137/209 (65.550%)\n",
            "Train Epoch: 3   Avg_Loss: 0.62692   Acc: 411/625 (65.760%)\n",
            "Eval:  Avg_Loss: 0.62783   Acc: 140/209 (66.986%)\n",
            "Train Epoch: 4   Avg_Loss: 0.61689   Acc: 414/625 (66.240%)\n",
            "Eval:  Avg_Loss: 0.62034   Acc: 146/209 (69.856%)\n",
            "Train Epoch: 5   Avg_Loss: 0.61411   Acc: 421/625 (67.360%)\n",
            "Eval:  Avg_Loss: 0.61619   Acc: 145/209 (69.378%)\n",
            "Train Epoch: 6   Avg_Loss: 0.61117   Acc: 423/625 (67.680%)\n",
            "Eval:  Avg_Loss: 0.61553   Acc: 146/209 (69.856%)\n",
            "Train Epoch: 7   Avg_Loss: 0.60847   Acc: 424/625 (67.840%)\n",
            "Eval:  Avg_Loss: 0.61416   Acc: 146/209 (69.856%)\n",
            "Train Epoch: 8   Avg_Loss: 0.60578   Acc: 425/625 (68.000%)\n",
            "Eval:  Avg_Loss: 0.61301   Acc: 145/209 (69.378%)\n",
            "Train Epoch: 9   Avg_Loss: 0.60511   Acc: 426/625 (68.160%)\n",
            "Eval:  Avg_Loss: 0.61261   Acc: 147/209 (70.335%)\n",
            "Train Epoch: 10   Avg_Loss: 0.60175   Acc: 427/625 (68.320%)\n",
            "Eval:  Avg_Loss: 0.61064   Acc: 143/209 (68.421%)\n",
            "Train Epoch: 11   Avg_Loss: 0.59716   Acc: 428/625 (68.480%)\n",
            "Eval:  Avg_Loss: 0.60704   Acc: 145/209 (69.378%)\n",
            "Train Epoch: 12   Avg_Loss: 0.59154   Acc: 442/625 (70.720%)\n",
            "Eval:  Avg_Loss: 0.60349   Acc: 148/209 (70.813%)\n",
            "Train Epoch: 13   Avg_Loss: 0.58468   Acc: 454/625 (72.640%)\n",
            "Eval:  Avg_Loss: 0.59845   Acc: 147/209 (70.335%)\n",
            "Train Epoch: 14   Avg_Loss: 0.57666   Acc: 459/625 (73.440%)\n",
            "Eval:  Avg_Loss: 0.59252   Acc: 147/209 (70.335%)\n",
            "Train Epoch: 15   Avg_Loss: 0.56432   Acc: 464/625 (74.240%)\n",
            "Eval:  Avg_Loss: 0.58112   Acc: 147/209 (70.335%)\n",
            "Train Epoch: 16   Avg_Loss: 0.55277   Acc: 473/625 (75.680%)\n",
            "Eval:  Avg_Loss: 0.56946   Acc: 151/209 (72.249%)\n",
            "Train Epoch: 17   Avg_Loss: 0.54476   Acc: 482/625 (77.120%)\n",
            "Eval:  Avg_Loss: 0.56881   Acc: 153/209 (73.206%)\n",
            "Train Epoch: 18   Avg_Loss: 0.53911   Acc: 480/625 (76.800%)\n",
            "Eval:  Avg_Loss: 0.56962   Acc: 149/209 (71.292%)\n",
            "Train Epoch: 19   Avg_Loss: 0.53589   Acc: 483/625 (77.280%)\n",
            "Eval:  Avg_Loss: 0.54795   Acc: 160/209 (76.555%)\n",
            "Train Epoch: 20   Avg_Loss: 0.52196   Acc: 492/625 (78.720%)\n",
            "Eval:  Avg_Loss: 0.56058   Acc: 152/209 (72.727%)\n",
            "Train Epoch: 21   Avg_Loss: 0.52570   Acc: 490/625 (78.400%)\n",
            "Eval:  Avg_Loss: 0.54350   Acc: 159/209 (76.077%)\n",
            "Train Epoch: 22   Avg_Loss: 0.51583   Acc: 495/625 (79.200%)\n",
            "Eval:  Avg_Loss: 0.55121   Acc: 159/209 (76.077%)\n",
            "Train Epoch: 23   Avg_Loss: 0.53181   Acc: 483/625 (77.280%)\n",
            "Eval:  Avg_Loss: 0.55294   Acc: 153/209 (73.206%)\n",
            "Train Epoch: 24   Avg_Loss: 0.51902   Acc: 493/625 (78.880%)\n",
            "Eval:  Avg_Loss: 0.54583   Acc: 156/209 (74.641%)\n",
            "Train Epoch: 25   Avg_Loss: 0.50956   Acc: 502/625 (80.320%)\n",
            "Eval:  Avg_Loss: 0.53638   Acc: 161/209 (77.033%)\n",
            "Train Epoch: 26   Avg_Loss: 0.50632   Acc: 500/625 (80.000%)\n",
            "Eval:  Avg_Loss: 0.54325   Acc: 159/209 (76.077%)\n",
            "Train Epoch: 27   Avg_Loss: 0.50709   Acc: 503/625 (80.480%)\n",
            "Eval:  Avg_Loss: 0.53981   Acc: 158/209 (75.598%)\n",
            "Train Epoch: 28   Avg_Loss: 0.50498   Acc: 498/625 (79.680%)\n",
            "Eval:  Avg_Loss: 0.56484   Acc: 154/209 (73.684%)\n",
            "Train Epoch: 29   Avg_Loss: 0.53375   Acc: 478/625 (76.480%)\n",
            "Eval:  Avg_Loss: 0.53802   Acc: 158/209 (75.598%)\n",
            "Train Epoch: 30   Avg_Loss: 0.50322   Acc: 505/625 (80.800%)\n",
            "Eval:  Avg_Loss: 0.52806   Acc: 164/209 (78.469%)\n",
            "Train Epoch: 31   Avg_Loss: 0.50104   Acc: 507/625 (81.120%)\n",
            "Eval:  Avg_Loss: 0.52913   Acc: 162/209 (77.512%)\n",
            "Train Epoch: 32   Avg_Loss: 0.49983   Acc: 506/625 (80.960%)\n",
            "Eval:  Avg_Loss: 0.52675   Acc: 163/209 (77.990%)\n",
            "Train Epoch: 33   Avg_Loss: 0.50080   Acc: 504/625 (80.640%)\n",
            "Eval:  Avg_Loss: 0.53029   Acc: 160/209 (76.555%)\n",
            "Train Epoch: 34   Avg_Loss: 0.49508   Acc: 509/625 (81.440%)\n",
            "Eval:  Avg_Loss: 0.52680   Acc: 164/209 (78.469%)\n",
            "Train Epoch: 35   Avg_Loss: 0.49751   Acc: 507/625 (81.120%)\n",
            "Eval:  Avg_Loss: 0.52604   Acc: 164/209 (78.469%)\n",
            "Train Epoch: 36   Avg_Loss: 0.49926   Acc: 503/625 (80.480%)\n",
            "Eval:  Avg_Loss: 0.52743   Acc: 161/209 (77.033%)\n",
            "Train Epoch: 37   Avg_Loss: 0.49911   Acc: 506/625 (80.960%)\n",
            "Eval:  Avg_Loss: 0.53023   Acc: 162/209 (77.512%)\n",
            "Train Epoch: 38   Avg_Loss: 0.49397   Acc: 508/625 (81.280%)\n",
            "Eval:  Avg_Loss: 0.53806   Acc: 159/209 (76.077%)\n",
            "Train Epoch: 39   Avg_Loss: 0.49975   Acc: 499/625 (79.840%)\n",
            "Eval:  Avg_Loss: 0.53242   Acc: 160/209 (76.555%)\n",
            "Train Epoch: 40   Avg_Loss: 0.49963   Acc: 500/625 (80.000%)\n",
            "Eval:  Avg_Loss: 0.52475   Acc: 162/209 (77.512%)\n",
            "Train Epoch: 41   Avg_Loss: 0.49473   Acc: 507/625 (81.120%)\n",
            "Eval:  Avg_Loss: 0.52594   Acc: 163/209 (77.990%)\n",
            "Train Epoch: 42   Avg_Loss: 0.49913   Acc: 507/625 (81.120%)\n",
            "Eval:  Avg_Loss: 0.52429   Acc: 163/209 (77.990%)\n",
            "Train Epoch: 43   Avg_Loss: 0.49256   Acc: 511/625 (81.760%)\n",
            "Eval:  Avg_Loss: 0.52915   Acc: 162/209 (77.512%)\n",
            "Train Epoch: 44   Avg_Loss: 0.49956   Acc: 503/625 (80.480%)\n",
            "Eval:  Avg_Loss: 0.52194   Acc: 163/209 (77.990%)\n",
            "Train Epoch: 45   Avg_Loss: 0.48967   Acc: 514/625 (82.240%)\n",
            "Eval:  Avg_Loss: 0.52521   Acc: 163/209 (77.990%)\n",
            "Train Epoch: 46   Avg_Loss: 0.50299   Acc: 498/625 (79.680%)\n",
            "Eval:  Avg_Loss: 0.53484   Acc: 157/209 (75.120%)\n",
            "Train Epoch: 47   Avg_Loss: 0.49683   Acc: 502/625 (80.320%)\n",
            "Eval:  Avg_Loss: 0.52107   Acc: 164/209 (78.469%)\n",
            "Train Epoch: 48   Avg_Loss: 0.49170   Acc: 510/625 (81.600%)\n",
            "Eval:  Avg_Loss: 0.52441   Acc: 163/209 (77.990%)\n",
            "Train Epoch: 49   Avg_Loss: 0.48708   Acc: 517/625 (82.720%)\n",
            "Eval:  Avg_Loss: 0.51964   Acc: 165/209 (78.947%)\n",
            "Train Epoch: 50   Avg_Loss: 0.49152   Acc: 510/625 (81.600%)\n",
            "Eval:  Avg_Loss: 0.51913   Acc: 165/209 (78.947%)\n",
            "Train Epoch: 51   Avg_Loss: 0.49811   Acc: 504/625 (80.640%)\n",
            "Eval:  Avg_Loss: 0.52095   Acc: 162/209 (77.512%)\n",
            "Train Epoch: 52   Avg_Loss: 0.48719   Acc: 514/625 (82.240%)\n",
            "Eval:  Avg_Loss: 0.51961   Acc: 163/209 (77.990%)\n",
            "Train Epoch: 53   Avg_Loss: 0.48644   Acc: 511/625 (81.760%)\n",
            "Eval:  Avg_Loss: 0.52067   Acc: 162/209 (77.512%)\n",
            "Train Epoch: 54   Avg_Loss: 0.48823   Acc: 515/625 (82.400%)\n",
            "Eval:  Avg_Loss: 0.51900   Acc: 165/209 (78.947%)\n",
            "Train Epoch: 55   Avg_Loss: 0.49121   Acc: 512/625 (81.920%)\n",
            "Eval:  Avg_Loss: 0.51898   Acc: 162/209 (77.512%)\n",
            "Train Epoch: 56   Avg_Loss: 0.48756   Acc: 513/625 (82.080%)\n",
            "Eval:  Avg_Loss: 0.51715   Acc: 165/209 (78.947%)\n",
            "Train Epoch: 57   Avg_Loss: 0.48592   Acc: 513/625 (82.080%)\n",
            "Eval:  Avg_Loss: 0.51940   Acc: 163/209 (77.990%)\n",
            "Train Epoch: 58   Avg_Loss: 0.48965   Acc: 513/625 (82.080%)\n",
            "Eval:  Avg_Loss: 0.51744   Acc: 166/209 (79.426%)\n",
            "Train Epoch: 59   Avg_Loss: 0.51372   Acc: 484/625 (77.440%)\n",
            "Eval:  Avg_Loss: 0.51714   Acc: 164/209 (78.469%)\n",
            "Train Epoch: 60   Avg_Loss: 0.49010   Acc: 510/625 (81.600%)\n",
            "Eval:  Avg_Loss: 0.51885   Acc: 164/209 (78.469%)\n",
            "Train Epoch: 61   Avg_Loss: 0.48721   Acc: 509/625 (81.440%)\n",
            "Eval:  Avg_Loss: 0.52821   Acc: 163/209 (77.990%)\n",
            "Train Epoch: 62   Avg_Loss: 0.48779   Acc: 513/625 (82.080%)\n",
            "Eval:  Avg_Loss: 0.51602   Acc: 164/209 (78.469%)\n",
            "Train Epoch: 63   Avg_Loss: 0.49138   Acc: 506/625 (80.960%)\n",
            "Eval:  Avg_Loss: 0.51861   Acc: 163/209 (77.990%)\n",
            "Train Epoch: 64   Avg_Loss: 0.50119   Acc: 502/625 (80.320%)\n",
            "Eval:  Avg_Loss: 0.51257   Acc: 164/209 (78.469%)\n",
            "Train Epoch: 65   Avg_Loss: 0.48848   Acc: 510/625 (81.600%)\n",
            "Eval:  Avg_Loss: 0.52092   Acc: 162/209 (77.512%)\n",
            "Train Epoch: 66   Avg_Loss: 0.48953   Acc: 511/625 (81.760%)\n",
            "Eval:  Avg_Loss: 0.51987   Acc: 165/209 (78.947%)\n",
            "Train Epoch: 67   Avg_Loss: 0.49093   Acc: 511/625 (81.760%)\n",
            "Eval:  Avg_Loss: 0.51716   Acc: 162/209 (77.512%)\n",
            "Train Epoch: 68   Avg_Loss: 0.49838   Acc: 501/625 (80.160%)\n",
            "Eval:  Avg_Loss: 0.51215   Acc: 166/209 (79.426%)\n",
            "Train Epoch: 69   Avg_Loss: 0.49166   Acc: 507/625 (81.120%)\n",
            "Eval:  Avg_Loss: 0.52389   Acc: 163/209 (77.990%)\n",
            "Train Epoch: 70   Avg_Loss: 0.48424   Acc: 515/625 (82.400%)\n",
            "Eval:  Avg_Loss: 0.52156   Acc: 162/209 (77.512%)\n",
            "Train Epoch: 71   Avg_Loss: 0.48635   Acc: 512/625 (81.920%)\n",
            "Eval:  Avg_Loss: 0.51910   Acc: 161/209 (77.033%)\n",
            "Train Epoch: 72   Avg_Loss: 0.48348   Acc: 518/625 (82.880%)\n",
            "Eval:  Avg_Loss: 0.51750   Acc: 164/209 (78.469%)\n",
            "Train Epoch: 73   Avg_Loss: 0.48457   Acc: 517/625 (82.720%)\n",
            "Eval:  Avg_Loss: 0.52471   Acc: 164/209 (78.469%)\n",
            "Train Epoch: 74   Avg_Loss: 0.48802   Acc: 514/625 (82.240%)\n",
            "Eval:  Avg_Loss: 0.51357   Acc: 165/209 (78.947%)\n",
            "Train Epoch: 75   Avg_Loss: 0.48667   Acc: 513/625 (82.080%)\n",
            "Eval:  Avg_Loss: 0.51414   Acc: 167/209 (79.904%)\n",
            "Train Epoch: 76   Avg_Loss: 0.48401   Acc: 512/625 (81.920%)\n",
            "Eval:  Avg_Loss: 0.52812   Acc: 166/209 (79.426%)\n",
            "Train Epoch: 77   Avg_Loss: 0.49988   Acc: 500/625 (80.000%)\n",
            "Eval:  Avg_Loss: 0.52275   Acc: 163/209 (77.990%)\n",
            "Train Epoch: 78   Avg_Loss: 0.49639   Acc: 499/625 (79.840%)\n",
            "Eval:  Avg_Loss: 0.51456   Acc: 165/209 (78.947%)\n",
            "Train Epoch: 79   Avg_Loss: 0.48198   Acc: 519/625 (83.040%)\n",
            "Eval:  Avg_Loss: 0.51527   Acc: 164/209 (78.469%)\n",
            "Train Epoch: 80   Avg_Loss: 0.48375   Acc: 517/625 (82.720%)\n",
            "Eval:  Avg_Loss: 0.51892   Acc: 164/209 (78.469%)\n",
            "Train Epoch: 81   Avg_Loss: 0.48262   Acc: 518/625 (82.880%)\n",
            "Eval:  Avg_Loss: 0.51801   Acc: 164/209 (78.469%)\n",
            "Train Epoch: 82   Avg_Loss: 0.48312   Acc: 513/625 (82.080%)\n",
            "Eval:  Avg_Loss: 0.53794   Acc: 157/209 (75.120%)\n",
            "Train Epoch: 83   Avg_Loss: 0.49427   Acc: 508/625 (81.280%)\n",
            "Eval:  Avg_Loss: 0.51388   Acc: 166/209 (79.426%)\n",
            "Train Epoch: 84   Avg_Loss: 0.48098   Acc: 522/625 (83.520%)\n",
            "Eval:  Avg_Loss: 0.51643   Acc: 165/209 (78.947%)\n",
            "Train Epoch: 85   Avg_Loss: 0.48231   Acc: 517/625 (82.720%)\n",
            "Eval:  Avg_Loss: 0.52655   Acc: 163/209 (77.990%)\n",
            "Train Epoch: 86   Avg_Loss: 0.48985   Acc: 507/625 (81.120%)\n",
            "Eval:  Avg_Loss: 0.51358   Acc: 165/209 (78.947%)\n",
            "Train Epoch: 87   Avg_Loss: 0.48576   Acc: 515/625 (82.400%)\n",
            "Eval:  Avg_Loss: 0.51329   Acc: 165/209 (78.947%)\n",
            "Train Epoch: 88   Avg_Loss: 0.48256   Acc: 512/625 (81.920%)\n",
            "Eval:  Avg_Loss: 0.51909   Acc: 164/209 (78.469%)\n",
            "Train Epoch: 89   Avg_Loss: 0.48241   Acc: 519/625 (83.040%)\n",
            "Eval:  Avg_Loss: 0.51173   Acc: 168/209 (80.383%)\n",
            "Train Epoch: 90   Avg_Loss: 0.47888   Acc: 516/625 (82.560%)\n",
            "Eval:  Avg_Loss: 0.51904   Acc: 163/209 (77.990%)\n",
            "Train Epoch: 91   Avg_Loss: 0.48125   Acc: 517/625 (82.720%)\n",
            "Eval:  Avg_Loss: 0.51648   Acc: 164/209 (78.469%)\n",
            "Train Epoch: 92   Avg_Loss: 0.47985   Acc: 519/625 (83.040%)\n",
            "Eval:  Avg_Loss: 0.51881   Acc: 163/209 (77.990%)\n",
            "Train Epoch: 93   Avg_Loss: 0.48478   Acc: 510/625 (81.600%)\n",
            "Eval:  Avg_Loss: 0.50974   Acc: 167/209 (79.904%)\n",
            "Train Epoch: 94   Avg_Loss: 0.48138   Acc: 522/625 (83.520%)\n",
            "Eval:  Avg_Loss: 0.52678   Acc: 163/209 (77.990%)\n",
            "Train Epoch: 95   Avg_Loss: 0.48711   Acc: 512/625 (81.920%)\n",
            "Eval:  Avg_Loss: 0.50630   Acc: 168/209 (80.383%)\n",
            "Train Epoch: 96   Avg_Loss: 0.48024   Acc: 519/625 (83.040%)\n",
            "Eval:  Avg_Loss: 0.51362   Acc: 165/209 (78.947%)\n",
            "Train Epoch: 97   Avg_Loss: 0.48235   Acc: 518/625 (82.880%)\n",
            "Eval:  Avg_Loss: 0.51224   Acc: 167/209 (79.904%)\n",
            "Train Epoch: 98   Avg_Loss: 0.48052   Acc: 512/625 (81.920%)\n",
            "Eval:  Avg_Loss: 0.52680   Acc: 163/209 (77.990%)\n",
            "Train Epoch: 99   Avg_Loss: 0.48539   Acc: 513/625 (82.080%)\n",
            "Eval:  Avg_Loss: 0.51016   Acc: 167/209 (79.904%)\n",
            "Train Epoch: 100   Avg_Loss: 0.48197   Acc: 517/625 (82.720%)\n",
            "Eval:  Avg_Loss: 0.50982   Acc: 168/209 (80.383%)\n",
            "Train Epoch: 101   Avg_Loss: 0.48380   Acc: 513/625 (82.080%)\n",
            "Eval:  Avg_Loss: 0.51803   Acc: 164/209 (78.469%)\n",
            "Train Epoch: 102   Avg_Loss: 0.47722   Acc: 518/625 (82.880%)\n",
            "Eval:  Avg_Loss: 0.51839   Acc: 163/209 (77.990%)\n",
            "Train Epoch: 103   Avg_Loss: 0.47608   Acc: 519/625 (83.040%)\n",
            "Eval:  Avg_Loss: 0.51967   Acc: 165/209 (78.947%)\n",
            "Train Epoch: 104   Avg_Loss: 0.48089   Acc: 514/625 (82.240%)\n",
            "Eval:  Avg_Loss: 0.50949   Acc: 168/209 (80.383%)\n",
            "Train Epoch: 105   Avg_Loss: 0.47478   Acc: 520/625 (83.200%)\n",
            "Eval:  Avg_Loss: 0.52053   Acc: 163/209 (77.990%)\n",
            "Train Epoch: 106   Avg_Loss: 0.47504   Acc: 526/625 (84.160%)\n",
            "Eval:  Avg_Loss: 0.51798   Acc: 164/209 (78.469%)\n",
            "Train Epoch: 107   Avg_Loss: 0.49257   Acc: 509/625 (81.440%)\n",
            "Eval:  Avg_Loss: 0.53227   Acc: 163/209 (77.990%)\n",
            "Train Epoch: 108   Avg_Loss: 0.49134   Acc: 507/625 (81.120%)\n",
            "Eval:  Avg_Loss: 0.52122   Acc: 165/209 (78.947%)\n",
            "Train Epoch: 109   Avg_Loss: 0.49198   Acc: 502/625 (80.320%)\n",
            "Eval:  Avg_Loss: 0.50722   Acc: 168/209 (80.383%)\n",
            "Train Epoch: 110   Avg_Loss: 0.47556   Acc: 521/625 (83.360%)\n",
            "Eval:  Avg_Loss: 0.51796   Acc: 163/209 (77.990%)\n",
            "Train Epoch: 111   Avg_Loss: 0.47468   Acc: 518/625 (82.880%)\n",
            "Eval:  Avg_Loss: 0.51504   Acc: 166/209 (79.426%)\n",
            "Train Epoch: 112   Avg_Loss: 0.48897   Acc: 510/625 (81.600%)\n",
            "Eval:  Avg_Loss: 0.52194   Acc: 165/209 (78.947%)\n",
            "Train Epoch: 113   Avg_Loss: 0.48241   Acc: 516/625 (82.560%)\n",
            "Eval:  Avg_Loss: 0.52024   Acc: 164/209 (78.469%)\n",
            "Train Epoch: 114   Avg_Loss: 0.48075   Acc: 521/625 (83.360%)\n",
            "Eval:  Avg_Loss: 0.51300   Acc: 166/209 (79.426%)\n",
            "Train Epoch: 115   Avg_Loss: 0.47599   Acc: 523/625 (83.680%)\n",
            "Eval:  Avg_Loss: 0.51951   Acc: 164/209 (78.469%)\n",
            "Train Epoch: 116   Avg_Loss: 0.47552   Acc: 520/625 (83.200%)\n",
            "Eval:  Avg_Loss: 0.51036   Acc: 167/209 (79.904%)\n",
            "Train Epoch: 117   Avg_Loss: 0.47699   Acc: 521/625 (83.360%)\n",
            "Eval:  Avg_Loss: 0.52093   Acc: 164/209 (78.469%)\n",
            "Train Epoch: 118   Avg_Loss: 0.47660   Acc: 520/625 (83.200%)\n",
            "Eval:  Avg_Loss: 0.51341   Acc: 165/209 (78.947%)\n",
            "Train Epoch: 119   Avg_Loss: 0.47763   Acc: 517/625 (82.720%)\n",
            "Eval:  Avg_Loss: 0.52250   Acc: 165/209 (78.947%)\n",
            "Train Epoch: 120   Avg_Loss: 0.48540   Acc: 510/625 (81.600%)\n",
            "Eval:  Avg_Loss: 0.51807   Acc: 166/209 (79.426%)\n",
            "Train Epoch: 121   Avg_Loss: 0.48322   Acc: 515/625 (82.400%)\n",
            "Eval:  Avg_Loss: 0.51710   Acc: 165/209 (78.947%)\n",
            "Train Epoch: 122   Avg_Loss: 0.47433   Acc: 524/625 (83.840%)\n",
            "Eval:  Avg_Loss: 0.51318   Acc: 167/209 (79.904%)\n",
            "Train Epoch: 123   Avg_Loss: 0.47652   Acc: 520/625 (83.200%)\n",
            "Eval:  Avg_Loss: 0.50993   Acc: 168/209 (80.383%)\n",
            "Train Epoch: 124   Avg_Loss: 0.47682   Acc: 518/625 (82.880%)\n",
            "Eval:  Avg_Loss: 0.51490   Acc: 165/209 (78.947%)\n",
            "Train Epoch: 125   Avg_Loss: 0.47697   Acc: 518/625 (82.880%)\n",
            "Eval:  Avg_Loss: 0.53510   Acc: 159/209 (76.077%)\n",
            "Train Epoch: 126   Avg_Loss: 0.48027   Acc: 516/625 (82.560%)\n",
            "Eval:  Avg_Loss: 0.52686   Acc: 162/209 (77.512%)\n",
            "Train Epoch: 127   Avg_Loss: 0.47865   Acc: 515/625 (82.400%)\n",
            "Eval:  Avg_Loss: 0.51731   Acc: 166/209 (79.426%)\n",
            "Train Epoch: 128   Avg_Loss: 0.47491   Acc: 522/625 (83.520%)\n",
            "Eval:  Avg_Loss: 0.51728   Acc: 166/209 (79.426%)\n",
            "Train Epoch: 129   Avg_Loss: 0.47373   Acc: 520/625 (83.200%)\n",
            "Eval:  Avg_Loss: 0.52455   Acc: 162/209 (77.512%)\n",
            "Train Epoch: 130   Avg_Loss: 0.48852   Acc: 514/625 (82.240%)\n",
            "Eval:  Avg_Loss: 0.53463   Acc: 162/209 (77.512%)\n",
            "Train Epoch: 131   Avg_Loss: 0.49258   Acc: 511/625 (81.760%)\n",
            "Eval:  Avg_Loss: 0.51593   Acc: 165/209 (78.947%)\n",
            "Train Epoch: 132   Avg_Loss: 0.47481   Acc: 519/625 (83.040%)\n",
            "Eval:  Avg_Loss: 0.51792   Acc: 165/209 (78.947%)\n",
            "Train Epoch: 133   Avg_Loss: 0.47555   Acc: 519/625 (83.040%)\n",
            "Eval:  Avg_Loss: 0.52013   Acc: 165/209 (78.947%)\n",
            "Train Epoch: 134   Avg_Loss: 0.47993   Acc: 520/625 (83.200%)\n",
            "Eval:  Avg_Loss: 0.51885   Acc: 165/209 (78.947%)\n",
            "Train Epoch: 135   Avg_Loss: 0.48632   Acc: 512/625 (81.920%)\n",
            "Eval:  Avg_Loss: 0.52059   Acc: 164/209 (78.469%)\n",
            "Train Epoch: 136   Avg_Loss: 0.48163   Acc: 515/625 (82.400%)\n",
            "Eval:  Avg_Loss: 0.51662   Acc: 166/209 (79.426%)\n",
            "Train Epoch: 137   Avg_Loss: 0.47337   Acc: 524/625 (83.840%)\n",
            "Eval:  Avg_Loss: 0.52181   Acc: 166/209 (79.426%)\n",
            "Train Epoch: 138   Avg_Loss: 0.47533   Acc: 519/625 (83.040%)\n",
            "Eval:  Avg_Loss: 0.52060   Acc: 165/209 (78.947%)\n",
            "Train Epoch: 139   Avg_Loss: 0.47559   Acc: 521/625 (83.360%)\n",
            "Eval:  Avg_Loss: 0.51585   Acc: 167/209 (79.904%)\n",
            "Train Epoch: 140   Avg_Loss: 0.47653   Acc: 523/625 (83.680%)\n",
            "Eval:  Avg_Loss: 0.52014   Acc: 164/209 (78.469%)\n",
            "Train Epoch: 141   Avg_Loss: 0.47645   Acc: 521/625 (83.360%)\n",
            "Eval:  Avg_Loss: 0.51331   Acc: 166/209 (79.426%)\n",
            "Train Epoch: 142   Avg_Loss: 0.47895   Acc: 519/625 (83.040%)\n",
            "Eval:  Avg_Loss: 0.51512   Acc: 167/209 (79.904%)\n",
            "Train Epoch: 143   Avg_Loss: 0.47196   Acc: 521/625 (83.360%)\n",
            "Eval:  Avg_Loss: 0.52551   Acc: 163/209 (77.990%)\n",
            "Train Epoch: 144   Avg_Loss: 0.47802   Acc: 521/625 (83.360%)\n",
            "Eval:  Avg_Loss: 0.52230   Acc: 166/209 (79.426%)\n",
            "Train Epoch: 145   Avg_Loss: 0.47800   Acc: 514/625 (82.240%)\n",
            "Eval:  Avg_Loss: 0.51457   Acc: 167/209 (79.904%)\n",
            "Train Epoch: 146   Avg_Loss: 0.47928   Acc: 516/625 (82.560%)\n",
            "Eval:  Avg_Loss: 0.52156   Acc: 166/209 (79.426%)\n",
            "Train Epoch: 147   Avg_Loss: 0.47940   Acc: 519/625 (83.040%)\n",
            "Eval:  Avg_Loss: 0.52344   Acc: 164/209 (78.469%)\n",
            "Train Epoch: 148   Avg_Loss: 0.47476   Acc: 520/625 (83.200%)\n",
            "Eval:  Avg_Loss: 0.52081   Acc: 165/209 (78.947%)\n",
            "Train Epoch: 149   Avg_Loss: 0.47768   Acc: 516/625 (82.560%)\n",
            "Eval:  Avg_Loss: 0.52029   Acc: 166/209 (79.426%)\n",
            "Train Epoch: 150   Avg_Loss: 0.47325   Acc: 520/625 (83.200%)\n",
            "Eval:  Avg_Loss: 0.52028   Acc: 167/209 (79.904%)\n",
            "Train Epoch: 151   Avg_Loss: 0.48211   Acc: 517/625 (82.720%)\n",
            "Eval:  Avg_Loss: 0.51093   Acc: 168/209 (80.383%)\n",
            "Train Epoch: 152   Avg_Loss: 0.47208   Acc: 523/625 (83.680%)\n",
            "Eval:  Avg_Loss: 0.51957   Acc: 164/209 (78.469%)\n",
            "Train Epoch: 153   Avg_Loss: 0.47983   Acc: 516/625 (82.560%)\n",
            "Eval:  Avg_Loss: 0.52901   Acc: 162/209 (77.512%)\n",
            "Train Epoch: 154   Avg_Loss: 0.47418   Acc: 523/625 (83.680%)\n",
            "Eval:  Avg_Loss: 0.51242   Acc: 167/209 (79.904%)\n",
            "Train Epoch: 155   Avg_Loss: 0.46999   Acc: 523/625 (83.680%)\n",
            "Eval:  Avg_Loss: 0.52073   Acc: 165/209 (78.947%)\n",
            "Train Epoch: 156   Avg_Loss: 0.47155   Acc: 523/625 (83.680%)\n",
            "Eval:  Avg_Loss: 0.51545   Acc: 166/209 (79.426%)\n",
            "Train Epoch: 157   Avg_Loss: 0.47747   Acc: 517/625 (82.720%)\n",
            "Eval:  Avg_Loss: 0.51411   Acc: 168/209 (80.383%)\n",
            "Train Epoch: 158   Avg_Loss: 0.47236   Acc: 523/625 (83.680%)\n",
            "Eval:  Avg_Loss: 0.52106   Acc: 166/209 (79.426%)\n",
            "Train Epoch: 159   Avg_Loss: 0.47187   Acc: 519/625 (83.040%)\n",
            "Eval:  Avg_Loss: 0.52597   Acc: 162/209 (77.512%)\n",
            "Train Epoch: 160   Avg_Loss: 0.47301   Acc: 519/625 (83.040%)\n",
            "Eval:  Avg_Loss: 0.51949   Acc: 166/209 (79.426%)\n",
            "Train Epoch: 161   Avg_Loss: 0.47060   Acc: 524/625 (83.840%)\n",
            "Eval:  Avg_Loss: 0.52174   Acc: 165/209 (78.947%)\n",
            "Train Epoch: 162   Avg_Loss: 0.46985   Acc: 521/625 (83.360%)\n",
            "Eval:  Avg_Loss: 0.51576   Acc: 166/209 (79.426%)\n",
            "Train Epoch: 163   Avg_Loss: 0.47939   Acc: 516/625 (82.560%)\n",
            "Eval:  Avg_Loss: 0.51692   Acc: 165/209 (78.947%)\n",
            "Train Epoch: 164   Avg_Loss: 0.48026   Acc: 514/625 (82.240%)\n",
            "Eval:  Avg_Loss: 0.52247   Acc: 166/209 (79.426%)\n",
            "Train Epoch: 165   Avg_Loss: 0.46905   Acc: 529/625 (84.640%)\n",
            "Eval:  Avg_Loss: 0.52221   Acc: 165/209 (78.947%)\n",
            "Train Epoch: 166   Avg_Loss: 0.49650   Acc: 504/625 (80.640%)\n",
            "Eval:  Avg_Loss: 0.50684   Acc: 168/209 (80.383%)\n",
            "Train Epoch: 167   Avg_Loss: 0.47889   Acc: 518/625 (82.880%)\n",
            "Eval:  Avg_Loss: 0.51904   Acc: 165/209 (78.947%)\n",
            "Train Epoch: 168   Avg_Loss: 0.46860   Acc: 523/625 (83.680%)\n",
            "Eval:  Avg_Loss: 0.51961   Acc: 166/209 (79.426%)\n",
            "Train Epoch: 169   Avg_Loss: 0.48140   Acc: 514/625 (82.240%)\n",
            "Eval:  Avg_Loss: 0.51956   Acc: 164/209 (78.469%)\n",
            "Train Epoch: 170   Avg_Loss: 0.49678   Acc: 502/625 (80.320%)\n",
            "Eval:  Avg_Loss: 0.51260   Acc: 165/209 (78.947%)\n",
            "Train Epoch: 171   Avg_Loss: 0.47860   Acc: 518/625 (82.880%)\n",
            "Eval:  Avg_Loss: 0.51652   Acc: 166/209 (79.426%)\n",
            "Train Epoch: 172   Avg_Loss: 0.47252   Acc: 519/625 (83.040%)\n",
            "Eval:  Avg_Loss: 0.51524   Acc: 166/209 (79.426%)\n",
            "Train Epoch: 173   Avg_Loss: 0.47304   Acc: 524/625 (83.840%)\n",
            "Eval:  Avg_Loss: 0.52131   Acc: 165/209 (78.947%)\n",
            "Train Epoch: 174   Avg_Loss: 0.46812   Acc: 526/625 (84.160%)\n",
            "Eval:  Avg_Loss: 0.52473   Acc: 164/209 (78.469%)\n",
            "Train Epoch: 175   Avg_Loss: 0.47543   Acc: 519/625 (83.040%)\n",
            "Eval:  Avg_Loss: 0.51211   Acc: 168/209 (80.383%)\n",
            "Train Epoch: 176   Avg_Loss: 0.46883   Acc: 524/625 (83.840%)\n",
            "Eval:  Avg_Loss: 0.51822   Acc: 165/209 (78.947%)\n",
            "Train Epoch: 177   Avg_Loss: 0.46939   Acc: 526/625 (84.160%)\n",
            "Eval:  Avg_Loss: 0.51390   Acc: 166/209 (79.426%)\n",
            "Train Epoch: 178   Avg_Loss: 0.47106   Acc: 522/625 (83.520%)\n",
            "Eval:  Avg_Loss: 0.52254   Acc: 165/209 (78.947%)\n",
            "Train Epoch: 179   Avg_Loss: 0.47964   Acc: 521/625 (83.360%)\n",
            "Eval:  Avg_Loss: 0.51578   Acc: 165/209 (78.947%)\n",
            "Train Epoch: 180   Avg_Loss: 0.48869   Acc: 509/625 (81.440%)\n",
            "Eval:  Avg_Loss: 0.50821   Acc: 167/209 (79.904%)\n",
            "Train Epoch: 181   Avg_Loss: 0.46992   Acc: 521/625 (83.360%)\n",
            "Eval:  Avg_Loss: 0.51949   Acc: 165/209 (78.947%)\n",
            "Train Epoch: 182   Avg_Loss: 0.47587   Acc: 521/625 (83.360%)\n",
            "Eval:  Avg_Loss: 0.52218   Acc: 165/209 (78.947%)\n",
            "Train Epoch: 183   Avg_Loss: 0.47570   Acc: 522/625 (83.520%)\n",
            "Eval:  Avg_Loss: 0.51248   Acc: 168/209 (80.383%)\n",
            "Train Epoch: 184   Avg_Loss: 0.47613   Acc: 520/625 (83.200%)\n",
            "Eval:  Avg_Loss: 0.53426   Acc: 163/209 (77.990%)\n",
            "Train Epoch: 185   Avg_Loss: 0.46988   Acc: 527/625 (84.320%)\n",
            "Eval:  Avg_Loss: 0.51749   Acc: 165/209 (78.947%)\n",
            "Train Epoch: 186   Avg_Loss: 0.46880   Acc: 523/625 (83.680%)\n",
            "Eval:  Avg_Loss: 0.51544   Acc: 168/209 (80.383%)\n",
            "Train Epoch: 187   Avg_Loss: 0.46990   Acc: 526/625 (84.160%)\n",
            "Eval:  Avg_Loss: 0.51858   Acc: 165/209 (78.947%)\n",
            "Train Epoch: 188   Avg_Loss: 0.48200   Acc: 516/625 (82.560%)\n",
            "Eval:  Avg_Loss: 0.51105   Acc: 167/209 (79.904%)\n",
            "Train Epoch: 189   Avg_Loss: 0.47113   Acc: 525/625 (84.000%)\n",
            "Eval:  Avg_Loss: 0.51828   Acc: 165/209 (78.947%)\n",
            "Train Epoch: 190   Avg_Loss: 0.46965   Acc: 523/625 (83.680%)\n",
            "Eval:  Avg_Loss: 0.52149   Acc: 164/209 (78.469%)\n",
            "Train Epoch: 191   Avg_Loss: 0.47084   Acc: 526/625 (84.160%)\n",
            "Eval:  Avg_Loss: 0.51871   Acc: 166/209 (79.426%)\n",
            "Train Epoch: 192   Avg_Loss: 0.46866   Acc: 527/625 (84.320%)\n",
            "Eval:  Avg_Loss: 0.51872   Acc: 166/209 (79.426%)\n",
            "Train Epoch: 193   Avg_Loss: 0.47214   Acc: 521/625 (83.360%)\n",
            "Eval:  Avg_Loss: 0.51745   Acc: 165/209 (78.947%)\n",
            "Train Epoch: 194   Avg_Loss: 0.46702   Acc: 526/625 (84.160%)\n",
            "Eval:  Avg_Loss: 0.52334   Acc: 164/209 (78.469%)\n",
            "Train Epoch: 195   Avg_Loss: 0.47045   Acc: 524/625 (83.840%)\n",
            "Eval:  Avg_Loss: 0.52306   Acc: 164/209 (78.469%)\n",
            "Train Epoch: 196   Avg_Loss: 0.47521   Acc: 522/625 (83.520%)\n",
            "Eval:  Avg_Loss: 0.52225   Acc: 164/209 (78.469%)\n",
            "Train Epoch: 197   Avg_Loss: 0.47189   Acc: 525/625 (84.000%)\n",
            "Eval:  Avg_Loss: 0.51137   Acc: 166/209 (79.426%)\n",
            "Train Epoch: 198   Avg_Loss: 0.47369   Acc: 522/625 (83.520%)\n",
            "Eval:  Avg_Loss: 0.51983   Acc: 165/209 (78.947%)\n",
            "Train Epoch: 199   Avg_Loss: 0.47483   Acc: 522/625 (83.520%)\n",
            "Eval:  Avg_Loss: 0.52256   Acc: 165/209 (78.947%)\n",
            "Train Epoch: 200   Avg_Loss: 0.46616   Acc: 527/625 (84.320%)\n",
            "Eval:  Avg_Loss: 0.52163   Acc: 165/209 (78.947%)\n",
            "\n",
            "\n",
            "\n",
            "Optimization ended.\n",
            "\n"
          ],
          "name": "stdout"
        }
      ]
    },
    {
      "cell_type": "markdown",
      "metadata": {
        "id": "86OZRLrjavmd"
      },
      "source": [
        "## Interpreting the output of the neural network"
      ]
    },
    {
      "cell_type": "code",
      "metadata": {
        "id": "mklvQruYavme",
        "colab": {
          "base_uri": "https://localhost:8080/"
        },
        "outputId": "98292ead-455a-4602-9480-acf9410cdbe3"
      },
      "source": [
        "# Activate the evaluation mode\n",
        "neural_net = neural_net.eval()\n",
        "\n",
        "# Select the first 10 data points of the validation set\n",
        "data, target = val_dataset[0:10]\n",
        "data = data.to(device)\n",
        "\n",
        "# Executing the neural network\n",
        "output = neural_net(data)   # equivalent to neural_net.forward(data)\n",
        "\n",
        "# Transform the output into a probability distribution with a softmax function\n",
        "output_proba = F.softmax(output, dim=1)\n",
        "\n",
        "# Print the probability\n",
        "print(output_proba)"
      ],
      "execution_count": 166,
      "outputs": [
        {
          "output_type": "stream",
          "text": [
            "tensor([[0.7310, 0.2690],\n",
            "        [0.6476, 0.3524],\n",
            "        [0.7141, 0.2859],\n",
            "        [0.7275, 0.2725],\n",
            "        [0.2689, 0.7311],\n",
            "        [0.7311, 0.2689],\n",
            "        [0.2690, 0.7310],\n",
            "        [0.7230, 0.2770],\n",
            "        [0.2705, 0.7295],\n",
            "        [0.7311, 0.2689]], device='cuda:0', grad_fn=<SoftmaxBackward>)\n"
          ],
          "name": "stdout"
        }
      ]
    },
    {
      "cell_type": "code",
      "metadata": {
        "id": "RvIEqKt0qjeT",
        "colab": {
          "base_uri": "https://localhost:8080/"
        },
        "outputId": "53310314-d1a0-490e-dc26-e7cea7982d2e"
      },
      "source": [
        "# For each example, retrieve the class with the highest probability.\n",
        "dummy, prediction = torch.max(output_proba, dim=1)\n",
        "\n",
        "print(\"Model predictions\")\n",
        "print(prediction)\n",
        "print(dummy)\n",
        "print(\"Targets\")\n",
        "print(target)"
      ],
      "execution_count": 179,
      "outputs": [
        {
          "output_type": "stream",
          "text": [
            "Model predictions\n",
            "tensor([0, 0, 0, 0, 1, 0, 1, 0, 1, 0], device='cuda:0')\n",
            "tensor([0.7310, 0.6476, 0.7141, 0.7275, 0.7311, 0.7311, 0.7310, 0.7230, 0.7295,\n",
            "        0.7311], device='cuda:0', grad_fn=<MaxBackward0>)\n",
            "Targets\n",
            "tensor([0, 0, 0, 0, 0, 1, 1, 0, 0, 0])\n"
          ],
          "name": "stdout"
        }
      ]
    },
    {
      "cell_type": "code",
      "metadata": {
        "colab": {
          "base_uri": "https://localhost:8080/"
        },
        "id": "wn8s38SJio1W",
        "outputId": "d00ca1fe-78d7-4760-fe39-c4ca7e27a606"
      },
      "source": [
        "F1_score = f1_score(target.cpu().numpy(), prediction.cpu().numpy())\n",
        "print(f'F1 score is {F1_score:.2%}'.format(F1_score))"
      ],
      "execution_count": 168,
      "outputs": [
        {
          "output_type": "stream",
          "text": [
            "F1 score is 60.00%\n"
          ],
          "name": "stdout"
        }
      ]
    },
    {
      "cell_type": "markdown",
      "metadata": {
        "id": "V11J3Jihavmy"
      },
      "source": [
        "## Visualizing of the learning curve"
      ]
    },
    {
      "cell_type": "markdown",
      "metadata": {
        "id": "j9_9C_tXavmz"
      },
      "source": [
        "Learning curves allow detecting problems that may have occurred during learning, for example, unstable learning, underfitting, or overfitting."
      ]
    },
    {
      "cell_type": "code",
      "metadata": {
        "id": "iNcbpl0tavm0",
        "colab": {
          "base_uri": "https://localhost:8080/",
          "height": 279
        },
        "outputId": "c410328a-308d-40bf-ab31-083168a0f0ff"
      },
      "source": [
        "x = list(range(len(train_losses)))\n",
        "ax = plt.subplot(111)\n",
        "plt.plot(x, train_losses, 'r', label=\"Train\")\n",
        "plt.plot(x, val_losses, 'g', label=\"Validation\")\n",
        "plt.xlabel('epoch')\n",
        "plt.ylabel('Cross-entropy loss')\n",
        "plt.grid()\n",
        "leg = plt.legend(loc='best', ncol=2, mode=\"expand\", shadow=False, fancybox=False)\n",
        "leg.get_frame().set_alpha(0.99)"
      ],
      "execution_count": 161,
      "outputs": [
        {
          "output_type": "display_data",
          "data": {
            "image/png": "[encoded data removed]",
            "text/plain": [
              "<Figure size 432x288 with 1 Axes>"
            ]
          },
          "metadata": {
            "tags": [],
            "needs_background": "light"
          }
        }
      ]
    },
    {
      "cell_type": "code",
      "metadata": {
        "id": "g-VGQ2pMavm4",
        "colab": {
          "base_uri": "https://localhost:8080/",
          "height": 279
        },
        "outputId": "ea271102-b038-4cd5-dbf4-6457aa858e0c"
      },
      "source": [
        "x = list(range(len(train_accuracies)))\n",
        "ax = plt.subplot(111)\n",
        "plt.plot(x, train_accuracies, 'r', label=\"Train\")\n",
        "plt.plot(x, val_accuracies, 'g', label=\"Validation\")\n",
        "plt.xlabel('epoch')\n",
        "plt.ylabel('Accuracy')\n",
        "plt.grid()\n",
        "leg = plt.legend(loc='best', ncol=2, mode=\"expand\", shadow=False, fancybox=False)\n",
        "leg.get_frame().set_alpha(0.99)"
      ],
      "execution_count": 162,
      "outputs": [
        {
          "output_type": "display_data",
          "data": {
            "image/png": "[encoded data removed]",
            "text/plain": [
              "<Figure size 432x288 with 1 Axes>"
            ]
          },
          "metadata": {
            "tags": [],
            "needs_background": "light"
          }
        }
      ]
    },
    {
      "cell_type": "markdown",
      "metadata": {
        "id": "8oktkpkuqjet"
      },
      "source": [
        "### Exercise 6\n",
        "\n",
        "*   What do you observe in the previous graphs?\n",
        "*   At which epoch is it interesting to retrieve the model parameters for inference?"
      ]
    },
    {
      "cell_type": "markdown",
      "metadata": {
        "id": "qwhRt39yzug-"
      },
      "source": [
        "... # To complete.\n"
      ]
    },
    {
      "cell_type": "markdown",
      "metadata": {
        "id": "XK_eUsq3avm8"
      },
      "source": [
        "## Evaluating the model"
      ]
    },
    {
      "cell_type": "markdown",
      "metadata": {
        "id": "4UREO5elavm8"
      },
      "source": [
        "We can finally evaluate our model on our test set and compare with the validation set."
      ]
    },
    {
      "cell_type": "code",
      "metadata": {
        "id": "3UZPvzjxlusr",
        "colab": {
          "base_uri": "https://localhost:8080/"
        },
        "outputId": "f53390b4-c57e-4f2e-b91f-41d80a8dce9c"
      },
      "source": [
        "valid_loss, valid_acc = evaluate(neural_net, val_loader, device)"
      ],
      "execution_count": 163,
      "outputs": [
        {
          "output_type": "stream",
          "text": [
            "Eval:  Avg_Loss: 0.52163   Acc: 165/209 (78.947%)\n"
          ],
          "name": "stdout"
        }
      ]
    },
    {
      "cell_type": "code",
      "metadata": {
        "id": "pPWvDM-qavm8",
        "colab": {
          "base_uri": "https://localhost:8080/"
        },
        "outputId": "289f5270-44db-4d4e-a8c1-04574fdfb2f1"
      },
      "source": [
        "test_loss, test_acc = evaluate(neural_net, test_loader, device)"
      ],
      "execution_count": 164,
      "outputs": [
        {
          "output_type": "stream",
          "text": [
            "Eval:  Avg_Loss: 0.50438   Acc: 166/209 (79.426%)\n"
          ],
          "name": "stdout"
        }
      ]
    },
    {
      "cell_type": "markdown",
      "metadata": {
        "id": "EvP_-KUwqjez"
      },
      "source": [
        "### Exercise 7\n",
        "\n",
        "* Compare validation and test metrics.\n",
        "* Do you think the chosen features are informative of the fate of the passenger?"
      ]
    },
    {
      "cell_type": "markdown",
      "metadata": {
        "id": "Ov4CKUFh5tun"
      },
      "source": [
        "... # To complete.\n",
        "\n",
        "\n"
      ]
    },
    {
      "cell_type": "code",
      "metadata": {
        "id": "rueFjis6YlLN"
      },
      "source": [
        ""
      ],
      "execution_count": null,
      "outputs": []
    }
  ]
}