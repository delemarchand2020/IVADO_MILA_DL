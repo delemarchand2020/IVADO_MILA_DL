{
  "nbformat": 4,
  "nbformat_minor": 0,
  "metadata": {
    "accelerator": "GPU",
    "colab": {
      "name": "week4_RNN_Seq_NLP_denis_lemarchand.ipynb",
      "provenance": [],
      "collapsed_sections": [
        "OYrPFO1p1rX1",
        "4Y-PnqdMhPXX"
      ],
      "toc_visible": true,
      "include_colab_link": true
    },
    "kernelspec": {
      "display_name": "Python 3",
      "name": "python3"
    },
    "language_info": {
      "codemirror_mode": {
        "name": "ipython",
        "version": 3
      },
      "file_extension": ".py",
      "mimetype": "text/x-python",
      "name": "python",
      "nbconvert_exporter": "python",
      "pygments_lexer": "ipython3",
      "version": "3.7.2"
    }
  },
  "cells": [
    {
      "cell_type": "markdown",
      "metadata": {
        "id": "view-in-github",
        "colab_type": "text"
      },
      "source": [
        "<a href=\"https://colab.research.google.com/github/delemarchand2020/IVADO_MILA_DL/blob/main/week4_RNN_Seq_NLP_denis_lemarchand.ipynb\" target=\"_parent\"><img src=\"https://colab.research.google.com/assets/colab-badge.svg\" alt=\"Open In Colab\"/></a>"
      ]
    },
    {
      "cell_type": "markdown",
      "metadata": {
        "id": "B9ALu78bhPXM"
      },
      "source": [
        "# IVADO/MILA DEEP LEARNING SCHOOL\n",
        "# Spring 2021\n",
        "# Tutorial: Sequences and Natural Language Processing.\n",
        "\n",
        "## Authors\n",
        "\n",
        "Mirko Bronzi <mirko.bronzi@mila.quebec>\n",
        "\n",
        "Pierre Luc Carrier <pierre.luc.carrier@mila.quebec>\n",
        "\n",
        "Jeremy Pinto <jeremy.pinto@mila.quebec>\n",
        "\n",
        "Arsène Fansi Tchango <arsene.fansi.tchango@mila.quebec>\n",
        "\n",
        "### Translation to English: \n",
        "\n",
        "Laurent Charlin <lcharlin@gmail.com>"
      ]
    },
    {
      "cell_type": "markdown",
      "metadata": {
        "id": "OYrPFO1p1rX1"
      },
      "source": [
        "# Preface\n",
        "\n",
        "This tutorial introduces the fundamental concepts that underlie recurrent neural networks (RNN et LSTM) and Transformers, using two example tasks.\n",
        "\n",
        "The first task builds and compares an RNN model, an LSTM model, and a Transformer model.\n",
        "\n",
        "In the second task we will use Hugging Face pre-trained models to perform a translation task."
      ]
    },
    {
      "cell_type": "markdown",
      "metadata": {
        "id": "ArGnixElhPXN"
      },
      "source": [
        "---\n",
        "# Initialization \n",
        "\n",
        "To ensure that this tutorial runs properly on the Colab environment, we must install a few libraries using the `pip` utility. \n",
        "\n",
        "To begin, ensure that you are \"connected\" to the notebook ( check for \"✓ CONNECTED\" at the top right of your window). Then execute the cell below by selecting it and clicking `shift`+`Enter`. You will see the version of the installed `PyTorch` package and whether or not a GPU is available on this runtime session."
      ]
    },
    {
      "cell_type": "code",
      "metadata": {
        "id": "UwebZdYMhPXT",
        "colab": {
          "base_uri": "https://localhost:8080/"
        },
        "outputId": "3a6d06dd-c108-40f9-beb8-fbbf819013f7"
      },
      "source": [
        "# Install HuggingFace/Transformers and HuggingFace/Datasets and sacrebleu (for\n",
        "# the error metric)\n",
        "!pip install transformers==3.5.0 datasets==1.1.2 sacrebleu\n",
        "!pip install torch==1.7.0\n",
        "\n",
        "import copy\n",
        "import gc\n",
        "import math\n",
        "import time\n",
        "import os\n",
        "\n",
        "import numpy as np\n",
        "import matplotlib.pyplot as plt\n",
        "%matplotlib inline\n",
        "\n",
        "import datasets\n",
        "\n",
        "import torch\n",
        "import torch.nn as nn\n",
        "import torch.nn.functional as F\n",
        "import torch.nn.init as init\n",
        "import torch.optim as optim\n",
        "\n",
        "from torch.utils.data import DataLoader, TensorDataset\n",
        "\n",
        "from transformers import AutoTokenizer, AutoModelWithLMHead, Trainer, TrainingArguments\n",
        "\n",
        "use_gpu = torch.cuda.is_available()\n",
        "device = torch.device(\"cuda:0\" if use_gpu else \"cpu\")\n",
        "\n",
        "# Setting the seed to a fixed value can be helpful in reproducing results\n",
        "seed = 42\n",
        "torch.manual_seed(seed)\n",
        "torch.cuda.manual_seed(seed)\n",
        "\n",
        "print(\"PyTorch version: \", torch.__version__)\n",
        "print(\"GPU available: {}\".format(use_gpu))\n",
        "\n",
        "print(\"Using the following GPU type: {}\".format(torch.cuda.get_device_name(0)))\n",
        "print('The GPU memory is {:.2f} GB'.format(torch.cuda.get_device_properties(0).total_memory * 1e-9))"
      ],
      "execution_count": 9,
      "outputs": [
        {
          "output_type": "stream",
          "text": [
            "Requirement already satisfied: transformers==3.5.0 in /usr/local/lib/python3.7/dist-packages (3.5.0)\n",
            "Requirement already satisfied: datasets==1.1.2 in /usr/local/lib/python3.7/dist-packages (1.1.2)\n",
            "Requirement already satisfied: sacrebleu in /usr/local/lib/python3.7/dist-packages (1.5.1)\n",
            "Requirement already satisfied: numpy in /usr/local/lib/python3.7/dist-packages (from transformers==3.5.0) (1.19.5)\n",
            "Requirement already satisfied: protobuf in /usr/local/lib/python3.7/dist-packages (from transformers==3.5.0) (3.12.4)\n",
            "Requirement already satisfied: packaging in /usr/local/lib/python3.7/dist-packages (from transformers==3.5.0) (20.9)\n",
            "Requirement already satisfied: regex!=2019.12.17 in /usr/local/lib/python3.7/dist-packages (from transformers==3.5.0) (2019.12.20)\n",
            "Requirement already satisfied: tqdm>=4.27 in /usr/local/lib/python3.7/dist-packages (from transformers==3.5.0) (4.41.1)\n",
            "Requirement already satisfied: requests in /usr/local/lib/python3.7/dist-packages (from transformers==3.5.0) (2.23.0)\n",
            "Requirement already satisfied: sentencepiece==0.1.91 in /usr/local/lib/python3.7/dist-packages (from transformers==3.5.0) (0.1.91)\n",
            "Requirement already satisfied: sacremoses in /usr/local/lib/python3.7/dist-packages (from transformers==3.5.0) (0.0.45)\n",
            "Requirement already satisfied: filelock in /usr/local/lib/python3.7/dist-packages (from transformers==3.5.0) (3.0.12)\n",
            "Requirement already satisfied: tokenizers==0.9.3 in /usr/local/lib/python3.7/dist-packages (from transformers==3.5.0) (0.9.3)\n",
            "Requirement already satisfied: dill in /usr/local/lib/python3.7/dist-packages (from datasets==1.1.2) (0.3.3)\n",
            "Requirement already satisfied: xxhash in /usr/local/lib/python3.7/dist-packages (from datasets==1.1.2) (2.0.2)\n",
            "Requirement already satisfied: multiprocess in /usr/local/lib/python3.7/dist-packages (from datasets==1.1.2) (0.70.11.1)\n",
            "Requirement already satisfied: pyarrow>=0.17.1 in /usr/local/lib/python3.7/dist-packages (from datasets==1.1.2) (3.0.0)\n",
            "Requirement already satisfied: pandas in /usr/local/lib/python3.7/dist-packages (from datasets==1.1.2) (1.1.5)\n",
            "Requirement already satisfied: portalocker==2.0.0 in /usr/local/lib/python3.7/dist-packages (from sacrebleu) (2.0.0)\n",
            "Requirement already satisfied: six>=1.9 in /usr/local/lib/python3.7/dist-packages (from protobuf->transformers==3.5.0) (1.15.0)\n",
            "Requirement already satisfied: setuptools in /usr/local/lib/python3.7/dist-packages (from protobuf->transformers==3.5.0) (54.2.0)\n",
            "Requirement already satisfied: pyparsing>=2.0.2 in /usr/local/lib/python3.7/dist-packages (from packaging->transformers==3.5.0) (2.4.7)\n",
            "Requirement already satisfied: urllib3!=1.25.0,!=1.25.1,<1.26,>=1.21.1 in /usr/local/lib/python3.7/dist-packages (from requests->transformers==3.5.0) (1.24.3)\n",
            "Requirement already satisfied: idna<3,>=2.5 in /usr/local/lib/python3.7/dist-packages (from requests->transformers==3.5.0) (2.10)\n",
            "Requirement already satisfied: chardet<4,>=3.0.2 in /usr/local/lib/python3.7/dist-packages (from requests->transformers==3.5.0) (3.0.4)\n",
            "Requirement already satisfied: certifi>=2017.4.17 in /usr/local/lib/python3.7/dist-packages (from requests->transformers==3.5.0) (2020.12.5)\n",
            "Requirement already satisfied: click in /usr/local/lib/python3.7/dist-packages (from sacremoses->transformers==3.5.0) (7.1.2)\n",
            "Requirement already satisfied: joblib in /usr/local/lib/python3.7/dist-packages (from sacremoses->transformers==3.5.0) (1.0.1)\n",
            "Requirement already satisfied: python-dateutil>=2.7.3 in /usr/local/lib/python3.7/dist-packages (from pandas->datasets==1.1.2) (2.8.1)\n",
            "Requirement already satisfied: pytz>=2017.2 in /usr/local/lib/python3.7/dist-packages (from pandas->datasets==1.1.2) (2018.9)\n",
            "Requirement already satisfied: torch==1.7.0 in /usr/local/lib/python3.7/dist-packages (1.7.0)\n",
            "Requirement already satisfied: future in /usr/local/lib/python3.7/dist-packages (from torch==1.7.0) (0.16.0)\n",
            "Requirement already satisfied: dataclasses in /usr/local/lib/python3.7/dist-packages (from torch==1.7.0) (0.6)\n",
            "Requirement already satisfied: numpy in /usr/local/lib/python3.7/dist-packages (from torch==1.7.0) (1.19.5)\n",
            "Requirement already satisfied: typing-extensions in /usr/local/lib/python3.7/dist-packages (from torch==1.7.0) (3.7.4.3)\n",
            "PyTorch version:  1.7.0\n",
            "GPU available: True\n",
            "Using the following GPU type: Tesla P100-PCIE-16GB\n",
            "The GPU memory is 17.07 GB\n"
          ],
          "name": "stdout"
        }
      ]
    },
    {
      "cell_type": "markdown",
      "metadata": {
        "id": "7SLcPxj5z2vX"
      },
      "source": [
        "---\n",
        "# Task 1: Adding numbers"
      ]
    },
    {
      "cell_type": "markdown",
      "metadata": {
        "id": "4Y-PnqdMhPXX"
      },
      "source": [
        "\n",
        "## Objective\n",
        "\n",
        "Our goal is to build a model capable of adding an arbitrary sequence of numbers. It is all in all a fairly simple task (any pocket calculator can trivially do it) yet it will demonstrate that this procedure can be learned from data. Further, we will use it to learn how to work on data based on sequences, and to compare RNNs, LSTMs and Transformers.\n",
        "\n"
      ]
    },
    {
      "cell_type": "markdown",
      "metadata": {
        "id": "nihkB--rz6WL"
      },
      "source": [
        "## Dataset\n",
        "\n",
        "Our data is composed of a sequence of numbers in input that we want want to sum.\n",
        "\n",
        "In the following image, you can see a visual intuition (where we have 4 elements in the input sequence):\n",
        "\n",
        "![Texte alternatif…](https://github.com/mila-iqia/ivado-mila-dl-school-2021/blob/main/tutorials/images/task.png?raw=true)\n",
        "\n",
        "If we consider just one example, the input to our model will be a tensor $\\mathbf x = \\left[x_{1}, x_{2}, \\dots, x_{seq\\_len}\\right]$ of length $seq\\_len$, and a target $y$ given by:\n",
        "\n",
        "\\begin{align}  \n",
        "y=\\sum_{j=1}^{seq\\_len}x_j,\n",
        "\\end{align}\n",
        "\n",
        "where $j$ indexes the element in the sequence.\n",
        "\n",
        "So far we have one dimension for the input data $x$ (the sequence), and just one scalar in output (the sum to predict). We can say that:\n",
        "* $x\\ dim = [seq\\_len]$\n",
        "* $y\\ dim = [1]$ (just one scalar)\n",
        "\n",
        "As you have seen in the other tutorials though, we always work with multiple examples. So, we need to add another dimension, that we will call the batch dimension (sometimes also called example dimension), that contain $batch\\_size$ example. In general, we add this dimension in the first position in the tensors. So we have:\n",
        "* $x\\ dim = [batch\\_size, seq\\_len]$\n",
        "* $y\\ dim = [batch\\_size]$\n",
        "\n",
        "This is enough to model our data. But we need to make sure that the amount/order of the tensor's dimensions is the one expected by the API that we will use later. To this end, we need to add another dimension, which we will call data dimension, with size $data\\_dim$ (which in our task will always be equal to 1). In fact, in our task all the elements are scalar (every element in the input sequence is a scalar, and every element at the output is a scalar representing the sum of the input elements), but in general we work with vectors (for example, think about NLP, and word embeddings).\n",
        "\n",
        "So, to deal with this, we need to add the aforementioned data dimension. In our task this dimension will have size 1 (so, basically a scalar), but we still have to add it so that the API will work correctly.\n",
        "\n",
        "So, the final dimensions for our data are:\n",
        "* $x\\ dim = [batch\\_size, seq\\_len, data\\_dim]$\n",
        "* $y\\ dim = [batch\\_size, data\\_dim]$"
      ]
    },
    {
      "cell_type": "markdown",
      "metadata": {
        "id": "zZNrVvS8hPXY"
      },
      "source": [
        "### Generating our dataset\n",
        "\n",
        "It will be useful to have a function that can generate random datasets of `n_samples` sequences each of length `seq_length`. To do so we will rely on the function [torch.randint()](https://pytorch.org/docs/stable/torch.html#torch.randint). The function `generate_data` takes as input the following arguments:\n",
        "- **n_samples** (int): number of examples to generate.\n",
        "- **seq_len** (int): length of each sequence in the examples.\n",
        "- **input_dim** (int, optional): dimension of the input data. Default: 1.\n",
        "- **xmin** (float, optional): minimum possible value in the sequence. Default: -100.\n",
        "- **xmax** (float, optional): maximum possible value in the sequence. Default: 100.\n",
        "\n",
        "It returns a tuple of two elements corresponding respectively to:\n",
        "- **X** ([torch.FloatTensor](https://pytorch.org/docs/stable/tensors.html)): A tensor of shape $n\\_samples \\times seq\\_len \\times input\\_dim$ representing a set of `n_samples` sequences, each of length `seq_len`. The elements of the sequences are of dimension `input_dim`, that is, they belong to ${\\mathbb R}^{input\\_dim}$.\n",
        "- **Y** ([torch.FloatTensor](https://pytorch.org/docs/stable/tensors.html)): A tensor of shape $n\\_samples \\times  input\\_dim$ representing the corresponding sum of the elements for each sequence in `X`."
      ]
    },
    {
      "cell_type": "code",
      "metadata": {
        "id": "nKFfyWFahPXZ"
      },
      "source": [
        "def generate_data(n_samples, seq_len, input_dim=1, xmin=-100, xmax=100):\n",
        "    \"\"\"Generate tensors X and Y within the [xmin, xmax] interval.\n",
        "    \n",
        "    Args : \n",
        "      n_samples: int, number of sequences to generate\n",
        "      seq_len: int, length of each sequence\n",
        "      input_dim: int, dimension of the input data\n",
        "      xmin: minimum possible value in the sequence\n",
        "      xmax: maximum possible value in the sequence\n",
        "    \n",
        "    Returns: n_samples sequence of numbers X and associated targets Y in this\n",
        "             format torch.Tensor where X.shape = (n_samples, seq_len, 1)\n",
        "             and Y.shape = (n_samples, 1).\n",
        "    \"\"\"\n",
        "    X = torch.randint(xmin, xmax+1, (n_samples, seq_len, input_dim))\n",
        "    Y = X.sum(dim=1)\n",
        "    #Y = X.prod(dim=1)\n",
        "    \n",
        "    return X, Y"
      ],
      "execution_count": null,
      "outputs": []
    },
    {
      "cell_type": "markdown",
      "metadata": {
        "id": "PJdyRkUoj4qI"
      },
      "source": [
        "The following piece of code shows an example of how to use the `generate_data` function.\n",
        "\n",
        "In this example, we are generating 1000 sequences of numbers $\\in \\mathbb R$ (i.e, `input_dim` is set to 1), each one of lenght 4."
      ]
    },
    {
      "cell_type": "code",
      "metadata": {
        "id": "URAZtBZxjTXD",
        "colab": {
          "base_uri": "https://localhost:8080/"
        },
        "outputId": "f0795a42-b07b-4855-8a11-5338a7ca6190"
      },
      "source": [
        "n_samples = 1000\n",
        "seq_len = 4\n",
        "input_dim = 1\n",
        "X, Y = generate_data(n_samples, seq_len, input_dim, -100, 100)\n",
        "print(\"Tensor dimensions X = {}, Y = {}\".format(X.shape, Y.shape))\n",
        "print(\"Data example:\\n\\tinput {}\\n\\ttarget: {}\".format(X[0,:,0], Y[0,0]))"
      ],
      "execution_count": null,
      "outputs": [
        {
          "output_type": "stream",
          "text": [
            "Tensor dimensions X = torch.Size([1000, 4, 1]), Y = torch.Size([1000, 1])\n",
            "Data example:\n",
            "\tinput tensor([ 71,  40, -84,  81])\n",
            "\ttarget: 108\n"
          ],
          "name": "stdout"
        }
      ]
    },
    {
      "cell_type": "markdown",
      "metadata": {
        "id": "s1wHZ_PFhPXf"
      },
      "source": [
        "### Standardizing data\n",
        "\n",
        "To help the training of our model we will first standardize the input data such that it has, overall, `mean` 0 and standard deviation (`stdev`) 1. To do so we simply calculate the mean and std of our data and then substract the former and divide by the latter. In addition, we will store these two values for later usage. This standardization often speeds up learning.\n",
        "\n",
        "**Note**: since we generated our data from a uniform distribution, the standard deviation should be close to $\\frac{(xmax-xmin)}{\\sqrt{12}}$ while the mean should be close to $\\frac{(xmax+xmin)}{2}$.\n",
        "\n",
        "The following function performs such a standardization operation. It takes as input a tensor **X** (of shape $n\\_samples \\times seq\\_len \\times input\\_dim$) we would like to standardize and returns a tuple of 4 elements corresponding respectively to:\n",
        "- **Xs**: the standardized version of X, of shape $n\\_samples \\times seq\\_len \\times input\\_dim$\n",
        "- **Ys**: the new sum of the sequences of Xs, of shape $n\\_samples \\times input\\_dim$\n",
        "- **mean**: the mean of X, float.\n",
        "- **stdev**: the stdandard deviation of X, float."
      ]
    },
    {
      "cell_type": "code",
      "metadata": {
        "id": "UdL_y85mhPXg"
      },
      "source": [
        "def standardize(X):\n",
        "    \"\"\"The function standardizes the X tensor. \n",
        "    Args:\n",
        "      X: torch.Tensor.\n",
        "    \n",
        "    Returns:\n",
        "      Xs: torch.Tensor standardize.\n",
        "      Ys: torch.Tensor, the (new) sum of Xs.\n",
        "      mean: float, the mean of X.\n",
        "      stdev: float, the stdev of X.\n",
        "    \"\"\"\n",
        "    \n",
        "    X=X.float()\n",
        "    mean = torch.mean(X)\n",
        "    std = torch.std(X)\n",
        "    Xs = (X-mean) / std\n",
        "    Ys = Xs.sum(dim=1)\n",
        "    #Ys = Xs.prod(dim=1)\n",
        "\n",
        "    return Xs, Ys, mean, std\n"
      ],
      "execution_count": null,
      "outputs": []
    },
    {
      "cell_type": "markdown",
      "metadata": {
        "id": "FxZa-OJJsrnQ"
      },
      "source": [
        "An example of how to use the above defined function is shown below. Here, after generating the data using the `generate_data` function, we use the `standardize` function to standardize it."
      ]
    },
    {
      "cell_type": "code",
      "metadata": {
        "id": "T2Lw5IutmbmW",
        "colab": {
          "base_uri": "https://localhost:8080/"
        },
        "outputId": "9a1e20fd-47f1-4f1f-be0d-a80f8b855065"
      },
      "source": [
        "X, Y = generate_data(n_samples, seq_len, input_dim, -100, 100)\n",
        "example_before = X[0,:,0]\n",
        "Xs, Ys, mean, std = standardize(X)\n",
        "print(\"mean = {:.4f}, std = {:.4f}\".format(mean, std))\n",
        "print('example before standardization - X: {} => y: {}'.format(X[0,:,0], Y[0,:]),\n",
        "      '\\nexample after standardization - X: {} => y: {}'.format(Xs[0,:,0], Ys[0,:])\n",
        ")\n",
        "print(Xs[0])\n",
        "print(Xs[999])\n",
        "print(Xs[-1])"
      ],
      "execution_count": null,
      "outputs": [
        {
          "output_type": "stream",
          "text": [
            "mean = 0.5472, std = 58.2220\n",
            "example before standardization - X: tensor([-55,  70, -84,  -9]) => y: tensor([-78]) \n",
            "example after standardization - X: tensor([-0.9541,  1.1929, -1.4522, -0.1640]) => y: tensor([-1.3773])\n",
            "tensor([[-0.9541],\n",
            "        [ 1.1929],\n",
            "        [-1.4522],\n",
            "        [-0.1640]])\n",
            "tensor([[ 0.2826],\n",
            "        [-0.3014],\n",
            "        [-1.0228],\n",
            "        [-0.0094]])\n",
            "tensor([[ 0.2826],\n",
            "        [-0.3014],\n",
            "        [-1.0228],\n",
            "        [-0.0094]])\n"
          ],
          "name": "stdout"
        }
      ]
    },
    {
      "cell_type": "markdown",
      "metadata": {
        "id": "wCm8xalthPXj"
      },
      "source": [
        "## RNN implementation \n",
        "\n",
        "We will define our RNN using the following PyTorch class [torch.nn.RNN()](https://pytorch.org/docs/stable/generated/torch.nn.RNN.html#torch.nn.RNN). For more details regarding the implementation of this class, we suggest this [tutorial](https://pytorch.org/tutorials/beginner/former_torchies/nnft_tutorial.html#example-2-recurrent-net). Once initialized, it takes input data `X` of shape `(seq_len, batch_size, input_dim)` (recall that we will use `input_dim=1` for our task). We then will add a linear layer ([torch.nn.Linear()](https://pytorch.org/docs/stable/generated/torch.nn.Linear.html#torch.nn.Linear)) to transform the last hidden recurrent state to have the same dimensionality as `Y` which has size `(batch_size, input_dim)` (again `input_dim=1`).\n",
        "\n",
        "Note that here we are using `batch_size` instead of `n_examples`. Indeed, when we train (so, when we perform a training step), we will feed the model with a subset of the training data (i.e., a batch with size `batch_size`), and not all the data in the training size (which has size `n_examples`).\n",
        "\n",
        "See the following figure for a visual intuition about the model that we will implement now:\n",
        "\n",
        "![Texte alternatif…](https://github.com/mila-iqia/ivado-mila-dl-school-2021/blob/main/tutorials/images/rnn_task.png?raw=true)\n",
        "\n",
        "\n",
        "The following methods are to be completed:\n",
        "* The `__init__()` method to define the different layers of our model. \n",
        "* The `forward()` method which uses the layers and the input variables and returns an output (this is effectively a *forward pass*).\n",
        "\n",
        "**NB**: \n",
        "\n",
        "* Remember that **only** the last output of the RNN is needed, i.e., `output[-1]` (see $h_3$ in the figure above).\n",
        "\n",
        "* You must ensure that the dimensions of your input data `X` matches what is required by the RNN class [torch.nn.RNN()](https://pytorch.org/docs/stable/generated/torch.nn.RNN.html#torch.nn.RNN). \n",
        "\n",
        "  **Hint:** this method [tensor.transpose()](https://pytorch.org/docs/stable/tensors.html?highlight=transpose#torch.Tensor.transpose) can be useful."
      ]
    },
    {
      "cell_type": "markdown",
      "metadata": {
        "id": "M3cX7eeKxiXi"
      },
      "source": [
        "### Exercise 1\n",
        "\n",
        "Complete this piece of code to implement the above described network using the [torch.nn.RNN()](https://pytorch.org/docs/stable/generated/torch.nn.RNN.html#torch.nn.RNN) class. The input arguments are the following:\n",
        "- **input_dim**: the dimension of the input data\n",
        "- **output_dim**: the dimension of the output data\n",
        "- **hidden_size**: the size of the hidden state of the RNN\n",
        "- **n_layers**: the number of layers of the RNN."
      ]
    },
    {
      "cell_type": "code",
      "metadata": {
        "id": "3QCVSZGzhPXk"
      },
      "source": [
        "class RNNLinear(nn.Module):\n",
        "\n",
        "    def __init__(self, input_dim, output_dim, hidden_size, n_layers):\n",
        "        super(RNNLinear, self).__init__()\n",
        "        self.rnn_layer = torch.nn.RNN(input_size=input_dim,hidden_size=hidden_size,num_layers=n_layers)\n",
        "        self.linear_layer = torch.nn.Linear(in_features=hidden_size,out_features=output_dim)\n",
        "        self.print_debug_flag = False\n",
        "\n",
        "    def print_debug(self,text,var):\n",
        "      if self.print_debug_flag == True:\n",
        "        print(text,var)\n",
        "\n",
        "    def forward(self, x):\n",
        "        # x has size of (n_samples=batch_size, seq_len, input_dim)\n",
        "        # The RNN's input must be of size (seq_len, batch_size, input_dim)\n",
        "        self.print_debug('x:',x)\n",
        "\n",
        "        x = torch.transpose(x, 0, 1)\n",
        "\n",
        "        self.print_debug('x\\':',x)\n",
        "\n",
        "        output, hidden = self.rnn_layer(x)\n",
        "\n",
        "        self.print_debug('hidden:',hidden)\n",
        "        self.print_debug('output:',output)\n",
        "        self.print_debug('output[-1]:',output[-1])\n",
        "        self.print_debug('linear_layer(output):',self.linear_layer(output))\n",
        "        self.print_debug('linear_layer(output[-1]):',self.linear_layer(output[-1]))\n",
        "\n",
        "        output = self.linear_layer(output)\n",
        "        pred = output[-1]\n",
        "        self.print_debug('pred:',pred)\n",
        "\n",
        "        return pred\n",
        "    "
      ],
      "execution_count": null,
      "outputs": []
    },
    {
      "cell_type": "markdown",
      "metadata": {
        "id": "fBuEIPdxytWp"
      },
      "source": [
        "Here is an example of how this class can be used to predict the values of the sequences in Xs."
      ]
    },
    {
      "cell_type": "code",
      "metadata": {
        "id": "jNxsM-5ryIYH",
        "colab": {
          "base_uri": "https://localhost:8080/"
        },
        "outputId": "a140ed91-e6fb-4933-d23b-b5030d5ca957"
      },
      "source": [
        "n_samples = 50\n",
        "seq_len = 4\n",
        "input_dim = 1\n",
        "output_dim = 1\n",
        "n_layers = 2\n",
        "hidden_size = 20\n",
        "\n",
        "# Data generation\n",
        "X, Y = generate_data(n_samples, seq_len, input_dim, -100, 100)\n",
        "Xs, Ys, mean, std = standardize(X)\n",
        "\n",
        "# Declaration of the RNN model\n",
        "model_rnn = RNNLinear(input_dim, output_dim, hidden_size, n_layers)\n",
        "\n",
        "# Transfer the model to the proper device\n",
        "model_rnn = model_rnn.to(device)\n",
        "\n",
        "# save its initial weights (we do this so that, if we run the model\n",
        "# multiple time, we always start from these randomly initialized weights)\n",
        "init_rnn_weights = copy.deepcopy(model_rnn.state_dict())\n",
        "\n",
        "# Transfer the data to the proper device\n",
        "Xs = Xs.to(device)\n",
        "\n",
        "# Use the RNN to predict the output of each input sequence prior to training\n",
        "# Ensure that the inputs and output are correct\n",
        "y_pred = model_rnn(Xs)\n",
        "print(\"Size of input data: {}\".format(Xs.shape)) # (n_samples, seq_len, input_dim)\n",
        "print(\"Size of predictions: {}\".format(y_pred.shape)) # (n_samples, input_dim)\n",
        "        \n",
        "# x has size of (n_samples=batch_size, seq_len, input_dim)\n",
        "# The RNN's input must be of size (seq_len, batch_size, input_dim)\n",
        "print(Xs.shape)\n",
        "Xs_t = torch.transpose(Xs, 0, 1)\n",
        "print(Xs_t.shape)\n",
        "print(Ys[0])\n",
        "print(y_pred[0])"
      ],
      "execution_count": null,
      "outputs": [
        {
          "output_type": "stream",
          "text": [
            "Size of input data: torch.Size([50, 4, 1])\n",
            "Size of predictions: torch.Size([50, 1])\n",
            "torch.Size([50, 4, 1])\n",
            "torch.Size([4, 50, 1])\n",
            "tensor([0.2733])\n",
            "tensor([0.1505], device='cuda:0', grad_fn=<SelectBackward>)\n"
          ],
          "name": "stdout"
        }
      ]
    },
    {
      "cell_type": "markdown",
      "metadata": {
        "id": "jg8vsRduhPYH"
      },
      "source": [
        "## LSTM implementation\n",
        "\n",
        "We will now implement an LSTM using this PyTorch class [torch.nn.LSTM()](https://pytorch.org/docs/stable/generated/torch.nn.LSTM.html#torch.nn.LSTM). Just like with the RNN, we will need to add a linear layer ([torch.nn.Linear()](https://pytorch.org/docs/stable/generated/torch.nn.Linear.html#torch.nn.Linear)) to transform the last recurrent state of our LSTM to have the same dimensions of our target `Y` which has size `(batch_size, input_dim)` (with `input_dim=1` as above).\n",
        "\n",
        "For a visual intuition, you can look at the following image:\n",
        "![Texte alternatif…](https://github.com/mila-iqia/ivado-mila-dl-school-2021/blob/main/tutorials/images/rnn_task.png?raw=true)\n",
        "\n",
        "To define the architecture of our LSTM, the following methods are to be completed:\n",
        "* The `__init__()` method to define the different layers of our model.\n",
        "* The `forward()` method method which uses the layers and the input variables and returns an output (this is effectively a *forward pass*).\n",
        "\n",
        "**NB**: \n",
        "\n",
        "* Remember that **only** the last output of the LSTM is needed, i.e., `output[-1]` (see $h_3$ in the figure above).\n",
        "\n",
        "* You must ensure that the dimensions of your input data `X` matches what is required by the LSTM class [torch.nn.LSTM()](https://pytorch.org/docs/stable/generated/torch.nn.LSTM.html#torch.nn.LSTM). \n",
        "   \n",
        "   **Hint**: this method [tensor.transpose()](https://pytorch.org/docs/stable/tensors.html?highlight=transpose#torch.Tensor.transpose) can be useful.\n"
      ]
    },
    {
      "cell_type": "markdown",
      "metadata": {
        "id": "d81VVZMn3vfu"
      },
      "source": [
        "### Exercise 2\n",
        "\n",
        "Complete this piece of code to implement the above described network using the [torch.nn.LSTM()](https://pytorch.org/docs/stable/generated/torch.nn.LSTM.html#torch.nn.LSTM) class. The input arguments are the following:\n",
        "- **input_dim**: the dimension of the input data\n",
        "- **output_dim**: the dimension of the output data\n",
        "- **hidden_size**: the size of the hidden state of the RNN\n",
        "- **n_layers**: the number of layers of the RNN."
      ]
    },
    {
      "cell_type": "code",
      "metadata": {
        "id": "lqMaUDDVhPYH"
      },
      "source": [
        "class LSTMLinear(nn.Module):\n",
        "    \n",
        "    def __init__(self, input_dim, output_dim, hidden_size, n_layers):\n",
        "        super(LSTMLinear, self).__init__()\n",
        "        self.lstm_layer = torch.nn.LSTM(input_size=input_dim,hidden_size=hidden_size,num_layers=n_layers)\n",
        "        self.linear_layer = torch.nn.Linear(in_features=hidden_size,out_features=output_dim)\n",
        "\n",
        "    def forward(self, x):\n",
        "        # x has size of (n_samples=batch_size, seq_len, input_dim)\n",
        "        # The RNN's input must be of size (seq_len, batch_size, input_dim)\n",
        "        x = torch.transpose(x, 0, 1)\n",
        "        output, (hidden, cn) = self.lstm_layer(x)\n",
        "        \n",
        "        output = self.linear_layer(output)\n",
        "\n",
        "        pred = output[-1]\n",
        "        return pred\n",
        "    "
      ],
      "execution_count": null,
      "outputs": []
    },
    {
      "cell_type": "markdown",
      "metadata": {
        "id": "JucyE-Y54j2X"
      },
      "source": [
        "Here is an example of how this class can be used to predict the values of the sequences in Xs."
      ]
    },
    {
      "cell_type": "code",
      "metadata": {
        "id": "t48-FY7d4qQP",
        "colab": {
          "base_uri": "https://localhost:8080/"
        },
        "outputId": "3bdab0cd-4fec-4725-f5f6-42de776dc071"
      },
      "source": [
        "n_samples = 50\n",
        "seq_len = 4\n",
        "input_dim = 1\n",
        "output_dim = 1\n",
        "n_layers = 2\n",
        "hidden_size = 20\n",
        "\n",
        "# Data generation\n",
        "X, Y = generate_data(n_samples, seq_len, input_dim, -100, 100)\n",
        "Xs, Ys, mean, std = standardize(X)\n",
        "\n",
        "# Declaration of the LSTM model\n",
        "model_lstm = LSTMLinear(input_dim, output_dim, hidden_size, n_layers)\n",
        "\n",
        "# Transfer the model to the proper device\n",
        "model_lstm = model_lstm.to(device)\n",
        "\n",
        "# save its initial weights (we do this so that, if we run the model\n",
        "# multiple time, we always start from these randomly initialized weights)\n",
        "init_lstm_weights = copy.deepcopy(model_lstm.state_dict())\n",
        "\n",
        "# Transfer the data to the proper device\n",
        "Xs = Xs.to(device)\n",
        "\n",
        "# Use the model to predict the output of each input sequence prior to training\n",
        "# Ensure that the inputs and output are correct\n",
        "y_pred = model_lstm(Xs)\n",
        "print(\"Size of input data: {}\".format(Xs.shape)) # (n_samples, seq_len, input_dim)\n",
        "print(\"Size of predictions: {}\".format(y_pred.shape)) # (n_samples, input_dim)\n",
        "print(Ys[0])\n",
        "print(y_pred[0])"
      ],
      "execution_count": null,
      "outputs": [
        {
          "output_type": "stream",
          "text": [
            "Size of input data: torch.Size([50, 4, 1])\n",
            "Size of predictions: torch.Size([50, 1])\n",
            "tensor([-0.4111])\n",
            "tensor([-0.1749], device='cuda:0', grad_fn=<SelectBackward>)\n"
          ],
          "name": "stdout"
        }
      ]
    },
    {
      "cell_type": "markdown",
      "metadata": {
        "id": "uBuwxO6s-Nck"
      },
      "source": [
        "## Transformer implementation\n",
        "\n",
        "We will now implement a Transformer.\n",
        "\n",
        "First of all, let's notice that we do not need a full Transformer. In fact, the Transformer is a sequence-to-sequence architecture that takes a sequence in input, and produces a sequence in output.\n",
        "Here, we do not need to produce a sequence in output, just one single value.\n",
        "So, we can use only the Transformer encoder (note that this is the same approach as in BERT).\n",
        "\n",
        "As \"usual\", we will also use a linear projection to obtain the final output:\n",
        "\n",
        "![Texte alternatif…](https://github.com/mila-iqia/ivado-mila-dl-school-2021/blob/main/tutorials/images/transformer_task.png?raw=true)\n",
        "\n",
        "Before implementing the model, a few things to mention:\n",
        "- The Pytorch Transformer implementation does not allow us to specify an input size different from the hidden size. To deal with this, we will project the input, with dimensions `(seq_len, batch_size, input_dim)` to `(seq_len, batch_size, hidden_size)`. This part of the code is already given to you.\n",
        "- The Transformer requires positional embeddings in order to understand the position of the element in the sequence. This part of the code is given to you. See [here](https://kazemnejad.com/blog/transformer_architecture_positional_encoding/) for more details.\n",
        "- The Self-Attention used in the Transformer encoder is bidirectional. As a consequence, each hidden state $h_j$ can see the full sequence. So, differently from the RNN and LSTM case, we will not be forced to take the last hidden state.\n",
        "\n",
        "Since the implementation of Positional Encodings is beyond the scope of this exercise, we make use of the class PositionalEncoding defined below, reused as-is from the PyTorch tutorials.\n"
      ]
    },
    {
      "cell_type": "code",
      "metadata": {
        "id": "Vh_qD5cdtwHU"
      },
      "source": [
        "######################################################################\n",
        "# ``PositionalEncoding`` module injects some information about the\n",
        "# relative or absolute position of the tokens in the sequence. The\n",
        "# positional encodings have the same dimension as the embeddings so that\n",
        "# the two can be summed. Here, we use ``sine`` and ``cosine`` functions of\n",
        "# different frequencies.\n",
        "#\n",
        "# Source : https://pytorch.org/tutorials/beginner/transformer_tutorial.html\n",
        "#\n",
        "class PositionalEncoding(nn.Module):\n",
        "\n",
        "    def __init__(self, d_model, dropout=0.0, max_len=5000):\n",
        "        super(PositionalEncoding, self).__init__()\n",
        "        self.dropout = nn.Dropout(p=dropout)\n",
        "        pe = torch.zeros(max_len, d_model)\n",
        "        position = torch.arange(0, max_len, dtype=torch.float).unsqueeze(1)\n",
        "        div_term = torch.exp(torch.arange(0, d_model, 2).float() * (-math.log(10000.0) / d_model))\n",
        "        pe[:, 0::2] = torch.sin(position * div_term)\n",
        "        pe[:, 1::2] = torch.cos(position * div_term)\n",
        "        pe = pe.unsqueeze(0)\n",
        "        self.register_buffer('pe', pe)\n",
        "\n",
        "    def forward(self, x):\n",
        "        x = x + self.pe[:, :x.size(1), :]\n",
        "        return self.dropout(x)"
      ],
      "execution_count": null,
      "outputs": []
    },
    {
      "cell_type": "markdown",
      "metadata": {
        "id": "UKMK8PGVzYBa"
      },
      "source": [
        "As with the RNN and LSTM approaches, we will need to add a linear layer to transform the last output of the Transformer to have the same dimensions of our target `Y`, which has size `(batch_size, output_dim)` (with `output_dim=1` as above).\n",
        "\n",
        "To define the architecture of our Transformer, the following methods are to be completed:\n",
        "* The `__init__()` method to define the different layers of our model.\n",
        "* The `forward()` method method which uses the layers and the input variables and returns an output (this is effectively a *forward pass*).\n",
        "\n",
        "**NB**: \n",
        "\n",
        "* The Transformer Self-Attention is bi-directional. As a consequence, we do not need to take the last hidden state. Indeed, it is actually more common to take the first hidden state `output[0]`. This is also what happens with BERT.\n",
        "\n",
        "* You must ensure that the dimensions of your input data `X` matches what is required by the Transformer encoder class (see the comments in the code below for a hint). Same as before, this method [tensor.transpose()](https://pytorch.org/docs/stable/tensors.html?highlight=transpose#torch.Tensor.transpose) can be useful to change the dimension order if needed."
      ]
    },
    {
      "cell_type": "markdown",
      "metadata": {
        "id": "11lkptGfC1KN"
      },
      "source": [
        "### Exercise 3\n",
        "\n",
        "Complete this piece of code to implement the above described network using the [torch.nn.TransformerEncoderLayer()](https://pytorch.org/docs/stable/generated/torch.nn.TransformerEncoderLayer.html) and [torch.nn.TransformerEncoder()](https://pytorch.org/docs/stable/generated/torch.nn.TransformerEncoder.html) classes. The input arguments are the following:\n",
        "- **input_dim**: the dimension of the input data\n",
        "- **output_dim**: the dimension of the output data\n",
        "- **hidden_size**: the size to which to project the input data before feeding into the Transformer encoder\n",
        "- **n_heads**: the number of attention heads in each Transformer encoder layer\n",
        "- **n_layers**: the number of layers in the Transformer encoder."
      ]
    },
    {
      "cell_type": "code",
      "metadata": {
        "id": "8RSEQQiYC7tU"
      },
      "source": [
        "class TransformerLinear(nn.Module):\n",
        "    \n",
        "    def __init__(self, input_dim, output_dim, hidden_size, n_heads, n_layers):\n",
        "        super(TransformerLinear, self).__init__()\n",
        "\n",
        "        self.linear_inp_to_hid = nn.Linear(input_dim, hidden_size)\n",
        "        #self.pos_encoder = PositionalEncoding(input_dim)\n",
        "        self.pos_encoder = PositionalEncoding(hidden_size)\n",
        "\n",
        "        # ma partie\n",
        "        trans_encoder_layer = torch.nn.TransformerEncoderLayer(d_model=hidden_size, nhead=n_heads)\n",
        "        self.trans_layer = torch.nn.TransformerEncoder(encoder_layer=trans_encoder_layer, num_layers=n_layers)\n",
        "\n",
        "        self.linear_layer = torch.nn.Linear(in_features=hidden_size,out_features=output_dim)\n",
        "\n",
        "    def forward(self, x):\n",
        "        # Project input and inject positional encodings\n",
        "        x = self.linear_inp_to_hid(x)\n",
        "        x = self.pos_encoder(x)\n",
        "\n",
        "        # ma partie\n",
        "        # Invoke transformer and produce prediction\n",
        "        # x has size of (n_samples=batch_size, seq_len, input_dim)\n",
        "        # Note: the input to the Transformer must be of size (seq_len, batch_size, hidden_size)\n",
        "        x = torch.transpose(x, 0, 1)\n",
        "        output = self.trans_layer(x)\n",
        "\n",
        "        output = self.linear_layer(output)\n",
        "        \n",
        "        pred = output[0]\n",
        "        return pred\n",
        "    "
      ],
      "execution_count": null,
      "outputs": []
    },
    {
      "cell_type": "markdown",
      "metadata": {
        "id": "rhgBr9CZG6wN"
      },
      "source": [
        "Here is an example of how this class can be used to predict the values of the sequences in Xs."
      ]
    },
    {
      "cell_type": "code",
      "metadata": {
        "id": "XC8dDQXMG9cU",
        "colab": {
          "base_uri": "https://localhost:8080/"
        },
        "outputId": "c9259228-739d-4abe-a4ec-53537bcdde7a"
      },
      "source": [
        "n_samples = 50\n",
        "seq_len = 4\n",
        "input_dim = 1\n",
        "output_dim = 1\n",
        "n_heads = 1\n",
        "n_layers = 2\n",
        "hidden_size = 20\n",
        "\n",
        "# Data generation\n",
        "X, Y = generate_data(n_samples, seq_len, input_dim, -100, 100)\n",
        "Xs, Ys, mean, std = standardize(X)\n",
        "\n",
        "# Declaration of the Transformer model\n",
        "model_transformer = TransformerLinear(input_dim, output_dim, hidden_size, n_heads, n_layers)\n",
        "\n",
        "# Transfer the model to the proper device\n",
        "model_transformer = model_transformer.to(device)\n",
        "\n",
        "# save its initial weights (we do this so that, if we run the model\n",
        "# multiple time, we always start from these randomly initialized weights)\n",
        "init_transformer_weights = copy.deepcopy(model_transformer.state_dict())\n",
        "\n",
        "# Transfer the data to the proper device\n",
        "Xs = Xs.to(device)\n",
        "\n",
        "# Use the model to predict the output of each input sequence prior to training\n",
        "# Ensure that the inputs and output are correct\n",
        "y_pred = model_transformer(Xs)\n",
        "print(\"Size of input data: {}\".format(Xs.shape)) # (n_samples, seq_len, input_dim)\n",
        "print(\"Size of predictions: {}\".format(y_pred.shape)) # (n_samples, input_dim)"
      ],
      "execution_count": null,
      "outputs": [
        {
          "output_type": "stream",
          "text": [
            "Size of input data: torch.Size([50, 4, 1])\n",
            "Size of predictions: torch.Size([50, 1])\n"
          ],
          "name": "stdout"
        }
      ]
    },
    {
      "cell_type": "markdown",
      "metadata": {
        "id": "gdha8WWWhPXp"
      },
      "source": [
        "## Splitting the data into train / validation / test"
      ]
    },
    {
      "cell_type": "markdown",
      "metadata": {
        "id": "T6aIPUXR50aJ"
      },
      "source": [
        "We will use PyTorch's DataLoader objects to efficiently manipulate our data. \n",
        "\n",
        "We will generate 25,000 sequences and use 80% of those for training, 10% for validation, and 10% for testing. We can use the following functions [torch.utils.data.TensorDataset()](https://pytorch.org/docs/stable/data.html) and [torch.utils.data.DataLoader()](https://pytorch.org/docs/stable/data.html) to prepare our Dataloader.\n",
        "\n",
        "Note we will use the following values:\n",
        "\n",
        "* `seq_len = 50` \n",
        "* `batch_size = 64`\n",
        "* `n_samples = 25000`"
      ]
    },
    {
      "cell_type": "code",
      "metadata": {
        "id": "PzSCKyyMhPXq"
      },
      "source": [
        "from torch.utils.data import DataLoader, TensorDataset\n",
        "\n",
        "n_samples = 25000\n",
        "seq_len = 50\n",
        "batch_size = 64\n",
        "\n",
        "# generate the data:\n",
        "X, Y = generate_data(n_samples, seq_len, input_dim, -100, 100)\n",
        "\n",
        "# and standardize it:\n",
        "Xs, Ys, mean, std = standardize(X)\n",
        "\n",
        "# split it\n",
        "train_val_index = round(0.8*n_samples)\n",
        "val_test_index = round(0.9*n_samples)\n",
        "\n",
        "xtrain, ytrain = Xs[:train_val_index], Ys[:train_val_index]\n",
        "xvalid, yvalid = Xs[train_val_index:val_test_index], Ys[train_val_index:val_test_index]\n",
        "xtest, ytest = Xs[val_test_index:], Ys[val_test_index:]\n",
        "\n",
        "# dataloader for the training dataset\n",
        "train_loader = DataLoader(TensorDataset(xtrain, ytrain), batch_size, shuffle=True)\n",
        "\n",
        "# prepare the dataloader for the validation dataset\n",
        "valid_loader = DataLoader(TensorDataset(xvalid, yvalid), batch_size)\n",
        "\n",
        "# prepare the dataloader for the test dataset\n",
        "test_loader = DataLoader(TensorDataset(xtest, ytest), batch_size)"
      ],
      "execution_count": null,
      "outputs": []
    },
    {
      "cell_type": "markdown",
      "metadata": {
        "id": "W8IdyMkZjRs7"
      },
      "source": [
        "## Training the RNN-based model\n",
        "\n",
        "Several cost functions and optimizers can be used from PyTorch. "
      ]
    },
    {
      "cell_type": "markdown",
      "metadata": {
        "id": "ow4dIMYT2gek"
      },
      "source": [
        "### Exercise 4: Defining the cost and the optimizer\n",
        "\n",
        "Recall that a cost function  $J(\\theta) = L(x, y, \\theta)$ takes as input a prediction and the target and evaluates some distance (or discrepancy) between both.  For this example, we will use the mean squared error cost which is standard for regression problems (see [torch.nn.MSELoss()](https://pytorch.org/docs/stable/generated/torch.nn.MSELoss.html#torch.nn.MSELoss)):\n",
        "\n",
        "$J(\\cdot) = \\frac{1}{N}\\sum_{i=1}^{N} (\\hat{y}_{i} - y_i)^{2}$.\n",
        "\n",
        "\n",
        "To optimize the parameters of our networks we will use the *stochastic gradient descent* (SGD) optimizer. It minimizes the cost function $J(\\theta)$ parametrized by the networks' weights $\\theta$ by updating them using the following update rule: $\\theta \\leftarrow \\theta - \\alpha \\nabla J(\\theta)$, where  $\\alpha$ is the *learning rate*. The specificity of SGD is that it will calculate the gradient $\\nabla$ using a single (or a small number of) example(s) instead of the full training data.\n",
        "\n",
        "In PyTorch we will use <a href=\"https://pytorch.org/docs/master/generated/torch.optim.SGD.html#torch.optim.SGD\">`torch.optim.SGD()`</a> which is a SGD implementation. In this example, we will use a learning rate of 0.001.\n",
        "\n",
        "Complete the following piece of code by defining the MSE loss function and the `get_optimizer()` function."
      ]
    },
    {
      "cell_type": "code",
      "metadata": {
        "id": "6SidKvG6hPXu"
      },
      "source": [
        "learning_rate = 0.001\n",
        "\n",
        "# Define the loss function\n",
        "loss_fun = torch.nn.MSELoss()\n",
        "\n",
        "# Define the Optimizer\n",
        "def get_optimizer(model):\n",
        "  optimizer = torch.optim.SGD(model.parameters(), lr=learning_rate)\n",
        "  return optimizer"
      ],
      "execution_count": null,
      "outputs": []
    },
    {
      "cell_type": "markdown",
      "metadata": {
        "id": "pBrLb8PdhPXw"
      },
      "source": [
        "### Exercise 5: Define the training loop\n",
        "\n",
        "To train our model, we will use our `train_loader` object to iterate over our entire training sets *n_epoch* times. \n",
        "To measure progress we will store the validation cost at the end of each training *epoch*. We will use `n_epoch = 25`.\n",
        "\n",
        "Complete the following piece of code with the instructions correponding to the related comments."
      ]
    },
    {
      "cell_type": "code",
      "metadata": {
        "id": "e9a-gjjVhPXx",
        "scrolled": false
      },
      "source": [
        "# Define function to encapsulate main training loop\n",
        "def train_model(model, init_weights, optimizer):\n",
        "\n",
        "    since = time.time()\n",
        "\n",
        "    train_loss_history = []\n",
        "    valid_loss_history = []\n",
        "\n",
        "    n_epoch = 25\n",
        "\n",
        "    model.load_state_dict(init_weights)\n",
        "\n",
        "    print(\"Start training\")\n",
        "\n",
        "    for epoch in range(n_epoch):\n",
        "        \n",
        "        train_loss = 0\n",
        "        train_n_iter = 0\n",
        "        \n",
        "        # Set model to train mode\n",
        "        model.train()\n",
        "        torch.set_grad_enabled(True)\n",
        "        \n",
        "        # Iterate over train data\n",
        "        for x, y in train_loader:  \n",
        "\n",
        "            \n",
        "            # Put tensors on device (GPU when available)\n",
        "            x = x.to(device)\n",
        "            y = y.to(device)\n",
        "\n",
        "            # Zero the gradient buffer\n",
        "            optimizer.zero_grad()\n",
        "            \n",
        "            # Perform the Forward operation\n",
        "            outputs = model(x)\n",
        "            \n",
        "            # Calculate the loss using the loss function\n",
        "            loss = loss_fun(outputs, y)\n",
        "            \n",
        "            # Perform the Backward operation\n",
        "            loss.backward()\n",
        "            \n",
        "            # Perform the Optimization step\n",
        "            optimizer.step()\n",
        "            \n",
        "            # Statistics\n",
        "            train_loss += loss.item()\n",
        "            train_n_iter += 1\n",
        "        \n",
        "        valid_loss = 0\n",
        "        valid_n_iter = 0\n",
        "        \n",
        "        # Set model to evaluate mode\n",
        "        model.eval()\n",
        "        with torch.no_grad():\n",
        "        \n",
        "            # Iterate over valid data\n",
        "            for x, y in valid_loader:  \n",
        "            \n",
        "                # Put tensors on device (GPU when available)\n",
        "                x = x.to(device)\n",
        "                y = y.to(device)\n",
        "            \n",
        "                # Perform the Forward operation\n",
        "                outputs = model(x)\n",
        "                \n",
        "                # Calculate the loss using the loss fun function\n",
        "                loss = loss_fun(outputs,y)\n",
        "            \n",
        "                # Statistics\n",
        "                valid_loss += loss.item()\n",
        "                valid_n_iter += 1\n",
        "        \n",
        "        train_loss_history.append(train_loss / train_n_iter)\n",
        "        valid_loss_history.append(valid_loss / valid_n_iter)\n",
        "\n",
        "\n",
        "        print(\"Epoch {:2d} | Training loss = {:.5f} | Validation loss = {:.5f} \"\n",
        "              .format(epoch+1, (train_loss / train_n_iter), (valid_loss / valid_n_iter)))\n",
        "\n",
        "    time_elapsed = time.time() - since\n",
        "\n",
        "    print('\\n\\nTraining complete in {:.0f}m {:.0f}s'.format(\n",
        "        time_elapsed // 60, time_elapsed % 60))\n",
        "    \n",
        "    return train_loss_history, valid_loss_history"
      ],
      "execution_count": null,
      "outputs": []
    },
    {
      "cell_type": "code",
      "metadata": {
        "id": "90JAXSrA9Kta",
        "colab": {
          "base_uri": "https://localhost:8080/"
        },
        "outputId": "823f1168-96ad-4e41-d895-b6ea7a5acc94"
      },
      "source": [
        "# Perform training of the RNN model\n",
        "optimizer_rnn = get_optimizer(model_rnn)\n",
        "loss_history = train_model(model_rnn, init_rnn_weights, optimizer_rnn)\n",
        "\n",
        "# Save loss history for later\n",
        "rnn_train_loss_history, rnn_valid_loss_history = loss_history"
      ],
      "execution_count": null,
      "outputs": [
        {
          "output_type": "stream",
          "text": [
            "Start training\n",
            "Epoch  1 | Training loss = 50.30871 | Validation loss = 49.42506 \n",
            "Epoch  2 | Training loss = 46.12318 | Validation loss = 32.06780 \n",
            "Epoch  3 | Training loss = 41.77172 | Validation loss = 44.16628 \n",
            "Epoch  4 | Training loss = 49.23018 | Validation loss = 49.50582 \n",
            "Epoch  5 | Training loss = 48.04225 | Validation loss = 42.61745 \n",
            "Epoch  6 | Training loss = 45.83536 | Validation loss = 49.78109 \n",
            "Epoch  7 | Training loss = 49.50174 | Validation loss = 49.26810 \n",
            "Epoch  8 | Training loss = 49.45164 | Validation loss = 48.14670 \n",
            "Epoch  9 | Training loss = 45.26024 | Validation loss = 49.82820 \n",
            "Epoch 10 | Training loss = 50.46843 | Validation loss = 49.81689 \n",
            "Epoch 11 | Training loss = 50.45155 | Validation loss = 49.83420 \n",
            "Epoch 12 | Training loss = 50.41161 | Validation loss = 49.70825 \n",
            "Epoch 13 | Training loss = 50.13404 | Validation loss = 49.08748 \n",
            "Epoch 14 | Training loss = 49.46110 | Validation loss = 42.89134 \n",
            "Epoch 15 | Training loss = 48.29693 | Validation loss = 49.90245 \n",
            "Epoch 16 | Training loss = 49.87265 | Validation loss = 48.39237 \n",
            "Epoch 17 | Training loss = 49.47494 | Validation loss = 49.84171 \n",
            "Epoch 18 | Training loss = 50.46046 | Validation loss = 49.83405 \n",
            "Epoch 19 | Training loss = 50.44273 | Validation loss = 49.81637 \n",
            "Epoch 20 | Training loss = 50.44998 | Validation loss = 49.81263 \n",
            "Epoch 21 | Training loss = 50.47328 | Validation loss = 49.83342 \n",
            "Epoch 22 | Training loss = 50.44875 | Validation loss = 49.80053 \n",
            "Epoch 23 | Training loss = 50.44882 | Validation loss = 49.81322 \n",
            "Epoch 24 | Training loss = 50.43366 | Validation loss = 49.74541 \n",
            "Epoch 25 | Training loss = 50.31465 | Validation loss = 49.61400 \n",
            "\n",
            "\n",
            "Training complete in 0m 34s\n"
          ],
          "name": "stdout"
        }
      ]
    },
    {
      "cell_type": "markdown",
      "metadata": {
        "id": "wr4at5nVhPXz"
      },
      "source": [
        "### Visualizing training curves \n",
        "\n",
        "Visualize the training curves using a graph of the cost function vs. epochs for both the training and the validation data."
      ]
    },
    {
      "cell_type": "code",
      "metadata": {
        "id": "bJLu-rC_hPX1",
        "colab": {
          "base_uri": "https://localhost:8080/",
          "height": 279
        },
        "outputId": "16b2d571-dc8e-45a0-bc5f-f8a9350b6247"
      },
      "source": [
        "# Plot training and validation curve\n",
        "n_epoch = 25\n",
        "xaxis = range(1, n_epoch + 1)\n",
        "plt.plot(xaxis, rnn_train_loss_history, label='train-rnn')\n",
        "plt.plot(xaxis, rnn_valid_loss_history, label='valid-rnn')\n",
        "\n",
        "plt.xlabel('# epochs')\n",
        "plt.ylabel('Loss')\n",
        "plt.legend()\n",
        "\n",
        "plt.show()"
      ],
      "execution_count": null,
      "outputs": [
        {
          "output_type": "display_data",
          "data": {
            "image/png": "[encoded data removed]",
            "text/plain": [
              "<Figure size 432x288 with 1 Axes>"
            ]
          },
          "metadata": {
            "tags": [],
            "needs_background": "light"
          }
        }
      ]
    },
    {
      "cell_type": "markdown",
      "metadata": {
        "id": "Vi7bHNzykdby"
      },
      "source": [
        "## Training the LSTM-based model"
      ]
    },
    {
      "cell_type": "markdown",
      "metadata": {
        "id": "eTJKDrB4_dqm"
      },
      "source": [
        "### Exercise 6: Training the LSTM\n",
        "\n",
        "Complete the following piece of code to train the LSTM model.\n",
        "\n",
        "**Hint** : Reuse the functions `get_optimizer()` and `train_model()` that you completed previously in the section \"Training the RNN-based model\".\n"
      ]
    },
    {
      "cell_type": "code",
      "metadata": {
        "id": "_uBr9r37_-TI",
        "colab": {
          "base_uri": "https://localhost:8080/"
        },
        "outputId": "39f958e6-0a99-4608-ef21-ff08bb68e3eb"
      },
      "source": [
        "# Perform training of the LSTM model\n",
        "optimizer_lstm = get_optimizer(model_lstm)\n",
        "loss_history = train_model(model_lstm, init_lstm_weights, optimizer_lstm)\n",
        "\n",
        "# Save loss history for later\n",
        "lstm_train_loss_history, lstm_valid_loss_history = loss_history"
      ],
      "execution_count": null,
      "outputs": [
        {
          "output_type": "stream",
          "text": [
            "Start training\n",
            "Epoch  1 | Training loss = 50.47188 | Validation loss = 49.78364 \n",
            "Epoch  2 | Training loss = 50.38882 | Validation loss = 49.75794 \n",
            "Epoch  3 | Training loss = 50.36766 | Validation loss = 49.71842 \n",
            "Epoch  4 | Training loss = 50.31687 | Validation loss = 49.64402 \n",
            "Epoch  5 | Training loss = 50.14621 | Validation loss = 49.46873 \n",
            "Epoch  6 | Training loss = 49.79792 | Validation loss = 48.75149 \n",
            "Epoch  7 | Training loss = 42.71740 | Validation loss = 59.59067 \n",
            "Epoch  8 | Training loss = 40.52608 | Validation loss = 40.77352 \n",
            "Epoch  9 | Training loss = 19.04354 | Validation loss = 11.69523 \n",
            "Epoch 10 | Training loss = 11.98177 | Validation loss = 7.38035 \n",
            "Epoch 11 | Training loss = 8.64535 | Validation loss = 5.76371 \n",
            "Epoch 12 | Training loss = 6.46202 | Validation loss = 5.11600 \n",
            "Epoch 13 | Training loss = 4.42483 | Validation loss = 9.24462 \n",
            "Epoch 14 | Training loss = 4.14930 | Validation loss = 4.30009 \n",
            "Epoch 15 | Training loss = 3.18004 | Validation loss = 4.02454 \n",
            "Epoch 16 | Training loss = 2.88818 | Validation loss = 6.31874 \n",
            "Epoch 17 | Training loss = 2.67467 | Validation loss = 1.40476 \n",
            "Epoch 18 | Training loss = 2.32504 | Validation loss = 3.46760 \n",
            "Epoch 19 | Training loss = 2.29700 | Validation loss = 2.10790 \n",
            "Epoch 20 | Training loss = 2.17241 | Validation loss = 1.91944 \n",
            "Epoch 21 | Training loss = 1.73365 | Validation loss = 2.04721 \n",
            "Epoch 22 | Training loss = 1.82325 | Validation loss = 0.92525 \n",
            "Epoch 23 | Training loss = 1.65889 | Validation loss = 1.29075 \n",
            "Epoch 24 | Training loss = 1.32833 | Validation loss = 1.70045 \n",
            "Epoch 25 | Training loss = 1.41211 | Validation loss = 0.67230 \n",
            "\n",
            "\n",
            "Training complete in 0m 35s\n"
          ],
          "name": "stdout"
        }
      ]
    },
    {
      "cell_type": "markdown",
      "metadata": {
        "id": "aMEzsqBaqGmh"
      },
      "source": [
        "### Visualizing training curves \n",
        "\n",
        "Visualize the training curves using a graph of the cost function vs. epochs for both the training and the validation data."
      ]
    },
    {
      "cell_type": "code",
      "metadata": {
        "id": "4Rw1tIfMhPYN",
        "colab": {
          "base_uri": "https://localhost:8080/",
          "height": 279
        },
        "outputId": "52ba630e-52d4-4ac5-e220-7b1247b61b31"
      },
      "source": [
        "# Plot training and validation curve\n",
        "xaxis = range(1, n_epoch + 1)\n",
        "plt.plot(xaxis, lstm_train_loss_history, label='train-lstm')\n",
        "plt.plot(xaxis, lstm_valid_loss_history, label='valid-lstm')\n",
        "\n",
        "plt.xlabel('# epochs')\n",
        "plt.ylabel('Loss')\n",
        "plt.legend()\n",
        "\n",
        "plt.show()"
      ],
      "execution_count": null,
      "outputs": [
        {
          "output_type": "display_data",
          "data": {
            "image/png": "[encoded data removed]",
            "text/plain": [
              "<Figure size 432x288 with 1 Axes>"
            ]
          },
          "metadata": {
            "tags": [],
            "needs_background": "light"
          }
        }
      ]
    },
    {
      "cell_type": "markdown",
      "metadata": {
        "id": "GXuIjOZdDjAO"
      },
      "source": [
        "## Training the Transformer-based model"
      ]
    },
    {
      "cell_type": "markdown",
      "metadata": {
        "id": "jQ02TeIEDmPL"
      },
      "source": [
        "### Exercise 7: Training the Transformer\n",
        "\n",
        "Complete the following piece of code to train the Transformer model.\n",
        "\n",
        "**Hint** : Reuse the functions `get_optimizer()` and `train_model()` that you completed previously in the section \"Training the RNN-based model\".\n"
      ]
    },
    {
      "cell_type": "code",
      "metadata": {
        "id": "INT6LP5aDyU4",
        "colab": {
          "base_uri": "https://localhost:8080/"
        },
        "outputId": "ec852a6a-0439-4ab8-8e2b-224cf7c27e44"
      },
      "source": [
        "# Perform training of the Transformer model\n",
        "optimizer_transformer = get_optimizer(model_transformer)\n",
        "loss_history = train_model(model_transformer, init_transformer_weights, optimizer_transformer)\n",
        "\n",
        "# Save loss history for later\n",
        "transformer_train_loss_history, transformer_valid_loss_history = loss_history"
      ],
      "execution_count": null,
      "outputs": [
        {
          "output_type": "stream",
          "text": [
            "Start training\n",
            "Epoch  1 | Training loss = 32.55574 | Validation loss = 7.67797 \n",
            "Epoch  2 | Training loss = 5.96531 | Validation loss = 2.13174 \n",
            "Epoch  3 | Training loss = 3.50216 | Validation loss = 2.77777 \n",
            "Epoch  4 | Training loss = 2.60333 | Validation loss = 1.90458 \n",
            "Epoch  5 | Training loss = 2.04037 | Validation loss = 0.85759 \n",
            "Epoch  6 | Training loss = 1.75962 | Validation loss = 0.48694 \n",
            "Epoch  7 | Training loss = 1.53579 | Validation loss = 1.73232 \n",
            "Epoch  8 | Training loss = 1.32881 | Validation loss = 0.63654 \n",
            "Epoch  9 | Training loss = 1.18393 | Validation loss = 0.29320 \n",
            "Epoch 10 | Training loss = 1.07512 | Validation loss = 0.34598 \n",
            "Epoch 11 | Training loss = 1.03263 | Validation loss = 0.33932 \n",
            "Epoch 12 | Training loss = 0.98257 | Validation loss = 0.16888 \n",
            "Epoch 13 | Training loss = 0.87758 | Validation loss = 0.40801 \n",
            "Epoch 14 | Training loss = 0.90498 | Validation loss = 0.62895 \n",
            "Epoch 15 | Training loss = 0.83180 | Validation loss = 0.21360 \n",
            "Epoch 16 | Training loss = 0.84673 | Validation loss = 0.48884 \n",
            "Epoch 17 | Training loss = 0.76338 | Validation loss = 0.14628 \n",
            "Epoch 18 | Training loss = 0.72459 | Validation loss = 0.26517 \n",
            "Epoch 19 | Training loss = 0.70604 | Validation loss = 0.12502 \n",
            "Epoch 20 | Training loss = 0.74377 | Validation loss = 0.73742 \n",
            "Epoch 21 | Training loss = 0.69546 | Validation loss = 0.20449 \n",
            "Epoch 22 | Training loss = 0.65145 | Validation loss = 0.13178 \n",
            "Epoch 23 | Training loss = 0.65335 | Validation loss = 0.29950 \n",
            "Epoch 24 | Training loss = 0.70780 | Validation loss = 0.10699 \n",
            "Epoch 25 | Training loss = 0.65042 | Validation loss = 0.26677 \n",
            "\n",
            "\n",
            "Training complete in 0m 55s\n"
          ],
          "name": "stdout"
        }
      ]
    },
    {
      "cell_type": "markdown",
      "metadata": {
        "id": "kSgo6HXFHIu3"
      },
      "source": [
        "### Visualizing training curves \n",
        "\n",
        "Visualize the training curves using a graph of the cost function vs. epochs for both the training and the validation data."
      ]
    },
    {
      "cell_type": "code",
      "metadata": {
        "id": "sKjJ2o7kHLIY",
        "colab": {
          "base_uri": "https://localhost:8080/",
          "height": 279
        },
        "outputId": "4cf2c315-3e9d-4372-a048-59d22f564f95"
      },
      "source": [
        "# Plot training and validation curve\n",
        "xaxis = range(1, n_epoch + 1)\n",
        "plt.plot(xaxis, transformer_train_loss_history, label='train-transformer')\n",
        "plt.plot(xaxis, transformer_valid_loss_history, label='valid-transformer')\n",
        "\n",
        "plt.xlabel('# epochs')\n",
        "plt.ylabel('Loss')\n",
        "plt.legend()\n",
        "\n",
        "plt.show()"
      ],
      "execution_count": null,
      "outputs": [
        {
          "output_type": "display_data",
          "data": {
            "image/png": "[encoded data removed]",
            "text/plain": [
              "<Figure size 432x288 with 1 Axes>"
            ]
          },
          "metadata": {
            "tags": [],
            "needs_background": "light"
          }
        }
      ]
    },
    {
      "cell_type": "markdown",
      "metadata": {
        "id": "7PCowiQxpcHv"
      },
      "source": [
        "## Analyzing the results\n",
        "\n",
        "We will now compare the RNN, the LSTM and the Transformer using their performance on train/validation and test sets."
      ]
    },
    {
      "cell_type": "markdown",
      "metadata": {
        "id": "KaoQgOOZKL98"
      },
      "source": [
        "### Comparing training curves\n",
        "\n",
        "\n",
        "Compare the training curves using a graph of the cost function vs. epochs for both the training and the validation data."
      ]
    },
    {
      "cell_type": "code",
      "metadata": {
        "id": "yl8hcNhnKKOS",
        "colab": {
          "base_uri": "https://localhost:8080/",
          "height": 295
        },
        "outputId": "23a6ee45-a363-43d3-ad8f-1e4bfdc8b23d"
      },
      "source": [
        "# Plot training and validation curve\n",
        "xaxis = range(1, n_epoch + 1)\n",
        "\n",
        "plt.plot(xaxis, rnn_train_loss_history, label='train-rnn')\n",
        "plt.plot(xaxis, rnn_valid_loss_history, label='valid-rnn')\n",
        "\n",
        "plt.plot(xaxis, lstm_train_loss_history, label='train-lstm', linestyle='--')\n",
        "plt.plot(xaxis, lstm_valid_loss_history, label='valid-lstm', linestyle='--')\n",
        "\n",
        "plt.plot(xaxis, transformer_train_loss_history, label='train-transformer', linestyle='dotted')\n",
        "plt.plot(xaxis, transformer_valid_loss_history, label='valid-transformer', linestyle='dotted')\n",
        "\n",
        "plt.xlabel('# epochs')\n",
        "plt.ylabel('Loss')\n",
        "plt.title('sequence-len='+str(seq_len)+' learning-rate='+str(learning_rate))\n",
        "plt.legend()\n",
        "plt.show()"
      ],
      "execution_count": null,
      "outputs": [
        {
          "output_type": "display_data",
          "data": {
            "image/png": "[encoded data removed]",
            "text/plain": [
              "<Figure size 432x288 with 1 Axes>"
            ]
          },
          "metadata": {
            "tags": [],
            "needs_background": "light"
          }
        }
      ]
    },
    {
      "cell_type": "markdown",
      "metadata": {
        "id": "BhGBAmabKr8A"
      },
      "source": [
        "**Questions**\n",
        "\n",
        "1. Which network works best according to validation? Why is that? \n",
        "2. Assume you want to increase the gap between the RNN and LSTM performances. Or between the LSTM and Transformer performances. How would you modify the data?\n",
        "\n",
        "-------------\n",
        "I've found that the task is very hard for an RNN model. Decrease  sequence lenght (seq len) make the model more confortable with the task. LSTM more robust on seq len. Transformer very robust on seq len and is learning faster.\n",
        "\n"
      ]
    },
    {
      "cell_type": "markdown",
      "metadata": {
        "id": "qjU8yV-wvnAQ"
      },
      "source": [
        "![image.png](data:image/png;base64,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)"
      ]
    },
    {
      "cell_type": "markdown",
      "metadata": {
        "id": "SeWGSfEOLdsM"
      },
      "source": [
        "### Evaluating test error\n",
        "\n",
        "In the following cell, we evaluate and print the mean squared error on the test set for the models."
      ]
    },
    {
      "cell_type": "code",
      "metadata": {
        "id": "72z2Xob3MRYB",
        "colab": {
          "base_uri": "https://localhost:8080/"
        },
        "outputId": "a6628e0e-4501-4ee1-df38-b824ff78f40e"
      },
      "source": [
        "# Put sequence data on device (GPU when available)\n",
        "xtest = xtest.to(device)\n",
        "\n",
        "# Put target data on device (GPU when available)\n",
        "ytest = ytest.to(device)\n",
        "\n",
        "# Predict the value of the sequence data using the RNN-based model\n",
        "ypred_rnn = model_rnn(xtest)\n",
        "\n",
        "# Predict the value of the sequence data using the LSTM-based model\n",
        "ypred_lstm = model_lstm(xtest)\n",
        "\n",
        "# Predict the value of the sequence data using the Transformer-based model\n",
        "ypred_transformer = model_transformer(xtest)\n",
        "\n",
        "# Compute the loss of the RNN-based model using the loss function\n",
        "loss_test_rnn = loss_fun(ypred_rnn, ytest)\n",
        "\n",
        "# Compute the loss of the LSTM-based model using the loss function\n",
        "loss_test_lstm = loss_fun(ypred_lstm, ytest)\n",
        "\n",
        "# Compute the loss of the Transformer-based model using the loss function\n",
        "loss_test_transformer = loss_fun(ypred_transformer, ytest)\n",
        "\n",
        "\n",
        "print(f\"The RNN's test mean squared error is {float(loss_test_rnn):2.3f}\")\n",
        "print(f\"The LSTM's test mean squared error is {float(loss_test_lstm):2.3f}\")\n",
        "print(f\"The Transformer's test mean squared error is {float(loss_test_transformer):2.3f}\")"
      ],
      "execution_count": null,
      "outputs": [
        {
          "output_type": "stream",
          "text": [
            "The RNN's test mean squared error is 51.012\n",
            "The LSTM's test mean squared error is 0.609\n",
            "The Transformer's test mean squared error is 0.248\n"
          ],
          "name": "stdout"
        }
      ]
    },
    {
      "cell_type": "markdown",
      "metadata": {
        "id": "hPZH71eCpcH0"
      },
      "source": [
        "### Further exploring the results\n",
        "\n",
        "To gain insights into our models we will inspect their outputs (i.e., their predictions before calculating the cost). To help us we will define a `print_sequence()` function. \n",
        "\n",
        "This function takes as input the tensors X and Y, samples a particular entry (sequence), prints the entry and prints the absolute difference between the true Y and the predicted Y.\n",
        "\n",
        "Recall that we have standardized our examples. For these visualizations we wish to use the original data pre-standardization. To do so, we use `mean` and `std` such that $xtest\\_unstd = xtest*std + mean$ et $ytest\\_unstd = ytest*std+seq\\_len*mean$.\n"
      ]
    },
    {
      "cell_type": "code",
      "metadata": {
        "id": "QfCvsGXNpcH2"
      },
      "source": [
        "def print_sequence(X, Y, idx=0):\n",
        "    \"\"\"Print ground truth sum and predicted values.\n",
        "    Args:\n",
        "      X: torch.Tensor.\n",
        "      Y: torch.Tensor.\n",
        "      idx: index of the sequence (entry) to use.\n",
        "    \"\"\"\n",
        "    xs = X[idx].numpy()\n",
        "    ys = Y[idx].numpy()\n",
        "\n",
        "    x_string = ' + '.join([str(int(x)) for x in xs])\n",
        "            \n",
        "    print(\"Sequence: \", x_string)\n",
        "    print(\"Prediction: \", str(ys[0]))\n",
        "    print(\"Ground truth value: \", str(np.sum(xs))) #np.sum(xs)\n",
        "    diff = abs(np.sum(xs)-ys[0]) #np.sum(xs)\n",
        "    print(f\"Absolute error between X[{idx}] et Y[{idx}]: {diff}\")"
      ],
      "execution_count": null,
      "outputs": []
    },
    {
      "cell_type": "code",
      "metadata": {
        "id": "WbKAWzPu99H0"
      },
      "source": [
        "def print_mean_abs_error(X, Y):\n",
        "    xs = X.numpy()\n",
        "    ys = Y.numpy()\n",
        "\n",
        "    diff = abs(np.sum(xs,axis=1)-ys)\n",
        "    print(f\"Absolute mean error between X[:] et Y[:] = {np.mean(diff)}\")"
      ],
      "execution_count": null,
      "outputs": []
    },
    {
      "cell_type": "markdown",
      "metadata": {
        "id": "0D196dQEAoxu"
      },
      "source": [
        "In the following cell, we use the model to predict some sums."
      ]
    },
    {
      "cell_type": "code",
      "metadata": {
        "id": "_aDw139hpcH_",
        "colab": {
          "base_uri": "https://localhost:8080/"
        },
        "outputId": "b36bf3fc-cb92-401f-aeba-8720199f7427"
      },
      "source": [
        "xtest = xtest.cpu()\n",
        "ypred_rnn = ypred_rnn.cpu()\n",
        "\n",
        "# Unstandardize  xtest\n",
        "xtest_unstd = xtest*std + mean\n",
        "\n",
        "# Unstandardize  the predictions of the RNN-based model on xtest\n",
        "ypred_unstd = ypred_rnn*std + seq_len*mean\n",
        "\n",
        "# sample a random number from the examples above:\n",
        "idx = np.random.randint(len(ytest))\n",
        "\n",
        "print(\"\")\n",
        "print(\"Example RNN:\")\n",
        "print(\"\")\n",
        "\n",
        "print_sequence(xtest_unstd.detach(), ypred_unstd.detach(), idx=idx)\n",
        "print_mean_abs_error(xtest_unstd.detach(), ypred_unstd.detach())\n",
        "\n",
        "xtest = xtest.cpu()\n",
        "ypred_lstm = ypred_lstm.cpu()\n",
        "\n",
        "xtest_unstd = xtest*std + mean\n",
        "ypred_unstd = ypred_lstm*std + seq_len*mean\n",
        "\n",
        "print(\"\")\n",
        "print(\"Example LSTM:\")\n",
        "print(\"\")\n",
        "\n",
        "print_sequence(xtest_unstd.detach(), ypred_unstd.detach(), idx=idx)\n",
        "print_mean_abs_error(xtest_unstd.detach(), ypred_unstd.detach())\n",
        "\n",
        "xtest = xtest.cpu()\n",
        "ypred_transformer = ypred_transformer.cpu()\n",
        "\n",
        "xtest_unstd = xtest*std + mean\n",
        "ypred_unstd = ypred_transformer*std + seq_len*mean\n",
        "\n",
        "print(\"\")\n",
        "print(\"Example Transformer:\")\n",
        "print(\"\")\n",
        "\n",
        "print_sequence(xtest_unstd.detach(), ypred_unstd.detach(), idx=idx)\n",
        "print_mean_abs_error(xtest_unstd.detach(), ypred_unstd.detach())"
      ],
      "execution_count": null,
      "outputs": [
        {
          "output_type": "stream",
          "text": [
            "\n",
            "Example RNN:\n",
            "\n",
            "Sequence:  -30 + 42 + -40 + -91 + -56 + 94 + -40 + -82 + 29 + 35 + -28 + 93 + 12 + -54 + 27 + -38 + -52 + -65 + -4 + 71 + -25 + 56 + 27 + -60 + -23 + 9 + -56 + -41 + 66 + 12 + 10 + -21 + -16 + 21 + 0 + 23 + 19 + -45 + 84 + 3 + 69 + -44 + 59 + -3 + -69 + 58 + 16 + -85 + 86 + -74\n",
            "Prediction:  -24.405523\n",
            "Ground truth value:  -121.0\n",
            "Absolute error between X[1479] et Y[1479]: 96.59447479248047\n",
            "Absolute mean error between X[:] et Y[:] = 331.1069641113281\n",
            "\n",
            "Example LSTM:\n",
            "\n",
            "Sequence:  -30 + 42 + -40 + -91 + -56 + 94 + -40 + -82 + 29 + 35 + -28 + 93 + 12 + -54 + 27 + -38 + -52 + -65 + -4 + 71 + -25 + 56 + 27 + -60 + -23 + 9 + -56 + -41 + 66 + 12 + 10 + -21 + -16 + 21 + 0 + 23 + 19 + -45 + 84 + 3 + 69 + -44 + 59 + -3 + -69 + 58 + 16 + -85 + 86 + -74\n",
            "Prediction:  -120.51015\n",
            "Ground truth value:  -121.0\n",
            "Absolute error between X[1479] et Y[1479]: 0.4898529052734375\n",
            "Absolute mean error between X[:] et Y[:] = 33.521949768066406\n",
            "\n",
            "Example Transformer:\n",
            "\n",
            "Sequence:  -30 + 42 + -40 + -91 + -56 + 94 + -40 + -82 + 29 + 35 + -28 + 93 + 12 + -54 + 27 + -38 + -52 + -65 + -4 + 71 + -25 + 56 + 27 + -60 + -23 + 9 + -56 + -41 + 66 + 12 + 10 + -21 + -16 + 21 + 0 + 23 + 19 + -45 + 84 + 3 + 69 + -44 + 59 + -3 + -69 + 58 + 16 + -85 + 86 + -74\n",
            "Prediction:  -135.77718\n",
            "Ground truth value:  -121.0\n",
            "Absolute error between X[1479] et Y[1479]: 14.777175903320312\n",
            "Absolute mean error between X[:] et Y[:] = 22.819547653198242\n"
          ],
          "name": "stdout"
        }
      ]
    },
    {
      "cell_type": "markdown",
      "metadata": {
        "id": "tAM5UeILQb5l"
      },
      "source": [
        "**Bonus exercise**\n",
        "\n",
        "* Redo the above analysis but instead of summing the input values try other operations (e.g., product).\n",
        "* Compare the performance of the RNN, LSTM and Transformer for sequences of different length (i.e., change `seq_len`)."
      ]
    },
    {
      "cell_type": "markdown",
      "metadata": {
        "id": "dQZgh_UL38O9"
      },
      "source": [
        "## On sequences of different length\n",
        "\n",
        "In this part of the tutorial, we have focused on a synthetic dataset in which all input sequences have the same length. Unfortunately, this won't always be the case.\n",
        "\n",
        "In and of themselves, the models used in this section (RNN, LSTM, Transformer) are not hardcoded to expect a specific sequence length so they can actually handle variable-sized inputs. This means that training/predicting on a single example and then doing the same on another single example with a different sequence length isn't a problem.\n",
        "\n",
        "The difficulty occurs if we still want to take advantage of the additional computational efficiency that minibatch training offers. In such a scenario, we might end up having examples of different lengths in the same minibatch.\n",
        "\n",
        "In some scenarios, it is sufficient to simply pad all the elements in a minibatch to the length of the longuest sequence. This is the case for the task of summing numbers that we have worked on in this part; we can simply pad sequences with zeroes without changing the meaning of the inputs or changing the appropriate labels. For instance, input sequences :\n",
        "```\n",
        "[1, 2, 3]\n",
        "[4, 5]\n",
        "```\n",
        "could be padded into the following 2x3 minibatch input : \n",
        "```\n",
        "[[1, 2, 3],\n",
        " [4, 5, 0]]\n",
        "```\n",
        "Simple enough!\n",
        "\n",
        "In most scenarios of interest, however, padding is not sufficient. For natural language processing, for instance, padding shorter sentences by adding words to them may change the very meaning of those sequences, changing the prediction that a model would make. In such a setting, we need to use padding but we also use another technique called \"masking\". Masking is a way to make a model (and the training process in general) ignore some of the elements in the inputs.\n",
        "\n",
        "Since this is a bit more involved, it falls outside of the scope of the current tutorial but feel free to look at the following [blog post](https://towardsdatascience.com/taming-lstms-variable-sized-mini-batches-and-why-pytorch-is-good-for-your-health-61d35642972e) for an example of how to do this in PyTorch for an LSTM model.\n",
        "\n",
        "Fortunately, most DL frameworks offer mechanisms to make padding and masking easier. Some, like HuggingFace, can even handle all of the details internally, without any user input. "
      ]
    },
    {
      "cell_type": "markdown",
      "metadata": {
        "id": "L4S8vrvGV-Tp"
      },
      "source": [
        "## Cleaning up GPU memory\n",
        "\n",
        "Before moving on to the next task, run the cell below to delete the three models we have experimented with (and their respective optimizers) to free up the memory that has been allocated on the GPU for them.\n",
        "\n",
        "The K80 GPUs (the standard GPUs on Colab) have a limited amount of memory so it is important to do this clean up step other wise we won't have enough GPU memory for task 2.\n",
        "\n",
        "Alternatively, you could restart the notebook, run only the initialization cell at the very beginning, and then move on directly to task 2."
      ]
    },
    {
      "cell_type": "code",
      "metadata": {
        "colab": {
          "base_uri": "https://localhost:8080/"
        },
        "id": "Hh_8KwQI7NXu",
        "outputId": "bced70e6-a46a-4104-baaf-7d87c08d3fc3"
      },
      "source": [
        "print(torch.cuda.get_device_properties(0))"
      ],
      "execution_count": null,
      "outputs": [
        {
          "output_type": "stream",
          "text": [
            "_CudaDeviceProperties(name='Tesla P100-PCIE-16GB', major=6, minor=0, total_memory=16280MB, multi_processor_count=56)\n"
          ],
          "name": "stdout"
        }
      ]
    },
    {
      "cell_type": "code",
      "metadata": {
        "id": "TC1Bs86EBpjm"
      },
      "source": [
        "# Delete Pytorch models\n",
        "del model_rnn\n",
        "del model_lstm\n",
        "del model_transformer\n",
        "\n",
        "# Delete Pytorch optimizers\n",
        "del optimizer_rnn\n",
        "del optimizer_lstm\n",
        "del optimizer_transformer\n",
        "\n",
        "# Clean up zombie tensors that might still exist\n",
        "gc.collect()\n",
        "\n",
        "# Return now-unused GPU memory to the system\n",
        "torch.cuda.empty_cache()"
      ],
      "execution_count": null,
      "outputs": []
    },
    {
      "cell_type": "markdown",
      "metadata": {
        "id": "VVZJG6WYf-Tj"
      },
      "source": [
        "---\n",
        "# Task 2: HuggingFace Transformer"
      ]
    },
    {
      "cell_type": "markdown",
      "metadata": {
        "id": "DIX9ar1UrSWx"
      },
      "source": [
        "## Objective"
      ]
    },
    {
      "cell_type": "markdown",
      "metadata": {
        "id": "MZyZhK5DsH6D"
      },
      "source": [
        "This section serves as a very quick introduction to the library HuggingFace. Concretely, we will use HuggingFace to:\n",
        "\n",
        "\n",
        "*   Load a pre-trained model.\n",
        "*   Evaluate the model to observe its performance when translating legal (patent) text data from English to French.\n",
        "*   Fine-tune the model on paired English-French data from the legal domain.\n",
        "*   Evaluate the model again to see the effect of the fine-tuning on model performance.\n",
        "\n",
        "In particular, we will use `HuggingFace/Transformers`, which gives us access to many pre-trained language models to fine-tune, and `HuggingFace/Datasets`, which encapsulates many datasets and also implements useful evaluation metrics."
      ]
    },
    {
      "cell_type": "markdown",
      "metadata": {
        "id": "Zsh3Io3KwqTa"
      },
      "source": [
        "## Loading the Transformer model"
      ]
    },
    {
      "cell_type": "markdown",
      "metadata": {
        "id": "bzKaA1o4zJYM"
      },
      "source": [
        "The code below will load a T5-Small model along with the tokenizer which was used to preprocess its input data.\n",
        "\n",
        "This T5-Small model has ~60 millions parameters and was pre-trained on the Colossal Clean Crawled Corpus (C4) dataset, a very large open-source dataset collected through automated web crawling. It was trained on multiple natural language tasks in parallel including translation, evaluating how similar two sentences are with one another, summarizing documents, etc. This training was done in a full text-to-text fashion which means that the model inputs and outputs are always text and that a prefix is added to the inputs to identify the task to be performed.\n",
        "\n",
        "For instance, signaling that a given input sentence should be translated from English to French can be done with the following input structure : \n",
        "\n",
        "\"Translate English to French: [Sentence to translate]\"\n",
        "\n",
        "More details on the T5-Small model can be found in this [blog post](https://ai.googleblog.com/2020/02/exploring-transfer-learning-with-t5.html) and this [ArXiv paper](https://arxiv.org/pdf/1910.10683.pdf).\n",
        "\n",
        "Along with the model, we are also loading the tokenizer associated with the T5-small model. This tokenizer was used to pre-process the inputs given to the model so, if we want to be able to preprocess data into the format expected by the model, we need to use the same tokenizer."
      ]
    },
    {
      "cell_type": "code",
      "metadata": {
        "id": "FnzL12dos_hT",
        "colab": {
          "base_uri": "https://localhost:8080/"
        },
        "outputId": "b98b3b7a-1816-4bdc-a5cf-2315591e6eb8"
      },
      "source": [
        "# Load T5-Small model\n",
        "model = AutoModelWithLMHead.from_pretrained(\"t5-small\")\n",
        "model.to(device)\n",
        "\n",
        "# Load T5-Small model's tokenizer \n",
        "tokenizer = AutoTokenizer.from_pretrained(\"t5-small\")"
      ],
      "execution_count": 10,
      "outputs": [
        {
          "output_type": "stream",
          "text": [
            "/usr/local/lib/python3.7/dist-packages/transformers/modeling_auto.py:837: FutureWarning: The class `AutoModelWithLMHead` is deprecated and will be removed in a future version. Please use `AutoModelForCausalLM` for causal language models, `AutoModelForMaskedLM` for masked language models and `AutoModelForSeq2SeqLM` for encoder-decoder models.\n",
            "  FutureWarning,\n"
          ],
          "name": "stderr"
        }
      ]
    },
    {
      "cell_type": "markdown",
      "metadata": {
        "id": "A5B3k2SusEL7"
      },
      "source": [
        "## Dataset"
      ]
    },
    {
      "cell_type": "markdown",
      "metadata": {
        "id": "k97EJOe7sV3k"
      },
      "source": [
        "In this task, we will be using the Patent Translation Resource (PatTR) dataset.\n",
        "\n",
        "The PatTR dataset contains paired sentences extracted from patents. It contains more than 22 000 000 German-English sentence pairs and 18 000 000 French-English sentence pairs. These sentences include patent titles, abstracts and claims.\n",
        "\n",
        "An important detail is that these paired sentences were obtained by looking at patents that were published in multiple languages and performing automatic sentence alignment between the different versions of a same patent. This means that a few of the paired sentences might not be exact translations of one another.\n",
        "\n",
        "In order to limit the amount of time required to evaluate and fine-tune the model, we will limit ourselves to using only 10 000 paired French-English sentences, extracted from the patents' abstract sections.\n",
        "\n",
        "For more information on the PatTR dataset, please refer to [this web page](https://www.cl.uni-heidelberg.de/statnlpgroup/pattr/#waeschle2012a) or to the  article [Analyzing Parallelism and Domain Similarities in the MAREC Patent Corpus](https://www.cl.uni-heidelberg.de/~riezler/publications/papers/IRF2012.pdf).\n"
      ]
    },
    {
      "cell_type": "markdown",
      "metadata": {
        "id": "V22hRNHmsG8K"
      },
      "source": [
        "### Downloading the dataset\n",
        "\n",
        "The code below will download and decompress the PatTR dataset. It will then take the first 10k paired English-French sentences and put them into two files, one file for the English sentences and one file for the French sentences.\n",
        "\n",
        "**Note:** the PatTR dataset is quite large so expect a few minutes to download and process it.\n"
      ]
    },
    {
      "cell_type": "code",
      "metadata": {
        "id": "nMi1Jp4lsHUL",
        "colab": {
          "base_uri": "https://localhost:8080/"
        },
        "outputId": "f88b6dde-d838-4508-a2a7-d02f67ac8e24"
      },
      "source": [
        "# Download the PatTR dataset\n",
        "! wget http://www.cl.uni-heidelberg.de/statnlpgroup/pattr/en-fr.tar.gz\n",
        "\n",
        "# Extract the files\n",
        "! tar -xf en-fr.tar.gz\n",
        "\n",
        "# Use only the first 10 000 paired sentences taken from patent abstracts\n",
        "! head -10000 en-fr/abstract/pattr.en-fr.abstract.en > dataset_en.txt\n",
        "! head -10000 en-fr/abstract/pattr.en-fr.abstract.fr > dataset_fr.txt\n",
        "\n",
        "! ls -lh"
      ],
      "execution_count": null,
      "outputs": [
        {
          "output_type": "stream",
          "text": [
            "--2021-04-21 10:43:41--  http://www.cl.uni-heidelberg.de/statnlpgroup/pattr/en-fr.tar.gz\n",
            "Resolving www.cl.uni-heidelberg.de (www.cl.uni-heidelberg.de)... 147.142.207.78\n",
            "Connecting to www.cl.uni-heidelberg.de (www.cl.uni-heidelberg.de)|147.142.207.78|:80... connected.\n",
            "HTTP request sent, awaiting response... 301 Moved Permanently\n",
            "Location: https://www.cl.uni-heidelberg.de/statnlpgroup/pattr/en-fr.tar.gz [following]\n",
            "--2021-04-21 10:43:41--  https://www.cl.uni-heidelberg.de/statnlpgroup/pattr/en-fr.tar.gz\n",
            "Connecting to www.cl.uni-heidelberg.de (www.cl.uni-heidelberg.de)|147.142.207.78|:443... connected.\n",
            "HTTP request sent, awaiting response... 200 OK\n",
            "Length: 2474785558 (2.3G) [application/x-gzip]\n",
            "Saving to: ‘en-fr.tar.gz’\n",
            "\n",
            "en-fr.tar.gz        100%[===================>]   2.30G   107MB/s    in 24s     \n",
            "\n",
            "2021-04-21 10:44:06 (98.2 MB/s) - ‘en-fr.tar.gz’ saved [2474785558/2474785558]\n",
            "\n",
            "total 2.4G\n",
            "-rw-r--r-- 1 root  root 2.2M Apr 21 10:46 dataset_en.txt\n",
            "-rw-r--r-- 1 root  root 2.7M Apr 21 10:46 dataset_fr.txt\n",
            "drwxr-xr-x 6 12183 1002 4.0K Dec 13  2013 en-fr\n",
            "-rw-r--r-- 1 root  root 2.4G Jul 26  2019 en-fr.tar.gz\n",
            "drwxr-xr-x 1 root  root 4.0K Apr  7 13:36 sample_data\n"
          ],
          "name": "stdout"
        }
      ]
    },
    {
      "cell_type": "markdown",
      "metadata": {
        "id": "Wgwm0ZoTsHrq"
      },
      "source": [
        "### Loading and splitting the dataset"
      ]
    },
    {
      "cell_type": "markdown",
      "metadata": {
        "id": "98P3wuozrQZt"
      },
      "source": [
        "With the data now on the local filesystem, we can finally load it.\n",
        "\n",
        "Recall that we need to add a prefix to the input sentences in order to inform the model that the task is to translate these English sentences to French.\n",
        "\n",
        "When splitting the data, we only keep 300 sentences for the test set. In general, this is not ideal; we would like a larger dataset in order to be able to evaluate model performance as reliably as possible. However, the BLUE score (the metric we will use to evaluate the model) is quite expensive to compute so we limit the size of the test set for computational reasons.\n",
        "\n"
      ]
    },
    {
      "cell_type": "code",
      "metadata": {
        "id": "CJhxGzfFtln7"
      },
      "source": [
        "# Load the paired english-french sentences\n",
        "with open(\"dataset_en.txt\", \"r\") as f:\n",
        "  Xs = [s.strip() for s in f.readlines()]\n",
        "with open(\"dataset_fr.txt\", \"r\") as f:\n",
        "  Ys = [s.strip() for s in f.readlines()]\n",
        "n_samples = len(Xs)\n",
        "\n",
        "# Add task prefix to inputs.\n",
        "# This is required given we use the T5 model (https://arxiv.org/abs/1910.10683).\n",
        "# In this case, we want to translate from English to French, so we\n",
        "# prepend the following prompt to every input:\n",
        "Xs = [f\"translate English to French: {x}\" for x in Xs]\n",
        "\n",
        "# In practice, what we did was to go from:\n",
        "# \"text about important stuff\"\n",
        "# to\n",
        "# \"translate English to French: text about important stuff\"\n",
        "\n",
        "# Split the data into training, validation and test sets\n",
        "train_val_index = round(0.90*n_samples)\n",
        "val_test_index = round(0.97*n_samples)\n",
        "\n",
        "xtrain, ytrain = Xs[:train_val_index], Ys[:train_val_index]\n",
        "xvalid, yvalid = Xs[train_val_index:val_test_index], Ys[train_val_index:val_test_index]\n",
        "xtest, ytest = Xs[val_test_index:], Ys[val_test_index:]"
      ],
      "execution_count": null,
      "outputs": []
    },
    {
      "cell_type": "markdown",
      "metadata": {
        "id": "SL7-gEauFm-m"
      },
      "source": [
        "#### Nouvelle tâche"
      ]
    },
    {
      "cell_type": "code",
      "metadata": {
        "colab": {
          "base_uri": "https://localhost:8080/"
        },
        "id": "wcN--AtFGlQ9",
        "outputId": "fcb08a32-6fc5-4b72-8f5b-7060384e5f83"
      },
      "source": [
        "def generate_data_new_task(n_seq, xmin=-100, xmax=100):\n",
        "    \"\"\"Generate list X and Y within the [xmin, xmax] interval.\n",
        "    \n",
        "    Args : \n",
        "      n_seq: size of sequence to generate\n",
        "      xmin: minimum possible value in the sequence\n",
        "      xmax: maximum possible value in the sequence\n",
        "    \n",
        "    Returns: n_samples sequence of numbers X and associated targets Y \n",
        "    \"\"\"\n",
        "    size = np.random.randint(low=2, high=n_seq+1,size=1)\n",
        "    X = np.random.randint(low=xmin, high=xmax+1,size=size)\n",
        "    Y = np.sum(X)\n",
        "    \n",
        "    Xtext = str(X[0])\n",
        "    for x in X[1:]:\n",
        "      Xtext = Xtext + \" + \" + str(x)\n",
        "\n",
        "    Ytext = str(Y)\n",
        "\n",
        "    return Xtext, Ytext\n",
        "\n",
        "Xs,Ys = generate_data_new_task(20,-100,100)\n",
        "print(Xs)\n",
        "print(Ys)"
      ],
      "execution_count": 11,
      "outputs": [
        {
          "output_type": "stream",
          "text": [
            "79 + -8 + -86 + 6 + -29 + 88 + -80 + 2\n",
            "-28\n"
          ],
          "name": "stdout"
        }
      ]
    },
    {
      "cell_type": "code",
      "metadata": {
        "id": "i1hbMVJaFll6"
      },
      "source": [
        "# Load the paired question - reponse\n",
        "n_samples = 20000\n",
        "\n",
        "Xs = []\n",
        "Ys = []\n",
        "\n",
        "for i in range(n_samples):\n",
        "  x,y = generate_data_new_task(20,-100,100)\n",
        "  Xs = Xs + [x]\n",
        "  Ys = Ys + [y]\n",
        "\n",
        "n_samples = len(Xs)\n",
        "\n",
        "# Add task prefix to inputs.\n",
        "# prepend the following prompt to every input:\n",
        "Xs = [f\"question: {x}\" for x in Xs]\n",
        "\n",
        "# Split the data into training, validation and test sets\n",
        "train_val_index = round(0.8*n_samples)\n",
        "val_test_index = round(0.9*n_samples)\n",
        "\n",
        "xtrain, ytrain = Xs[:train_val_index], Ys[:train_val_index]\n",
        "xvalid, yvalid = Xs[train_val_index:val_test_index], Ys[train_val_index:val_test_index]\n",
        "xtest, ytest = Xs[val_test_index:], Ys[val_test_index:]"
      ],
      "execution_count": 12,
      "outputs": []
    },
    {
      "cell_type": "code",
      "metadata": {
        "id": "XC5oSZC6N-WY"
      },
      "source": [
        "print(xtrain)\n",
        "print(xtest)"
      ],
      "execution_count": null,
      "outputs": []
    },
    {
      "cell_type": "code",
      "metadata": {
        "colab": {
          "base_uri": "https://localhost:8080/"
        },
        "id": "hSLNfjUS8hqw",
        "outputId": "1d2b8918-3e5c-42bd-db3a-a45d04b42b27"
      },
      "source": [
        "def traduction_automatique(model, tokenizer,x):\n",
        "        # Encode the inputs for the model\n",
        "        input_ids = tokenizer.encode(x, return_tensors=\"pt\").to(device)\n",
        "\n",
        "        # Obtain the model's prediction\n",
        "        y_hat = model.generate(input_ids=input_ids, max_length=500)\n",
        "        y_hat = np.array(y_hat[0].data.cpu())\n",
        "        y_hat = tokenizer.decode(y_hat)\n",
        "\n",
        "        print(f\"  Input: {x}\")\n",
        "        print(f\"  Prediction: {y_hat}\")\n",
        "\n",
        "phrase_a_traduire = \"I eat a tasty Apple but I would prefer an Orange.\"\n",
        "phrase_a_traduire = f\"translate English to French: {phrase_a_traduire}\"\n",
        "traduction_automatique(model, tokenizer, phrase_a_traduire)\n",
        "\n",
        "phrase_a_traduire = \"I eat a tasty Apple but I would prefer an Orange.\"\n",
        "phrase_a_traduire = f\"translate English to German: {phrase_a_traduire}\"\n",
        "traduction_automatique(model, tokenizer, phrase_a_traduire)\n",
        "\n",
        "phrase_a_traduire = \"I eat a tasty Apple but I would prefer an Orange.\"\n",
        "phrase_a_traduire = f\"translate English to Romanian: {phrase_a_traduire}\"\n",
        "traduction_automatique(model, tokenizer, phrase_a_traduire)\n",
        "\n",
        "phrase_a_traduire = \"I eat a tasty Apple but I would love eat an Orange.\"\n",
        "phrase_a_traduire = f\"SST-2 sentence: {phrase_a_traduire}\"\n",
        "traduction_automatique(model, tokenizer, phrase_a_traduire)\n",
        "\n",
        "index = int(np.random.randint(1,len(Ys),1))\n",
        "phrase_a_traduire = Xs[index]\n",
        "traduction_automatique(model, tokenizer, phrase_a_traduire)\n",
        "print(Ys[index])"
      ],
      "execution_count": 23,
      "outputs": [
        {
          "output_type": "stream",
          "text": [
            "  Input: translate English to French: I eat a tasty Apple but I would prefer an Orange.\n",
            "  Prediction: Je m'alimente une pomme savoureuse mais je préfère une orange.\n",
            "  Input: translate English to German: I eat a tasty Apple but I would prefer an Orange.\n",
            "  Prediction: Ich essen einen schmackhaften Apfel, aber ich würde lieber ein Orange.\n",
            "  Input: translate English to Romanian: I eat a tasty Apple but I would prefer an Orange.\n",
            "  Prediction: M-am mâncat cu un mac gustos, dar aş prefera o portocalie.\n",
            "  Input: SST-2 sentence: I eat a tasty Apple but I would love eat an Orange.\n",
            "  Prediction: positive\n",
            "  Input: question: 60 + 96 + -81 + 50 + -64 + 73 + -74 + -38 + 31 + -43\n",
            "  Prediction: -31\n",
            "10\n"
          ],
          "name": "stdout"
        }
      ]
    },
    {
      "cell_type": "markdown",
      "metadata": {
        "id": "aYWmvpPdou1D"
      },
      "source": [
        "## Evaluating the pre-trained model"
      ]
    },
    {
      "cell_type": "markdown",
      "metadata": {
        "id": "VHirI5UoAioT"
      },
      "source": [
        "### The BLEU Score\n",
        "\n",
        "BLEU (Bilingual Evaluation Understudy) is the most widely used metric for evaluating machine translation models, so that's what we will be using here. BLEU is based on N-grams.\n",
        "\n",
        "Word N-grams are simply sequences of N words. For instance, the text \"the house is red\" would have : \n",
        "- 4x 1-grams (or \"unigram\") : \"the\", \"house\", \"is\", and \"red\"\n",
        "- 3x 2-grams (or \"bigrams\") : \"the house\", \"house is\" and \"is red\"\n",
        "- 2x 3-grams (or \"trigrams\") : \"the house is\" and \"house is red\"\n",
        "- 1x 4-gram : \"the house is red\"\n",
        "\n",
        "BLEU scores compare the word N-grams in a proposed translation with those in one or more reference translations. The greater the similarity between these two groups of N-grams, the greater the BLEU score. BLEU scores range from 0 (no similarity at all) to 100 (perfect match).\n",
        "\n",
        "BLEU is actually a parametrized metric which means that it defines a number of parameters which control its behavior. Because the parameters have a strong influence on the BLEU scores themselves, it is important to take them into account when comparing between two models. Two BLEU scores are not comparable to one another if they haven't been computed with the same parameter values.\n",
        "\n",
        "For this reason, we will make use of SacreBLEU ([github repository](https://github.com/mjpost/sacreBLEU), [article](https://www.aclweb.org/anthology/W18-6319.pdf)), a reference BLEU implementation with standardized values for the parameters.\n"
      ]
    },
    {
      "cell_type": "markdown",
      "metadata": {
        "id": "mX3VqA4xB47y"
      },
      "source": [
        "### Exercise : Getting a sense of what BLEU scores mean\n",
        "\n",
        "Evaluating DL models by looking at each individual test prediction is difficult and takes a lot of time. This is why we prefer to use performance metrics. These metrics, like the BLEU score, abstract away all the little details and distill the model's performance into a single number. We then use this number to compare models, to evaluate progress and to make decisions about how to try and improve results.\n",
        "\n",
        "Because we rely so heavily on these metrics, it is important for us to have a good sense of what these performance numbers actually mean in practice. Are there certain types of errors that the model could make that the metric will be blind to? Does the metric pay more attention to certain types of errors than to other types of errors?\n",
        "\n",
        "The cell below defines a short helper function to compute the BLEU score of a prediction string compared to a reference string."
      ]
    },
    {
      "cell_type": "code",
      "metadata": {
        "id": "w7v_2HSVDH5g"
      },
      "source": [
        "def get_bleu(prediction, reference):\n",
        "  metric = datasets.load_metric('sacrebleu')\n",
        "  metric_output = metric.compute(predictions=[prediction], references=[[reference]])\n",
        "  return metric_output['score']"
      ],
      "execution_count": null,
      "outputs": []
    },
    {
      "cell_type": "markdown",
      "metadata": {
        "id": "RI9JYSWlDmji"
      },
      "source": [
        "Before moving on to evaluating the pre-trained model, take the time to play with this function to get a sense of what BLEU scores mean in practice. Recall that the BLEU score is computed on words n-grams which means that both the individual words **and** their orderings are important.\n",
        "\n",
        "The following scenarios are implemented as examples : \n",
        "- Prediction is an empty string\n",
        "- Prediction is equal to the reference\n",
        "- Prediction is a sentence with no words in common with the reference\n",
        "\n",
        "Make sure to try out at least the following things : \n",
        "- Prediction contains a few words of the reference, but the ordering is wrong (try including various amounts of words from the reference into the prediction. for instance, 10%, 30%, 50%, 70%, 100%)\n",
        "- Prediction is equal to the first X words in the reference (try with different values of X)\n",
        "- Prediction contains additional words not found in the reference (try this with various numbers of additional words)\n",
        "- Prediction is equal to the reference, but with a few words randomly replaced by other words (try with different amounts of replacements)"
      ]
    },
    {
      "cell_type": "code",
      "metadata": {
        "id": "4bADN-96DhkB",
        "colab": {
          "base_uri": "https://localhost:8080/"
        },
        "outputId": "43e19467-62b4-4c48-bec9-7943c4695091"
      },
      "source": [
        "# Empty prediction\n",
        "prediction = \"\"\n",
        "reference = \"This is a pretty simple reference sentence for testing purposes\"\n",
        "print(get_bleu(prediction, reference))"
      ],
      "execution_count": null,
      "outputs": [
        {
          "output_type": "stream",
          "text": [
            "0.0\n"
          ],
          "name": "stdout"
        }
      ]
    },
    {
      "cell_type": "code",
      "metadata": {
        "id": "-kTka0tHJm7a",
        "colab": {
          "base_uri": "https://localhost:8080/"
        },
        "outputId": "193cfbbd-5308-4221-d3eb-bb3dd3dc1db3"
      },
      "source": [
        "# Prediction and reference are identical\n",
        "prediction = \"This is a pretty simple reference sentence for testing purposes\"\n",
        "reference = \"This is a pretty simple reference sentence for testing purposes\"\n",
        "print(get_bleu(prediction, reference))"
      ],
      "execution_count": null,
      "outputs": [
        {
          "output_type": "stream",
          "text": [
            "100.00000000000004\n"
          ],
          "name": "stdout"
        }
      ]
    },
    {
      "cell_type": "markdown",
      "metadata": {
        "id": "cM36muDRKy39"
      },
      "source": [
        "The following example results in a non-zero BLEU score. This is because the SacreBLEU implementation applies some smoothing on the n-gram counts before computing the BLEU score. This means that you may see  small non-zero (~3 or less) BLEU scores even in some cases where the prediction and reference have no words in common."
      ]
    },
    {
      "cell_type": "code",
      "metadata": {
        "id": "IzO_FSbBIqR3",
        "colab": {
          "base_uri": "https://localhost:8080/"
        },
        "outputId": "32bc4b47-6797-49bc-b54f-1e4c5fab25d6"
      },
      "source": [
        "# No words in common between prediction and reference\n",
        "prediction = \"Banana orange blueberry watermelon\"\n",
        "reference = \"This is a pretty simple reference sentence for testing purposes\"\n",
        "print(get_bleu(prediction, reference))"
      ],
      "execution_count": null,
      "outputs": [
        {
          "output_type": "stream",
          "text": [
            "1.7820934647025712\n"
          ],
          "name": "stdout"
        }
      ]
    },
    {
      "cell_type": "markdown",
      "metadata": {
        "id": "mkDrUWxFXLU7"
      },
      "source": [
        "**Very important note**: Keep in mind that we will be evaluating our model on the task of translating English sentences to the French language. For many input sentences, there will most likely be more than one valid translation. However, in the dataset that we are using, there is only one provided translation for each input sentence.\n",
        "\n",
        "This means that, in practice, even a perfect translation model will most likely not obtain a perfect BLEU score; this model could come up with a valid translation that differs slightly from the dataset's reference translation and be penalized by the BLEU score.\n",
        "\n",
        "Take note of the example below in which both prediction and reference have the same meaning, but the use of synonyms leads to a penalty in the BLEU score. This is one of the limits of using BLEU scores for machine translation. It doesn't mean that we shouldn't use BLEU scores (they are still the best option we have at the moment), but we should still be aware of this limitation whenever we use them."
      ]
    },
    {
      "cell_type": "code",
      "metadata": {
        "id": "JPFF8u7lO3Yh",
        "colab": {
          "base_uri": "https://localhost:8080/"
        },
        "outputId": "b6238ac5-fb1f-4f30-cb8b-608625dc4237"
      },
      "source": [
        "# Prediction has same meaning as the reference but three words are different\n",
        "prediction = \"This is a rather elementary reference sentence for evaluation purposes\"\n",
        "reference = \"This is a pretty simple reference sentence for testing purposes\"\n",
        "print(get_bleu(prediction, reference))"
      ],
      "execution_count": null,
      "outputs": [
        {
          "output_type": "stream",
          "text": [
            "27.301208627090666\n"
          ],
          "name": "stdout"
        }
      ]
    },
    {
      "cell_type": "markdown",
      "metadata": {
        "id": "r2R16ZkzAm7F"
      },
      "source": [
        "### Computing the model's BLEU Score"
      ]
    },
    {
      "cell_type": "markdown",
      "metadata": {
        "id": "NZWsQYQKe1hy"
      },
      "source": [
        "In the cell below, we define a function to evaluate the BLEU score of a model on a given set of data. We will be using this function to evaluate how the model does out of the box and we will also be reusing this function later, after the fine-tuning, in order to determine what impact, if any, the fine-tuning had.\n",
        "\n",
        "The two important sub-parts of this function are the following : \n",
        "\n",
        "**Obtain the model's predictions**\n",
        "\n",
        "We use the model's tokenizer to preprocess the inputs into the format expected by the model. In order to ensure that the prediction happens on the GPU, we request the results to be in the form of Pytorch tensors and move them to the GPU (as in task #1).\n",
        "\n",
        "Getting the model's prediction is done simply through the `generate()` function. One point of interest is that the default behavior of the generate function is to generate only a small bit of text at a time. Since the sentences in our dataset are quite long, we need to set a high `max_length` to ensure the model can actually generate the translations that we expect it to.\n",
        "\n",
        "The model predictions come back in the same format as we provided the inputs: as Pytorch tensors. As usual, we recover the data back into a numpy array and use the tokenizer to go back from tokens to text.\n",
        "\n",
        "**Computing the BLEU score**\n",
        "\n",
        "We rely on `HuggingFace/Datasets` to compute the BLEU score. The framework implements and/or encapsulates the implementations of various metrics so we take advantage of it to simplify our implementation. Specifically, we use  SacreBLEU, a standardized implementation of the BLEU metric.\n",
        "\n",
        "Using a HuggingFace [metric](https://huggingface.co/docs/datasets/master/using_metrics.html) is quite simple. We accumulate the model predictions and labels inside the metric object using the [`add()`](https://huggingface.co/docs/datasets/master/package_reference/main_classes.html#datasets.Metric.add) function (to add one prediction at a time) or the [`add_batch()`](https://huggingface.co/docs/datasets/master/package_reference/main_classes.html#datasets.Metric.add_batch) function (to add multiple predictions at a time). Once all the results have been accumulated, we call `compute()` to obtain the final result.\n",
        "\n",
        "The exact format of the prediction and reference arguments depend on the individual metric. Each metric may expect a different format. For instance, the SacreBLEU metric allows multiple valid labels for each so it expects the reference for any example to be a list of strings (instead of single string). In general, you can get a description of the expected input format for any metric by simply calling the standard Python `print()` function on the metric object itself and/or its `inputs_descriptions` property."
      ]
    },
    {
      "cell_type": "code",
      "metadata": {
        "id": "Cf5xAxlSTWvR"
      },
      "source": [
        "# Define an evaluation function to obtain the BLEU score for a model\n",
        "def evaluate_model_bleu(model, tokenizer, xtest, ytest, metric_name='sacrebleu'):\n",
        "\n",
        "    #metric = datasets.load_metric('sacrebleu')\n",
        "    metric = datasets.load_metric(metric_name)\n",
        "    y_hat_all = []\n",
        "\n",
        "    for i, (x, y) in enumerate(zip(xtest, ytest)):\n",
        "\n",
        "        # Encode the inputs for the model\n",
        "        input_ids = tokenizer.encode(x, return_tensors=\"pt\").to(device)\n",
        "\n",
        "        # Obtain the model's prediction\n",
        "        y_hat = model.generate(input_ids=input_ids, max_length=500)\n",
        "        y_hat = np.array(y_hat[0].data.cpu())\n",
        "        y_hat = tokenizer.decode(y_hat)\n",
        "\n",
        "        y_hat_all = y_hat_all + [y_hat]\n",
        "\n",
        "        # Add example to metric computation (sacrebleu expects a list of references)\n",
        "        metric.add(prediction=y_hat, reference=[y])\n",
        "\n",
        "        if i < 5:\n",
        "            print(f\"Example {i}\")\n",
        "            print(f\"  Input: {x}\")\n",
        "            print(f\"  Prediction: {y_hat}\")\n",
        "            print(f\"  Label: {y}\")\n",
        "    \n",
        "    return metric.compute()[\"score\"], y_hat_all"
      ],
      "execution_count": 24,
      "outputs": []
    },
    {
      "cell_type": "code",
      "metadata": {
        "id": "lFl9O-DVDv8R"
      },
      "source": [
        "bleu_score, y_hat_all = evaluate_model_bleu(model, tokenizer, xtest, ytest)\n",
        "print(f\"Test BLEU score : {bleu_score}\")"
      ],
      "execution_count": null,
      "outputs": []
    },
    {
      "cell_type": "markdown",
      "metadata": {
        "id": "XG2ZJBC4hqac"
      },
      "source": [
        "As we can see, the pre-trained model is actually quite good. It produces very reasonable attempts at translations and its BLEU score is very good. However, the model isn't perfect so it does make a few mistakes. For instance : \n",
        "*   In example 2, \"input node\" has been translated to \"n ?? ud d'entrée\" when the correct translation would be \"noeud d'entrée\". The model failed to output all the letters in the word \"noeud\".\n",
        "*   In example 2 again, \"output node\" has been wrongly translated to \"n ?? ud d'entrée\" again. This is both another example of the model failing to correctly generate the word \"noeud\" and an example of the model failing to properly translate \"output node\". \n",
        "*   In example 3, a list of four items (\"41.2, 41.3, 41.4, 41.5\") gets mistakenly truncated as the model only outputs two of these elements in its own translation.\n",
        "\n",
        "We will revisit these examples after the fine-tuning to see if the model has improved.\n",
        "\n"
      ]
    },
    {
      "cell_type": "markdown",
      "metadata": {
        "id": "W0yTccajLERQ"
      },
      "source": [
        "## Finetuning the model"
      ]
    },
    {
      "cell_type": "markdown",
      "metadata": {
        "id": "tJOu8LzgEh0M"
      },
      "source": [
        "*Before starting: the next code cell takes around 12 minutes to run. Feel free to start its execution before coming back to read this part.*\n",
        "\n",
        "--\n",
        "\n",
        "Training a model in the HuggingFace framework can be done in various ways, but the simplest is through a [`transformers.Trainer`](https://huggingface.co/transformers/master/main_classes/trainer.html) object. It is very easy to use. In our fine-tuning scenario, we need to provide it at least 4 things : \n",
        "1. The model to train\n",
        "2. An instance of the class [`transformers.TrainingArguments`](https://huggingface.co/transformers/master/main_classes/trainer.html#trainingarguments).\n",
        "3.   A training set\n",
        "4.   A validation set\n",
        "\n",
        "The instance of `TrainingArguments` contains many of the parameters that control how the model should be trained (learning rate, weight decay, batch size, number of epochs for training, when and how to monitor validation performance, etc.). If there is a training parameter to be set, if will generally either be an argument during the initialization of the `TrainingArguments` object or an argument during the initialization of the `Trainer` object.\n",
        "\n",
        "The training and validation sets should be either Pytorch datasets or HuggingFace datasets. For simplicity, we use the HuggingFace datasets in this tutorial. We simply use the model tokenizer to preprocess the data in the format expected by the model (the process returns a dictionary) and wrap the result in a [`datasets.Dataset`](https://huggingface.co/docs/datasets/master/package_reference/main_classes.html#dataset) instance with the [`from_dict()`](https://huggingface.co/docs/datasets/master/package_reference/main_classes.html#datasets.Dataset.from_dict) function.\n",
        "\n",
        "**Note:** for the purpose of limiting the amount of time and computational resources required for this tutorial, we limit the number of training epochs to 1. Feel free to repeat the exercise on your own time and changing the number of epochs to see how additional fine-tuning impacts the model's performance.\n",
        "\n",
        "\n",
        "\n",
        "\n"
      ]
    },
    {
      "cell_type": "code",
      "metadata": {
        "id": "oqYEzslfuK8Y",
        "colab": {
          "base_uri": "https://localhost:8080/",
          "height": 225
        },
        "outputId": "0f5402ef-eec6-4dbf-94eb-27dc2ae9e35e"
      },
      "source": [
        "# Format the training and validation data using the model's tokenizer\n",
        "train_encodings = tokenizer.prepare_seq2seq_batch(src_texts=xtrain, tgt_texts=ytrain)\n",
        "valid_encodings = tokenizer.prepare_seq2seq_batch(src_texts=xvalid, tgt_texts=yvalid)\n",
        "train_set = datasets.Dataset.from_dict(train_encodings)\n",
        "valid_set = datasets.Dataset.from_dict(valid_encodings)\n",
        "\n",
        "# ATTENTION!\n",
        "# t5-small (even if \"small\") is a big model to train.\n",
        "# In colab, you will get a random GPU model.\n",
        "# If the GPU model has not enough memory, training will fail.\n",
        "# Let's check how much GPU memory we have:\n",
        "gpu_mem_in_gb = torch.cuda.get_device_properties(0).total_memory * 1e-9\n",
        "print('The GPU memory is {:.2f} GB'.format(gpu_mem_in_gb))\n",
        "\n",
        "# In case training fails, try to lower the batch size an run again.\n",
        "# (of course, that means you will wait longer)\n",
        "# For example:\n",
        "batch_size = 8 # You should be able to afford this with 16GB (sometimes 12GB)\n",
        "               # of GPU memory.\n",
        "# batch_size = 4 # You should be able to afford this with 12GB of GPU memory.\n",
        "# if you still get CUDA out of memory, try a batch_size < 4.\n",
        "\n",
        "# Freeing as much memory as possible:\n",
        "gc.collect()\n",
        "torch.cuda.empty_cache()\n",
        "\n",
        "# Instantiate the HuggingFace Trainer object\n",
        "training_args = TrainingArguments(output_dir=\"t5_output\",\n",
        "                                  evaluation_strategy=\"epoch\",\n",
        "                                  num_train_epochs=2,\n",
        "                                  per_device_train_batch_size=batch_size,\n",
        "                                  per_device_eval_batch_size=batch_size,\n",
        "                                  seed=42)\n",
        "trainer = Trainer(model=model,\n",
        "                  args=training_args,\n",
        "                  train_dataset=train_set,\n",
        "                  eval_dataset=valid_set)\n",
        "\n",
        "# Train the model\n",
        "trainer.train()"
      ],
      "execution_count": 14,
      "outputs": [
        {
          "output_type": "stream",
          "text": [
            "/usr/local/lib/python3.7/dist-packages/transformers/tokenization_utils_base.py:1423: FutureWarning: The `max_len` attribute has been deprecated and will be removed in a future version, use `model_max_length` instead.\n",
            "  FutureWarning,\n"
          ],
          "name": "stderr"
        },
        {
          "output_type": "stream",
          "text": [
            "The GPU memory is 17.07 GB\n"
          ],
          "name": "stdout"
        },
        {
          "output_type": "display_data",
          "data": {
            "text/html": [
              "\n",
              "    <div>\n",
              "        <style>\n",
              "            /* Turns off some styling */\n",
              "            progress {\n",
              "                /* gets rid of default border in Firefox and Opera. */\n",
              "                border: none;\n",
              "                /* Needs to be in here for Safari polyfill so background images work as expected. */\n",
              "                background-size: auto;\n",
              "            }\n",
              "        </style>\n",
              "      \n",
              "      <progress value='4000' max='4000' style='width:300px; height:20px; vertical-align: middle;'></progress>\n",
              "      [4000/4000 05:11, Epoch 2/2]\n",
              "    </div>\n",
              "    <table border=\"1\" class=\"dataframe\">\n",
              "  <thead>\n",
              "    <tr style=\"text-align: left;\">\n",
              "      <th>Epoch</th>\n",
              "      <th>Training Loss</th>\n",
              "      <th>Validation Loss</th>\n",
              "    </tr>\n",
              "  </thead>\n",
              "  <tbody>\n",
              "    <tr>\n",
              "      <td>1</td>\n",
              "      <td>1.557495</td>\n",
              "      <td>1.463737</td>\n",
              "    </tr>\n",
              "    <tr>\n",
              "      <td>2</td>\n",
              "      <td>1.481373</td>\n",
              "      <td>1.411175</td>\n",
              "    </tr>\n",
              "  </tbody>\n",
              "</table><p>"
            ],
            "text/plain": [
              "<IPython.core.display.HTML object>"
            ]
          },
          "metadata": {
            "tags": []
          }
        },
        {
          "output_type": "execute_result",
          "data": {
            "text/plain": [
              "TrainOutput(global_step=4000, training_loss=1.60721923828125)"
            ]
          },
          "metadata": {
            "tags": []
          },
          "execution_count": 14
        }
      ]
    },
    {
      "cell_type": "markdown",
      "metadata": {
        "id": "ngEaA0g3ng6h"
      },
      "source": [
        "## Validating the performance of the finetuned model"
      ]
    },
    {
      "cell_type": "markdown",
      "metadata": {
        "id": "VHRb0zMxU-jR"
      },
      "source": [
        "Now that the model has been fine-tuned on the data, we simply call our evaluation function again to see the results.\n",
        "\n",
        "While the function is running to compute the BLEU score, take the opportunity to compare the predictions of the fine-tuned model with the predictions before the fine-tuning. Specifically, look at the errors that we have previously identified. How many of these errors is the model still making? Have some of them been fixed? Did the BLEU score improve with fine-tuning?\n",
        "\n",
        "**Note:** Even though we fixed the random seed during training, the use of a GPU during training adds some stochasticity to the results so your results may not be the same each time. When writing this tutorial, the fine-tuning was able to increase the BLEU score from ~33.3 to ~37.1 (a very good improvement given the limits of our metric on a translation task) a fix a few predictions errors such as:\n",
        "- Correctly translating \"node\" to \"noeud\" instead of \"n ?? ed\"\n",
        "- Keeping all the elements in the list \"(41.2, 41.3, 41.4, 41.5)\" instead of forgetting about two of them.\n"
      ]
    },
    {
      "cell_type": "code",
      "metadata": {
        "id": "eu-xoDZvnh8p",
        "colab": {
          "base_uri": "https://localhost:8080/"
        },
        "outputId": "ebf86ed8-3a8c-47a7-d8a6-47c7bfcd3b35"
      },
      "source": [
        "bleu_score, y_hat_all = evaluate_model_bleu(model, tokenizer, xtest, ytest, 'sacrebleu')\n",
        "print(f\"Test score : {bleu_score}\")"
      ],
      "execution_count": 35,
      "outputs": [
        {
          "output_type": "stream",
          "text": [
            "Example 0\n",
            "  Input: question: -29 + 6 + -96\n",
            "  Prediction: -113\n",
            "  Label: -119\n",
            "Example 1\n",
            "  Input: question: -81 + 61 + -81 + -31 + 57 + 90 + -44 + -42 + 13 + -87 + 1 + 23 + -16 + -72 + 78 + 0\n",
            "  Prediction: -113\n",
            "  Label: -131\n",
            "Example 2\n",
            "  Input: question: -7 + 61 + -11 + 65 + -19 + 60 + -28 + 21\n",
            "  Prediction: 61\n",
            "  Label: 142\n",
            "Example 3\n",
            "  Input: question: 76 + 33 + -10 + 57 + -61 + 27 + -79 + -94 + 54 + -96 + 99 + 78 + 97 + 84 + 17 + 12 + -68 + 57 + 83 + 36\n",
            "  Prediction: 232\n",
            "  Label: 402\n",
            "Example 4\n",
            "  Input: question: 39 + 51\n",
            "  Prediction: 57\n",
            "  Label: 90\n",
            "Test score : 0.0\n"
          ],
          "name": "stdout"
        }
      ]
    },
    {
      "cell_type": "code",
      "metadata": {
        "colab": {
          "base_uri": "https://localhost:8080/",
          "height": 283
        },
        "id": "eNt9KT9rU4a-",
        "outputId": "373fee3b-b849-4fe5-ac98-3b226fa3ab41"
      },
      "source": [
        "y_hat_all_int = []\n",
        "ytest_int = []\n",
        "\n",
        "j=0\n",
        "for y_hat_i in y_hat_all:\n",
        "  if y_hat_i != '-':\n",
        "    y_hat_all_int.append(int(y_hat_i))\n",
        "    ytest_int.append(int(ytest[j]))\n",
        "  j = j + 1\n",
        "\n",
        "y1 = np.array(y_hat_all_int)\n",
        "y2 = np.array(ytest_int)\n",
        "\n",
        "idx = y2 != 0\n",
        "y1 = y1[idx]\n",
        "y2 = y2[idx]\n",
        "\n",
        "diff = np.abs((y1-y2)/y2)\n",
        "print(f\"mean relative error between predictions and labels = {np.mean(diff)}\")\n",
        "_ = plt.hist(diff,bins=100,density=True,)"
      ],
      "execution_count": 89,
      "outputs": [
        {
          "output_type": "stream",
          "text": [
            "mean relative error between predictions and labels = 1.0407524684755407\n"
          ],
          "name": "stdout"
        },
        {
          "output_type": "display_data",
          "data": {
            "image/png": "[encoded data removed]",
            "text/plain": [
              "<Figure size 432x288 with 1 Axes>"
            ]
          },
          "metadata": {
            "tags": [],
            "needs_background": "light"
          }
        }
      ]
    },
    {
      "cell_type": "markdown",
      "metadata": {
        "id": "1WEK9hyE4vaV"
      },
      "source": [
        "## Conclusion"
      ]
    },
    {
      "cell_type": "markdown",
      "metadata": {
        "id": "bzs76YJl4xAj"
      },
      "source": [
        "Hopefully, this second task has succeeded in demonstrating the value of pre-training and fine-tuning for text models, as well as using this simple use case as an introduction to the HuggingFace framework.\n",
        "\n",
        "The pre-trained T5-small model, without any fine-tuning, was able to generate very good translations of highly domain-specific text data. In many scenarios, the translations generated by this model, though inexact, could have been used as-is.\n",
        "\n",
        "In an effort to improve the results on our new dataset, we used part of the data to fine-tune the model which improved the results even more. Keep in mind, also, that we have severely limited the fine-tuning out of concern for execution time.\n",
        "- We used only 9000 training sentences out of the millions of sentences that the dataset contains.\n",
        "- We limited training time to a single epoch instead of training as long as the validation performance was improving.\n",
        "- We used the default hyper-parameters (learning rate, etc.) and made no attempt to tune them.\n",
        "\n",
        "This highlights the fact that fine-tuning could likely have improved performance a lot more if we had devoted more resources to it. Nonetheless, we were able to improve model performance quite a bit, proving that fine-tuning can be very useful even when very little data is available."
      ]
    },
    {
      "cell_type": "markdown",
      "metadata": {
        "id": "e3UR76DFpWqC"
      },
      "source": [
        "## References"
      ]
    },
    {
      "cell_type": "markdown",
      "metadata": {
        "id": "apajApWcpZII"
      },
      "source": [
        "**PatTR dataset :** Wäschle, Katharina, and Stefan Riezler. \"Analyzing parallelism and domain similarities in the MAREC patent corpus.\" Information Retrieval Facility Conference. Springer, Berlin, Heidelberg, 2012. https://www.cl.uni-heidelberg.de/~riezler/publications/papers/IRF2012.pdf\n",
        "\n",
        "**SacreBLEU :** Post, Matt. \"A call for clarity in reporting BLEU scores.\" arXiv preprint arXiv:1804.08771 (2018). https://arxiv.org/abs/1804.08771\n",
        "\n",
        "**HuggingFace :** https://huggingface.co/\n",
        "\n",
        "**HuggingFace Transformers :** Wolf, Thomas, et al. \"HuggingFace's Transformers: State-of-the-art Natural Language Processing.\" ArXiv (2019): arXiv-1910. https://arxiv.org/abs/1910.03771"
      ]
    }
  ]
}